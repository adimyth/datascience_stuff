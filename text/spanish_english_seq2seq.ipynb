{
  "nbformat": 4,
  "nbformat_minor": 0,
  "metadata": {
    "colab": {
      "name": "spanish-english-seq2seq",
      "provenance": [],
      "collapsed_sections": [],
      "toc_visible": true,
      "machine_shape": "hm",
      "authorship_tag": "ABX9TyONBcdyNJYQDr/0PLLSc0nH",
      "include_colab_link": true
    },
    "kernelspec": {
      "name": "python3",
      "display_name": "Python 3"
    },
    "accelerator": "GPU"
  },
  "cells": [
    {
      "cell_type": "markdown",
      "metadata": {
        "id": "view-in-github",
        "colab_type": "text"
      },
      "source": [
        "<a href=\"https://colab.research.google.com/github/adimyth/interesting_stuff/blob/master/text/spanish_english_seq2seq.ipynb\" target=\"_parent\"><img src=\"https://colab.research.google.com/assets/colab-badge.svg\" alt=\"Open In Colab\"/></a>"
      ]
    },
    {
      "cell_type": "markdown",
      "metadata": {
        "id": "78OcyDwKFo6z",
        "colab_type": "text"
      },
      "source": [
        "# Word Level Seq2Seq Model\n",
        "\n",
        "Shamelessly, copied from [here](https://github.com/hlamba28/Word-Level-Eng-Mar-NMT/blob/master/WordLevelEngMarNMT.ipynb)"
      ]
    },
    {
      "cell_type": "markdown",
      "metadata": {
        "id": "8mU-lZlObN-F",
        "colab_type": "text"
      },
      "source": [
        "## Encoder\n",
        "![Encoder](https://guillaumegenthial.github.io/assets/img2latex/seq2seq_vanilla_encoder.svg)\n",
        "\n",
        "## Decoder\n",
        "![Decoder](https://guillaumegenthial.github.io/assets/img2latex/seq2seq_vanilla_decoder.svg)\n",
        "\n",
        "\n",
        "Stepwise, the decoder operates as - \n",
        "![Decoder Operation](https://i.imgur.com/sWRGsi4.png)"
      ]
    },
    {
      "cell_type": "markdown",
      "metadata": {
        "id": "mm8EvwjwggXH",
        "colab_type": "text"
      },
      "source": [
        "## Dataset\n",
        "English to Spanish Conversion - http://www.manythings.org/anki/spa-eng.zip"
      ]
    },
    {
      "cell_type": "code",
      "metadata": {
        "id": "aZW-uEgIf7Yy",
        "colab_type": "code",
        "outputId": "e007c8fd-17c6-49a2-aa1f-85739f58814a",
        "colab": {
          "base_uri": "https://localhost:8080/",
          "height": 204
        }
      },
      "source": [
        "!wget http://www.manythings.org/anki/spa-eng.zip"
      ],
      "execution_count": 1,
      "outputs": [
        {
          "output_type": "stream",
          "text": [
            "--2020-04-18 06:14:12--  http://www.manythings.org/anki/spa-eng.zip\n",
            "Resolving www.manythings.org (www.manythings.org)... 104.24.108.196, 104.24.109.196, 2606:4700:3037::6818:6cc4, ...\n",
            "Connecting to www.manythings.org (www.manythings.org)|104.24.108.196|:80... connected.\n",
            "HTTP request sent, awaiting response... 200 OK\n",
            "Length: 4781548 (4.6M) [application/zip]\n",
            "Saving to: ‘spa-eng.zip’\n",
            "\n",
            "\rspa-eng.zip           0%[                    ]       0  --.-KB/s               \rspa-eng.zip           8%[>                   ] 374.06K  1.83MB/s               \rspa-eng.zip         100%[===================>]   4.56M  11.8MB/s    in 0.4s    \n",
            "\n",
            "2020-04-18 06:14:13 (11.8 MB/s) - ‘spa-eng.zip’ saved [4781548/4781548]\n",
            "\n"
          ],
          "name": "stdout"
        }
      ]
    },
    {
      "cell_type": "code",
      "metadata": {
        "id": "m_CfMoXrhPJ6",
        "colab_type": "code",
        "outputId": "dae2836d-52a8-4283-a916-dfa57acebbee",
        "colab": {
          "base_uri": "https://localhost:8080/",
          "height": 187
        }
      },
      "source": [
        "!unzip -l spa-eng.zip\n",
        "!unzip spa-eng.zip"
      ],
      "execution_count": 2,
      "outputs": [
        {
          "output_type": "stream",
          "text": [
            "Archive:  spa-eng.zip\n",
            "  Length      Date    Time    Name\n",
            "---------  ---------- -----   ----\n",
            "     1441  2020-03-15 02:17   _about.txt\n",
            " 18493172  2020-03-15 02:17   spa.txt\n",
            "---------                     -------\n",
            " 18494613                     2 files\n",
            "Archive:  spa-eng.zip\n",
            "  inflating: _about.txt              \n",
            "  inflating: spa.txt                 \n"
          ],
          "name": "stdout"
        }
      ]
    },
    {
      "cell_type": "code",
      "metadata": {
        "id": "LrLwTegngpaq",
        "colab_type": "code",
        "colab": {}
      },
      "source": [
        "import matplotlib.pyplot as plt\n",
        "from itertools import islice\n",
        "import math\n",
        "import numpy as np\n",
        "import pandas as pd\n",
        "import random\n",
        "import re\n",
        "import seaborn as sns\n",
        "import string\n",
        "from string import digits\n",
        "from sklearn.utils import shuffle\n",
        "from sklearn.model_selection import train_test_split\n",
        "from tensorflow.keras.layers import Input, LSTM, Embedding, Dense\n",
        "from tensorflow.keras.models import Model, load_model\n",
        "from tensorflow.keras.utils import plot_model"
      ],
      "execution_count": 0,
      "outputs": []
    },
    {
      "cell_type": "code",
      "metadata": {
        "id": "QXwoZpIXWvrb",
        "colab_type": "code",
        "colab": {}
      },
      "source": [
        "from tensorflow.python.framework.ops import disable_eager_execution\n",
        "disable_eager_execution()"
      ],
      "execution_count": 0,
      "outputs": []
    },
    {
      "cell_type": "markdown",
      "metadata": {
        "id": "_cE9QLnWWwkQ",
        "colab_type": "text"
      },
      "source": [
        "Disabling eager execution because all zeros mask raises some CuDNN kernel level issue. Refere [here](https://github.com/tensorflow/tensorflow/issues/33148)"
      ]
    },
    {
      "cell_type": "code",
      "metadata": {
        "id": "V_QqGC99gz1Q",
        "colab_type": "code",
        "colab": {}
      },
      "source": [
        "%matplotlib inline\n",
        "sns.set_style(\"whitegrid\")"
      ],
      "execution_count": 0,
      "outputs": []
    },
    {
      "cell_type": "code",
      "metadata": {
        "id": "Ps65fz_BhFDN",
        "colab_type": "code",
        "colab": {}
      },
      "source": [
        "lines = pd.read_table('spa.txt', names=['english', 'spanish', 'attributes'])\n",
        "# lines = pd.DataFrame({\"english\": [\"Juan eats apples\"], \"spanish\": [\"Juan come manzanas\"], \"attributes\": \"\"})"
      ],
      "execution_count": 0,
      "outputs": []
    },
    {
      "cell_type": "code",
      "metadata": {
        "id": "x8uNdjbIh9pS",
        "colab_type": "code",
        "outputId": "80b764bc-0817-43db-e18a-183cd429e1d5",
        "colab": {
          "base_uri": "https://localhost:8080/",
          "height": 34
        }
      },
      "source": [
        "lines.shape"
      ],
      "execution_count": 7,
      "outputs": [
        {
          "output_type": "execute_result",
          "data": {
            "text/plain": [
              "(123770, 3)"
            ]
          },
          "metadata": {
            "tags": []
          },
          "execution_count": 7
        }
      ]
    },
    {
      "cell_type": "code",
      "metadata": {
        "id": "xHAiIbv6kEpz",
        "colab_type": "code",
        "colab": {}
      },
      "source": [
        "lines = lines.drop(columns=['attributes'])"
      ],
      "execution_count": 0,
      "outputs": []
    },
    {
      "cell_type": "code",
      "metadata": {
        "id": "YyK4Ck3kiG_Q",
        "colab_type": "code",
        "colab": {}
      },
      "source": [
        "for col in lines.columns:\n",
        "    # lowercase\n",
        "    lines[col] = lines[col].apply(lambda x: x.lower())\n",
        "    # remove quotes\n",
        "    lines[col] = lines[col].apply(lambda x: re.sub(\"'\", \"\", x))\n",
        "    # remove punctuations\n",
        "    lines[col] = lines[col].apply(lambda x: ''.join(ch for ch in x if ch not in set(string.punctuation)))\n",
        "    # remove numbers\n",
        "    remove_digits = str.maketrans('', '', digits)\n",
        "    lines[col] = lines[col].apply(lambda x: x.translate(remove_digits))\n",
        "    # remove unnecessary spaces\n",
        "    lines[col] = lines[col].apply(lambda x: x.strip())\n",
        "    lines[col] = lines[col].apply(lambda x: re.sub(\" +\", \" \", x))"
      ],
      "execution_count": 0,
      "outputs": []
    },
    {
      "cell_type": "code",
      "metadata": {
        "id": "j5XEID_D09DX",
        "colab_type": "code",
        "colab": {}
      },
      "source": [
        "# Add start and end tokens to target sequences\n",
        "lines['spanish'] = lines['spanish'].apply(lambda x : 'START_ '+ x + ' _END')"
      ],
      "execution_count": 0,
      "outputs": []
    },
    {
      "cell_type": "code",
      "metadata": {
        "id": "Bx2190qtjvfQ",
        "colab_type": "code",
        "colab": {}
      },
      "source": [
        "pd.set_option('display.max_colwidth', 100)"
      ],
      "execution_count": 0,
      "outputs": []
    },
    {
      "cell_type": "code",
      "metadata": {
        "id": "5yRVgA1miHJR",
        "colab_type": "code",
        "outputId": "2c2d6a9d-d023-497f-d018-ec6d47bb46fc",
        "colab": {
          "base_uri": "https://localhost:8080/",
          "height": 359
        }
      },
      "source": [
        "lines.head(10)"
      ],
      "execution_count": 12,
      "outputs": [
        {
          "output_type": "execute_result",
          "data": {
            "text/html": [
              "<div>\n",
              "<style scoped>\n",
              "    .dataframe tbody tr th:only-of-type {\n",
              "        vertical-align: middle;\n",
              "    }\n",
              "\n",
              "    .dataframe tbody tr th {\n",
              "        vertical-align: top;\n",
              "    }\n",
              "\n",
              "    .dataframe thead th {\n",
              "        text-align: right;\n",
              "    }\n",
              "</style>\n",
              "<table border=\"1\" class=\"dataframe\">\n",
              "  <thead>\n",
              "    <tr style=\"text-align: right;\">\n",
              "      <th></th>\n",
              "      <th>english</th>\n",
              "      <th>spanish</th>\n",
              "    </tr>\n",
              "  </thead>\n",
              "  <tbody>\n",
              "    <tr>\n",
              "      <th>0</th>\n",
              "      <td>go</td>\n",
              "      <td>START_ ve _END</td>\n",
              "    </tr>\n",
              "    <tr>\n",
              "      <th>1</th>\n",
              "      <td>go</td>\n",
              "      <td>START_ vete _END</td>\n",
              "    </tr>\n",
              "    <tr>\n",
              "      <th>2</th>\n",
              "      <td>go</td>\n",
              "      <td>START_ vaya _END</td>\n",
              "    </tr>\n",
              "    <tr>\n",
              "      <th>3</th>\n",
              "      <td>go</td>\n",
              "      <td>START_ váyase _END</td>\n",
              "    </tr>\n",
              "    <tr>\n",
              "      <th>4</th>\n",
              "      <td>hi</td>\n",
              "      <td>START_ hola _END</td>\n",
              "    </tr>\n",
              "    <tr>\n",
              "      <th>5</th>\n",
              "      <td>run</td>\n",
              "      <td>START_ ¡corre _END</td>\n",
              "    </tr>\n",
              "    <tr>\n",
              "      <th>6</th>\n",
              "      <td>run</td>\n",
              "      <td>START_ ¡corran _END</td>\n",
              "    </tr>\n",
              "    <tr>\n",
              "      <th>7</th>\n",
              "      <td>run</td>\n",
              "      <td>START_ ¡corra _END</td>\n",
              "    </tr>\n",
              "    <tr>\n",
              "      <th>8</th>\n",
              "      <td>run</td>\n",
              "      <td>START_ ¡corred _END</td>\n",
              "    </tr>\n",
              "    <tr>\n",
              "      <th>9</th>\n",
              "      <td>run</td>\n",
              "      <td>START_ corred _END</td>\n",
              "    </tr>\n",
              "  </tbody>\n",
              "</table>\n",
              "</div>"
            ],
            "text/plain": [
              "  english              spanish\n",
              "0      go       START_ ve _END\n",
              "1      go     START_ vete _END\n",
              "2      go     START_ vaya _END\n",
              "3      go   START_ váyase _END\n",
              "4      hi     START_ hola _END\n",
              "5     run   START_ ¡corre _END\n",
              "6     run  START_ ¡corran _END\n",
              "7     run   START_ ¡corra _END\n",
              "8     run  START_ ¡corred _END\n",
              "9     run   START_ corred _END"
            ]
          },
          "metadata": {
            "tags": []
          },
          "execution_count": 12
        }
      ]
    },
    {
      "cell_type": "code",
      "metadata": {
        "id": "jvEJ-V-qFUtT",
        "colab_type": "code",
        "colab": {}
      },
      "source": [
        ""
      ],
      "execution_count": 0,
      "outputs": []
    },
    {
      "cell_type": "markdown",
      "metadata": {
        "id": "m70v150OlcO2",
        "colab_type": "text"
      },
      "source": [
        "## Creating Vocabulary\n",
        "Create vocabulary of english and spanish words"
      ]
    },
    {
      "cell_type": "code",
      "metadata": {
        "id": "MLQcyB9PiHRQ",
        "colab_type": "code",
        "outputId": "8254745c-4764-4883-f204-03c053a45ab5",
        "colab": {
          "base_uri": "https://localhost:8080/",
          "height": 34
        }
      },
      "source": [
        "# English Vocab\n",
        "all_eng_words = set()\n",
        "for eng in lines['english']:\n",
        "    for word in eng.split():\n",
        "        if word not in all_eng_words:\n",
        "            all_eng_words.add(word)\n",
        "print(f\"English Vocab: {len(all_eng_words)}\")"
      ],
      "execution_count": 13,
      "outputs": [
        {
          "output_type": "stream",
          "text": [
            "English Vocab: 13475\n"
          ],
          "name": "stdout"
        }
      ]
    },
    {
      "cell_type": "code",
      "metadata": {
        "id": "xcSjwUliiHGz",
        "colab_type": "code",
        "outputId": "23df3d19-065b-4d93-a6d1-3878afaa8d30",
        "colab": {
          "base_uri": "https://localhost:8080/",
          "height": 34
        }
      },
      "source": [
        "# Spanish Vocab\n",
        "all_spa_words = set()\n",
        "for spa in lines['spanish']:\n",
        "    for word in spa.split():\n",
        "        if word not in all_spa_words:\n",
        "            all_spa_words.add(word)\n",
        "print(f\"Spanish Vocab: {len(all_spa_words)}\")"
      ],
      "execution_count": 14,
      "outputs": [
        {
          "output_type": "stream",
          "text": [
            "Spanish Vocab: 27264\n"
          ],
          "name": "stdout"
        }
      ]
    },
    {
      "cell_type": "code",
      "metadata": {
        "id": "C2OhsOMTiHEO",
        "colab_type": "code",
        "outputId": "88f43d91-dceb-4b1b-8d25-26491fbe613a",
        "colab": {
          "base_uri": "https://localhost:8080/",
          "height": 34
        }
      },
      "source": [
        "# Max Length of source sequence\n",
        "lenght_list_eng=[]\n",
        "for l in lines['english']:\n",
        "    lenght_list_eng.append(len(l.split(' ')))\n",
        "max_length_src = np.max(lenght_list_eng)\n",
        "print(f\"Max Length Sentence (English): {max_length_src}\")"
      ],
      "execution_count": 15,
      "outputs": [
        {
          "output_type": "stream",
          "text": [
            "Max Length Sentence (English): 47\n"
          ],
          "name": "stdout"
        }
      ]
    },
    {
      "cell_type": "code",
      "metadata": {
        "id": "GAuhsphZmGMZ",
        "colab_type": "code",
        "outputId": "3cc5d685-3a52-477a-d11c-4536bb934d65",
        "colab": {
          "base_uri": "https://localhost:8080/",
          "height": 34
        }
      },
      "source": [
        "# Max Length of target sequence\n",
        "lenght_list_spa=[]\n",
        "for l in lines['spanish']:\n",
        "    lenght_list_spa.append(len(l.split(' ')))\n",
        "max_length_tar = np.max(lenght_list_spa)\n",
        "print(f\"Max Length Sentence (Spanish): {max_length_src}\")"
      ],
      "execution_count": 16,
      "outputs": [
        {
          "output_type": "stream",
          "text": [
            "Max Length Sentence (Spanish): 47\n"
          ],
          "name": "stdout"
        }
      ]
    },
    {
      "cell_type": "code",
      "metadata": {
        "id": "EruJWzYonDep",
        "colab_type": "code",
        "outputId": "17a7b9ff-5fda-4780-8957-88c649b82c3f",
        "colab": {
          "base_uri": "https://localhost:8080/",
          "height": 34
        }
      },
      "source": [
        "matches = [i for i, j in zip(lenght_list_eng, lenght_list_spa) if i == j]\n",
        "print(f\"Number of matches: {len(matches)} ({(len(matches)*100/lines.shape[0]):.2f})\")"
      ],
      "execution_count": 17,
      "outputs": [
        {
          "output_type": "stream",
          "text": [
            "Number of matches: 13865 (11.20)\n"
          ],
          "name": "stdout"
        }
      ]
    },
    {
      "cell_type": "code",
      "metadata": {
        "id": "GYSA4bPSmGdO",
        "colab_type": "code",
        "outputId": "d87745b1-36ca-4a0f-bf80-371c1e17c6e7",
        "colab": {
          "base_uri": "https://localhost:8080/",
          "height": 204
        }
      },
      "source": [
        "lines.head()"
      ],
      "execution_count": 18,
      "outputs": [
        {
          "output_type": "execute_result",
          "data": {
            "text/html": [
              "<div>\n",
              "<style scoped>\n",
              "    .dataframe tbody tr th:only-of-type {\n",
              "        vertical-align: middle;\n",
              "    }\n",
              "\n",
              "    .dataframe tbody tr th {\n",
              "        vertical-align: top;\n",
              "    }\n",
              "\n",
              "    .dataframe thead th {\n",
              "        text-align: right;\n",
              "    }\n",
              "</style>\n",
              "<table border=\"1\" class=\"dataframe\">\n",
              "  <thead>\n",
              "    <tr style=\"text-align: right;\">\n",
              "      <th></th>\n",
              "      <th>english</th>\n",
              "      <th>spanish</th>\n",
              "    </tr>\n",
              "  </thead>\n",
              "  <tbody>\n",
              "    <tr>\n",
              "      <th>0</th>\n",
              "      <td>go</td>\n",
              "      <td>START_ ve _END</td>\n",
              "    </tr>\n",
              "    <tr>\n",
              "      <th>1</th>\n",
              "      <td>go</td>\n",
              "      <td>START_ vete _END</td>\n",
              "    </tr>\n",
              "    <tr>\n",
              "      <th>2</th>\n",
              "      <td>go</td>\n",
              "      <td>START_ vaya _END</td>\n",
              "    </tr>\n",
              "    <tr>\n",
              "      <th>3</th>\n",
              "      <td>go</td>\n",
              "      <td>START_ váyase _END</td>\n",
              "    </tr>\n",
              "    <tr>\n",
              "      <th>4</th>\n",
              "      <td>hi</td>\n",
              "      <td>START_ hola _END</td>\n",
              "    </tr>\n",
              "  </tbody>\n",
              "</table>\n",
              "</div>"
            ],
            "text/plain": [
              "  english             spanish\n",
              "0      go      START_ ve _END\n",
              "1      go    START_ vete _END\n",
              "2      go    START_ vaya _END\n",
              "3      go  START_ váyase _END\n",
              "4      hi    START_ hola _END"
            ]
          },
          "metadata": {
            "tags": []
          },
          "execution_count": 18
        }
      ]
    },
    {
      "cell_type": "code",
      "metadata": {
        "id": "CtA8nGIDocJw",
        "colab_type": "code",
        "outputId": "7ec4bc79-c6be-4a73-8f4d-69b856545d72",
        "colab": {
          "base_uri": "https://localhost:8080/",
          "height": 34
        }
      },
      "source": [
        "input_words = sorted(list(all_eng_words))\n",
        "target_words = sorted(list(all_spa_words))\n",
        "num_encoder_tokens = len(all_eng_words)\n",
        "num_decoder_tokens = len(all_spa_words)\n",
        "num_encoder_tokens, num_decoder_tokens"
      ],
      "execution_count": 19,
      "outputs": [
        {
          "output_type": "execute_result",
          "data": {
            "text/plain": [
              "(13475, 27264)"
            ]
          },
          "metadata": {
            "tags": []
          },
          "execution_count": 19
        }
      ]
    },
    {
      "cell_type": "code",
      "metadata": {
        "id": "VPEVqYq8ocg9",
        "colab_type": "code",
        "colab": {}
      },
      "source": [
        "num_encoder_tokens += 1 # For zero padding\n",
        "num_decoder_tokens += 1 # For zero padding"
      ],
      "execution_count": 0,
      "outputs": []
    },
    {
      "cell_type": "code",
      "metadata": {
        "id": "H6ZJ5XICoccy",
        "colab_type": "code",
        "colab": {}
      },
      "source": [
        ""
      ],
      "execution_count": 0,
      "outputs": []
    },
    {
      "cell_type": "markdown",
      "metadata": {
        "id": "xdPfVBDIo8DP",
        "colab_type": "text"
      },
      "source": [
        "## Embedding"
      ]
    },
    {
      "cell_type": "code",
      "metadata": {
        "id": "QQQJMk1wuJgo",
        "colab_type": "code",
        "colab": {}
      },
      "source": [
        "def take(n, iterable):\n",
        "    \"Return first n items of the iterable as a list\"\n",
        "    return list(islice(iterable, n))"
      ],
      "execution_count": 0,
      "outputs": []
    },
    {
      "cell_type": "code",
      "metadata": {
        "id": "900SDgTwocZl",
        "colab_type": "code",
        "colab": {}
      },
      "source": [
        "input_token_index = dict([(word, i+1) for i, word in enumerate(input_words)])\n",
        "target_token_index = dict([(word, i+1) for i, word in enumerate(target_words)])"
      ],
      "execution_count": 0,
      "outputs": []
    },
    {
      "cell_type": "code",
      "metadata": {
        "id": "btglD6y8uf-X",
        "colab_type": "code",
        "outputId": "12a7e40c-756d-43f2-9ac5-a1ebd932b588",
        "colab": {
          "base_uri": "https://localhost:8080/",
          "height": 187
        }
      },
      "source": [
        "n_items = take(10, input_token_index.items())\n",
        "for k,v in n_items:\n",
        "    print(k, v)"
      ],
      "execution_count": 23,
      "outputs": [
        {
          "output_type": "stream",
          "text": [
            "a 1\n",
            "aardvark 2\n",
            "aardvarks 3\n",
            "aaron 4\n",
            "aback 5\n",
            "abandon 6\n",
            "abandoned 7\n",
            "abandoning 8\n",
            "abate 9\n",
            "abated 10\n"
          ],
          "name": "stdout"
        }
      ]
    },
    {
      "cell_type": "code",
      "metadata": {
        "id": "FuB53Tomu-gJ",
        "colab_type": "code",
        "outputId": "82e2154c-8d4b-4148-eba0-ceab2f922267",
        "colab": {
          "base_uri": "https://localhost:8080/",
          "height": 187
        }
      },
      "source": [
        "n_items = take(10, target_token_index.items())\n",
        "for k,v in n_items:\n",
        "    print(k, v)"
      ],
      "execution_count": 24,
      "outputs": [
        {
          "output_type": "stream",
          "text": [
            "START_ 1\n",
            "_END 2\n",
            "a 3\n",
            "aabe 4\n",
            "aah 5\n",
            "aaron 6\n",
            "abajo 7\n",
            "abandona 8\n",
            "abandonada 9\n",
            "abandonadas 10\n"
          ],
          "name": "stdout"
        }
      ]
    },
    {
      "cell_type": "code",
      "metadata": {
        "id": "eUK7OCyjocXh",
        "colab_type": "code",
        "colab": {}
      },
      "source": [
        "reverse_input_char_index = dict((i, word) for word, i in input_token_index.items())\n",
        "reverse_target_char_index = dict((i, word) for word, i in target_token_index.items())"
      ],
      "execution_count": 0,
      "outputs": []
    },
    {
      "cell_type": "code",
      "metadata": {
        "id": "mH4-8lhJocWC",
        "colab_type": "code",
        "outputId": "c2f8af1a-6509-480e-f4fa-e7fb00477991",
        "colab": {
          "base_uri": "https://localhost:8080/",
          "height": 359
        }
      },
      "source": [
        "lines = shuffle(lines)\n",
        "lines.head(10)"
      ],
      "execution_count": 26,
      "outputs": [
        {
          "output_type": "execute_result",
          "data": {
            "text/html": [
              "<div>\n",
              "<style scoped>\n",
              "    .dataframe tbody tr th:only-of-type {\n",
              "        vertical-align: middle;\n",
              "    }\n",
              "\n",
              "    .dataframe tbody tr th {\n",
              "        vertical-align: top;\n",
              "    }\n",
              "\n",
              "    .dataframe thead th {\n",
              "        text-align: right;\n",
              "    }\n",
              "</style>\n",
              "<table border=\"1\" class=\"dataframe\">\n",
              "  <thead>\n",
              "    <tr style=\"text-align: right;\">\n",
              "      <th></th>\n",
              "      <th>english</th>\n",
              "      <th>spanish</th>\n",
              "    </tr>\n",
              "  </thead>\n",
              "  <tbody>\n",
              "    <tr>\n",
              "      <th>64110</th>\n",
              "      <td>ill show you that i am right</td>\n",
              "      <td>START_ voy a demostrarte que no estoy equivocado _END</td>\n",
              "    </tr>\n",
              "    <tr>\n",
              "      <th>21792</th>\n",
              "      <td>it wasnt real love</td>\n",
              "      <td>START_ esto no era amor verdadero _END</td>\n",
              "    </tr>\n",
              "    <tr>\n",
              "      <th>97869</th>\n",
              "      <td>tom could understand why mary was angry</td>\n",
              "      <td>START_ tom podía entender que mary estaba enfadada _END</td>\n",
              "    </tr>\n",
              "    <tr>\n",
              "      <th>20012</th>\n",
              "      <td>are you a policeman</td>\n",
              "      <td>START_ ¿eres policía _END</td>\n",
              "    </tr>\n",
              "    <tr>\n",
              "      <th>79341</th>\n",
              "      <td>i dont know when hell come here</td>\n",
              "      <td>START_ no sé cuando vendrá él aquí _END</td>\n",
              "    </tr>\n",
              "    <tr>\n",
              "      <th>51994</th>\n",
              "      <td>show me the photos please</td>\n",
              "      <td>START_ muéstrame las fotografías por favor _END</td>\n",
              "    </tr>\n",
              "    <tr>\n",
              "      <th>54258</th>\n",
              "      <td>he couldnt do such a thing</td>\n",
              "      <td>START_ él no pudo haber hecho algo así _END</td>\n",
              "    </tr>\n",
              "    <tr>\n",
              "      <th>58383</th>\n",
              "      <td>could you send me a brochure</td>\n",
              "      <td>START_ ¿podrías enviarme un folleto _END</td>\n",
              "    </tr>\n",
              "    <tr>\n",
              "      <th>39137</th>\n",
              "      <td>thats quite remarkable</td>\n",
              "      <td>START_ eso es bastante memorable _END</td>\n",
              "    </tr>\n",
              "    <tr>\n",
              "      <th>77823</th>\n",
              "      <td>tom offered to lend me the money</td>\n",
              "      <td>START_ tom ofreció pasarme el dinero _END</td>\n",
              "    </tr>\n",
              "  </tbody>\n",
              "</table>\n",
              "</div>"
            ],
            "text/plain": [
              "                                       english                                                  spanish\n",
              "64110             ill show you that i am right    START_ voy a demostrarte que no estoy equivocado _END\n",
              "21792                       it wasnt real love                   START_ esto no era amor verdadero _END\n",
              "97869  tom could understand why mary was angry  START_ tom podía entender que mary estaba enfadada _END\n",
              "20012                      are you a policeman                                START_ ¿eres policía _END\n",
              "79341          i dont know when hell come here                  START_ no sé cuando vendrá él aquí _END\n",
              "51994                show me the photos please          START_ muéstrame las fotografías por favor _END\n",
              "54258               he couldnt do such a thing              START_ él no pudo haber hecho algo así _END\n",
              "58383             could you send me a brochure                 START_ ¿podrías enviarme un folleto _END\n",
              "39137                   thats quite remarkable                    START_ eso es bastante memorable _END\n",
              "77823         tom offered to lend me the money                START_ tom ofreció pasarme el dinero _END"
            ]
          },
          "metadata": {
            "tags": []
          },
          "execution_count": 26
        }
      ]
    },
    {
      "cell_type": "code",
      "metadata": {
        "id": "Nj3YDPqvFWuy",
        "colab_type": "code",
        "colab": {}
      },
      "source": [
        ""
      ],
      "execution_count": 0,
      "outputs": []
    },
    {
      "cell_type": "markdown",
      "metadata": {
        "id": "a7HSfC7gperL",
        "colab_type": "text"
      },
      "source": [
        "## Train-Test Split"
      ]
    },
    {
      "cell_type": "code",
      "metadata": {
        "id": "6dEl7zSyocTe",
        "colab_type": "code",
        "colab": {}
      },
      "source": [
        "X, y = lines[\"english\"], lines[\"spanish\"]"
      ],
      "execution_count": 0,
      "outputs": []
    },
    {
      "cell_type": "code",
      "metadata": {
        "id": "X_qTGlDdocQk",
        "colab_type": "code",
        "colab": {}
      },
      "source": [
        "X_train, X_test, y_train, y_test = train_test_split(X, y, test_size=0.2, random_state=42)"
      ],
      "execution_count": 0,
      "outputs": []
    },
    {
      "cell_type": "code",
      "metadata": {
        "id": "PqYa-lDxocH5",
        "colab_type": "code",
        "outputId": "7fc941d7-4005-4e8e-8de3-9899ed9a2f13",
        "colab": {
          "base_uri": "https://localhost:8080/",
          "height": 34
        }
      },
      "source": [
        "X_train.shape, y_train.shape"
      ],
      "execution_count": 29,
      "outputs": [
        {
          "output_type": "execute_result",
          "data": {
            "text/plain": [
              "((99016,), (99016,))"
            ]
          },
          "metadata": {
            "tags": []
          },
          "execution_count": 29
        }
      ]
    },
    {
      "cell_type": "code",
      "metadata": {
        "id": "duiwDIjmpvkm",
        "colab_type": "code",
        "outputId": "b496a01b-50f8-43a6-8af5-a6bd9a93987d",
        "colab": {
          "base_uri": "https://localhost:8080/",
          "height": 34
        }
      },
      "source": [
        "X_test.shape, y_test.shape"
      ],
      "execution_count": 30,
      "outputs": [
        {
          "output_type": "execute_result",
          "data": {
            "text/plain": [
              "((24754,), (24754,))"
            ]
          },
          "metadata": {
            "tags": []
          },
          "execution_count": 30
        }
      ]
    },
    {
      "cell_type": "code",
      "metadata": {
        "id": "6lnJew4GFXh1",
        "colab_type": "code",
        "colab": {}
      },
      "source": [
        ""
      ],
      "execution_count": 0,
      "outputs": []
    },
    {
      "cell_type": "markdown",
      "metadata": {
        "id": "DzG-EgsEFB_C",
        "colab_type": "text"
      },
      "source": [
        "## Generator"
      ]
    },
    {
      "cell_type": "code",
      "metadata": {
        "id": "EnS0Yh-dpv7q",
        "colab_type": "code",
        "colab": {}
      },
      "source": [
        "def generate_batch(X=X_train, y=y_train, batch_size=128):\n",
        "    ''' Generate a batch of data '''\n",
        "    while True:\n",
        "        for j in range(0, len(X), batch_size):\n",
        "            encoder_input_data = np.zeros((batch_size, max_length_src), dtype='float32')\n",
        "            decoder_input_data = np.zeros((batch_size, max_length_tar), dtype='float32')\n",
        "            decoder_target_data = np.zeros((batch_size, max_length_tar, num_decoder_tokens), dtype='float32')\n",
        "            for i, (input_text, target_text) in enumerate(zip(X[j:j+batch_size], y[j:j+batch_size])):\n",
        "                for t, word in enumerate(input_text.split()):\n",
        "                    encoder_input_data[i, t] = input_token_index[word] # encoder input seq\n",
        "                for t, word in enumerate(target_text.split()):\n",
        "                    if t < len(target_text.split())-1:\n",
        "                        decoder_input_data[i, t] = target_token_index[word] # decoder input seq\n",
        "                    if t>0:\n",
        "                        # decoder target sequence (one hot encoded)\n",
        "                        # does not include the START_ token\n",
        "                        # Offset by one timestep\n",
        "                        decoder_target_data[i, t - 1, target_token_index[word]] = 1.\n",
        "            yield([encoder_input_data, decoder_input_data], decoder_target_data)"
      ],
      "execution_count": 0,
      "outputs": []
    },
    {
      "cell_type": "code",
      "metadata": {
        "id": "s7aKV3tJFQ4s",
        "colab_type": "code",
        "colab": {}
      },
      "source": [
        ""
      ],
      "execution_count": 0,
      "outputs": []
    },
    {
      "cell_type": "markdown",
      "metadata": {
        "id": "g_e-bwvt_7Jp",
        "colab_type": "text"
      },
      "source": [
        "## Teacher Forcing\n",
        "Teacher forcing works by using the actual or expected output from the training dataset at the current time step `y(t)` as input in the next time step `X(t+1)`, rather than the output generated by the network.\n",
        "\n",
        "Decoder is trained to turn the target sequences into the same sequences but offset by one timestep in the future, a training process called \"teacher forcing\" in this context. Effectively, the decoder learns to generate targets `[t+1...]` given targets `[...t]`, conditioned on the input sequence.\n",
        "\n",
        "\n",
        "### Example - \n",
        "Suppose, we had only 1 sentence -\n",
        "* `English` - Juan eats apples\n",
        "* `Spanish` - Juan come manzanas\n",
        "\n",
        "Hence, we had just 3 words in our English & 5 in Spanish vocabulary. \n",
        "```\n",
        "English Vocabulary\n",
        "{'apples': 1, 'eats': 2, 'juan': 3}\n",
        "\n",
        "Spanish Vocabulary\n",
        "{'START_': 1, '_END': 2, 'come': 3, 'juan': 4, 'manzanas': 5}\n",
        "```\n",
        "\n",
        "So our encoded input & decoder input would look like - \n",
        "```\n",
        "Encoder Input Data: [[3. 2. 1.]]\n",
        "\n",
        "Decoder Input Data: [[1. 4. 3. 5. 0.]]\n",
        "```\n",
        "\n",
        "As the target sentence has 5 words, at timestep `t` during training, we set the previous timestep's `t-1` actual output to 1. So essentially, we will have 5 target sentence.\n",
        "\n",
        "```\n",
        "Decoder Target Data: \n",
        "[0. 0. 0. 0. 1. 0.] # juan\n",
        "[0. 0. 0. 1. 0. 0.] # come\n",
        "[0. 0. 0. 0. 0. 1.] # manzanas\n",
        "[0. 0. 1. 0. 0. 0.] # _END\n",
        "[0. 0. 0. 0. 0. 0.]\n",
        "```\n",
        "\n",
        "### Summary\n",
        "TS1 -\n",
        "```\n",
        "Encoder Input Data - [3. 2. 1.]\n",
        "Decoder Input Data: [1. 4. 3. 5. 0.]\n",
        "Decoder Target Data: [0. 0. 0. 0. 1. 0.] # juan\n",
        "```\n",
        "\n",
        "TS2 -\n",
        "```\n",
        "Encoder Input Data - [3. 2. 1.]\n",
        "Decoder Input Data: [1. 4. 3. 5. 0.]\n",
        "Decoder Target Data: [0. 0. 0. 1. 0. 0.] # juan come\n",
        "```\n",
        "\n",
        "TS3 -\n",
        "```\n",
        "Encoder Input Data - [3. 2. 1.]\n",
        "Decoder Input Data: [1. 4. 3. 5. 0.]\n",
        "Decoder Target Data: [0. 0. 0. 0. 0. 1.] # juan come manzanas\n",
        "```\n",
        "\n",
        "TS4 -\n",
        "```\n",
        "Encoder Input Data - [3. 2. 1.]\n",
        "Decoder Input Data: [1. 4. 3. 5. 0.]\n",
        "Decoder Target Data: [0. 1. 0. 0. 0. 0.] # juan come manzanas _END\n",
        "```\n"
      ]
    },
    {
      "cell_type": "code",
      "metadata": {
        "id": "y4l0T2uL3vb8",
        "colab_type": "code",
        "colab": {}
      },
      "source": [
        ""
      ],
      "execution_count": 0,
      "outputs": []
    },
    {
      "cell_type": "code",
      "metadata": {
        "id": "bSC9decdpv5M",
        "colab_type": "code",
        "colab": {}
      },
      "source": [
        "# batch_size = 1\n",
        "\n",
        "# for j in range(0, len(X), batch_size):\n",
        "#     encoder_input_data = np.zeros((batch_size, max_length_src),dtype='float32')\n",
        "#     decoder_input_data = np.zeros((batch_size, max_length_tar),dtype='float32')\n",
        "#     decoder_target_data = np.zeros((batch_size, max_length_tar, num_decoder_tokens),dtype='float32')\n",
        "#     for i, (input_text, target_text) in enumerate(zip(X[j:j+batch_size], y[j:j+batch_size])):\n",
        "#         for t, word in enumerate(input_text.split()):\n",
        "#             print(f\"Input: {word}\")\n",
        "#             encoder_input_data[i, t] = input_token_index[word] # encoder input seq\n",
        "#         for t, word in enumerate(target_text.split()):\n",
        "#             print(f\"Target: {word}\")\n",
        "#             if t<len(target_text.split())-1:\n",
        "#                 decoder_input_data[i, t] = target_token_index[word] # decoder input seq\n",
        "#             if t>0:\n",
        "#                 # decoder target sequence (one hot encoded)\n",
        "#                 # does not include the START_ token\n",
        "#                 # Offset by one timestep\n",
        "#                 decoder_target_data[i, t - 1, target_token_index[word]] = 1.\n",
        "#     print(f\"Encoder Input Data: {encoder_input_data}\") \n",
        "#     print(f\"Decoder Input Data: {decoder_input_data}\")\n",
        "#     print(f\"Decoder Target Data:\\n {decoder_target_data}\")\n",
        "#     # print(f\"Decoder Target Data:\\n {decoder_target_data[:, :-1, :]}\")"
      ],
      "execution_count": 0,
      "outputs": []
    },
    {
      "cell_type": "code",
      "metadata": {
        "id": "KHalRMMQ1Uep",
        "colab_type": "code",
        "colab": {}
      },
      "source": [
        ""
      ],
      "execution_count": 0,
      "outputs": []
    },
    {
      "cell_type": "markdown",
      "metadata": {
        "id": "HukwM-n-FO4W",
        "colab_type": "text"
      },
      "source": [
        "## Model"
      ]
    },
    {
      "cell_type": "code",
      "metadata": {
        "id": "FBwRt6qy1Ubi",
        "colab_type": "code",
        "colab": {}
      },
      "source": [
        "latent_dim = 50"
      ],
      "execution_count": 0,
      "outputs": []
    },
    {
      "cell_type": "code",
      "metadata": {
        "id": "KLzd7__61UYN",
        "colab_type": "code",
        "colab": {}
      },
      "source": [
        "# ENCODER\n",
        "encoder_inputs = Input(shape=(None,))\n",
        "enc_emb = Embedding(num_encoder_tokens, latent_dim, mask_zero=True)(encoder_inputs)\n",
        "encoder_lstm = LSTM(latent_dim, return_state=True)\n",
        "encoder_outputs, state_h, state_c = encoder_lstm(enc_emb)\n",
        "# discard `encoder_outputs` and only keep the states.\n",
        "encoder_states = [state_h, state_c]"
      ],
      "execution_count": 0,
      "outputs": []
    },
    {
      "cell_type": "markdown",
      "metadata": {
        "id": "Lej19r1o_f6v",
        "colab_type": "text"
      },
      "source": [
        "`mask_zero=True` - It treats '0' as a padding value. As per the docs, \"If mask_zero is set to True, as a consequence, index 0 cannot be used in the vocabulary (input_dim should equal size of vocabulary + 1)\". Which is why increased `num_encoder_tokens` & `num_decoder_tokens` in cell 20 "
      ]
    },
    {
      "cell_type": "code",
      "metadata": {
        "id": "iwfPnYTmocEx",
        "colab_type": "code",
        "colab": {}
      },
      "source": [
        "# set up the decoder, using `encoder_states` as initial state.\n",
        "decoder_inputs = Input(shape=(None,))\n",
        "dec_emb = Embedding(num_decoder_tokens, latent_dim, mask_zero=True)(decoder_inputs)\n",
        "decoder_lstm = LSTM(latent_dim, return_sequences=True, return_state=True)\n",
        "decoder_outputs, dec_state_h, dec_state_c = decoder_lstm(dec_emb, initial_state=encoder_states)"
      ],
      "execution_count": 0,
      "outputs": []
    },
    {
      "cell_type": "code",
      "metadata": {
        "id": "PAJOyB6CBTOK",
        "colab_type": "code",
        "colab": {}
      },
      "source": [
        "decoder_dense = Dense(num_decoder_tokens, activation='softmax')\n",
        "decoder_outputs = decoder_dense(decoder_outputs)"
      ],
      "execution_count": 0,
      "outputs": []
    },
    {
      "cell_type": "markdown",
      "metadata": {
        "id": "jk2ofoapBQqe",
        "colab_type": "text"
      },
      "source": [
        "Here, we add a Dense Layer that uses softmax activation on top of decoder. Notice, how for the sample sentence - `Juan eats apples`, the output target at each timestep looks like - \n",
        "```\n",
        "[0. 0. 0. 0. 1. 0.] # juan\n",
        "[0. 0. 0. 1. 0. 0.] # juan come\n",
        "[0. 0. 0. 0. 0. 1.] # juan come manzanas\n",
        "[0. 1. 0. 0. 0. 0.] # juan come manzanas _end\n",
        "```\n",
        "It is the job of the dense layer to predict this next word from the *decoder_outputs*"
      ]
    },
    {
      "cell_type": "markdown",
      "metadata": {
        "id": "U0vJvMwwGl9H",
        "colab_type": "text"
      },
      "source": [
        "Model will take encoder inputs & decoder inputs and return decoder outputs"
      ]
    },
    {
      "cell_type": "code",
      "metadata": {
        "id": "Z2yqflOrGlVl",
        "colab_type": "code",
        "colab": {}
      },
      "source": [
        "model = Model([encoder_inputs, decoder_inputs], decoder_outputs)\n",
        "model.compile(optimizer='rmsprop', loss='categorical_crossentropy', metrics=['acc'])"
      ],
      "execution_count": 0,
      "outputs": []
    },
    {
      "cell_type": "code",
      "metadata": {
        "id": "1zv43I1PFnF6",
        "colab_type": "code",
        "outputId": "de7dd978-d332-4bbd-ecab-7a19aa72e772",
        "colab": {
          "base_uri": "https://localhost:8080/",
          "height": 533
        }
      },
      "source": [
        "plot_model(model, show_shapes=True)"
      ],
      "execution_count": 37,
      "outputs": [
        {
          "output_type": "execute_result",
          "data": {
            "image/png": "[encoded data removed]",
            "text/plain": [
              "<IPython.core.display.Image object>"
            ]
          },
          "metadata": {
            "tags": []
          },
          "execution_count": 37
        }
      ]
    },
    {
      "cell_type": "markdown",
      "metadata": {
        "id": "4KrlW5gsHPdK",
        "colab_type": "text"
      },
      "source": [
        "## Training"
      ]
    },
    {
      "cell_type": "code",
      "metadata": {
        "id": "B94g49KTFnDc",
        "colab_type": "code",
        "colab": {}
      },
      "source": [
        "train_samples = len(X_train)\n",
        "val_samples = len(X_test)\n",
        "batch_size = 64\n",
        "epochs = 20"
      ],
      "execution_count": 0,
      "outputs": []
    },
    {
      "cell_type": "code",
      "metadata": {
        "id": "jeWnShPNlDMl",
        "colab_type": "code",
        "colab": {
          "base_uri": "https://localhost:8080/",
          "height": 71
        },
        "outputId": "cdf45040-66f6-4da6-d37a-f107183efdf6"
      },
      "source": [
        "model = load_model(\"english_to_spanish_nmt.h5\")"
      ],
      "execution_count": 107,
      "outputs": [
        {
          "output_type": "stream",
          "text": [
            "WARNING:tensorflow:Layer lstm will not use cuDNN kernel since it doesn't meet the cuDNN kernel criteria. It will use generic GPU kernel as fallback when running on GPU\n",
            "WARNING:tensorflow:Layer lstm_1 will not use cuDNN kernel since it doesn't meet the cuDNN kernel criteria. It will use generic GPU kernel as fallback when running on GPU\n"
          ],
          "name": "stdout"
        }
      ]
    },
    {
      "cell_type": "code",
      "metadata": {
        "id": "19fTUdLXHCJD",
        "colab_type": "code",
        "outputId": "01c3963a-6f07-4730-c59d-a6dfdab002b6",
        "colab": {
          "base_uri": "https://localhost:8080/",
          "height": 717
        }
      },
      "source": [
        "history = model.fit_generator(generator = generate_batch(X_train, y_train, batch_size = batch_size),\n",
        "                    steps_per_epoch = train_samples//batch_size,\n",
        "                    epochs=epochs,\n",
        "                    validation_data = generate_batch(X_test, y_test, batch_size = batch_size),\n",
        "                    validation_steps = val_samples//batch_size\n",
        "                    )"
      ],
      "execution_count": 108,
      "outputs": [
        {
          "output_type": "stream",
          "text": [
            "Epoch 1/20\n",
            "1547/1547 [==============================] - 587s 380ms/step - loss: 0.4378 - acc: 0.5534 - val_loss: 0.4848 - val_acc: 0.5001\n",
            "Epoch 2/20\n",
            "1547/1547 [==============================] - 585s 378ms/step - loss: 0.4350 - acc: 0.5568 - val_loss: 0.4841 - val_acc: 0.5006\n",
            "Epoch 3/20\n",
            "1547/1547 [==============================] - 586s 379ms/step - loss: 0.4323 - acc: 0.5600 - val_loss: 0.4833 - val_acc: 0.5024\n",
            "Epoch 4/20\n",
            "1547/1547 [==============================] - 584s 377ms/step - loss: 0.4296 - acc: 0.5631 - val_loss: 0.4818 - val_acc: 0.5026\n",
            "Epoch 5/20\n",
            "1547/1547 [==============================] - 583s 377ms/step - loss: 0.4269 - acc: 0.5660 - val_loss: 0.4810 - val_acc: 0.5035\n",
            "Epoch 6/20\n",
            "1547/1547 [==============================] - 584s 377ms/step - loss: 0.4242 - acc: 0.5688 - val_loss: 0.4805 - val_acc: 0.5042\n",
            "Epoch 7/20\n",
            "1547/1547 [==============================] - 583s 377ms/step - loss: 0.4216 - acc: 0.5715 - val_loss: 0.4800 - val_acc: 0.5050\n",
            "Epoch 8/20\n",
            "1547/1547 [==============================] - 584s 377ms/step - loss: 0.4192 - acc: 0.5740 - val_loss: 0.4792 - val_acc: 0.5056\n",
            "Epoch 9/20\n",
            "1547/1547 [==============================] - 585s 378ms/step - loss: 0.4169 - acc: 0.5762 - val_loss: 0.4802 - val_acc: 0.5043\n",
            "Epoch 10/20\n",
            "1547/1547 [==============================] - 585s 378ms/step - loss: 0.4147 - acc: 0.5784 - val_loss: 0.4792 - val_acc: 0.5050\n",
            "Epoch 11/20\n",
            "1547/1547 [==============================] - 584s 377ms/step - loss: 0.4127 - acc: 0.5803 - val_loss: 0.4788 - val_acc: 0.5051\n",
            "Epoch 12/20\n",
            "1547/1547 [==============================] - 584s 378ms/step - loss: 0.4108 - acc: 0.5821 - val_loss: 0.4777 - val_acc: 0.5061\n",
            "Epoch 13/20\n",
            "1547/1547 [==============================] - 585s 378ms/step - loss: 0.4090 - acc: 0.5839 - val_loss: 0.4781 - val_acc: 0.5058\n",
            "Epoch 14/20\n",
            "1547/1547 [==============================] - 587s 379ms/step - loss: 0.4073 - acc: 0.5857 - val_loss: 0.4783 - val_acc: 0.5063\n",
            "Epoch 15/20\n",
            "1547/1547 [==============================] - 586s 379ms/step - loss: 0.4056 - acc: 0.5873 - val_loss: 0.4781 - val_acc: 0.5068\n",
            "Epoch 16/20\n",
            "1547/1547 [==============================] - 586s 379ms/step - loss: 0.4041 - acc: 0.5889 - val_loss: 0.4781 - val_acc: 0.5073\n",
            "Epoch 17/20\n",
            "1547/1547 [==============================] - 587s 379ms/step - loss: 0.4026 - acc: 0.5902 - val_loss: 0.4788 - val_acc: 0.5063\n",
            "Epoch 18/20\n",
            "1547/1547 [==============================] - 585s 378ms/step - loss: 0.4012 - acc: 0.5916 - val_loss: 0.4790 - val_acc: 0.5067\n",
            "Epoch 19/20\n",
            "1547/1547 [==============================] - 588s 380ms/step - loss: 0.3999 - acc: 0.5930 - val_loss: 0.4792 - val_acc: 0.5078\n",
            "Epoch 20/20\n",
            "1547/1547 [==============================] - 588s 380ms/step - loss: 0.3987 - acc: 0.5941 - val_loss: 0.4797 - val_acc: 0.5063\n"
          ],
          "name": "stdout"
        }
      ]
    },
    {
      "cell_type": "code",
      "metadata": {
        "id": "_UfoF3F3_dEa",
        "colab_type": "code",
        "colab": {
          "base_uri": "https://localhost:8080/",
          "height": 295
        },
        "outputId": "733a4f00-8849-4eb9-d862-509246821346"
      },
      "source": [
        "# summarize history for accuracy\n",
        "plt.plot(history.history['acc'])\n",
        "plt.plot(history.history['val_acc'])\n",
        "plt.title('Model Accuracy')\n",
        "plt.ylabel('Accuracy')\n",
        "plt.xlabel('Epoch')\n",
        "plt.legend(['Train', 'Validation'], loc='upper left')\n",
        "plt.show()"
      ],
      "execution_count": 112,
      "outputs": [
        {
          "output_type": "display_data",
          "data": {
            "image/png": "[encoded data removed]",
            "text/plain": [
              "<Figure size 432x288 with 1 Axes>"
            ]
          },
          "metadata": {
            "tags": []
          }
        }
      ]
    },
    {
      "cell_type": "code",
      "metadata": {
        "id": "9rcrG7ZGAXUT",
        "colab_type": "code",
        "colab": {
          "base_uri": "https://localhost:8080/",
          "height": 295
        },
        "outputId": "3841749d-6a67-40ba-ee03-30ed3d7ae2e6"
      },
      "source": [
        "# summarize history for loss\n",
        "plt.plot(history.history['loss'])\n",
        "plt.plot(history.history['val_loss'])\n",
        "plt.title('Model loss')\n",
        "plt.ylabel('loss')\n",
        "plt.xlabel('epoch')\n",
        "plt.legend(['train', 'test'], loc='upper left')\n",
        "plt.show()"
      ],
      "execution_count": 113,
      "outputs": [
        {
          "output_type": "display_data",
          "data": {
            "image/png": "[encoded data removed]",
            "text/plain": [
              "<Figure size 432x288 with 1 Axes>"
            ]
          },
          "metadata": {
            "tags": []
          }
        }
      ]
    },
    {
      "cell_type": "code",
      "metadata": {
        "id": "A1Lntds5HCi1",
        "colab_type": "code",
        "colab": {}
      },
      "source": [
        "model.save(\"english_to_spanish_nmt.h5\")"
      ],
      "execution_count": 0,
      "outputs": []
    },
    {
      "cell_type": "code",
      "metadata": {
        "id": "NGvPQXgBHCFr",
        "colab_type": "code",
        "colab": {}
      },
      "source": [
        ""
      ],
      "execution_count": 0,
      "outputs": []
    },
    {
      "cell_type": "markdown",
      "metadata": {
        "id": "tYpN2UfRZ4xy",
        "colab_type": "text"
      },
      "source": [
        "## Inference"
      ]
    },
    {
      "cell_type": "markdown",
      "metadata": {
        "id": "H-KbL4IpU8_L",
        "colab_type": "text"
      },
      "source": [
        "***Encoder Setup***\n",
        "\n",
        "Encode the input sequence to get the encoder_states - `state_h & state_c`"
      ]
    },
    {
      "cell_type": "code",
      "metadata": {
        "id": "sD31MEkFHCCf",
        "colab_type": "code",
        "colab": {}
      },
      "source": [
        "encoder_model = Model(encoder_inputs, encoder_states)"
      ],
      "execution_count": 0,
      "outputs": []
    },
    {
      "cell_type": "markdown",
      "metadata": {
        "id": "bE5Re-6lWLok",
        "colab_type": "text"
      },
      "source": [
        "***Decoder setup***\n",
        "\n",
        "Below tensors will hold the states of the previous time step. In case of the first sequence, assume - \n",
        ">1. decoder_state_input_c - state_c\n",
        ">2. decoder_state_input_h - state_h\n"
      ]
    },
    {
      "cell_type": "code",
      "metadata": {
        "id": "vTaISdS1Vx0N",
        "colab_type": "code",
        "colab": {}
      },
      "source": [
        "decoder_state_input_h = Input(shape=(latent_dim,))\n",
        "decoder_state_input_c = Input(shape=(latent_dim,))\n",
        "decoder_states_inputs = [decoder_state_input_h, decoder_state_input_c]"
      ],
      "execution_count": 0,
      "outputs": []
    },
    {
      "cell_type": "markdown",
      "metadata": {
        "id": "NYoKMT87Xh1a",
        "colab_type": "text"
      },
      "source": [
        "Get the embedding of decoder output sequences. For the first sequence, it will return the embedded vector for `START_` - [1., 0., 0., 0., 0.]. If the next predicted word is Juan, it will then return the embedded vector for `Juan` - [0., 0., 0., 1., 0.]"
      ]
    },
    {
      "cell_type": "code",
      "metadata": {
        "id": "QAEQIT7zXO5o",
        "colab_type": "code",
        "colab": {}
      },
      "source": [
        "dec_emb_layer = Embedding(num_decoder_tokens, latent_dim, mask_zero=True)\n",
        "dec_emb2 = dec_emb_layer(decoder_inputs) "
      ],
      "execution_count": 0,
      "outputs": []
    },
    {
      "cell_type": "markdown",
      "metadata": {
        "id": "CpCoU9ReZE8P",
        "colab_type": "text"
      },
      "source": [
        "To predict the next word in the sequence, set the initial states to the states from the previous time step\n"
      ]
    },
    {
      "cell_type": "code",
      "metadata": {
        "id": "Z-S7sgotYSA8",
        "colab_type": "code",
        "colab": {}
      },
      "source": [
        "decoder_outputs2, state_h2, state_c2 = decoder_lstm(dec_emb2, initial_state=decoder_states_inputs)"
      ],
      "execution_count": 0,
      "outputs": []
    },
    {
      "cell_type": "markdown",
      "metadata": {
        "id": "URZ73j0xZTnJ",
        "colab_type": "text"
      },
      "source": [
        "Predict the next word in the sequence using the dense layer and choose the most probable word by selecting the word with most probability from the softmax probability distribution."
      ]
    },
    {
      "cell_type": "code",
      "metadata": {
        "id": "Z042N2B7ZQ1E",
        "colab_type": "code",
        "colab": {}
      },
      "source": [
        "decoder_outputs2 = decoder_dense(decoder_outputs2) "
      ],
      "execution_count": 0,
      "outputs": []
    },
    {
      "cell_type": "markdown",
      "metadata": {
        "id": "hhiHQ4WSdAA5",
        "colab_type": "text"
      },
      "source": [
        "***Final Decoder Model***\n",
        "\n",
        "Inputs -\n",
        ">1. decoder_inputs - List of word\n",
        ">2. decoder_states_inputs - previous timestep's hidden state & cell state\n",
        "\n",
        "Outputs - \n",
        ">1. decoder_outputs2 - one-hot vector represeting the predicted word \n",
        ">2. decoder_states2 - current timestep's hidden state & cell state"
      ]
    },
    {
      "cell_type": "code",
      "metadata": {
        "id": "q3LaD1ovc9tr",
        "colab_type": "code",
        "colab": {}
      },
      "source": [
        "decoder_states2 = [state_h2, state_c2]\n",
        "decoder_model = Model(\n",
        "    [decoder_inputs] + decoder_states_inputs,\n",
        "    [decoder_outputs2] + decoder_states2)"
      ],
      "execution_count": 0,
      "outputs": []
    },
    {
      "cell_type": "code",
      "metadata": {
        "id": "BjLIBhifeKZC",
        "colab_type": "code",
        "colab": {}
      },
      "source": [
        ""
      ],
      "execution_count": 0,
      "outputs": []
    },
    {
      "cell_type": "markdown",
      "metadata": {
        "id": "84O7HfC8eK7V",
        "colab_type": "text"
      },
      "source": [
        "## Decode Sequence"
      ]
    },
    {
      "cell_type": "code",
      "metadata": {
        "id": "PlR1ANdcHB-b",
        "colab_type": "code",
        "colab": {}
      },
      "source": [
        "def decode_sequence(input_seq):\n",
        "    probabilites = []\n",
        "    # Encode the input as state vectors.\n",
        "    states_value = encoder_model.predict(input_seq)\n",
        "    # Generate empty target sequence of length 1.\n",
        "    target_seq = np.zeros((1,1))\n",
        "    # Populate the first character of target sequence with the start character.\n",
        "    target_seq[0, 0] = target_token_index['START_']\n",
        "\n",
        "    # Sampling loop for a batch of sequences\n",
        "    # (to simplify, here we assume a batch of size 1).\n",
        "    stop_condition = False\n",
        "    decoded_sentence = ''\n",
        "    while not stop_condition:\n",
        "        output_tokens, h, c = decoder_model.predict([target_seq] + states_value)\n",
        "\n",
        "        # Sampling a token with max probability\n",
        "        sampled_token_index = np.argmax(output_tokens[0, -1, :])\n",
        "        probabilites.append(output_tokens[0, -1, :])\n",
        "\n",
        "        # random sampling => gives vague results though\n",
        "        # sampled_token_index = np.random.choice(range(len(output_tokens[0, -1, :])))\n",
        "\n",
        "        sampled_char = reverse_target_char_index[sampled_token_index]\n",
        "        decoded_sentence += ' '+sampled_char\n",
        "\n",
        "        # Exit condition: either hit max length\n",
        "        # or find stop character.\n",
        "        if (sampled_char == '_END' or\n",
        "           len(decoded_sentence) > max_length_tar):\n",
        "            stop_condition = True\n",
        "\n",
        "        # Update the target sequence (of length 1).\n",
        "        target_seq = np.zeros((1,1))\n",
        "        target_seq[0, 0] = sampled_token_index\n",
        "\n",
        "        # Update states\n",
        "        states_value = [h, c]\n",
        "\n",
        "    return decoded_sentence"
      ],
      "execution_count": 0,
      "outputs": []
    },
    {
      "cell_type": "markdown",
      "metadata": {
        "id": "21rFGMBx3FOU",
        "colab_type": "text"
      },
      "source": [
        "My attempt at using ***Beam Search Decoding*** using probabilites"
      ]
    },
    {
      "cell_type": "code",
      "metadata": {
        "id": "yGG-_B9U3jwH",
        "colab_type": "code",
        "colab": {}
      },
      "source": [
        "def beam_search_decoder(predictions, top_k = 3):\n",
        "    #start with an empty sequence with zero score\n",
        "    output_sequences = [([], 0)]\n",
        "    \n",
        "    #looping through all the predictions\n",
        "    for token_probs in predictions:\n",
        "        new_sequences = []\n",
        "        \n",
        "        #append new tokens to old sequences and re-score\n",
        "        for old_seq, old_score in output_sequences:\n",
        "            for char_index in range(len(token_probs)):\n",
        "                new_seq = old_seq + [char_index]\n",
        "                #considering log-likelihood for scoring\n",
        "                new_score = old_score + math.log(token_probs[char_index])\n",
        "                new_sequences.append((new_seq, new_score))\n",
        "                \n",
        "        #sort all new sequences in the de-creasing order of their score\n",
        "        output_sequences = sorted(new_sequences, key = lambda val: val[1], reverse = True)\n",
        "        \n",
        "        #select top-k based on score \n",
        "        # *Note- best sequence is with the highest score\n",
        "        output_sequences = output_sequences[:top_k]\n",
        "        \n",
        "    return output_sequences"
      ],
      "execution_count": 0,
      "outputs": []
    },
    {
      "cell_type": "code",
      "metadata": {
        "id": "ufLP_9oW3EMo",
        "colab_type": "code",
        "colab": {}
      },
      "source": [
        "def decode_sequence_beam_search(input_seq):\n",
        "    probabilites = []\n",
        "    # Encode the input as state vectors.\n",
        "    states_value = encoder_model.predict(input_seq)\n",
        "    # Generate empty target sequence of length 1.\n",
        "    target_seq = np.zeros((1,1))\n",
        "    # Populate the first character of target sequence with the start character.\n",
        "    target_seq[0, 0] = target_token_index['START_']\n",
        "\n",
        "    # Sampling loop for a batch of sequences\n",
        "    # (to simplify, here we assume a batch of size 1).\n",
        "    stop_condition = False\n",
        "    decoded_sentence = ''\n",
        "    while not stop_condition:\n",
        "        output_tokens, h, c = decoder_model.predict([target_seq] + states_value)\n",
        "\n",
        "        # Sampling a token with max probability\n",
        "        sampled_token_index = np.argmax(output_tokens[0, -1, :])\n",
        "        probabilites.append(output_tokens[0, -1, :])\n",
        "\n",
        "        # random sampling => gives vague results though\n",
        "        # sampled_token_index = np.random.choice(range(len(output_tokens[0, -1, :])))\n",
        "\n",
        "        sampled_char = reverse_target_char_index[sampled_token_index]\n",
        "        decoded_sentence += ' '+sampled_char\n",
        "\n",
        "        # Exit condition: either hit max length\n",
        "        # or find stop character.\n",
        "        if (sampled_char == '_END' or\n",
        "           len(decoded_sentence) > max_length_tar):\n",
        "            stop_condition = True\n",
        "\n",
        "        # Update the target sequence (of length 1).\n",
        "        target_seq = np.zeros((1,1))\n",
        "        target_seq[0, 0] = sampled_token_index\n",
        "\n",
        "        # Update states\n",
        "        states_value = [h, c]\n",
        "\n",
        "    # storing multiple results\n",
        "    outputs = []\n",
        "    beam_search_preds = beam_search_decoder(probabilites, top_k = 5)\n",
        "    for prob_indexes, score in beam_search_preds:\n",
        "        decoded_sentence = ''\n",
        "        for index in prob_indexes:\n",
        "            sampled_char = reverse_target_char_index[index]\n",
        "            decoded_sentence += ' '+sampled_char\n",
        "            if (sampled_char == '_END' or len(decoded_sentence) > max_length_tar):\n",
        "                break\n",
        "        outputs.append(decoded_sentence)\n",
        "\n",
        "    return outputs"
      ],
      "execution_count": 0,
      "outputs": []
    },
    {
      "cell_type": "code",
      "metadata": {
        "id": "3D2LuizE3Mjj",
        "colab_type": "code",
        "colab": {}
      },
      "source": [
        ""
      ],
      "execution_count": 0,
      "outputs": []
    },
    {
      "cell_type": "markdown",
      "metadata": {
        "id": "fThNq6hfiLcc",
        "colab_type": "text"
      },
      "source": [
        "### Training Data"
      ]
    },
    {
      "cell_type": "code",
      "metadata": {
        "id": "4ua4IUSkhvQc",
        "colab_type": "code",
        "colab": {}
      },
      "source": [
        "train_gen = generate_batch(X_train, y_train, batch_size = 1)\n",
        "k=-1"
      ],
      "execution_count": 0,
      "outputs": []
    },
    {
      "cell_type": "code",
      "metadata": {
        "id": "lYrRbZRMhvMm",
        "colab_type": "code",
        "colab": {
          "base_uri": "https://localhost:8080/",
          "height": 1000
        },
        "outputId": "d0c94a0a-461e-4c6a-ba7f-5265330c26d9"
      },
      "source": [
        "for _ in range(20):\n",
        "    k+=1\n",
        "    (input_seq, actual_output), _ = next(train_gen)\n",
        "    decoded_sentence = decode_sequence(input_seq)\n",
        "    print('Input Sentence:', X_train[k:k+1].values[0])\n",
        "    print('Actual Translation:', y_train[k:k+1].values[0][6:-4])\n",
        "    print('Predicted Translation:', decoded_sentence[:-4])\n",
        "    print(\"=\"*30, end=\"\\n\\n\")"
      ],
      "execution_count": 126,
      "outputs": [
        {
          "output_type": "stream",
          "text": [
            "Input Sentence: if you look around youll see many people doing the same thing\n",
            "Actual Translation:  si ves a tu alrededor vas a ver a mucha gente haciendo lo mismo \n",
            "Predicted Translation:  si en en en en en en en en en en en en en mañana \n",
            "==============================\n",
            "\n",
            "Input Sentence: are they gone\n",
            "Actual Translation:  ¿se han marchado \n",
            "Predicted Translation:  se \n",
            "==============================\n",
            "\n",
            "Input Sentence: he knows how to open this door\n",
            "Actual Translation:  él sabe como abrir esta puerta \n",
            "Predicted Translation:  él el de de a \n",
            "==============================\n",
            "\n",
            "Input Sentence: this history book is written for high school students\n",
            "Actual Translation:  este libro de historia está escrito para estudiantes de secundaria \n",
            "Predicted Translation:  el el el la la la la la la la australia este ma\n",
            "==============================\n",
            "\n",
            "Input Sentence: i will get these shoes repaired by tomorrow\n",
            "Actual Translation:  llevaré a arreglar estos zapatos antes de mañana \n",
            "Predicted Translation:  mañana mañana mañana mañana mañana mañana mañana ma\n",
            "==============================\n",
            "\n",
            "Input Sentence: the island is a paradise for children\n",
            "Actual Translation:  la isla es un paraíso para los niños \n",
            "Predicted Translation:  la la una en en en en en en en en en la la \n",
            "==============================\n",
            "\n",
            "Input Sentence: you are rude\n",
            "Actual Translation:  eres un maleducado \n",
            "Predicted Translation:  es es \n",
            "==============================\n",
            "\n",
            "Input Sentence: i asked him if he wanted a watch\n",
            "Actual Translation:  le pregunté si quería un reloj \n",
            "Predicted Translation:  él él que que \n",
            "==============================\n",
            "\n",
            "Input Sentence: tom wants to know how long were going to be here\n",
            "Actual Translation:  tom quiere saber por cuánto tiempo vamos a estar aquí \n",
            "Predicted Translation:  tom tom tom tom tom tom tom tom aquí aquí aquí \n",
            "==============================\n",
            "\n",
            "Input Sentence: two seats were vacant\n",
            "Actual Translation:  había dos sitios libres \n",
            "Predicted Translation:  dos dos dos \n",
            "==============================\n",
            "\n",
            "Input Sentence: i do not know for certain what she is going to do\n",
            "Actual Translation:  no estoy seguro de lo que va a hacer \n",
            "Predicted Translation:  no no no que que \n",
            "==============================\n",
            "\n",
            "Input Sentence: you like elephants\n",
            "Actual Translation:  te gustan los elefantes \n",
            "Predicted Translation:  a como \n",
            "==============================\n",
            "\n",
            "Input Sentence: why dont you take your temperature\n",
            "Actual Translation:  ¿y si te tomas la temperatura \n",
            "Predicted Translation:  ¿por no no tu tu \n",
            "==============================\n",
            "\n",
            "Input Sentence: id like to see the menu\n",
            "Actual Translation:  me gustaría ver la carta \n",
            "Predicted Translation:  el el el la \n",
            "==============================\n",
            "\n",
            "Input Sentence: i forced her to do my homework\n",
            "Actual Translation:  la obligué a que hiciera mi tarea \n",
            "Predicted Translation:  la la que tu a \n",
            "==============================\n",
            "\n",
            "Input Sentence: you look awful\n",
            "Actual Translation:  te ves horrible \n",
            "Predicted Translation:  tú un \n",
            "==============================\n",
            "\n",
            "Input Sentence: shes hyperactive\n",
            "Actual Translation:  ella es hiperactiva \n",
            "Predicted Translation:  ella ella \n",
            "==============================\n",
            "\n",
            "Input Sentence: the scenery was beautiful beyond description\n",
            "Actual Translation:  el escenario era indescriptiblemente bello \n",
            "Predicted Translation:  el el el de \n",
            "==============================\n",
            "\n",
            "Input Sentence: i should never have done it\n",
            "Actual Translation:  no debería haberlo hecho nunca \n",
            "Predicted Translation:  no no lo lo \n",
            "==============================\n",
            "\n",
            "Input Sentence: the word has several meanings\n",
            "Actual Translation:  la palabra tiene varios significados \n",
            "Predicted Translation:  la la la \n",
            "==============================\n",
            "\n"
          ],
          "name": "stdout"
        }
      ]
    },
    {
      "cell_type": "code",
      "metadata": {
        "id": "m3jAtOUk4vNj",
        "colab_type": "code",
        "colab": {
          "base_uri": "https://localhost:8080/",
          "height": 1000
        },
        "outputId": "4b1e508f-46d5-4cd1-e905-ed47fa851065"
      },
      "source": [
        "for _ in range(20):\n",
        "    k+=1\n",
        "    (input_seq, actual_output), _ = next(train_gen)\n",
        "    decoded_sentences = decode_sequence_beam_search(input_seq)\n",
        "    print('Input Sentence:', X_train[k:k+1].values[0])\n",
        "    print('Actual Translation:', y_train[k:k+1].values[0][6:-4])\n",
        "    for idx, pred in enumerate(decoded_sentences):\n",
        "        print(f'Predicted Translation {idx}: {pred[:-4]}')\n",
        "    print(\"=\"*30, end=\"\\n\\n\")"
      ],
      "execution_count": 136,
      "outputs": [
        {
          "output_type": "stream",
          "text": [
            "Input Sentence: he knows how to open this door\n",
            "Actual Translation:  él sabe como abrir esta puerta \n",
            "Predicted Translation 0:  un un \n",
            "Predicted Translation 1:  un \n",
            "Predicted Translation 2:  el un \n",
            "Predicted Translation 3:  la un \n",
            "Predicted Translation 4:  lo un \n",
            "==============================\n",
            "\n",
            "Input Sentence: this history book is written for high school students\n",
            "Actual Translation:  este libro de historia está escrito para estudiantes de secundaria \n",
            "Predicted Translation 0:  este este así así que que no no no \n",
            "Predicted Translation 1:  este este así así así que no no no \n",
            "Predicted Translation 2:  este este así así que así no no no \n",
            "Predicted Translation 3:  este este así así así así no no no \n",
            "Predicted Translation 4:  este este este así que que no no no \n",
            "==============================\n",
            "\n",
            "Input Sentence: i will get these shoes repaired by tomorrow\n",
            "Actual Translation:  llevaré a arreglar estos zapatos antes de mañana \n",
            "Predicted Translation 0:  que lo a a a \n",
            "Predicted Translation 1:  que a a a a \n",
            "Predicted Translation 2:  que lo que a a \n",
            "Predicted Translation 3:  que a que a a \n",
            "Predicted Translation 4:  la lo a a a \n",
            "==============================\n",
            "\n",
            "Input Sentence: the island is a paradise for children\n",
            "Actual Translation:  la isla es un paraíso para los niños \n",
            "Predicted Translation 0:  mañana en en en en en en en en en en la la \n",
            "Predicted Translation 1:  mañana en en en en en en en en en en en la \n",
            "Predicted Translation 2:  mañana en en en en en en en en en en la l\n",
            "Predicted Translation 3:  mañana en en en en en en en en en en en l\n",
            "Predicted Translation 4:  mañana en en en en en en en en en la la la \n",
            "==============================\n",
            "\n",
            "Input Sentence: you are rude\n",
            "Actual Translation:  eres un maleducado \n",
            "Predicted Translation 0:  él a a de de \n",
            "Predicted Translation 1:  él a de de de \n",
            "Predicted Translation 2:  él a a de \n",
            "Predicted Translation 3:  él a a de a \n",
            "Predicted Translation 4:  él a de de \n",
            "==============================\n",
            "\n",
            "Input Sentence: i asked him if he wanted a watch\n",
            "Actual Translation:  le pregunté si quería un reloj \n",
            "Predicted Translation 0:  mi el un este un nuevo un hoy un un \n",
            "Predicted Translation 1:  mi el un este un nuevo un un un un \n",
            "Predicted Translation 2:  mi el un este un nuevo un hoy hoy un \n",
            "Predicted Translation 3:  mi el un este un nuevo un hoy un hoy \n",
            "Predicted Translation 4:  mi el un este un un un hoy un un \n",
            "==============================\n",
            "\n",
            "Input Sentence: tom wants to know how long were going to be here\n",
            "Actual Translation:  tom quiere saber por cuánto tiempo vamos a estar aquí \n",
            "Predicted Translation 0:  no tu tu tu tu \n",
            "Predicted Translation 1:  no tu tu tu su \n",
            "Predicted Translation 2:  no tu tu su tu \n",
            "Predicted Translation 3:  no tu tu tu \n",
            "Predicted Translation 4:  no tu tu su su \n",
            "==============================\n",
            "\n",
            "Input Sentence: two seats were vacant\n",
            "Actual Translation:  había dos sitios libres \n",
            "Predicted Translation 0:  ella a a su su su los los los los los los los los\n",
            "Predicted Translation 1:  ella a a a su su los los los los los los los los\n",
            "Predicted Translation 2:  ella el a su su su los los los los los los los los\n",
            "Predicted Translation 3:  ella a su su su su los los los los los los los los\n",
            "Predicted Translation 4:  ella a a su su los los los los los los los los los\n",
            "==============================\n",
            "\n",
            "Input Sentence: i do not know for certain what she is going to do\n",
            "Actual Translation:  no estoy seguro de lo que va a hacer \n",
            "Predicted Translation 0:  en en \n",
            "Predicted Translation 1:  nada en \n",
            "Predicted Translation 2:  lo en \n",
            "Predicted Translation 3:  en \n",
            "Predicted Translation 4:  que en \n",
            "==============================\n",
            "\n",
            "Input Sentence: you like elephants\n",
            "Actual Translation:  te gustan los elefantes \n",
            "Predicted Translation 0:  te que \n",
            "Predicted Translation 1:  mary que \n",
            "Predicted Translation 2:  ¿no que \n",
            "Predicted Translation 3:  ¿puedes que \n",
            "Predicted Translation 4:  que que \n",
            "==============================\n",
            "\n",
            "Input Sentence: why dont you take your temperature\n",
            "Actual Translation:  ¿y si te tomas la temperatura \n",
            "Predicted Translation 0:  tom tom tom tom tom tom tom tom tom \n",
            "Predicted Translation 1:  tom tom tom tom tom tom tom tom \n",
            "Predicted Translation 2:  tom tom tom tom tom tom tom tom tom\n",
            "Predicted Translation 3:  tom tom tom tom tom tom tom tom \n",
            "Predicted Translation 4:  tom tom tom tom tom tom todo tom tom \n",
            "==============================\n",
            "\n",
            "Input Sentence: id like to see the menu\n",
            "Actual Translation:  me gustaría ver la carta \n",
            "Predicted Translation 0:  el el el el \n",
            "Predicted Translation 1:  el el el un \n",
            "Predicted Translation 2:  el el el la \n",
            "Predicted Translation 3:  el el un el \n",
            "Predicted Translation 4:  el el la el \n",
            "==============================\n",
            "\n",
            "Input Sentence: i forced her to do my homework\n",
            "Actual Translation:  la obligué a que hiciera mi tarea \n",
            "Predicted Translation 0:  algo mucho mucho que que dinero francés \n",
            "Predicted Translation 1:  algo mucho mucho que que mucho francés \n",
            "Predicted Translation 2:  un mucho mucho que que dinero francés \n",
            "Predicted Translation 3:  algo mucho mucho que que dinero \n",
            "Predicted Translation 4:  un mucho mucho que que mucho francés \n",
            "==============================\n",
            "\n",
            "Input Sentence: you look awful\n",
            "Actual Translation:  te ves horrible \n",
            "Predicted Translation 0:  tom tom tom tom aquí aquí \n",
            "Predicted Translation 1:  tom tom tom tom aquí \n",
            "Predicted Translation 2:  tom tom tom tom aquí aquí \n",
            "Predicted Translation 3:  tom tom tom tom aquí \n",
            "Predicted Translation 4:  tom tom tom tom aquí aquí a\n",
            "==============================\n",
            "\n",
            "Input Sentence: shes hyperactive\n",
            "Actual Translation:  ella es hiperactiva \n",
            "Predicted Translation 0:  su su su \n",
            "Predicted Translation 1:  su su s\n",
            "Predicted Translation 2:  la su su \n",
            "Predicted Translation 3:  la su s\n",
            "Predicted Translation 4:  su su \n",
            "==============================\n",
            "\n",
            "Input Sentence: the scenery was beautiful beyond description\n",
            "Actual Translation:  el escenario era indescriptiblemente bello \n",
            "Predicted Translation 0:  nos que en a de \n",
            "Predicted Translation 1:  nos que en a en \n",
            "Predicted Translation 2:  nos que en a a \n",
            "Predicted Translation 3:  nosotros que en a de \n",
            "Predicted Translation 4:  nosotros que en a en \n",
            "==============================\n",
            "\n",
            "Input Sentence: i should never have done it\n",
            "Actual Translation:  no debería haberlo hecho nunca \n",
            "Predicted Translation 0:  el lo lo nada \n",
            "Predicted Translation 1:  el lo que nada \n",
            "Predicted Translation 2:  el lo lo todo \n",
            "Predicted Translation 3:  el lo lo que \n",
            "Predicted Translation 4:  el lo que todo \n",
            "==============================\n",
            "\n",
            "Input Sentence: the word has several meanings\n",
            "Actual Translation:  la palabra tiene varios significados \n",
            "Predicted Translation 0:  ella siempre siempre cuando de de \n",
            "Predicted Translation 1:  ella siempre siempre de de de \n",
            "Predicted Translation 2:  ella ella siempre cuando de de \n",
            "Predicted Translation 3:  ella ella siempre de de de \n",
            "Predicted Translation 4:  ella siempre siempre siempre de de \n",
            "==============================\n",
            "\n",
            "Input Sentence: love is complicated\n",
            "Actual Translation:  el amor es complicado \n",
            "Predicted Translation 0:  el para para para el el el al \n",
            "Predicted Translation 1:  el para para para el el al al \n",
            "Predicted Translation 2:  el para para para el el el el \n",
            "Predicted Translation 3:  el para para para el el al el \n",
            "Predicted Translation 4:  el para para para para el el al \n",
            "==============================\n",
            "\n",
            "Input Sentence: its not us\n",
            "Actual Translation:  no somos nosotros \n",
            "Predicted Translation 0:  la la \n",
            "Predicted Translation 1:  la l\n",
            "Predicted Translation 2:  el la \n",
            "Predicted Translation 3:  la el \n",
            "Predicted Translation 4:  la \n",
            "==============================\n",
            "\n"
          ],
          "name": "stdout"
        }
      ]
    },
    {
      "cell_type": "code",
      "metadata": {
        "id": "qytlFdnrhvG5",
        "colab_type": "code",
        "colab": {}
      },
      "source": [
        ""
      ],
      "execution_count": 0,
      "outputs": []
    },
    {
      "cell_type": "markdown",
      "metadata": {
        "id": "128CBoYriOuU",
        "colab_type": "text"
      },
      "source": [
        "### Testing Data"
      ]
    },
    {
      "cell_type": "code",
      "metadata": {
        "id": "QdkmKx2HhvCk",
        "colab_type": "code",
        "colab": {}
      },
      "source": [
        "val_gen = generate_batch(X_test, y_test, batch_size = 1)\n",
        "k=-1"
      ],
      "execution_count": 0,
      "outputs": []
    },
    {
      "cell_type": "code",
      "metadata": {
        "id": "mTd6pAdqiQuQ",
        "colab_type": "code",
        "colab": {
          "base_uri": "https://localhost:8080/",
          "height": 1000
        },
        "outputId": "45b52cea-afc1-43ef-ae6f-13eb16c215e7"
      },
      "source": [
        "for _ in range(20):\n",
        "    k+=1\n",
        "    (input_seq, actual_output), _ = next(val_gen)\n",
        "    decoded_sentence = decode_sequence(input_seq)\n",
        "    print('Input Sentence:', X_test[k:k+1].values[0])\n",
        "    print('Actual Translation:', y_test[k:k+1].values[0][6:-4])\n",
        "    print('Predicted Translation:', decoded_sentence[:-4])\n",
        "    print(\"=\"*30, end=\"\\n\\n\")"
      ],
      "execution_count": 128,
      "outputs": [
        {
          "output_type": "stream",
          "text": [
            "Input Sentence: tom didnt have much food to eat\n",
            "Actual Translation:  tom no tenía mucha comida para comer \n",
            "Predicted Translation:  tom no no no no no no no \n",
            "==============================\n",
            "\n",
            "Input Sentence: they studied them closely\n",
            "Actual Translation:  los estudiaron de cerca \n",
            "Predicted Translation:  ellos ellos \n",
            "==============================\n",
            "\n",
            "Input Sentence: do you think im doing the right thing\n",
            "Actual Translation:  ¿pensás que estoy haciendo lo correcto \n",
            "Predicted Translation:  no a que que que \n",
            "==============================\n",
            "\n",
            "Input Sentence: i like cats more than dogs\n",
            "Actual Translation:  a mí me gustan los gatos más que los perros \n",
            "Predicted Translation:  a como como la aprender la \n",
            "==============================\n",
            "\n",
            "Input Sentence: tom wouldnt approve\n",
            "Actual Translation:  tom no lo aprobaría \n",
            "Predicted Translation:  tom tom tom tom \n",
            "==============================\n",
            "\n",
            "Input Sentence: i am fond of reading\n",
            "Actual Translation:  me gusta leer libros \n",
            "Predicted Translation:  él la \n",
            "==============================\n",
            "\n",
            "Input Sentence: the meeting was a little shorter than i expected it to be\n",
            "Actual Translation:  la reunión fue algo más corta de lo que me había imaginado \n",
            "Predicted Translation:  la la que que que que que de de \n",
            "==============================\n",
            "\n",
            "Input Sentence: would you show us some samples of your work\n",
            "Actual Translation:  ¿nos puedes enseñar algunas muestras de tu trabajo \n",
            "Predicted Translation:  él un un un un un un \n",
            "==============================\n",
            "\n",
            "Input Sentence: tom and mary dont talk to each other\n",
            "Actual Translation:  tom y mary no se hablan \n",
            "Predicted Translation:  tom a a a a a a a a a a \n",
            "==============================\n",
            "\n",
            "Input Sentence: can i pay later\n",
            "Actual Translation:  puedo pagar más tarde \n",
            "Predicted Translation:  lo el más \n",
            "==============================\n",
            "\n",
            "Input Sentence: tom has no respect for authority\n",
            "Actual Translation:  tom no tiene respeto por las autoridades \n",
            "Predicted Translation:  tom tom tom su su su su \n",
            "==============================\n",
            "\n",
            "Input Sentence: you do what you can\n",
            "Actual Translation:  haz lo que puedas \n",
            "Predicted Translation:  lo lo \n",
            "==============================\n",
            "\n",
            "Input Sentence: this fish has a lot of bones\n",
            "Actual Translation:  este pescado tiene muchas espinas \n",
            "Predicted Translation:  este de muy muy muy \n",
            "==============================\n",
            "\n",
            "Input Sentence: italy isnt greece\n",
            "Actual Translation:  italia no es grecia \n",
            "Predicted Translation:  no no no \n",
            "==============================\n",
            "\n",
            "Input Sentence: its warm in here\n",
            "Actual Translation:  hace calor aquí \n",
            "Predicted Translation:  aquí aquí aquí aquí aquí aquí aquí aquí aquí \n",
            "==============================\n",
            "\n",
            "Input Sentence: i like spicy mexican food\n",
            "Actual Translation:  me gusta la comida picante mejicana \n",
            "Predicted Translation:  a la la la la la la la la la la \n",
            "==============================\n",
            "\n",
            "Input Sentence: how are you feeling this morning\n",
            "Actual Translation:  ¿cómo te sientes esta mañana \n",
            "Predicted Translation:  ¿cómo qué esta esta esta mañana \n",
            "==============================\n",
            "\n",
            "Input Sentence: tom speaks french a little\n",
            "Actual Translation:  tom habla un poco de francés \n",
            "Predicted Translation:  tom tom tom tom tom tom tom tom tom tom tom tom\n",
            "==============================\n",
            "\n",
            "Input Sentence: take things as they are\n",
            "Actual Translation:  acepta las cosas como son \n",
            "Predicted Translation:  las las los \n",
            "==============================\n",
            "\n",
            "Input Sentence: youre very beautiful\n",
            "Actual Translation:  eres hermosísima \n",
            "Predicted Translation:  eres muy muy \n",
            "==============================\n",
            "\n"
          ],
          "name": "stdout"
        }
      ]
    },
    {
      "cell_type": "code",
      "metadata": {
        "id": "K-fmFni3iQ1y",
        "colab_type": "code",
        "colab": {}
      },
      "source": [
        ""
      ],
      "execution_count": 0,
      "outputs": []
    },
    {
      "cell_type": "code",
      "metadata": {
        "id": "o6ePOWT0FnAs",
        "colab_type": "code",
        "colab": {}
      },
      "source": [
        ""
      ],
      "execution_count": 0,
      "outputs": []
    }
  ]
}