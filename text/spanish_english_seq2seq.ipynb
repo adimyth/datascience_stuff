{
  "nbformat": 4,
  "nbformat_minor": 0,
  "metadata": {
    "colab": {
      "name": "spanish-english-seq2seq",
      "provenance": [],
      "collapsed_sections": [],
      "machine_shape": "hm",
      "authorship_tag": "ABX9TyMxdgOIMeh1QfrKGbgoK4jS",
      "include_colab_link": true
    },
    "kernelspec": {
      "name": "python3",
      "display_name": "Python 3"
    },
    "accelerator": "GPU"
  },
  "cells": [
    {
      "cell_type": "markdown",
      "metadata": {
        "id": "view-in-github",
        "colab_type": "text"
      },
      "source": [
        "<a href=\"https://colab.research.google.com/github/adimyth/interesting_stuff/blob/master/text/spanish_english_seq2seq.ipynb\" target=\"_parent\"><img src=\"https://colab.research.google.com/assets/colab-badge.svg\" alt=\"Open In Colab\"/></a>"
      ]
    },
    {
      "cell_type": "markdown",
      "metadata": {
        "id": "78OcyDwKFo6z",
        "colab_type": "text"
      },
      "source": [
        "# Word Level Seq2Seq Model\n",
        "\n",
        "Shamelessly, copied from [here](https://github.com/hlamba28/Word-Level-Eng-Mar-NMT/blob/master/WordLevelEngMarNMT.ipynb)"
      ]
    },
    {
      "cell_type": "markdown",
      "metadata": {
        "id": "8mU-lZlObN-F",
        "colab_type": "text"
      },
      "source": [
        "## Encoder\n",
        "![Encoder](https://guillaumegenthial.github.io/assets/img2latex/seq2seq_vanilla_encoder.svg)\n",
        "\n",
        "## Decoder\n",
        "![Decoder](https://guillaumegenthial.github.io/assets/img2latex/seq2seq_vanilla_decoder.svg)\n",
        "\n",
        "\n",
        "Stepwise, the decoder operates as - \n",
        "![Decoder Operation](https://i.imgur.com/sWRGsi4.png)"
      ]
    },
    {
      "cell_type": "markdown",
      "metadata": {
        "id": "mm8EvwjwggXH",
        "colab_type": "text"
      },
      "source": [
        "## Dataset\n",
        "English to Spanish Conversion - http://www.manythings.org/anki/spa-eng.zip"
      ]
    },
    {
      "cell_type": "code",
      "metadata": {
        "id": "aZW-uEgIf7Yy",
        "colab_type": "code",
        "outputId": "43234a12-266b-4be0-dc23-2dae0f0a2563",
        "colab": {
          "base_uri": "https://localhost:8080/",
          "height": 224
        }
      },
      "source": [
        "!wget http://www.manythings.org/anki/spa-eng.zip"
      ],
      "execution_count": 1,
      "outputs": [
        {
          "output_type": "stream",
          "text": [
            "--2020-04-19 09:09:10--  http://www.manythings.org/anki/spa-eng.zip\n",
            "Resolving www.manythings.org (www.manythings.org)... 104.24.108.196, 104.24.109.196, 2606:4700:3037::6818:6cc4, ...\n",
            "Connecting to www.manythings.org (www.manythings.org)|104.24.108.196|:80... connected.\n",
            "HTTP request sent, awaiting response... 200 OK\n",
            "Length: 4781548 (4.6M) [application/zip]\n",
            "Saving to: ‘spa-eng.zip’\n",
            "\n",
            "\rspa-eng.zip           0%[                    ]       0  --.-KB/s               \rspa-eng.zip           9%[>                   ] 440.20K  1.89MB/s               \rspa-eng.zip         100%[===================>]   4.56M  12.2MB/s    in 0.4s    \n",
            "\n",
            "2020-04-19 09:09:10 (12.2 MB/s) - ‘spa-eng.zip’ saved [4781548/4781548]\n",
            "\n"
          ],
          "name": "stdout"
        }
      ]
    },
    {
      "cell_type": "code",
      "metadata": {
        "id": "m_CfMoXrhPJ6",
        "colab_type": "code",
        "outputId": "874d8a9b-08cc-49d8-9556-17127bb001fe",
        "colab": {
          "base_uri": "https://localhost:8080/",
          "height": 187
        }
      },
      "source": [
        "!unzip -l spa-eng.zip\n",
        "!unzip spa-eng.zip"
      ],
      "execution_count": 2,
      "outputs": [
        {
          "output_type": "stream",
          "text": [
            "Archive:  spa-eng.zip\n",
            "  Length      Date    Time    Name\n",
            "---------  ---------- -----   ----\n",
            "     1441  2020-03-15 02:17   _about.txt\n",
            " 18493172  2020-03-15 02:17   spa.txt\n",
            "---------                     -------\n",
            " 18494613                     2 files\n",
            "Archive:  spa-eng.zip\n",
            "  inflating: _about.txt              \n",
            "  inflating: spa.txt                 \n"
          ],
          "name": "stdout"
        }
      ]
    },
    {
      "cell_type": "code",
      "metadata": {
        "id": "LrLwTegngpaq",
        "colab_type": "code",
        "colab": {
          "base_uri": "https://localhost:8080/",
          "height": 71
        },
        "outputId": "5250ed3e-66de-450a-efe3-9aa3cf794e26"
      },
      "source": [
        "import matplotlib.pyplot as plt\n",
        "from itertools import islice\n",
        "import math\n",
        "import numpy as np\n",
        "import pandas as pd\n",
        "import random\n",
        "import re\n",
        "import seaborn as sns\n",
        "import string\n",
        "from string import digits\n",
        "from sklearn.utils import shuffle\n",
        "from sklearn.model_selection import train_test_split\n",
        "import tensorflow as tf\n",
        "from tensorflow.keras.layers import Input, LSTM, Embedding, Dense\n",
        "from tensorflow.keras.models import Model, load_model\n",
        "from tensorflow.keras.utils import plot_model"
      ],
      "execution_count": 1,
      "outputs": [
        {
          "output_type": "stream",
          "text": [
            "/usr/local/lib/python3.6/dist-packages/statsmodels/tools/_testing.py:19: FutureWarning: pandas.util.testing is deprecated. Use the functions in the public API at pandas.testing instead.\n",
            "  import pandas.util.testing as tm\n"
          ],
          "name": "stderr"
        }
      ]
    },
    {
      "cell_type": "code",
      "metadata": {
        "id": "QXwoZpIXWvrb",
        "colab_type": "code",
        "colab": {}
      },
      "source": [
        "from tensorflow.python.framework.ops import disable_eager_execution, enable_eager_execution\n",
        "disable_eager_execution()"
      ],
      "execution_count": 0,
      "outputs": []
    },
    {
      "cell_type": "markdown",
      "metadata": {
        "id": "_cE9QLnWWwkQ",
        "colab_type": "text"
      },
      "source": [
        "Disabling eager execution because all zeros mask raises some CuDNN kernel level issue. Refere [here](https://github.com/tensorflow/tensorflow/issues/33148)"
      ]
    },
    {
      "cell_type": "code",
      "metadata": {
        "id": "V_QqGC99gz1Q",
        "colab_type": "code",
        "colab": {}
      },
      "source": [
        "%matplotlib inline\n",
        "sns.set_style(\"whitegrid\")"
      ],
      "execution_count": 0,
      "outputs": []
    },
    {
      "cell_type": "code",
      "metadata": {
        "id": "Ps65fz_BhFDN",
        "colab_type": "code",
        "colab": {}
      },
      "source": [
        "lines = pd.read_table('spa.txt', names=['english', 'spanish', 'attributes'])\n",
        "# lines = pd.DataFrame({\"english\": [\"Juan eats apples\"], \"spanish\": [\"Juan come manzanas\"], \"attributes\": \"\"})"
      ],
      "execution_count": 0,
      "outputs": []
    },
    {
      "cell_type": "code",
      "metadata": {
        "id": "x8uNdjbIh9pS",
        "colab_type": "code",
        "outputId": "431e55e1-5e49-462a-89a3-11b855cd157a",
        "colab": {
          "base_uri": "https://localhost:8080/",
          "height": 34
        }
      },
      "source": [
        "lines.shape"
      ],
      "execution_count": 5,
      "outputs": [
        {
          "output_type": "execute_result",
          "data": {
            "text/plain": [
              "(123770, 3)"
            ]
          },
          "metadata": {
            "tags": []
          },
          "execution_count": 5
        }
      ]
    },
    {
      "cell_type": "code",
      "metadata": {
        "id": "xHAiIbv6kEpz",
        "colab_type": "code",
        "colab": {}
      },
      "source": [
        "lines = lines.drop(columns=['attributes'])"
      ],
      "execution_count": 0,
      "outputs": []
    },
    {
      "cell_type": "code",
      "metadata": {
        "id": "YyK4Ck3kiG_Q",
        "colab_type": "code",
        "colab": {}
      },
      "source": [
        "for col in lines.columns:\n",
        "    # lowercase\n",
        "    lines[col] = lines[col].apply(lambda x: x.lower())\n",
        "    # remove quotes\n",
        "    lines[col] = lines[col].apply(lambda x: re.sub(\"'\", \"\", x))\n",
        "    # remove punctuations\n",
        "    lines[col] = lines[col].apply(lambda x: ''.join(ch for ch in x if ch not in set(string.punctuation)))\n",
        "    # remove numbers\n",
        "    remove_digits = str.maketrans('', '', digits)\n",
        "    lines[col] = lines[col].apply(lambda x: x.translate(remove_digits))\n",
        "    # remove unnecessary spaces\n",
        "    lines[col] = lines[col].apply(lambda x: x.strip())\n",
        "    lines[col] = lines[col].apply(lambda x: re.sub(\" +\", \" \", x))"
      ],
      "execution_count": 0,
      "outputs": []
    },
    {
      "cell_type": "code",
      "metadata": {
        "id": "j5XEID_D09DX",
        "colab_type": "code",
        "colab": {}
      },
      "source": [
        "# Add start and end tokens to target sequences\n",
        "lines['spanish'] = lines['spanish'].apply(lambda x : 'START_ '+ x + ' _END')"
      ],
      "execution_count": 0,
      "outputs": []
    },
    {
      "cell_type": "code",
      "metadata": {
        "id": "Bx2190qtjvfQ",
        "colab_type": "code",
        "colab": {}
      },
      "source": [
        "pd.set_option('display.max_colwidth', 100)"
      ],
      "execution_count": 0,
      "outputs": []
    },
    {
      "cell_type": "code",
      "metadata": {
        "id": "5yRVgA1miHJR",
        "colab_type": "code",
        "outputId": "06bc35ef-ade3-4760-fa96-31238f4a4a57",
        "colab": {
          "base_uri": "https://localhost:8080/",
          "height": 359
        }
      },
      "source": [
        "lines.head(10)"
      ],
      "execution_count": 10,
      "outputs": [
        {
          "output_type": "execute_result",
          "data": {
            "text/html": [
              "<div>\n",
              "<style scoped>\n",
              "    .dataframe tbody tr th:only-of-type {\n",
              "        vertical-align: middle;\n",
              "    }\n",
              "\n",
              "    .dataframe tbody tr th {\n",
              "        vertical-align: top;\n",
              "    }\n",
              "\n",
              "    .dataframe thead th {\n",
              "        text-align: right;\n",
              "    }\n",
              "</style>\n",
              "<table border=\"1\" class=\"dataframe\">\n",
              "  <thead>\n",
              "    <tr style=\"text-align: right;\">\n",
              "      <th></th>\n",
              "      <th>english</th>\n",
              "      <th>spanish</th>\n",
              "    </tr>\n",
              "  </thead>\n",
              "  <tbody>\n",
              "    <tr>\n",
              "      <th>0</th>\n",
              "      <td>go</td>\n",
              "      <td>START_ ve _END</td>\n",
              "    </tr>\n",
              "    <tr>\n",
              "      <th>1</th>\n",
              "      <td>go</td>\n",
              "      <td>START_ vete _END</td>\n",
              "    </tr>\n",
              "    <tr>\n",
              "      <th>2</th>\n",
              "      <td>go</td>\n",
              "      <td>START_ vaya _END</td>\n",
              "    </tr>\n",
              "    <tr>\n",
              "      <th>3</th>\n",
              "      <td>go</td>\n",
              "      <td>START_ váyase _END</td>\n",
              "    </tr>\n",
              "    <tr>\n",
              "      <th>4</th>\n",
              "      <td>hi</td>\n",
              "      <td>START_ hola _END</td>\n",
              "    </tr>\n",
              "    <tr>\n",
              "      <th>5</th>\n",
              "      <td>run</td>\n",
              "      <td>START_ ¡corre _END</td>\n",
              "    </tr>\n",
              "    <tr>\n",
              "      <th>6</th>\n",
              "      <td>run</td>\n",
              "      <td>START_ ¡corran _END</td>\n",
              "    </tr>\n",
              "    <tr>\n",
              "      <th>7</th>\n",
              "      <td>run</td>\n",
              "      <td>START_ ¡corra _END</td>\n",
              "    </tr>\n",
              "    <tr>\n",
              "      <th>8</th>\n",
              "      <td>run</td>\n",
              "      <td>START_ ¡corred _END</td>\n",
              "    </tr>\n",
              "    <tr>\n",
              "      <th>9</th>\n",
              "      <td>run</td>\n",
              "      <td>START_ corred _END</td>\n",
              "    </tr>\n",
              "  </tbody>\n",
              "</table>\n",
              "</div>"
            ],
            "text/plain": [
              "  english              spanish\n",
              "0      go       START_ ve _END\n",
              "1      go     START_ vete _END\n",
              "2      go     START_ vaya _END\n",
              "3      go   START_ váyase _END\n",
              "4      hi     START_ hola _END\n",
              "5     run   START_ ¡corre _END\n",
              "6     run  START_ ¡corran _END\n",
              "7     run   START_ ¡corra _END\n",
              "8     run  START_ ¡corred _END\n",
              "9     run   START_ corred _END"
            ]
          },
          "metadata": {
            "tags": []
          },
          "execution_count": 10
        }
      ]
    },
    {
      "cell_type": "code",
      "metadata": {
        "id": "jvEJ-V-qFUtT",
        "colab_type": "code",
        "colab": {}
      },
      "source": [
        ""
      ],
      "execution_count": 0,
      "outputs": []
    },
    {
      "cell_type": "markdown",
      "metadata": {
        "id": "m70v150OlcO2",
        "colab_type": "text"
      },
      "source": [
        "## Creating Vocabulary\n",
        "Create vocabulary of english and spanish words"
      ]
    },
    {
      "cell_type": "code",
      "metadata": {
        "id": "MLQcyB9PiHRQ",
        "colab_type": "code",
        "outputId": "afd349bb-1c7f-4048-a54f-2065b9c7c42e",
        "colab": {
          "base_uri": "https://localhost:8080/",
          "height": 34
        }
      },
      "source": [
        "# English Vocab\n",
        "all_eng_words = set()\n",
        "for eng in lines['english']:\n",
        "    for word in eng.split():\n",
        "        if word not in all_eng_words:\n",
        "            all_eng_words.add(word)\n",
        "print(f\"English Vocab: {len(all_eng_words)}\")"
      ],
      "execution_count": 11,
      "outputs": [
        {
          "output_type": "stream",
          "text": [
            "English Vocab: 13475\n"
          ],
          "name": "stdout"
        }
      ]
    },
    {
      "cell_type": "code",
      "metadata": {
        "id": "xcSjwUliiHGz",
        "colab_type": "code",
        "outputId": "967dd9a8-2bb9-4be3-de01-e2d7b5b022ba",
        "colab": {
          "base_uri": "https://localhost:8080/",
          "height": 34
        }
      },
      "source": [
        "# Spanish Vocab\n",
        "all_spa_words = set()\n",
        "for spa in lines['spanish']:\n",
        "    for word in spa.split():\n",
        "        if word not in all_spa_words:\n",
        "            all_spa_words.add(word)\n",
        "print(f\"Spanish Vocab: {len(all_spa_words)}\")"
      ],
      "execution_count": 12,
      "outputs": [
        {
          "output_type": "stream",
          "text": [
            "Spanish Vocab: 27264\n"
          ],
          "name": "stdout"
        }
      ]
    },
    {
      "cell_type": "code",
      "metadata": {
        "id": "C2OhsOMTiHEO",
        "colab_type": "code",
        "outputId": "40db7a62-2c84-4c37-8e20-0bd27bfaec3b",
        "colab": {
          "base_uri": "https://localhost:8080/",
          "height": 34
        }
      },
      "source": [
        "# Max Length of source sequence\n",
        "lenght_list_eng=[]\n",
        "for l in lines['english']:\n",
        "    lenght_list_eng.append(len(l.split(' ')))\n",
        "max_length_src = np.max(lenght_list_eng)\n",
        "print(f\"Max Length Sentence (English): {max_length_src}\")"
      ],
      "execution_count": 13,
      "outputs": [
        {
          "output_type": "stream",
          "text": [
            "Max Length Sentence (English): 47\n"
          ],
          "name": "stdout"
        }
      ]
    },
    {
      "cell_type": "code",
      "metadata": {
        "id": "GAuhsphZmGMZ",
        "colab_type": "code",
        "outputId": "73d9bbcf-9ea3-4a85-c1f8-0aad96c11da9",
        "colab": {
          "base_uri": "https://localhost:8080/",
          "height": 34
        }
      },
      "source": [
        "# Max Length of target sequence\n",
        "lenght_list_spa=[]\n",
        "for l in lines['spanish']:\n",
        "    lenght_list_spa.append(len(l.split(' ')))\n",
        "max_length_tar = np.max(lenght_list_spa)\n",
        "print(f\"Max Length Sentence (Spanish): {max_length_src}\")"
      ],
      "execution_count": 14,
      "outputs": [
        {
          "output_type": "stream",
          "text": [
            "Max Length Sentence (Spanish): 47\n"
          ],
          "name": "stdout"
        }
      ]
    },
    {
      "cell_type": "code",
      "metadata": {
        "id": "EruJWzYonDep",
        "colab_type": "code",
        "outputId": "3dff2e05-9821-401e-f206-0126b405e084",
        "colab": {
          "base_uri": "https://localhost:8080/",
          "height": 34
        }
      },
      "source": [
        "matches = [i for i, j in zip(lenght_list_eng, lenght_list_spa) if i == j]\n",
        "print(f\"Number of matches: {len(matches)} ({(len(matches)*100/lines.shape[0]):.2f})\")"
      ],
      "execution_count": 15,
      "outputs": [
        {
          "output_type": "stream",
          "text": [
            "Number of matches: 13865 (11.20)\n"
          ],
          "name": "stdout"
        }
      ]
    },
    {
      "cell_type": "code",
      "metadata": {
        "id": "GYSA4bPSmGdO",
        "colab_type": "code",
        "outputId": "937449aa-7b6b-44b2-88c8-437aa8c9f22e",
        "colab": {
          "base_uri": "https://localhost:8080/",
          "height": 204
        }
      },
      "source": [
        "lines.head()"
      ],
      "execution_count": 16,
      "outputs": [
        {
          "output_type": "execute_result",
          "data": {
            "text/html": [
              "<div>\n",
              "<style scoped>\n",
              "    .dataframe tbody tr th:only-of-type {\n",
              "        vertical-align: middle;\n",
              "    }\n",
              "\n",
              "    .dataframe tbody tr th {\n",
              "        vertical-align: top;\n",
              "    }\n",
              "\n",
              "    .dataframe thead th {\n",
              "        text-align: right;\n",
              "    }\n",
              "</style>\n",
              "<table border=\"1\" class=\"dataframe\">\n",
              "  <thead>\n",
              "    <tr style=\"text-align: right;\">\n",
              "      <th></th>\n",
              "      <th>english</th>\n",
              "      <th>spanish</th>\n",
              "    </tr>\n",
              "  </thead>\n",
              "  <tbody>\n",
              "    <tr>\n",
              "      <th>0</th>\n",
              "      <td>go</td>\n",
              "      <td>START_ ve _END</td>\n",
              "    </tr>\n",
              "    <tr>\n",
              "      <th>1</th>\n",
              "      <td>go</td>\n",
              "      <td>START_ vete _END</td>\n",
              "    </tr>\n",
              "    <tr>\n",
              "      <th>2</th>\n",
              "      <td>go</td>\n",
              "      <td>START_ vaya _END</td>\n",
              "    </tr>\n",
              "    <tr>\n",
              "      <th>3</th>\n",
              "      <td>go</td>\n",
              "      <td>START_ váyase _END</td>\n",
              "    </tr>\n",
              "    <tr>\n",
              "      <th>4</th>\n",
              "      <td>hi</td>\n",
              "      <td>START_ hola _END</td>\n",
              "    </tr>\n",
              "  </tbody>\n",
              "</table>\n",
              "</div>"
            ],
            "text/plain": [
              "  english             spanish\n",
              "0      go      START_ ve _END\n",
              "1      go    START_ vete _END\n",
              "2      go    START_ vaya _END\n",
              "3      go  START_ váyase _END\n",
              "4      hi    START_ hola _END"
            ]
          },
          "metadata": {
            "tags": []
          },
          "execution_count": 16
        }
      ]
    },
    {
      "cell_type": "code",
      "metadata": {
        "id": "CtA8nGIDocJw",
        "colab_type": "code",
        "outputId": "0085dac3-8a8b-4838-e033-051ad305e0d0",
        "colab": {
          "base_uri": "https://localhost:8080/",
          "height": 34
        }
      },
      "source": [
        "input_words = sorted(list(all_eng_words))\n",
        "target_words = sorted(list(all_spa_words))\n",
        "num_encoder_tokens = len(all_eng_words)\n",
        "num_decoder_tokens = len(all_spa_words)\n",
        "num_encoder_tokens, num_decoder_tokens"
      ],
      "execution_count": 17,
      "outputs": [
        {
          "output_type": "execute_result",
          "data": {
            "text/plain": [
              "(13475, 27264)"
            ]
          },
          "metadata": {
            "tags": []
          },
          "execution_count": 17
        }
      ]
    },
    {
      "cell_type": "code",
      "metadata": {
        "id": "VPEVqYq8ocg9",
        "colab_type": "code",
        "colab": {}
      },
      "source": [
        "num_encoder_tokens += 1 # For zero padding\n",
        "num_decoder_tokens += 1 # For zero padding"
      ],
      "execution_count": 0,
      "outputs": []
    },
    {
      "cell_type": "code",
      "metadata": {
        "id": "H6ZJ5XICoccy",
        "colab_type": "code",
        "colab": {}
      },
      "source": [
        ""
      ],
      "execution_count": 0,
      "outputs": []
    },
    {
      "cell_type": "markdown",
      "metadata": {
        "id": "xdPfVBDIo8DP",
        "colab_type": "text"
      },
      "source": [
        "## Tokenization"
      ]
    },
    {
      "cell_type": "code",
      "metadata": {
        "id": "QQQJMk1wuJgo",
        "colab_type": "code",
        "colab": {}
      },
      "source": [
        "def take(n, iterable):\n",
        "    \"Return first n items of the iterable as a list\"\n",
        "    return list(islice(iterable, n))"
      ],
      "execution_count": 0,
      "outputs": []
    },
    {
      "cell_type": "code",
      "metadata": {
        "id": "900SDgTwocZl",
        "colab_type": "code",
        "colab": {}
      },
      "source": [
        "input_token_index = dict([(word, i+1) for i, word in enumerate(input_words)])\n",
        "target_token_index = dict([(word, i+1) for i, word in enumerate(target_words)])"
      ],
      "execution_count": 0,
      "outputs": []
    },
    {
      "cell_type": "code",
      "metadata": {
        "id": "btglD6y8uf-X",
        "colab_type": "code",
        "outputId": "03a161d8-1379-4064-ed21-96e43ebab7f7",
        "colab": {
          "base_uri": "https://localhost:8080/",
          "height": 187
        }
      },
      "source": [
        "n_items = take(10, input_token_index.items())\n",
        "for k,v in n_items:\n",
        "    print(k, v)"
      ],
      "execution_count": 21,
      "outputs": [
        {
          "output_type": "stream",
          "text": [
            "a 1\n",
            "aardvark 2\n",
            "aardvarks 3\n",
            "aaron 4\n",
            "aback 5\n",
            "abandon 6\n",
            "abandoned 7\n",
            "abandoning 8\n",
            "abate 9\n",
            "abated 10\n"
          ],
          "name": "stdout"
        }
      ]
    },
    {
      "cell_type": "code",
      "metadata": {
        "id": "FuB53Tomu-gJ",
        "colab_type": "code",
        "outputId": "95abd89e-4c12-478c-f661-701b1961b4ad",
        "colab": {
          "base_uri": "https://localhost:8080/",
          "height": 187
        }
      },
      "source": [
        "n_items = take(10, target_token_index.items())\n",
        "for k,v in n_items:\n",
        "    print(k, v)"
      ],
      "execution_count": 22,
      "outputs": [
        {
          "output_type": "stream",
          "text": [
            "START_ 1\n",
            "_END 2\n",
            "a 3\n",
            "aabe 4\n",
            "aah 5\n",
            "aaron 6\n",
            "abajo 7\n",
            "abandona 8\n",
            "abandonada 9\n",
            "abandonadas 10\n"
          ],
          "name": "stdout"
        }
      ]
    },
    {
      "cell_type": "code",
      "metadata": {
        "id": "eUK7OCyjocXh",
        "colab_type": "code",
        "colab": {}
      },
      "source": [
        "reverse_input_char_index = dict((i, word) for word, i in input_token_index.items())\n",
        "reverse_target_char_index = dict((i, word) for word, i in target_token_index.items())"
      ],
      "execution_count": 0,
      "outputs": []
    },
    {
      "cell_type": "code",
      "metadata": {
        "id": "mH4-8lhJocWC",
        "colab_type": "code",
        "outputId": "7462c4c6-f381-4109-fe98-eeb8191bdb08",
        "colab": {
          "base_uri": "https://localhost:8080/",
          "height": 359
        }
      },
      "source": [
        "lines = shuffle(lines)\n",
        "lines.head(10)"
      ],
      "execution_count": 24,
      "outputs": [
        {
          "output_type": "execute_result",
          "data": {
            "text/html": [
              "<div>\n",
              "<style scoped>\n",
              "    .dataframe tbody tr th:only-of-type {\n",
              "        vertical-align: middle;\n",
              "    }\n",
              "\n",
              "    .dataframe tbody tr th {\n",
              "        vertical-align: top;\n",
              "    }\n",
              "\n",
              "    .dataframe thead th {\n",
              "        text-align: right;\n",
              "    }\n",
              "</style>\n",
              "<table border=\"1\" class=\"dataframe\">\n",
              "  <thead>\n",
              "    <tr style=\"text-align: right;\">\n",
              "      <th></th>\n",
              "      <th>english</th>\n",
              "      <th>spanish</th>\n",
              "    </tr>\n",
              "  </thead>\n",
              "  <tbody>\n",
              "    <tr>\n",
              "      <th>115586</th>\n",
              "      <td>would you mind picking up something on the way back</td>\n",
              "      <td>START_ ¿te importaría recoger algo en el camino de regreso _END</td>\n",
              "    </tr>\n",
              "    <tr>\n",
              "      <th>104605</th>\n",
              "      <td>have i said something to hurt your feelings</td>\n",
              "      <td>START_ ¿he dicho algo que te ha dolido _END</td>\n",
              "    </tr>\n",
              "    <tr>\n",
              "      <th>82735</th>\n",
              "      <td>i cant go to lunch with you today</td>\n",
              "      <td>START_ hoy no puedo ir a comer contigo _END</td>\n",
              "    </tr>\n",
              "    <tr>\n",
              "      <th>42281</th>\n",
              "      <td>i simply dont trust tom</td>\n",
              "      <td>START_ sencillamente no confío en tom _END</td>\n",
              "    </tr>\n",
              "    <tr>\n",
              "      <th>62541</th>\n",
              "      <td>add up this column of figures</td>\n",
              "      <td>START_ sume usted esta columna de cifras _END</td>\n",
              "    </tr>\n",
              "    <tr>\n",
              "      <th>34448</th>\n",
              "      <td>rabbits have long ears</td>\n",
              "      <td>START_ los conejos tienen las orejas grandes _END</td>\n",
              "    </tr>\n",
              "    <tr>\n",
              "      <th>53562</th>\n",
              "      <td>you are a very good artist</td>\n",
              "      <td>START_ eres un muy buen artista _END</td>\n",
              "    </tr>\n",
              "    <tr>\n",
              "      <th>107043</th>\n",
              "      <td>thats enough crying pull yourself together</td>\n",
              "      <td>START_ basta ya de llorar tranquilízate _END</td>\n",
              "    </tr>\n",
              "    <tr>\n",
              "      <th>34085</th>\n",
              "      <td>it snowed in jerusalem</td>\n",
              "      <td>START_ nevó en jerusalén _END</td>\n",
              "    </tr>\n",
              "    <tr>\n",
              "      <th>1867</th>\n",
              "      <td>hes not in</td>\n",
              "      <td>START_ él no está adentro _END</td>\n",
              "    </tr>\n",
              "  </tbody>\n",
              "</table>\n",
              "</div>"
            ],
            "text/plain": [
              "                                                    english                                                          spanish\n",
              "115586  would you mind picking up something on the way back  START_ ¿te importaría recoger algo en el camino de regreso _END\n",
              "104605          have i said something to hurt your feelings                      START_ ¿he dicho algo que te ha dolido _END\n",
              "82735                     i cant go to lunch with you today                      START_ hoy no puedo ir a comer contigo _END\n",
              "42281                               i simply dont trust tom                       START_ sencillamente no confío en tom _END\n",
              "62541                         add up this column of figures                    START_ sume usted esta columna de cifras _END\n",
              "34448                                rabbits have long ears                START_ los conejos tienen las orejas grandes _END\n",
              "53562                            you are a very good artist                             START_ eres un muy buen artista _END\n",
              "107043           thats enough crying pull yourself together                     START_ basta ya de llorar tranquilízate _END\n",
              "34085                                it snowed in jerusalem                                    START_ nevó en jerusalén _END\n",
              "1867                                             hes not in                                   START_ él no está adentro _END"
            ]
          },
          "metadata": {
            "tags": []
          },
          "execution_count": 24
        }
      ]
    },
    {
      "cell_type": "code",
      "metadata": {
        "id": "Nj3YDPqvFWuy",
        "colab_type": "code",
        "colab": {}
      },
      "source": [
        ""
      ],
      "execution_count": 0,
      "outputs": []
    },
    {
      "cell_type": "markdown",
      "metadata": {
        "id": "a7HSfC7gperL",
        "colab_type": "text"
      },
      "source": [
        "## Train-Test Split"
      ]
    },
    {
      "cell_type": "code",
      "metadata": {
        "id": "6dEl7zSyocTe",
        "colab_type": "code",
        "colab": {}
      },
      "source": [
        "X, y = lines[\"english\"], lines[\"spanish\"]"
      ],
      "execution_count": 0,
      "outputs": []
    },
    {
      "cell_type": "code",
      "metadata": {
        "id": "X_qTGlDdocQk",
        "colab_type": "code",
        "colab": {}
      },
      "source": [
        "X_train, X_test, y_train, y_test = train_test_split(X, y, test_size=0.2, random_state=42)"
      ],
      "execution_count": 0,
      "outputs": []
    },
    {
      "cell_type": "code",
      "metadata": {
        "id": "PqYa-lDxocH5",
        "colab_type": "code",
        "outputId": "1de95c7a-3872-441b-8c08-11c057243b98",
        "colab": {
          "base_uri": "https://localhost:8080/",
          "height": 34
        }
      },
      "source": [
        "X_train.shape, y_train.shape"
      ],
      "execution_count": 27,
      "outputs": [
        {
          "output_type": "execute_result",
          "data": {
            "text/plain": [
              "((99016,), (99016,))"
            ]
          },
          "metadata": {
            "tags": []
          },
          "execution_count": 27
        }
      ]
    },
    {
      "cell_type": "code",
      "metadata": {
        "id": "duiwDIjmpvkm",
        "colab_type": "code",
        "outputId": "6be323e7-c41b-4833-d9d6-326b549b92f1",
        "colab": {
          "base_uri": "https://localhost:8080/",
          "height": 34
        }
      },
      "source": [
        "X_test.shape, y_test.shape"
      ],
      "execution_count": 28,
      "outputs": [
        {
          "output_type": "execute_result",
          "data": {
            "text/plain": [
              "((24754,), (24754,))"
            ]
          },
          "metadata": {
            "tags": []
          },
          "execution_count": 28
        }
      ]
    },
    {
      "cell_type": "code",
      "metadata": {
        "id": "6lnJew4GFXh1",
        "colab_type": "code",
        "colab": {}
      },
      "source": [
        ""
      ],
      "execution_count": 0,
      "outputs": []
    },
    {
      "cell_type": "markdown",
      "metadata": {
        "id": "DzG-EgsEFB_C",
        "colab_type": "text"
      },
      "source": [
        "## Generator"
      ]
    },
    {
      "cell_type": "code",
      "metadata": {
        "id": "EnS0Yh-dpv7q",
        "colab_type": "code",
        "colab": {}
      },
      "source": [
        "def generate_batch(X=X_train, y=y_train, batch_size=128):\n",
        "    ''' Generate a batch of data '''\n",
        "    while True:\n",
        "        for j in range(0, len(X), batch_size):\n",
        "            encoder_input_data = np.zeros((batch_size, max_length_src), dtype='float32')\n",
        "            decoder_input_data = np.zeros((batch_size, max_length_tar), dtype='float32')\n",
        "            decoder_target_data = np.zeros((batch_size, max_length_tar, num_decoder_tokens), dtype='float32')\n",
        "            for i, (input_text, target_text) in enumerate(zip(X[j:j+batch_size], y[j:j+batch_size])):\n",
        "                for t, word in enumerate(input_text.split()):\n",
        "                    encoder_input_data[i, t] = input_token_index[word] # encoder input seq\n",
        "                for t, word in enumerate(target_text.split()):\n",
        "                    if t < len(target_text.split())-1:\n",
        "                        decoder_input_data[i, t] = target_token_index[word] # decoder input seq\n",
        "                    if t>0:\n",
        "                        # decoder target sequence (one hot encoded)\n",
        "                        # does not include the START_ token\n",
        "                        # Offset by one timestep\n",
        "                        decoder_target_data[i, t - 1, target_token_index[word]] = 1.\n",
        "            yield([encoder_input_data, decoder_input_data], decoder_target_data)"
      ],
      "execution_count": 0,
      "outputs": []
    },
    {
      "cell_type": "code",
      "metadata": {
        "id": "s7aKV3tJFQ4s",
        "colab_type": "code",
        "colab": {}
      },
      "source": [
        ""
      ],
      "execution_count": 0,
      "outputs": []
    },
    {
      "cell_type": "markdown",
      "metadata": {
        "id": "g_e-bwvt_7Jp",
        "colab_type": "text"
      },
      "source": [
        "## Teacher Forcing\n",
        "Teacher forcing works by using the actual or expected output from the training dataset at the current time step `y(t)` as input in the next time step `X(t+1)`, rather than the output generated by the network.\n",
        "\n",
        "Decoder is trained to turn the target sequences into the same sequences but offset by one timestep in the future, a training process called \"teacher forcing\" in this context. Effectively, the decoder learns to generate targets `[t+1...]` given targets `[...t]`, conditioned on the input sequence.\n",
        "\n",
        "\n",
        "### Example - \n",
        "Suppose, we had only 1 sentence -\n",
        "* `English` - Juan eats apples\n",
        "* `Spanish` - Juan come manzanas\n",
        "\n",
        "Hence, we had just 3 words in our English & 5 in Spanish vocabulary. \n",
        "```\n",
        "English Vocabulary\n",
        "{'apples': 1, 'eats': 2, 'juan': 3}\n",
        "\n",
        "Spanish Vocabulary\n",
        "{'START_': 1, '_END': 2, 'come': 3, 'juan': 4, 'manzanas': 5}\n",
        "```\n",
        "\n",
        "So our encoded input & decoder input would look like - \n",
        "```\n",
        "Encoder Input Data: [[3. 2. 1.]]\n",
        "\n",
        "Decoder Input Data: [[1. 4. 3. 5. 0.]]\n",
        "```\n",
        "\n",
        "As the target sentence has 5 words, at timestep `t` during training, we set the previous timestep's `t-1` actual output to 1. So essentially, we will have 5 target sentence.\n",
        "\n",
        "```\n",
        "Decoder Target Data: \n",
        "[0. 0. 0. 0. 1. 0.] # juan\n",
        "[0. 0. 0. 1. 0. 0.] # come\n",
        "[0. 0. 0. 0. 0. 1.] # manzanas\n",
        "[0. 0. 1. 0. 0. 0.] # _END\n",
        "[0. 0. 0. 0. 0. 0.]\n",
        "```\n",
        "\n",
        "### Summary\n",
        "TS1 -\n",
        "```\n",
        "Encoder Input Data - [3. 2. 1.]\n",
        "Decoder Input Data: [1. 4. 3. 5. 0.]\n",
        "Decoder Target Data: [0. 0. 0. 0. 1. 0.] # juan\n",
        "```\n",
        "\n",
        "TS2 -\n",
        "```\n",
        "Encoder Input Data - [3. 2. 1.]\n",
        "Decoder Input Data: [1. 4. 3. 5. 0.]\n",
        "Decoder Target Data: [0. 0. 0. 1. 0. 0.] # juan come\n",
        "```\n",
        "\n",
        "TS3 -\n",
        "```\n",
        "Encoder Input Data - [3. 2. 1.]\n",
        "Decoder Input Data: [1. 4. 3. 5. 0.]\n",
        "Decoder Target Data: [0. 0. 0. 0. 0. 1.] # juan come manzanas\n",
        "```\n",
        "\n",
        "TS4 -\n",
        "```\n",
        "Encoder Input Data - [3. 2. 1.]\n",
        "Decoder Input Data: [1. 4. 3. 5. 0.]\n",
        "Decoder Target Data: [0. 1. 0. 0. 0. 0.] # juan come manzanas _END\n",
        "```\n"
      ]
    },
    {
      "cell_type": "code",
      "metadata": {
        "id": "y4l0T2uL3vb8",
        "colab_type": "code",
        "colab": {}
      },
      "source": [
        ""
      ],
      "execution_count": 0,
      "outputs": []
    },
    {
      "cell_type": "code",
      "metadata": {
        "id": "bSC9decdpv5M",
        "colab_type": "code",
        "colab": {}
      },
      "source": [
        "# batch_size = 1\n",
        "\n",
        "# for j in range(0, len(X), batch_size):\n",
        "#     encoder_input_data = np.zeros((batch_size, max_length_src),dtype='float32')\n",
        "#     decoder_input_data = np.zeros((batch_size, max_length_tar),dtype='float32')\n",
        "#     decoder_target_data = np.zeros((batch_size, max_length_tar, num_decoder_tokens),dtype='float32')\n",
        "#     for i, (input_text, target_text) in enumerate(zip(X[j:j+batch_size], y[j:j+batch_size])):\n",
        "#         for t, word in enumerate(input_text.split()):\n",
        "#             print(f\"Input: {word}\")\n",
        "#             encoder_input_data[i, t] = input_token_index[word] # encoder input seq\n",
        "#         for t, word in enumerate(target_text.split()):\n",
        "#             print(f\"Target: {word}\")\n",
        "#             if t<len(target_text.split())-1:\n",
        "#                 decoder_input_data[i, t] = target_token_index[word] # decoder input seq\n",
        "#             if t>0:\n",
        "#                 # decoder target sequence (one hot encoded)\n",
        "#                 # does not include the START_ token\n",
        "#                 # Offset by one timestep\n",
        "#                 decoder_target_data[i, t - 1, target_token_index[word]] = 1.\n",
        "#     print(f\"Encoder Input Data: {encoder_input_data}\") \n",
        "#     print(f\"Decoder Input Data: {decoder_input_data}\")\n",
        "#     print(f\"Decoder Target Data:\\n {decoder_target_data}\")\n",
        "#     # print(f\"Decoder Target Data:\\n {decoder_target_data[:, :-1, :]}\")"
      ],
      "execution_count": 0,
      "outputs": []
    },
    {
      "cell_type": "code",
      "metadata": {
        "id": "KHalRMMQ1Uep",
        "colab_type": "code",
        "colab": {}
      },
      "source": [
        ""
      ],
      "execution_count": 0,
      "outputs": []
    },
    {
      "cell_type": "markdown",
      "metadata": {
        "id": "HukwM-n-FO4W",
        "colab_type": "text"
      },
      "source": [
        "## Model"
      ]
    },
    {
      "cell_type": "code",
      "metadata": {
        "id": "FBwRt6qy1Ubi",
        "colab_type": "code",
        "colab": {}
      },
      "source": [
        "latent_dim = 100"
      ],
      "execution_count": 0,
      "outputs": []
    },
    {
      "cell_type": "code",
      "metadata": {
        "id": "KLzd7__61UYN",
        "colab_type": "code",
        "colab": {
          "base_uri": "https://localhost:8080/",
          "height": 105
        },
        "outputId": "8a1ecd84-9e62-4228-ba66-310717d8b1a3"
      },
      "source": [
        "# ENCODER\n",
        "encoder_inputs = Input(shape=(None,))\n",
        "enc_emb = Embedding(num_encoder_tokens, latent_dim, mask_zero=True)(encoder_inputs)\n",
        "encoder_lstm = LSTM(latent_dim, return_state=True)\n",
        "encoder_outputs, state_h, state_c = encoder_lstm(enc_emb)\n",
        "# discard `encoder_outputs` and only keep the states.\n",
        "encoder_states = [state_h, state_c]"
      ],
      "execution_count": 32,
      "outputs": [
        {
          "output_type": "stream",
          "text": [
            "WARNING:tensorflow:From /usr/local/lib/python3.6/dist-packages/tensorflow/python/ops/resource_variable_ops.py:1666: calling BaseResourceVariable.__init__ (from tensorflow.python.ops.resource_variable_ops) with constraint is deprecated and will be removed in a future version.\n",
            "Instructions for updating:\n",
            "If using Keras pass *_constraint arguments to layers.\n",
            "WARNING:tensorflow:Layer lstm will not use cuDNN kernel since it doesn't meet the cuDNN kernel criteria. It will use generic GPU kernel as fallback when running on GPU\n"
          ],
          "name": "stdout"
        }
      ]
    },
    {
      "cell_type": "markdown",
      "metadata": {
        "id": "Lej19r1o_f6v",
        "colab_type": "text"
      },
      "source": [
        "`mask_zero=True` - It treats '0' as a padding value. As per the docs, \"If mask_zero is set to True, as a consequence, index 0 cannot be used in the vocabulary (input_dim should equal size of vocabulary + 1)\". Which is why increased `num_encoder_tokens` & `num_decoder_tokens` in cell 20 "
      ]
    },
    {
      "cell_type": "code",
      "metadata": {
        "id": "iwfPnYTmocEx",
        "colab_type": "code",
        "colab": {
          "base_uri": "https://localhost:8080/",
          "height": 54
        },
        "outputId": "12af0514-bc31-4660-99b3-620922327d45"
      },
      "source": [
        "# set up the decoder, using `encoder_states` as initial state.\n",
        "decoder_inputs = Input(shape=(None,))\n",
        "dec_emb_layer = Embedding(num_decoder_tokens, latent_dim, mask_zero=True)\n",
        "dec_emb = dec_emb_layer(decoder_inputs)\n",
        "decoder_lstm = LSTM(latent_dim, return_sequences=True, return_state=True)\n",
        "decoder_outputs, dec_state_h, dec_state_c = decoder_lstm(dec_emb, initial_state=encoder_states)"
      ],
      "execution_count": 33,
      "outputs": [
        {
          "output_type": "stream",
          "text": [
            "WARNING:tensorflow:Layer lstm_1 will not use cuDNN kernel since it doesn't meet the cuDNN kernel criteria. It will use generic GPU kernel as fallback when running on GPU\n"
          ],
          "name": "stdout"
        }
      ]
    },
    {
      "cell_type": "code",
      "metadata": {
        "id": "PAJOyB6CBTOK",
        "colab_type": "code",
        "colab": {}
      },
      "source": [
        "decoder_dense = Dense(num_decoder_tokens, activation='softmax')\n",
        "decoder_outputs = decoder_dense(decoder_outputs)"
      ],
      "execution_count": 0,
      "outputs": []
    },
    {
      "cell_type": "markdown",
      "metadata": {
        "id": "jk2ofoapBQqe",
        "colab_type": "text"
      },
      "source": [
        "Here, we add a Dense Layer that uses softmax activation on top of decoder. Notice, how for the sample sentence - `Juan eats apples`, the output target at each timestep looks like - \n",
        "```\n",
        "[0. 0. 0. 0. 1. 0.] # juan\n",
        "[0. 0. 0. 1. 0. 0.] # juan come\n",
        "[0. 0. 0. 0. 0. 1.] # juan come manzanas\n",
        "[0. 1. 0. 0. 0. 0.] # juan come manzanas _end\n",
        "```\n",
        "It is the job of the dense layer to predict this next word from the *decoder_outputs*"
      ]
    },
    {
      "cell_type": "markdown",
      "metadata": {
        "id": "U0vJvMwwGl9H",
        "colab_type": "text"
      },
      "source": [
        "Model will take encoder inputs & decoder inputs and return decoder outputs"
      ]
    },
    {
      "cell_type": "code",
      "metadata": {
        "id": "Z2yqflOrGlVl",
        "colab_type": "code",
        "colab": {}
      },
      "source": [
        "model = Model([encoder_inputs, decoder_inputs], decoder_outputs)\n",
        "model.compile(optimizer='adam', loss='categorical_crossentropy', metrics=['acc'])"
      ],
      "execution_count": 0,
      "outputs": []
    },
    {
      "cell_type": "code",
      "metadata": {
        "id": "1zv43I1PFnF6",
        "colab_type": "code",
        "outputId": "30e4f174-53d3-4848-90b1-a4e88998bf46",
        "colab": {
          "base_uri": "https://localhost:8080/",
          "height": 533
        }
      },
      "source": [
        "plot_model(model, show_shapes=True)"
      ],
      "execution_count": 36,
      "outputs": [
        {
          "output_type": "execute_result",
          "data": {
            "image/png": "[encoded data removed]",
            "text/plain": [
              "<IPython.core.display.Image object>"
            ]
          },
          "metadata": {
            "tags": []
          },
          "execution_count": 36
        }
      ]
    },
    {
      "cell_type": "markdown",
      "metadata": {
        "id": "4KrlW5gsHPdK",
        "colab_type": "text"
      },
      "source": [
        "## Training"
      ]
    },
    {
      "cell_type": "code",
      "metadata": {
        "id": "B94g49KTFnDc",
        "colab_type": "code",
        "colab": {}
      },
      "source": [
        "train_samples = len(X_train)\n",
        "val_samples = len(X_test)\n",
        "batch_size = 128\n",
        "epochs = 10"
      ],
      "execution_count": 0,
      "outputs": []
    },
    {
      "cell_type": "code",
      "metadata": {
        "id": "jeWnShPNlDMl",
        "colab_type": "code",
        "outputId": "ffd6c103-56e3-4ca6-955a-a863720b37b8",
        "colab": {
          "base_uri": "https://localhost:8080/",
          "height": 71
        }
      },
      "source": [
        "# in case of retraining, load the already trained model\n",
        "model = load_model(\"english_to_spanish_nmt.h5\")"
      ],
      "execution_count": 80,
      "outputs": [
        {
          "output_type": "stream",
          "text": [
            "WARNING:tensorflow:Layer lstm will not use cuDNN kernel since it doesn't meet the cuDNN kernel criteria. It will use generic GPU kernel as fallback when running on GPU\n",
            "WARNING:tensorflow:Layer lstm_1 will not use cuDNN kernel since it doesn't meet the cuDNN kernel criteria. It will use generic GPU kernel as fallback when running on GPU\n"
          ],
          "name": "stdout"
        }
      ]
    },
    {
      "cell_type": "code",
      "metadata": {
        "id": "19fTUdLXHCJD",
        "colab_type": "code",
        "outputId": "7c919a6e-691e-4faa-c6ff-b2f00f17ce5c",
        "colab": {
          "base_uri": "https://localhost:8080/",
          "height": 377
        }
      },
      "source": [
        "history = model.fit_generator(generator = generate_batch(X_train, y_train, batch_size = batch_size),\n",
        "                    steps_per_epoch = train_samples//batch_size,\n",
        "                    epochs=epochs,\n",
        "                    validation_data = generate_batch(X_test, y_test, batch_size = batch_size),\n",
        "                    validation_steps = val_samples//batch_size\n",
        "                    )"
      ],
      "execution_count": 81,
      "outputs": [
        {
          "output_type": "stream",
          "text": [
            "Epoch 1/10\n",
            "773/773 [==============================] - 439s 568ms/step - loss: 0.3320 - acc: 0.5406 - val_loss: 0.4158 - val_acc: 0.4903\n",
            "Epoch 2/10\n",
            "773/773 [==============================] - 438s 567ms/step - loss: 0.3130 - acc: 0.5584 - val_loss: 0.4072 - val_acc: 0.4971\n",
            "Epoch 3/10\n",
            "773/773 [==============================] - 438s 566ms/step - loss: 0.2960 - acc: 0.5752 - val_loss: 0.4003 - val_acc: 0.5050\n",
            "Epoch 4/10\n",
            "773/773 [==============================] - 438s 566ms/step - loss: 0.2805 - acc: 0.5904 - val_loss: 0.3954 - val_acc: 0.5101\n",
            "Epoch 5/10\n",
            "773/773 [==============================] - 437s 565ms/step - loss: 0.2664 - acc: 0.6048 - val_loss: 0.3900 - val_acc: 0.5166\n",
            "Epoch 6/10\n",
            "773/773 [==============================] - 437s 565ms/step - loss: 0.2535 - acc: 0.6192 - val_loss: 0.3858 - val_acc: 0.5211\n",
            "Epoch 7/10\n",
            "773/773 [==============================] - 438s 566ms/step - loss: 0.2417 - acc: 0.6323 - val_loss: 0.3837 - val_acc: 0.5239\n",
            "Epoch 8/10\n",
            "773/773 [==============================] - 439s 567ms/step - loss: 0.2308 - acc: 0.6456 - val_loss: 0.3803 - val_acc: 0.5286\n",
            "Epoch 9/10\n",
            "773/773 [==============================] - 438s 567ms/step - loss: 0.2206 - acc: 0.6581 - val_loss: 0.3795 - val_acc: 0.5308\n",
            "Epoch 10/10\n",
            "773/773 [==============================] - 438s 566ms/step - loss: 0.2114 - acc: 0.6698 - val_loss: 0.3761 - val_acc: 0.5350\n"
          ],
          "name": "stdout"
        }
      ]
    },
    {
      "cell_type": "markdown",
      "metadata": {
        "id": "G7UyMN2-yRh7",
        "colab_type": "text"
      },
      "source": [
        "**The validation loss started increasing & validation accuracy started decreasing around 31-34 epochs.**"
      ]
    },
    {
      "cell_type": "code",
      "metadata": {
        "id": "_UfoF3F3_dEa",
        "colab_type": "code",
        "outputId": "da4fb404-04b1-4406-9c25-48053e8a95e4",
        "colab": {
          "base_uri": "https://localhost:8080/",
          "height": 295
        }
      },
      "source": [
        "# summarize history for accuracy\n",
        "plt.plot(history.history['acc'])\n",
        "plt.plot(history.history['val_acc'])\n",
        "plt.title('Model Accuracy')\n",
        "plt.ylabel('Accuracy')\n",
        "plt.xlabel('Epoch')\n",
        "plt.legend(['Train', 'Validation'], loc='upper left')\n",
        "plt.show()"
      ],
      "execution_count": 82,
      "outputs": [
        {
          "output_type": "display_data",
          "data": {
            "image/png": "[encoded data removed]",
            "text/plain": [
              "<Figure size 432x288 with 1 Axes>"
            ]
          },
          "metadata": {
            "tags": []
          }
        }
      ]
    },
    {
      "cell_type": "code",
      "metadata": {
        "id": "9rcrG7ZGAXUT",
        "colab_type": "code",
        "outputId": "d8e45a81-e671-4efd-e2f1-36ccbc96fce2",
        "colab": {
          "base_uri": "https://localhost:8080/",
          "height": 295
        }
      },
      "source": [
        "# summarize history for loss\n",
        "plt.plot(history.history['loss'])\n",
        "plt.plot(history.history['val_loss'])\n",
        "plt.title('Model loss')\n",
        "plt.ylabel('loss')\n",
        "plt.xlabel('epoch')\n",
        "plt.legend(['train', 'test'], loc='upper left')\n",
        "plt.show()"
      ],
      "execution_count": 83,
      "outputs": [
        {
          "output_type": "display_data",
          "data": {
            "image/png": "[encoded data removed]",
            "text/plain": [
              "<Figure size 432x288 with 1 Axes>"
            ]
          },
          "metadata": {
            "tags": []
          }
        }
      ]
    },
    {
      "cell_type": "code",
      "metadata": {
        "id": "A1Lntds5HCi1",
        "colab_type": "code",
        "colab": {}
      },
      "source": [
        "model.save(\"english_to_spanish_nmt.h5\")"
      ],
      "execution_count": 0,
      "outputs": []
    },
    {
      "cell_type": "code",
      "metadata": {
        "id": "NGvPQXgBHCFr",
        "colab_type": "code",
        "colab": {
          "base_uri": "https://localhost:8080/",
          "height": 71
        },
        "outputId": "f441a7c9-858b-4491-afe9-987657000e50"
      },
      "source": [
        "model = load_model(\"english_to_spanish_nmt.h5\")"
      ],
      "execution_count": 90,
      "outputs": [
        {
          "output_type": "stream",
          "text": [
            "WARNING:tensorflow:Layer lstm will not use cuDNN kernel since it doesn't meet the cuDNN kernel criteria. It will use generic GPU kernel as fallback when running on GPU\n",
            "WARNING:tensorflow:Layer lstm_1 will not use cuDNN kernel since it doesn't meet the cuDNN kernel criteria. It will use generic GPU kernel as fallback when running on GPU\n"
          ],
          "name": "stdout"
        }
      ]
    },
    {
      "cell_type": "code",
      "metadata": {
        "id": "ttEc1psYNNEz",
        "colab_type": "code",
        "colab": {}
      },
      "source": [
        ""
      ],
      "execution_count": 0,
      "outputs": []
    },
    {
      "cell_type": "code",
      "metadata": {
        "id": "RcqcwuhONNAV",
        "colab_type": "code",
        "colab": {}
      },
      "source": [
        ""
      ],
      "execution_count": 0,
      "outputs": []
    },
    {
      "cell_type": "markdown",
      "metadata": {
        "id": "tYpN2UfRZ4xy",
        "colab_type": "text"
      },
      "source": [
        "## Inference"
      ]
    },
    {
      "cell_type": "markdown",
      "metadata": {
        "id": "H-KbL4IpU8_L",
        "colab_type": "text"
      },
      "source": [
        "***Encoder Setup***\n",
        "\n",
        "Encode the input sequence to get the encoder_states - `state_h & state_c`"
      ]
    },
    {
      "cell_type": "code",
      "metadata": {
        "id": "sD31MEkFHCCf",
        "colab_type": "code",
        "colab": {}
      },
      "source": [
        "encoder_model = Model(encoder_inputs, encoder_states)"
      ],
      "execution_count": 0,
      "outputs": []
    },
    {
      "cell_type": "markdown",
      "metadata": {
        "id": "bE5Re-6lWLok",
        "colab_type": "text"
      },
      "source": [
        "***Decoder setup***\n",
        "\n",
        "Below tensors will hold the states of the previous time step. In case of the first sequence, assume - \n",
        ">1. decoder_state_input_c - state_c\n",
        ">2. decoder_state_input_h - state_h\n"
      ]
    },
    {
      "cell_type": "code",
      "metadata": {
        "id": "vTaISdS1Vx0N",
        "colab_type": "code",
        "colab": {}
      },
      "source": [
        "decoder_state_input_h = Input(shape=(latent_dim,))\n",
        "decoder_state_input_c = Input(shape=(latent_dim,))\n",
        "decoder_states_inputs = [decoder_state_input_h, decoder_state_input_c]"
      ],
      "execution_count": 0,
      "outputs": []
    },
    {
      "cell_type": "markdown",
      "metadata": {
        "id": "NYoKMT87Xh1a",
        "colab_type": "text"
      },
      "source": [
        "Get the embedding of decoder output sequences. For the first sequence, it will return the embedded vector for `START_` - [1., 0., 0., 0., 0.]. If the next predicted word is Juan, it will then return the embedded vector for `Juan` - [0., 0., 0., 1., 0.]"
      ]
    },
    {
      "cell_type": "code",
      "metadata": {
        "id": "QAEQIT7zXO5o",
        "colab_type": "code",
        "colab": {}
      },
      "source": [
        "dec_emb2 = dec_emb_layer(decoder_inputs) "
      ],
      "execution_count": 0,
      "outputs": []
    },
    {
      "cell_type": "markdown",
      "metadata": {
        "id": "CpCoU9ReZE8P",
        "colab_type": "text"
      },
      "source": [
        "To predict the next word in the sequence, set the initial states to the states from the previous time step\n"
      ]
    },
    {
      "cell_type": "code",
      "metadata": {
        "id": "Z-S7sgotYSA8",
        "colab_type": "code",
        "colab": {}
      },
      "source": [
        "decoder_outputs2, state_h2, state_c2 = decoder_lstm(dec_emb2, initial_state=decoder_states_inputs)"
      ],
      "execution_count": 0,
      "outputs": []
    },
    {
      "cell_type": "markdown",
      "metadata": {
        "id": "URZ73j0xZTnJ",
        "colab_type": "text"
      },
      "source": [
        "Predict the next word in the sequence using the dense layer and choose the most probable word by selecting the word with most probability from the softmax probability distribution."
      ]
    },
    {
      "cell_type": "code",
      "metadata": {
        "id": "Z042N2B7ZQ1E",
        "colab_type": "code",
        "colab": {}
      },
      "source": [
        "decoder_outputs2 = decoder_dense(decoder_outputs2) "
      ],
      "execution_count": 0,
      "outputs": []
    },
    {
      "cell_type": "markdown",
      "metadata": {
        "id": "hhiHQ4WSdAA5",
        "colab_type": "text"
      },
      "source": [
        "***Final Decoder Model***\n",
        "\n",
        "Inputs -\n",
        ">1. decoder_inputs - List of word\n",
        ">2. decoder_states_inputs - previous timestep's hidden state & cell state\n",
        "\n",
        "Outputs - \n",
        ">1. decoder_outputs2 - one-hot vector represeting the predicted word \n",
        ">2. decoder_states2 - current timestep's hidden state & cell state"
      ]
    },
    {
      "cell_type": "code",
      "metadata": {
        "id": "q3LaD1ovc9tr",
        "colab_type": "code",
        "colab": {}
      },
      "source": [
        "decoder_states2 = [state_h2, state_c2]\n",
        "decoder_model = Model(\n",
        "    [decoder_inputs] + decoder_states_inputs,\n",
        "    [decoder_outputs2] + decoder_states2)"
      ],
      "execution_count": 0,
      "outputs": []
    },
    {
      "cell_type": "code",
      "metadata": {
        "id": "BjLIBhifeKZC",
        "colab_type": "code",
        "colab": {}
      },
      "source": [
        ""
      ],
      "execution_count": 0,
      "outputs": []
    },
    {
      "cell_type": "markdown",
      "metadata": {
        "id": "84O7HfC8eK7V",
        "colab_type": "text"
      },
      "source": [
        "## Decode Sequence"
      ]
    },
    {
      "cell_type": "code",
      "metadata": {
        "id": "ETA6jUB_R1se",
        "colab_type": "code",
        "colab": {}
      },
      "source": [
        "# https://github.com/numpy/numpy/issues/15201#issue-543733072\n",
        "\n",
        "def categorical(p):\n",
        "    return (p.cumsum(-1) >= np.random.uniform(size=p.shape[:-1])[..., None]).argmax(-1)"
      ],
      "execution_count": 0,
      "outputs": []
    },
    {
      "cell_type": "code",
      "metadata": {
        "id": "PlR1ANdcHB-b",
        "colab_type": "code",
        "colab": {}
      },
      "source": [
        "def decode_sequence(input_seq):\n",
        "    # Encode the input as state vectors.\n",
        "    states_value = encoder_model.predict(input_seq)\n",
        "    # Generate empty target sequence of length 1.\n",
        "    target_seq = np.zeros((1,1))\n",
        "    # Populate the first character of target sequence with the start character.\n",
        "    target_seq[0, 0] = target_token_index['START_']\n",
        "\n",
        "    # Sampling loop for a batch of sequences\n",
        "    # (to simplify, here we assume a batch of size 1).\n",
        "    stop_condition = False\n",
        "    decoded_sentence = ''\n",
        "    while not stop_condition:\n",
        "        output_tokens, h, c = decoder_model.predict([target_seq] + states_value)\n",
        "\n",
        "        # Sampling a token with max probability\n",
        "        sampled_token_index = np.argmax(output_tokens[0, -1, :])\n",
        "\n",
        "        # Sample from a categorical distribution\n",
        "        # logits = output_tokens[0, -1, :]\n",
        "        # sampled_token_index = categorical(np.reshape(logits, [-1, len(logits)]))[0]\n",
        "         \n",
        "        sampled_char = reverse_target_char_index[sampled_token_index]\n",
        "        decoded_sentence += ' '+sampled_char\n",
        "\n",
        "        # Exit condition: either hit max length\n",
        "        # or find stop character.\n",
        "        if (sampled_char == '_END' or\n",
        "           len(decoded_sentence) > max_length_tar):\n",
        "            stop_condition = True\n",
        "\n",
        "        # Update the target sequence (of length 1).\n",
        "        target_seq = np.zeros((1,1))\n",
        "        target_seq[0, 0] = sampled_token_index\n",
        "\n",
        "        # Update states\n",
        "        states_value = [h, c]\n",
        "\n",
        "    return decoded_sentence"
      ],
      "execution_count": 0,
      "outputs": []
    },
    {
      "cell_type": "markdown",
      "metadata": {
        "id": "21rFGMBx3FOU",
        "colab_type": "text"
      },
      "source": [
        "My attempt at using ***Beam Search Decoding*** using probabilites"
      ]
    },
    {
      "cell_type": "code",
      "metadata": {
        "id": "yGG-_B9U3jwH",
        "colab_type": "code",
        "colab": {}
      },
      "source": [
        "def beam_search_decoder(predictions, top_k = 3):\n",
        "    #start with an empty sequence with zero score\n",
        "    output_sequences = [([], 0)]\n",
        "    \n",
        "    #looping through all the predictions\n",
        "    for token_probs in predictions:\n",
        "        new_sequences = []\n",
        "        \n",
        "        #append new tokens to old sequences and re-score\n",
        "        for old_seq, old_score in output_sequences:\n",
        "            for char_index in range(len(token_probs)):\n",
        "                new_seq = old_seq + [char_index]\n",
        "                #considering log-likelihood for scoring\n",
        "                new_score = old_score + math.log(token_probs[char_index])\n",
        "                new_sequences.append((new_seq, new_score))\n",
        "                \n",
        "        # sort all new sequences in the de-creasing order of their score\n",
        "        output_sequences = sorted(new_sequences, key = lambda val: val[1], reverse = True)\n",
        "        \n",
        "        #select top-k based on score \n",
        "        # *Note- best sequence is with the highest score\n",
        "        output_sequences = output_sequences[:top_k]\n",
        "        \n",
        "    return output_sequences"
      ],
      "execution_count": 0,
      "outputs": []
    },
    {
      "cell_type": "code",
      "metadata": {
        "id": "ufLP_9oW3EMo",
        "colab_type": "code",
        "colab": {}
      },
      "source": [
        "def decode_sequence_beam_search(input_seq):\n",
        "    probabilites = []\n",
        "    # Encode the input as state vectors.\n",
        "    states_value = encoder_model.predict(input_seq)\n",
        "    # Generate empty target sequence of length 1.\n",
        "    target_seq = np.zeros((1,1))\n",
        "    # Populate the first character of target sequence with the start character.\n",
        "    target_seq[0, 0] = target_token_index['START_']\n",
        "\n",
        "    # Sampling loop for a batch of sequences\n",
        "    # (to simplify, here we assume a batch of size 1).\n",
        "    stop_condition = False\n",
        "    decoded_sentence = ''\n",
        "    while not stop_condition:\n",
        "        output_tokens, h, c = decoder_model.predict([target_seq] + states_value)\n",
        "\n",
        "        # Sampling a token with max probability\n",
        "        sampled_token_index = np.argmax(output_tokens[0, -1, :])\n",
        "        probabilites.append(output_tokens[0, -1, :])\n",
        "\n",
        "        sampled_char = reverse_target_char_index[sampled_token_index]\n",
        "        decoded_sentence += ' '+sampled_char\n",
        "\n",
        "        # Exit condition: either hit max length\n",
        "        # or find stop character.\n",
        "        if (sampled_char == '_END' or\n",
        "           len(decoded_sentence) > max_length_tar):\n",
        "            stop_condition = True\n",
        "\n",
        "        # Update the target sequence (of length 1).\n",
        "        target_seq = np.zeros((1,1))\n",
        "        target_seq[0, 0] = sampled_token_index\n",
        "\n",
        "        # Update states\n",
        "        states_value = [h, c]\n",
        "\n",
        "    # storing multiple results\n",
        "    outputs = []\n",
        "    beam_search_preds = beam_search_decoder(probabilites, top_k = 5)\n",
        "    for prob_indexes, score in beam_search_preds:\n",
        "        decoded_sentence = ''\n",
        "        for index in prob_indexes:\n",
        "            sampled_char = reverse_target_char_index[index]\n",
        "            decoded_sentence += ' '+sampled_char\n",
        "            if (sampled_char == '_END' or len(decoded_sentence) > max_length_tar):\n",
        "                break\n",
        "        outputs.append(decoded_sentence)\n",
        "\n",
        "    return outputs"
      ],
      "execution_count": 0,
      "outputs": []
    },
    {
      "cell_type": "code",
      "metadata": {
        "id": "3D2LuizE3Mjj",
        "colab_type": "code",
        "colab": {}
      },
      "source": [
        ""
      ],
      "execution_count": 0,
      "outputs": []
    },
    {
      "cell_type": "markdown",
      "metadata": {
        "id": "wQJinliSwPLP",
        "colab_type": "text"
      },
      "source": [
        "## Utility Function"
      ]
    },
    {
      "cell_type": "code",
      "metadata": {
        "id": "a6J3smxZwOCn",
        "colab_type": "code",
        "colab": {}
      },
      "source": [
        "import requests\n",
        "\n",
        "url = \"https://api.mymemory.translated.net/get\"\n",
        "\n",
        "def get_translation(seq):\n",
        "    data = {}\n",
        "    data[\"q\"] = seq\n",
        "    data[\"langpair\"] = \"es|en\"\n",
        "    response = requests.post(url, data=data)\n",
        "    translated_text = response.json()[\"responseData\"][\"translatedText\"]\n",
        "    return translated_text"
      ],
      "execution_count": 0,
      "outputs": []
    },
    {
      "cell_type": "code",
      "metadata": {
        "id": "gC8hRHhZwN7T",
        "colab_type": "code",
        "colab": {}
      },
      "source": [
        ""
      ],
      "execution_count": 0,
      "outputs": []
    },
    {
      "cell_type": "markdown",
      "metadata": {
        "id": "fThNq6hfiLcc",
        "colab_type": "text"
      },
      "source": [
        "### Training Data"
      ]
    },
    {
      "cell_type": "code",
      "metadata": {
        "id": "4ua4IUSkhvQc",
        "colab_type": "code",
        "colab": {}
      },
      "source": [
        "train_gen = generate_batch(X_train, y_train, batch_size = 1)\n",
        "k=-1"
      ],
      "execution_count": 0,
      "outputs": []
    },
    {
      "cell_type": "code",
      "metadata": {
        "id": "lYrRbZRMhvMm",
        "colab_type": "code",
        "outputId": "894a0f82-2d3e-4383-cae5-cb49620fb817",
        "colab": {
          "base_uri": "https://localhost:8080/",
          "height": 1000
        }
      },
      "source": [
        "for _ in range(20):\n",
        "    k+=1\n",
        "    (input_seq, actual_output), _ = next(train_gen)\n",
        "    decoded_sentence = decode_sequence(input_seq)\n",
        "    print('Input Sentence:', X_train[k:k+1].values[0])\n",
        "    print('Actual Translation:', y_train[k:k+1].values[0][6:-4])\n",
        "    print('Predicted Translation (Spanish):', decoded_sentence[:-4])\n",
        "    # predicted spanish sequence back to english\n",
        "    print('Predicted Translation (English):', get_translation(decoded_sentence[:-4]))\n",
        "    print(\"=\"*60, end=\"\\n\\n\")"
      ],
      "execution_count": 109,
      "outputs": [
        {
          "output_type": "stream",
          "text": [
            "Input Sentence: tom has hair down to his shoulders\n",
            "Actual Translation:  tom tiene el pelo hasta los hombros \n",
            "Predicted Translation (Spanish):  tom tiene el pelo de cabeza \n",
            "Predicted Translation (English): tom has head hair\n",
            "============================================================\n",
            "\n",
            "Input Sentence: i saw your light was on and knew you were still awake\n",
            "Actual Translation:  vi que tenías la luz encendida y supe que todavía estabas despierto \n",
            "Predicted Translation (Spanish):  vi a tom y me había visto un poco de tráfico \n",
            "Predicted Translation (English): I saw tom and I had seen some traffic\n",
            "============================================================\n",
            "\n",
            "Input Sentence: he came from one of the richest families in the united states\n",
            "Actual Translation:  vino de una de las familias más ricas de américa \n",
            "Predicted Translation (Spanish):  él ha sido de nieve de los estados unidos a las\n",
            "Predicted Translation (English): he&#39;s been snow from the united states at\n",
            "============================================================\n",
            "\n",
            "Input Sentence: the park is in the center of the city\n",
            "Actual Translation:  el parque se encuentra en el centro de la ciudad \n",
            "Predicted Translation (Spanish):  el coche está en el centro de la ciudad \n",
            "Predicted Translation (English): the car is in the city center\n",
            "============================================================\n",
            "\n",
            "Input Sentence: you didnt invite me\n",
            "Actual Translation:  no me invitaste \n",
            "Predicted Translation (Spanish):  no me lo has ido \n",
            "Predicted Translation (English): you have not left me\n",
            "============================================================\n",
            "\n",
            "Input Sentence: prices are high\n",
            "Actual Translation:  los precios están altos \n",
            "Predicted Translation (Spanish):  los precios son buenos \n",
            "Predicted Translation (English): prices are good\n",
            "============================================================\n",
            "\n",
            "Input Sentence: would you like to earn some extra money\n",
            "Actual Translation:  ¿te gustaría ganar un dinero extra \n",
            "Predicted Translation (Spanish):  ¿quieres un poco de dinero \n",
            "Predicted Translation (English): Do you want some money\n",
            "============================================================\n",
            "\n",
            "Input Sentence: come up here\n",
            "Actual Translation:  suba aquí \n",
            "Predicted Translation (Spanish):  ven aquí \n",
            "Predicted Translation (English): ven aquí.\n",
            "============================================================\n",
            "\n",
            "Input Sentence: this is a rule\n",
            "Actual Translation:  esto es una norma \n",
            "Predicted Translation (Spanish):  esto es un diccionario \n",
            "Predicted Translation (English): It’s a dictionary.\n",
            "============================================================\n",
            "\n",
            "Input Sentence: the curtains were all open\n",
            "Actual Translation:  las cortinas estaban abiertas \n",
            "Predicted Translation (Spanish):  los estudiantes estaban presentes \n",
            "Predicted Translation (English): All of the students were present.\n",
            "============================================================\n",
            "\n",
            "Input Sentence: hes rich and powerful\n",
            "Actual Translation:  él es rico y poderoso \n",
            "Predicted Translation (Spanish):  él es rico y se cayó \n",
            "Predicted Translation (English): he is rich and fell\n",
            "============================================================\n",
            "\n",
            "Input Sentence: im not going to leave if you dont want me to\n",
            "Actual Translation:  no me voy a ir si no quieres \n",
            "Predicted Translation (Spanish):  no te voy a hacer si no quieres \n",
            "Predicted Translation (English): I will not do if you do not want\n",
            "============================================================\n",
            "\n",
            "Input Sentence: i wonder if hes at home\n",
            "Actual Translation:  me pregunto si estará en casa \n",
            "Predicted Translation (Spanish):  me pregunto si está en la casa \n",
            "Predicted Translation (English): I wonder if he is in the house\n",
            "============================================================\n",
            "\n",
            "Input Sentence: ill be direct\n",
            "Actual Translation:  voy a ser directo \n",
            "Predicted Translation (Spanish):  estaré allí \n",
            "Predicted Translation (English): I’ll be there.\n",
            "============================================================\n",
            "\n",
            "Input Sentence: i think hell never return\n",
            "Actual Translation:  creo que nunca volverá \n",
            "Predicted Translation (Spanish):  creo que no lo he estado en australia \n",
            "Predicted Translation (English): i think i haven&#39;t been to australia\n",
            "============================================================\n",
            "\n",
            "Input Sentence: where did you find this\n",
            "Actual Translation:  ¿dónde encontraste esto \n",
            "Predicted Translation (Spanish):  ¿dónde te has hecho esto \n",
            "Predicted Translation (English): Where did you do this to yourself\n",
            "============================================================\n",
            "\n",
            "Input Sentence: do you have a violin\n",
            "Actual Translation:  ¿tienes un violín \n",
            "Predicted Translation (Spanish):  ¿tienes un minuto \n",
            "Predicted Translation (English): You got a minute?\n",
            "============================================================\n",
            "\n",
            "Input Sentence: marys smiling face let everyone know that she was happy\n",
            "Actual Translation:  el rostro sonriente de mary hacía saber a todos que estaba feliz \n",
            "Predicted Translation (Spanish):  la policía me sorprendió a su madre de lo que es\n",
            "Predicted Translation (English): the police surprised me his mother what it is\n",
            "============================================================\n",
            "\n",
            "Input Sentence: who ate the bread\n",
            "Actual Translation:  ¿quién se comió el pan \n",
            "Predicted Translation (Spanish):  ¿quién se comió el año \n",
            "Predicted Translation (English): Who ate the year\n",
            "============================================================\n",
            "\n",
            "Input Sentence: more and more women continue to work after marriage\n",
            "Actual Translation:  más y más mujeres continúan trabajando luego del matrimonio \n",
            "Predicted Translation (Spanish):  más de tiempo en la gente se puede dejar de la \n",
            "Predicted Translation (English): more time in people you can stop the\n",
            "============================================================\n",
            "\n"
          ],
          "name": "stdout"
        }
      ]
    },
    {
      "cell_type": "code",
      "metadata": {
        "id": "m3jAtOUk4vNj",
        "colab_type": "code",
        "outputId": "5c1446e2-3864-44d1-ee2c-cc85c5006140",
        "colab": {
          "base_uri": "https://localhost:8080/",
          "height": 1000
        }
      },
      "source": [
        "for _ in range(20):\n",
        "    k+=1\n",
        "    (input_seq, actual_output), _ = next(train_gen)\n",
        "    decoded_sentences = decode_sequence_beam_search(input_seq)\n",
        "    print('Input Sentence:', X_train[k:k+1].values[0])\n",
        "    print('Actual Translation:', y_train[k:k+1].values[0][6:-4])\n",
        "    for idx, pred in enumerate(decoded_sentences):\n",
        "        if pred[:-4] == y_train[k:k+1].values[0][6:-4]:\n",
        "            print(\"-\"*60)\n",
        "            print(f\"Correctly Predicted: {pred[:-4]}\")\n",
        "            print(\"-\"*60)\n",
        "        else:\n",
        "            print(f'Predicted Translation {idx}: {pred[:-4]}')\n",
        "    print(\"=\"*30, end=\"\\n\\n\")"
      ],
      "execution_count": 110,
      "outputs": [
        {
          "output_type": "stream",
          "text": [
            "Input Sentence: you cant stop there\n",
            "Actual Translation:  ahí no se puede parar \n",
            "Predicted Translation 0:  no puedes hacer nada \n",
            "Predicted Translation 1:  no puedes esperar nada \n",
            "Predicted Translation 2:  no puedes ir nada \n",
            "Predicted Translation 3:  no puedes parar nada \n",
            "Predicted Translation 4:  no puedes hacer algo \n",
            "==============================\n",
            "\n",
            "Input Sentence: there is a girl reading under a tree\n",
            "Actual Translation:  hay una niña leyendo bajo un árbol \n",
            "Predicted Translation 0:  hay una mujer muy grande para una \n",
            "Predicted Translation 1:  hay una chica muy grande para una \n",
            "Predicted Translation 2:  una una mujer muy grande para una \n",
            "Predicted Translation 3:  una una chica muy grande para una \n",
            "Predicted Translation 4:  hay una mujer de grande para una \n",
            "==============================\n",
            "\n",
            "Input Sentence: im here every night\n",
            "Actual Translation:  estoy aquí todas las noches \n",
            "Predicted Translation 0:  aquí estoy lloviendo \n",
            "Predicted Translation 1:  estoy estoy lloviendo \n",
            "Predicted Translation 2:  aquí me lloviendo \n",
            "Predicted Translation 3:  estoy me lloviendo \n",
            "Predicted Translation 4:  aquí estoy trabajando \n",
            "==============================\n",
            "\n",
            "Input Sentence: im only interested in the truth\n",
            "Actual Translation:  solo estoy interesado en la verdad \n",
            "Predicted Translation 0:  solo estoy en la verdad \n",
            "Predicted Translation 1:  sólo estoy en la verdad \n",
            "Predicted Translation 2:  solo he en la verdad \n",
            "Predicted Translation 3:  solo lo en la verdad \n",
            "Predicted Translation 4:  sólo he en la verdad \n",
            "==============================\n",
            "\n",
            "Input Sentence: he runs a shoe shop\n",
            "Actual Translation:  él administra una zapatería \n",
            "Predicted Translation 0:  él se comió una carta \n",
            "Predicted Translation 1:  él se comió un carta \n",
            "Predicted Translation 2:  él come comió una carta \n",
            "Predicted Translation 3:  él tomó comió una carta \n",
            "Predicted Translation 4:  él come comió un carta \n",
            "==============================\n",
            "\n",
            "Input Sentence: ah is an interjection\n",
            "Actual Translation:  ah es una interjección \n",
            "Predicted Translation 0:  ¡qué es una decisión \n",
            "Predicted Translation 1:  ¡qué es una respuesta \n",
            "Predicted Translation 2:  ¡qué es una solución \n",
            "Predicted Translation 3:  ¡qué es una razón \n",
            "Predicted Translation 4:  ¡qué es un decisión \n",
            "==============================\n",
            "\n",
            "Input Sentence: you are taller than she is\n",
            "Actual Translation:  sois más altos que ella \n",
            "Predicted Translation 0:  eres más de lo que ella \n",
            "Predicted Translation 1:  eres más de que que ella \n",
            "Predicted Translation 2:  eres más de la que ella \n",
            "Predicted Translation 3:  eres más alto lo que ella \n",
            "Predicted Translation 4:  eres más alto que que ella \n",
            "==============================\n",
            "\n",
            "Input Sentence: the relationships among those five people are complicated\n",
            "Actual Translation:  las relaciones entre esos cinco son enredadas \n",
            "Predicted Translation 0:  las mujeres son dos personas para las reglas \n",
            "Predicted Translation 1:  las mujeres son dos veces para las reglas \n",
            "Predicted Translation 2:  las dos son dos personas para las reglas \n",
            "Predicted Translation 3:  las mujeres están dos personas para las reglas \n",
            "Predicted Translation 4:  las dos son dos veces para las reglas \n",
            "==============================\n",
            "\n",
            "Input Sentence: they all tried to talk at one time\n",
            "Actual Translation:  todos trataron de hablar al mismo tiempo \n",
            "Predicted Translation 0:  todos lo han estado en contacto con nosotros \n",
            "Predicted Translation 1:  todos estaban han estado en contacto con nosotros \n",
            "Predicted Translation 2:  todos querían han estado en contacto con nosotros \n",
            "Predicted Translation 3:  todos nos han estado en contacto con nosotros \n",
            "Predicted Translation 4:  todos lo hicieron estado en contacto con nosotros \n",
            "==============================\n",
            "\n",
            "Input Sentence: could i sit on the aisle\n",
            "Actual Translation:  ¿me podría sentar en el pasillo \n",
            "Predicted Translation 0:  ¿puedo ver al otro \n",
            "Predicted Translation 1:  ¿puedo ver al teléfono \n",
            "Predicted Translation 2:  ¿puedo ver al mismo \n",
            "Predicted Translation 3:  ¿podría ver al otro \n",
            "Predicted Translation 4:  ¿podría ver al teléfono \n",
            "==============================\n",
            "\n",
            "Input Sentence: it was too expensive\n",
            "Actual Translation:  era demasiado caro \n",
            "------------------------------------------------------------\n",
            "Correctly Predicted:  era demasiado caro \n",
            "------------------------------------------------------------\n",
            "Predicted Translation 1:  fue demasiado caro \n",
            "Predicted Translation 2:  era demasiado rápido \n",
            "Predicted Translation 3:  era demasiado difícil \n",
            "Predicted Translation 4:  era demasiado frío \n",
            "==============================\n",
            "\n",
            "Input Sentence: hows tom going to do it\n",
            "Actual Translation:  ¿cómo lo va a hacer tom \n",
            "Predicted Translation 0:  ¿cómo lo dijo que hacer \n",
            "Predicted Translation 1:  ¿qué lo dijo que hacer \n",
            "Predicted Translation 2:  ¿cómo lo que que hacer \n",
            "Predicted Translation 3:  ¿cómo lo puede que hacer \n",
            "Predicted Translation 4:  ¿qué lo que que hacer \n",
            "==============================\n",
            "\n",
            "Input Sentence: i never forget a face\n",
            "Actual Translation:  nunca se me olvida una cara \n",
            "Predicted Translation 0:  nunca me he visto una manzana \n",
            "Predicted Translation 1:  nunca me he visto una vez \n",
            "Predicted Translation 2:  nunca me he visto una trampa \n",
            "Predicted Translation 3:  nunca me he visto un manzana \n",
            "Predicted Translation 4:  nunca me voy visto una manzana \n",
            "==============================\n",
            "\n",
            "Input Sentence: thats mine\n",
            "Actual Translation:  eso es mío \n",
            "------------------------------------------------------------\n",
            "Correctly Predicted:  eso es mío \n",
            "------------------------------------------------------------\n",
            "Predicted Translation 1:  esa es mío \n",
            "Predicted Translation 2:  es es mío \n",
            "Predicted Translation 3:  esto es mío \n",
            "Predicted Translation 4:  ese es mío \n",
            "==============================\n",
            "\n",
            "Input Sentence: then we went to the theater\n",
            "Actual Translation:  después fuimos al teatro \n",
            "Predicted Translation 0:  al final de las hojas \n",
            "Predicted Translation 1:  después final de las hojas \n",
            "Predicted Translation 2:  al final de las manos \n",
            "Predicted Translation 3:  al final de las dólares \n",
            "Predicted Translation 4:  al final de las seis \n",
            "==============================\n",
            "\n",
            "Input Sentence: as soon as i can get the chance ill come for a visit\n",
            "Actual Translation:  tan pronto tenga la oportunidad vendré a hacer una visita \n",
            "Predicted Translation 0:  para dejar de cuanto me gustaría hacer un poco d\n",
            "Predicted Translation 1:  para dejar de cuanto me gustaría hacer un poco de\n",
            "Predicted Translation 2:  en dejar de cuanto me gustaría hacer un poco d\n",
            "Predicted Translation 3:  para dejar de cuanto me gustaría hacer un milló\n",
            "Predicted Translation 4:  para dejar de cuanto me gustaría hacer un par d\n",
            "==============================\n",
            "\n",
            "Input Sentence: suddenly all the lights went out\n",
            "Actual Translation:  de repente todas las luces se apagaron \n",
            "Predicted Translation 0:  de repente los niños fueron a la luz \n",
            "Predicted Translation 1:  de repente los niños se a la luz \n",
            "Predicted Translation 2:  de repente los niños estaban a la luz \n",
            "Predicted Translation 3:  de repente los pasajeros fueron a la luz \n",
            "Predicted Translation 4:  de repente los pasajeros se a la luz \n",
            "==============================\n",
            "\n",
            "Input Sentence: this tv was made in china\n",
            "Actual Translation:  este televisor fue fabricado en china \n",
            "Predicted Translation 0:  la primera vez ha sido muy lejos \n",
            "Predicted Translation 1:  la primera vez ha sido muy fría \n",
            "Predicted Translation 2:  la primera vez se sido muy lejos \n",
            "Predicted Translation 3:  la primera vez se sido muy fría \n",
            "Predicted Translation 4:  la historia vez ha sido muy lejos \n",
            "==============================\n",
            "\n",
            "Input Sentence: i once wanted to be an astrophysicist\n",
            "Actual Translation:  una vez quise ser astrofísico \n",
            "Predicted Translation 0:  yo quería un poco de peso \n",
            "Predicted Translation 1:  solo quería un poco de peso \n",
            "Predicted Translation 2:  yo solo un poco de peso \n",
            "Predicted Translation 3:  yo nunca un poco de peso \n",
            "Predicted Translation 4:  solo solo un poco de peso \n",
            "==============================\n",
            "\n",
            "Input Sentence: hes not smart enough to work it out in his head\n",
            "Actual Translation:  él no es lo bastante inteligente como para hacer cuentas con la cabeza \n",
            "Predicted Translation 0:  él es imposible que él no se va a trabajar en el tra\n",
            "Predicted Translation 1:  él es imposible que él no se va a hacer en el tra\n",
            "Predicted Translation 2:  él es imposible que él no se va a trabajar en el prob\n",
            "Predicted Translation 3:  él es imposible que él no se va a hacer en el prob\n",
            "Predicted Translation 4:  él es imposible que él no se va a un en el tra\n",
            "==============================\n",
            "\n"
          ],
          "name": "stdout"
        }
      ]
    },
    {
      "cell_type": "code",
      "metadata": {
        "id": "qytlFdnrhvG5",
        "colab_type": "code",
        "colab": {}
      },
      "source": [
        ""
      ],
      "execution_count": 0,
      "outputs": []
    },
    {
      "cell_type": "markdown",
      "metadata": {
        "id": "128CBoYriOuU",
        "colab_type": "text"
      },
      "source": [
        "### Testing Data"
      ]
    },
    {
      "cell_type": "code",
      "metadata": {
        "id": "QdkmKx2HhvCk",
        "colab_type": "code",
        "colab": {}
      },
      "source": [
        "val_gen = generate_batch(X_test, y_test, batch_size = 1)\n",
        "k=-1"
      ],
      "execution_count": 0,
      "outputs": []
    },
    {
      "cell_type": "code",
      "metadata": {
        "id": "mTd6pAdqiQuQ",
        "colab_type": "code",
        "outputId": "b3866995-f8ee-424e-c476-c0c19b3ae516",
        "colab": {
          "base_uri": "https://localhost:8080/",
          "height": 1000
        }
      },
      "source": [
        "for _ in range(20):\n",
        "    k+=1\n",
        "    (input_seq, actual_output), _ = next(val_gen)\n",
        "    decoded_sentence = decode_sequence(input_seq)\n",
        "    print('Input Sentence:', X_test[k:k+1].values[0])\n",
        "    print('Actual Translation:', y_test[k:k+1].values[0][6:-4])\n",
        "    print('Predicted Translation (Spanish):', decoded_sentence[:-4])\n",
        "    # predicted spanish sequence back to english\n",
        "    print('Predicted Translation (English):', get_translation(decoded_sentence[:-4]))\n",
        "    print(\"=\"*60, end=\"\\n\\n\")"
      ],
      "execution_count": 113,
      "outputs": [
        {
          "output_type": "stream",
          "text": [
            "Input Sentence: if you are not firm with the children they will get out of hand\n",
            "Actual Translation:  si no eres firme con los niños se te irán de las manos \n",
            "Predicted Translation (Spanish):  si no te vas a las manos y se fueron a los niños \n",
            "Predicted Translation (English): if you don&#39;t go to the hands and they went to the children\n",
            "============================================================\n",
            "\n",
            "Input Sentence: tom is a redneck\n",
            "Actual Translation:  tom es campesino \n",
            "Predicted Translation (Spanish):  tom es un error \n",
            "Predicted Translation (English): tom is a mistake\n",
            "============================================================\n",
            "\n",
            "Input Sentence: tom had to admit that mary was right\n",
            "Actual Translation:  tom tuvo que admitir que mary tenía razón \n",
            "Predicted Translation (Spanish):  tom tuvo que haber sido capaz de que mary estaba enf\n",
            "Predicted Translation (English): Tom must have been able to see that Mary was up\n",
            "============================================================\n",
            "\n",
            "Input Sentence: make a sentence with each of these words\n",
            "Actual Translation:  hacé una oración con cada una de estas palabras \n",
            "Predicted Translation (Spanish):  tráeme el libro con las manos de arena \n",
            "Predicted Translation (English): bring me the book with your hands of sand\n",
            "============================================================\n",
            "\n",
            "Input Sentence: he enjoys watching baseball games on tv\n",
            "Actual Translation:  a él le gusta ver partidos de béisbol en la televisión \n",
            "Predicted Translation (Spanish):  él me gusta jugar de la televisión \n",
            "Predicted Translation (English): he likes to play television\n",
            "============================================================\n",
            "\n",
            "Input Sentence: the gentleman is a very famous pianist\n",
            "Actual Translation:  el caballero es un pianista muy famoso \n",
            "Predicted Translation (Spanish):  el lago es un gran famoso \n",
            "Predicted Translation (English): the lake is a big famous\n",
            "============================================================\n",
            "\n",
            "Input Sentence: he patted me on the shoulder\n",
            "Actual Translation:  él me dio una palmada en el hombro \n",
            "Predicted Translation (Spanish):  él me dio el camino \n",
            "Predicted Translation (English): he gave me the way\n",
            "============================================================\n",
            "\n",
            "Input Sentence: we really enjoyed ourselves\n",
            "Actual Translation:  nos divertimos mucho \n",
            "Predicted Translation (Spanish):  gracias por la pena que \n",
            "Predicted Translation (English): thanks for the pity that\n",
            "============================================================\n",
            "\n",
            "Input Sentence: she had the hotel suite to herself\n",
            "Actual Translation:  tenía la habitación del hotel para ella sola \n",
            "Predicted Translation (Spanish):  ella se quedó en el año que había ido \n",
            "Predicted Translation (English): she stayed in the year she was gone\n",
            "============================================================\n",
            "\n",
            "Input Sentence: i regret not paying attention\n",
            "Actual Translation:  me arrepiento de no haber hecho caso \n",
            "Predicted Translation (Spanish):  no quiero ver \n",
            "Predicted Translation (English): It is not just steel I lack Brother\n",
            "============================================================\n",
            "\n",
            "Input Sentence: we walked along side by side\n",
            "Actual Translation:  nosotros íbamos caminando uno al lado del otro \n",
            "Predicted Translation (Spanish):  nosotros nos sentamos en el hospital \n",
            "Predicted Translation (English): we sit in the hospital\n",
            "============================================================\n",
            "\n",
            "Input Sentence: i saw my uncle on the way to school\n",
            "Actual Translation:  de camino a la escuela vi a mi tío \n",
            "Predicted Translation (Spanish):  vi a la escuela a mi habitación \n",
            "Predicted Translation (English): I saw school in my room\n",
            "============================================================\n",
            "\n",
            "Input Sentence: please step back\n",
            "Actual Translation:  por favor retroceda \n",
            "Predicted Translation (Spanish):  por favor espere \n",
            "Predicted Translation (English): please Wait\n",
            "============================================================\n",
            "\n",
            "Input Sentence: tom isnt afraid of snakes even poisonous ones\n",
            "Actual Translation:  tom no le tiene miedo a las serpientes ni siquiera a las venenosas \n",
            "Predicted Translation (Spanish):  tom no tiene miedo de los niños de lo que \n",
            "Predicted Translation (English): Tom is not afraid of children of what\n",
            "============================================================\n",
            "\n",
            "Input Sentence: i couldnt stop\n",
            "Actual Translation:  no podría parar \n",
            "Predicted Translation (Spanish):  no pude ir \n",
            "Predicted Translation (English): I couldn't go\n",
            "============================================================\n",
            "\n",
            "Input Sentence: the problem should be solved\n",
            "Actual Translation:  el problema debería estar resuelto \n",
            "Predicted Translation (Spanish):  el problema de ser de tom \n",
            "Predicted Translation (English): the problem of being from tom\n",
            "============================================================\n",
            "\n",
            "Input Sentence: this table is handmade\n",
            "Actual Translation:  esta mesa está hecha a mano \n",
            "Predicted Translation (Spanish):  esta casa es mía \n",
            "Predicted Translation (English): This house is mine.\n",
            "============================================================\n",
            "\n",
            "Input Sentence: does truth matter\n",
            "Actual Translation:  ¿la verdad importa \n",
            "Predicted Translation (Spanish):  ¿está la verdad \n",
            "Predicted Translation (English): Here’s the truth:\n",
            "============================================================\n",
            "\n",
            "Input Sentence: the ship made slow progress against the strong wind\n",
            "Actual Translation:  el barco hizo poco progreso contra el fuerte viento \n",
            "Predicted Translation (Spanish):  el barco se ha sido un terremoto en el agua que s\n",
            "Predicted Translation (English): the ship has been an earthquake in the water that s\n",
            "============================================================\n",
            "\n",
            "Input Sentence: the companys failed\n",
            "Actual Translation:  ha quebrado la empresa \n",
            "Predicted Translation (Spanish):  la muerte se rieron \n",
            "Predicted Translation (English): death laughed\n",
            "============================================================\n",
            "\n"
          ],
          "name": "stdout"
        }
      ]
    },
    {
      "cell_type": "code",
      "metadata": {
        "id": "sMEzpS-czGIg",
        "colab_type": "code",
        "colab": {
          "base_uri": "https://localhost:8080/",
          "height": 1000
        },
        "outputId": "eaf80a81-5941-46ee-9b1e-dc164b01ba6e"
      },
      "source": [
        "k = 100\n",
        "for _ in range(20):\n",
        "    k+=1\n",
        "    (input_seq, actual_output), _ = next(val_gen)\n",
        "    decoded_sentence = decode_sequence(input_seq)\n",
        "    print('Input Sentence:', X_test[k:k+1].values[0])\n",
        "    print('Actual Translation:', y_test[k:k+1].values[0][6:-4])\n",
        "    print('Predicted Translation (Spanish):', decoded_sentence[:-4])\n",
        "    # predicted spanish sequence back to english\n",
        "    print('Predicted Translation (English):', get_translation(decoded_sentence[:-4]))\n",
        "    print(\"=\"*60, end=\"\\n\\n\")"
      ],
      "execution_count": 114,
      "outputs": [
        {
          "output_type": "stream",
          "text": [
            "Input Sentence: im only doing this because i have nothing better to do\n",
            "Actual Translation:  lo hago porque no tengo nada mejor que hacer \n",
            "Predicted Translation (Spanish):  no me aconsejó que me quedara \n",
            "Predicted Translation (English): did not advise me to stay\n",
            "============================================================\n",
            "\n",
            "Input Sentence: i dont like stubborn people\n",
            "Actual Translation:  no me gustan las personas tercas \n",
            "Predicted Translation (Spanish):  ¿cuáles son estos cosas \n",
            "Predicted Translation (English): What are these things\n",
            "============================================================\n",
            "\n",
            "Input Sentence: when do you mean to start\n",
            "Actual Translation:  ¿cuándo pretendes empezar \n",
            "Predicted Translation (Spanish):  tuvimos que aprender \n",
            "Predicted Translation (English): we had to learn\n",
            "============================================================\n",
            "\n",
            "Input Sentence: it was very cold that winter\n",
            "Actual Translation:  aquel invierno hizo mucho frío \n",
            "Predicted Translation (Spanish):  me encantan los gatos \n",
            "Predicted Translation (English): I love cats\n",
            "============================================================\n",
            "\n",
            "Input Sentence: its no joke\n",
            "Actual Translation:  no es una broma \n",
            "Predicted Translation (Spanish):  japón está en el extranjero \n",
            "Predicted Translation (English): japan is abroad\n",
            "============================================================\n",
            "\n",
            "Input Sentence: i make too many mistakes\n",
            "Actual Translation:  cometo demasiados errores \n",
            "Predicted Translation (Spanish):  ella es canadiense \n",
            "Predicted Translation (English): she is Canadian\n",
            "============================================================\n",
            "\n",
            "Input Sentence: tom doesnt like speaking french\n",
            "Actual Translation:  a tom no le gusta hablar francés \n",
            "Predicted Translation (Spanish):  es un piano de nuestro plan \n",
            "Predicted Translation (English): it&#39;s a piano of our plan\n",
            "============================================================\n",
            "\n",
            "Input Sentence: my savings will soon run out\n",
            "Actual Translation:  pronto se me acabarán los ahorros \n",
            "Predicted Translation (Spanish):  el ruido se va a las \n",
            "Predicted Translation (English): the noise goes at\n",
            "============================================================\n",
            "\n",
            "Input Sentence: this coffee tastes bitter\n",
            "Actual Translation:  este café sabe amargo \n",
            "Predicted Translation (Spanish):  quería que quiero algo \n",
            "Predicted Translation (English): wanted I want something\n",
            "============================================================\n",
            "\n",
            "Input Sentence: im thinking about that\n",
            "Actual Translation:  estoy pensando en ello \n",
            "Predicted Translation (Spanish):  necesitamos un poco de leche \n",
            "Predicted Translation (English): we need some milk\n",
            "============================================================\n",
            "\n",
            "Input Sentence: i heard him coming downstairs\n",
            "Actual Translation:  lo oí bajando las escaleras \n",
            "Predicted Translation (Spanish):  ¿podría darme un mapa por favor \n",
            "Predicted Translation (English): Could you give me a map please\n",
            "============================================================\n",
            "\n",
            "Input Sentence: will it be hot again tomorrow\n",
            "Actual Translation:  ¿mañana volverá a hacer calor \n",
            "Predicted Translation (Spanish):  tom se puso el pelo rojo \n",
            "Predicted Translation (English): Tom put on his red hair\n",
            "============================================================\n",
            "\n",
            "Input Sentence: my father hasnt gone abroad even once\n",
            "Actual Translation:  mi padre no ha salido al extranjero ni siquiera una vez \n",
            "Predicted Translation (Spanish):  ¿cuándo fue la última vez que te pasó \n",
            "Predicted Translation (English): When’s the last time someone\n",
            "============================================================\n",
            "\n",
            "Input Sentence: he insulted our team\n",
            "Actual Translation:  insultó a nuestro equipo \n",
            "Predicted Translation (Spanish):  el anciano tiene un gran terremoto en la ciudad \n",
            "Predicted Translation (English): the old man has a big earthquake in the city\n",
            "============================================================\n",
            "\n",
            "Input Sentence: my mission is to photograph the documents\n",
            "Actual Translation:  mi misión es fotografiar los documentos \n",
            "Predicted Translation (Spanish):  soy importante \n",
            "Predicted Translation (English): Im important\n",
            "============================================================\n",
            "\n",
            "Input Sentence: i had to stay home all day yesterday to take care of my mother\n",
            "Actual Translation:  ayer tuve que quedarme en casa todo el día para cuidar de mi madre \n",
            "Predicted Translation (Spanish):  ese era un buen buen reloj \n",
            "Predicted Translation (English): that was a good good watch\n",
            "============================================================\n",
            "\n",
            "Input Sentence: my car burns a lot of gas\n",
            "Actual Translation:  mi auto quema mucho combustible \n",
            "Predicted Translation (Spanish):  ellos fueron al hospital \n",
            "Predicted Translation (English): they went to the hospital\n",
            "============================================================\n",
            "\n",
            "Input Sentence: i feel so lost\n",
            "Actual Translation:  me siento tan perdido \n",
            "Predicted Translation (Spanish):  tom quería que mary se rompió la ventana \n",
            "Predicted Translation (English): tom wanted mary broke the window\n",
            "============================================================\n",
            "\n",
            "Input Sentence: everybody likes her\n",
            "Actual Translation:  a todos les gusta ella \n",
            "Predicted Translation (Spanish):  el hombre se murió en un banco de semana \n",
            "Predicted Translation (English): the man died on a week bank\n",
            "============================================================\n",
            "\n",
            "Input Sentence: ill go even if it rains heavily\n",
            "Actual Translation:  voy aunque llueva a cántaros \n",
            "Predicted Translation (Spanish):  prefiero quedarme más opción que yo \n",
            "Predicted Translation (English): I prefer to stay more option than me\n",
            "============================================================\n",
            "\n"
          ],
          "name": "stdout"
        }
      ]
    },
    {
      "cell_type": "code",
      "metadata": {
        "id": "K-fmFni3iQ1y",
        "colab_type": "code",
        "colab": {
          "base_uri": "https://localhost:8080/",
          "height": 1000
        },
        "outputId": "f803474e-a46c-4aac-d4ae-e3507be2debf"
      },
      "source": [
        "for _ in range(20):\n",
        "    k+=1\n",
        "    (input_seq, actual_output), _ = next(val_gen)\n",
        "    decoded_sentences = decode_sequence_beam_search(input_seq)\n",
        "    print('Input Sentence:', X_train[k:k+1].values[0])\n",
        "    print('Actual Translation:', y_train[k:k+1].values[0][6:-4])\n",
        "    for idx, pred in enumerate(decoded_sentences):\n",
        "        if pred[:-4] == y_train[k:k+1].values[0][6:-4]:\n",
        "            print(\"-\"*60)\n",
        "            print(f\"Correctly Predicted: {pred[:-4]}\")\n",
        "            print(\"-\"*60)\n",
        "        else:\n",
        "            print(f'Predicted Translation {idx}: {pred[:-4]}')\n",
        "    print(\"=\"*30, end=\"\\n\\n\")"
      ],
      "execution_count": 78,
      "outputs": [
        {
          "output_type": "stream",
          "text": [
            "Input Sentence: have you ever traveled by plane\n",
            "Actual Translation:  ¿ha viajado alguna vez en avión \n",
            "Predicted Translation 0:  no me aconsejó que me quedara \n",
            "Predicted Translation 1:  no pude aconsejó que me quedara \n",
            "Predicted Translation 2:  no me aconsejó de me quedara \n",
            "Predicted Translation 3:  no me aconsejó que me fuera \n",
            "Predicted Translation 4:  no me aconsejó que me he \n",
            "==============================\n",
            "\n",
            "Input Sentence: i was told i couldnt do that\n",
            "Actual Translation:  me dijeron que no podía hacer eso \n",
            "Predicted Translation 0:  ¿cuáles son estos cosas \n",
            "Predicted Translation 1:  ¿qué son estos cosas \n",
            "Predicted Translation 2:  ¿de son estos cosas \n",
            "Predicted Translation 3:  ¿cuáles son son cosas \n",
            "Predicted Translation 4:  ¿cuáles son buenos cosas \n",
            "==============================\n",
            "\n",
            "Input Sentence: walk more slowly\n",
            "Actual Translation:  camina más despacio \n",
            "Predicted Translation 0:  tuvimos que aprender \n",
            "Predicted Translation 1:  tuvimos que ser \n",
            "Predicted Translation 2:  tuvimos que estar \n",
            "Predicted Translation 3:  tuvimos que haber \n",
            "Predicted Translation 4:  tuvimos que pagar \n",
            "==============================\n",
            "\n",
            "Input Sentence: that sounds really interesting\n",
            "Actual Translation:  eso suena realmente interesante \n",
            "Predicted Translation 0:  me encantan los gatos \n",
            "Predicted Translation 1:  me encanta los gatos \n",
            "Predicted Translation 2:  me encantan los perros \n",
            "Predicted Translation 3:  me encanta los perros \n",
            "Predicted Translation 4:  me encantan los platos \n",
            "==============================\n",
            "\n",
            "Input Sentence: stop theres a deer on the road\n",
            "Actual Translation:  ¡alto hay un ciervo en el camino \n",
            "Predicted Translation 0:  japón está en el extranjero \n",
            "Predicted Translation 1:  japón está en el fuego \n",
            "Predicted Translation 2:  japón está en el sol \n",
            "Predicted Translation 3:  japón está en el agua \n",
            "Predicted Translation 4:  japón está en el aire \n",
            "==============================\n",
            "\n",
            "Input Sentence: she has no one to speak to\n",
            "Actual Translation:  ella no tiene con quién hablar \n",
            "Predicted Translation 0:  ella es canadiense \n",
            "Predicted Translation 1:  ella está canadiense \n",
            "Predicted Translation 2:  ella no canadiense \n",
            "Predicted Translation 3:  es es canadiense \n",
            "Predicted Translation 4:  está es canadiense \n",
            "==============================\n",
            "\n",
            "Input Sentence: cain was evil\n",
            "Actual Translation:  caín era malvado \n",
            "Predicted Translation 0:  es un piano de nuestro plan \n",
            "Predicted Translation 1:  es un piano de nuestro \n",
            "Predicted Translation 2:  es un país de nuestro plan \n",
            "Predicted Translation 3:  es un piano de japón plan \n",
            "Predicted Translation 4:  es un piano de sangre plan \n",
            "==============================\n",
            "\n",
            "Input Sentence: i lost my job on monday\n",
            "Actual Translation:  el lunes perdí mi trabajo \n",
            "Predicted Translation 0:  el ruido se va a las \n",
            "Predicted Translation 1:  el ruido se va a llorar \n",
            "Predicted Translation 2:  el ruido se va a las escal\n",
            "Predicted Translation 3:  el ruido se va a llorar escal\n",
            "Predicted Translation 4:  el ruido se lo a las \n",
            "==============================\n",
            "\n",
            "Input Sentence: why take a chance\n",
            "Actual Translation:  ¿para qué correr el riesgo \n",
            "Predicted Translation 0:  quería que quiero algo \n",
            "Predicted Translation 1:  quería algo quiero algo \n",
            "Predicted Translation 2:  quería que te algo \n",
            "Predicted Translation 3:  quería verte quiero algo \n",
            "Predicted Translation 4:  quería preguntarte quiero algo \n",
            "==============================\n",
            "\n",
            "Input Sentence: you have to pay taxes\n",
            "Actual Translation:  tienes que pagar impuestos \n",
            "Predicted Translation 0:  necesitamos un poco de leche \n",
            "Predicted Translation 1:  necesitamos un poco de azúcar \n",
            "Predicted Translation 2:  necesitamos un poco de agua \n",
            "Predicted Translation 3:  necesitamos un poco de café \n",
            "Predicted Translation 4:  necesitamos un poco de cerveza \n",
            "==============================\n",
            "\n",
            "Input Sentence: come when you have some time\n",
            "Actual Translation:  ven cuando tengas tiempo \n",
            "Predicted Translation 0:  ¿podría darme un mapa por favor \n",
            "Predicted Translation 1:  ¿podría enviarme un mapa por favor \n",
            "Predicted Translation 2:  ¿podría darme una mapa por favor \n",
            "Predicted Translation 3:  ¿me darme un mapa por favor \n",
            "Predicted Translation 4:  ¿podría un un mapa por favor \n",
            "==============================\n",
            "\n",
            "Input Sentence: could you please tell me why you love her\n",
            "Actual Translation:  ¿podrías por favor decirme por qué la amas \n",
            "Predicted Translation 0:  tom se puso el pelo rojo \n",
            "Predicted Translation 1:  la se puso el pelo rojo \n",
            "Predicted Translation 2:  tom se puso el pelo de \n",
            "Predicted Translation 3:  tom se puso el pelo azul \n",
            "Predicted Translation 4:  tom se cayó el pelo rojo \n",
            "==============================\n",
            "\n",
            "Input Sentence: you are our new neighbor\n",
            "Actual Translation:  tú eres nuestro nuevo vecino \n",
            "Predicted Translation 0:  ¿cuándo fue la última vez que te pasó \n",
            "Predicted Translation 1:  ¿cuándo fue la última vez que te vayas \n",
            "Predicted Translation 2:  ¿cuándo fue la última vez que tú pasó \n",
            "Predicted Translation 3:  ¿cuándo fue la última vez que estabas pasó \n",
            "Predicted Translation 4:  ¿cuándo fue la última vez que tú vayas \n",
            "==============================\n",
            "\n",
            "Input Sentence: you cant go in there alone\n",
            "Actual Translation:  no puedes entrar ahí a solas \n",
            "Predicted Translation 0:  el anciano tiene un gran terremoto en la ciudad \n",
            "Predicted Translation 1:  el hombre tiene un gran terremoto en la ciudad \n",
            "Predicted Translation 2:  el anciano tiene un gran terremoto en el ciudad \n",
            "Predicted Translation 3:  el hombre tiene un gran terremoto en el ciudad \n",
            "Predicted Translation 4:  el anciano tiene un gran agua en la ciudad \n",
            "==============================\n",
            "\n",
            "Input Sentence: the barbers around here are not good\n",
            "Actual Translation:  los peluqueros de por aquí no son buenos \n",
            "Predicted Translation 0:  soy importante \n",
            "Predicted Translation 1:  soy de \n",
            "Predicted Translation 2:  soy muy \n",
            "Predicted Translation 3:  soy bastante \n",
            "Predicted Translation 4:  es importante \n",
            "==============================\n",
            "\n",
            "Input Sentence: life is full of mysteries\n",
            "Actual Translation:  la vida está llena de misterios \n",
            "Predicted Translation 0:  ese era un buen buen reloj \n",
            "Predicted Translation 1:  ese era un buen amigo reloj \n",
            "Predicted Translation 2:  ese un un buen buen reloj \n",
            "Predicted Translation 3:  un era un buen buen reloj \n",
            "Predicted Translation 4:  ese era un buen sueño reloj \n",
            "==============================\n",
            "\n",
            "Input Sentence: you can put it there\n",
            "Actual Translation:  lo podéis poner ahí \n",
            "Predicted Translation 0:  ellos fueron al hospital \n",
            "Predicted Translation 1:  ellos fueron a hospital \n",
            "Predicted Translation 2:  ellos fue al hospital \n",
            "Predicted Translation 3:  ellos se al hospital \n",
            "Predicted Translation 4:  ellos fue a hospital \n",
            "==============================\n",
            "\n",
            "Input Sentence: hold your position\n",
            "Actual Translation:  mantén tu posición \n",
            "Predicted Translation 0:  tom quería que mary se rompió la ventana \n",
            "Predicted Translation 1:  tom quería que mary se dio la ventana \n",
            "Predicted Translation 2:  tom quería que mary se quedara la ventana \n",
            "Predicted Translation 3:  tom quería que mary se puso la ventana \n",
            "Predicted Translation 4:  tom quería que mary se rompió el ventana \n",
            "==============================\n",
            "\n",
            "Input Sentence: tom doesnt listen to advice\n",
            "Actual Translation:  tom no escucha consejos \n",
            "Predicted Translation 0:  el hombre se murió en un banco de semana \n",
            "Predicted Translation 1:  el hombre se murió en un mes de semana \n",
            "Predicted Translation 2:  el hombre murió murió en un banco de semana \n",
            "Predicted Translation 3:  el hombre se murió en un banco en semana \n",
            "Predicted Translation 4:  el hombre murió murió en un mes de semana \n",
            "==============================\n",
            "\n",
            "Input Sentence: are you drinking\n",
            "Actual Translation:  ¿estás bebiendo \n",
            "Predicted Translation 0:  prefiero quedarme más opción que yo \n",
            "Predicted Translation 1:  prefiero quedarme más de que yo \n",
            "Predicted Translation 2:  prefiero quedarme más que que yo \n",
            "Predicted Translation 3:  prefiero quedarme más miedo que yo \n",
            "Predicted Translation 4:  prefiero quedarme más como que yo \n",
            "==============================\n",
            "\n"
          ],
          "name": "stdout"
        }
      ]
    },
    {
      "cell_type": "code",
      "metadata": {
        "id": "o6ePOWT0FnAs",
        "colab_type": "code",
        "colab": {}
      },
      "source": [
        ""
      ],
      "execution_count": 0,
      "outputs": []
    }
  ]
}