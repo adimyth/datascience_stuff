{
  "nbformat": 4,
  "nbformat_minor": 0,
  "metadata": {
    "colab": {
      "name": "spanish-english-seq2seq",
      "provenance": [],
      "collapsed_sections": [],
      "machine_shape": "hm",
      "authorship_tag": "ABX9TyNoPwEyqMpFV2svDXGwLS2z",
      "include_colab_link": true
    },
    "kernelspec": {
      "name": "python3",
      "display_name": "Python 3"
    },
    "accelerator": "GPU"
  },
  "cells": [
    {
      "cell_type": "markdown",
      "metadata": {
        "id": "view-in-github",
        "colab_type": "text"
      },
      "source": [
        "<a href=\"https://colab.research.google.com/github/adimyth/interesting_stuff/blob/master/text/spanish_english_seq2seq.ipynb\" target=\"_parent\"><img src=\"https://colab.research.google.com/assets/colab-badge.svg\" alt=\"Open In Colab\"/></a>"
      ]
    },
    {
      "cell_type": "markdown",
      "metadata": {
        "id": "78OcyDwKFo6z",
        "colab_type": "text"
      },
      "source": [
        "# Word Level Seq2Seq Model\n",
        "\n",
        "Shamelessly, copied from [here](https://github.com/hlamba28/Word-Level-Eng-Mar-NMT/blob/master/WordLevelEngMarNMT.ipynb)"
      ]
    },
    {
      "cell_type": "markdown",
      "metadata": {
        "id": "8mU-lZlObN-F",
        "colab_type": "text"
      },
      "source": [
        "## Encoder\n",
        "![Encoder](https://guillaumegenthial.github.io/assets/img2latex/seq2seq_vanilla_encoder.svg)\n",
        "\n",
        "## Decoder\n",
        "![Decoder](https://guillaumegenthial.github.io/assets/img2latex/seq2seq_vanilla_decoder.svg)\n",
        "\n",
        "\n",
        "Stepwise, the decoder operates as - \n",
        "![Decoder Operation](https://i.imgur.com/sWRGsi4.png)"
      ]
    },
    {
      "cell_type": "markdown",
      "metadata": {
        "id": "mm8EvwjwggXH",
        "colab_type": "text"
      },
      "source": [
        "## Dataset\n",
        "English to Spanish Conversion - http://www.manythings.org/anki/spa-eng.zip"
      ]
    },
    {
      "cell_type": "code",
      "metadata": {
        "id": "aZW-uEgIf7Yy",
        "colab_type": "code",
        "outputId": "43234a12-266b-4be0-dc23-2dae0f0a2563",
        "colab": {
          "base_uri": "https://localhost:8080/",
          "height": 224
        }
      },
      "source": [
        "!wget http://www.manythings.org/anki/spa-eng.zip"
      ],
      "execution_count": 1,
      "outputs": [
        {
          "output_type": "stream",
          "text": [
            "--2020-04-19 09:09:10--  http://www.manythings.org/anki/spa-eng.zip\n",
            "Resolving www.manythings.org (www.manythings.org)... 104.24.108.196, 104.24.109.196, 2606:4700:3037::6818:6cc4, ...\n",
            "Connecting to www.manythings.org (www.manythings.org)|104.24.108.196|:80... connected.\n",
            "HTTP request sent, awaiting response... 200 OK\n",
            "Length: 4781548 (4.6M) [application/zip]\n",
            "Saving to: ‘spa-eng.zip’\n",
            "\n",
            "\rspa-eng.zip           0%[                    ]       0  --.-KB/s               \rspa-eng.zip           9%[>                   ] 440.20K  1.89MB/s               \rspa-eng.zip         100%[===================>]   4.56M  12.2MB/s    in 0.4s    \n",
            "\n",
            "2020-04-19 09:09:10 (12.2 MB/s) - ‘spa-eng.zip’ saved [4781548/4781548]\n",
            "\n"
          ],
          "name": "stdout"
        }
      ]
    },
    {
      "cell_type": "code",
      "metadata": {
        "id": "m_CfMoXrhPJ6",
        "colab_type": "code",
        "outputId": "874d8a9b-08cc-49d8-9556-17127bb001fe",
        "colab": {
          "base_uri": "https://localhost:8080/",
          "height": 187
        }
      },
      "source": [
        "!unzip -l spa-eng.zip\n",
        "!unzip spa-eng.zip"
      ],
      "execution_count": 2,
      "outputs": [
        {
          "output_type": "stream",
          "text": [
            "Archive:  spa-eng.zip\n",
            "  Length      Date    Time    Name\n",
            "---------  ---------- -----   ----\n",
            "     1441  2020-03-15 02:17   _about.txt\n",
            " 18493172  2020-03-15 02:17   spa.txt\n",
            "---------                     -------\n",
            " 18494613                     2 files\n",
            "Archive:  spa-eng.zip\n",
            "  inflating: _about.txt              \n",
            "  inflating: spa.txt                 \n"
          ],
          "name": "stdout"
        }
      ]
    },
    {
      "cell_type": "code",
      "metadata": {
        "id": "LrLwTegngpaq",
        "colab_type": "code",
        "colab": {
          "base_uri": "https://localhost:8080/",
          "height": 71
        },
        "outputId": "5250ed3e-66de-450a-efe3-9aa3cf794e26"
      },
      "source": [
        "import matplotlib.pyplot as plt\n",
        "from itertools import islice\n",
        "import math\n",
        "import numpy as np\n",
        "import pandas as pd\n",
        "import random\n",
        "import re\n",
        "import seaborn as sns\n",
        "import string\n",
        "from string import digits\n",
        "from sklearn.utils import shuffle\n",
        "from sklearn.model_selection import train_test_split\n",
        "import tensorflow as tf\n",
        "from tensorflow.keras.layers import Input, LSTM, Embedding, Dense\n",
        "from tensorflow.keras.models import Model, load_model\n",
        "from tensorflow.keras.utils import plot_model"
      ],
      "execution_count": 1,
      "outputs": [
        {
          "output_type": "stream",
          "text": [
            "/usr/local/lib/python3.6/dist-packages/statsmodels/tools/_testing.py:19: FutureWarning: pandas.util.testing is deprecated. Use the functions in the public API at pandas.testing instead.\n",
            "  import pandas.util.testing as tm\n"
          ],
          "name": "stderr"
        }
      ]
    },
    {
      "cell_type": "code",
      "metadata": {
        "id": "QXwoZpIXWvrb",
        "colab_type": "code",
        "colab": {}
      },
      "source": [
        "from tensorflow.python.framework.ops import disable_eager_execution, enable_eager_execution\n",
        "disable_eager_execution()"
      ],
      "execution_count": 0,
      "outputs": []
    },
    {
      "cell_type": "markdown",
      "metadata": {
        "id": "_cE9QLnWWwkQ",
        "colab_type": "text"
      },
      "source": [
        "Disabling eager execution because all zeros mask raises some CuDNN kernel level issue. Refere [here](https://github.com/tensorflow/tensorflow/issues/33148)"
      ]
    },
    {
      "cell_type": "code",
      "metadata": {
        "id": "V_QqGC99gz1Q",
        "colab_type": "code",
        "colab": {}
      },
      "source": [
        "%matplotlib inline\n",
        "sns.set_style(\"whitegrid\")"
      ],
      "execution_count": 0,
      "outputs": []
    },
    {
      "cell_type": "code",
      "metadata": {
        "id": "Ps65fz_BhFDN",
        "colab_type": "code",
        "colab": {}
      },
      "source": [
        "lines = pd.read_table('spa.txt', names=['english', 'spanish', 'attributes'])\n",
        "# lines = pd.DataFrame({\"english\": [\"Juan eats apples\"], \"spanish\": [\"Juan come manzanas\"], \"attributes\": \"\"})"
      ],
      "execution_count": 0,
      "outputs": []
    },
    {
      "cell_type": "code",
      "metadata": {
        "id": "x8uNdjbIh9pS",
        "colab_type": "code",
        "outputId": "431e55e1-5e49-462a-89a3-11b855cd157a",
        "colab": {
          "base_uri": "https://localhost:8080/",
          "height": 34
        }
      },
      "source": [
        "lines.shape"
      ],
      "execution_count": 5,
      "outputs": [
        {
          "output_type": "execute_result",
          "data": {
            "text/plain": [
              "(123770, 3)"
            ]
          },
          "metadata": {
            "tags": []
          },
          "execution_count": 5
        }
      ]
    },
    {
      "cell_type": "code",
      "metadata": {
        "id": "xHAiIbv6kEpz",
        "colab_type": "code",
        "colab": {}
      },
      "source": [
        "lines = lines.drop(columns=['attributes'])"
      ],
      "execution_count": 0,
      "outputs": []
    },
    {
      "cell_type": "code",
      "metadata": {
        "id": "YyK4Ck3kiG_Q",
        "colab_type": "code",
        "colab": {}
      },
      "source": [
        "for col in lines.columns:\n",
        "    # lowercase\n",
        "    lines[col] = lines[col].apply(lambda x: x.lower())\n",
        "    # remove quotes\n",
        "    lines[col] = lines[col].apply(lambda x: re.sub(\"'\", \"\", x))\n",
        "    # remove punctuations\n",
        "    lines[col] = lines[col].apply(lambda x: ''.join(ch for ch in x if ch not in set(string.punctuation)))\n",
        "    # remove numbers\n",
        "    remove_digits = str.maketrans('', '', digits)\n",
        "    lines[col] = lines[col].apply(lambda x: x.translate(remove_digits))\n",
        "    # remove unnecessary spaces\n",
        "    lines[col] = lines[col].apply(lambda x: x.strip())\n",
        "    lines[col] = lines[col].apply(lambda x: re.sub(\" +\", \" \", x))"
      ],
      "execution_count": 0,
      "outputs": []
    },
    {
      "cell_type": "code",
      "metadata": {
        "id": "j5XEID_D09DX",
        "colab_type": "code",
        "colab": {}
      },
      "source": [
        "# Add start and end tokens to target sequences\n",
        "lines['spanish'] = lines['spanish'].apply(lambda x : 'START_ '+ x + ' _END')"
      ],
      "execution_count": 0,
      "outputs": []
    },
    {
      "cell_type": "code",
      "metadata": {
        "id": "Bx2190qtjvfQ",
        "colab_type": "code",
        "colab": {}
      },
      "source": [
        "pd.set_option('display.max_colwidth', 100)"
      ],
      "execution_count": 0,
      "outputs": []
    },
    {
      "cell_type": "code",
      "metadata": {
        "id": "5yRVgA1miHJR",
        "colab_type": "code",
        "outputId": "06bc35ef-ade3-4760-fa96-31238f4a4a57",
        "colab": {
          "base_uri": "https://localhost:8080/",
          "height": 359
        }
      },
      "source": [
        "lines.head(10)"
      ],
      "execution_count": 10,
      "outputs": [
        {
          "output_type": "execute_result",
          "data": {
            "text/html": [
              "<div>\n",
              "<style scoped>\n",
              "    .dataframe tbody tr th:only-of-type {\n",
              "        vertical-align: middle;\n",
              "    }\n",
              "\n",
              "    .dataframe tbody tr th {\n",
              "        vertical-align: top;\n",
              "    }\n",
              "\n",
              "    .dataframe thead th {\n",
              "        text-align: right;\n",
              "    }\n",
              "</style>\n",
              "<table border=\"1\" class=\"dataframe\">\n",
              "  <thead>\n",
              "    <tr style=\"text-align: right;\">\n",
              "      <th></th>\n",
              "      <th>english</th>\n",
              "      <th>spanish</th>\n",
              "    </tr>\n",
              "  </thead>\n",
              "  <tbody>\n",
              "    <tr>\n",
              "      <th>0</th>\n",
              "      <td>go</td>\n",
              "      <td>START_ ve _END</td>\n",
              "    </tr>\n",
              "    <tr>\n",
              "      <th>1</th>\n",
              "      <td>go</td>\n",
              "      <td>START_ vete _END</td>\n",
              "    </tr>\n",
              "    <tr>\n",
              "      <th>2</th>\n",
              "      <td>go</td>\n",
              "      <td>START_ vaya _END</td>\n",
              "    </tr>\n",
              "    <tr>\n",
              "      <th>3</th>\n",
              "      <td>go</td>\n",
              "      <td>START_ váyase _END</td>\n",
              "    </tr>\n",
              "    <tr>\n",
              "      <th>4</th>\n",
              "      <td>hi</td>\n",
              "      <td>START_ hola _END</td>\n",
              "    </tr>\n",
              "    <tr>\n",
              "      <th>5</th>\n",
              "      <td>run</td>\n",
              "      <td>START_ ¡corre _END</td>\n",
              "    </tr>\n",
              "    <tr>\n",
              "      <th>6</th>\n",
              "      <td>run</td>\n",
              "      <td>START_ ¡corran _END</td>\n",
              "    </tr>\n",
              "    <tr>\n",
              "      <th>7</th>\n",
              "      <td>run</td>\n",
              "      <td>START_ ¡corra _END</td>\n",
              "    </tr>\n",
              "    <tr>\n",
              "      <th>8</th>\n",
              "      <td>run</td>\n",
              "      <td>START_ ¡corred _END</td>\n",
              "    </tr>\n",
              "    <tr>\n",
              "      <th>9</th>\n",
              "      <td>run</td>\n",
              "      <td>START_ corred _END</td>\n",
              "    </tr>\n",
              "  </tbody>\n",
              "</table>\n",
              "</div>"
            ],
            "text/plain": [
              "  english              spanish\n",
              "0      go       START_ ve _END\n",
              "1      go     START_ vete _END\n",
              "2      go     START_ vaya _END\n",
              "3      go   START_ váyase _END\n",
              "4      hi     START_ hola _END\n",
              "5     run   START_ ¡corre _END\n",
              "6     run  START_ ¡corran _END\n",
              "7     run   START_ ¡corra _END\n",
              "8     run  START_ ¡corred _END\n",
              "9     run   START_ corred _END"
            ]
          },
          "metadata": {
            "tags": []
          },
          "execution_count": 10
        }
      ]
    },
    {
      "cell_type": "code",
      "metadata": {
        "id": "jvEJ-V-qFUtT",
        "colab_type": "code",
        "colab": {}
      },
      "source": [
        ""
      ],
      "execution_count": 0,
      "outputs": []
    },
    {
      "cell_type": "markdown",
      "metadata": {
        "id": "m70v150OlcO2",
        "colab_type": "text"
      },
      "source": [
        "## Creating Vocabulary\n",
        "Create vocabulary of english and spanish words"
      ]
    },
    {
      "cell_type": "code",
      "metadata": {
        "id": "MLQcyB9PiHRQ",
        "colab_type": "code",
        "outputId": "afd349bb-1c7f-4048-a54f-2065b9c7c42e",
        "colab": {
          "base_uri": "https://localhost:8080/",
          "height": 34
        }
      },
      "source": [
        "# English Vocab\n",
        "all_eng_words = set()\n",
        "for eng in lines['english']:\n",
        "    for word in eng.split():\n",
        "        if word not in all_eng_words:\n",
        "            all_eng_words.add(word)\n",
        "print(f\"English Vocab: {len(all_eng_words)}\")"
      ],
      "execution_count": 11,
      "outputs": [
        {
          "output_type": "stream",
          "text": [
            "English Vocab: 13475\n"
          ],
          "name": "stdout"
        }
      ]
    },
    {
      "cell_type": "code",
      "metadata": {
        "id": "xcSjwUliiHGz",
        "colab_type": "code",
        "outputId": "967dd9a8-2bb9-4be3-de01-e2d7b5b022ba",
        "colab": {
          "base_uri": "https://localhost:8080/",
          "height": 34
        }
      },
      "source": [
        "# Spanish Vocab\n",
        "all_spa_words = set()\n",
        "for spa in lines['spanish']:\n",
        "    for word in spa.split():\n",
        "        if word not in all_spa_words:\n",
        "            all_spa_words.add(word)\n",
        "print(f\"Spanish Vocab: {len(all_spa_words)}\")"
      ],
      "execution_count": 12,
      "outputs": [
        {
          "output_type": "stream",
          "text": [
            "Spanish Vocab: 27264\n"
          ],
          "name": "stdout"
        }
      ]
    },
    {
      "cell_type": "code",
      "metadata": {
        "id": "C2OhsOMTiHEO",
        "colab_type": "code",
        "outputId": "40db7a62-2c84-4c37-8e20-0bd27bfaec3b",
        "colab": {
          "base_uri": "https://localhost:8080/",
          "height": 34
        }
      },
      "source": [
        "# Max Length of source sequence\n",
        "lenght_list_eng=[]\n",
        "for l in lines['english']:\n",
        "    lenght_list_eng.append(len(l.split(' ')))\n",
        "max_length_src = np.max(lenght_list_eng)\n",
        "print(f\"Max Length Sentence (English): {max_length_src}\")"
      ],
      "execution_count": 13,
      "outputs": [
        {
          "output_type": "stream",
          "text": [
            "Max Length Sentence (English): 47\n"
          ],
          "name": "stdout"
        }
      ]
    },
    {
      "cell_type": "code",
      "metadata": {
        "id": "GAuhsphZmGMZ",
        "colab_type": "code",
        "outputId": "73d9bbcf-9ea3-4a85-c1f8-0aad96c11da9",
        "colab": {
          "base_uri": "https://localhost:8080/",
          "height": 34
        }
      },
      "source": [
        "# Max Length of target sequence\n",
        "lenght_list_spa=[]\n",
        "for l in lines['spanish']:\n",
        "    lenght_list_spa.append(len(l.split(' ')))\n",
        "max_length_tar = np.max(lenght_list_spa)\n",
        "print(f\"Max Length Sentence (Spanish): {max_length_src}\")"
      ],
      "execution_count": 14,
      "outputs": [
        {
          "output_type": "stream",
          "text": [
            "Max Length Sentence (Spanish): 47\n"
          ],
          "name": "stdout"
        }
      ]
    },
    {
      "cell_type": "code",
      "metadata": {
        "id": "EruJWzYonDep",
        "colab_type": "code",
        "outputId": "3dff2e05-9821-401e-f206-0126b405e084",
        "colab": {
          "base_uri": "https://localhost:8080/",
          "height": 34
        }
      },
      "source": [
        "matches = [i for i, j in zip(lenght_list_eng, lenght_list_spa) if i == j]\n",
        "print(f\"Number of matches: {len(matches)} ({(len(matches)*100/lines.shape[0]):.2f})\")"
      ],
      "execution_count": 15,
      "outputs": [
        {
          "output_type": "stream",
          "text": [
            "Number of matches: 13865 (11.20)\n"
          ],
          "name": "stdout"
        }
      ]
    },
    {
      "cell_type": "code",
      "metadata": {
        "id": "GYSA4bPSmGdO",
        "colab_type": "code",
        "outputId": "937449aa-7b6b-44b2-88c8-437aa8c9f22e",
        "colab": {
          "base_uri": "https://localhost:8080/",
          "height": 204
        }
      },
      "source": [
        "lines.head()"
      ],
      "execution_count": 16,
      "outputs": [
        {
          "output_type": "execute_result",
          "data": {
            "text/html": [
              "<div>\n",
              "<style scoped>\n",
              "    .dataframe tbody tr th:only-of-type {\n",
              "        vertical-align: middle;\n",
              "    }\n",
              "\n",
              "    .dataframe tbody tr th {\n",
              "        vertical-align: top;\n",
              "    }\n",
              "\n",
              "    .dataframe thead th {\n",
              "        text-align: right;\n",
              "    }\n",
              "</style>\n",
              "<table border=\"1\" class=\"dataframe\">\n",
              "  <thead>\n",
              "    <tr style=\"text-align: right;\">\n",
              "      <th></th>\n",
              "      <th>english</th>\n",
              "      <th>spanish</th>\n",
              "    </tr>\n",
              "  </thead>\n",
              "  <tbody>\n",
              "    <tr>\n",
              "      <th>0</th>\n",
              "      <td>go</td>\n",
              "      <td>START_ ve _END</td>\n",
              "    </tr>\n",
              "    <tr>\n",
              "      <th>1</th>\n",
              "      <td>go</td>\n",
              "      <td>START_ vete _END</td>\n",
              "    </tr>\n",
              "    <tr>\n",
              "      <th>2</th>\n",
              "      <td>go</td>\n",
              "      <td>START_ vaya _END</td>\n",
              "    </tr>\n",
              "    <tr>\n",
              "      <th>3</th>\n",
              "      <td>go</td>\n",
              "      <td>START_ váyase _END</td>\n",
              "    </tr>\n",
              "    <tr>\n",
              "      <th>4</th>\n",
              "      <td>hi</td>\n",
              "      <td>START_ hola _END</td>\n",
              "    </tr>\n",
              "  </tbody>\n",
              "</table>\n",
              "</div>"
            ],
            "text/plain": [
              "  english             spanish\n",
              "0      go      START_ ve _END\n",
              "1      go    START_ vete _END\n",
              "2      go    START_ vaya _END\n",
              "3      go  START_ váyase _END\n",
              "4      hi    START_ hola _END"
            ]
          },
          "metadata": {
            "tags": []
          },
          "execution_count": 16
        }
      ]
    },
    {
      "cell_type": "code",
      "metadata": {
        "id": "CtA8nGIDocJw",
        "colab_type": "code",
        "outputId": "0085dac3-8a8b-4838-e033-051ad305e0d0",
        "colab": {
          "base_uri": "https://localhost:8080/",
          "height": 34
        }
      },
      "source": [
        "input_words = sorted(list(all_eng_words))\n",
        "target_words = sorted(list(all_spa_words))\n",
        "num_encoder_tokens = len(all_eng_words)\n",
        "num_decoder_tokens = len(all_spa_words)\n",
        "num_encoder_tokens, num_decoder_tokens"
      ],
      "execution_count": 17,
      "outputs": [
        {
          "output_type": "execute_result",
          "data": {
            "text/plain": [
              "(13475, 27264)"
            ]
          },
          "metadata": {
            "tags": []
          },
          "execution_count": 17
        }
      ]
    },
    {
      "cell_type": "code",
      "metadata": {
        "id": "VPEVqYq8ocg9",
        "colab_type": "code",
        "colab": {}
      },
      "source": [
        "num_encoder_tokens += 1 # For zero padding\n",
        "num_decoder_tokens += 1 # For zero padding"
      ],
      "execution_count": 0,
      "outputs": []
    },
    {
      "cell_type": "code",
      "metadata": {
        "id": "H6ZJ5XICoccy",
        "colab_type": "code",
        "colab": {}
      },
      "source": [
        ""
      ],
      "execution_count": 0,
      "outputs": []
    },
    {
      "cell_type": "markdown",
      "metadata": {
        "id": "xdPfVBDIo8DP",
        "colab_type": "text"
      },
      "source": [
        "## Tokenization"
      ]
    },
    {
      "cell_type": "code",
      "metadata": {
        "id": "QQQJMk1wuJgo",
        "colab_type": "code",
        "colab": {}
      },
      "source": [
        "def take(n, iterable):\n",
        "    \"Return first n items of the iterable as a list\"\n",
        "    return list(islice(iterable, n))"
      ],
      "execution_count": 0,
      "outputs": []
    },
    {
      "cell_type": "code",
      "metadata": {
        "id": "900SDgTwocZl",
        "colab_type": "code",
        "colab": {}
      },
      "source": [
        "input_token_index = dict([(word, i+1) for i, word in enumerate(input_words)])\n",
        "target_token_index = dict([(word, i+1) for i, word in enumerate(target_words)])"
      ],
      "execution_count": 0,
      "outputs": []
    },
    {
      "cell_type": "code",
      "metadata": {
        "id": "btglD6y8uf-X",
        "colab_type": "code",
        "outputId": "03a161d8-1379-4064-ed21-96e43ebab7f7",
        "colab": {
          "base_uri": "https://localhost:8080/",
          "height": 187
        }
      },
      "source": [
        "n_items = take(10, input_token_index.items())\n",
        "for k,v in n_items:\n",
        "    print(k, v)"
      ],
      "execution_count": 21,
      "outputs": [
        {
          "output_type": "stream",
          "text": [
            "a 1\n",
            "aardvark 2\n",
            "aardvarks 3\n",
            "aaron 4\n",
            "aback 5\n",
            "abandon 6\n",
            "abandoned 7\n",
            "abandoning 8\n",
            "abate 9\n",
            "abated 10\n"
          ],
          "name": "stdout"
        }
      ]
    },
    {
      "cell_type": "code",
      "metadata": {
        "id": "FuB53Tomu-gJ",
        "colab_type": "code",
        "outputId": "95abd89e-4c12-478c-f661-701b1961b4ad",
        "colab": {
          "base_uri": "https://localhost:8080/",
          "height": 187
        }
      },
      "source": [
        "n_items = take(10, target_token_index.items())\n",
        "for k,v in n_items:\n",
        "    print(k, v)"
      ],
      "execution_count": 22,
      "outputs": [
        {
          "output_type": "stream",
          "text": [
            "START_ 1\n",
            "_END 2\n",
            "a 3\n",
            "aabe 4\n",
            "aah 5\n",
            "aaron 6\n",
            "abajo 7\n",
            "abandona 8\n",
            "abandonada 9\n",
            "abandonadas 10\n"
          ],
          "name": "stdout"
        }
      ]
    },
    {
      "cell_type": "code",
      "metadata": {
        "id": "eUK7OCyjocXh",
        "colab_type": "code",
        "colab": {}
      },
      "source": [
        "reverse_input_char_index = dict((i, word) for word, i in input_token_index.items())\n",
        "reverse_target_char_index = dict((i, word) for word, i in target_token_index.items())"
      ],
      "execution_count": 0,
      "outputs": []
    },
    {
      "cell_type": "code",
      "metadata": {
        "id": "mH4-8lhJocWC",
        "colab_type": "code",
        "outputId": "7462c4c6-f381-4109-fe98-eeb8191bdb08",
        "colab": {
          "base_uri": "https://localhost:8080/",
          "height": 359
        }
      },
      "source": [
        "lines = shuffle(lines)\n",
        "lines.head(10)"
      ],
      "execution_count": 24,
      "outputs": [
        {
          "output_type": "execute_result",
          "data": {
            "text/html": [
              "<div>\n",
              "<style scoped>\n",
              "    .dataframe tbody tr th:only-of-type {\n",
              "        vertical-align: middle;\n",
              "    }\n",
              "\n",
              "    .dataframe tbody tr th {\n",
              "        vertical-align: top;\n",
              "    }\n",
              "\n",
              "    .dataframe thead th {\n",
              "        text-align: right;\n",
              "    }\n",
              "</style>\n",
              "<table border=\"1\" class=\"dataframe\">\n",
              "  <thead>\n",
              "    <tr style=\"text-align: right;\">\n",
              "      <th></th>\n",
              "      <th>english</th>\n",
              "      <th>spanish</th>\n",
              "    </tr>\n",
              "  </thead>\n",
              "  <tbody>\n",
              "    <tr>\n",
              "      <th>115586</th>\n",
              "      <td>would you mind picking up something on the way back</td>\n",
              "      <td>START_ ¿te importaría recoger algo en el camino de regreso _END</td>\n",
              "    </tr>\n",
              "    <tr>\n",
              "      <th>104605</th>\n",
              "      <td>have i said something to hurt your feelings</td>\n",
              "      <td>START_ ¿he dicho algo que te ha dolido _END</td>\n",
              "    </tr>\n",
              "    <tr>\n",
              "      <th>82735</th>\n",
              "      <td>i cant go to lunch with you today</td>\n",
              "      <td>START_ hoy no puedo ir a comer contigo _END</td>\n",
              "    </tr>\n",
              "    <tr>\n",
              "      <th>42281</th>\n",
              "      <td>i simply dont trust tom</td>\n",
              "      <td>START_ sencillamente no confío en tom _END</td>\n",
              "    </tr>\n",
              "    <tr>\n",
              "      <th>62541</th>\n",
              "      <td>add up this column of figures</td>\n",
              "      <td>START_ sume usted esta columna de cifras _END</td>\n",
              "    </tr>\n",
              "    <tr>\n",
              "      <th>34448</th>\n",
              "      <td>rabbits have long ears</td>\n",
              "      <td>START_ los conejos tienen las orejas grandes _END</td>\n",
              "    </tr>\n",
              "    <tr>\n",
              "      <th>53562</th>\n",
              "      <td>you are a very good artist</td>\n",
              "      <td>START_ eres un muy buen artista _END</td>\n",
              "    </tr>\n",
              "    <tr>\n",
              "      <th>107043</th>\n",
              "      <td>thats enough crying pull yourself together</td>\n",
              "      <td>START_ basta ya de llorar tranquilízate _END</td>\n",
              "    </tr>\n",
              "    <tr>\n",
              "      <th>34085</th>\n",
              "      <td>it snowed in jerusalem</td>\n",
              "      <td>START_ nevó en jerusalén _END</td>\n",
              "    </tr>\n",
              "    <tr>\n",
              "      <th>1867</th>\n",
              "      <td>hes not in</td>\n",
              "      <td>START_ él no está adentro _END</td>\n",
              "    </tr>\n",
              "  </tbody>\n",
              "</table>\n",
              "</div>"
            ],
            "text/plain": [
              "                                                    english                                                          spanish\n",
              "115586  would you mind picking up something on the way back  START_ ¿te importaría recoger algo en el camino de regreso _END\n",
              "104605          have i said something to hurt your feelings                      START_ ¿he dicho algo que te ha dolido _END\n",
              "82735                     i cant go to lunch with you today                      START_ hoy no puedo ir a comer contigo _END\n",
              "42281                               i simply dont trust tom                       START_ sencillamente no confío en tom _END\n",
              "62541                         add up this column of figures                    START_ sume usted esta columna de cifras _END\n",
              "34448                                rabbits have long ears                START_ los conejos tienen las orejas grandes _END\n",
              "53562                            you are a very good artist                             START_ eres un muy buen artista _END\n",
              "107043           thats enough crying pull yourself together                     START_ basta ya de llorar tranquilízate _END\n",
              "34085                                it snowed in jerusalem                                    START_ nevó en jerusalén _END\n",
              "1867                                             hes not in                                   START_ él no está adentro _END"
            ]
          },
          "metadata": {
            "tags": []
          },
          "execution_count": 24
        }
      ]
    },
    {
      "cell_type": "code",
      "metadata": {
        "id": "Nj3YDPqvFWuy",
        "colab_type": "code",
        "colab": {}
      },
      "source": [
        ""
      ],
      "execution_count": 0,
      "outputs": []
    },
    {
      "cell_type": "markdown",
      "metadata": {
        "id": "a7HSfC7gperL",
        "colab_type": "text"
      },
      "source": [
        "## Train-Test Split"
      ]
    },
    {
      "cell_type": "code",
      "metadata": {
        "id": "6dEl7zSyocTe",
        "colab_type": "code",
        "colab": {}
      },
      "source": [
        "X, y = lines[\"english\"], lines[\"spanish\"]"
      ],
      "execution_count": 0,
      "outputs": []
    },
    {
      "cell_type": "code",
      "metadata": {
        "id": "X_qTGlDdocQk",
        "colab_type": "code",
        "colab": {}
      },
      "source": [
        "X_train, X_test, y_train, y_test = train_test_split(X, y, test_size=0.2, random_state=42)"
      ],
      "execution_count": 0,
      "outputs": []
    },
    {
      "cell_type": "code",
      "metadata": {
        "id": "PqYa-lDxocH5",
        "colab_type": "code",
        "outputId": "1de95c7a-3872-441b-8c08-11c057243b98",
        "colab": {
          "base_uri": "https://localhost:8080/",
          "height": 34
        }
      },
      "source": [
        "X_train.shape, y_train.shape"
      ],
      "execution_count": 27,
      "outputs": [
        {
          "output_type": "execute_result",
          "data": {
            "text/plain": [
              "((99016,), (99016,))"
            ]
          },
          "metadata": {
            "tags": []
          },
          "execution_count": 27
        }
      ]
    },
    {
      "cell_type": "code",
      "metadata": {
        "id": "duiwDIjmpvkm",
        "colab_type": "code",
        "outputId": "6be323e7-c41b-4833-d9d6-326b549b92f1",
        "colab": {
          "base_uri": "https://localhost:8080/",
          "height": 34
        }
      },
      "source": [
        "X_test.shape, y_test.shape"
      ],
      "execution_count": 28,
      "outputs": [
        {
          "output_type": "execute_result",
          "data": {
            "text/plain": [
              "((24754,), (24754,))"
            ]
          },
          "metadata": {
            "tags": []
          },
          "execution_count": 28
        }
      ]
    },
    {
      "cell_type": "code",
      "metadata": {
        "id": "6lnJew4GFXh1",
        "colab_type": "code",
        "colab": {}
      },
      "source": [
        ""
      ],
      "execution_count": 0,
      "outputs": []
    },
    {
      "cell_type": "markdown",
      "metadata": {
        "id": "DzG-EgsEFB_C",
        "colab_type": "text"
      },
      "source": [
        "## Generator"
      ]
    },
    {
      "cell_type": "code",
      "metadata": {
        "id": "EnS0Yh-dpv7q",
        "colab_type": "code",
        "colab": {}
      },
      "source": [
        "def generate_batch(X=X_train, y=y_train, batch_size=128):\n",
        "    ''' Generate a batch of data '''\n",
        "    while True:\n",
        "        for j in range(0, len(X), batch_size):\n",
        "            encoder_input_data = np.zeros((batch_size, max_length_src), dtype='float32')\n",
        "            decoder_input_data = np.zeros((batch_size, max_length_tar), dtype='float32')\n",
        "            decoder_target_data = np.zeros((batch_size, max_length_tar, num_decoder_tokens), dtype='float32')\n",
        "            for i, (input_text, target_text) in enumerate(zip(X[j:j+batch_size], y[j:j+batch_size])):\n",
        "                for t, word in enumerate(input_text.split()):\n",
        "                    encoder_input_data[i, t] = input_token_index[word] # encoder input seq\n",
        "                for t, word in enumerate(target_text.split()):\n",
        "                    if t < len(target_text.split())-1:\n",
        "                        decoder_input_data[i, t] = target_token_index[word] # decoder input seq\n",
        "                    if t>0:\n",
        "                        # decoder target sequence (one hot encoded)\n",
        "                        # does not include the START_ token\n",
        "                        # Offset by one timestep\n",
        "                        decoder_target_data[i, t - 1, target_token_index[word]] = 1.\n",
        "            yield([encoder_input_data, decoder_input_data], decoder_target_data)"
      ],
      "execution_count": 0,
      "outputs": []
    },
    {
      "cell_type": "code",
      "metadata": {
        "id": "s7aKV3tJFQ4s",
        "colab_type": "code",
        "colab": {}
      },
      "source": [
        ""
      ],
      "execution_count": 0,
      "outputs": []
    },
    {
      "cell_type": "markdown",
      "metadata": {
        "id": "g_e-bwvt_7Jp",
        "colab_type": "text"
      },
      "source": [
        "## Teacher Forcing\n",
        "Teacher forcing works by using the actual or expected output from the training dataset at the current time step `y(t)` as input in the next time step `X(t+1)`, rather than the output generated by the network.\n",
        "\n",
        "Decoder is trained to turn the target sequences into the same sequences but offset by one timestep in the future, a training process called \"teacher forcing\" in this context. Effectively, the decoder learns to generate targets `[t+1...]` given targets `[...t]`, conditioned on the input sequence.\n",
        "\n",
        "\n",
        "### Example - \n",
        "Suppose, we had only 1 sentence -\n",
        "* `English` - Juan eats apples\n",
        "* `Spanish` - Juan come manzanas\n",
        "\n",
        "Hence, we had just 3 words in our English & 5 in Spanish vocabulary. \n",
        "```\n",
        "English Vocabulary\n",
        "{'apples': 1, 'eats': 2, 'juan': 3}\n",
        "\n",
        "Spanish Vocabulary\n",
        "{'START_': 1, '_END': 2, 'come': 3, 'juan': 4, 'manzanas': 5}\n",
        "```\n",
        "\n",
        "So our encoded input & decoder input would look like - \n",
        "```\n",
        "Encoder Input Data: [[3. 2. 1.]]\n",
        "\n",
        "Decoder Input Data: [[1. 4. 3. 5. 0.]]\n",
        "```\n",
        "\n",
        "As the target sentence has 5 words, at timestep `t` during training, we set the previous timestep's `t-1` actual output to 1. So essentially, we will have 5 target sentence.\n",
        "\n",
        "```\n",
        "Decoder Target Data: \n",
        "[0. 0. 0. 0. 1. 0.] # juan\n",
        "[0. 0. 0. 1. 0. 0.] # come\n",
        "[0. 0. 0. 0. 0. 1.] # manzanas\n",
        "[0. 0. 1. 0. 0. 0.] # _END\n",
        "[0. 0. 0. 0. 0. 0.]\n",
        "```\n",
        "\n",
        "### Summary\n",
        "TS1 -\n",
        "```\n",
        "Encoder Input Data - [3. 2. 1.]\n",
        "Decoder Input Data: [1. 4. 3. 5. 0.]\n",
        "Decoder Target Data: [0. 0. 0. 0. 1. 0.] # juan\n",
        "```\n",
        "\n",
        "TS2 -\n",
        "```\n",
        "Encoder Input Data - [3. 2. 1.]\n",
        "Decoder Input Data: [1. 4. 3. 5. 0.]\n",
        "Decoder Target Data: [0. 0. 0. 1. 0. 0.] # juan come\n",
        "```\n",
        "\n",
        "TS3 -\n",
        "```\n",
        "Encoder Input Data - [3. 2. 1.]\n",
        "Decoder Input Data: [1. 4. 3. 5. 0.]\n",
        "Decoder Target Data: [0. 0. 0. 0. 0. 1.] # juan come manzanas\n",
        "```\n",
        "\n",
        "TS4 -\n",
        "```\n",
        "Encoder Input Data - [3. 2. 1.]\n",
        "Decoder Input Data: [1. 4. 3. 5. 0.]\n",
        "Decoder Target Data: [0. 1. 0. 0. 0. 0.] # juan come manzanas _END\n",
        "```\n"
      ]
    },
    {
      "cell_type": "code",
      "metadata": {
        "id": "y4l0T2uL3vb8",
        "colab_type": "code",
        "colab": {}
      },
      "source": [
        ""
      ],
      "execution_count": 0,
      "outputs": []
    },
    {
      "cell_type": "code",
      "metadata": {
        "id": "bSC9decdpv5M",
        "colab_type": "code",
        "colab": {}
      },
      "source": [
        "# batch_size = 1\n",
        "\n",
        "# for j in range(0, len(X), batch_size):\n",
        "#     encoder_input_data = np.zeros((batch_size, max_length_src),dtype='float32')\n",
        "#     decoder_input_data = np.zeros((batch_size, max_length_tar),dtype='float32')\n",
        "#     decoder_target_data = np.zeros((batch_size, max_length_tar, num_decoder_tokens),dtype='float32')\n",
        "#     for i, (input_text, target_text) in enumerate(zip(X[j:j+batch_size], y[j:j+batch_size])):\n",
        "#         for t, word in enumerate(input_text.split()):\n",
        "#             print(f\"Input: {word}\")\n",
        "#             encoder_input_data[i, t] = input_token_index[word] # encoder input seq\n",
        "#         for t, word in enumerate(target_text.split()):\n",
        "#             print(f\"Target: {word}\")\n",
        "#             if t<len(target_text.split())-1:\n",
        "#                 decoder_input_data[i, t] = target_token_index[word] # decoder input seq\n",
        "#             if t>0:\n",
        "#                 # decoder target sequence (one hot encoded)\n",
        "#                 # does not include the START_ token\n",
        "#                 # Offset by one timestep\n",
        "#                 decoder_target_data[i, t - 1, target_token_index[word]] = 1.\n",
        "#     print(f\"Encoder Input Data: {encoder_input_data}\") \n",
        "#     print(f\"Decoder Input Data: {decoder_input_data}\")\n",
        "#     print(f\"Decoder Target Data:\\n {decoder_target_data}\")\n",
        "#     # print(f\"Decoder Target Data:\\n {decoder_target_data[:, :-1, :]}\")"
      ],
      "execution_count": 0,
      "outputs": []
    },
    {
      "cell_type": "code",
      "metadata": {
        "id": "KHalRMMQ1Uep",
        "colab_type": "code",
        "colab": {}
      },
      "source": [
        ""
      ],
      "execution_count": 0,
      "outputs": []
    },
    {
      "cell_type": "markdown",
      "metadata": {
        "id": "HukwM-n-FO4W",
        "colab_type": "text"
      },
      "source": [
        "## Model"
      ]
    },
    {
      "cell_type": "code",
      "metadata": {
        "id": "FBwRt6qy1Ubi",
        "colab_type": "code",
        "colab": {}
      },
      "source": [
        "latent_dim = 100"
      ],
      "execution_count": 0,
      "outputs": []
    },
    {
      "cell_type": "code",
      "metadata": {
        "id": "KLzd7__61UYN",
        "colab_type": "code",
        "colab": {
          "base_uri": "https://localhost:8080/",
          "height": 105
        },
        "outputId": "8a1ecd84-9e62-4228-ba66-310717d8b1a3"
      },
      "source": [
        "# ENCODER\n",
        "encoder_inputs = Input(shape=(None,))\n",
        "enc_emb = Embedding(num_encoder_tokens, latent_dim, mask_zero=True)(encoder_inputs)\n",
        "encoder_lstm = LSTM(latent_dim, return_state=True)\n",
        "encoder_outputs, state_h, state_c = encoder_lstm(enc_emb)\n",
        "# discard `encoder_outputs` and only keep the states.\n",
        "encoder_states = [state_h, state_c]"
      ],
      "execution_count": 32,
      "outputs": [
        {
          "output_type": "stream",
          "text": [
            "WARNING:tensorflow:From /usr/local/lib/python3.6/dist-packages/tensorflow/python/ops/resource_variable_ops.py:1666: calling BaseResourceVariable.__init__ (from tensorflow.python.ops.resource_variable_ops) with constraint is deprecated and will be removed in a future version.\n",
            "Instructions for updating:\n",
            "If using Keras pass *_constraint arguments to layers.\n",
            "WARNING:tensorflow:Layer lstm will not use cuDNN kernel since it doesn't meet the cuDNN kernel criteria. It will use generic GPU kernel as fallback when running on GPU\n"
          ],
          "name": "stdout"
        }
      ]
    },
    {
      "cell_type": "markdown",
      "metadata": {
        "id": "Lej19r1o_f6v",
        "colab_type": "text"
      },
      "source": [
        "`mask_zero=True` - It treats '0' as a padding value. As per the docs, \"If mask_zero is set to True, as a consequence, index 0 cannot be used in the vocabulary (input_dim should equal size of vocabulary + 1)\". Which is why increased `num_encoder_tokens` & `num_decoder_tokens` in cell 20 "
      ]
    },
    {
      "cell_type": "code",
      "metadata": {
        "id": "iwfPnYTmocEx",
        "colab_type": "code",
        "colab": {
          "base_uri": "https://localhost:8080/",
          "height": 54
        },
        "outputId": "12af0514-bc31-4660-99b3-620922327d45"
      },
      "source": [
        "# set up the decoder, using `encoder_states` as initial state.\n",
        "decoder_inputs = Input(shape=(None,))\n",
        "dec_emb_layer = Embedding(num_decoder_tokens, latent_dim, mask_zero=True)\n",
        "dec_emb = dec_emb_layer(decoder_inputs)\n",
        "decoder_lstm = LSTM(latent_dim, return_sequences=True, return_state=True)\n",
        "decoder_outputs, dec_state_h, dec_state_c = decoder_lstm(dec_emb, initial_state=encoder_states)"
      ],
      "execution_count": 33,
      "outputs": [
        {
          "output_type": "stream",
          "text": [
            "WARNING:tensorflow:Layer lstm_1 will not use cuDNN kernel since it doesn't meet the cuDNN kernel criteria. It will use generic GPU kernel as fallback when running on GPU\n"
          ],
          "name": "stdout"
        }
      ]
    },
    {
      "cell_type": "code",
      "metadata": {
        "id": "PAJOyB6CBTOK",
        "colab_type": "code",
        "colab": {}
      },
      "source": [
        "decoder_dense = Dense(num_decoder_tokens, activation='softmax')\n",
        "decoder_outputs = decoder_dense(decoder_outputs)"
      ],
      "execution_count": 0,
      "outputs": []
    },
    {
      "cell_type": "markdown",
      "metadata": {
        "id": "jk2ofoapBQqe",
        "colab_type": "text"
      },
      "source": [
        "Here, we add a Dense Layer that uses softmax activation on top of decoder. Notice, how for the sample sentence - `Juan eats apples`, the output target at each timestep looks like - \n",
        "```\n",
        "[0. 0. 0. 0. 1. 0.] # juan\n",
        "[0. 0. 0. 1. 0. 0.] # juan come\n",
        "[0. 0. 0. 0. 0. 1.] # juan come manzanas\n",
        "[0. 1. 0. 0. 0. 0.] # juan come manzanas _end\n",
        "```\n",
        "It is the job of the dense layer to predict this next word from the *decoder_outputs*"
      ]
    },
    {
      "cell_type": "markdown",
      "metadata": {
        "id": "U0vJvMwwGl9H",
        "colab_type": "text"
      },
      "source": [
        "Model will take encoder inputs & decoder inputs and return decoder outputs"
      ]
    },
    {
      "cell_type": "code",
      "metadata": {
        "id": "Z2yqflOrGlVl",
        "colab_type": "code",
        "colab": {}
      },
      "source": [
        "model = Model([encoder_inputs, decoder_inputs], decoder_outputs)\n",
        "model.compile(optimizer='adam', loss='categorical_crossentropy', metrics=['acc'])"
      ],
      "execution_count": 0,
      "outputs": []
    },
    {
      "cell_type": "code",
      "metadata": {
        "id": "1zv43I1PFnF6",
        "colab_type": "code",
        "outputId": "30e4f174-53d3-4848-90b1-a4e88998bf46",
        "colab": {
          "base_uri": "https://localhost:8080/",
          "height": 533
        }
      },
      "source": [
        "plot_model(model, show_shapes=True)"
      ],
      "execution_count": 36,
      "outputs": [
        {
          "output_type": "execute_result",
          "data": {
            "image/png": "[encoded data removed]",
            "text/plain": [
              "<IPython.core.display.Image object>"
            ]
          },
          "metadata": {
            "tags": []
          },
          "execution_count": 36
        }
      ]
    },
    {
      "cell_type": "markdown",
      "metadata": {
        "id": "4KrlW5gsHPdK",
        "colab_type": "text"
      },
      "source": [
        "## Training"
      ]
    },
    {
      "cell_type": "code",
      "metadata": {
        "id": "B94g49KTFnDc",
        "colab_type": "code",
        "colab": {}
      },
      "source": [
        "train_samples = len(X_train)\n",
        "val_samples = len(X_test)\n",
        "batch_size = 128\n",
        "epochs = 10"
      ],
      "execution_count": 0,
      "outputs": []
    },
    {
      "cell_type": "code",
      "metadata": {
        "id": "jeWnShPNlDMl",
        "colab_type": "code",
        "colab": {}
      },
      "source": [
        "# in case of retraining, load the already trained model\n",
        "# model = load_model(\"english_to_spanish_nmt.h5\")"
      ],
      "execution_count": 0,
      "outputs": []
    },
    {
      "cell_type": "code",
      "metadata": {
        "id": "19fTUdLXHCJD",
        "colab_type": "code",
        "outputId": "f9daafda-ba89-401d-b512-751531c6aedf",
        "colab": {
          "base_uri": "https://localhost:8080/",
          "height": 428
        }
      },
      "source": [
        "history = model.fit_generator(generator = generate_batch(X_train, y_train, batch_size = batch_size),\n",
        "                    steps_per_epoch = train_samples//batch_size,\n",
        "                    epochs=epochs,\n",
        "                    validation_data = generate_batch(X_test, y_test, batch_size = batch_size),\n",
        "                    validation_steps = val_samples//batch_size\n",
        "                    )"
      ],
      "execution_count": 39,
      "outputs": [
        {
          "output_type": "stream",
          "text": [
            "WARNING:tensorflow:From <ipython-input-39-aaaa81427bcb>:5: Model.fit_generator (from tensorflow.python.keras.engine.training_v1) is deprecated and will be removed in a future version.\n",
            "Instructions for updating:\n",
            "Please use Model.fit, which supports generators.\n",
            "Epoch 1/10\n",
            "773/773 [==============================] - 438s 567ms/step - loss: 0.8455 - acc: 0.1686 - val_loss: 0.7577 - val_acc: 0.2030\n",
            "Epoch 2/10\n",
            "773/773 [==============================] - 437s 566ms/step - loss: 0.6913 - acc: 0.2558 - val_loss: 0.6494 - val_acc: 0.2926\n",
            "Epoch 3/10\n",
            "773/773 [==============================] - 437s 566ms/step - loss: 0.6041 - acc: 0.3196 - val_loss: 0.5895 - val_acc: 0.3376\n",
            "Epoch 4/10\n",
            "773/773 [==============================] - 437s 566ms/step - loss: 0.5451 - acc: 0.3636 - val_loss: 0.5466 - val_acc: 0.3739\n",
            "Epoch 5/10\n",
            "773/773 [==============================] - 438s 566ms/step - loss: 0.4993 - acc: 0.4000 - val_loss: 0.5143 - val_acc: 0.4000\n",
            "Epoch 6/10\n",
            "773/773 [==============================] - 438s 566ms/step - loss: 0.4617 - acc: 0.4292 - val_loss: 0.4894 - val_acc: 0.4210\n",
            "Epoch 7/10\n",
            "773/773 [==============================] - 438s 566ms/step - loss: 0.4294 - acc: 0.4552 - val_loss: 0.4689 - val_acc: 0.4379\n",
            "Epoch 8/10\n",
            "773/773 [==============================] - 438s 566ms/step - loss: 0.4007 - acc: 0.4790 - val_loss: 0.4515 - val_acc: 0.4541\n",
            "Epoch 9/10\n",
            "773/773 [==============================] - 438s 567ms/step - loss: 0.3750 - acc: 0.5016 - val_loss: 0.4375 - val_acc: 0.4678\n",
            "Epoch 10/10\n",
            "773/773 [==============================] - 438s 566ms/step - loss: 0.3522 - acc: 0.5220 - val_loss: 0.4246 - val_acc: 0.4804\n"
          ],
          "name": "stdout"
        }
      ]
    },
    {
      "cell_type": "markdown",
      "metadata": {
        "id": "G7UyMN2-yRh7",
        "colab_type": "text"
      },
      "source": [
        "**The validation loss started increasing & validation accuracy started decreasing around 31-34 epochs.**"
      ]
    },
    {
      "cell_type": "code",
      "metadata": {
        "id": "_UfoF3F3_dEa",
        "colab_type": "code",
        "outputId": "b2b32feb-1009-488d-a924-1dbd397e95bd",
        "colab": {
          "base_uri": "https://localhost:8080/",
          "height": 295
        }
      },
      "source": [
        "# summarize history for accuracy\n",
        "plt.plot(history.history['acc'])\n",
        "plt.plot(history.history['val_acc'])\n",
        "plt.title('Model Accuracy')\n",
        "plt.ylabel('Accuracy')\n",
        "plt.xlabel('Epoch')\n",
        "plt.legend(['Train', 'Validation'], loc='upper left')\n",
        "plt.show()"
      ],
      "execution_count": 40,
      "outputs": [
        {
          "output_type": "display_data",
          "data": {
            "image/png": "[encoded data removed]",
            "text/plain": [
              "<Figure size 432x288 with 1 Axes>"
            ]
          },
          "metadata": {
            "tags": []
          }
        }
      ]
    },
    {
      "cell_type": "code",
      "metadata": {
        "id": "9rcrG7ZGAXUT",
        "colab_type": "code",
        "outputId": "711c2707-853d-4689-e4c7-d569e301ec41",
        "colab": {
          "base_uri": "https://localhost:8080/",
          "height": 295
        }
      },
      "source": [
        "# summarize history for loss\n",
        "plt.plot(history.history['loss'])\n",
        "plt.plot(history.history['val_loss'])\n",
        "plt.title('Model loss')\n",
        "plt.ylabel('loss')\n",
        "plt.xlabel('epoch')\n",
        "plt.legend(['train', 'test'], loc='upper left')\n",
        "plt.show()"
      ],
      "execution_count": 41,
      "outputs": [
        {
          "output_type": "display_data",
          "data": {
            "image/png": "[encoded data removed]",
            "text/plain": [
              "<Figure size 432x288 with 1 Axes>"
            ]
          },
          "metadata": {
            "tags": []
          }
        }
      ]
    },
    {
      "cell_type": "code",
      "metadata": {
        "id": "A1Lntds5HCi1",
        "colab_type": "code",
        "colab": {}
      },
      "source": [
        "model.save(\"english_to_spanish_nmt.h5\")"
      ],
      "execution_count": 0,
      "outputs": []
    },
    {
      "cell_type": "code",
      "metadata": {
        "id": "NGvPQXgBHCFr",
        "colab_type": "code",
        "colab": {
          "base_uri": "https://localhost:8080/",
          "height": 71
        },
        "outputId": "b15f2fa3-05c3-4d47-b3ae-075fdabbf924"
      },
      "source": [
        "model = load_model(\"english_to_spanish_nmt (1).h5\")"
      ],
      "execution_count": 61,
      "outputs": [
        {
          "output_type": "stream",
          "text": [
            "WARNING:tensorflow:Layer lstm will not use cuDNN kernel since it doesn't meet the cuDNN kernel criteria. It will use generic GPU kernel as fallback when running on GPU\n",
            "WARNING:tensorflow:Layer lstm_1 will not use cuDNN kernel since it doesn't meet the cuDNN kernel criteria. It will use generic GPU kernel as fallback when running on GPU\n"
          ],
          "name": "stdout"
        }
      ]
    },
    {
      "cell_type": "code",
      "metadata": {
        "id": "ttEc1psYNNEz",
        "colab_type": "code",
        "colab": {}
      },
      "source": [
        ""
      ],
      "execution_count": 0,
      "outputs": []
    },
    {
      "cell_type": "code",
      "metadata": {
        "id": "RcqcwuhONNAV",
        "colab_type": "code",
        "colab": {}
      },
      "source": [
        ""
      ],
      "execution_count": 0,
      "outputs": []
    },
    {
      "cell_type": "markdown",
      "metadata": {
        "id": "tYpN2UfRZ4xy",
        "colab_type": "text"
      },
      "source": [
        "## Inference"
      ]
    },
    {
      "cell_type": "markdown",
      "metadata": {
        "id": "H-KbL4IpU8_L",
        "colab_type": "text"
      },
      "source": [
        "***Encoder Setup***\n",
        "\n",
        "Encode the input sequence to get the encoder_states - `state_h & state_c`"
      ]
    },
    {
      "cell_type": "code",
      "metadata": {
        "id": "sD31MEkFHCCf",
        "colab_type": "code",
        "colab": {}
      },
      "source": [
        "encoder_model = Model(encoder_inputs, encoder_states)"
      ],
      "execution_count": 0,
      "outputs": []
    },
    {
      "cell_type": "markdown",
      "metadata": {
        "id": "bE5Re-6lWLok",
        "colab_type": "text"
      },
      "source": [
        "***Decoder setup***\n",
        "\n",
        "Below tensors will hold the states of the previous time step. In case of the first sequence, assume - \n",
        ">1. decoder_state_input_c - state_c\n",
        ">2. decoder_state_input_h - state_h\n"
      ]
    },
    {
      "cell_type": "code",
      "metadata": {
        "id": "vTaISdS1Vx0N",
        "colab_type": "code",
        "colab": {}
      },
      "source": [
        "decoder_state_input_h = Input(shape=(latent_dim,))\n",
        "decoder_state_input_c = Input(shape=(latent_dim,))\n",
        "decoder_states_inputs = [decoder_state_input_h, decoder_state_input_c]"
      ],
      "execution_count": 0,
      "outputs": []
    },
    {
      "cell_type": "markdown",
      "metadata": {
        "id": "NYoKMT87Xh1a",
        "colab_type": "text"
      },
      "source": [
        "Get the embedding of decoder output sequences. For the first sequence, it will return the embedded vector for `START_` - [1., 0., 0., 0., 0.]. If the next predicted word is Juan, it will then return the embedded vector for `Juan` - [0., 0., 0., 1., 0.]"
      ]
    },
    {
      "cell_type": "code",
      "metadata": {
        "id": "QAEQIT7zXO5o",
        "colab_type": "code",
        "colab": {}
      },
      "source": [
        "dec_emb2 = dec_emb_layer(decoder_inputs) "
      ],
      "execution_count": 0,
      "outputs": []
    },
    {
      "cell_type": "markdown",
      "metadata": {
        "id": "CpCoU9ReZE8P",
        "colab_type": "text"
      },
      "source": [
        "To predict the next word in the sequence, set the initial states to the states from the previous time step\n"
      ]
    },
    {
      "cell_type": "code",
      "metadata": {
        "id": "Z-S7sgotYSA8",
        "colab_type": "code",
        "colab": {}
      },
      "source": [
        "decoder_outputs2, state_h2, state_c2 = decoder_lstm(dec_emb2, initial_state=decoder_states_inputs)"
      ],
      "execution_count": 0,
      "outputs": []
    },
    {
      "cell_type": "markdown",
      "metadata": {
        "id": "URZ73j0xZTnJ",
        "colab_type": "text"
      },
      "source": [
        "Predict the next word in the sequence using the dense layer and choose the most probable word by selecting the word with most probability from the softmax probability distribution."
      ]
    },
    {
      "cell_type": "code",
      "metadata": {
        "id": "Z042N2B7ZQ1E",
        "colab_type": "code",
        "colab": {}
      },
      "source": [
        "decoder_outputs2 = decoder_dense(decoder_outputs2) "
      ],
      "execution_count": 0,
      "outputs": []
    },
    {
      "cell_type": "markdown",
      "metadata": {
        "id": "hhiHQ4WSdAA5",
        "colab_type": "text"
      },
      "source": [
        "***Final Decoder Model***\n",
        "\n",
        "Inputs -\n",
        ">1. decoder_inputs - List of word\n",
        ">2. decoder_states_inputs - previous timestep's hidden state & cell state\n",
        "\n",
        "Outputs - \n",
        ">1. decoder_outputs2 - one-hot vector represeting the predicted word \n",
        ">2. decoder_states2 - current timestep's hidden state & cell state"
      ]
    },
    {
      "cell_type": "code",
      "metadata": {
        "id": "q3LaD1ovc9tr",
        "colab_type": "code",
        "colab": {}
      },
      "source": [
        "decoder_states2 = [state_h2, state_c2]\n",
        "decoder_model = Model(\n",
        "    [decoder_inputs] + decoder_states_inputs,\n",
        "    [decoder_outputs2] + decoder_states2)"
      ],
      "execution_count": 0,
      "outputs": []
    },
    {
      "cell_type": "code",
      "metadata": {
        "id": "BjLIBhifeKZC",
        "colab_type": "code",
        "colab": {}
      },
      "source": [
        ""
      ],
      "execution_count": 0,
      "outputs": []
    },
    {
      "cell_type": "markdown",
      "metadata": {
        "id": "84O7HfC8eK7V",
        "colab_type": "text"
      },
      "source": [
        "## Decode Sequence"
      ]
    },
    {
      "cell_type": "code",
      "metadata": {
        "id": "ETA6jUB_R1se",
        "colab_type": "code",
        "colab": {}
      },
      "source": [
        "# https://github.com/numpy/numpy/issues/15201#issue-543733072\n",
        "\n",
        "def categorical(p):\n",
        "    return (p.cumsum(-1) >= np.random.uniform(size=p.shape[:-1])[..., None]).argmax(-1)"
      ],
      "execution_count": 0,
      "outputs": []
    },
    {
      "cell_type": "code",
      "metadata": {
        "id": "PlR1ANdcHB-b",
        "colab_type": "code",
        "colab": {}
      },
      "source": [
        "def decode_sequence(input_seq):\n",
        "    # Encode the input as state vectors.\n",
        "    states_value = encoder_model.predict(input_seq)\n",
        "    # Generate empty target sequence of length 1.\n",
        "    target_seq = np.zeros((1,1))\n",
        "    # Populate the first character of target sequence with the start character.\n",
        "    target_seq[0, 0] = target_token_index['START_']\n",
        "\n",
        "    # Sampling loop for a batch of sequences\n",
        "    # (to simplify, here we assume a batch of size 1).\n",
        "    stop_condition = False\n",
        "    decoded_sentence = ''\n",
        "    while not stop_condition:\n",
        "        output_tokens, h, c = decoder_model.predict([target_seq] + states_value)\n",
        "\n",
        "        # Sampling a token with max probability\n",
        "        sampled_token_index = np.argmax(output_tokens[0, -1, :])\n",
        "\n",
        "        # Sample from a categorical distribution\n",
        "        # logits = output_tokens[0, -1, :]\n",
        "        # sampled_token_index = categorical(np.reshape(logits, [-1, len(logits)]))[0]\n",
        "         \n",
        "        sampled_char = reverse_target_char_index[sampled_token_index]\n",
        "        decoded_sentence += ' '+sampled_char\n",
        "\n",
        "        # Exit condition: either hit max length\n",
        "        # or find stop character.\n",
        "        if (sampled_char == '_END' or\n",
        "           len(decoded_sentence) > max_length_tar):\n",
        "            stop_condition = True\n",
        "\n",
        "        # Update the target sequence (of length 1).\n",
        "        target_seq = np.zeros((1,1))\n",
        "        target_seq[0, 0] = sampled_token_index\n",
        "\n",
        "        # Update states\n",
        "        states_value = [h, c]\n",
        "\n",
        "    return decoded_sentence"
      ],
      "execution_count": 0,
      "outputs": []
    },
    {
      "cell_type": "markdown",
      "metadata": {
        "id": "21rFGMBx3FOU",
        "colab_type": "text"
      },
      "source": [
        "My attempt at using ***Beam Search Decoding*** using probabilites"
      ]
    },
    {
      "cell_type": "code",
      "metadata": {
        "id": "yGG-_B9U3jwH",
        "colab_type": "code",
        "colab": {}
      },
      "source": [
        "def beam_search_decoder(predictions, top_k = 3):\n",
        "    #start with an empty sequence with zero score\n",
        "    output_sequences = [([], 0)]\n",
        "    \n",
        "    #looping through all the predictions\n",
        "    for token_probs in predictions:\n",
        "        new_sequences = []\n",
        "        \n",
        "        #append new tokens to old sequences and re-score\n",
        "        for old_seq, old_score in output_sequences:\n",
        "            for char_index in range(len(token_probs)):\n",
        "                new_seq = old_seq + [char_index]\n",
        "                #considering log-likelihood for scoring\n",
        "                new_score = old_score + math.log(token_probs[char_index])\n",
        "                new_sequences.append((new_seq, new_score))\n",
        "                \n",
        "        # sort all new sequences in the de-creasing order of their score\n",
        "        output_sequences = sorted(new_sequences, key = lambda val: val[1], reverse = True)\n",
        "        \n",
        "        #select top-k based on score \n",
        "        # *Note- best sequence is with the highest score\n",
        "        output_sequences = output_sequences[:top_k]\n",
        "        \n",
        "    return output_sequences"
      ],
      "execution_count": 0,
      "outputs": []
    },
    {
      "cell_type": "code",
      "metadata": {
        "id": "ufLP_9oW3EMo",
        "colab_type": "code",
        "colab": {}
      },
      "source": [
        "def decode_sequence_beam_search(input_seq):\n",
        "    probabilites = []\n",
        "    # Encode the input as state vectors.\n",
        "    states_value = encoder_model.predict(input_seq)\n",
        "    # Generate empty target sequence of length 1.\n",
        "    target_seq = np.zeros((1,1))\n",
        "    # Populate the first character of target sequence with the start character.\n",
        "    target_seq[0, 0] = target_token_index['START_']\n",
        "\n",
        "    # Sampling loop for a batch of sequences\n",
        "    # (to simplify, here we assume a batch of size 1).\n",
        "    stop_condition = False\n",
        "    decoded_sentence = ''\n",
        "    while not stop_condition:\n",
        "        output_tokens, h, c = decoder_model.predict([target_seq] + states_value)\n",
        "\n",
        "        # Sampling a token with max probability\n",
        "        sampled_token_index = np.argmax(output_tokens[0, -1, :])\n",
        "        probabilites.append(output_tokens[0, -1, :])\n",
        "\n",
        "        sampled_char = reverse_target_char_index[sampled_token_index]\n",
        "        decoded_sentence += ' '+sampled_char\n",
        "\n",
        "        # Exit condition: either hit max length\n",
        "        # or find stop character.\n",
        "        if (sampled_char == '_END' or\n",
        "           len(decoded_sentence) > max_length_tar):\n",
        "            stop_condition = True\n",
        "\n",
        "        # Update the target sequence (of length 1).\n",
        "        target_seq = np.zeros((1,1))\n",
        "        target_seq[0, 0] = sampled_token_index\n",
        "\n",
        "        # Update states\n",
        "        states_value = [h, c]\n",
        "\n",
        "    # storing multiple results\n",
        "    outputs = []\n",
        "    beam_search_preds = beam_search_decoder(probabilites, top_k = 5)\n",
        "    for prob_indexes, score in beam_search_preds:\n",
        "        decoded_sentence = ''\n",
        "        for index in prob_indexes:\n",
        "            sampled_char = reverse_target_char_index[index]\n",
        "            decoded_sentence += ' '+sampled_char\n",
        "            if (sampled_char == '_END' or len(decoded_sentence) > max_length_tar):\n",
        "                break\n",
        "        outputs.append(decoded_sentence)\n",
        "\n",
        "    return outputs"
      ],
      "execution_count": 0,
      "outputs": []
    },
    {
      "cell_type": "code",
      "metadata": {
        "id": "3D2LuizE3Mjj",
        "colab_type": "code",
        "colab": {}
      },
      "source": [
        ""
      ],
      "execution_count": 0,
      "outputs": []
    },
    {
      "cell_type": "markdown",
      "metadata": {
        "id": "fThNq6hfiLcc",
        "colab_type": "text"
      },
      "source": [
        "### Training Data"
      ]
    },
    {
      "cell_type": "code",
      "metadata": {
        "id": "4ua4IUSkhvQc",
        "colab_type": "code",
        "colab": {}
      },
      "source": [
        "train_gen = generate_batch(X_train, y_train, batch_size = 1)\n",
        "k=-1"
      ],
      "execution_count": 0,
      "outputs": []
    },
    {
      "cell_type": "code",
      "metadata": {
        "id": "lYrRbZRMhvMm",
        "colab_type": "code",
        "outputId": "bbfbd61f-ff18-4f4d-cd5d-b05113d55de0",
        "colab": {
          "base_uri": "https://localhost:8080/",
          "height": 1000
        }
      },
      "source": [
        "for _ in range(20):\n",
        "    k+=1\n",
        "    (input_seq, actual_output), _ = next(train_gen)\n",
        "    decoded_sentence = decode_sequence(input_seq)\n",
        "    print('Input Sentence:', X_train[k:k+1].values[0])\n",
        "    print('Actual Translation:', y_train[k:k+1].values[0][6:-4])\n",
        "    print('Predicted Translation:', decoded_sentence[:-4])\n",
        "    print(\"=\"*30, end=\"\\n\\n\")"
      ],
      "execution_count": 73,
      "outputs": [
        {
          "output_type": "stream",
          "text": [
            "Input Sentence: tom has hair down to his shoulders\n",
            "Actual Translation:  tom tiene el pelo hasta los hombros \n",
            "Predicted Translation:  tom tiene el pelo de cabeza \n",
            "==============================\n",
            "\n",
            "Input Sentence: i saw your light was on and knew you were still awake\n",
            "Actual Translation:  vi que tenías la luz encendida y supe que todavía estabas despierto \n",
            "Predicted Translation:  vi a tom y me había visto un poco de tráfico \n",
            "==============================\n",
            "\n",
            "Input Sentence: he came from one of the richest families in the united states\n",
            "Actual Translation:  vino de una de las familias más ricas de américa \n",
            "Predicted Translation:  él ha sido de nieve de los estados unidos a las\n",
            "==============================\n",
            "\n",
            "Input Sentence: the park is in the center of the city\n",
            "Actual Translation:  el parque se encuentra en el centro de la ciudad \n",
            "Predicted Translation:  el coche está en el centro de la ciudad \n",
            "==============================\n",
            "\n",
            "Input Sentence: you didnt invite me\n",
            "Actual Translation:  no me invitaste \n",
            "Predicted Translation:  no me lo has ido \n",
            "==============================\n",
            "\n",
            "Input Sentence: prices are high\n",
            "Actual Translation:  los precios están altos \n",
            "Predicted Translation:  los precios son buenos \n",
            "==============================\n",
            "\n",
            "Input Sentence: would you like to earn some extra money\n",
            "Actual Translation:  ¿te gustaría ganar un dinero extra \n",
            "Predicted Translation:  ¿quieres un poco de dinero \n",
            "==============================\n",
            "\n",
            "Input Sentence: come up here\n",
            "Actual Translation:  suba aquí \n",
            "Predicted Translation:  ven aquí \n",
            "==============================\n",
            "\n",
            "Input Sentence: this is a rule\n",
            "Actual Translation:  esto es una norma \n",
            "Predicted Translation:  esto es un diccionario \n",
            "==============================\n",
            "\n",
            "Input Sentence: the curtains were all open\n",
            "Actual Translation:  las cortinas estaban abiertas \n",
            "Predicted Translation:  los estudiantes estaban presentes \n",
            "==============================\n",
            "\n",
            "Input Sentence: hes rich and powerful\n",
            "Actual Translation:  él es rico y poderoso \n",
            "Predicted Translation:  él es rico y se cayó \n",
            "==============================\n",
            "\n",
            "Input Sentence: im not going to leave if you dont want me to\n",
            "Actual Translation:  no me voy a ir si no quieres \n",
            "Predicted Translation:  no te voy a hacer si no quieres \n",
            "==============================\n",
            "\n",
            "Input Sentence: i wonder if hes at home\n",
            "Actual Translation:  me pregunto si estará en casa \n",
            "Predicted Translation:  me pregunto si está en la casa \n",
            "==============================\n",
            "\n",
            "Input Sentence: ill be direct\n",
            "Actual Translation:  voy a ser directo \n",
            "Predicted Translation:  estaré allí \n",
            "==============================\n",
            "\n",
            "Input Sentence: i think hell never return\n",
            "Actual Translation:  creo que nunca volverá \n",
            "Predicted Translation:  creo que no lo he estado en australia \n",
            "==============================\n",
            "\n",
            "Input Sentence: where did you find this\n",
            "Actual Translation:  ¿dónde encontraste esto \n",
            "Predicted Translation:  ¿dónde te has hecho esto \n",
            "==============================\n",
            "\n",
            "Input Sentence: do you have a violin\n",
            "Actual Translation:  ¿tienes un violín \n",
            "Predicted Translation:  ¿tienes un minuto \n",
            "==============================\n",
            "\n",
            "Input Sentence: marys smiling face let everyone know that she was happy\n",
            "Actual Translation:  el rostro sonriente de mary hacía saber a todos que estaba feliz \n",
            "Predicted Translation:  la policía me sorprendió a su madre de lo que es\n",
            "==============================\n",
            "\n",
            "Input Sentence: who ate the bread\n",
            "Actual Translation:  ¿quién se comió el pan \n",
            "Predicted Translation:  ¿quién se comió el año \n",
            "==============================\n",
            "\n",
            "Input Sentence: more and more women continue to work after marriage\n",
            "Actual Translation:  más y más mujeres continúan trabajando luego del matrimonio \n",
            "Predicted Translation:  más de tiempo en la gente se puede dejar de la \n",
            "==============================\n",
            "\n"
          ],
          "name": "stdout"
        }
      ]
    },
    {
      "cell_type": "code",
      "metadata": {
        "id": "m3jAtOUk4vNj",
        "colab_type": "code",
        "outputId": "a23c30df-7c00-43a6-d180-2d3a4fc08299",
        "colab": {
          "base_uri": "https://localhost:8080/",
          "height": 1000
        }
      },
      "source": [
        "for _ in range(20):\n",
        "    k+=1\n",
        "    (input_seq, actual_output), _ = next(train_gen)\n",
        "    decoded_sentences = decode_sequence_beam_search(input_seq)\n",
        "    print('Input Sentence:', X_train[k:k+1].values[0])\n",
        "    print('Actual Translation:', y_train[k:k+1].values[0][6:-4])\n",
        "    for idx, pred in enumerate(decoded_sentences):\n",
        "        if pred[:-4] == y_train[k:k+1].values[0][6:-4]:\n",
        "            print(\"-\"*60)\n",
        "            print(f\"Correctly Predicted: {pred[:-4]}\")\n",
        "            print(\"-\"*60)\n",
        "        else:\n",
        "            print(f'Predicted Translation {idx}: {pred[:-4]}')\n",
        "    print(\"=\"*30, end=\"\\n\\n\")"
      ],
      "execution_count": 74,
      "outputs": [
        {
          "output_type": "stream",
          "text": [
            "Input Sentence: you cant stop there\n",
            "Actual Translation:  ahí no se puede parar \n",
            "Predicted Translation 0:  no puedes hacer nada \n",
            "Predicted Translation 1:  no puedes esperar nada \n",
            "Predicted Translation 2:  no puedes ir nada \n",
            "Predicted Translation 3:  no puedes parar nada \n",
            "Predicted Translation 4:  no puedes hacer algo \n",
            "==============================\n",
            "\n",
            "Input Sentence: there is a girl reading under a tree\n",
            "Actual Translation:  hay una niña leyendo bajo un árbol \n",
            "Predicted Translation 0:  hay una mujer muy grande para una \n",
            "Predicted Translation 1:  hay una chica muy grande para una \n",
            "Predicted Translation 2:  una una mujer muy grande para una \n",
            "Predicted Translation 3:  una una chica muy grande para una \n",
            "Predicted Translation 4:  hay una mujer de grande para una \n",
            "==============================\n",
            "\n",
            "Input Sentence: im here every night\n",
            "Actual Translation:  estoy aquí todas las noches \n",
            "Predicted Translation 0:  aquí estoy lloviendo \n",
            "Predicted Translation 1:  estoy estoy lloviendo \n",
            "Predicted Translation 2:  aquí me lloviendo \n",
            "Predicted Translation 3:  estoy me lloviendo \n",
            "Predicted Translation 4:  aquí estoy trabajando \n",
            "==============================\n",
            "\n",
            "Input Sentence: im only interested in the truth\n",
            "Actual Translation:  solo estoy interesado en la verdad \n",
            "Predicted Translation 0:  solo estoy en la verdad \n",
            "Predicted Translation 1:  sólo estoy en la verdad \n",
            "Predicted Translation 2:  solo he en la verdad \n",
            "Predicted Translation 3:  solo lo en la verdad \n",
            "Predicted Translation 4:  sólo he en la verdad \n",
            "==============================\n",
            "\n",
            "Input Sentence: he runs a shoe shop\n",
            "Actual Translation:  él administra una zapatería \n",
            "Predicted Translation 0:  él se comió una carta \n",
            "Predicted Translation 1:  él se comió un carta \n",
            "Predicted Translation 2:  él come comió una carta \n",
            "Predicted Translation 3:  él tomó comió una carta \n",
            "Predicted Translation 4:  él come comió un carta \n",
            "==============================\n",
            "\n",
            "Input Sentence: ah is an interjection\n",
            "Actual Translation:  ah es una interjección \n",
            "Predicted Translation 0:  ¡qué es una decisión \n",
            "Predicted Translation 1:  ¡qué es una respuesta \n",
            "Predicted Translation 2:  ¡qué es una solución \n",
            "Predicted Translation 3:  ¡qué es una razón \n",
            "Predicted Translation 4:  ¡qué es un decisión \n",
            "==============================\n",
            "\n",
            "Input Sentence: you are taller than she is\n",
            "Actual Translation:  sois más altos que ella \n",
            "Predicted Translation 0:  eres más de lo que ella \n",
            "Predicted Translation 1:  eres más de que que ella \n",
            "Predicted Translation 2:  eres más de la que ella \n",
            "Predicted Translation 3:  eres más alto lo que ella \n",
            "Predicted Translation 4:  eres más alto que que ella \n",
            "==============================\n",
            "\n",
            "Input Sentence: the relationships among those five people are complicated\n",
            "Actual Translation:  las relaciones entre esos cinco son enredadas \n",
            "Predicted Translation 0:  las mujeres son dos personas para las reglas \n",
            "Predicted Translation 1:  las mujeres son dos veces para las reglas \n",
            "Predicted Translation 2:  las dos son dos personas para las reglas \n",
            "Predicted Translation 3:  las mujeres están dos personas para las reglas \n",
            "Predicted Translation 4:  las dos son dos veces para las reglas \n",
            "==============================\n",
            "\n",
            "Input Sentence: they all tried to talk at one time\n",
            "Actual Translation:  todos trataron de hablar al mismo tiempo \n",
            "Predicted Translation 0:  todos lo han estado en contacto con nosotros \n",
            "Predicted Translation 1:  todos estaban han estado en contacto con nosotros \n",
            "Predicted Translation 2:  todos querían han estado en contacto con nosotros \n",
            "Predicted Translation 3:  todos nos han estado en contacto con nosotros \n",
            "Predicted Translation 4:  todos lo hicieron estado en contacto con nosotros \n",
            "==============================\n",
            "\n",
            "Input Sentence: could i sit on the aisle\n",
            "Actual Translation:  ¿me podría sentar en el pasillo \n",
            "Predicted Translation 0:  ¿puedo ver al otro \n",
            "Predicted Translation 1:  ¿puedo ver al teléfono \n",
            "Predicted Translation 2:  ¿puedo ver al mismo \n",
            "Predicted Translation 3:  ¿podría ver al otro \n",
            "Predicted Translation 4:  ¿podría ver al teléfono \n",
            "==============================\n",
            "\n",
            "Input Sentence: it was too expensive\n",
            "Actual Translation:  era demasiado caro \n",
            "------------------------------------------------------------\n",
            "Correctly Predicted:  era demasiado caro \n",
            "------------------------------------------------------------\n",
            "Predicted Translation 1:  fue demasiado caro \n",
            "Predicted Translation 2:  era demasiado rápido \n",
            "Predicted Translation 3:  era demasiado difícil \n",
            "Predicted Translation 4:  era demasiado frío \n",
            "==============================\n",
            "\n",
            "Input Sentence: hows tom going to do it\n",
            "Actual Translation:  ¿cómo lo va a hacer tom \n",
            "Predicted Translation 0:  ¿cómo lo dijo que hacer \n",
            "Predicted Translation 1:  ¿qué lo dijo que hacer \n",
            "Predicted Translation 2:  ¿cómo lo que que hacer \n",
            "Predicted Translation 3:  ¿cómo lo puede que hacer \n",
            "Predicted Translation 4:  ¿qué lo que que hacer \n",
            "==============================\n",
            "\n",
            "Input Sentence: i never forget a face\n",
            "Actual Translation:  nunca se me olvida una cara \n",
            "Predicted Translation 0:  nunca me he visto una manzana \n",
            "Predicted Translation 1:  nunca me he visto una vez \n",
            "Predicted Translation 2:  nunca me he visto una trampa \n",
            "Predicted Translation 3:  nunca me he visto un manzana \n",
            "Predicted Translation 4:  nunca me voy visto una manzana \n",
            "==============================\n",
            "\n",
            "Input Sentence: thats mine\n",
            "Actual Translation:  eso es mío \n",
            "------------------------------------------------------------\n",
            "Correctly Predicted:  eso es mío \n",
            "------------------------------------------------------------\n",
            "Predicted Translation 1:  esa es mío \n",
            "Predicted Translation 2:  es es mío \n",
            "Predicted Translation 3:  esto es mío \n",
            "Predicted Translation 4:  ese es mío \n",
            "==============================\n",
            "\n",
            "Input Sentence: then we went to the theater\n",
            "Actual Translation:  después fuimos al teatro \n",
            "Predicted Translation 0:  al final de las hojas \n",
            "Predicted Translation 1:  después final de las hojas \n",
            "Predicted Translation 2:  al final de las manos \n",
            "Predicted Translation 3:  al final de las dólares \n",
            "Predicted Translation 4:  al final de las seis \n",
            "==============================\n",
            "\n",
            "Input Sentence: as soon as i can get the chance ill come for a visit\n",
            "Actual Translation:  tan pronto tenga la oportunidad vendré a hacer una visita \n",
            "Predicted Translation 0:  para dejar de cuanto me gustaría hacer un poco d\n",
            "Predicted Translation 1:  para dejar de cuanto me gustaría hacer un poco de\n",
            "Predicted Translation 2:  en dejar de cuanto me gustaría hacer un poco d\n",
            "Predicted Translation 3:  para dejar de cuanto me gustaría hacer un milló\n",
            "Predicted Translation 4:  para dejar de cuanto me gustaría hacer un par d\n",
            "==============================\n",
            "\n",
            "Input Sentence: suddenly all the lights went out\n",
            "Actual Translation:  de repente todas las luces se apagaron \n",
            "Predicted Translation 0:  de repente los niños fueron a la luz \n",
            "Predicted Translation 1:  de repente los niños se a la luz \n",
            "Predicted Translation 2:  de repente los niños estaban a la luz \n",
            "Predicted Translation 3:  de repente los pasajeros fueron a la luz \n",
            "Predicted Translation 4:  de repente los pasajeros se a la luz \n",
            "==============================\n",
            "\n",
            "Input Sentence: this tv was made in china\n",
            "Actual Translation:  este televisor fue fabricado en china \n",
            "Predicted Translation 0:  la primera vez ha sido muy lejos \n",
            "Predicted Translation 1:  la primera vez ha sido muy fría \n",
            "Predicted Translation 2:  la primera vez se sido muy lejos \n",
            "Predicted Translation 3:  la primera vez se sido muy fría \n",
            "Predicted Translation 4:  la historia vez ha sido muy lejos \n",
            "==============================\n",
            "\n",
            "Input Sentence: i once wanted to be an astrophysicist\n",
            "Actual Translation:  una vez quise ser astrofísico \n",
            "Predicted Translation 0:  yo quería un poco de peso \n",
            "Predicted Translation 1:  solo quería un poco de peso \n",
            "Predicted Translation 2:  yo solo un poco de peso \n",
            "Predicted Translation 3:  yo nunca un poco de peso \n",
            "Predicted Translation 4:  solo solo un poco de peso \n",
            "==============================\n",
            "\n",
            "Input Sentence: hes not smart enough to work it out in his head\n",
            "Actual Translation:  él no es lo bastante inteligente como para hacer cuentas con la cabeza \n",
            "Predicted Translation 0:  él es imposible que él no se va a trabajar en el tra\n",
            "Predicted Translation 1:  él es imposible que él no se va a hacer en el tra\n",
            "Predicted Translation 2:  él es imposible que él no se va a trabajar en el prob\n",
            "Predicted Translation 3:  él es imposible que él no se va a hacer en el prob\n",
            "Predicted Translation 4:  él es imposible que él no se va a un en el tra\n",
            "==============================\n",
            "\n"
          ],
          "name": "stdout"
        }
      ]
    },
    {
      "cell_type": "code",
      "metadata": {
        "id": "qytlFdnrhvG5",
        "colab_type": "code",
        "colab": {}
      },
      "source": [
        ""
      ],
      "execution_count": 0,
      "outputs": []
    },
    {
      "cell_type": "markdown",
      "metadata": {
        "id": "128CBoYriOuU",
        "colab_type": "text"
      },
      "source": [
        "### Testing Data"
      ]
    },
    {
      "cell_type": "code",
      "metadata": {
        "id": "QdkmKx2HhvCk",
        "colab_type": "code",
        "colab": {}
      },
      "source": [
        "val_gen = generate_batch(X_test, y_test, batch_size = 1)\n",
        "k=-1"
      ],
      "execution_count": 0,
      "outputs": []
    },
    {
      "cell_type": "code",
      "metadata": {
        "id": "mTd6pAdqiQuQ",
        "colab_type": "code",
        "outputId": "75a9295c-a648-4307-e86f-50aae25effbc",
        "colab": {
          "base_uri": "https://localhost:8080/",
          "height": 1000
        }
      },
      "source": [
        "for _ in range(20):\n",
        "    k+=1\n",
        "    (input_seq, actual_output), _ = next(val_gen)\n",
        "    decoded_sentence = decode_sequence(input_seq)\n",
        "    print('Input Sentence:', X_test[k:k+1].values[0])\n",
        "    print('Actual Translation:', y_test[k:k+1].values[0][6:-4])\n",
        "    print('Predicted Translation:', decoded_sentence[:-4])\n",
        "    print(\"=\"*30, end=\"\\n\\n\")"
      ],
      "execution_count": 76,
      "outputs": [
        {
          "output_type": "stream",
          "text": [
            "Input Sentence: tom spoke to me in french\n",
            "Actual Translation:  tom me habló en francés \n",
            "Predicted Translation:  tom me enseñó a su coche \n",
            "==============================\n",
            "\n",
            "Input Sentence: the teacher wants us to divide the work on this project\n",
            "Actual Translation:  la profesora quiere que dividamos el trabajo en este proyecto \n",
            "Predicted Translation:  el profesor quiere estar en el examen de esto \n",
            "==============================\n",
            "\n",
            "Input Sentence: both sisters are pretty\n",
            "Actual Translation:  las dos hermanas son bonitas \n",
            "Predicted Translation:  las dos son dos hermanas \n",
            "==============================\n",
            "\n",
            "Input Sentence: there is a tall man in the classroom\n",
            "Actual Translation:  hay un hombre alto en la clase \n",
            "Predicted Translation:  hay un hombre en el hombre de la ciudad \n",
            "==============================\n",
            "\n",
            "Input Sentence: i think i need to sit down\n",
            "Actual Translation:  creo que necesito sentarme \n",
            "Predicted Translation:  creo que necesito de vuelta a esto \n",
            "==============================\n",
            "\n",
            "Input Sentence: ive only been online for ten minutes\n",
            "Actual Translation:  solo he estado conectado durante diez minutos \n",
            "Predicted Translation:  solo he estado en un par de tiempo \n",
            "==============================\n",
            "\n",
            "Input Sentence: i want you to be my partner\n",
            "Actual Translation:  quiero que seas mi compañero \n",
            "Predicted Translation:  quiero que te he perdido \n",
            "==============================\n",
            "\n",
            "Input Sentence: tom cant believe mary knows why john doesnt like her\n",
            "Actual Translation:  tom no puede creer que mary sepa por qué no le gusta a john \n",
            "Predicted Translation:  tom no tiene que tom no le gusta la puerta pero \n",
            "==============================\n",
            "\n",
            "Input Sentence: when does it arrive\n",
            "Actual Translation:  ¿cuándo llega \n",
            "Predicted Translation:  ¿cuándo se va \n",
            "==============================\n",
            "\n",
            "Input Sentence: how long ago did you start learning esperanto\n",
            "Actual Translation:  ¿cuánto hace que empezaste a estudiar esperanto \n",
            "Predicted Translation:  ¿cuánto tiempo puede esperar mucho tiempo \n",
            "==============================\n",
            "\n",
            "Input Sentence: i recommend that you read that novel\n",
            "Actual Translation:  te recomiendo que leas esa novela \n",
            "Predicted Translation:  supongo que tienes que la sopa me hace algo \n",
            "==============================\n",
            "\n",
            "Input Sentence: it amazed us to hear that things were so cheap\n",
            "Actual Translation:  nos asombró escuchar que las cosas estaban tan baratas \n",
            "Predicted Translation:  nos lo nos nos lo has hecho como comer tan bien \n",
            "==============================\n",
            "\n",
            "Input Sentence: this box weighs a ton whats inside\n",
            "Actual Translation:  esta caja pesa una tonelada ¿qué hay adentro \n",
            "Predicted Translation:  esta noche es un gran tiempo para la reunión \n",
            "==============================\n",
            "\n",
            "Input Sentence: now its serious\n",
            "Actual Translation:  ahora se puso serio \n",
            "Predicted Translation:  ahora es de eso \n",
            "==============================\n",
            "\n",
            "Input Sentence: tom wanted mary to pose in the nude for his painting but she refused to do so\n",
            "Actual Translation:  tom quería que mary pose desnuda para su pintura pero ella se negó a hacerlo \n",
            "Predicted Translation:  tom quería que le había sido a punto de ser tan rá\n",
            "==============================\n",
            "\n",
            "Input Sentence: she always speaks to him in a loud voice\n",
            "Actual Translation:  siempre le habla en voz alta \n",
            "Predicted Translation:  ella siempre se está en una persona en el tiempo \n",
            "==============================\n",
            "\n",
            "Input Sentence: this type of mobile phone sells well\n",
            "Actual Translation:  esta clase de teléfono móvil se vende bien \n",
            "Predicted Translation:  este botón está en el primer juego \n",
            "==============================\n",
            "\n",
            "Input Sentence: how do you relax after a hard day at work\n",
            "Actual Translation:  ¿cómo te relajas tras un duro día de trabajo \n",
            "Predicted Translation:  ¿cómo se tarda en algún día en la carta \n",
            "==============================\n",
            "\n",
            "Input Sentence: you shouldnt talk about people behind their backs\n",
            "Actual Translation:  no debes hablar de la gente a sus espaldas \n",
            "Predicted Translation:  no deberías hablar de la gente de la escuela \n",
            "==============================\n",
            "\n",
            "Input Sentence: she loves tom not me\n",
            "Actual Translation:  ella quiere a tom no a mí \n",
            "Predicted Translation:  ella me dijo a tom \n",
            "==============================\n",
            "\n"
          ],
          "name": "stdout"
        }
      ]
    },
    {
      "cell_type": "code",
      "metadata": {
        "id": "K-fmFni3iQ1y",
        "colab_type": "code",
        "colab": {
          "base_uri": "https://localhost:8080/",
          "height": 1000
        },
        "outputId": "b202a0a1-2aea-4725-f805-7f0b42c9959f"
      },
      "source": [
        "for _ in range(20):\n",
        "    k+=1\n",
        "    (input_seq, actual_output), _ = next(val_gen)\n",
        "    decoded_sentences = decode_sequence_beam_search(input_seq)\n",
        "    print('Input Sentence:', X_train[k:k+1].values[0])\n",
        "    print('Actual Translation:', y_train[k:k+1].values[0][6:-4])\n",
        "    for idx, pred in enumerate(decoded_sentences):\n",
        "        if pred[:-4] == y_train[k:k+1].values[0][6:-4]:\n",
        "            print(\"-\"*60)\n",
        "            print(f\"Correctly Predicted: {pred[:-4]}\")\n",
        "            print(\"-\"*60)\n",
        "        else:\n",
        "            print(f'Predicted Translation {idx}: {pred[:-4]}')\n",
        "    print(\"=\"*30, end=\"\\n\\n\")"
      ],
      "execution_count": 77,
      "outputs": [
        {
          "output_type": "stream",
          "text": [
            "Input Sentence: you cant stop there\n",
            "Actual Translation:  ahí no se puede parar \n",
            "Predicted Translation 0:  si no te vas a las manos y se fueron a los niños \n",
            "Predicted Translation 1:  si no te vas a los manos y se fueron a los niños \n",
            "Predicted Translation 2:  si no te vas a las manos y los fueron a los niños \n",
            "Predicted Translation 3:  si no te vas a los manos y los fueron a los niños \n",
            "Predicted Translation 4:  si no te vas a las manos y se lo a los niños \n",
            "==============================\n",
            "\n",
            "Input Sentence: there is a girl reading under a tree\n",
            "Actual Translation:  hay una niña leyendo bajo un árbol \n",
            "Predicted Translation 0:  tom es un error \n",
            "Predicted Translation 1:  tom es un mentiroso \n",
            "Predicted Translation 2:  tom es un buen \n",
            "Predicted Translation 3:  tom es un secreto \n",
            "Predicted Translation 4:  tom es un abogado \n",
            "==============================\n",
            "\n",
            "Input Sentence: im here every night\n",
            "Actual Translation:  estoy aquí todas las noches \n",
            "Predicted Translation 0:  tom tuvo que haber sido capaz de que mary estaba enf\n",
            "Predicted Translation 1:  tom tuvo que haber sido capaz de que mary era enf\n",
            "Predicted Translation 2:  tom tuvo que haber dicho capaz de que mary estaba enf\n",
            "Predicted Translation 3:  tom tuvo que haber dicho capaz de que mary era enf\n",
            "Predicted Translation 4:  tom tuvo que haber sido capaz de lo mary estaba enf\n",
            "==============================\n",
            "\n",
            "Input Sentence: im only interested in the truth\n",
            "Actual Translation:  solo estoy interesado en la verdad \n",
            "Predicted Translation 0:  tráeme el libro con las manos de arena \n",
            "Predicted Translation 1:  tráeme el libro de las manos de arena \n",
            "Predicted Translation 2:  tráeme el libro con los manos de arena \n",
            "Predicted Translation 3:  tráeme el libro con las manos de agua \n",
            "Predicted Translation 4:  tráeme el libro de los manos de arena \n",
            "==============================\n",
            "\n",
            "Input Sentence: he runs a shoe shop\n",
            "Actual Translation:  él administra una zapatería \n",
            "Predicted Translation 0:  él me gusta jugar de la televisión \n",
            "Predicted Translation 1:  él me gusta jugar de la televisión \n",
            "Predicted Translation 2:  él me gusta el de la televisión \n",
            "Predicted Translation 3:  él me gusta el de la televisión \n",
            "Predicted Translation 4:  él me gusta jugar en la televisión \n",
            "==============================\n",
            "\n",
            "Input Sentence: ah is an interjection\n",
            "Actual Translation:  ah es una interjección \n",
            "Predicted Translation 0:  el lago es un gran famoso \n",
            "Predicted Translation 1:  el lago es un gran cantante \n",
            "Predicted Translation 2:  el lago es muy gran famoso \n",
            "Predicted Translation 3:  el lago es un hombre famoso \n",
            "Predicted Translation 4:  el lago es un gran hombre \n",
            "==============================\n",
            "\n",
            "Input Sentence: you are taller than she is\n",
            "Actual Translation:  sois más altos que ella \n",
            "Predicted Translation 0:  él me dio el camino \n",
            "Predicted Translation 1:  él me dio el dolor \n",
            "Predicted Translation 2:  él me dio la camino \n",
            "Predicted Translation 3:  él me ha el camino \n",
            "Predicted Translation 4:  él me dio la dolor \n",
            "==============================\n",
            "\n",
            "Input Sentence: the relationships among those five people are complicated\n",
            "Actual Translation:  las relaciones entre esos cinco son enredadas \n",
            "Predicted Translation 0:  gracias por la pena que \n",
            "Predicted Translation 1:  gracias por el pena que \n",
            "Predicted Translation 2:  gracias a la pena que \n",
            "Predicted Translation 3:  muchísimas por la pena que \n",
            "Predicted Translation 4:  gracias por la noche que \n",
            "==============================\n",
            "\n",
            "Input Sentence: they all tried to talk at one time\n",
            "Actual Translation:  todos trataron de hablar al mismo tiempo \n",
            "Predicted Translation 0:  ella se quedó en el año que había ido \n",
            "Predicted Translation 1:  ella se quedó en el año que había terminado \n",
            "Predicted Translation 2:  ella se ha en el año que había ido \n",
            "Predicted Translation 3:  ella se quedó en el último que había ido \n",
            "Predicted Translation 4:  ella se casó en el año que había ido \n",
            "==============================\n",
            "\n",
            "Input Sentence: could i sit on the aisle\n",
            "Actual Translation:  ¿me podría sentar en el pasillo \n",
            "Predicted Translation 0:  no quiero ver \n",
            "Predicted Translation 1:  no me ver \n",
            "Predicted Translation 2:  no he ver \n",
            "Predicted Translation 3:  no te ver \n",
            "Predicted Translation 4:  no quise ver \n",
            "==============================\n",
            "\n",
            "Input Sentence: it was too expensive\n",
            "Actual Translation:  era demasiado caro \n",
            "Predicted Translation 0:  nosotros nos sentamos en el hospital \n",
            "Predicted Translation 1:  nosotros nos encontramos en el hospital \n",
            "Predicted Translation 2:  nosotros nos quedamos en el hospital \n",
            "Predicted Translation 3:  nosotros nos sentamos en la hospital \n",
            "Predicted Translation 4:  nosotros nos encontramos en la hospital \n",
            "==============================\n",
            "\n",
            "Input Sentence: hows tom going to do it\n",
            "Actual Translation:  ¿cómo lo va a hacer tom \n",
            "Predicted Translation 0:  vi a la escuela a mi habitación \n",
            "Predicted Translation 1:  vi a la tienda a mi habitación \n",
            "Predicted Translation 2:  vi a mi escuela a mi habitación \n",
            "Predicted Translation 3:  vi a mi tienda a mi habitación \n",
            "Predicted Translation 4:  vi a la escuela a mi número \n",
            "==============================\n",
            "\n",
            "Input Sentence: i never forget a face\n",
            "Actual Translation:  nunca se me olvida una cara \n",
            "Predicted Translation 0:  por favor espere \n",
            "Predicted Translation 1:  por favor ven \n",
            "Predicted Translation 2:  por favor despiértame \n",
            "Predicted Translation 3:  por favor esper\n",
            "Predicted Translation 4:  por favor se \n",
            "==============================\n",
            "\n",
            "Input Sentence: thats mine\n",
            "Actual Translation:  eso es mío \n",
            "Predicted Translation 0:  tom no tiene miedo de los niños de lo que \n",
            "Predicted Translation 1:  tom no tiene miedo de los niños de lo que\n",
            "Predicted Translation 2:  tom no tiene miedo de los niños de lo qu\n",
            "Predicted Translation 3:  tom no tiene miedo de los niños que lo que \n",
            "Predicted Translation 4:  tom no se miedo de los niños de lo que \n",
            "==============================\n",
            "\n",
            "Input Sentence: then we went to the theater\n",
            "Actual Translation:  después fuimos al teatro \n",
            "Predicted Translation 0:  no pude ir \n",
            "Predicted Translation 1:  no podía ir \n",
            "Predicted Translation 2:  no puedo ir \n",
            "Predicted Translation 3:  no me ir \n",
            "Predicted Translation 4:  no pude salir \n",
            "==============================\n",
            "\n",
            "Input Sentence: as soon as i can get the chance ill come for a visit\n",
            "Actual Translation:  tan pronto tenga la oportunidad vendré a hacer una visita \n",
            "Predicted Translation 0:  el problema de ser de tom \n",
            "Predicted Translation 1:  el problema de ser capaz tom \n",
            "Predicted Translation 2:  el problema de tom de tom \n",
            "Predicted Translation 3:  el problema de tom capaz tom \n",
            "Predicted Translation 4:  el problema de ser demasiado tom \n",
            "==============================\n",
            "\n",
            "Input Sentence: suddenly all the lights went out\n",
            "Actual Translation:  de repente todas las luces se apagaron \n",
            "Predicted Translation 0:  esta casa es mía \n",
            "Predicted Translation 1:  esta casa es de \n",
            "Predicted Translation 2:  esta casa es una \n",
            "Predicted Translation 3:  esta casa es como \n",
            "Predicted Translation 4:  esta casa es normal \n",
            "==============================\n",
            "\n",
            "Input Sentence: this tv was made in china\n",
            "Actual Translation:  este televisor fue fabricado en china \n",
            "Predicted Translation 0:  ¿está la verdad \n",
            "Predicted Translation 1:  ¿está a verdad \n",
            "Predicted Translation 2:  ¿está de verdad \n",
            "Predicted Translation 3:  tal la verdad \n",
            "Predicted Translation 4:  lo la verdad \n",
            "==============================\n",
            "\n",
            "Input Sentence: i once wanted to be an astrophysicist\n",
            "Actual Translation:  una vez quise ser astrofísico \n",
            "Predicted Translation 0:  el barco se ha sido un terremoto en el agua que s\n",
            "Predicted Translation 1:  el barco se ha sido un terremoto en el agua que se equi\n",
            "Predicted Translation 2:  el barco se ha sido un terremoto en el agua que \n",
            "Predicted Translation 3:  el barco se ha sido un incendio en el agua que s\n",
            "Predicted Translation 4:  el agua se ha sido un terremoto en el agua que s\n",
            "==============================\n",
            "\n",
            "Input Sentence: hes not smart enough to work it out in his head\n",
            "Actual Translation:  él no es lo bastante inteligente como para hacer cuentas con la cabeza \n",
            "Predicted Translation 0:  la muerte se rieron \n",
            "Predicted Translation 1:  la muerte se puso \n",
            "Predicted Translation 2:  la guerra se rieron \n",
            "Predicted Translation 3:  la muerte de rieron \n",
            "Predicted Translation 4:  la muerte se rio \n",
            "==============================\n",
            "\n"
          ],
          "name": "stdout"
        }
      ]
    },
    {
      "cell_type": "code",
      "metadata": {
        "id": "o6ePOWT0FnAs",
        "colab_type": "code",
        "colab": {}
      },
      "source": [
        ""
      ],
      "execution_count": 0,
      "outputs": []
    }
  ]
}