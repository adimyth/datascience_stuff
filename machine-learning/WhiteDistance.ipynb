{
 "cells": [
  {
   "cell_type": "markdown",
   "metadata": {},
   "source": [
    "# White Distance\n",
    "\n",
    "The algorithm was driven by the following requirements:\n",
    "\n",
    "**A true reflection of lexical similarity** - Strings with small differences should be recognised as being similar. In particular, a significant substring overlap should point to a high level of similarity between the strings.\n",
    "\n",
    "**A robustness to changes of word order** - Two strings which contain the same words, but in a different order, should be recognised as being similar. On the other hand, if one string is just a random anagram of the characters contained in the other, then it should (usually) be recognised as dissimilar.\n",
    "\n",
    "**Language Independence** - The algorithm should work not only in English, but in many different languages.\n",
    "\n",
    "> Find out how many adjacent character pairs are contained in both strings.\n",
    "\n",
    "## Steps\n",
    "1. Convert the words to upper case; making them insensitive to case differences\n",
    "2. Split the words into character pairs\n",
    "3. Apply the formula -\n",
    "![formula](http://www.catalysoft.com/images/howtostrikeamatch001.gif)\n",
    "\n",
    "**Example** -\n",
    "\n",
    "Input words are *France* and *French*\n",
    "\n",
    "1. Capitalise them to *FRANCE* & *FRENCH*\n",
    "2. Create pairs - *FRANCE*: {FR, RA, AN, NC, CE} & *FRENCH*: {FR, RE, EN, NC, CH}\n",
    "3. ![example](http://www.catalysoft.com/images/howtostrikeamatch002.gif)\n",
    "\n",
    "\n"
   ]
  },
  {
   "cell_type": "code",
   "execution_count": 1,
   "metadata": {},
   "outputs": [],
   "source": [
    "from collections import Counter"
   ]
  },
  {
   "cell_type": "code",
   "execution_count": 2,
   "metadata": {},
   "outputs": [],
   "source": [
    "def upper_case(s):\n",
    "    return s.upper()"
   ]
  },
  {
   "cell_type": "code",
   "execution_count": 3,
   "metadata": {},
   "outputs": [],
   "source": [
    "def get_pairs(s):\n",
    "    pairs = []\n",
    "    words = s.strip().split(' ')\n",
    "    for word in words:\n",
    "        for idx in range(len(word)-1):\n",
    "            pairs.append(word[idx:idx+2])\n",
    "    return pairs"
   ]
  },
  {
   "cell_type": "code",
   "execution_count": 4,
   "metadata": {},
   "outputs": [],
   "source": [
    "def get_similarity(s1, s2):\n",
    "    s1 = upper_case(s1)\n",
    "    s2 = upper_case(s2)\n",
    "    p1 = get_pairs(s1)\n",
    "    p2 = get_pairs(s2)\n",
    "#   nr = 2*len(set(p1).intersection(set(p2)))\n",
    "    nr = 2*len(list((Counter(p1) & Counter(p2)).elements()))\n",
    "    dr = len(p1)+len(p2)\n",
    "    return nr/dr"
   ]
  },
  {
   "cell_type": "code",
   "execution_count": 5,
   "metadata": {},
   "outputs": [
    {
     "data": {
      "text/plain": [
       "0.4"
      ]
     },
     "execution_count": 5,
     "metadata": {},
     "output_type": "execute_result"
    }
   ],
   "source": [
    "get_similarity(\"france\", \"french\")"
   ]
  },
  {
   "cell_type": "markdown",
   "metadata": {},
   "source": [
    "**Single Words**"
   ]
  },
  {
   "cell_type": "code",
   "execution_count": 6,
   "metadata": {},
   "outputs": [],
   "source": [
    "target_string = \"Healed\"\n",
    "match_strings = ['Heard', 'Healthy', 'Help', 'Herded', 'Sealed', 'Sold']"
   ]
  },
  {
   "cell_type": "code",
   "execution_count": 7,
   "metadata": {},
   "outputs": [
    {
     "name": "stdout",
     "output_type": "stream",
     "text": [
      "================================================================================\n",
      "Healed\n",
      "Heard\n",
      "Similarity: 44.44%\n",
      "================================================================================\n",
      "Healed\n",
      "Healthy\n",
      "Similarity: 54.55%\n",
      "================================================================================\n",
      "Healed\n",
      "Help\n",
      "Similarity: 25.00%\n",
      "================================================================================\n",
      "Healed\n",
      "Herded\n",
      "Similarity: 40.00%\n",
      "================================================================================\n",
      "Healed\n",
      "Sealed\n",
      "Similarity: 80.00%\n",
      "================================================================================\n",
      "Healed\n",
      "Sold\n",
      "Similarity: 0.00%\n"
     ]
    }
   ],
   "source": [
    "for match in match_strings:\n",
    "    print(\"=\"*80)\n",
    "    print(f\"{target_string}\\n{match}\")\n",
    "    print(f\"Similarity: {get_similarity(target_string, match)*100:.2f}%\")"
   ]
  },
  {
   "cell_type": "code",
   "execution_count": null,
   "metadata": {},
   "outputs": [],
   "source": []
  },
  {
   "cell_type": "markdown",
   "metadata": {},
   "source": [
    "**Sentences**"
   ]
  },
  {
   "cell_type": "code",
   "execution_count": 8,
   "metadata": {},
   "outputs": [],
   "source": [
    "target_string = \"Web Database Applications\"\n",
    "match_strings = [\"Web Database Applications with PHP & MySQL\",\n",
    "                 \"Creating Database Web Applications with PHP and ASP\", \n",
    "                 \"Building Database Applications on the Web Using PHP3\"]"
   ]
  },
  {
   "cell_type": "code",
   "execution_count": 9,
   "metadata": {},
   "outputs": [
    {
     "name": "stdout",
     "output_type": "stream",
     "text": [
      "================================================================================\n",
      "Web Database Applications\n",
      "Web Database Applications with PHP & MySQL\n",
      "Similarity: 81.63%\n",
      "================================================================================\n",
      "Web Database Applications\n",
      "Creating Database Web Applications with PHP and ASP\n",
      "Similarity: 71.43%\n",
      "================================================================================\n",
      "Web Database Applications\n",
      "Building Database Applications on the Web Using PHP3\n",
      "Similarity: 70.18%\n"
     ]
    }
   ],
   "source": [
    "for match in match_strings:\n",
    "    print(\"=\"*80)\n",
    "    print(f\"{target_string}\\n{match}\")\n",
    "    print(f\"Similarity: {get_similarity(target_string, match)*100:.2f}%\")"
   ]
  },
  {
   "cell_type": "code",
   "execution_count": null,
   "metadata": {},
   "outputs": [],
   "source": []
  }
 ],
 "metadata": {
  "kernelspec": {
   "display_name": "Python 3",
   "language": "python",
   "name": "python3"
  },
  "language_info": {
   "codemirror_mode": {
    "name": "ipython",
    "version": 3
   },
   "file_extension": ".py",
   "mimetype": "text/x-python",
   "name": "python",
   "nbconvert_exporter": "python",
   "pygments_lexer": "ipython3",
   "version": "3.7.3"
  }
 },
 "nbformat": 4,
 "nbformat_minor": 2
}
