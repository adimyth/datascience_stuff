{
 "cells": [
  {
   "cell_type": "markdown",
   "metadata": {
    "toc": true
   },
   "source": [
    "<h1>Table of Contents<span class=\"tocSkip\"></span></h1>\n",
    "<div class=\"toc\"><ul class=\"toc-item\"><li><span><a href=\"#Dual-Numbers\" data-toc-modified-id=\"Dual-Numbers-1\"><span class=\"toc-item-num\">1&nbsp;&nbsp;</span>Dual Numbers</a></span><ul class=\"toc-item\"><li><span><a href=\"#Basic-Arithmetic\" data-toc-modified-id=\"Basic-Arithmetic-1.1\"><span class=\"toc-item-num\">1.1&nbsp;&nbsp;</span>Basic Arithmetic</a></span><ul class=\"toc-item\"><li><span><a href=\"#Addition\" data-toc-modified-id=\"Addition-1.1.1\"><span class=\"toc-item-num\">1.1.1&nbsp;&nbsp;</span>Addition</a></span></li><li><span><a href=\"#Subtraction\" data-toc-modified-id=\"Subtraction-1.1.2\"><span class=\"toc-item-num\">1.1.2&nbsp;&nbsp;</span>Subtraction</a></span></li><li><span><a href=\"#Multiplication\" data-toc-modified-id=\"Multiplication-1.1.3\"><span class=\"toc-item-num\">1.1.3&nbsp;&nbsp;</span>Multiplication</a></span></li><li><span><a href=\"#Division\" data-toc-modified-id=\"Division-1.1.4\"><span class=\"toc-item-num\">1.1.4&nbsp;&nbsp;</span>Division</a></span></li><li><span><a href=\"#Power\" data-toc-modified-id=\"Power-1.1.5\"><span class=\"toc-item-num\">1.1.5&nbsp;&nbsp;</span>Power</a></span></li></ul></li></ul></li><li><span><a href=\"#Automatic-Differentation\" data-toc-modified-id=\"Automatic-Differentation-2\"><span class=\"toc-item-num\">2&nbsp;&nbsp;</span>Automatic Differentation</a></span><ul class=\"toc-item\"><li><span><a href=\"#Observations\" data-toc-modified-id=\"Observations-2.1\"><span class=\"toc-item-num\">2.1&nbsp;&nbsp;</span>Observations</a></span></li><li><span><a href=\"#Implementation\" data-toc-modified-id=\"Implementation-2.2\"><span class=\"toc-item-num\">2.2&nbsp;&nbsp;</span>Implementation</a></span></li></ul></li><li><span><a href=\"#Higher-Order-Derivatives\" data-toc-modified-id=\"Higher-Order-Derivatives-3\"><span class=\"toc-item-num\">3&nbsp;&nbsp;</span>Higher-Order Derivatives</a></span><ul class=\"toc-item\"><li><span><a href=\"#Basic-Arithmetic\" data-toc-modified-id=\"Basic-Arithmetic-3.1\"><span class=\"toc-item-num\">3.1&nbsp;&nbsp;</span>Basic Arithmetic</a></span><ul class=\"toc-item\"><li><span><a href=\"#Addition\" data-toc-modified-id=\"Addition-3.1.1\"><span class=\"toc-item-num\">3.1.1&nbsp;&nbsp;</span>Addition</a></span></li><li><span><a href=\"#Subtraction\" data-toc-modified-id=\"Subtraction-3.1.2\"><span class=\"toc-item-num\">3.1.2&nbsp;&nbsp;</span>Subtraction</a></span></li><li><span><a href=\"#Multiplication\" data-toc-modified-id=\"Multiplication-3.1.3\"><span class=\"toc-item-num\">3.1.3&nbsp;&nbsp;</span>Multiplication</a></span></li><li><span><a href=\"#Division\" data-toc-modified-id=\"Division-3.1.4\"><span class=\"toc-item-num\">3.1.4&nbsp;&nbsp;</span>Division</a></span></li><li><span><a href=\"#Power\" data-toc-modified-id=\"Power-3.1.5\"><span class=\"toc-item-num\">3.1.5&nbsp;&nbsp;</span>Power</a></span></li></ul></li><li><span><a href=\"#Implementation\" data-toc-modified-id=\"Implementation-3.2\"><span class=\"toc-item-num\">3.2&nbsp;&nbsp;</span>Implementation</a></span></li></ul></li><li><span><a href=\"#Further-Work\" data-toc-modified-id=\"Further-Work-4\"><span class=\"toc-item-num\">4&nbsp;&nbsp;</span>Further Work</a></span></li></ul></div>"
   ]
  },
  {
   "cell_type": "code",
   "execution_count": null,
   "metadata": {},
   "outputs": [],
   "source": []
  },
  {
   "cell_type": "markdown",
   "metadata": {},
   "source": [
    "# Dual Numbers\n",
    "Dual number of a real number $a$ is of the form $a+b\\epsilon$ where $\\epsilon$ is a very small number such that $\\epsilon^2=0$, meaning that it is a very small number & $b$ is usually 1.\n",
    "\n",
    "## Basic Arithmetic\n",
    "### Addition\n",
    "Adding two dual numbers is similar to adding two complex numbers, we deal with real and dual numbers seperately.\n",
    "$$(3 + 4\\epsilon) + (1 + 2\\epsilon) = 4 + 6\\epsilon$$\n",
    "\n",
    "### Subtraction\n",
    "$$(3 + 4\\epsilon) - (1 + 2\\epsilon) = 2 + 2\\epsilon$$\n",
    "\n",
    "### Multiplication\n",
    "For multiplying two dual numbers, we use FOIL(Firsts, Outers, Inners, Lasts) techniques.\n",
    "$$(3+4\\epsilon)*(1+2\\epsilon)$$\n",
    "$$3+8\\epsilon^2+4\\epsilon+6\\epsilon$$\n",
    "$$3+10\\epsilon+8\\epsilon^2$$\n",
    "since $\\epsilon^2=0$\n",
    "$$3+10\\epsilon$$\n",
    "\n",
    "Generalizing, $(a+b\\epsilon)*(c+d\\epsilon)$,results in - \n",
    "$$ac+(bc+ad)\\epsilon$$\n",
    "\n",
    "### Division\n",
    "Dividing one dual number by other involves taking the conjugate of the divisor.\n",
    "$$\\frac{(3+4\\epsilon)}{(1+2\\epsilon)}$$\n",
    "taking conjugates of the denominator\n",
    "$$\\frac{(3+4\\epsilon)*(1-2\\epsilon)}{(1+2\\epsilon)*(1-2\\epsilon)}$$\n",
    "\n",
    "$$\\frac{3+4\\epsilon-6\\epsilon-8\\epsilon^2}{1-4\\epsilon^2}$$\n",
    "since $\\epsilon^2=0$\n",
    "$$\\frac{(3-2\\epsilon)}{1}$$\n",
    "Seperating the numerator\n",
    "$$3-(2\\epsilon)$$\n",
    "\n",
    "\n",
    "Essentially, if numerator is $(a+b\\epsilon)$ and denominator is $(c+d\\epsilon)$, then division results in - \n",
    "$$\\frac{a}{c}+\\frac{(bc-ad)}{c^2}\\epsilon$$\n",
    "\n",
    "### Power\n",
    "$$\\begin{align*}\n",
    "(a+b\\epsilon)^{c+d\\epsilon} &= e^{ (c+d\\epsilon)\\log(a+b\\epsilon) } \n",
    "  & a=e^{\\log a} &;  \\log a^n=n\\log(a)\\\\\n",
    "&=e^{ (c+d\\epsilon)(\\log a+\\log(1+\\frac{b}{a}\\epsilon))} \n",
    "  & \\log(a+b)=\\log(a)+\\log(1+\\frac{b}{a})\\\\\n",
    "&=e^{ (c+d\\epsilon)(\\log a+b\\epsilon/a) } \n",
    "  & \\log(1+a)=a\\\\\n",
    "&=e^{ c\\log a+\\epsilon(d\\log a+b c/a) }& (a+b\\epsilon)(c+d\\epsilon)=ac+(bc+ad)\\epsilon\\\\\n",
    "&=e^{c\\log a+\\epsilon d\\log a}\\,e^{ \\epsilon \\frac{b\\,c}{a} }\\\\\n",
    "&=e^{\\log a (c+\\epsilon d)}\\,e^{ \\epsilon \\frac{b\\,c}{a} } \\\\\n",
    "&=(e^{\\log a})^{(c+\\epsilon d)}\\,e^{ \\epsilon \\frac{b\\,c}{a} }\n",
    "    & a^{mn}=(a^{m})^{n}\\\\\n",
    "&=a^{c+\\epsilon d}\\,e^{\\epsilon \\frac{b\\,c}{a}}\n",
    "    & e^{\\log a}=a\n",
    "\\end{align*}$$"
   ]
  },
  {
   "cell_type": "code",
   "execution_count": null,
   "metadata": {},
   "outputs": [],
   "source": []
  },
  {
   "cell_type": "markdown",
   "metadata": {},
   "source": [
    "# Automatic Differentation\n",
    "\n",
    "Automatic Differentiation allows you to calculate the derivative of a function while calculating the value of the function. Essentially, we get both the value $f(x)$ and $f'(x)$.\n",
    "\n",
    "Taylor Series is - \n",
    "![TaylorSeries](https://wikimedia.org/api/rest_v1/media/math/render/svg/46dd2bf78ad7d792988cf616a6ea94024f30b3d9)\n",
    "\n",
    "Instead of approximating $f$ at about a real number $a$, if we instead approximate it about it's dual number $a+\\epsilon$, we end up with the expression -\n",
    "![TaylorSeries](https://miro.medium.com/max/1052/1*dieW9KTLFmDG2hc7wzzKmw.gif)\n",
    "\n",
    "Since $\\epsilon^2=0$, all the terms after the second term end up being $0$. So, the expression simplifies to -\n",
    "![automatic-differentiation](https://miro.medium.com/max/628/1*x6s9-ZrFy6sA1SRYit-4fw.gif)\n",
    "\n",
    "\n",
    "While performing any binary operation between a real number and a dual number, we convert real number to it's dual form using 0 for the dual component. For example; calculating $3x$ at $x=4+1\\epsilon$\n",
    "\n",
    "Convert $3$ to it's dual form: $3+0\\epsilon$.\n",
    "\n",
    "$$(3+0\\epsilon)*(4+1\\epsilon)$$\n",
    "$$12+0\\epsilon+3\\epsilon+0\\epsilon^2$$\n",
    "$$12+3\\epsilon$$\n",
    "\n",
    "\n",
    "Instead of calculating $f(a)$ if we calculate the function's value for it's dual number i.e. $f(a+b\\epsilon)$, we end up getting $f(a)$ and $f'(a)$ both. For example, we will start with $f(x)=3x+2$ and calculate $f(4)$ and $f'(4)$.\n",
    "\n",
    "* **Step1** - We convert our $4$ into a dual number, using $1$ for the dual component. It gives us $4+1\\epsilon$\n",
    "* **Step2** - Similarily, we convert the constant $3$ in $3x+4$ into a dual number, using $0$ for the dual component.\n",
    "* **Step3** - Perform multiplication as did in previous section\n",
    "$$(3+0\\epsilon)*(4+1\\epsilon)$$\n",
    "$$12+0\\epsilon+3\\epsilon+0\\epsilon^2$$\n",
    "$$12+3\\epsilon$$\n",
    "* **Step4** - Lastly, we need to add the constant 2, using 0 again for the dual component since it’s just a constant.\n",
    "$$(12+3\\epsilon)+(2+0\\epsilon)$$\n",
    "$$14+3\\epsilon$$\n",
    "* **Step5** - In the result above the real component $14$ gives us $f(x=4)$ and the dual component gives $f'(x=4)$\n",
    "\n",
    "This way we can calculate the value as well as the derivative of any function at any value by calculating it's value for the corresponding dual number."
   ]
  },
  {
   "cell_type": "markdown",
   "metadata": {},
   "source": [
    "## Observations\n",
    "\n",
    "1. We have a completely mechanical way to evaluate derivatives at a point. **This mechanism works for any function that can be composed out of the primitive operations that we have extended to dual numbers.** \n",
    "2. It turns every arithmetic operation into a fixed number of new arithmetic operations, so the **arithmetic cost goes up by a small constant factor.** For example, addition requires 2 extra steps. Similarily, multiplication requires 3 additional steps and so on. \n",
    "3. We also do not introduce any gross numerical sins, so we can reasonably expect the accuracy of the derivative to be no worse than that of the primal computation.3"
   ]
  },
  {
   "cell_type": "code",
   "execution_count": null,
   "metadata": {},
   "outputs": [],
   "source": []
  },
  {
   "cell_type": "markdown",
   "metadata": {},
   "source": [
    "## Implementation"
   ]
  },
  {
   "cell_type": "code",
   "execution_count": 2,
   "metadata": {},
   "outputs": [],
   "source": [
    "from scipy.misc import derivative"
   ]
  },
  {
   "cell_type": "code",
   "execution_count": 10,
   "metadata": {},
   "outputs": [],
   "source": [
    "class DualNumber:\n",
    "    def __init__(self, real, dual):\n",
    "        self.real = real\n",
    "        self.dual = dual\n",
    "\n",
    "    def __add__(self, other):\n",
    "        if isinstance(other, DualNumber):\n",
    "            return DualNumber(self.real + other.real, \n",
    "                              self.dual + other.dual)\n",
    "        else:\n",
    "            return DualNumber(self.real + other, self.dual)\n",
    "    # addition is commutative\n",
    "    __radd__ = __add__\n",
    "\n",
    "    def __sub__(self, other):\n",
    "        if isinstance(other, DualNumber):\n",
    "            return DualNumber(self.real - other.real,\n",
    "                              self.dual - other.dual)\n",
    "        else:\n",
    "            return DualNumber(self.real - other, self.dual)\n",
    "\n",
    "    def __rsub__(self, other):\n",
    "        return DualNumber(other, 0) - self\n",
    "\n",
    "    def __mul__(self, other):\n",
    "        if isinstance(other, DualNumber):\n",
    "            return DualNumber(self.real * other.real,\n",
    "                              self.real * other.dual + self.dual * other.real)\n",
    "        else:\n",
    "            return DualNumber(self.real * other, self.dual * other)\n",
    "    # multiplication is commutative\n",
    "    __rmul__ = __mul__\n",
    "\n",
    "    def __div__(self, other):\n",
    "        if isinstance(other, DualNumber):\n",
    "            return DualNumber(self.real/other.real,\n",
    "                              (self.dual*other.real - self.real*other.dual)/(other.real**2))\n",
    "        else:\n",
    "            return (1/other) * self\n",
    "\n",
    "    def __rtruediv__(self, other):\n",
    "        return DualNumber(other, 0).__div__(self)\n",
    "\n",
    "    def __pow__(self, other):\n",
    "        return DualNumber(self.real**other,\n",
    "                          self.dual * other * self.real**(other - 1))\n",
    "\n",
    "    def __repr__(self):\n",
    "        return repr(self.real) + ' + ' + repr(self.dual) + '*epsilon'"
   ]
  },
  {
   "cell_type": "code",
   "execution_count": 11,
   "metadata": {},
   "outputs": [],
   "source": [
    "def auto_diff(f, x):\n",
    "    return f(DualNumber(x, 1.)).dual"
   ]
  },
  {
   "cell_type": "markdown",
   "metadata": {},
   "source": [
    "$$f(x)=1/x^5$$"
   ]
  },
  {
   "cell_type": "code",
   "execution_count": 27,
   "metadata": {},
   "outputs": [
    {
     "name": "stdout",
     "output_type": "stream",
     "text": [
      "[AUTODIFF] f'(0.1): -5000000.0000\n",
      "[SCIPY] f'(0.1): -5000000.0035\n"
     ]
    }
   ],
   "source": [
    "x = 0.1\n",
    "f = lambda x: 1./x**5\n",
    "print(f\"[AUTODIFF] f'({x}): {auto_diff(f, x):.4f}\") \n",
    "print(f\"[SCIPY] f'({x}): {derivative(f, x0=x, n=1, dx=1e-6):.4f}\")"
   ]
  },
  {
   "cell_type": "markdown",
   "metadata": {},
   "source": [
    "$$f(x)=5x^2+4x+1$$"
   ]
  },
  {
   "cell_type": "code",
   "execution_count": 26,
   "metadata": {},
   "outputs": [
    {
     "name": "stdout",
     "output_type": "stream",
     "text": [
      "[AUTODIFF] f'(2): 24.0000\n",
      "[SCIPY] f'(2): 24.0000\n"
     ]
    }
   ],
   "source": [
    "x = 2\n",
    "f = lambda x: 5*(x**2)+4*x+1\n",
    "print(f\"[AUTODIFF] f'({x}): {auto_diff(f, x):.4f}\") \n",
    "print(f\"[SCIPY] f'({x}): {derivative(f, x0=x, n=1, dx=1e-6):.4f}\")"
   ]
  },
  {
   "cell_type": "code",
   "execution_count": null,
   "metadata": {},
   "outputs": [],
   "source": []
  },
  {
   "cell_type": "markdown",
   "metadata": {},
   "source": [
    "# Higher-Order Derivatives\n",
    "\n",
    "\n",
    "How to extend this to say calculating second or third derivatives? Does automatic differentation hold for higher order derivatives? If yes, then what changes? For example, I read somewhere that for calculating second-order derivative, we have to make sure that $\\epsilon^3=0$ instead of $\\epsilon^2$. \n",
    "\n",
    "If this holds true, then we can expand the derivation in the previous section, by adding yet another term $\\frac{f''(x)}{2!}\\epsilon^2$\n",
    "\n",
    "![AutomaticDifferentiation](http://latex2png.com/pngs/ccfe8be65fc072f3ac563949c27bdba9.png)\n",
    "\n",
    "In this scenario, ***Addition & Subtraction*** still remain unchanged as they do not contain any squared dual components. However, ***Multiplication & Divison*** change.\n",
    "\n",
    "Let $\\epsilon^3=10^{-12}$, a really small number. Then $\\epsilon^2\\approx=10^{-8}$ which is still relatively small & will usually have any effect when computated w.r.t any other $\\epsilon^2$ term only. Otherwise, I guess, we can safely ignore it when evaluated with real numbers only."
   ]
  },
  {
   "cell_type": "code",
   "execution_count": 12,
   "metadata": {},
   "outputs": [],
   "source": [
    "epsilon_cube = 1e-12"
   ]
  },
  {
   "cell_type": "code",
   "execution_count": 13,
   "metadata": {},
   "outputs": [],
   "source": [
    "epsilon = np.power(epsilon_cube, 1/3)\n",
    "epsilon_sqr = np.power(epsilon, 2)"
   ]
  },
  {
   "cell_type": "code",
   "execution_count": 20,
   "metadata": {},
   "outputs": [
    {
     "name": "stdout",
     "output_type": "stream",
     "text": [
      "ε^3: 1e-12\n",
      "ε^2: 1.000000e-08\n",
      "ε: 1.000000e-04\n"
     ]
    }
   ],
   "source": [
    "print(f\"ε^3: {epsilon_cube:1}\")\n",
    "print(f\"ε^2: {epsilon_sqr:1e}\")\n",
    "print(f\"ε: {epsilon:1e}\")"
   ]
  },
  {
   "cell_type": "code",
   "execution_count": null,
   "metadata": {},
   "outputs": [],
   "source": []
  },
  {
   "cell_type": "markdown",
   "metadata": {},
   "source": [
    "## Basic Arithmetic\n",
    "\n",
    "### Addition\n",
    "$$(a+b\\epsilon+c\\epsilon^2)+(x+y\\epsilon+z\\epsilon^2)=(a+x)+(b+y)\\epsilon+(c+z)\\epsilon^2$$\n",
    "\n",
    "### Subtraction\n",
    "$$(a+b\\epsilon+c\\epsilon^2)-(x+y\\epsilon+z\\epsilon^2)=(a-x)+(b-y)\\epsilon+(c-z)\\epsilon^2$$\n",
    "\n",
    "### Multiplication\n",
    "$(a+b\\epsilon+c\\epsilon^2)*(x+y\\epsilon+z\\epsilon^2)$, results in - \n",
    "$$ax+(ay+bx)\\epsilon+(az+by+cx)\\epsilon^2$$\n",
    "\n",
    "### Division\n",
    "$$\\frac{(a+b\\epsilon+c\\epsilon^2)}{(x+y\\epsilon+z\\epsilon^2)}$$\n",
    "\n",
    "assume, $x$ and $\\epsilon(y+z\\epsilon)$ as different terms and then apply conjugates\n",
    "\n",
    "$$\\frac{(a+b\\epsilon+c\\epsilon^2)*(x-\\epsilon(y+z\\epsilon))}{(x+\\epsilon(y+z\\epsilon))*(x-\\epsilon(y+z\\epsilon))}$$\n",
    "\n",
    "$$\\frac{ax+(bx-ay)\\epsilon-(az+by+cx)\\epsilon^2}{x^2-y^2\\epsilon^2}$$\n",
    "\n",
    "as per the comments in above section, we can ignore $\\epsilon^2$ term in the denominator for the first two terms\n",
    "\n",
    "$$\\frac{a}{x}+\\frac{(bx-ay)}{x^2}\\epsilon-\\frac{(az+by+cx)}{x^2-y^2\\epsilon^2}\\epsilon^2$$\n",
    "\n",
    "### Power"
   ]
  },
  {
   "cell_type": "code",
   "execution_count": null,
   "metadata": {},
   "outputs": [],
   "source": []
  },
  {
   "cell_type": "markdown",
   "metadata": {},
   "source": [
    "## Implementation"
   ]
  },
  {
   "cell_type": "code",
   "execution_count": null,
   "metadata": {},
   "outputs": [],
   "source": [
    "class DualNumber:\n",
    "    def __init__(self, real, dual, dual_sq):\n",
    "        self.real = real\n",
    "        self.dual = dual\n",
    "        self.dual_sq = dual_sq\n",
    "\n",
    "    def __add__(self, other):\n",
    "        if isinstance(other, DualNumber):\n",
    "            return DualNumber(self.real+other.real, \n",
    "                              self.dual+other.dual, \n",
    "                              self.dual_sq+other.dual_sq)\n",
    "        else:\n",
    "            return DualNumber(self.real+other, self.dual, self.dual_sq)\n",
    "\n",
    "    # addition is commutative\n",
    "    __radd__ = __add__\n",
    "\n",
    "    def __sub__(self, other):\n",
    "        if isinstance(other, DualNumber):\n",
    "            return DualNumber(self.real-other.real,\n",
    "                              self.dual-other.dual, \n",
    "                              self.dual_sq-other.dual_sq)\n",
    "        else:\n",
    "            return DualNumber(self.real-other, self.dual, self.dual_sq)\n",
    "\n",
    "    def __rsub__(self, other):\n",
    "        return DualNumber(other, 0, 0) - self\n",
    "\n",
    "    def __mul__(self, other):\n",
    "        if isinstance(other, DualNumber):\n",
    "            return DualNumber(self.real*other.real,\n",
    "                              self.real*other.dual+self.dual*other.real, \n",
    "                              self.real*other.dual_sq+self.dual*other.dual+self.dual_sq*other.real)\n",
    "        else:\n",
    "            return DualNumber(self.real*other, \n",
    "                              self.dual*other, \n",
    "                              self.dual_sq*other)\n",
    "    # multiplication is commutative\n",
    "    __rmul__ = __mul__\n",
    "\n",
    "    def __div__(self, other):\n",
    "        if isinstance(other, DualNumber):\n",
    "            return DualNumber(self.real/other.real,\n",
    "                              (self.dual*other.real - self.real*other.dual)/(other.real**2))\n",
    "        else:\n",
    "            return (1/other) * self\n",
    "\n",
    "    def __rtruediv__(self, other):\n",
    "        return DualNumber(other, 0).__div__(self)\n",
    "\n",
    "    def __pow__(self, other):\n",
    "        return DualNumber(self.real**other,\n",
    "                          self.dual * other * self.real**(other - 1))\n",
    "\n",
    "    def __repr__(self):\n",
    "        return repr(self.real) + ' + ' + repr(self.dual) + '*epsilon'"
   ]
  },
  {
   "cell_type": "code",
   "execution_count": null,
   "metadata": {},
   "outputs": [],
   "source": []
  },
  {
   "cell_type": "markdown",
   "metadata": {},
   "source": [
    "# Further Work\n",
    "**Point 1**\n",
    "\n",
    "It's clear that since the other numbers(5,3) are just constant in say $5x+3$, we consider 0 for their *dual component*. But, what is the thing about choosing $1$ for *dual components* while calculating $f(x)$ as $f(x+1\\epsilon)$? \n",
    "\n",
    "$$\\left. \\frac{df(x)}{dx}\\right|_x = \\textrm{epsilon-coefficient}(\\textrm{dual-version}(f)(x+1\\epsilon)).$$\n",
    "\n",
    "<br><br><br>\n",
    "\n",
    "**Point 2**\n",
    "As far as I could think of, automatic differentiation worked becuase all of the above functions were composed of basic primary operations. How would things work if something like non-linear functions or arbitrary functions jump in? I mean, Taylor series gives a good approximation of $sin(x), cos(x)$ or any function at any point for that matter, so will we have to integrate them as some sort of class method in the above class? Unclear about it at this point.\n",
    "\n"
   ]
  },
  {
   "cell_type": "code",
   "execution_count": null,
   "metadata": {},
   "outputs": [],
   "source": []
  }
 ],
 "metadata": {
  "kernelspec": {
   "display_name": "Python 3",
   "language": "python",
   "name": "python3"
  },
  "language_info": {
   "codemirror_mode": {
    "name": "ipython",
    "version": 3
   },
   "file_extension": ".py",
   "mimetype": "text/x-python",
   "name": "python",
   "nbconvert_exporter": "python",
   "pygments_lexer": "ipython3",
   "version": "3.7.3"
  },
  "toc": {
   "base_numbering": 1,
   "nav_menu": {},
   "number_sections": true,
   "sideBar": true,
   "skip_h1_title": false,
   "title_cell": "Table of Contents",
   "title_sidebar": "Contents",
   "toc_cell": true,
   "toc_position": {},
   "toc_section_display": true,
   "toc_window_display": true
  },
  "widgets": {
   "application/vnd.jupyter.widget-state+json": {
    "state": {},
    "version_major": 2,
    "version_minor": 0
   }
  }
 },
 "nbformat": 4,
 "nbformat_minor": 4
}
