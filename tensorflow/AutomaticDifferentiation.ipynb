{
 "cells": [
  {
   "cell_type": "markdown",
   "metadata": {},
   "source": [
    "# Dual Numbers\n",
    "Dual number of a real number $a$ is of the form $a+b\\epsilon$ where $\\epsilon$ is a very small number such that $\\epsilon^2=0$, meaning that it is a very small number & $b$ is usually 1.\n",
    "\n",
    "## Basic Arithmetic\n",
    "### Addition / Subtraction\n",
    "Adding & subtracting two dual numbers is similar to adding or subtracting two complex numbers, we deal with real and dual numbers seperately.\n",
    "$$(3 + 4\\epsilon) + (1 + 2\\epsilon) = 4 + 6\\epsilon$$\n",
    "$$(3 + 4\\epsilon) - (1 + 2\\epsilon) = 2 + 2\\epsilon$$\n",
    "\n",
    "### Multiplication\n",
    "For multiplying two dual numbers, we use FOIL(Firsts, Outers, Inners, Lasts) techniques.\n",
    "$$(3+4\\epsilon)*(1+2\\epsilon)$$\n",
    "$$3+8\\epsilon^2+4\\epsilon+6\\epsilon$$\n",
    "$$3+10\\epsilon+8\\epsilon^2$$\n",
    "since $\\epsilon^2=0$\n",
    "$$3+10\\epsilon$$\n",
    "\n",
    "Generalizing, $(a+b\\epsilon)*(c+d\\epsilon)$,results in - \n",
    "$$a*c+(b*c+a*d)\\epsilon$$\n",
    "\n",
    "### Division\n",
    "Dividing one dual number by other involves taking the conjugate of the divisor.\n",
    "$$(3+4\\epsilon)\\div(1+2\\epsilon)$$\n",
    "$$(3+4\\epsilon)*(1-2\\epsilon) \\div (1+2\\epsilon)*(1-2\\epsilon)$$\n",
    "$$(3+4\\epsilon-6*\\epsilon-8\\epsilon^2) \\div (1-4\\epsilon^2)$$\n",
    "since $\\epsilon^2=0$\n",
    "$$(3-2\\epsilon)\\div1$$\n",
    "Seperating the numerator\n",
    "$$3-(2\\epsilon)$$\n",
    "\n",
    "\n",
    "Essentially, if numerator is $(a+b\\epsilon)$ and denominator is $(c+d\\epsilon)$, then division results in - \n",
    "$$a/c+[(b*c-a*d)/c^2]\\epsilon$$"
   ]
  },
  {
   "cell_type": "code",
   "execution_count": null,
   "metadata": {},
   "outputs": [],
   "source": []
  },
  {
   "cell_type": "markdown",
   "metadata": {},
   "source": [
    "# Automatic Differentation\n",
    "\n",
    "Automatic Differentiation allows you to calculate the derivative of a function while calculating the value of the function. Essentially, we get both the value $f(x)$ and $f'(x)$\n",
    "\n",
    "While performing any binary operation between a real number and a dual number, we convert real number to it's dual form using 0 for the dual component. For example; calculating $3x$ at $x=4+1\\epsilon$\n",
    "\n",
    "Convert $3$ to it's dual form: $3+0\\epsilon$.\n",
    "\n",
    "$$(3+0\\epsilon)*(4+1\\epsilon)$$\n",
    "$$12+0\\epsilon+3\\epsilon+0\\epsilon^2$$\n",
    "$$12+3\\epsilon$$\n",
    "\n",
    "\n",
    "Instead of calculating $f(a)$ if we calculate the function's value for it's dual number i.e. $f(a+b\\epsilon)$, we end up getting $f(a)$ and $f'(a)$ both. For example, we will start with $f(x)=3x+2$ and calculate $f(4)$ and $f'(4)$.\n",
    "\n",
    "* **Step1** - We convert our $4$ into a dual number, using $1$ for the dual component. It gives us $4+1\\epsilon$\n",
    "* **Step2** - Similarily, we convert the constant $3$ in $3x+4$ into a dual number, using $0$ for the dual component.\n",
    "* **Step3** - Perform multiplication as did in previous section\n",
    "$$(3+0\\epsilon)*(4+1\\epsilon)$$\n",
    "$$12+0\\epsilon+3\\epsilon+0\\epsilon^2$$\n",
    "$$12+3\\epsilon$$\n",
    "* **Step4** - Lastly, we need to add the constant 2, using 0 again for the dual component since it’s just a constant.\n",
    "$$(12+3\\epsilon)+(2+0\\epsilon)$$\n",
    "$$14+3\\epsilon$$\n",
    "* **Step5** - In the result above the real component $14$ gives us $f(x=4)$ and the dual component gives $f'(x=4)$\n",
    "\n",
    "This way we can calculate the value as well as the derivative of any function at any value by calculating it's value for the corresponding dual number."
   ]
  },
  {
   "cell_type": "markdown",
   "metadata": {},
   "source": [
    "## Observations\n",
    "\n",
    "1. We have a completely mechanical way to evaluate derivatives at a point. **This mechanism works for any function that can be composed out of the primitive operations that we have extended to dual numbers.** \n",
    "2. It turns every arithmetic operation into a fixed number of new arithmetic operations, so the **arithmetic cost goes up by a small constant factor.** For example, addition requires 2 extra steps. Similarily, multiplication requires 3 additional steps and so on. \n",
    "3. We also do not introduce any gross numerical sins, so we can reasonably expect the accuracy of the derivative to be no worse than that of the primal computation.3"
   ]
  },
  {
   "cell_type": "code",
   "execution_count": null,
   "metadata": {},
   "outputs": [],
   "source": []
  },
  {
   "cell_type": "markdown",
   "metadata": {},
   "source": [
    "## Implementation"
   ]
  },
  {
   "cell_type": "code",
   "execution_count": 2,
   "metadata": {},
   "outputs": [],
   "source": [
    "from scipy.misc import derivative"
   ]
  },
  {
   "cell_type": "code",
   "execution_count": 10,
   "metadata": {},
   "outputs": [],
   "source": [
    "class DualNumber:\n",
    "    def __init__(self, real, dual):\n",
    "        self.real = real\n",
    "        self.dual = dual\n",
    "\n",
    "    def __add__(self, other):\n",
    "        if isinstance(other, DualNumber):\n",
    "            return DualNumber(self.real + other.real, \n",
    "                              self.dual + other.dual)\n",
    "        else:\n",
    "            return DualNumber(self.real + other, self.dual)\n",
    "    # addition is commutative\n",
    "    __radd__ = __add__\n",
    "\n",
    "    def __sub__(self, other):\n",
    "        if isinstance(other, DualNumber):\n",
    "            return DualNumber(self.real - other.real,\n",
    "                              self.dual - other.dual)\n",
    "        else:\n",
    "            return DualNumber(self.real - other, self.dual)\n",
    "\n",
    "    def __rsub__(self, other):\n",
    "        return DualNumber(other, 0) - self\n",
    "\n",
    "    def __mul__(self, other):\n",
    "        if isinstance(other, DualNumber):\n",
    "            return DualNumber(self.real * other.real,\n",
    "                              self.real * other.dual + self.dual * other.real)\n",
    "        else:\n",
    "            return DualNumber(self.real * other, self.dual * other)\n",
    "    # multiplication is commutative\n",
    "    __rmul__ = __mul__\n",
    "\n",
    "    def __div__(self, other):\n",
    "        if isinstance(other, DualNumber):\n",
    "            return DualNumber(self.real/other.real,\n",
    "                              (self.dual*other.real - self.real*other.dual)/(other.real**2))\n",
    "        else:\n",
    "            return (1/other) * self\n",
    "\n",
    "    def __rtruediv__(self, other):\n",
    "        return DualNumber(other, 0).__div__(self)\n",
    "\n",
    "    def __pow__(self, other):\n",
    "        return DualNumber(self.real**other,\n",
    "                          self.dual * other * self.real**(other - 1))\n",
    "\n",
    "    def __repr__(self):\n",
    "        return repr(self.real) + ' + ' + repr(self.dual) + '*epsilon'"
   ]
  },
  {
   "cell_type": "code",
   "execution_count": 11,
   "metadata": {},
   "outputs": [],
   "source": [
    "def auto_diff(f, x):\n",
    "    return f(DualNumber(x, 1.)).dual"
   ]
  },
  {
   "cell_type": "markdown",
   "metadata": {},
   "source": [
    "$$f(x)=1/x^5$$"
   ]
  },
  {
   "cell_type": "code",
   "execution_count": 27,
   "metadata": {},
   "outputs": [
    {
     "name": "stdout",
     "output_type": "stream",
     "text": [
      "[AUTODIFF] f'(0.1): -5000000.0000\n",
      "[SCIPY] f'(0.1): -5000000.0035\n"
     ]
    }
   ],
   "source": [
    "x = 0.1\n",
    "f = lambda x: 1./x**5\n",
    "print(f\"[AUTODIFF] f'({x}): {auto_diff(f, x):.4f}\") \n",
    "print(f\"[SCIPY] f'({x}): {derivative(f, x0=x, n=1, dx=1e-6):.4f}\")"
   ]
  },
  {
   "cell_type": "markdown",
   "metadata": {},
   "source": [
    "$$f(x)=5x^2+4x+1$$"
   ]
  },
  {
   "cell_type": "code",
   "execution_count": 26,
   "metadata": {},
   "outputs": [
    {
     "name": "stdout",
     "output_type": "stream",
     "text": [
      "[AUTODIFF] f'(2): 24.0000\n",
      "[SCIPY] f'(2): 24.0000\n"
     ]
    }
   ],
   "source": [
    "x = 2\n",
    "f = lambda x: 5*(x**2)+4*x+1\n",
    "print(f\"[AUTODIFF] f'({x}): {auto_diff(f, x):.4f}\") \n",
    "print(f\"[SCIPY] f'({x}): {derivative(f, x0=x, n=1, dx=1e-6):.4f}\")"
   ]
  },
  {
   "cell_type": "code",
   "execution_count": null,
   "metadata": {},
   "outputs": [],
   "source": []
  },
  {
   "cell_type": "markdown",
   "metadata": {},
   "source": [
    "## Further Work\n",
    "It's clear that since the other numbers(5,3) are just constant in say $5x+3$, we consider 0 for their *dual component*. But, what is the thing about choosing $1$ for *dual components* while calculating $f(x)$ as $f(x+1\\epsilon)$? \n",
    "\n",
    "$$\\left. \\frac{df(x)}{dx}\\right|_x = \\textrm{epsilon-coefficient}(\\textrm{dual-version}(f)(x+1\\epsilon)).$$\n",
    "\n",
    "As far as I could think of, automatic differentiation worked becuase all of the above functions were composed of basic primary operations. How would things work if something like non-linear functions or arbitrary functions jump in? I mean, Taylor series gives a good approximation of $sin(x), cos(x)$ or any function at any point for that matter, so will we have to integrate them as some sort of class method in the above class? Unclear about it at this point.\n",
    "\n",
    "\n",
    "How to extend this to say calculating second or third derivatives? Does automatic differentation hold for higher order derivatives? If yes, then what changes? For example, I read somewhere that for calculating second-order derivative, we have to make sure that $\\epsilon^3=0$ instead of $\\epsilon^2$"
   ]
  },
  {
   "cell_type": "code",
   "execution_count": null,
   "metadata": {},
   "outputs": [],
   "source": []
  }
 ],
 "metadata": {
  "kernelspec": {
   "display_name": "Python 3",
   "language": "python",
   "name": "python3"
  },
  "language_info": {
   "codemirror_mode": {
    "name": "ipython",
    "version": 3
   },
   "file_extension": ".py",
   "mimetype": "text/x-python",
   "name": "python",
   "nbconvert_exporter": "python",
   "pygments_lexer": "ipython3",
   "version": "3.8.2"
  }
 },
 "nbformat": 4,
 "nbformat_minor": 4
}
