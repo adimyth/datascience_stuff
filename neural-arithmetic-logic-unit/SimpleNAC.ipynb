{
 "cells": [
  {
   "cell_type": "code",
   "execution_count": 34,
   "metadata": {},
   "outputs": [],
   "source": [
    "import matplotlib.pyplot as plt\n",
    "import seaborn as sns\n",
    "import numpy as np\n",
    "import tensorflow as tf\n",
    "from tqdm import tqdm, tqdm_notebook"
   ]
  },
  {
   "cell_type": "markdown",
   "metadata": {},
   "source": [
    "## Complex NAC Layer\n",
    "\n",
    "$y=\\exp [W(\\log(|x|+\\varepsilon))]$"
   ]
  },
  {
   "cell_type": "code",
   "execution_count": 3,
   "metadata": {},
   "outputs": [],
   "source": [
    "# Define a complex NAC in log space\n",
    "# Usefulfor more complex arithmetic functions such as multiplication, division and power\n",
    "\n",
    "def nac_complex_single_layer(x_in, out_units, epsilon = 0.000001):\n",
    "    '''\n",
    "    Attributes\n",
    "    -----------\n",
    "    x_in -> Input tensor\n",
    "    out_units -> number of output units\n",
    "\n",
    "    Return\n",
    "    -------\n",
    "    y_out -> Output tensor of mentioned shape\n",
    "    W -> Weight matrix of the layer\n",
    "    '''\n",
    "    \n",
    "    # Get the number of input features (numbers)\n",
    "    in_features = x_in.shape[1]\n",
    "\n",
    "    # random initialier\n",
    "    x = tf.initializers.RandomUniform(minval=-2, maxval=2)\n",
    "    \n",
    "    # defining W_hat and M_hat\n",
    "    W_hat = tf.Variable(shape=[in_features, out_units],\n",
    "                        initial_value=x.__call__(shape=[in_features, out_units]), \n",
    "                        trainable=True, name=\"W_hat\")\n",
    "\n",
    "    M_hat = tf.Variable(shape=[in_features, out_units],\n",
    "                        initial_value=x.__call__(shape=[in_features, out_units]), \n",
    "                        trainable=True, name=\"M_hat\")\n",
    "    \n",
    "    # Weight Matrix (W) -> restricted to [-1, 1]\n",
    "    W = tf.nn.tanh(W_hat) * tf.nn.sigmoid(M_hat) \n",
    "\n",
    "    # Express input feature in log space to learn complex functions\n",
    "    x_modified = tf.log(tf.abs(x_in) + epsilon)\n",
    "\n",
    "    y = tf.exp( tf.matmul(x_modified, W) )\n",
    "\n",
    "    return y, W"
   ]
  },
  {
   "cell_type": "code",
   "execution_count": null,
   "metadata": {},
   "outputs": [],
   "source": []
  },
  {
   "cell_type": "markdown",
   "metadata": {},
   "source": [
    "## Neural Arithmetic Logic Unit (NALU)\n",
    "\n",
    "NALU combines Simple NAC & Complex NAC to perform any type of arithmetic operation. NALU comprises the weighted combination of a simple NAC and a complex NAC mentioned above, controlled by a learned gate signal.\n",
    "\n",
    "$$y = g*a+(1-g)*m$$\n",
    "where,\n",
    "$a = Wx$\n",
    "\n",
    "$m = \\exp [W(\\log(|x|+\\varepsilon))]$\n",
    "\n",
    "$W= \\tanh(\\hat{W})\\odot \\sigma (\\hat{M})$\n",
    "\n",
    "$g = sigmoid(Gx)$, G is a trainable parameter"
   ]
  },
  {
   "cell_type": "code",
   "execution_count": 4,
   "metadata": {},
   "outputs": [],
   "source": [
    "def nalu(x_in, out_units, epsilon=0.000001, get_weights=False):\n",
    "    '''\n",
    "    Attributes\n",
    "    -----------\n",
    "    x_in -> Input tensor\n",
    "    out_units -> number of output units\n",
    "\n",
    "    Return\n",
    "    -------\n",
    "    y_out -> Output tensor of mentioned shape\n",
    "    '''\n",
    "\n",
    "    in_features = x_in.shape[1]\n",
    "\n",
    "    # get the output tensor from simple NAC\n",
    "    a, W_simple = nac_simple_single_layer(x_in, out_units)\n",
    "\n",
    "    # get the output tensor from complex NAC\n",
    "    m, W_complex = nac_complex_single_layer(x_in, out_units, epsilon= epsilon)\n",
    "    \n",
    "    # In the paper, the authors use the same weights for complex as well as \n",
    "    # simple NAC i.e W_simple = W_complex\n",
    "    \n",
    "    # random initialier\n",
    "    x = tf.initializers.RandomUniform(minval=-2, maxval=2)\n",
    "\n",
    "    # gate signal layer\n",
    "    G = tf.Variable(shape=[in_features, out_units],\n",
    "                    initial_value=x.__call__(shape=(2, 2)),\n",
    "                    trainable=True, name=\"Gate_weights\")\n",
    "\n",
    "    g = tf.nn.sigmoid(tf.matmul(x_in, G))\n",
    "\n",
    "    y_out = g * a + (1 - g) * m\n",
    "\n",
    "    return y_out"
   ]
  },
  {
   "cell_type": "code",
   "execution_count": null,
   "metadata": {},
   "outputs": [],
   "source": []
  },
  {
   "cell_type": "markdown",
   "metadata": {},
   "source": [
    "## Simple NAC\n",
    "\n",
    "Here, I test on addition operation using simple NAC"
   ]
  },
  {
   "cell_type": "markdown",
   "metadata": {},
   "source": [
    "**Creating training data**"
   ]
  },
  {
   "cell_type": "code",
   "execution_count": 5,
   "metadata": {},
   "outputs": [],
   "source": [
    "# Generate a series of input number X1 and X2 for training\n",
    "x1 = np.arange(0,10000,5, dtype=np.float32)\n",
    "x2 = np.arange(5,10005,5, dtype=np.float32)"
   ]
  },
  {
   "cell_type": "code",
   "execution_count": 6,
   "metadata": {},
   "outputs": [],
   "source": [
    "y_train = x1 + x2"
   ]
  },
  {
   "cell_type": "code",
   "execution_count": 7,
   "metadata": {},
   "outputs": [
    {
     "data": {
      "text/plain": [
       "dtype('float32')"
      ]
     },
     "execution_count": 7,
     "metadata": {},
     "output_type": "execute_result"
    }
   ],
   "source": [
    "y_train.dtype"
   ]
  },
  {
   "cell_type": "code",
   "execution_count": 8,
   "metadata": {},
   "outputs": [],
   "source": [
    "x_train = np.column_stack((x1,x2))"
   ]
  },
  {
   "cell_type": "code",
   "execution_count": 9,
   "metadata": {},
   "outputs": [
    {
     "name": "stdout",
     "output_type": "stream",
     "text": [
      "(2000, 2)\n",
      "(2000,)\n"
     ]
    }
   ],
   "source": [
    "print(x_train.shape)\n",
    "print(y_train.shape)"
   ]
  },
  {
   "cell_type": "markdown",
   "metadata": {},
   "source": [
    "**Creating testing data**"
   ]
  },
  {
   "cell_type": "code",
   "execution_count": 10,
   "metadata": {},
   "outputs": [],
   "source": [
    "# Generate a series of input number X1 and X2 for testing\n",
    "x1 = np.arange(1000,2000,8, dtype=np.float32)\n",
    "x2 = np.arange(1000,1500,4, dtype= np.float32)"
   ]
  },
  {
   "cell_type": "code",
   "execution_count": 11,
   "metadata": {},
   "outputs": [],
   "source": [
    "x_test = np.column_stack((x1,x2))\n",
    "y_test = x1 + x2"
   ]
  },
  {
   "cell_type": "code",
   "execution_count": 12,
   "metadata": {},
   "outputs": [
    {
     "name": "stdout",
     "output_type": "stream",
     "text": [
      "(125, 2)\n",
      "(125,)\n"
     ]
    }
   ],
   "source": [
    "print(x_test.shape)\n",
    "print(y_test.shape)"
   ]
  },
  {
   "cell_type": "code",
   "execution_count": null,
   "metadata": {},
   "outputs": [],
   "source": []
  },
  {
   "cell_type": "markdown",
   "metadata": {},
   "source": [
    "**Loss Function**"
   ]
  },
  {
   "cell_type": "code",
   "execution_count": 13,
   "metadata": {},
   "outputs": [],
   "source": [
    "def loss(predicted_y, target_y):\n",
    "    predicted_y = tf.squeeze(predicted_y)\n",
    "    return tf.reduce_mean(tf.square(predicted_y - target_y))"
   ]
  },
  {
   "cell_type": "code",
   "execution_count": null,
   "metadata": {},
   "outputs": [],
   "source": []
  },
  {
   "cell_type": "markdown",
   "metadata": {},
   "source": [
    "**Simple Neural Accumulator (NAC) Layer**\n",
    "\n",
    "$W= \\tanh(\\hat{W})\\odot \\sigma (\\hat{M})$"
   ]
  },
  {
   "cell_type": "code",
   "execution_count": 23,
   "metadata": {},
   "outputs": [],
   "source": [
    "n_epochs = 20000\n",
    "alpha = 0.1"
   ]
  },
  {
   "cell_type": "code",
   "execution_count": 24,
   "metadata": {},
   "outputs": [],
   "source": [
    "W_hat = tf.Variable(shape=[2, 1],\n",
    "                        initial_value=tf.random.uniform(shape=[2, 1], minval=-2, maxval=2),\n",
    "                        trainable=True, name=\"W_hat\")\n",
    "M_hat = tf.Variable(shape=[2, 1],\n",
    "                        initial_value=tf.random.uniform(shape=[2, 1], minval=-2, maxval=2),\n",
    "                        trainable=True, name=\"M_hat\")"
   ]
  },
  {
   "cell_type": "code",
   "execution_count": 25,
   "metadata": {},
   "outputs": [],
   "source": [
    "optimize = tf.keras.optimizers.Adam(learning_rate=alpha)"
   ]
  },
  {
   "cell_type": "code",
   "execution_count": 26,
   "metadata": {},
   "outputs": [
    {
     "name": "stdout",
     "output_type": "stream",
     "text": [
      "Initial Loss: 264138736.0\n"
     ]
    }
   ],
   "source": [
    "W = tf.nn.tanh(W_hat) * tf.nn.sigmoid(M_hat) \n",
    "y_pred = tf.matmul(x_train, W)\n",
    "print(f\"Initial Loss: {loss(y_pred, y_train)}\")"
   ]
  },
  {
   "cell_type": "code",
   "execution_count": 27,
   "metadata": {},
   "outputs": [],
   "source": [
    "loss_history = []"
   ]
  },
  {
   "cell_type": "code",
   "execution_count": 28,
   "metadata": {},
   "outputs": [],
   "source": [
    "def train(X, y, learning_rate=0.01):\n",
    "    with tf.GradientTape() as t:\n",
    "        # update weight matrix (W) -> restricted to [-1, 1]\n",
    "        W = tf.nn.tanh(W_hat) * tf.nn.sigmoid(M_hat) \n",
    "        # make prediction\n",
    "        y_pred = tf.matmul(X, W)\n",
    "        # calculate loss\n",
    "        current_loss = loss(y_pred, y)\n",
    "    dW_hat, dM_hat = t.gradient(current_loss, (W_hat, M_hat))\n",
    "    optimize.apply_gradients(zip([dW_hat, dM_hat], [W_hat, M_hat]))\n",
    "    return current_loss"
   ]
  },
  {
   "cell_type": "markdown",
   "metadata": {},
   "source": [
    "**Looping**"
   ]
  },
  {
   "cell_type": "code",
   "execution_count": 29,
   "metadata": {},
   "outputs": [],
   "source": [
    "y_train = y_train.astype('float32')"
   ]
  },
  {
   "cell_type": "code",
   "execution_count": 30,
   "metadata": {
    "scrolled": true
   },
   "outputs": [
    {
     "name": "stdout",
     "output_type": "stream",
     "text": [
      "Epoch: 0\tLoss: 264138736.00\n",
      "Epoch: 500\tLoss: 67368.75\n",
      "Epoch: 1000\tLoss: 23683.92\n",
      "Epoch: 1500\tLoss: 12110.54\n",
      "Epoch: 2000\tLoss: 7242.39\n",
      "Epoch: 2500\tLoss: 4714.86\n",
      "Epoch: 3000\tLoss: 3233.80\n",
      "Epoch: 3500\tLoss: 2295.61\n",
      "Epoch: 4000\tLoss: 1669.04\n",
      "Epoch: 4500\tLoss: 1234.37\n",
      "Epoch: 5000\tLoss: 924.35\n",
      "Epoch: 5500\tLoss: 698.55\n",
      "Epoch: 6000\tLoss: 531.64\n",
      "Epoch: 6500\tLoss: 406.71\n",
      "Epoch: 7000\tLoss: 312.39\n",
      "Epoch: 7500\tLoss: 240.66\n",
      "Epoch: 8000\tLoss: 185.86\n",
      "Epoch: 8500\tLoss: 143.83\n",
      "Epoch: 9000\tLoss: 111.43\n",
      "Epoch: 9500\tLoss: 86.43\n",
      "Epoch: 10000\tLoss: 67.10\n",
      "Epoch: 10500\tLoss: 52.14\n",
      "Epoch: 11000\tLoss: 40.52\n",
      "Epoch: 11500\tLoss: 31.52\n",
      "Epoch: 12000\tLoss: 24.51\n",
      "Epoch: 12500\tLoss: 19.06\n",
      "Epoch: 13000\tLoss: 14.84\n",
      "Epoch: 13500\tLoss: 11.54\n",
      "Epoch: 14000\tLoss: 8.99\n",
      "Epoch: 14500\tLoss: 7.00\n",
      "Epoch: 15000\tLoss: 5.44\n",
      "Epoch: 15500\tLoss: 4.24\n",
      "Epoch: 16000\tLoss: 3.30\n",
      "Epoch: 16500\tLoss: 2.57\n",
      "Epoch: 17000\tLoss: 2.00\n",
      "Epoch: 17500\tLoss: 1.56\n",
      "Epoch: 18000\tLoss: 1.21\n",
      "Epoch: 18500\tLoss: 0.94\n",
      "Epoch: 19000\tLoss: 0.73\n",
      "Epoch: 19500\tLoss: 0.57\n"
     ]
    }
   ],
   "source": [
    "for epoch in range(n_epochs):\n",
    "    current_loss = train(x_train, y_train)\n",
    "    loss_history.append(current_loss)\n",
    "    if epoch%500==0:\n",
    "        print(f\"Epoch: {epoch}\\tLoss: {current_loss:.2f}\")"
   ]
  },
  {
   "cell_type": "code",
   "execution_count": 36,
   "metadata": {},
   "outputs": [
    {
     "data": {
      "text/plain": [
       "[<matplotlib.lines.Line2D at 0x1392af630>]"
      ]
     },
     "execution_count": 36,
     "metadata": {},
     "output_type": "execute_result"
    },
    {
     "data": {
      "image/png": "[encoded data removed]",
      "text/plain": [
       "<Figure size 432x288 with 1 Axes>"
      ]
     },
     "metadata": {
      "needs_background": "light"
     },
     "output_type": "display_data"
    }
   ],
   "source": [
    "plt.plot(loss_history[4000:])"
   ]
  },
  {
   "cell_type": "markdown",
   "metadata": {},
   "source": [
    "**Testing**"
   ]
  },
  {
   "cell_type": "code",
   "execution_count": 56,
   "metadata": {},
   "outputs": [],
   "source": [
    "W = tf.nn.tanh(W_hat) * tf.nn.sigmoid(M_hat) \n",
    "y_pred = tf.matmul(x_test, W)\n",
    "current_loss = loss(y_pred, y_test)"
   ]
  },
  {
   "cell_type": "code",
   "execution_count": 59,
   "metadata": {},
   "outputs": [
    {
     "data": {
      "text/plain": [
       "array([1080., 1040.], dtype=float32)"
      ]
     },
     "execution_count": 59,
     "metadata": {},
     "output_type": "execute_result"
    }
   ],
   "source": [
    "x_test[10]"
   ]
  },
  {
   "cell_type": "code",
   "execution_count": 61,
   "metadata": {},
   "outputs": [
    {
     "data": {
      "text/plain": [
       "<tf.Tensor: id=1719718, shape=(1, 1), dtype=float32, numpy=array([[2119.878]], dtype=float32)>"
      ]
     },
     "execution_count": 61,
     "metadata": {},
     "output_type": "execute_result"
    }
   ],
   "source": [
    "tf.matmul([x_test[10]], W)"
   ]
  },
  {
   "cell_type": "code",
   "execution_count": 62,
   "metadata": {},
   "outputs": [
    {
     "data": {
      "text/plain": [
       "2120.0"
      ]
     },
     "execution_count": 62,
     "metadata": {},
     "output_type": "execute_result"
    }
   ],
   "source": [
    "y_test[10]"
   ]
  },
  {
   "cell_type": "code",
   "execution_count": 70,
   "metadata": {
    "scrolled": true
   },
   "outputs": [
    {
     "name": "stdout",
     "output_type": "stream",
     "text": [
      "Input: [1000. 1000.]\tOutput: 1999.88\tActual: 2000.0\n",
      "Input: [1008. 1004.]\tOutput: 2011.88\tActual: 2012.0\n",
      "Input: [1016. 1008.]\tOutput: 2023.88\tActual: 2024.0\n",
      "Input: [1024. 1012.]\tOutput: 2035.88\tActual: 2036.0\n",
      "Input: [1032. 1016.]\tOutput: 2047.88\tActual: 2048.0\n",
      "Input: [1040. 1020.]\tOutput: 2059.88\tActual: 2060.0\n",
      "Input: [1048. 1024.]\tOutput: 2071.88\tActual: 2072.0\n",
      "Input: [1056. 1028.]\tOutput: 2083.88\tActual: 2084.0\n",
      "Input: [1064. 1032.]\tOutput: 2095.88\tActual: 2096.0\n",
      "Input: [1072. 1036.]\tOutput: 2107.88\tActual: 2108.0\n",
      "Input: [1080. 1040.]\tOutput: 2119.88\tActual: 2120.0\n",
      "Input: [1088. 1044.]\tOutput: 2131.88\tActual: 2132.0\n",
      "Input: [1096. 1048.]\tOutput: 2143.88\tActual: 2144.0\n",
      "Input: [1104. 1052.]\tOutput: 2155.88\tActual: 2156.0\n",
      "Input: [1112. 1056.]\tOutput: 2167.88\tActual: 2168.0\n",
      "Input: [1120. 1060.]\tOutput: 2179.88\tActual: 2180.0\n",
      "Input: [1128. 1064.]\tOutput: 2191.87\tActual: 2192.0\n",
      "Input: [1136. 1068.]\tOutput: 2203.87\tActual: 2204.0\n",
      "Input: [1144. 1072.]\tOutput: 2215.87\tActual: 2216.0\n",
      "Input: [1152. 1076.]\tOutput: 2227.87\tActual: 2228.0\n",
      "Input: [1160. 1080.]\tOutput: 2239.87\tActual: 2240.0\n",
      "Input: [1168. 1084.]\tOutput: 2251.87\tActual: 2252.0\n",
      "Input: [1176. 1088.]\tOutput: 2263.87\tActual: 2264.0\n",
      "Input: [1184. 1092.]\tOutput: 2275.87\tActual: 2276.0\n",
      "Input: [1192. 1096.]\tOutput: 2287.87\tActual: 2288.0\n",
      "Input: [1200. 1100.]\tOutput: 2299.87\tActual: 2300.0\n",
      "Input: [1208. 1104.]\tOutput: 2311.87\tActual: 2312.0\n",
      "Input: [1216. 1108.]\tOutput: 2323.87\tActual: 2324.0\n",
      "Input: [1224. 1112.]\tOutput: 2335.87\tActual: 2336.0\n",
      "Input: [1232. 1116.]\tOutput: 2347.87\tActual: 2348.0\n",
      "Input: [1240. 1120.]\tOutput: 2359.87\tActual: 2360.0\n",
      "Input: [1248. 1124.]\tOutput: 2371.86\tActual: 2372.0\n",
      "Input: [1256. 1128.]\tOutput: 2383.86\tActual: 2384.0\n",
      "Input: [1264. 1132.]\tOutput: 2395.86\tActual: 2396.0\n",
      "Input: [1272. 1136.]\tOutput: 2407.86\tActual: 2408.0\n",
      "Input: [1280. 1140.]\tOutput: 2419.86\tActual: 2420.0\n",
      "Input: [1288. 1144.]\tOutput: 2431.86\tActual: 2432.0\n",
      "Input: [1296. 1148.]\tOutput: 2443.86\tActual: 2444.0\n",
      "Input: [1304. 1152.]\tOutput: 2455.86\tActual: 2456.0\n",
      "Input: [1312. 1156.]\tOutput: 2467.86\tActual: 2468.0\n",
      "Input: [1320. 1160.]\tOutput: 2479.86\tActual: 2480.0\n",
      "Input: [1328. 1164.]\tOutput: 2491.86\tActual: 2492.0\n",
      "Input: [1336. 1168.]\tOutput: 2503.86\tActual: 2504.0\n",
      "Input: [1344. 1172.]\tOutput: 2515.86\tActual: 2516.0\n",
      "Input: [1352. 1176.]\tOutput: 2527.86\tActual: 2528.0\n",
      "Input: [1360. 1180.]\tOutput: 2539.86\tActual: 2540.0\n",
      "Input: [1368. 1184.]\tOutput: 2551.86\tActual: 2552.0\n",
      "Input: [1376. 1188.]\tOutput: 2563.85\tActual: 2564.0\n",
      "Input: [1384. 1192.]\tOutput: 2575.85\tActual: 2576.0\n",
      "Input: [1392. 1196.]\tOutput: 2587.85\tActual: 2588.0\n",
      "Input: [1400. 1200.]\tOutput: 2599.85\tActual: 2600.0\n",
      "Input: [1408. 1204.]\tOutput: 2611.85\tActual: 2612.0\n",
      "Input: [1416. 1208.]\tOutput: 2623.85\tActual: 2624.0\n",
      "Input: [1424. 1212.]\tOutput: 2635.85\tActual: 2636.0\n",
      "Input: [1432. 1216.]\tOutput: 2647.85\tActual: 2648.0\n",
      "Input: [1440. 1220.]\tOutput: 2659.85\tActual: 2660.0\n",
      "Input: [1448. 1224.]\tOutput: 2671.85\tActual: 2672.0\n",
      "Input: [1456. 1228.]\tOutput: 2683.85\tActual: 2684.0\n",
      "Input: [1464. 1232.]\tOutput: 2695.85\tActual: 2696.0\n",
      "Input: [1472. 1236.]\tOutput: 2707.85\tActual: 2708.0\n",
      "Input: [1480. 1240.]\tOutput: 2719.85\tActual: 2720.0\n",
      "Input: [1488. 1244.]\tOutput: 2731.85\tActual: 2732.0\n",
      "Input: [1496. 1248.]\tOutput: 2743.85\tActual: 2744.0\n",
      "Input: [1504. 1252.]\tOutput: 2755.84\tActual: 2756.0\n",
      "Input: [1512. 1256.]\tOutput: 2767.84\tActual: 2768.0\n",
      "Input: [1520. 1260.]\tOutput: 2779.84\tActual: 2780.0\n",
      "Input: [1528. 1264.]\tOutput: 2791.84\tActual: 2792.0\n",
      "Input: [1536. 1268.]\tOutput: 2803.84\tActual: 2804.0\n",
      "Input: [1544. 1272.]\tOutput: 2815.84\tActual: 2816.0\n",
      "Input: [1552. 1276.]\tOutput: 2827.84\tActual: 2828.0\n",
      "Input: [1560. 1280.]\tOutput: 2839.84\tActual: 2840.0\n",
      "Input: [1568. 1284.]\tOutput: 2851.84\tActual: 2852.0\n",
      "Input: [1576. 1288.]\tOutput: 2863.84\tActual: 2864.0\n",
      "Input: [1584. 1292.]\tOutput: 2875.84\tActual: 2876.0\n",
      "Input: [1592. 1296.]\tOutput: 2887.84\tActual: 2888.0\n",
      "Input: [1600. 1300.]\tOutput: 2899.84\tActual: 2900.0\n",
      "Input: [1608. 1304.]\tOutput: 2911.84\tActual: 2912.0\n",
      "Input: [1616. 1308.]\tOutput: 2923.84\tActual: 2924.0\n",
      "Input: [1624. 1312.]\tOutput: 2935.84\tActual: 2936.0\n",
      "Input: [1632. 1316.]\tOutput: 2947.83\tActual: 2948.0\n",
      "Input: [1640. 1320.]\tOutput: 2959.83\tActual: 2960.0\n",
      "Input: [1648. 1324.]\tOutput: 2971.83\tActual: 2972.0\n",
      "Input: [1656. 1328.]\tOutput: 2983.83\tActual: 2984.0\n",
      "Input: [1664. 1332.]\tOutput: 2995.83\tActual: 2996.0\n",
      "Input: [1672. 1336.]\tOutput: 3007.83\tActual: 3008.0\n",
      "Input: [1680. 1340.]\tOutput: 3019.83\tActual: 3020.0\n",
      "Input: [1688. 1344.]\tOutput: 3031.83\tActual: 3032.0\n",
      "Input: [1696. 1348.]\tOutput: 3043.83\tActual: 3044.0\n",
      "Input: [1704. 1352.]\tOutput: 3055.83\tActual: 3056.0\n",
      "Input: [1712. 1356.]\tOutput: 3067.83\tActual: 3068.0\n",
      "Input: [1720. 1360.]\tOutput: 3079.83\tActual: 3080.0\n",
      "Input: [1728. 1364.]\tOutput: 3091.83\tActual: 3092.0\n",
      "Input: [1736. 1368.]\tOutput: 3103.83\tActual: 3104.0\n",
      "Input: [1744. 1372.]\tOutput: 3115.83\tActual: 3116.0\n",
      "Input: [1752. 1376.]\tOutput: 3127.83\tActual: 3128.0\n",
      "Input: [1760. 1380.]\tOutput: 3139.82\tActual: 3140.0\n",
      "Input: [1768. 1384.]\tOutput: 3151.82\tActual: 3152.0\n",
      "Input: [1776. 1388.]\tOutput: 3163.82\tActual: 3164.0\n",
      "Input: [1784. 1392.]\tOutput: 3175.82\tActual: 3176.0\n",
      "Input: [1792. 1396.]\tOutput: 3187.82\tActual: 3188.0\n"
     ]
    }
   ],
   "source": [
    "for i in range(len(x_test))[:100]:\n",
    "    print(f\"Input: {x_test[i]}\\tOutput: {tf.matmul([x_test[i]], W)[0][0]:.2f}\\tActual: {y_test[i]}\")"
   ]
  },
  {
   "cell_type": "code",
   "execution_count": 69,
   "metadata": {},
   "outputs": [
    {
     "name": "stdout",
     "output_type": "stream",
     "text": [
      "Input: [0. 5.]\tOutput: 5.00\tActual: 5.0\n",
      "Input: [ 5. 10.]\tOutput: 15.00\tActual: 15.0\n",
      "Input: [10. 15.]\tOutput: 25.00\tActual: 25.0\n",
      "Input: [15. 20.]\tOutput: 35.00\tActual: 35.0\n",
      "Input: [20. 25.]\tOutput: 45.00\tActual: 45.0\n",
      "Input: [25. 30.]\tOutput: 55.00\tActual: 55.0\n",
      "Input: [30. 35.]\tOutput: 65.00\tActual: 65.0\n",
      "Input: [35. 40.]\tOutput: 75.00\tActual: 75.0\n",
      "Input: [40. 45.]\tOutput: 84.99\tActual: 85.0\n",
      "Input: [45. 50.]\tOutput: 94.99\tActual: 95.0\n"
     ]
    }
   ],
   "source": [
    "for i in range(10):\n",
    "    print(f\"Input: {x_train[i]}\\tOutput: {tf.matmul([x_train[i]], W)[0][0]:.2f}\\tActual: {y_train[i]}\")"
   ]
  },
  {
   "cell_type": "code",
   "execution_count": null,
   "metadata": {},
   "outputs": [],
   "source": []
  },
  {
   "cell_type": "code",
   "execution_count": null,
   "metadata": {},
   "outputs": [],
   "source": []
  },
  {
   "cell_type": "code",
   "execution_count": null,
   "metadata": {},
   "outputs": [],
   "source": []
  },
  {
   "cell_type": "code",
   "execution_count": null,
   "metadata": {},
   "outputs": [],
   "source": []
  },
  {
   "cell_type": "code",
   "execution_count": null,
   "metadata": {},
   "outputs": [],
   "source": []
  }
 ],
 "metadata": {
  "kernelspec": {
   "display_name": "Python 3",
   "language": "python",
   "name": "python3"
  },
  "language_info": {
   "codemirror_mode": {
    "name": "ipython",
    "version": 3
   },
   "file_extension": ".py",
   "mimetype": "text/x-python",
   "name": "python",
   "nbconvert_exporter": "python",
   "pygments_lexer": "ipython3",
   "version": "3.7.3"
  }
 },
 "nbformat": 4,
 "nbformat_minor": 2
}
