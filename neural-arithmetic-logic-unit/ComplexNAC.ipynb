{
 "cells": [
  {
   "cell_type": "code",
   "execution_count": 1,
   "metadata": {},
   "outputs": [],
   "source": [
    "import matplotlib.pyplot as plt\n",
    "import seaborn as sns\n",
    "import numpy as np\n",
    "import tensorflow as tf\n",
    "from tqdm import tqdm, tqdm_notebook"
   ]
  },
  {
   "cell_type": "markdown",
   "metadata": {},
   "source": [
    "## Complex NAC Layer\n",
    "\n",
    "$y=\\exp [W(\\log(|x|+\\varepsilon))]$"
   ]
  },
  {
   "cell_type": "markdown",
   "metadata": {},
   "source": [
    "### Multiplication"
   ]
  },
  {
   "cell_type": "markdown",
   "metadata": {},
   "source": [
    "**Creating training data**"
   ]
  },
  {
   "cell_type": "code",
   "execution_count": 2,
   "metadata": {},
   "outputs": [],
   "source": [
    "np.random.seed(42)"
   ]
  },
  {
   "cell_type": "code",
   "execution_count": 3,
   "metadata": {},
   "outputs": [],
   "source": [
    "# Generate a series of input number X1 and X2 for training\n",
    "x1 = np.random.randint(low=0, high=10000, size=1000)\n",
    "x1 = x1.astype('float32')\n",
    "x2 = np.random.randint(low=100, high=10000, size=1000)\n",
    "x2 = x2.astype('float32')"
   ]
  },
  {
   "cell_type": "code",
   "execution_count": 4,
   "metadata": {},
   "outputs": [
    {
     "name": "stdout",
     "output_type": "stream",
     "text": [
      "1000 1000\n"
     ]
    }
   ],
   "source": [
    "print(len(x1), len(x2))"
   ]
  },
  {
   "cell_type": "code",
   "execution_count": 5,
   "metadata": {},
   "outputs": [],
   "source": [
    "y_train = x1*x2"
   ]
  },
  {
   "cell_type": "code",
   "execution_count": 6,
   "metadata": {},
   "outputs": [
    {
     "data": {
      "text/plain": [
       "dtype('float32')"
      ]
     },
     "execution_count": 6,
     "metadata": {},
     "output_type": "execute_result"
    }
   ],
   "source": [
    "y_train.dtype"
   ]
  },
  {
   "cell_type": "code",
   "execution_count": 7,
   "metadata": {},
   "outputs": [],
   "source": [
    "x_train = np.column_stack((x1,x2))"
   ]
  },
  {
   "cell_type": "code",
   "execution_count": 8,
   "metadata": {},
   "outputs": [
    {
     "name": "stdout",
     "output_type": "stream",
     "text": [
      "(1000, 2)\n",
      "(1000,)\n"
     ]
    }
   ],
   "source": [
    "print(x_train.shape)\n",
    "print(y_train.shape)"
   ]
  },
  {
   "cell_type": "markdown",
   "metadata": {},
   "source": [
    "**Creating testing data**"
   ]
  },
  {
   "cell_type": "code",
   "execution_count": 9,
   "metadata": {},
   "outputs": [],
   "source": [
    "# Generate a series of input number X1 and X2 for testing\n",
    "x1 = np.random.randint(low=0, high=10000, size=100)\n",
    "x1 = x1.astype('float32')\n",
    "x2 = np.random.randint(low=100, high=10000, size=100)\n",
    "x2 = x2.astype('float32')"
   ]
  },
  {
   "cell_type": "code",
   "execution_count": 10,
   "metadata": {},
   "outputs": [],
   "source": [
    "x_test = np.column_stack((x1,x2))\n",
    "y_test = x1*x2"
   ]
  },
  {
   "cell_type": "code",
   "execution_count": 11,
   "metadata": {},
   "outputs": [
    {
     "name": "stdout",
     "output_type": "stream",
     "text": [
      "(100, 2)\n",
      "(100,)\n"
     ]
    }
   ],
   "source": [
    "print(x_test.shape)\n",
    "print(y_test.shape)"
   ]
  },
  {
   "cell_type": "code",
   "execution_count": null,
   "metadata": {},
   "outputs": [],
   "source": []
  },
  {
   "cell_type": "markdown",
   "metadata": {},
   "source": [
    "**Loss Function**\n",
    "\n",
    "Using RMSE as a loss function"
   ]
  },
  {
   "cell_type": "code",
   "execution_count": 12,
   "metadata": {},
   "outputs": [],
   "source": [
    "def rmsle_loss(predicted_y, target_y):\n",
    "    predicted_y = tf.squeeze(predicted_y)\n",
    "    return tf.sqrt(tf.reduce_mean(tf.square(tf.math.log(predicted_y) - tf.math.log(target_y))))"
   ]
  },
  {
   "cell_type": "code",
   "execution_count": 13,
   "metadata": {},
   "outputs": [],
   "source": [
    "def rmse_loss(predicted_y, target_y):\n",
    "    return tf.sqrt(tf.reduce_mean(tf.square(predicted_y - target_y)))"
   ]
  },
  {
   "cell_type": "code",
   "execution_count": null,
   "metadata": {},
   "outputs": [],
   "source": []
  },
  {
   "cell_type": "markdown",
   "metadata": {},
   "source": [
    "**Modelling**"
   ]
  },
  {
   "cell_type": "code",
   "execution_count": 14,
   "metadata": {},
   "outputs": [],
   "source": [
    "n_epochs = 5000\n",
    "alpha = 0.1\n",
    "epsilon = 0.000001"
   ]
  },
  {
   "cell_type": "code",
   "execution_count": 15,
   "metadata": {},
   "outputs": [],
   "source": [
    "W_hat = tf.Variable(shape=[2, 1],\n",
    "                        initial_value=tf.random.uniform(shape=[2, 1], minval=-2, maxval=2),\n",
    "                        trainable=True, name=\"W_hat\")\n",
    "M_hat = tf.Variable(shape=[2, 1],\n",
    "                        initial_value=tf.random.uniform(shape=[2, 1], minval=-2, maxval=2),\n",
    "                        trainable=True, name=\"M_hat\")"
   ]
  },
  {
   "cell_type": "code",
   "execution_count": 16,
   "metadata": {},
   "outputs": [],
   "source": [
    "optimize = tf.keras.optimizers.Adam(learning_rate=alpha)"
   ]
  },
  {
   "cell_type": "code",
   "execution_count": 17,
   "metadata": {},
   "outputs": [
    {
     "name": "stdout",
     "output_type": "stream",
     "text": [
      "RMSE Loss: 33640916.0\n",
      "RMSLE Loss: 14.38\n"
     ]
    }
   ],
   "source": [
    "W = tf.nn.tanh(W_hat) * tf.nn.sigmoid(M_hat) \n",
    "# Express input feature in log space to learn complex functions\n",
    "x_modified = tf.math.log(tf.abs(x_train) + epsilon)\n",
    "y_pred = tf.exp(tf.matmul(x_modified, W))\n",
    "print(f\"RMSE Loss: {rmse_loss(y_pred, y_train)}\")\n",
    "print(f\"RMSLE Loss: {rmsle_loss(y_pred, y_train):.2f}\")"
   ]
  },
  {
   "cell_type": "code",
   "execution_count": 18,
   "metadata": {},
   "outputs": [],
   "source": [
    "loss_history = []"
   ]
  },
  {
   "cell_type": "code",
   "execution_count": 19,
   "metadata": {},
   "outputs": [],
   "source": [
    "def train(X, y, learning_rate=0.01):\n",
    "    with tf.GradientTape() as t:\n",
    "        # update weight matrix (W) -> restricted to [-1, 1]\n",
    "        W = tf.nn.tanh(W_hat) * tf.nn.sigmoid(M_hat) \n",
    "        # express input feature in log space to learn complex functions\n",
    "        x_modified = tf.math.log(tf.abs(X) + epsilon)\n",
    "        # make prediction\n",
    "        y_pred = tf.exp(tf.matmul(x_modified, W))\n",
    "        # calculate both loss\n",
    "        rmsle = rmsle_loss(y_pred, y)\n",
    "        rmse = rmse_loss(y_pred, y)\n",
    "    # calculate gradient w.r.t rmsle loss\n",
    "    dW_hat, dM_hat = t.gradient(rmsle, (W_hat, M_hat))\n",
    "    optimize.apply_gradients(zip([dW_hat, dM_hat], [W_hat, M_hat]))\n",
    "    return rmsle, rmse"
   ]
  },
  {
   "cell_type": "markdown",
   "metadata": {},
   "source": [
    "**Looping**"
   ]
  },
  {
   "cell_type": "code",
   "execution_count": 20,
   "metadata": {},
   "outputs": [],
   "source": [
    "y_train = y_train.astype('float32')"
   ]
  },
  {
   "cell_type": "code",
   "execution_count": 21,
   "metadata": {
    "scrolled": true
   },
   "outputs": [
    {
     "name": "stdout",
     "output_type": "stream",
     "text": [
      "Epoch: 0\tRMSE Loss: 33640916.00\tRMSLE Loss: 14.38\n",
      "Epoch: 500\tRMSE Loss: 30705406.00\tRMSLE Loss: 0.02\n",
      "Epoch: 1000\tRMSE Loss: 30938534.00\tRMSLE Loss: 0.01\n",
      "Epoch: 1500\tRMSE Loss: 30999058.00\tRMSLE Loss: 0.00\n",
      "Epoch: 2000\tRMSE Loss: 31024222.00\tRMSLE Loss: 0.00\n",
      "Epoch: 2500\tRMSE Loss: 31037202.00\tRMSLE Loss: 0.00\n",
      "Epoch: 3000\tRMSE Loss: 31044764.00\tRMSLE Loss: 0.00\n",
      "Epoch: 3500\tRMSE Loss: 31049558.00\tRMSLE Loss: 0.00\n",
      "Epoch: 4000\tRMSE Loss: 31052750.00\tRMSLE Loss: 0.00\n",
      "Epoch: 4500\tRMSE Loss: 31054966.00\tRMSLE Loss: 0.00\n"
     ]
    }
   ],
   "source": [
    "for epoch in range(n_epochs):\n",
    "    rmsle, rmse = train(x_train, y_train)\n",
    "    loss_history.append(rmsle)\n",
    "    if epoch%500==0:\n",
    "        print(f\"Epoch: {epoch}\\tRMSE Loss: {rmse:.2f}\\tRMSLE Loss: {rmsle:.2f}\")"
   ]
  },
  {
   "cell_type": "code",
   "execution_count": 22,
   "metadata": {},
   "outputs": [
    {
     "data": {
      "text/plain": [
       "[<matplotlib.lines.Line2D at 0x13aa01a20>]"
      ]
     },
     "execution_count": 22,
     "metadata": {},
     "output_type": "execute_result"
    },
    {
     "data": {
      "image/png": "[encoded data removed]",
      "text/plain": [
       "<Figure size 432x288 with 1 Axes>"
      ]
     },
     "metadata": {
      "needs_background": "light"
     },
     "output_type": "display_data"
    }
   ],
   "source": [
    "plt.plot(loss_history)"
   ]
  },
  {
   "cell_type": "code",
   "execution_count": null,
   "metadata": {},
   "outputs": [],
   "source": []
  },
  {
   "cell_type": "markdown",
   "metadata": {},
   "source": [
    "**Testing**"
   ]
  },
  {
   "cell_type": "code",
   "execution_count": 23,
   "metadata": {},
   "outputs": [],
   "source": [
    "def get_pred(X):\n",
    "    W = tf.nn.tanh(W_hat) * tf.nn.sigmoid(M_hat) \n",
    "    x_modified = tf.math.log(tf.abs(X) + epsilon)\n",
    "    y_pred = tf.exp(tf.matmul(x_modified, W))\n",
    "    return y_pred"
   ]
  },
  {
   "cell_type": "code",
   "execution_count": 24,
   "metadata": {},
   "outputs": [],
   "source": [
    "y_test_pred = get_pred(x_test)"
   ]
  },
  {
   "cell_type": "code",
   "execution_count": 25,
   "metadata": {},
   "outputs": [
    {
     "data": {
      "text/plain": [
       "TensorShape([100, 1])"
      ]
     },
     "execution_count": 25,
     "metadata": {},
     "output_type": "execute_result"
    }
   ],
   "source": [
    "y_test_pred.shape"
   ]
  },
  {
   "cell_type": "markdown",
   "metadata": {},
   "source": [
    "Test Data"
   ]
  },
  {
   "cell_type": "code",
   "execution_count": 26,
   "metadata": {
    "scrolled": true
   },
   "outputs": [
    {
     "name": "stdout",
     "output_type": "stream",
     "text": [
      "Input: [9732. 6506.]\tOutput: 63297476.00\tActual: 63316392.0\n",
      "Input: [6099. 8691.]\tOutput: 52990720.00\tActual: 53006408.0\n",
      "Input: [8555. 7007.]\tOutput: 59927016.00\tActual: 59944884.0\n",
      "Input: [2368. 8900.]\tOutput: 21069288.00\tActual: 21075200.0\n",
      "Input: [ 285. 1738.]\tOutput: 495221.56\tActual: 495330.0\n",
      "Input: [ 148. 5771.]\tOutput: 853913.50\tActual: 854108.0\n",
      "Input: [4037. 7028.]\tOutput: 28363942.00\tActual: 28372036.0\n",
      "Input: [6549. 1482.]\tOutput: 9703021.00\tActual: 9705618.0\n",
      "Input: [7121. 1503.]\tOutput: 10699985.00\tActual: 10702863.0\n",
      "Input: [9958. 9111.]\tOutput: 90699544.00\tActual: 90727336.0\n",
      "Input: [4895. 3392.]\tOutput: 16599255.00\tActual: 16603840.0\n",
      "Input: [5280. 9111.]\tOutput: 48091948.00\tActual: 48106080.0\n",
      "Input: [1012.  519.]\tOutput: 525112.94\tActual: 525228.0\n",
      "Input: [9715. 4617.]\tOutput: 44840992.00\tActual: 44854156.0\n",
      "Input: [2785. 3402.]\tOutput: 9472034.00\tActual: 9474570.0\n",
      "Input: [3725. 7957.]\tOutput: 29631360.00\tActual: 29639824.0\n",
      "Input: [4576. 9800.]\tOutput: 44831584.00\tActual: 44844800.0\n",
      "Input: [5782. 7970.]\tOutput: 46069000.00\tActual: 46082540.0\n",
      "Input: [6257. 5793.]\tOutput: 36236264.00\tActual: 36246800.0\n",
      "Input: [9793.  867.]\tOutput: 8488280.00\tActual: 8490531.0\n",
      "Input: [2408. 2144.]\tOutput: 5161425.00\tActual: 5162752.0\n",
      "Input: [ 340. 1649.]\tOutput: 560536.44\tActual: 560660.0\n",
      "Input: [2817. 6240.]\tOutput: 17573186.00\tActual: 17578080.0\n",
      "Input: [2496. 3816.]\tOutput: 9522192.00\tActual: 9524736.0\n",
      "Input: [5962. 4581.]\tOutput: 27304092.00\tActual: 27311922.0\n",
      "Input: [5299. 7998.]\tOutput: 42369012.00\tActual: 42381400.0\n",
      "Input: [9917. 6648.]\tOutput: 65908408.00\tActual: 65928216.0\n",
      "Input: [7574. 2393.]\tOutput: 18119540.00\tActual: 18124582.0\n",
      "Input: [1689. 4937.]\tOutput: 8336375.50\tActual: 8338593.0\n",
      "Input: [3267. 7858.]\tOutput: 25664796.00\tActual: 25672086.0\n",
      "Input: [4406. 6893.]\tOutput: 30361832.00\tActual: 30370558.0\n",
      "Input: [8453. 7738.]\tOutput: 65389640.00\tActual: 65409312.0\n",
      "Input: [1442. 8093.]\tOutput: 11666945.00\tActual: 11670106.0\n",
      "Input: [8597. 6107.]\tOutput: 52486260.00\tActual: 52501880.0\n",
      "Input: [4437. 5642.]\tOutput: 25026460.00\tActual: 25033554.0\n",
      "Input: [5435. 9192.]\tOutput: 49943752.00\tActual: 49958520.0\n",
      "Input: [8435. 6456.]\tOutput: 54440152.00\tActual: 54456360.0\n",
      "Input: [4107. 8533.]\tOutput: 35034884.00\tActual: 35045032.0\n",
      "Input: [ 560. 7480.]\tOutput: 4187733.25\tActual: 4188800.0\n",
      "Input: [8785. 2485.]\tOutput: 21824596.00\tActual: 21830724.0\n",
      "Input: [5548. 4368.]\tOutput: 24226794.00\tActual: 24233664.0\n",
      "Input: [1826.  771.]\tOutput: 1407513.50\tActual: 1407846.0\n",
      "Input: [7629.  263.]\tOutput: 2005943.88\tActual: 2006427.0\n",
      "Input: [8325. 8756.]\tOutput: 72871768.00\tActual: 72893696.0\n",
      "Input: [3138. 4692.]\tOutput: 14719455.00\tActual: 14723496.0\n",
      "Input: [7693. 4895.]\tOutput: 37646280.00\tActual: 37657236.0\n",
      "Input: [8264. 4898.]\tOutput: 40465208.00\tActual: 40477072.0\n",
      "Input: [7842. 6136.]\tOutput: 48104336.00\tActual: 48118512.0\n",
      "Input: [6721. 2455.]\tOutput: 16495481.00\tActual: 16500055.0\n",
      "Input: [7002. 5987.]\tOutput: 41908796.00\tActual: 41920976.0\n",
      "Input: [4225. 8061.]\tOutput: 34047900.00\tActual: 34057724.0\n",
      "Input: [2978. 5927.]\tOutput: 17645700.00\tActual: 17650606.0\n",
      "Input: [7373. 8837.]\tOutput: 65135580.00\tActual: 65155200.0\n",
      "Input: [5907. 4819.]\tOutput: 28457690.00\tActual: 28465832.0\n",
      "Input: [6097.  693.]\tOutput: 4224150.00\tActual: 4225221.0\n",
      "Input: [5656. 4939.]\tOutput: 27926970.00\tActual: 27934984.0\n",
      "Input: [8984. 7494.]\tOutput: 67305824.00\tActual: 67326096.0\n",
      "Input: [4259. 9751.]\tOutput: 41517360.00\tActual: 41529508.0\n",
      "Input: [8286. 3593.]\tOutput: 29763054.00\tActual: 29771598.0\n",
      "Input: [5901. 6264.]\tOutput: 36953216.00\tActual: 36963864.0\n",
      "Input: [9325. 2772.]\tOutput: 25841580.00\tActual: 25848900.0\n",
      "Input: [4917. 4300.]\tOutput: 21137152.00\tActual: 21143100.0\n",
      "Input: [8429.  116.]\tOutput: 977538.81\tActual: 977764.0\n",
      "Input: [2530. 3291.]\tOutput: 8324022.50\tActual: 8326230.0\n",
      "Input: [1960.  492.]\tOutput: 964099.44\tActual: 964320.0\n",
      "Input: [7045. 8716.]\tOutput: 61385836.00\tActual: 61404220.0\n",
      "Input: [1048. 6372.]\tOutput: 6676106.50\tActual: 6677856.0\n",
      "Input: [5772.  671.]\tOutput: 3872034.25\tActual: 3873012.0\n",
      "Input: [2529. 3731.]\tOutput: 9433181.00\tActual: 9435699.0\n",
      "Input: [2964. 6272.]\tOutput: 18585036.00\tActual: 18590208.0\n",
      "Input: [7137. 9412.]\tOutput: 67153232.00\tActual: 67173440.0\n",
      "Input: [ 963. 7277.]\tOutput: 7005907.00\tActual: 7007751.0\n",
      "Input: [ 536. 8533.]\tOutput: 4572520.50\tActual: 4573688.0\n",
      "Input: [7340. 3997.]\tOutput: 29329578.00\tActual: 29337980.0\n",
      "Input: [7179. 8223.]\tOutput: 59015268.00\tActual: 59032916.0\n",
      "Input: [7967. 2379.]\tOutput: 18948196.00\tActual: 18953492.0\n",
      "Input: [8734. 9080.]\tOutput: 79280840.00\tActual: 79304720.0\n",
      "Input: [ 845. 7551.]\tOutput: 6378933.00\tActual: 6380595.0\n",
      "Input: [5777. 9006.]\tOutput: 52012296.00\tActual: 52027664.0\n",
      "Input: [3036.  875.]\tOutput: 2655845.25\tActual: 2656500.0\n",
      "Input: [5947. 6969.]\tOutput: 41432556.00\tActual: 41444644.0\n",
      "Input: [2494. 2347.]\tOutput: 5851902.00\tActual: 5853418.0\n",
      "Input: [2719. 7188.]\tOutput: 19538718.00\tActual: 19544172.0\n",
      "Input: [1884.  178.]\tOutput: 335281.22\tActual: 335352.0\n",
      "Input: [4349. 8180.]\tOutput: 35564480.00\tActual: 35574820.0\n",
      "Input: [5179. 7199.]\tOutput: 37272820.00\tActual: 37283620.0\n",
      "Input: [6610. 4026.]\tOutput: 26604324.00\tActual: 26611860.0\n",
      "Input: [6430. 9147.]\tOutput: 58797748.00\tActual: 58815208.0\n",
      "Input: [7154. 7440.]\tOutput: 53209992.00\tActual: 53225760.0\n",
      "Input: [6488. 7183.]\tOutput: 46589648.00\tActual: 46603304.0\n",
      "Input: [4737. 6330.]\tOutput: 29976584.00\tActual: 29985210.0\n",
      "Input: [6525. 9323.]\tOutput: 60814332.00\tActual: 60832576.0\n",
      "Input: [3850. 5040.]\tOutput: 19398612.00\tActual: 19404000.0\n",
      "Input: [ 689. 3371.]\tOutput: 2322052.00\tActual: 2322619.0\n",
      "Input: [5175. 3556.]\tOutput: 18397160.00\tActual: 18402300.0\n",
      "Input: [8648. 7888.]\tOutput: 68194872.00\tActual: 68215424.0\n",
      "Input: [5078. 8699.]\tOutput: 44160536.00\tActual: 44173520.0\n",
      "Input: [5448. 7750.]\tOutput: 42209628.00\tActual: 42222000.0\n",
      "Input: [1179. 2811.]\tOutput: 3313341.50\tActual: 3314169.0\n",
      "Input: [9074. 1768.]\tOutput: 16038395.00\tActual: 16042832.0\n"
     ]
    }
   ],
   "source": [
    "for i in range(len(x_test))[:100]:\n",
    "    print(f\"Input: {x_test[i]}\\tOutput: {y_test_pred[i].numpy()[0]:.2f}\\tActual: {y_test[i]}\")"
   ]
  },
  {
   "cell_type": "markdown",
   "metadata": {},
   "source": [
    "Training Data"
   ]
  },
  {
   "cell_type": "code",
   "execution_count": 27,
   "metadata": {},
   "outputs": [],
   "source": [
    "y_train_pred = get_pred(x_train)"
   ]
  },
  {
   "cell_type": "code",
   "execution_count": 28,
   "metadata": {
    "scrolled": true
   },
   "outputs": [
    {
     "name": "stdout",
     "output_type": "stream",
     "text": [
      "Input: [7270. 9931.]\tOutput: 72176664.00\tActual: 72198368.0\tAbsolute Difference: 21704.00\n",
      "Input: [860. 927.]\tOutput: 797039.31\tActual: 797220.0\tAbsolute Difference: 180.69\n",
      "Input: [5390. 3631.]\tOutput: 19565606.00\tActual: 19571090.0\tAbsolute Difference: 5484.00\n",
      "Input: [5191. 7247.]\tOutput: 37608240.00\tActual: 37619176.0\tAbsolute Difference: 10936.00\n",
      "Input: [5734. 4551.]\tOutput: 26088058.00\tActual: 26095434.0\tAbsolute Difference: 7376.00\n",
      "Input: [6265. 3976.]\tOutput: 24902612.00\tActual: 24909640.0\tAbsolute Difference: 7028.00\n",
      "Input: [ 466. 6059.]\tOutput: 2822797.75\tActual: 2823494.0\tAbsolute Difference: 696.25\n",
      "Input: [4426.  226.]\tOutput: 1000046.00\tActual: 1000276.0\tAbsolute Difference: 230.00\n",
      "Input: [5578. 3277.]\tOutput: 18274024.00\tActual: 18279106.0\tAbsolute Difference: 5082.00\n",
      "Input: [8322. 8895.]\tOutput: 74001968.00\tActual: 74024192.0\tAbsolute Difference: 22224.00\n",
      "Input: [1685. 6124.]\tOutput: 10316152.00\tActual: 10318940.0\tAbsolute Difference: 2788.00\n",
      "Input: [ 769. 5209.]\tOutput: 4004707.00\tActual: 4005721.0\tAbsolute Difference: 1014.00\n",
      "Input: [6949. 4246.]\tOutput: 29497040.00\tActual: 29505454.0\tAbsolute Difference: 8414.00\n",
      "Input: [2433. 7296.]\tOutput: 17746216.00\tActual: 17751168.0\tAbsolute Difference: 4952.00\n",
      "Input: [5311. 3468.]\tOutput: 18413380.00\tActual: 18418548.0\tAbsolute Difference: 5168.00\n",
      "Input: [5051. 3897.]\tOutput: 19678256.00\tActual: 19683748.0\tAbsolute Difference: 5492.00\n",
      "Input: [6420. 1892.]\tOutput: 12143348.00\tActual: 12146640.0\tAbsolute Difference: 3292.00\n",
      "Input: [1184. 5832.]\tOutput: 6903272.50\tActual: 6905088.0\tAbsolute Difference: 1815.50\n",
      "Input: [4555. 3576.]\tOutput: 16284190.00\tActual: 16288680.0\tAbsolute Difference: 4490.00\n",
      "Input: [3385. 3517.]\tOutput: 11901822.00\tActual: 11905045.0\tAbsolute Difference: 3223.00\n",
      "Input: [6396. 1745.]\tOutput: 11157995.00\tActual: 11161020.0\tAbsolute Difference: 3025.00\n",
      "Input: [8666. 9497.]\tOutput: 82275976.00\tActual: 82301000.0\tAbsolute Difference: 25024.00\n",
      "Input: [9274. 3130.]\tOutput: 29019300.00\tActual: 29027620.0\tAbsolute Difference: 8320.00\n",
      "Input: [2558. 2972.]\tOutput: 7600367.00\tActual: 7602376.0\tAbsolute Difference: 2009.00\n",
      "Input: [7849. 3172.]\tOutput: 24889980.00\tActual: 24897028.0\tAbsolute Difference: 7048.00\n",
      "Input: [2047. 1954.]\tOutput: 3998826.00\tActual: 3999838.0\tAbsolute Difference: 1012.00\n",
      "Input: [2747. 4121.]\tOutput: 11317334.00\tActual: 11320387.0\tAbsolute Difference: 3053.00\n",
      "Input: [9167. 4762.]\tOutput: 43640472.00\tActual: 43653256.0\tAbsolute Difference: 12784.00\n",
      "Input: [9998. 6614.]\tOutput: 66106824.00\tActual: 66126772.0\tAbsolute Difference: 19948.00\n",
      "Input: [ 189. 5131.]\tOutput: 969535.75\tActual: 969759.0\tAbsolute Difference: 223.25\n",
      "Input: [2734. 2808.]\tOutput: 7675048.00\tActual: 7677072.0\tAbsolute Difference: 2024.00\n",
      "Input: [3005. 7212.]\tOutput: 21665992.00\tActual: 21672060.0\tAbsolute Difference: 6068.00\n",
      "Input: [4658. 9624.]\tOutput: 44815424.00\tActual: 44828592.0\tAbsolute Difference: 13168.00\n",
      "Input: [1899. 8493.]\tOutput: 16123755.00\tActual: 16128207.0\tAbsolute Difference: 4452.00\n",
      "Input: [7734. 3607.]\tOutput: 27888592.00\tActual: 27896538.0\tAbsolute Difference: 7946.00\n",
      "Input: [1267. 6556.]\tOutput: 8304247.50\tActual: 8306452.0\tAbsolute Difference: 2204.50\n",
      "Input: [1528. 4312.]\tOutput: 6587017.00\tActual: 6588736.0\tAbsolute Difference: 1719.00\n",
      "Input: [3556. 8070.]\tOutput: 28688710.00\tActual: 28696920.0\tAbsolute Difference: 8210.00\n",
      "Input: [3890. 8866.]\tOutput: 34478760.00\tActual: 34488740.0\tAbsolute Difference: 9980.00\n",
      "Input: [8838.  636.]\tOutput: 5619513.50\tActual: 5620968.0\tAbsolute Difference: 1454.50\n",
      "Input: [5393. 1725.]\tOutput: 9300440.00\tActual: 9302925.0\tAbsolute Difference: 2485.00\n",
      "Input: [8792. 8073.]\tOutput: 70956504.00\tActual: 70977816.0\tAbsolute Difference: 21312.00\n",
      "Input: [8433. 8677.]\tOutput: 73150976.00\tActual: 73173144.0\tAbsolute Difference: 22168.00\n",
      "Input: [7513. 8170.]\tOutput: 61362892.00\tActual: 61381208.0\tAbsolute Difference: 18316.00\n",
      "Input: [2612. 8766.]\tOutput: 22890310.00\tActual: 22896792.0\tAbsolute Difference: 6482.00\n",
      "Input: [7041. 8709.]\tOutput: 61301828.00\tActual: 61320068.0\tAbsolute Difference: 18240.00\n",
      "Input: [9555. 6590.]\tOutput: 62948564.00\tActual: 62967448.0\tAbsolute Difference: 18884.00\n",
      "Input: [6235. 3700.]\tOutput: 23062978.00\tActual: 23069500.0\tAbsolute Difference: 6522.00\n",
      "Input: [5486. 6883.]\tOutput: 37749172.00\tActual: 37760136.0\tAbsolute Difference: 10964.00\n",
      "Input: [7099. 9246.]\tOutput: 65617652.00\tActual: 65637352.0\tAbsolute Difference: 19700.00\n",
      "Input: [9670. 5071.]\tOutput: 49022148.00\tActual: 49036568.0\tAbsolute Difference: 14420.00\n",
      "Input: [ 775. 1305.]\tOutput: 1011142.56\tActual: 1011375.0\tAbsolute Difference: 232.44\n",
      "Input: [8226. 2090.]\tOutput: 17187562.00\tActual: 17192340.0\tAbsolute Difference: 4778.00\n",
      "Input: [3152. 5399.]\tOutput: 17012970.00\tActual: 17017648.0\tAbsolute Difference: 4678.00\n",
      "Input: [1585. 3672.]\tOutput: 5818601.50\tActual: 5820120.0\tAbsolute Difference: 1518.50\n",
      "Input: [3943. 6075.]\tOutput: 23946964.00\tActual: 23953724.0\tAbsolute Difference: 6760.00\n",
      "Input: [7555. 6420.]\tOutput: 48488832.00\tActual: 48503100.0\tAbsolute Difference: 14268.00\n",
      "Input: [3073. 4480.]\tOutput: 13763287.00\tActual: 13767040.0\tAbsolute Difference: 3753.00\n",
      "Input: [1021. 4857.]\tOutput: 4957718.50\tActual: 4958997.0\tAbsolute Difference: 1278.50\n",
      "Input: [3843. 2813.]\tOutput: 10807441.00\tActual: 10810359.0\tAbsolute Difference: 2918.00\n",
      "Input: [7989. 5688.]\tOutput: 45428100.00\tActual: 45441432.0\tAbsolute Difference: 13332.00\n",
      "Input: [9692. 1066.]\tOutput: 10328891.00\tActual: 10331672.0\tAbsolute Difference: 2781.00\n",
      "Input: [6873. 5044.]\tOutput: 34657372.00\tActual: 34667412.0\tAbsolute Difference: 10040.00\n",
      "Input: [5675. 3532.]\tOutput: 20038456.00\tActual: 20044100.0\tAbsolute Difference: 5644.00\n",
      "Input: [161. 788.]\tOutput: 126843.16\tActual: 126868.0\tAbsolute Difference: 24.84\n",
      "Input: [4297. 4343.]\tOutput: 18656674.00\tActual: 18661872.0\tAbsolute Difference: 5198.00\n",
      "Input: [ 995. 3801.]\tOutput: 3781040.25\tActual: 3781995.0\tAbsolute Difference: 954.75\n",
      "Input: [7629. 8633.]\tOutput: 65841436.00\tActual: 65861156.0\tAbsolute Difference: 19720.00\n",
      "Input: [9467. 5282.]\tOutput: 49989880.00\tActual: 50004696.0\tAbsolute Difference: 14816.00\n",
      "Input: [1016. 6804.]\tOutput: 6911052.00\tActual: 6912864.0\tAbsolute Difference: 1812.00\n",
      "Input: [7869. 4522.]\tOutput: 35573368.00\tActual: 35583616.0\tAbsolute Difference: 10248.00\n",
      "Input: [6439. 1859.]\tOutput: 11966855.00\tActual: 11970101.0\tAbsolute Difference: 3246.00\n",
      "Input: [7892. 9281.]\tOutput: 73223568.00\tActual: 73245648.0\tAbsolute Difference: 22080.00\n",
      "Input: [6863. 2582.]\tOutput: 17715338.00\tActual: 17720266.0\tAbsolute Difference: 4928.00\n",
      "Input: [7916. 8158.]\tOutput: 64559328.00\tActual: 64578728.0\tAbsolute Difference: 19400.00\n",
      "Input: [8529. 1051.]\tOutput: 8961581.00\tActual: 8963979.0\tAbsolute Difference: 2398.00\n",
      "Input: [ 878. 9014.]\tOutput: 7912203.50\tActual: 7914292.0\tAbsolute Difference: 2088.50\n",
      "Input: [9268. 2179.]\tOutput: 20189302.00\tActual: 20194972.0\tAbsolute Difference: 5670.00\n",
      "Input: [4887. 2817.]\tOutput: 13762920.00\tActual: 13766679.0\tAbsolute Difference: 3759.00\n",
      "Input: [4859. 4624.]\tOutput: 22461704.00\tActual: 22468016.0\tAbsolute Difference: 6312.00\n",
      "Input: [6331. 9792.]\tOutput: 61974528.00\tActual: 61993152.0\tAbsolute Difference: 18624.00\n",
      "Input: [8571. 8577.]\tOutput: 73491368.00\tActual: 73513464.0\tAbsolute Difference: 22096.00\n",
      "Input: [8684. 7411.]\tOutput: 64337940.00\tActual: 64357124.0\tAbsolute Difference: 19184.00\n",
      "Input: [7208. 7286.]\tOutput: 52501880.00\tActual: 52517488.0\tAbsolute Difference: 15608.00\n",
      "Input: [5276. 2165.]\tOutput: 11419462.00\tActual: 11422540.0\tAbsolute Difference: 3078.00\n",
      "Input: [2062.  868.]\tOutput: 1789385.38\tActual: 1789816.0\tAbsolute Difference: 430.62\n",
      "Input: [  64. 5590.]\tOutput: 357683.94\tActual: 357760.0\tAbsolute Difference: 76.06\n",
      "Input: [8006. 6745.]\tOutput: 53984464.00\tActual: 54000472.0\tAbsolute Difference: 16008.00\n",
      "Input: [2568. 5183.]\tOutput: 13306292.00\tActual: 13309944.0\tAbsolute Difference: 3652.00\n",
      "Input: [5463. 5332.]\tOutput: 29120378.00\tActual: 29128716.0\tAbsolute Difference: 8338.00\n",
      "Input: [2027. 5897.]\tOutput: 11949976.00\tActual: 11953219.0\tAbsolute Difference: 3243.00\n",
      "Input: [2695. 9238.]\tOutput: 24889364.00\tActual: 24896410.0\tAbsolute Difference: 7046.00\n",
      "Input: [9687. 5026.]\tOutput: 48672580.00\tActual: 48686864.0\tAbsolute Difference: 14284.00\n",
      "Input: [5258. 6116.]\tOutput: 32148650.00\tActual: 32157928.0\tAbsolute Difference: 9278.00\n",
      "Input: [5618. 3435.]\tOutput: 19292420.00\tActual: 19297830.0\tAbsolute Difference: 5410.00\n",
      "Input: [6736. 8138.]\tOutput: 54801344.00\tActual: 54817568.0\tAbsolute Difference: 16224.00\n",
      "Input: [ 391. 4973.]\tOutput: 1943975.38\tActual: 1944443.0\tAbsolute Difference: 467.62\n",
      "Input: [5892. 1581.]\tOutput: 9312759.00\tActual: 9315252.0\tAbsolute Difference: 2493.00\n",
      "Input: [3561. 6405.]\tOutput: 22801764.00\tActual: 22808204.0\tAbsolute Difference: 6440.00\n",
      "Input: [6184. 3551.]\tOutput: 21953226.00\tActual: 21959384.0\tAbsolute Difference: 6158.00\n"
     ]
    }
   ],
   "source": [
    "for i in range(100):\n",
    "    print(f\"Input: {x_train[i]}\\tOutput: {y_train_pred[i].numpy()[0]:.2f}\\tActual: {y_train[i]}\\tAbsolute Difference: {tf.math.abs(y_train_pred[i]-y_train[i])[0]:.2f}\")"
   ]
  },
  {
   "cell_type": "code",
   "execution_count": 29,
   "metadata": {
    "scrolled": true
   },
   "outputs": [
    {
     "name": "stdout",
     "output_type": "stream",
     "text": [
      "Input: [7270. 9931.]\tOutput: 72176664.00\tActual: 72198368.0\tAbsolute Difference: 21704.00\n",
      "Input: [860. 927.]\tOutput: 797039.31\tActual: 797220.0\tAbsolute Difference: 180.69\n",
      "Input: [5390. 3631.]\tOutput: 19565606.00\tActual: 19571090.0\tAbsolute Difference: 5484.00\n",
      "Input: [5191. 7247.]\tOutput: 37608240.00\tActual: 37619176.0\tAbsolute Difference: 10936.00\n",
      "Input: [5734. 4551.]\tOutput: 26088058.00\tActual: 26095434.0\tAbsolute Difference: 7376.00\n",
      "Input: [6265. 3976.]\tOutput: 24902612.00\tActual: 24909640.0\tAbsolute Difference: 7028.00\n",
      "Input: [ 466. 6059.]\tOutput: 2822797.75\tActual: 2823494.0\tAbsolute Difference: 696.25\n",
      "Input: [4426.  226.]\tOutput: 1000046.00\tActual: 1000276.0\tAbsolute Difference: 230.00\n",
      "Input: [5578. 3277.]\tOutput: 18274024.00\tActual: 18279106.0\tAbsolute Difference: 5082.00\n",
      "Input: [8322. 8895.]\tOutput: 74001968.00\tActual: 74024192.0\tAbsolute Difference: 22224.00\n",
      "Input: [1685. 6124.]\tOutput: 10316152.00\tActual: 10318940.0\tAbsolute Difference: 2788.00\n",
      "Input: [ 769. 5209.]\tOutput: 4004707.00\tActual: 4005721.0\tAbsolute Difference: 1014.00\n",
      "Input: [6949. 4246.]\tOutput: 29497040.00\tActual: 29505454.0\tAbsolute Difference: 8414.00\n",
      "Input: [2433. 7296.]\tOutput: 17746216.00\tActual: 17751168.0\tAbsolute Difference: 4952.00\n",
      "Input: [5311. 3468.]\tOutput: 18413380.00\tActual: 18418548.0\tAbsolute Difference: 5168.00\n",
      "Input: [5051. 3897.]\tOutput: 19678256.00\tActual: 19683748.0\tAbsolute Difference: 5492.00\n",
      "Input: [6420. 1892.]\tOutput: 12143348.00\tActual: 12146640.0\tAbsolute Difference: 3292.00\n",
      "Input: [1184. 5832.]\tOutput: 6903272.50\tActual: 6905088.0\tAbsolute Difference: 1815.50\n",
      "Input: [4555. 3576.]\tOutput: 16284190.00\tActual: 16288680.0\tAbsolute Difference: 4490.00\n",
      "Input: [3385. 3517.]\tOutput: 11901822.00\tActual: 11905045.0\tAbsolute Difference: 3223.00\n",
      "Input: [6396. 1745.]\tOutput: 11157995.00\tActual: 11161020.0\tAbsolute Difference: 3025.00\n",
      "Input: [8666. 9497.]\tOutput: 82275976.00\tActual: 82301000.0\tAbsolute Difference: 25024.00\n",
      "Input: [9274. 3130.]\tOutput: 29019300.00\tActual: 29027620.0\tAbsolute Difference: 8320.00\n",
      "Input: [2558. 2972.]\tOutput: 7600367.00\tActual: 7602376.0\tAbsolute Difference: 2009.00\n",
      "Input: [7849. 3172.]\tOutput: 24889980.00\tActual: 24897028.0\tAbsolute Difference: 7048.00\n",
      "Input: [2047. 1954.]\tOutput: 3998826.00\tActual: 3999838.0\tAbsolute Difference: 1012.00\n",
      "Input: [2747. 4121.]\tOutput: 11317334.00\tActual: 11320387.0\tAbsolute Difference: 3053.00\n",
      "Input: [9167. 4762.]\tOutput: 43640472.00\tActual: 43653256.0\tAbsolute Difference: 12784.00\n",
      "Input: [9998. 6614.]\tOutput: 66106824.00\tActual: 66126772.0\tAbsolute Difference: 19948.00\n",
      "Input: [ 189. 5131.]\tOutput: 969535.75\tActual: 969759.0\tAbsolute Difference: 223.25\n",
      "Input: [2734. 2808.]\tOutput: 7675048.00\tActual: 7677072.0\tAbsolute Difference: 2024.00\n",
      "Input: [3005. 7212.]\tOutput: 21665992.00\tActual: 21672060.0\tAbsolute Difference: 6068.00\n",
      "Input: [4658. 9624.]\tOutput: 44815424.00\tActual: 44828592.0\tAbsolute Difference: 13168.00\n",
      "Input: [1899. 8493.]\tOutput: 16123755.00\tActual: 16128207.0\tAbsolute Difference: 4452.00\n",
      "Input: [7734. 3607.]\tOutput: 27888592.00\tActual: 27896538.0\tAbsolute Difference: 7946.00\n",
      "Input: [1267. 6556.]\tOutput: 8304247.50\tActual: 8306452.0\tAbsolute Difference: 2204.50\n",
      "Input: [1528. 4312.]\tOutput: 6587017.00\tActual: 6588736.0\tAbsolute Difference: 1719.00\n",
      "Input: [3556. 8070.]\tOutput: 28688710.00\tActual: 28696920.0\tAbsolute Difference: 8210.00\n",
      "Input: [3890. 8866.]\tOutput: 34478760.00\tActual: 34488740.0\tAbsolute Difference: 9980.00\n",
      "Input: [8838.  636.]\tOutput: 5619513.50\tActual: 5620968.0\tAbsolute Difference: 1454.50\n",
      "Input: [5393. 1725.]\tOutput: 9300440.00\tActual: 9302925.0\tAbsolute Difference: 2485.00\n",
      "Input: [8792. 8073.]\tOutput: 70956504.00\tActual: 70977816.0\tAbsolute Difference: 21312.00\n",
      "Input: [8433. 8677.]\tOutput: 73150976.00\tActual: 73173144.0\tAbsolute Difference: 22168.00\n",
      "Input: [7513. 8170.]\tOutput: 61362892.00\tActual: 61381208.0\tAbsolute Difference: 18316.00\n",
      "Input: [2612. 8766.]\tOutput: 22890310.00\tActual: 22896792.0\tAbsolute Difference: 6482.00\n",
      "Input: [7041. 8709.]\tOutput: 61301828.00\tActual: 61320068.0\tAbsolute Difference: 18240.00\n",
      "Input: [9555. 6590.]\tOutput: 62948564.00\tActual: 62967448.0\tAbsolute Difference: 18884.00\n",
      "Input: [6235. 3700.]\tOutput: 23062978.00\tActual: 23069500.0\tAbsolute Difference: 6522.00\n",
      "Input: [5486. 6883.]\tOutput: 37749172.00\tActual: 37760136.0\tAbsolute Difference: 10964.00\n",
      "Input: [7099. 9246.]\tOutput: 65617652.00\tActual: 65637352.0\tAbsolute Difference: 19700.00\n",
      "Input: [9670. 5071.]\tOutput: 49022148.00\tActual: 49036568.0\tAbsolute Difference: 14420.00\n",
      "Input: [ 775. 1305.]\tOutput: 1011142.56\tActual: 1011375.0\tAbsolute Difference: 232.44\n",
      "Input: [8226. 2090.]\tOutput: 17187562.00\tActual: 17192340.0\tAbsolute Difference: 4778.00\n",
      "Input: [3152. 5399.]\tOutput: 17012970.00\tActual: 17017648.0\tAbsolute Difference: 4678.00\n",
      "Input: [1585. 3672.]\tOutput: 5818601.50\tActual: 5820120.0\tAbsolute Difference: 1518.50\n",
      "Input: [3943. 6075.]\tOutput: 23946964.00\tActual: 23953724.0\tAbsolute Difference: 6760.00\n",
      "Input: [7555. 6420.]\tOutput: 48488832.00\tActual: 48503100.0\tAbsolute Difference: 14268.00\n",
      "Input: [3073. 4480.]\tOutput: 13763287.00\tActual: 13767040.0\tAbsolute Difference: 3753.00\n",
      "Input: [1021. 4857.]\tOutput: 4957718.50\tActual: 4958997.0\tAbsolute Difference: 1278.50\n",
      "Input: [3843. 2813.]\tOutput: 10807441.00\tActual: 10810359.0\tAbsolute Difference: 2918.00\n",
      "Input: [7989. 5688.]\tOutput: 45428100.00\tActual: 45441432.0\tAbsolute Difference: 13332.00\n",
      "Input: [9692. 1066.]\tOutput: 10328891.00\tActual: 10331672.0\tAbsolute Difference: 2781.00\n",
      "Input: [6873. 5044.]\tOutput: 34657372.00\tActual: 34667412.0\tAbsolute Difference: 10040.00\n",
      "Input: [5675. 3532.]\tOutput: 20038456.00\tActual: 20044100.0\tAbsolute Difference: 5644.00\n",
      "Input: [161. 788.]\tOutput: 126843.16\tActual: 126868.0\tAbsolute Difference: 24.84\n",
      "Input: [4297. 4343.]\tOutput: 18656674.00\tActual: 18661872.0\tAbsolute Difference: 5198.00\n",
      "Input: [ 995. 3801.]\tOutput: 3781040.25\tActual: 3781995.0\tAbsolute Difference: 954.75\n",
      "Input: [7629. 8633.]\tOutput: 65841436.00\tActual: 65861156.0\tAbsolute Difference: 19720.00\n",
      "Input: [9467. 5282.]\tOutput: 49989880.00\tActual: 50004696.0\tAbsolute Difference: 14816.00\n",
      "Input: [1016. 6804.]\tOutput: 6911052.00\tActual: 6912864.0\tAbsolute Difference: 1812.00\n",
      "Input: [7869. 4522.]\tOutput: 35573368.00\tActual: 35583616.0\tAbsolute Difference: 10248.00\n",
      "Input: [6439. 1859.]\tOutput: 11966855.00\tActual: 11970101.0\tAbsolute Difference: 3246.00\n",
      "Input: [7892. 9281.]\tOutput: 73223568.00\tActual: 73245648.0\tAbsolute Difference: 22080.00\n",
      "Input: [6863. 2582.]\tOutput: 17715338.00\tActual: 17720266.0\tAbsolute Difference: 4928.00\n",
      "Input: [7916. 8158.]\tOutput: 64559328.00\tActual: 64578728.0\tAbsolute Difference: 19400.00\n",
      "Input: [8529. 1051.]\tOutput: 8961581.00\tActual: 8963979.0\tAbsolute Difference: 2398.00\n",
      "Input: [ 878. 9014.]\tOutput: 7912203.50\tActual: 7914292.0\tAbsolute Difference: 2088.50\n",
      "Input: [9268. 2179.]\tOutput: 20189302.00\tActual: 20194972.0\tAbsolute Difference: 5670.00\n",
      "Input: [4887. 2817.]\tOutput: 13762920.00\tActual: 13766679.0\tAbsolute Difference: 3759.00\n",
      "Input: [4859. 4624.]\tOutput: 22461704.00\tActual: 22468016.0\tAbsolute Difference: 6312.00\n",
      "Input: [6331. 9792.]\tOutput: 61974528.00\tActual: 61993152.0\tAbsolute Difference: 18624.00\n",
      "Input: [8571. 8577.]\tOutput: 73491368.00\tActual: 73513464.0\tAbsolute Difference: 22096.00\n",
      "Input: [8684. 7411.]\tOutput: 64337940.00\tActual: 64357124.0\tAbsolute Difference: 19184.00\n",
      "Input: [7208. 7286.]\tOutput: 52501880.00\tActual: 52517488.0\tAbsolute Difference: 15608.00\n",
      "Input: [5276. 2165.]\tOutput: 11419462.00\tActual: 11422540.0\tAbsolute Difference: 3078.00\n",
      "Input: [2062.  868.]\tOutput: 1789385.38\tActual: 1789816.0\tAbsolute Difference: 430.62\n",
      "Input: [  64. 5590.]\tOutput: 357683.94\tActual: 357760.0\tAbsolute Difference: 76.06\n",
      "Input: [8006. 6745.]\tOutput: 53984464.00\tActual: 54000472.0\tAbsolute Difference: 16008.00\n",
      "Input: [2568. 5183.]\tOutput: 13306292.00\tActual: 13309944.0\tAbsolute Difference: 3652.00\n",
      "Input: [5463. 5332.]\tOutput: 29120378.00\tActual: 29128716.0\tAbsolute Difference: 8338.00\n",
      "Input: [2027. 5897.]\tOutput: 11949976.00\tActual: 11953219.0\tAbsolute Difference: 3243.00\n",
      "Input: [2695. 9238.]\tOutput: 24889364.00\tActual: 24896410.0\tAbsolute Difference: 7046.00\n",
      "Input: [9687. 5026.]\tOutput: 48672580.00\tActual: 48686864.0\tAbsolute Difference: 14284.00\n",
      "Input: [5258. 6116.]\tOutput: 32148650.00\tActual: 32157928.0\tAbsolute Difference: 9278.00\n",
      "Input: [5618. 3435.]\tOutput: 19292420.00\tActual: 19297830.0\tAbsolute Difference: 5410.00\n",
      "Input: [6736. 8138.]\tOutput: 54801344.00\tActual: 54817568.0\tAbsolute Difference: 16224.00\n",
      "Input: [ 391. 4973.]\tOutput: 1943975.38\tActual: 1944443.0\tAbsolute Difference: 467.62\n",
      "Input: [5892. 1581.]\tOutput: 9312759.00\tActual: 9315252.0\tAbsolute Difference: 2493.00\n",
      "Input: [3561. 6405.]\tOutput: 22801764.00\tActual: 22808204.0\tAbsolute Difference: 6440.00\n",
      "Input: [6184. 3551.]\tOutput: 21953226.00\tActual: 21959384.0\tAbsolute Difference: 6158.00\n"
     ]
    }
   ],
   "source": [
    "for i in range(100):\n",
    "    print(f\"Input: {x_train[i]}\\tOutput: {y_train_pred[i].numpy()[0]:.2f}\\tActual: {y_train[i]}\\tAbsolute Difference: {tf.math.abs(y_train_pred[i]-y_train[i])[0]:.2f}\")"
   ]
  },
  {
   "cell_type": "code",
   "execution_count": null,
   "metadata": {},
   "outputs": [],
   "source": []
  },
  {
   "cell_type": "markdown",
   "metadata": {},
   "source": [
    "### Division"
   ]
  },
  {
   "cell_type": "markdown",
   "metadata": {},
   "source": [
    "**Creating training data**"
   ]
  },
  {
   "cell_type": "code",
   "execution_count": 30,
   "metadata": {},
   "outputs": [],
   "source": [
    "np.random.seed(42)"
   ]
  },
  {
   "cell_type": "code",
   "execution_count": 31,
   "metadata": {},
   "outputs": [],
   "source": [
    "# Generate a series of input number X1 and X2 for training\n",
    "x1 = np.random.randint(low=0, high=10000, size=1000)\n",
    "x1 = x1.astype('float32')\n",
    "x2 = np.random.randint(low=100, high=10000, size=1000)\n",
    "x2 = x2.astype('float32')"
   ]
  },
  {
   "cell_type": "code",
   "execution_count": 32,
   "metadata": {},
   "outputs": [],
   "source": [
    "y_train = x1/x2"
   ]
  },
  {
   "cell_type": "code",
   "execution_count": 33,
   "metadata": {},
   "outputs": [],
   "source": [
    "x_train = np.column_stack((x1,x2))"
   ]
  },
  {
   "cell_type": "code",
   "execution_count": 34,
   "metadata": {},
   "outputs": [
    {
     "name": "stdout",
     "output_type": "stream",
     "text": [
      "(1000, 2)\n",
      "(1000,)\n"
     ]
    }
   ],
   "source": [
    "print(x_train.shape)\n",
    "print(y_train.shape)"
   ]
  },
  {
   "cell_type": "code",
   "execution_count": 35,
   "metadata": {},
   "outputs": [
    {
     "data": {
      "image/png": "[encoded data removed]",
      "text/plain": [
       "<Figure size 432x288 with 1 Axes>"
      ]
     },
     "metadata": {
      "needs_background": "light"
     },
     "output_type": "display_data"
    }
   ],
   "source": [
    "_ = plt.hist(y_train)"
   ]
  },
  {
   "cell_type": "markdown",
   "metadata": {},
   "source": [
    "Majority of y lies between 0 & 20"
   ]
  },
  {
   "cell_type": "code",
   "execution_count": null,
   "metadata": {},
   "outputs": [],
   "source": []
  },
  {
   "cell_type": "markdown",
   "metadata": {},
   "source": [
    "**Creating testing data**"
   ]
  },
  {
   "cell_type": "code",
   "execution_count": 36,
   "metadata": {},
   "outputs": [],
   "source": [
    "# Generate a series of input number X1 and X2 for testing\n",
    "x1 = np.random.randint(low=0, high=10000, size=100)\n",
    "x1 = x1.astype('float32')\n",
    "x2 = np.random.randint(low=100, high=10000, size=100)\n",
    "x2 = x2.astype('float32')"
   ]
  },
  {
   "cell_type": "code",
   "execution_count": 37,
   "metadata": {},
   "outputs": [],
   "source": [
    "x_test = np.column_stack((x1,x2))\n",
    "y_test = x1/x2"
   ]
  },
  {
   "cell_type": "code",
   "execution_count": 38,
   "metadata": {},
   "outputs": [
    {
     "name": "stdout",
     "output_type": "stream",
     "text": [
      "(100, 2)\n",
      "(100,)\n"
     ]
    }
   ],
   "source": [
    "print(x_test.shape)\n",
    "print(y_test.shape)"
   ]
  },
  {
   "cell_type": "code",
   "execution_count": null,
   "metadata": {},
   "outputs": [],
   "source": []
  },
  {
   "cell_type": "markdown",
   "metadata": {},
   "source": [
    "**Modelling**"
   ]
  },
  {
   "cell_type": "code",
   "execution_count": 39,
   "metadata": {},
   "outputs": [],
   "source": [
    "n_epochs = 10000\n",
    "alpha = 0.1\n",
    "epsilon = 0.000001"
   ]
  },
  {
   "cell_type": "code",
   "execution_count": 40,
   "metadata": {},
   "outputs": [],
   "source": [
    "W_hat = tf.Variable(shape=[2, 1],\n",
    "                        initial_value=tf.random.uniform(shape=[2, 1], minval=-2, maxval=2),\n",
    "                        trainable=True, name=\"W_hat\")\n",
    "M_hat = tf.Variable(shape=[2, 1],\n",
    "                        initial_value=tf.random.uniform(shape=[2, 1], minval=-2, maxval=2),\n",
    "                        trainable=True, name=\"M_hat\")"
   ]
  },
  {
   "cell_type": "code",
   "execution_count": 41,
   "metadata": {},
   "outputs": [],
   "source": [
    "optimize = tf.keras.optimizers.Adam(learning_rate=alpha)"
   ]
  },
  {
   "cell_type": "code",
   "execution_count": 42,
   "metadata": {},
   "outputs": [
    {
     "name": "stdout",
     "output_type": "stream",
     "text": [
      "RMSE Loss: 11.852006912231445\n",
      "RMSLE Loss: 2.85\n"
     ]
    }
   ],
   "source": [
    "W = tf.nn.tanh(W_hat) * tf.nn.sigmoid(M_hat) \n",
    "# Express input feature in log space to learn complex functions\n",
    "x_modified = tf.math.log(tf.abs(x_train) + epsilon)\n",
    "y_pred = tf.exp(tf.matmul(x_modified, W))\n",
    "print(f\"RMSE Loss: {rmse_loss(y_pred, y_train)}\")\n",
    "print(f\"RMSLE Loss: {rmsle_loss(y_pred, y_train):.2f}\")"
   ]
  },
  {
   "cell_type": "code",
   "execution_count": 43,
   "metadata": {},
   "outputs": [],
   "source": [
    "loss_history = []"
   ]
  },
  {
   "cell_type": "code",
   "execution_count": 44,
   "metadata": {},
   "outputs": [],
   "source": [
    "def train(X, y, learning_rate=0.01):\n",
    "    with tf.GradientTape() as t:\n",
    "        # update weight matrix (W) -> restricted to [-1, 1]\n",
    "        W = tf.nn.tanh(W_hat) * tf.nn.sigmoid(M_hat) \n",
    "        # express input feature in log space to learn complex functions\n",
    "        x_modified = tf.math.log(tf.abs(X) + epsilon)\n",
    "        # make prediction\n",
    "        y_pred = tf.exp(tf.matmul(x_modified, W))\n",
    "        # calculate both loss\n",
    "        rmsle = rmsle_loss(y_pred, y)\n",
    "        rmse = rmse_loss(y_pred, y)\n",
    "    # calculate gradient w.r.t rmsle loss\n",
    "    dW_hat, dM_hat = t.gradient(rmsle, (W_hat, M_hat))\n",
    "    optimize.apply_gradients(zip([dW_hat, dM_hat], [W_hat, M_hat]))\n",
    "    return rmsle, rmse"
   ]
  },
  {
   "cell_type": "markdown",
   "metadata": {},
   "source": [
    "**Looping**"
   ]
  },
  {
   "cell_type": "code",
   "execution_count": 45,
   "metadata": {},
   "outputs": [],
   "source": [
    "y_train = y_train.astype('float32')"
   ]
  },
  {
   "cell_type": "code",
   "execution_count": 46,
   "metadata": {
    "scrolled": true
   },
   "outputs": [
    {
     "name": "stdout",
     "output_type": "stream",
     "text": [
      "Epoch: 0\tRMSE Loss: 11.85\tRMSLE Loss: 2.8488261699676514\n",
      "Epoch: 500\tRMSE Loss: 8.57\tRMSLE Loss: 0.005965225864201784\n",
      "Epoch: 1000\tRMSE Loss: 8.62\tRMSLE Loss: 0.0018308021826669574\n",
      "Epoch: 1500\tRMSE Loss: 8.63\tRMSLE Loss: 0.0009020435390993953\n",
      "Epoch: 2000\tRMSE Loss: 8.63\tRMSLE Loss: 0.0005307287792675197\n",
      "Epoch: 2500\tRMSE Loss: 8.63\tRMSLE Loss: 0.0003425833419896662\n",
      "Epoch: 3000\tRMSE Loss: 8.64\tRMSLE Loss: 0.0002339521743124351\n",
      "Epoch: 3500\tRMSE Loss: 8.64\tRMSLE Loss: 0.00016538774070795625\n",
      "Epoch: 4000\tRMSE Loss: 8.64\tRMSLE Loss: 0.00012001246068393812\n",
      "Epoch: 4500\tRMSE Loss: 8.64\tRMSLE Loss: 8.859192894306034e-05\n",
      "Epoch: 5000\tRMSE Loss: 8.64\tRMSLE Loss: 6.637765909545124e-05\n",
      "Epoch: 5500\tRMSE Loss: 8.64\tRMSLE Loss: 5.018784577259794e-05\n",
      "Epoch: 6000\tRMSE Loss: 8.64\tRMSLE Loss: 3.81501522497274e-05\n",
      "Epoch: 6500\tRMSE Loss: 8.64\tRMSLE Loss: 2.9216074835858308e-05\n",
      "Epoch: 7000\tRMSE Loss: 8.64\tRMSLE Loss: 2.2349351638695225e-05\n",
      "Epoch: 7500\tRMSE Loss: 8.64\tRMSLE Loss: 1.7331854905933142e-05\n",
      "Epoch: 8000\tRMSE Loss: 8.64\tRMSLE Loss: 1.3466830750985537e-05\n",
      "Epoch: 8500\tRMSE Loss: 8.64\tRMSLE Loss: 1.0421269507787656e-05\n",
      "Epoch: 9000\tRMSE Loss: 8.64\tRMSLE Loss: 8.005369636521209e-06\n",
      "Epoch: 9500\tRMSE Loss: 8.64\tRMSLE Loss: 5.952338597126072e-06\n"
     ]
    }
   ],
   "source": [
    "for epoch in range(n_epochs):\n",
    "    rmsle, rmse = train(x_train, y_train)\n",
    "    loss_history.append(rmsle)\n",
    "    if epoch%500==0:\n",
    "        print(f\"Epoch: {epoch}\\tRMSE Loss: {rmse:.2f}\\tRMSLE Loss: {rmsle}\")"
   ]
  },
  {
   "cell_type": "code",
   "execution_count": 47,
   "metadata": {},
   "outputs": [
    {
     "data": {
      "text/plain": [
       "[<matplotlib.lines.Line2D at 0x13ae719b0>]"
      ]
     },
     "execution_count": 47,
     "metadata": {},
     "output_type": "execute_result"
    },
    {
     "data": {
      "image/png": "[encoded data removed]",
      "text/plain": [
       "<Figure size 432x288 with 1 Axes>"
      ]
     },
     "metadata": {
      "needs_background": "light"
     },
     "output_type": "display_data"
    }
   ],
   "source": [
    "plt.plot(loss_history)"
   ]
  },
  {
   "cell_type": "code",
   "execution_count": null,
   "metadata": {},
   "outputs": [],
   "source": []
  },
  {
   "cell_type": "markdown",
   "metadata": {},
   "source": [
    "**Testing**"
   ]
  },
  {
   "cell_type": "code",
   "execution_count": 48,
   "metadata": {},
   "outputs": [],
   "source": [
    "def get_pred(X):\n",
    "    W = tf.nn.tanh(W_hat) * tf.nn.sigmoid(M_hat) \n",
    "    x_modified = tf.math.log(tf.abs(X) + epsilon)\n",
    "    y_pred = tf.exp(tf.matmul(x_modified, W))\n",
    "    return y_pred"
   ]
  },
  {
   "cell_type": "code",
   "execution_count": 49,
   "metadata": {},
   "outputs": [],
   "source": [
    "y_test_pred = get_pred(x_test)"
   ]
  },
  {
   "cell_type": "code",
   "execution_count": 50,
   "metadata": {},
   "outputs": [
    {
     "data": {
      "text/plain": [
       "TensorShape([100, 1])"
      ]
     },
     "execution_count": 50,
     "metadata": {},
     "output_type": "execute_result"
    }
   ],
   "source": [
    "y_test_pred.shape"
   ]
  },
  {
   "cell_type": "markdown",
   "metadata": {},
   "source": [
    "Test Data"
   ]
  },
  {
   "cell_type": "code",
   "execution_count": 51,
   "metadata": {
    "scrolled": true
   },
   "outputs": [
    {
     "name": "stdout",
     "output_type": "stream",
     "text": [
      "Input: [9732. 6506.]\tOutput: 1.50\tActual: 1.50\n",
      "Input: [6099. 8691.]\tOutput: 0.70\tActual: 0.70\n",
      "Input: [8555. 7007.]\tOutput: 1.22\tActual: 1.22\n",
      "Input: [2368. 8900.]\tOutput: 0.27\tActual: 0.27\n",
      "Input: [ 285. 1738.]\tOutput: 0.16\tActual: 0.16\n",
      "Input: [ 148. 5771.]\tOutput: 0.03\tActual: 0.03\n",
      "Input: [4037. 7028.]\tOutput: 0.57\tActual: 0.57\n",
      "Input: [6549. 1482.]\tOutput: 4.42\tActual: 4.42\n",
      "Input: [7121. 1503.]\tOutput: 4.74\tActual: 4.74\n",
      "Input: [9958. 9111.]\tOutput: 1.09\tActual: 1.09\n",
      "Input: [4895. 3392.]\tOutput: 1.44\tActual: 1.44\n",
      "Input: [5280. 9111.]\tOutput: 0.58\tActual: 0.58\n",
      "Input: [1012.  519.]\tOutput: 1.95\tActual: 1.95\n",
      "Input: [9715. 4617.]\tOutput: 2.10\tActual: 2.10\n",
      "Input: [2785. 3402.]\tOutput: 0.82\tActual: 0.82\n",
      "Input: [3725. 7957.]\tOutput: 0.47\tActual: 0.47\n",
      "Input: [4576. 9800.]\tOutput: 0.47\tActual: 0.47\n",
      "Input: [5782. 7970.]\tOutput: 0.73\tActual: 0.73\n",
      "Input: [6257. 5793.]\tOutput: 1.08\tActual: 1.08\n",
      "Input: [9793.  867.]\tOutput: 11.30\tActual: 11.30\n",
      "Input: [2408. 2144.]\tOutput: 1.12\tActual: 1.12\n",
      "Input: [ 340. 1649.]\tOutput: 0.21\tActual: 0.21\n",
      "Input: [2817. 6240.]\tOutput: 0.45\tActual: 0.45\n",
      "Input: [2496. 3816.]\tOutput: 0.65\tActual: 0.65\n",
      "Input: [5962. 4581.]\tOutput: 1.30\tActual: 1.30\n",
      "Input: [5299. 7998.]\tOutput: 0.66\tActual: 0.66\n",
      "Input: [9917. 6648.]\tOutput: 1.49\tActual: 1.49\n",
      "Input: [7574. 2393.]\tOutput: 3.17\tActual: 3.17\n",
      "Input: [1689. 4937.]\tOutput: 0.34\tActual: 0.34\n",
      "Input: [3267. 7858.]\tOutput: 0.42\tActual: 0.42\n",
      "Input: [4406. 6893.]\tOutput: 0.64\tActual: 0.64\n",
      "Input: [8453. 7738.]\tOutput: 1.09\tActual: 1.09\n",
      "Input: [1442. 8093.]\tOutput: 0.18\tActual: 0.18\n",
      "Input: [8597. 6107.]\tOutput: 1.41\tActual: 1.41\n",
      "Input: [4437. 5642.]\tOutput: 0.79\tActual: 0.79\n",
      "Input: [5435. 9192.]\tOutput: 0.59\tActual: 0.59\n",
      "Input: [8435. 6456.]\tOutput: 1.31\tActual: 1.31\n",
      "Input: [4107. 8533.]\tOutput: 0.48\tActual: 0.48\n",
      "Input: [ 560. 7480.]\tOutput: 0.07\tActual: 0.07\n",
      "Input: [8785. 2485.]\tOutput: 3.54\tActual: 3.54\n",
      "Input: [5548. 4368.]\tOutput: 1.27\tActual: 1.27\n",
      "Input: [1826.  771.]\tOutput: 2.37\tActual: 2.37\n",
      "Input: [7629.  263.]\tOutput: 29.01\tActual: 29.01\n",
      "Input: [8325. 8756.]\tOutput: 0.95\tActual: 0.95\n",
      "Input: [3138. 4692.]\tOutput: 0.67\tActual: 0.67\n",
      "Input: [7693. 4895.]\tOutput: 1.57\tActual: 1.57\n",
      "Input: [8264. 4898.]\tOutput: 1.69\tActual: 1.69\n",
      "Input: [7842. 6136.]\tOutput: 1.28\tActual: 1.28\n",
      "Input: [6721. 2455.]\tOutput: 2.74\tActual: 2.74\n",
      "Input: [7002. 5987.]\tOutput: 1.17\tActual: 1.17\n",
      "Input: [4225. 8061.]\tOutput: 0.52\tActual: 0.52\n",
      "Input: [2978. 5927.]\tOutput: 0.50\tActual: 0.50\n",
      "Input: [7373. 8837.]\tOutput: 0.83\tActual: 0.83\n",
      "Input: [5907. 4819.]\tOutput: 1.23\tActual: 1.23\n",
      "Input: [6097.  693.]\tOutput: 8.80\tActual: 8.80\n",
      "Input: [5656. 4939.]\tOutput: 1.15\tActual: 1.15\n",
      "Input: [8984. 7494.]\tOutput: 1.20\tActual: 1.20\n",
      "Input: [4259. 9751.]\tOutput: 0.44\tActual: 0.44\n",
      "Input: [8286. 3593.]\tOutput: 2.31\tActual: 2.31\n",
      "Input: [5901. 6264.]\tOutput: 0.94\tActual: 0.94\n",
      "Input: [9325. 2772.]\tOutput: 3.36\tActual: 3.36\n",
      "Input: [4917. 4300.]\tOutput: 1.14\tActual: 1.14\n",
      "Input: [8429.  116.]\tOutput: 72.66\tActual: 72.66\n",
      "Input: [2530. 3291.]\tOutput: 0.77\tActual: 0.77\n",
      "Input: [1960.  492.]\tOutput: 3.98\tActual: 3.98\n",
      "Input: [7045. 8716.]\tOutput: 0.81\tActual: 0.81\n",
      "Input: [1048. 6372.]\tOutput: 0.16\tActual: 0.16\n",
      "Input: [5772.  671.]\tOutput: 8.60\tActual: 8.60\n",
      "Input: [2529. 3731.]\tOutput: 0.68\tActual: 0.68\n",
      "Input: [2964. 6272.]\tOutput: 0.47\tActual: 0.47\n",
      "Input: [7137. 9412.]\tOutput: 0.76\tActual: 0.76\n",
      "Input: [ 963. 7277.]\tOutput: 0.13\tActual: 0.13\n",
      "Input: [ 536. 8533.]\tOutput: 0.06\tActual: 0.06\n",
      "Input: [7340. 3997.]\tOutput: 1.84\tActual: 1.84\n",
      "Input: [7179. 8223.]\tOutput: 0.87\tActual: 0.87\n",
      "Input: [7967. 2379.]\tOutput: 3.35\tActual: 3.35\n",
      "Input: [8734. 9080.]\tOutput: 0.96\tActual: 0.96\n",
      "Input: [ 845. 7551.]\tOutput: 0.11\tActual: 0.11\n",
      "Input: [5777. 9006.]\tOutput: 0.64\tActual: 0.64\n",
      "Input: [3036.  875.]\tOutput: 3.47\tActual: 3.47\n",
      "Input: [5947. 6969.]\tOutput: 0.85\tActual: 0.85\n",
      "Input: [2494. 2347.]\tOutput: 1.06\tActual: 1.06\n",
      "Input: [2719. 7188.]\tOutput: 0.38\tActual: 0.38\n",
      "Input: [1884.  178.]\tOutput: 10.58\tActual: 10.58\n",
      "Input: [4349. 8180.]\tOutput: 0.53\tActual: 0.53\n",
      "Input: [5179. 7199.]\tOutput: 0.72\tActual: 0.72\n",
      "Input: [6610. 4026.]\tOutput: 1.64\tActual: 1.64\n",
      "Input: [6430. 9147.]\tOutput: 0.70\tActual: 0.70\n",
      "Input: [7154. 7440.]\tOutput: 0.96\tActual: 0.96\n",
      "Input: [6488. 7183.]\tOutput: 0.90\tActual: 0.90\n",
      "Input: [4737. 6330.]\tOutput: 0.75\tActual: 0.75\n",
      "Input: [6525. 9323.]\tOutput: 0.70\tActual: 0.70\n",
      "Input: [3850. 5040.]\tOutput: 0.76\tActual: 0.76\n",
      "Input: [ 689. 3371.]\tOutput: 0.20\tActual: 0.20\n",
      "Input: [5175. 3556.]\tOutput: 1.46\tActual: 1.46\n",
      "Input: [8648. 7888.]\tOutput: 1.10\tActual: 1.10\n",
      "Input: [5078. 8699.]\tOutput: 0.58\tActual: 0.58\n",
      "Input: [5448. 7750.]\tOutput: 0.70\tActual: 0.70\n",
      "Input: [1179. 2811.]\tOutput: 0.42\tActual: 0.42\n",
      "Input: [9074. 1768.]\tOutput: 5.13\tActual: 5.13\n"
     ]
    }
   ],
   "source": [
    "for i in range(len(x_test))[:100]:\n",
    "    print(f\"Input: {x_test[i]}\\tOutput: {y_test_pred[i].numpy()[0]:.2f}\\tActual: {y_test[i]:.2f}\")"
   ]
  },
  {
   "cell_type": "markdown",
   "metadata": {},
   "source": [
    "Training Data"
   ]
  },
  {
   "cell_type": "code",
   "execution_count": 52,
   "metadata": {},
   "outputs": [],
   "source": [
    "y_train_pred = get_pred(x_train)"
   ]
  },
  {
   "cell_type": "code",
   "execution_count": 53,
   "metadata": {
    "scrolled": true
   },
   "outputs": [
    {
     "name": "stdout",
     "output_type": "stream",
     "text": [
      "Input: [7270. 9931.]\tOutput: 0.73\tActual: 0.73\n",
      "Input: [860. 927.]\tOutput: 0.93\tActual: 0.93\n",
      "Input: [5390. 3631.]\tOutput: 1.48\tActual: 1.48\n",
      "Input: [5191. 7247.]\tOutput: 0.72\tActual: 0.72\n",
      "Input: [5734. 4551.]\tOutput: 1.26\tActual: 1.26\n",
      "Input: [6265. 3976.]\tOutput: 1.58\tActual: 1.58\n",
      "Input: [ 466. 6059.]\tOutput: 0.08\tActual: 0.08\n",
      "Input: [4426.  226.]\tOutput: 19.58\tActual: 19.58\n",
      "Input: [5578. 3277.]\tOutput: 1.70\tActual: 1.70\n",
      "Input: [8322. 8895.]\tOutput: 0.94\tActual: 0.94\n",
      "Input: [1685. 6124.]\tOutput: 0.28\tActual: 0.28\n",
      "Input: [ 769. 5209.]\tOutput: 0.15\tActual: 0.15\n",
      "Input: [6949. 4246.]\tOutput: 1.64\tActual: 1.64\n",
      "Input: [2433. 7296.]\tOutput: 0.33\tActual: 0.33\n",
      "Input: [5311. 3468.]\tOutput: 1.53\tActual: 1.53\n",
      "Input: [5051. 3897.]\tOutput: 1.30\tActual: 1.30\n",
      "Input: [6420. 1892.]\tOutput: 3.39\tActual: 3.39\n",
      "Input: [1184. 5832.]\tOutput: 0.20\tActual: 0.20\n",
      "Input: [4555. 3576.]\tOutput: 1.27\tActual: 1.27\n",
      "Input: [3385. 3517.]\tOutput: 0.96\tActual: 0.96\n",
      "Input: [6396. 1745.]\tOutput: 3.67\tActual: 3.67\n",
      "Input: [8666. 9497.]\tOutput: 0.91\tActual: 0.91\n",
      "Input: [9274. 3130.]\tOutput: 2.96\tActual: 2.96\n",
      "Input: [2558. 2972.]\tOutput: 0.86\tActual: 0.86\n",
      "Input: [7849. 3172.]\tOutput: 2.47\tActual: 2.47\n",
      "Input: [2047. 1954.]\tOutput: 1.05\tActual: 1.05\n",
      "Input: [2747. 4121.]\tOutput: 0.67\tActual: 0.67\n",
      "Input: [9167. 4762.]\tOutput: 1.93\tActual: 1.93\n",
      "Input: [9998. 6614.]\tOutput: 1.51\tActual: 1.51\n",
      "Input: [ 189. 5131.]\tOutput: 0.04\tActual: 0.04\n",
      "Input: [2734. 2808.]\tOutput: 0.97\tActual: 0.97\n",
      "Input: [3005. 7212.]\tOutput: 0.42\tActual: 0.42\n",
      "Input: [4658. 9624.]\tOutput: 0.48\tActual: 0.48\n",
      "Input: [1899. 8493.]\tOutput: 0.22\tActual: 0.22\n",
      "Input: [7734. 3607.]\tOutput: 2.14\tActual: 2.14\n",
      "Input: [1267. 6556.]\tOutput: 0.19\tActual: 0.19\n",
      "Input: [1528. 4312.]\tOutput: 0.35\tActual: 0.35\n",
      "Input: [3556. 8070.]\tOutput: 0.44\tActual: 0.44\n",
      "Input: [3890. 8866.]\tOutput: 0.44\tActual: 0.44\n",
      "Input: [8838.  636.]\tOutput: 13.90\tActual: 13.90\n",
      "Input: [5393. 1725.]\tOutput: 3.13\tActual: 3.13\n",
      "Input: [8792. 8073.]\tOutput: 1.09\tActual: 1.09\n",
      "Input: [8433. 8677.]\tOutput: 0.97\tActual: 0.97\n",
      "Input: [7513. 8170.]\tOutput: 0.92\tActual: 0.92\n",
      "Input: [2612. 8766.]\tOutput: 0.30\tActual: 0.30\n",
      "Input: [7041. 8709.]\tOutput: 0.81\tActual: 0.81\n",
      "Input: [9555. 6590.]\tOutput: 1.45\tActual: 1.45\n",
      "Input: [6235. 3700.]\tOutput: 1.69\tActual: 1.69\n",
      "Input: [5486. 6883.]\tOutput: 0.80\tActual: 0.80\n",
      "Input: [7099. 9246.]\tOutput: 0.77\tActual: 0.77\n",
      "Input: [9670. 5071.]\tOutput: 1.91\tActual: 1.91\n",
      "Input: [ 775. 1305.]\tOutput: 0.59\tActual: 0.59\n",
      "Input: [8226. 2090.]\tOutput: 3.94\tActual: 3.94\n",
      "Input: [3152. 5399.]\tOutput: 0.58\tActual: 0.58\n",
      "Input: [1585. 3672.]\tOutput: 0.43\tActual: 0.43\n",
      "Input: [3943. 6075.]\tOutput: 0.65\tActual: 0.65\n",
      "Input: [7555. 6420.]\tOutput: 1.18\tActual: 1.18\n",
      "Input: [3073. 4480.]\tOutput: 0.69\tActual: 0.69\n",
      "Input: [1021. 4857.]\tOutput: 0.21\tActual: 0.21\n",
      "Input: [3843. 2813.]\tOutput: 1.37\tActual: 1.37\n",
      "Input: [7989. 5688.]\tOutput: 1.40\tActual: 1.40\n",
      "Input: [9692. 1066.]\tOutput: 9.09\tActual: 9.09\n",
      "Input: [6873. 5044.]\tOutput: 1.36\tActual: 1.36\n",
      "Input: [5675. 3532.]\tOutput: 1.61\tActual: 1.61\n",
      "Input: [161. 788.]\tOutput: 0.20\tActual: 0.20\n",
      "Input: [4297. 4343.]\tOutput: 0.99\tActual: 0.99\n",
      "Input: [ 995. 3801.]\tOutput: 0.26\tActual: 0.26\n",
      "Input: [7629. 8633.]\tOutput: 0.88\tActual: 0.88\n",
      "Input: [9467. 5282.]\tOutput: 1.79\tActual: 1.79\n",
      "Input: [1016. 6804.]\tOutput: 0.15\tActual: 0.15\n",
      "Input: [7869. 4522.]\tOutput: 1.74\tActual: 1.74\n",
      "Input: [6439. 1859.]\tOutput: 3.46\tActual: 3.46\n",
      "Input: [7892. 9281.]\tOutput: 0.85\tActual: 0.85\n",
      "Input: [6863. 2582.]\tOutput: 2.66\tActual: 2.66\n",
      "Input: [7916. 8158.]\tOutput: 0.97\tActual: 0.97\n",
      "Input: [8529. 1051.]\tOutput: 8.12\tActual: 8.12\n",
      "Input: [ 878. 9014.]\tOutput: 0.10\tActual: 0.10\n",
      "Input: [9268. 2179.]\tOutput: 4.25\tActual: 4.25\n",
      "Input: [4887. 2817.]\tOutput: 1.73\tActual: 1.73\n",
      "Input: [4859. 4624.]\tOutput: 1.05\tActual: 1.05\n",
      "Input: [6331. 9792.]\tOutput: 0.65\tActual: 0.65\n",
      "Input: [8571. 8577.]\tOutput: 1.00\tActual: 1.00\n",
      "Input: [8684. 7411.]\tOutput: 1.17\tActual: 1.17\n",
      "Input: [7208. 7286.]\tOutput: 0.99\tActual: 0.99\n",
      "Input: [5276. 2165.]\tOutput: 2.44\tActual: 2.44\n",
      "Input: [2062.  868.]\tOutput: 2.38\tActual: 2.38\n",
      "Input: [  64. 5590.]\tOutput: 0.01\tActual: 0.01\n",
      "Input: [8006. 6745.]\tOutput: 1.19\tActual: 1.19\n",
      "Input: [2568. 5183.]\tOutput: 0.50\tActual: 0.50\n",
      "Input: [5463. 5332.]\tOutput: 1.02\tActual: 1.02\n",
      "Input: [2027. 5897.]\tOutput: 0.34\tActual: 0.34\n",
      "Input: [2695. 9238.]\tOutput: 0.29\tActual: 0.29\n",
      "Input: [9687. 5026.]\tOutput: 1.93\tActual: 1.93\n",
      "Input: [5258. 6116.]\tOutput: 0.86\tActual: 0.86\n",
      "Input: [5618. 3435.]\tOutput: 1.64\tActual: 1.64\n",
      "Input: [6736. 8138.]\tOutput: 0.83\tActual: 0.83\n",
      "Input: [ 391. 4973.]\tOutput: 0.08\tActual: 0.08\n",
      "Input: [5892. 1581.]\tOutput: 3.73\tActual: 3.73\n",
      "Input: [3561. 6405.]\tOutput: 0.56\tActual: 0.56\n",
      "Input: [6184. 3551.]\tOutput: 1.74\tActual: 1.74\n"
     ]
    }
   ],
   "source": [
    "for i in range(100):\n",
    "    print(f\"Input: {x_train[i]}\\tOutput: {y_train_pred[i].numpy()[0]:.2f}\\tActual: {y_train[i]:.2f}\")"
   ]
  },
  {
   "cell_type": "code",
   "execution_count": null,
   "metadata": {},
   "outputs": [],
   "source": []
  },
  {
   "cell_type": "markdown",
   "metadata": {},
   "source": [
    "### Testing out of range\n",
    "\n",
    "In the training set both *x1 & x2* were random numbers within **0-10000**. Let's again create another test set with *x1* between **50000-100000** & *x2* from **-100 to 0** i.e negative numbers. This will definitely be different then the training set"
   ]
  },
  {
   "cell_type": "code",
   "execution_count": 54,
   "metadata": {},
   "outputs": [],
   "source": [
    "# numerator will be between 50000-100000\n",
    "x1 = np.random.randint(low=50000, high=100000, size=100)\n",
    "x1 = x1.astype('float32')\n",
    "# denominator will be between -100 to 0\n",
    "x2 = np.random.randint(low=-100, high=0, size=100)\n",
    "x2 = x2.astype('float32')\n",
    "\n",
    "x_test = np.column_stack((x1,x2))\n",
    "y_test = x1/x2"
   ]
  },
  {
   "cell_type": "code",
   "execution_count": 55,
   "metadata": {},
   "outputs": [
    {
     "name": "stdout",
     "output_type": "stream",
     "text": [
      "Min: -30912.0\tMax: -606.550537109375\n"
     ]
    }
   ],
   "source": [
    "print(f\"Min: {min(y_test)}\\tMax: {max(y_test)}\")"
   ]
  },
  {
   "cell_type": "code",
   "execution_count": 56,
   "metadata": {},
   "outputs": [],
   "source": [
    "y_test_pred = get_pred(x_test)"
   ]
  },
  {
   "cell_type": "code",
   "execution_count": 57,
   "metadata": {
    "scrolled": true
   },
   "outputs": [
    {
     "name": "stdout",
     "output_type": "stream",
     "text": [
      "Input: [ 6.6531e+04 -5.1000e+01]\tOutput: 1304.50\tActual: -1304.53\n",
      "Input: [ 7.2804e+04 -6.0000e+00]\tOutput: 12133.59\tActual: -12134.00\n",
      "Input: [ 7.8903e+04 -2.2000e+01]\tOutput: 3586.40\tActual: -3586.50\n",
      "Input: [ 9.4857e+04 -7.8000e+01]\tOutput: 1216.08\tActual: -1216.12\n",
      "Input: [ 6.0142e+04 -1.3000e+01]\tOutput: 4626.17\tActual: -4626.31\n",
      "Input: [ 9.9517e+04 -5.7000e+01]\tOutput: 1745.87\tActual: -1745.91\n",
      "Input: [ 9.8355e+04 -2.4000e+01]\tOutput: 4098.00\tActual: -4098.12\n",
      "Input: [59866.   -79.]\tOutput: 757.78\tActual: -757.80\n",
      "Input: [54531.   -58.]\tOutput: 940.17\tActual: -940.19\n",
      "Input: [ 9.5454e+04 -6.4000e+01]\tOutput: 1491.43\tActual: -1491.47\n",
      "Input: [ 8.8098e+04 -4.0000e+01]\tOutput: 2202.39\tActual: -2202.45\n",
      "Input: [ 8.8278e+04 -4.0000e+00]\tOutput: 22068.71\tActual: -22069.50\n",
      "Input: [ 7.8138e+04 -4.5000e+01]\tOutput: 1736.35\tActual: -1736.40\n",
      "Input: [77065.   -98.]\tOutput: 786.36\tActual: -786.38\n",
      "Input: [ 7.9956e+04 -3.8000e+01]\tOutput: 2104.05\tActual: -2104.11\n",
      "Input: [ 9.1732e+04 -8.2000e+01]\tOutput: 1118.65\tActual: -1118.68\n",
      "Input: [ 8.9261e+04 -7.8000e+01]\tOutput: 1144.34\tActual: -1144.37\n",
      "Input: [60759.   -72.]\tOutput: 843.86\tActual: -843.88\n",
      "Input: [55439.   -71.]\tOutput: 780.81\tActual: -780.83\n",
      "Input: [ 9.7241e+04 -6.2000e+01]\tOutput: 1568.36\tActual: -1568.40\n",
      "Input: [ 9.2533e+04 -7.6000e+01]\tOutput: 1217.51\tActual: -1217.54\n",
      "Input: [78270.   -93.]\tOutput: 841.59\tActual: -841.61\n",
      "Input: [ 6.3279e+04 -4.3000e+01]\tOutput: 1471.57\tActual: -1471.60\n",
      "Input: [ 8.9279e+04 -8.5000e+01]\tOutput: 1050.32\tActual: -1050.34\n",
      "Input: [ 9.4251e+04 -2.9000e+01]\tOutput: 3249.94\tActual: -3250.03\n",
      "Input: [73888.  -100.]\tOutput: 738.86\tActual: -738.88\n",
      "Input: [67630.   -96.]\tOutput: 704.46\tActual: -704.48\n",
      "Input: [85144.   -98.]\tOutput: 868.80\tActual: -868.82\n",
      "Input: [ 8.1182e+04 -3.6000e+01]\tOutput: 2255.00\tActual: -2255.06\n",
      "Input: [75538.   -97.]\tOutput: 778.72\tActual: -778.74\n",
      "Input: [ 6.1824e+04 -2.0000e+00]\tOutput: 30910.88\tActual: -30912.00\n",
      "Input: [ 8.2125e+04 -5.0000e+00]\tOutput: 16424.44\tActual: -16425.00\n",
      "Input: [ 5.6979e+04 -3.7000e+01]\tOutput: 1539.93\tActual: -1539.97\n",
      "Input: [ 7.6189e+04 -3.0000e+00]\tOutput: 25395.43\tActual: -25396.33\n",
      "Input: [ 9.26e+04 -1.20e+01]\tOutput: 7716.42\tActual: -7716.67\n",
      "Input: [62504.   -91.]\tOutput: 686.84\tActual: -686.86\n",
      "Input: [70669.   -80.]\tOutput: 883.34\tActual: -883.36\n",
      "Input: [ 5.691e+04 -5.500e+01]\tOutput: 1034.70\tActual: -1034.73\n",
      "Input: [ 9.6857e+04 -1.0000e+01]\tOutput: 9685.38\tActual: -9685.70\n",
      "Input: [ 8.4964e+04 -7.4000e+01]\tOutput: 1148.13\tActual: -1148.16\n",
      "Input: [ 7.0131e+04 -3.5000e+01]\tOutput: 2003.69\tActual: -2003.74\n",
      "Input: [ 7.5227e+04 -6.0000e+01]\tOutput: 1253.75\tActual: -1253.78\n",
      "Input: [55978.   -88.]\tOutput: 636.10\tActual: -636.11\n",
      "Input: [71991.   -92.]\tOutput: 782.49\tActual: -782.51\n",
      "Input: [ 6.7153e+04 -6.5000e+01]\tOutput: 1033.10\tActual: -1033.12\n",
      "Input: [ 8.3548e+04 -1.5000e+01]\tOutput: 5569.70\tActual: -5569.87\n",
      "Input: [ 9.2676e+04 -1.1000e+01]\tOutput: 8424.82\tActual: -8425.09\n",
      "Input: [ 8.9071e+04 -4.3000e+01]\tOutput: 2071.36\tActual: -2071.42\n",
      "Input: [ 9.7454e+04 -4.7000e+01]\tOutput: 2073.43\tActual: -2073.49\n",
      "Input: [53983.   -89.]\tOutput: 606.54\tActual: -606.55\n",
      "Input: [ 5.9503e+04 -2.0000e+01]\tOutput: 2975.07\tActual: -2975.15\n",
      "Input: [ 7.9921e+04 -2.3000e+01]\tOutput: 3474.73\tActual: -3474.83\n",
      "Input: [66905.   -87.]\tOutput: 769.00\tActual: -769.02\n",
      "Input: [ 9.5838e+04 -6.7000e+01]\tOutput: 1430.38\tActual: -1430.42\n",
      "Input: [ 7.3953e+04 -4.8000e+01]\tOutput: 1540.65\tActual: -1540.69\n",
      "Input: [76806.   -81.]\tOutput: 948.20\tActual: -948.22\n",
      "Input: [ 9.5e+04 -2.6e+01]\tOutput: 3653.74\tActual: -3653.85\n",
      "Input: [72168.   -85.]\tOutput: 849.02\tActual: -849.04\n",
      "Input: [ 5.4583e+04 -6.0000e+00]\tOutput: 9096.87\tActual: -9097.17\n",
      "Input: [ 8.8714e+04 -3.1000e+01]\tOutput: 2861.66\tActual: -2861.74\n",
      "Input: [ 9.9145e+04 -4.5000e+01]\tOutput: 2203.16\tActual: -2203.22\n",
      "Input: [ 8.9896e+04 -1.8000e+01]\tOutput: 4994.07\tActual: -4994.22\n",
      "Input: [ 6.1889e+04 -4.3000e+01]\tOutput: 1439.24\tActual: -1439.28\n",
      "Input: [77413.   -97.]\tOutput: 798.05\tActual: -798.07\n",
      "Input: [62275.   -97.]\tOutput: 642.00\tActual: -642.01\n",
      "Input: [52461.   -81.]\tOutput: 647.65\tActual: -647.67\n",
      "Input: [64291.   -91.]\tOutput: 706.48\tActual: -706.49\n",
      "Input: [ 9.6804e+04 -7.7000e+01]\tOutput: 1257.16\tActual: -1257.19\n",
      "Input: [ 6.1435e+04 -2.0000e+00]\tOutput: 30716.37\tActual: -30717.50\n",
      "Input: [ 7.7935e+04 -7.5000e+01]\tOutput: 1039.11\tActual: -1039.13\n",
      "Input: [ 8.3453e+04 -6.4000e+01]\tOutput: 1303.92\tActual: -1303.95\n",
      "Input: [ 6.8544e+04 -1.6000e+01]\tOutput: 4283.87\tActual: -4284.00\n",
      "Input: [ 6.2258e+04 -4.7000e+01]\tOutput: 1324.60\tActual: -1324.64\n",
      "Input: [ 8.0841e+04 -8.0000e+01]\tOutput: 1010.49\tActual: -1010.51\n",
      "Input: [ 9.8758e+04 -2.7000e+01]\tOutput: 3657.60\tActual: -3657.70\n",
      "Input: [ 9.919e+04 -6.300e+01]\tOutput: 1574.40\tActual: -1574.44\n",
      "Input: [ 6.0736e+04 -5.5000e+01]\tOutput: 1104.26\tActual: -1104.29\n",
      "Input: [87643.   -97.]\tOutput: 903.51\tActual: -903.54\n",
      "Input: [ 9.395e+04 -4.100e+01]\tOutput: 2291.40\tActual: -2291.46\n",
      "Input: [ 8.4964e+04 -4.4000e+01]\tOutput: 1930.95\tActual: -1931.00\n",
      "Input: [ 7.8044e+04 -5.6000e+01]\tOutput: 1393.61\tActual: -1393.64\n",
      "Input: [ 8.9933e+04 -8.1000e+01]\tOutput: 1110.26\tActual: -1110.28\n",
      "Input: [65997.   -84.]\tOutput: 785.66\tActual: -785.68\n",
      "Input: [ 6.4215e+04 -3.0000e+01]\tOutput: 2140.44\tActual: -2140.50\n",
      "Input: [83069.   -97.]\tOutput: 856.36\tActual: -856.38\n",
      "Input: [ 7.3911e+04 -8.0000e+00]\tOutput: 9238.58\tActual: -9238.88\n",
      "Input: [67030.   -87.]\tOutput: 770.44\tActual: -770.46\n",
      "Input: [79334.   -98.]\tOutput: 809.51\tActual: -809.53\n",
      "Input: [ 6.4571e+04 -1.3000e+01]\tOutput: 4966.84\tActual: -4967.00\n",
      "Input: [ 9.2719e+04 -2.1000e+01]\tOutput: 4415.05\tActual: -4415.19\n",
      "Input: [ 7.8927e+04 -4.3000e+01]\tOutput: 1835.46\tActual: -1835.51\n",
      "Input: [ 7.0714e+04 -4.6000e+01]\tOutput: 1537.22\tActual: -1537.26\n",
      "Input: [93541.   -97.]\tOutput: 964.32\tActual: -964.34\n",
      "Input: [73387.   -77.]\tOutput: 953.05\tActual: -953.08\n",
      "Input: [ 7.8444e+04 -6.7000e+01]\tOutput: 1170.78\tActual: -1170.81\n",
      "Input: [ 9.8908e+04 -7.1000e+01]\tOutput: 1393.04\tActual: -1393.07\n",
      "Input: [ 6.9921e+04 -1.9000e+01]\tOutput: 3679.94\tActual: -3680.05\n",
      "Input: [63057.   -82.]\tOutput: 768.97\tActual: -768.99\n",
      "Input: [ 9.5268e+04 -7.0000e+01]\tOutput: 1360.94\tActual: -1360.97\n",
      "Input: [ 7.4858e+04 -4.1000e+01]\tOutput: 1825.76\tActual: -1825.80\n"
     ]
    }
   ],
   "source": [
    "for i in range(len(x_test))[:100]:\n",
    "    print(f\"Input: {x_test[i]}\\tOutput: {y_test_pred[i].numpy()[0]:.2f}\\tActual: {y_test[i]:.2f}\")"
   ]
  },
  {
   "cell_type": "markdown",
   "metadata": {},
   "source": [
    "**The absolute value are approximately correct, however, it couldn't predict negative values as there were no negative values in the training data**"
   ]
  },
  {
   "cell_type": "code",
   "execution_count": null,
   "metadata": {},
   "outputs": [],
   "source": []
  },
  {
   "cell_type": "code",
   "execution_count": null,
   "metadata": {},
   "outputs": [],
   "source": []
  }
 ],
 "metadata": {
  "kernelspec": {
   "display_name": "Python 3",
   "language": "python",
   "name": "python3"
  },
  "language_info": {
   "codemirror_mode": {
    "name": "ipython",
    "version": 3
   },
   "file_extension": ".py",
   "mimetype": "text/x-python",
   "name": "python",
   "nbconvert_exporter": "python",
   "pygments_lexer": "ipython3",
   "version": "3.7.3"
  }
 },
 "nbformat": 4,
 "nbformat_minor": 2
}
