{
 "cells": [
  {
   "cell_type": "markdown",
   "metadata": {
    "colab_type": "text",
    "id": "view-in-github"
   },
   "source": [
    "<a href=\"https://colab.research.google.com/github/adimyth/interesting_stuff/blob/master/nlp/spanish_english_seq2seq.ipynb\" target=\"_parent\"><img src=\"https://colab.research.google.com/assets/colab-badge.svg\" alt=\"Open In Colab\"/></a>"
   ]
  },
  {
   "cell_type": "markdown",
   "metadata": {
    "colab_type": "text",
    "id": "78OcyDwKFo6z"
   },
   "source": [
    "# Word Level Seq2Seq Model\n",
    "\n",
    "Sequence-to-sequence Neural Machine Translation is an example of *Conditional Language Model.*\n",
    "* Language Model - Decoder is predicting the next word of the target sentence based on the sequence generated so far\n",
    "* Conditional - The predictions are *conditioned on the source sentence x* and the generated target seq\n",
    "\n",
    "It calculate $P(y|x)$ where $x$ is the source sentence & $y$ is the target sentence.\n",
    "$$P(y|x)=P(y_{1}|x)P(y_{2}|y_{1},x)P(y_{3}|y_{1},y_{2},x)...P(y_{T}|y_{1},...,y_{T-1},x)$$\n",
    "\n",
    "Any of the above term can be interpreted as *probability of next word, given target words so far and source sentence x*"
   ]
  },
  {
   "cell_type": "code",
   "execution_count": null,
   "metadata": {},
   "outputs": [],
   "source": []
  },
  {
   "cell_type": "markdown",
   "metadata": {
    "colab_type": "text",
    "id": "8mU-lZlObN-F"
   },
   "source": [
    "## Encoder\n",
    "![Encoder](https://guillaumegenthial.github.io/assets/img2latex/seq2seq_vanilla_encoder.svg)\n",
    "\n",
    "## Decoder\n",
    "![Decoder](https://guillaumegenthial.github.io/assets/img2latex/seq2seq_vanilla_decoder.svg)\n",
    "\n",
    "\n",
    "Stepwise, the decoder operates as - \n",
    "![Decoder Operation](https://i.imgur.com/sWRGsi4.png)"
   ]
  },
  {
   "cell_type": "markdown",
   "metadata": {
    "colab_type": "text",
    "id": "mm8EvwjwggXH"
   },
   "source": [
    "## Dataset\n",
    "English to Spanish Conversion - http://www.manythings.org/anki/spa-eng.zip"
   ]
  },
  {
   "cell_type": "code",
   "execution_count": 2,
   "metadata": {
    "colab": {
     "base_uri": "https://localhost:8080/",
     "height": 204
    },
    "colab_type": "code",
    "id": "aZW-uEgIf7Yy",
    "outputId": "b8dc5472-61b8-4fb6-9dcf-41e57f3b8588"
   },
   "outputs": [
    {
     "name": "stdout",
     "output_type": "stream",
     "text": [
      "--2020-04-20 06:06:41--  http://www.manythings.org/anki/spa-eng.zip\n",
      "Resolving www.manythings.org (www.manythings.org)... 104.24.109.196, 104.24.108.196, 2606:4700:3033::6818:6dc4, ...\n",
      "Connecting to www.manythings.org (www.manythings.org)|104.24.109.196|:80... connected.\n",
      "HTTP request sent, awaiting response... 200 OK\n",
      "Length: 4781548 (4.6M) [application/zip]\n",
      "Saving to: ‘spa-eng.zip’\n",
      "\n",
      "spa-eng.zip         100%[===================>]   4.56M  3.06MB/s    in 1.5s    \n",
      "\n",
      "2020-04-20 06:06:43 (3.06 MB/s) - ‘spa-eng.zip’ saved [4781548/4781548]\n",
      "\n"
     ]
    }
   ],
   "source": [
    "!wget http://www.manythings.org/anki/spa-eng.zip"
   ]
  },
  {
   "cell_type": "code",
   "execution_count": 3,
   "metadata": {
    "colab": {
     "base_uri": "https://localhost:8080/",
     "height": 187
    },
    "colab_type": "code",
    "id": "m_CfMoXrhPJ6",
    "outputId": "3e44086f-1331-458a-952f-a2b3b1772356"
   },
   "outputs": [
    {
     "name": "stdout",
     "output_type": "stream",
     "text": [
      "Archive:  spa-eng.zip\n",
      "  Length      Date    Time    Name\n",
      "---------  ---------- -----   ----\n",
      "     1441  2020-03-15 02:17   _about.txt\n",
      " 18493172  2020-03-15 02:17   spa.txt\n",
      "---------                     -------\n",
      " 18494613                     2 files\n",
      "Archive:  spa-eng.zip\n",
      "  inflating: _about.txt              \n",
      "  inflating: spa.txt                 \n"
     ]
    }
   ],
   "source": [
    "!unzip -l spa-eng.zip\n",
    "!unzip spa-eng.zip"
   ]
  },
  {
   "cell_type": "code",
   "execution_count": 0,
   "metadata": {
    "colab": {},
    "colab_type": "code",
    "id": "LrLwTegngpaq"
   },
   "outputs": [],
   "source": [
    "from collections import Counter\n",
    "from google.colab import files\n",
    "import matplotlib.pyplot as plt\n",
    "from itertools import islice\n",
    "import math\n",
    "import numpy as np\n",
    "import pandas as pd\n",
    "import random\n",
    "import re\n",
    "import requests\n",
    "import seaborn as sns\n",
    "import string\n",
    "from string import digits\n",
    "from sklearn.utils import shuffle\n",
    "from sklearn.model_selection import train_test_split\n",
    "import tensorflow as tf\n",
    "from tensorflow.keras.callbacks import CSVLogger, EarlyStopping\n",
    "from tensorflow.keras.layers import Input, LSTM, Embedding, Dense\n",
    "from tensorflow.keras.models import Model, load_model\n",
    "from tensorflow.keras.utils import plot_model"
   ]
  },
  {
   "cell_type": "code",
   "execution_count": 0,
   "metadata": {
    "colab": {},
    "colab_type": "code",
    "id": "QXwoZpIXWvrb"
   },
   "outputs": [],
   "source": [
    "from tensorflow.python.framework.ops import disable_eager_execution, enable_eager_execution\n",
    "disable_eager_execution()"
   ]
  },
  {
   "cell_type": "markdown",
   "metadata": {
    "colab_type": "text",
    "id": "_cE9QLnWWwkQ"
   },
   "source": [
    "Disabling eager execution because all zeros mask raises some CuDNN kernel level issue. Refere [here](https://github.com/tensorflow/tensorflow/issues/33148)"
   ]
  },
  {
   "cell_type": "code",
   "execution_count": 0,
   "metadata": {
    "colab": {},
    "colab_type": "code",
    "id": "V_QqGC99gz1Q"
   },
   "outputs": [],
   "source": [
    "%matplotlib inline\n",
    "sns.set_style(\"whitegrid\")"
   ]
  },
  {
   "cell_type": "code",
   "execution_count": 0,
   "metadata": {
    "colab": {},
    "colab_type": "code",
    "id": "Ps65fz_BhFDN"
   },
   "outputs": [],
   "source": [
    "lines = pd.read_table('spa.txt', names=['english', 'spanish', 'attributes'])\n",
    "# lines = pd.DataFrame({\"english\": [\"Juan eats apples\"], \"spanish\": [\"Juan come manzanas\"], \"attributes\": \"\"})"
   ]
  },
  {
   "cell_type": "code",
   "execution_count": 8,
   "metadata": {
    "colab": {
     "base_uri": "https://localhost:8080/",
     "height": 34
    },
    "colab_type": "code",
    "id": "x8uNdjbIh9pS",
    "outputId": "b17416c7-1c82-4eca-b61e-bf9a7b2c9483"
   },
   "outputs": [
    {
     "data": {
      "text/plain": [
       "(123770, 3)"
      ]
     },
     "execution_count": 8,
     "metadata": {
      "tags": []
     },
     "output_type": "execute_result"
    }
   ],
   "source": [
    "lines.shape"
   ]
  },
  {
   "cell_type": "code",
   "execution_count": 0,
   "metadata": {
    "colab": {},
    "colab_type": "code",
    "id": "xHAiIbv6kEpz"
   },
   "outputs": [],
   "source": [
    "lines = lines.drop(columns=['attributes'])"
   ]
  },
  {
   "cell_type": "code",
   "execution_count": 0,
   "metadata": {
    "colab": {},
    "colab_type": "code",
    "id": "YyK4Ck3kiG_Q"
   },
   "outputs": [],
   "source": [
    "for col in lines.columns:\n",
    "    # lowercase\n",
    "    lines[col] = lines[col].apply(lambda x: x.lower())\n",
    "    # remove quotes\n",
    "    lines[col] = lines[col].apply(lambda x: re.sub(\"'\", \"\", x))\n",
    "    # remove punctuations\n",
    "    lines[col] = lines[col].apply(lambda x: ''.join(ch for ch in x if ch not in set(string.punctuation)))\n",
    "    # remove numbers\n",
    "    remove_digits = str.maketrans('', '', digits)\n",
    "    lines[col] = lines[col].apply(lambda x: x.translate(remove_digits))\n",
    "    # remove unnecessary spaces\n",
    "    lines[col] = lines[col].apply(lambda x: x.strip())\n",
    "    lines[col] = lines[col].apply(lambda x: re.sub(\" +\", \" \", x))"
   ]
  },
  {
   "cell_type": "code",
   "execution_count": 0,
   "metadata": {
    "colab": {},
    "colab_type": "code",
    "id": "j5XEID_D09DX"
   },
   "outputs": [],
   "source": [
    "# Add start and end tokens to target sequences\n",
    "lines['spanish'] = lines['spanish'].apply(lambda x : 'START_ '+ x + ' _END')"
   ]
  },
  {
   "cell_type": "code",
   "execution_count": 0,
   "metadata": {
    "colab": {},
    "colab_type": "code",
    "id": "Bx2190qtjvfQ"
   },
   "outputs": [],
   "source": [
    "pd.set_option('display.max_colwidth', 100)"
   ]
  },
  {
   "cell_type": "code",
   "execution_count": 13,
   "metadata": {
    "colab": {
     "base_uri": "https://localhost:8080/",
     "height": 359
    },
    "colab_type": "code",
    "id": "5yRVgA1miHJR",
    "outputId": "b642d42e-25c7-4bee-c6a1-7deb659e90ae"
   },
   "outputs": [
    {
     "data": {
      "text/html": [
       "<div>\n",
       "<style scoped>\n",
       "    .dataframe tbody tr th:only-of-type {\n",
       "        vertical-align: middle;\n",
       "    }\n",
       "\n",
       "    .dataframe tbody tr th {\n",
       "        vertical-align: top;\n",
       "    }\n",
       "\n",
       "    .dataframe thead th {\n",
       "        text-align: right;\n",
       "    }\n",
       "</style>\n",
       "<table border=\"1\" class=\"dataframe\">\n",
       "  <thead>\n",
       "    <tr style=\"text-align: right;\">\n",
       "      <th></th>\n",
       "      <th>english</th>\n",
       "      <th>spanish</th>\n",
       "    </tr>\n",
       "  </thead>\n",
       "  <tbody>\n",
       "    <tr>\n",
       "      <th>0</th>\n",
       "      <td>go</td>\n",
       "      <td>START_ ve _END</td>\n",
       "    </tr>\n",
       "    <tr>\n",
       "      <th>1</th>\n",
       "      <td>go</td>\n",
       "      <td>START_ vete _END</td>\n",
       "    </tr>\n",
       "    <tr>\n",
       "      <th>2</th>\n",
       "      <td>go</td>\n",
       "      <td>START_ vaya _END</td>\n",
       "    </tr>\n",
       "    <tr>\n",
       "      <th>3</th>\n",
       "      <td>go</td>\n",
       "      <td>START_ váyase _END</td>\n",
       "    </tr>\n",
       "    <tr>\n",
       "      <th>4</th>\n",
       "      <td>hi</td>\n",
       "      <td>START_ hola _END</td>\n",
       "    </tr>\n",
       "    <tr>\n",
       "      <th>5</th>\n",
       "      <td>run</td>\n",
       "      <td>START_ ¡corre _END</td>\n",
       "    </tr>\n",
       "    <tr>\n",
       "      <th>6</th>\n",
       "      <td>run</td>\n",
       "      <td>START_ ¡corran _END</td>\n",
       "    </tr>\n",
       "    <tr>\n",
       "      <th>7</th>\n",
       "      <td>run</td>\n",
       "      <td>START_ ¡corra _END</td>\n",
       "    </tr>\n",
       "    <tr>\n",
       "      <th>8</th>\n",
       "      <td>run</td>\n",
       "      <td>START_ ¡corred _END</td>\n",
       "    </tr>\n",
       "    <tr>\n",
       "      <th>9</th>\n",
       "      <td>run</td>\n",
       "      <td>START_ corred _END</td>\n",
       "    </tr>\n",
       "  </tbody>\n",
       "</table>\n",
       "</div>"
      ],
      "text/plain": [
       "  english              spanish\n",
       "0      go       START_ ve _END\n",
       "1      go     START_ vete _END\n",
       "2      go     START_ vaya _END\n",
       "3      go   START_ váyase _END\n",
       "4      hi     START_ hola _END\n",
       "5     run   START_ ¡corre _END\n",
       "6     run  START_ ¡corran _END\n",
       "7     run   START_ ¡corra _END\n",
       "8     run  START_ ¡corred _END\n",
       "9     run   START_ corred _END"
      ]
     },
     "execution_count": 13,
     "metadata": {
      "tags": []
     },
     "output_type": "execute_result"
    }
   ],
   "source": [
    "lines.head(10)"
   ]
  },
  {
   "cell_type": "code",
   "execution_count": 0,
   "metadata": {
    "colab": {},
    "colab_type": "code",
    "id": "jvEJ-V-qFUtT"
   },
   "outputs": [],
   "source": []
  },
  {
   "cell_type": "markdown",
   "metadata": {
    "colab_type": "text",
    "id": "m70v150OlcO2"
   },
   "source": [
    "## Creating Vocabulary\n",
    "Create vocabulary of english and spanish words"
   ]
  },
  {
   "cell_type": "code",
   "execution_count": 14,
   "metadata": {
    "colab": {
     "base_uri": "https://localhost:8080/",
     "height": 34
    },
    "colab_type": "code",
    "id": "MLQcyB9PiHRQ",
    "outputId": "10a585d1-8011-48f8-e1e7-d8012a81a4d2"
   },
   "outputs": [
    {
     "name": "stdout",
     "output_type": "stream",
     "text": [
      "English Vocab: 13475\n"
     ]
    }
   ],
   "source": [
    "# English Vocab\n",
    "all_eng_words = set()\n",
    "for eng in lines['english']:\n",
    "    for word in eng.split():\n",
    "        if word not in all_eng_words:\n",
    "            all_eng_words.add(word)\n",
    "print(f\"English Vocab: {len(all_eng_words)}\")"
   ]
  },
  {
   "cell_type": "code",
   "execution_count": 15,
   "metadata": {
    "colab": {
     "base_uri": "https://localhost:8080/",
     "height": 34
    },
    "colab_type": "code",
    "id": "xcSjwUliiHGz",
    "outputId": "8271b433-201e-4cb7-e1a0-2f90c3f0a11e"
   },
   "outputs": [
    {
     "name": "stdout",
     "output_type": "stream",
     "text": [
      "Spanish Vocab: 27264\n"
     ]
    }
   ],
   "source": [
    "# Spanish Vocab\n",
    "all_spa_words = set()\n",
    "for spa in lines['spanish']:\n",
    "    for word in spa.split():\n",
    "        if word not in all_spa_words:\n",
    "            all_spa_words.add(word)\n",
    "print(f\"Spanish Vocab: {len(all_spa_words)}\")"
   ]
  },
  {
   "cell_type": "code",
   "execution_count": 16,
   "metadata": {
    "colab": {
     "base_uri": "https://localhost:8080/",
     "height": 34
    },
    "colab_type": "code",
    "id": "C2OhsOMTiHEO",
    "outputId": "7509c282-923c-4293-feed-4585968d7598"
   },
   "outputs": [
    {
     "name": "stdout",
     "output_type": "stream",
     "text": [
      "Max Length Sentence (English): 47\n"
     ]
    }
   ],
   "source": [
    "# Max Length of source sequence\n",
    "lenght_list_eng=[]\n",
    "for l in lines['english']:\n",
    "    lenght_list_eng.append(len(l.split(' ')))\n",
    "max_length_src = np.max(lenght_list_eng)\n",
    "print(f\"Max Length Sentence (English): {max_length_src}\")"
   ]
  },
  {
   "cell_type": "code",
   "execution_count": 17,
   "metadata": {
    "colab": {
     "base_uri": "https://localhost:8080/",
     "height": 34
    },
    "colab_type": "code",
    "id": "GAuhsphZmGMZ",
    "outputId": "17ea70b8-0cb4-4db4-a3f0-1785bb03e834"
   },
   "outputs": [
    {
     "name": "stdout",
     "output_type": "stream",
     "text": [
      "Max Length Sentence (Spanish): 47\n"
     ]
    }
   ],
   "source": [
    "# Max Length of target sequence\n",
    "lenght_list_spa=[]\n",
    "for l in lines['spanish']:\n",
    "    lenght_list_spa.append(len(l.split(' ')))\n",
    "max_length_tar = np.max(lenght_list_spa)\n",
    "print(f\"Max Length Sentence (Spanish): {max_length_src}\")"
   ]
  },
  {
   "cell_type": "code",
   "execution_count": 18,
   "metadata": {
    "colab": {
     "base_uri": "https://localhost:8080/",
     "height": 34
    },
    "colab_type": "code",
    "id": "EruJWzYonDep",
    "outputId": "e213f5bb-17a2-4f39-976a-070315aacaed"
   },
   "outputs": [
    {
     "name": "stdout",
     "output_type": "stream",
     "text": [
      "Number of matches: 13865 (11.20)\n"
     ]
    }
   ],
   "source": [
    "matches = [i for i, j in zip(lenght_list_eng, lenght_list_spa) if i == j]\n",
    "print(f\"Number of matches: {len(matches)} ({(len(matches)*100/lines.shape[0]):.2f})\")"
   ]
  },
  {
   "cell_type": "code",
   "execution_count": 19,
   "metadata": {
    "colab": {
     "base_uri": "https://localhost:8080/",
     "height": 204
    },
    "colab_type": "code",
    "id": "GYSA4bPSmGdO",
    "outputId": "688dd7ff-c4e6-4455-b4c9-ee7f9e5d318b"
   },
   "outputs": [
    {
     "data": {
      "text/html": [
       "<div>\n",
       "<style scoped>\n",
       "    .dataframe tbody tr th:only-of-type {\n",
       "        vertical-align: middle;\n",
       "    }\n",
       "\n",
       "    .dataframe tbody tr th {\n",
       "        vertical-align: top;\n",
       "    }\n",
       "\n",
       "    .dataframe thead th {\n",
       "        text-align: right;\n",
       "    }\n",
       "</style>\n",
       "<table border=\"1\" class=\"dataframe\">\n",
       "  <thead>\n",
       "    <tr style=\"text-align: right;\">\n",
       "      <th></th>\n",
       "      <th>english</th>\n",
       "      <th>spanish</th>\n",
       "    </tr>\n",
       "  </thead>\n",
       "  <tbody>\n",
       "    <tr>\n",
       "      <th>0</th>\n",
       "      <td>go</td>\n",
       "      <td>START_ ve _END</td>\n",
       "    </tr>\n",
       "    <tr>\n",
       "      <th>1</th>\n",
       "      <td>go</td>\n",
       "      <td>START_ vete _END</td>\n",
       "    </tr>\n",
       "    <tr>\n",
       "      <th>2</th>\n",
       "      <td>go</td>\n",
       "      <td>START_ vaya _END</td>\n",
       "    </tr>\n",
       "    <tr>\n",
       "      <th>3</th>\n",
       "      <td>go</td>\n",
       "      <td>START_ váyase _END</td>\n",
       "    </tr>\n",
       "    <tr>\n",
       "      <th>4</th>\n",
       "      <td>hi</td>\n",
       "      <td>START_ hola _END</td>\n",
       "    </tr>\n",
       "  </tbody>\n",
       "</table>\n",
       "</div>"
      ],
      "text/plain": [
       "  english             spanish\n",
       "0      go      START_ ve _END\n",
       "1      go    START_ vete _END\n",
       "2      go    START_ vaya _END\n",
       "3      go  START_ váyase _END\n",
       "4      hi    START_ hola _END"
      ]
     },
     "execution_count": 19,
     "metadata": {
      "tags": []
     },
     "output_type": "execute_result"
    }
   ],
   "source": [
    "lines.head()"
   ]
  },
  {
   "cell_type": "code",
   "execution_count": 20,
   "metadata": {
    "colab": {
     "base_uri": "https://localhost:8080/",
     "height": 34
    },
    "colab_type": "code",
    "id": "CtA8nGIDocJw",
    "outputId": "60d54815-d368-4a6b-c02f-20aaa1c360b5"
   },
   "outputs": [
    {
     "data": {
      "text/plain": [
       "(13475, 27264)"
      ]
     },
     "execution_count": 20,
     "metadata": {
      "tags": []
     },
     "output_type": "execute_result"
    }
   ],
   "source": [
    "input_words = sorted(list(all_eng_words))\n",
    "target_words = sorted(list(all_spa_words))\n",
    "num_encoder_tokens = len(all_eng_words)\n",
    "num_decoder_tokens = len(all_spa_words)\n",
    "num_encoder_tokens, num_decoder_tokens"
   ]
  },
  {
   "cell_type": "code",
   "execution_count": 0,
   "metadata": {
    "colab": {},
    "colab_type": "code",
    "id": "VPEVqYq8ocg9"
   },
   "outputs": [],
   "source": [
    "num_encoder_tokens += 1 # For zero padding\n",
    "num_decoder_tokens += 1 # For zero padding"
   ]
  },
  {
   "cell_type": "code",
   "execution_count": 0,
   "metadata": {
    "colab": {},
    "colab_type": "code",
    "id": "H6ZJ5XICoccy"
   },
   "outputs": [],
   "source": []
  },
  {
   "cell_type": "markdown",
   "metadata": {
    "colab_type": "text",
    "id": "xdPfVBDIo8DP"
   },
   "source": [
    "## Tokenization"
   ]
  },
  {
   "cell_type": "code",
   "execution_count": 0,
   "metadata": {
    "colab": {},
    "colab_type": "code",
    "id": "QQQJMk1wuJgo"
   },
   "outputs": [],
   "source": [
    "def take(n, iterable):\n",
    "    \"Return first n items of the iterable as a list\"\n",
    "    return list(islice(iterable, n))"
   ]
  },
  {
   "cell_type": "code",
   "execution_count": 0,
   "metadata": {
    "colab": {},
    "colab_type": "code",
    "id": "900SDgTwocZl"
   },
   "outputs": [],
   "source": [
    "input_token_index = dict([(word, i+1) for i, word in enumerate(input_words)])\n",
    "target_token_index = dict([(word, i+1) for i, word in enumerate(target_words)])"
   ]
  },
  {
   "cell_type": "code",
   "execution_count": 24,
   "metadata": {
    "colab": {
     "base_uri": "https://localhost:8080/",
     "height": 187
    },
    "colab_type": "code",
    "id": "btglD6y8uf-X",
    "outputId": "d07457a9-d125-401b-baf6-f0189a73c645"
   },
   "outputs": [
    {
     "name": "stdout",
     "output_type": "stream",
     "text": [
      "a 1\n",
      "aardvark 2\n",
      "aardvarks 3\n",
      "aaron 4\n",
      "aback 5\n",
      "abandon 6\n",
      "abandoned 7\n",
      "abandoning 8\n",
      "abate 9\n",
      "abated 10\n"
     ]
    }
   ],
   "source": [
    "n_items = take(10, input_token_index.items())\n",
    "for k,v in n_items:\n",
    "    print(k, v)"
   ]
  },
  {
   "cell_type": "code",
   "execution_count": 25,
   "metadata": {
    "colab": {
     "base_uri": "https://localhost:8080/",
     "height": 187
    },
    "colab_type": "code",
    "id": "FuB53Tomu-gJ",
    "outputId": "c42e78c0-2a50-49b5-dd28-f6aa400e7397"
   },
   "outputs": [
    {
     "name": "stdout",
     "output_type": "stream",
     "text": [
      "START_ 1\n",
      "_END 2\n",
      "a 3\n",
      "aabe 4\n",
      "aah 5\n",
      "aaron 6\n",
      "abajo 7\n",
      "abandona 8\n",
      "abandonada 9\n",
      "abandonadas 10\n"
     ]
    }
   ],
   "source": [
    "n_items = take(10, target_token_index.items())\n",
    "for k,v in n_items:\n",
    "    print(k, v)"
   ]
  },
  {
   "cell_type": "code",
   "execution_count": 0,
   "metadata": {
    "colab": {},
    "colab_type": "code",
    "id": "eUK7OCyjocXh"
   },
   "outputs": [],
   "source": [
    "reverse_input_char_index = dict((i, word) for word, i in input_token_index.items())\n",
    "reverse_target_char_index = dict((i, word) for word, i in target_token_index.items())"
   ]
  },
  {
   "cell_type": "code",
   "execution_count": 27,
   "metadata": {
    "colab": {
     "base_uri": "https://localhost:8080/",
     "height": 359
    },
    "colab_type": "code",
    "id": "mH4-8lhJocWC",
    "outputId": "ce68fd54-5a55-43fb-d2e8-fdd9a4f0c943"
   },
   "outputs": [
    {
     "data": {
      "text/html": [
       "<div>\n",
       "<style scoped>\n",
       "    .dataframe tbody tr th:only-of-type {\n",
       "        vertical-align: middle;\n",
       "    }\n",
       "\n",
       "    .dataframe tbody tr th {\n",
       "        vertical-align: top;\n",
       "    }\n",
       "\n",
       "    .dataframe thead th {\n",
       "        text-align: right;\n",
       "    }\n",
       "</style>\n",
       "<table border=\"1\" class=\"dataframe\">\n",
       "  <thead>\n",
       "    <tr style=\"text-align: right;\">\n",
       "      <th></th>\n",
       "      <th>english</th>\n",
       "      <th>spanish</th>\n",
       "    </tr>\n",
       "  </thead>\n",
       "  <tbody>\n",
       "    <tr>\n",
       "      <th>36217</th>\n",
       "      <td>you are my best friend</td>\n",
       "      <td>START_ eres mi mejor amigo _END</td>\n",
       "    </tr>\n",
       "    <tr>\n",
       "      <th>118304</th>\n",
       "      <td>if you do not have this program you can download it now</td>\n",
       "      <td>START_ si usted no dispone de este programa puede descargarlo ahora _END</td>\n",
       "    </tr>\n",
       "    <tr>\n",
       "      <th>47672</th>\n",
       "      <td>she got married last year</td>\n",
       "      <td>START_ se casó el año pasado _END</td>\n",
       "    </tr>\n",
       "    <tr>\n",
       "      <th>32053</th>\n",
       "      <td>can you climb the tree</td>\n",
       "      <td>START_ ¿puedes trepar al árbol _END</td>\n",
       "    </tr>\n",
       "    <tr>\n",
       "      <th>34632</th>\n",
       "      <td>someone stole my money</td>\n",
       "      <td>START_ alguien se voló mi plata _END</td>\n",
       "    </tr>\n",
       "    <tr>\n",
       "      <th>93415</th>\n",
       "      <td>we have till tomorrow night to decide</td>\n",
       "      <td>START_ tenemos hasta mañana por la noche para decidirnos _END</td>\n",
       "    </tr>\n",
       "    <tr>\n",
       "      <th>103998</th>\n",
       "      <td>tom claimed he killed mary in selfdefense</td>\n",
       "      <td>START_ tom alegó que mató a mary en defensa propia _END</td>\n",
       "    </tr>\n",
       "    <tr>\n",
       "      <th>8167</th>\n",
       "      <td>he is not young</td>\n",
       "      <td>START_ él no es joven _END</td>\n",
       "    </tr>\n",
       "    <tr>\n",
       "      <th>18336</th>\n",
       "      <td>she wants to dance</td>\n",
       "      <td>START_ ella quiere bailar _END</td>\n",
       "    </tr>\n",
       "    <tr>\n",
       "      <th>112211</th>\n",
       "      <td>im looking for someone who can speak portuguese</td>\n",
       "      <td>START_ busco a alguien que sepa portugués _END</td>\n",
       "    </tr>\n",
       "  </tbody>\n",
       "</table>\n",
       "</div>"
      ],
      "text/plain": [
       "                                                        english                                                                   spanish\n",
       "36217                                    you are my best friend                                           START_ eres mi mejor amigo _END\n",
       "118304  if you do not have this program you can download it now  START_ si usted no dispone de este programa puede descargarlo ahora _END\n",
       "47672                                 she got married last year                                         START_ se casó el año pasado _END\n",
       "32053                                    can you climb the tree                                       START_ ¿puedes trepar al árbol _END\n",
       "34632                                    someone stole my money                                      START_ alguien se voló mi plata _END\n",
       "93415                     we have till tomorrow night to decide             START_ tenemos hasta mañana por la noche para decidirnos _END\n",
       "103998                tom claimed he killed mary in selfdefense                   START_ tom alegó que mató a mary en defensa propia _END\n",
       "8167                                            he is not young                                                START_ él no es joven _END\n",
       "18336                                        she wants to dance                                            START_ ella quiere bailar _END\n",
       "112211          im looking for someone who can speak portuguese                            START_ busco a alguien que sepa portugués _END"
      ]
     },
     "execution_count": 27,
     "metadata": {
      "tags": []
     },
     "output_type": "execute_result"
    }
   ],
   "source": [
    "lines = shuffle(lines)\n",
    "lines.head(10)"
   ]
  },
  {
   "cell_type": "code",
   "execution_count": 0,
   "metadata": {
    "colab": {},
    "colab_type": "code",
    "id": "Nj3YDPqvFWuy"
   },
   "outputs": [],
   "source": []
  },
  {
   "cell_type": "markdown",
   "metadata": {
    "colab_type": "text",
    "id": "a7HSfC7gperL"
   },
   "source": [
    "## Train-Test Split"
   ]
  },
  {
   "cell_type": "code",
   "execution_count": 0,
   "metadata": {
    "colab": {},
    "colab_type": "code",
    "id": "6dEl7zSyocTe"
   },
   "outputs": [],
   "source": [
    "X, y = lines[\"english\"], lines[\"spanish\"]"
   ]
  },
  {
   "cell_type": "code",
   "execution_count": 0,
   "metadata": {
    "colab": {},
    "colab_type": "code",
    "id": "X_qTGlDdocQk"
   },
   "outputs": [],
   "source": [
    "X_train, X_test, y_train, y_test = train_test_split(X, y, test_size=0.2, random_state=42)"
   ]
  },
  {
   "cell_type": "code",
   "execution_count": 30,
   "metadata": {
    "colab": {
     "base_uri": "https://localhost:8080/",
     "height": 34
    },
    "colab_type": "code",
    "id": "PqYa-lDxocH5",
    "outputId": "f4a6a681-7366-4fbe-bcc3-acda373b1f01"
   },
   "outputs": [
    {
     "data": {
      "text/plain": [
       "((99016,), (99016,))"
      ]
     },
     "execution_count": 30,
     "metadata": {
      "tags": []
     },
     "output_type": "execute_result"
    }
   ],
   "source": [
    "X_train.shape, y_train.shape"
   ]
  },
  {
   "cell_type": "code",
   "execution_count": 31,
   "metadata": {
    "colab": {
     "base_uri": "https://localhost:8080/",
     "height": 34
    },
    "colab_type": "code",
    "id": "duiwDIjmpvkm",
    "outputId": "34aff9fc-9bf9-454a-88fd-2647d14e24eb"
   },
   "outputs": [
    {
     "data": {
      "text/plain": [
       "((24754,), (24754,))"
      ]
     },
     "execution_count": 31,
     "metadata": {
      "tags": []
     },
     "output_type": "execute_result"
    }
   ],
   "source": [
    "X_test.shape, y_test.shape"
   ]
  },
  {
   "cell_type": "code",
   "execution_count": 0,
   "metadata": {
    "colab": {},
    "colab_type": "code",
    "id": "6lnJew4GFXh1"
   },
   "outputs": [],
   "source": []
  },
  {
   "cell_type": "markdown",
   "metadata": {
    "colab_type": "text",
    "id": "DzG-EgsEFB_C"
   },
   "source": [
    "## Generator"
   ]
  },
  {
   "cell_type": "code",
   "execution_count": 0,
   "metadata": {
    "colab": {},
    "colab_type": "code",
    "id": "EnS0Yh-dpv7q"
   },
   "outputs": [],
   "source": [
    "def generate_batch(X=X_train, y=y_train, batch_size=128):\n",
    "    ''' Generate a batch of data '''\n",
    "    while True:\n",
    "        for j in range(0, len(X), batch_size):\n",
    "            encoder_input_data = np.zeros((batch_size, max_length_src), dtype='float32')\n",
    "            decoder_input_data = np.zeros((batch_size, max_length_tar), dtype='float32')\n",
    "            decoder_target_data = np.zeros((batch_size, max_length_tar, num_decoder_tokens), dtype='float32')\n",
    "            for i, (input_text, target_text) in enumerate(zip(X[j:j+batch_size], y[j:j+batch_size])):\n",
    "                for t, word in enumerate(input_text.split()):\n",
    "                    encoder_input_data[i, t] = input_token_index[word] # encoder input seq\n",
    "                for t, word in enumerate(target_text.split()):\n",
    "                    if t < len(target_text.split())-1:\n",
    "                        decoder_input_data[i, t] = target_token_index[word] # decoder input seq\n",
    "                    if t>0:\n",
    "                        # decoder target sequence (one hot encoded)\n",
    "                        # does not include the START_ token\n",
    "                        # Offset by one timestep\n",
    "                        decoder_target_data[i, t - 1, target_token_index[word]] = 1.\n",
    "            yield([encoder_input_data, decoder_input_data], decoder_target_data)"
   ]
  },
  {
   "cell_type": "code",
   "execution_count": 0,
   "metadata": {
    "colab": {},
    "colab_type": "code",
    "id": "s7aKV3tJFQ4s"
   },
   "outputs": [],
   "source": []
  },
  {
   "cell_type": "markdown",
   "metadata": {
    "colab_type": "text",
    "id": "g_e-bwvt_7Jp"
   },
   "source": [
    "## Teacher Forcing\n",
    "Teacher forcing works by using the actual or expected output from the training dataset at the current time step `y(t)` as input in the next time step `X(t+1)`, rather than the output generated by the network.\n",
    "\n",
    "Decoder is trained to turn the target sequences into the same sequences but offset by one timestep in the future, a training process called \"teacher forcing\" in this context. Effectively, the decoder learns to generate targets `[t+1...]` given targets `[...t]`, conditioned on the input sequence.\n",
    "\n",
    "\n",
    "### Example - \n",
    "Suppose, we had only 1 sentence -\n",
    "* `English` - Juan eats apples\n",
    "* `Spanish` - Juan come manzanas\n",
    "\n",
    "Hence, we had just 3 words in our English & 5 in Spanish vocabulary. \n",
    "```\n",
    "English Vocabulary\n",
    "{'apples': 1, 'eats': 2, 'juan': 3}\n",
    "\n",
    "Spanish Vocabulary\n",
    "{'START_': 1, '_END': 2, 'come': 3, 'juan': 4, 'manzanas': 5}\n",
    "```\n",
    "\n",
    "So our encoded input & decoder input would look like - \n",
    "```\n",
    "Encoder Input Data: [[3. 2. 1.]]\n",
    "\n",
    "Decoder Input Data: [[1. 4. 3. 5. 0.]]\n",
    "```\n",
    "\n",
    "As the target sentence has 5 words, at timestep `t` during training, we set the previous timestep's `t-1` actual output to 1. So essentially, we will have 5 target sentence.\n",
    "\n",
    "```\n",
    "Decoder Target Data: \n",
    "[0. 0. 0. 0. 1. 0.] # juan\n",
    "[0. 0. 0. 1. 0. 0.] # come\n",
    "[0. 0. 0. 0. 0. 1.] # manzanas\n",
    "[0. 0. 1. 0. 0. 0.] # _END\n",
    "[0. 0. 0. 0. 0. 0.]\n",
    "```\n",
    "\n",
    "### Summary\n",
    "TS1 -\n",
    "```\n",
    "Encoder Input Data - [3. 2. 1.]\n",
    "Decoder Input Data: [1. 4. 3. 5. 0.]\n",
    "Decoder Target Data: [0. 0. 0. 0. 1. 0.] # juan\n",
    "```\n",
    "\n",
    "TS2 -\n",
    "```\n",
    "Encoder Input Data - [3. 2. 1.]\n",
    "Decoder Input Data: [1. 4. 3. 5. 0.]\n",
    "Decoder Target Data: [0. 0. 0. 1. 0. 0.] # juan come\n",
    "```\n",
    "\n",
    "TS3 -\n",
    "```\n",
    "Encoder Input Data - [3. 2. 1.]\n",
    "Decoder Input Data: [1. 4. 3. 5. 0.]\n",
    "Decoder Target Data: [0. 0. 0. 0. 0. 1.] # juan come manzanas\n",
    "```\n",
    "\n",
    "TS4 -\n",
    "```\n",
    "Encoder Input Data - [3. 2. 1.]\n",
    "Decoder Input Data: [1. 4. 3. 5. 0.]\n",
    "Decoder Target Data: [0. 1. 0. 0. 0. 0.] # juan come manzanas _END\n",
    "```\n"
   ]
  },
  {
   "cell_type": "code",
   "execution_count": 0,
   "metadata": {
    "colab": {},
    "colab_type": "code",
    "id": "y4l0T2uL3vb8"
   },
   "outputs": [],
   "source": []
  },
  {
   "cell_type": "code",
   "execution_count": 0,
   "metadata": {
    "colab": {},
    "colab_type": "code",
    "id": "bSC9decdpv5M"
   },
   "outputs": [],
   "source": [
    "# batch_size = 1\n",
    "\n",
    "# for j in range(0, len(X), batch_size):\n",
    "#     encoder_input_data = np.zeros((batch_size, max_length_src),dtype='float32')\n",
    "#     decoder_input_data = np.zeros((batch_size, max_length_tar),dtype='float32')\n",
    "#     decoder_target_data = np.zeros((batch_size, max_length_tar, num_decoder_tokens),dtype='float32')\n",
    "#     for i, (input_text, target_text) in enumerate(zip(X[j:j+batch_size], y[j:j+batch_size])):\n",
    "#         for t, word in enumerate(input_text.split()):\n",
    "#             print(f\"Input: {word}\")\n",
    "#             encoder_input_data[i, t] = input_token_index[word] # encoder input seq\n",
    "#         for t, word in enumerate(target_text.split()):\n",
    "#             print(f\"Target: {word}\")\n",
    "#             if t<len(target_text.split())-1:\n",
    "#                 decoder_input_data[i, t] = target_token_index[word] # decoder input seq\n",
    "#             if t>0:\n",
    "#                 # decoder target sequence (one hot encoded)\n",
    "#                 # does not include the START_ token\n",
    "#                 # Offset by one timestep\n",
    "#                 decoder_target_data[i, t - 1, target_token_index[word]] = 1.\n",
    "#     print(f\"Encoder Input Data: {encoder_input_data}\") \n",
    "#     print(f\"Decoder Input Data: {decoder_input_data}\")\n",
    "#     print(f\"Decoder Target Data:\\n {decoder_target_data}\")\n",
    "#     # print(f\"Decoder Target Data:\\n {decoder_target_data[:, :-1, :]}\")"
   ]
  },
  {
   "cell_type": "code",
   "execution_count": 0,
   "metadata": {
    "colab": {},
    "colab_type": "code",
    "id": "KHalRMMQ1Uep"
   },
   "outputs": [],
   "source": []
  },
  {
   "cell_type": "markdown",
   "metadata": {
    "colab_type": "text",
    "id": "HukwM-n-FO4W"
   },
   "source": [
    "## Model"
   ]
  },
  {
   "cell_type": "code",
   "execution_count": 0,
   "metadata": {
    "colab": {},
    "colab_type": "code",
    "id": "FBwRt6qy1Ubi"
   },
   "outputs": [],
   "source": [
    "latent_dim = 100"
   ]
  },
  {
   "cell_type": "code",
   "execution_count": 35,
   "metadata": {
    "colab": {
     "base_uri": "https://localhost:8080/",
     "height": 105
    },
    "colab_type": "code",
    "id": "KLzd7__61UYN",
    "outputId": "b9ff9f24-8f79-4d3f-93d1-667046875aec"
   },
   "outputs": [
    {
     "name": "stdout",
     "output_type": "stream",
     "text": [
      "WARNING:tensorflow:From /usr/local/lib/python3.6/dist-packages/tensorflow/python/ops/resource_variable_ops.py:1666: calling BaseResourceVariable.__init__ (from tensorflow.python.ops.resource_variable_ops) with constraint is deprecated and will be removed in a future version.\n",
      "Instructions for updating:\n",
      "If using Keras pass *_constraint arguments to layers.\n",
      "WARNING:tensorflow:Layer lstm will not use cuDNN kernel since it doesn't meet the cuDNN kernel criteria. It will use generic GPU kernel as fallback when running on GPU\n"
     ]
    }
   ],
   "source": [
    "# ENCODER\n",
    "encoder_inputs = Input(shape=(None,))\n",
    "enc_emb = Embedding(num_encoder_tokens, latent_dim, mask_zero=True)(encoder_inputs)\n",
    "encoder_lstm = LSTM(latent_dim, return_state=True)\n",
    "encoder_outputs, state_h, state_c = encoder_lstm(enc_emb)\n",
    "# discard `encoder_outputs` and only keep the states.\n",
    "encoder_states = [state_h, state_c]"
   ]
  },
  {
   "cell_type": "markdown",
   "metadata": {
    "colab_type": "text",
    "id": "Lej19r1o_f6v"
   },
   "source": [
    "`mask_zero=True` - It treats '0' as a padding value. As per the docs, \"If mask_zero is set to True, as a consequence, index 0 cannot be used in the vocabulary (input_dim should equal size of vocabulary + 1)\". Which is why increased `num_encoder_tokens` & `num_decoder_tokens` in cell 20 "
   ]
  },
  {
   "cell_type": "code",
   "execution_count": 36,
   "metadata": {
    "colab": {
     "base_uri": "https://localhost:8080/",
     "height": 54
    },
    "colab_type": "code",
    "id": "iwfPnYTmocEx",
    "outputId": "ff7c9cd0-a28e-4dfe-9cca-30cbb67d0b1d"
   },
   "outputs": [
    {
     "name": "stdout",
     "output_type": "stream",
     "text": [
      "WARNING:tensorflow:Layer lstm_1 will not use cuDNN kernel since it doesn't meet the cuDNN kernel criteria. It will use generic GPU kernel as fallback when running on GPU\n"
     ]
    }
   ],
   "source": [
    "# set up the decoder, using `encoder_states` as initial state.\n",
    "decoder_inputs = Input(shape=(None,))\n",
    "dec_emb_layer = Embedding(num_decoder_tokens, latent_dim, mask_zero=True)\n",
    "dec_emb = dec_emb_layer(decoder_inputs)\n",
    "decoder_lstm = LSTM(latent_dim, return_sequences=True, return_state=True)\n",
    "decoder_outputs, dec_state_h, dec_state_c = decoder_lstm(dec_emb, initial_state=encoder_states)"
   ]
  },
  {
   "cell_type": "code",
   "execution_count": 0,
   "metadata": {
    "colab": {},
    "colab_type": "code",
    "id": "PAJOyB6CBTOK"
   },
   "outputs": [],
   "source": [
    "decoder_dense = Dense(num_decoder_tokens, activation='softmax')\n",
    "decoder_outputs = decoder_dense(decoder_outputs)"
   ]
  },
  {
   "cell_type": "markdown",
   "metadata": {
    "colab_type": "text",
    "id": "jk2ofoapBQqe"
   },
   "source": [
    "Here, we add a Dense Layer that uses softmax activation on top of decoder. Notice, how for the sample sentence - `Juan eats apples`, the output target at each timestep looks like - \n",
    "```\n",
    "[0. 0. 0. 0. 1. 0.] # juan\n",
    "[0. 0. 0. 1. 0. 0.] # juan come\n",
    "[0. 0. 0. 0. 0. 1.] # juan come manzanas\n",
    "[0. 1. 0. 0. 0. 0.] # juan come manzanas _end\n",
    "```\n",
    "It is the job of the dense layer to predict this next word from the *decoder_outputs*"
   ]
  },
  {
   "cell_type": "markdown",
   "metadata": {
    "colab_type": "text",
    "id": "U0vJvMwwGl9H"
   },
   "source": [
    "Model will take encoder inputs & decoder inputs and return decoder outputs"
   ]
  },
  {
   "cell_type": "code",
   "execution_count": 0,
   "metadata": {
    "colab": {},
    "colab_type": "code",
    "id": "Z2yqflOrGlVl"
   },
   "outputs": [],
   "source": [
    "model = Model([encoder_inputs, decoder_inputs], decoder_outputs)\n",
    "model.compile(optimizer='adam', loss='categorical_crossentropy', metrics=['acc'])"
   ]
  },
  {
   "cell_type": "code",
   "execution_count": 39,
   "metadata": {
    "colab": {
     "base_uri": "https://localhost:8080/",
     "height": 533
    },
    "colab_type": "code",
    "id": "1zv43I1PFnF6",
    "outputId": "903d108c-49b8-47f2-a900-8f665b015d42"
   },
   "outputs": [
    {
     "data": {
      "image/png": "[encoded data removed]",
      "text/plain": [
       "<IPython.core.display.Image object>"
      ]
     },
     "execution_count": 39,
     "metadata": {
      "tags": []
     },
     "output_type": "execute_result"
    }
   ],
   "source": [
    "plot_model(model, show_shapes=True)"
   ]
  },
  {
   "cell_type": "markdown",
   "metadata": {
    "colab_type": "text",
    "id": "4KrlW5gsHPdK"
   },
   "source": [
    "## Training"
   ]
  },
  {
   "cell_type": "code",
   "execution_count": 0,
   "metadata": {
    "colab": {},
    "colab_type": "code",
    "id": "B94g49KTFnDc"
   },
   "outputs": [],
   "source": [
    "train_samples = len(X_train)\n",
    "val_samples = len(X_test)\n",
    "batch_size = 128\n",
    "epochs = 50"
   ]
  },
  {
   "cell_type": "code",
   "execution_count": 0,
   "metadata": {
    "colab": {},
    "colab_type": "code",
    "id": "b_56uHihMuPW"
   },
   "outputs": [],
   "source": [
    "csvlogger = CSVLogger(\"training.log\")\n",
    "earlystopping = tf.keras.callbacks.EarlyStopping(monitor='val_loss', patience=3)\n",
    "callbacks = [csvlogger, earlystopping]"
   ]
  },
  {
   "cell_type": "code",
   "execution_count": 42,
   "metadata": {
    "colab": {
     "base_uri": "https://localhost:8080/",
     "height": 972
    },
    "colab_type": "code",
    "id": "19fTUdLXHCJD",
    "outputId": "01d20b18-c6c8-4deb-ebc6-7a6eb222191e"
   },
   "outputs": [
    {
     "name": "stdout",
     "output_type": "stream",
     "text": [
      "WARNING:tensorflow:From <ipython-input-42-c7455d30101d>:6: Model.fit_generator (from tensorflow.python.keras.engine.training_v1) is deprecated and will be removed in a future version.\n",
      "Instructions for updating:\n",
      "Please use Model.fit, which supports generators.\n",
      "Epoch 1/50\n",
      "773/773 [==============================] - 434s 561ms/step - loss: 0.8506 - acc: 0.1638 - val_loss: 0.7588 - val_acc: 0.2107\n",
      "Epoch 2/50\n",
      "773/773 [==============================] - 436s 564ms/step - loss: 0.6943 - acc: 0.2561 - val_loss: 0.6517 - val_acc: 0.2900\n",
      "Epoch 3/50\n",
      "773/773 [==============================] - 435s 563ms/step - loss: 0.6062 - acc: 0.3210 - val_loss: 0.5916 - val_acc: 0.3357\n",
      "Epoch 4/50\n",
      "773/773 [==============================] - 434s 561ms/step - loss: 0.5472 - acc: 0.3637 - val_loss: 0.5486 - val_acc: 0.3686\n",
      "Epoch 5/50\n",
      "773/773 [==============================] - 434s 562ms/step - loss: 0.5002 - acc: 0.3994 - val_loss: 0.5149 - val_acc: 0.3968\n",
      "Epoch 6/50\n",
      "773/773 [==============================] - 433s 561ms/step - loss: 0.4612 - acc: 0.4302 - val_loss: 0.4895 - val_acc: 0.4196\n",
      "Epoch 7/50\n",
      "773/773 [==============================] - 435s 563ms/step - loss: 0.4284 - acc: 0.4568 - val_loss: 0.4689 - val_acc: 0.4367\n",
      "Epoch 8/50\n",
      "773/773 [==============================] - 435s 563ms/step - loss: 0.4000 - acc: 0.4807 - val_loss: 0.4523 - val_acc: 0.4519\n",
      "Epoch 9/50\n",
      "773/773 [==============================] - 436s 564ms/step - loss: 0.3749 - acc: 0.5024 - val_loss: 0.4377 - val_acc: 0.4657\n",
      "Epoch 10/50\n",
      "773/773 [==============================] - 436s 564ms/step - loss: 0.3524 - acc: 0.5225 - val_loss: 0.4265 - val_acc: 0.4763\n",
      "Epoch 11/50\n",
      "773/773 [==============================] - 437s 565ms/step - loss: 0.3322 - acc: 0.5404 - val_loss: 0.4169 - val_acc: 0.4862\n",
      "Epoch 12/50\n",
      "773/773 [==============================] - 437s 565ms/step - loss: 0.3137 - acc: 0.5580 - val_loss: 0.4084 - val_acc: 0.4944\n",
      "Epoch 13/50\n",
      "773/773 [==============================] - 435s 563ms/step - loss: 0.2968 - acc: 0.5741 - val_loss: 0.4029 - val_acc: 0.5006\n",
      "Epoch 14/50\n",
      "773/773 [==============================] - 435s 562ms/step - loss: 0.2812 - acc: 0.5896 - val_loss: 0.3967 - val_acc: 0.5082\n",
      "Epoch 15/50\n",
      "773/773 [==============================] - 434s 562ms/step - loss: 0.2669 - acc: 0.6042 - val_loss: 0.3921 - val_acc: 0.5133\n",
      "Epoch 16/50\n",
      "773/773 [==============================] - 434s 561ms/step - loss: 0.2537 - acc: 0.6189 - val_loss: 0.3874 - val_acc: 0.5192\n",
      "Epoch 17/50\n",
      "773/773 [==============================] - 434s 562ms/step - loss: 0.2413 - acc: 0.6333 - val_loss: 0.3843 - val_acc: 0.5247\n",
      "Epoch 18/50\n",
      "773/773 [==============================] - 435s 562ms/step - loss: 0.2301 - acc: 0.6472 - val_loss: 0.3814 - val_acc: 0.5277\n",
      "Epoch 19/50\n",
      "773/773 [==============================] - 438s 566ms/step - loss: 0.2199 - acc: 0.6596 - val_loss: 0.3797 - val_acc: 0.5306\n",
      "Epoch 20/50\n",
      "773/773 [==============================] - 436s 564ms/step - loss: 0.2105 - acc: 0.6717 - val_loss: 0.3777 - val_acc: 0.5337\n",
      "Epoch 21/50\n",
      "773/773 [==============================] - 434s 562ms/step - loss: 0.2015 - acc: 0.6836 - val_loss: 0.3774 - val_acc: 0.5347\n",
      "Epoch 22/50\n",
      "773/773 [==============================] - 434s 561ms/step - loss: 0.1934 - acc: 0.6950 - val_loss: 0.3774 - val_acc: 0.5353\n",
      "Epoch 23/50\n",
      "773/773 [==============================] - 434s 561ms/step - loss: 0.1859 - acc: 0.7051 - val_loss: 0.3753 - val_acc: 0.5392\n",
      "Epoch 24/50\n",
      "773/773 [==============================] - 433s 560ms/step - loss: 0.1788 - acc: 0.7154 - val_loss: 0.3758 - val_acc: 0.5415\n",
      "Epoch 25/50\n",
      "773/773 [==============================] - 433s 561ms/step - loss: 0.1724 - acc: 0.7238 - val_loss: 0.3782 - val_acc: 0.5405\n",
      "Epoch 26/50\n",
      "773/773 [==============================] - 433s 561ms/step - loss: 0.1664 - acc: 0.7326 - val_loss: 0.3779 - val_acc: 0.5428\n"
     ]
    }
   ],
   "source": [
    "history = model.fit_generator(generator = generate_batch(X_train, y_train, batch_size = batch_size),\n",
    "                    steps_per_epoch = train_samples//batch_size,\n",
    "                    epochs=epochs,\n",
    "                    validation_data = generate_batch(X_test, y_test, batch_size = batch_size),\n",
    "                    validation_steps = val_samples//batch_size,\n",
    "                    callbacks=callbacks\n",
    "                    )"
   ]
  },
  {
   "cell_type": "markdown",
   "metadata": {
    "colab_type": "text",
    "id": "G7UyMN2-yRh7"
   },
   "source": [
    "**EarlyStopping callback clicked into gear at the end of epoch 26, as the validation loss only kept on increasing from 0.3753(epoch 23) to 0.3758(epoch 24), 0.3782(epoch 25) & 0.3779(epoch 26)**"
   ]
  },
  {
   "cell_type": "code",
   "execution_count": 43,
   "metadata": {
    "colab": {
     "base_uri": "https://localhost:8080/",
     "height": 295
    },
    "colab_type": "code",
    "id": "_UfoF3F3_dEa",
    "outputId": "463c6277-bb7c-4381-df6a-cefa4c247d2c"
   },
   "outputs": [
    {
     "data": {
      "image/png": "[encoded data removed]",
      "text/plain": [
       "<Figure size 432x288 with 1 Axes>"
      ]
     },
     "metadata": {
      "tags": []
     },
     "output_type": "display_data"
    }
   ],
   "source": [
    "# summarize history for accuracy\n",
    "plt.plot(history.history['acc'])\n",
    "plt.plot(history.history['val_acc'])\n",
    "plt.title('Model Accuracy')\n",
    "plt.ylabel('Accuracy')\n",
    "plt.xlabel('Epoch')\n",
    "plt.legend(['Train', 'Validation'], loc='upper left')\n",
    "plt.show()"
   ]
  },
  {
   "cell_type": "code",
   "execution_count": 44,
   "metadata": {
    "colab": {
     "base_uri": "https://localhost:8080/",
     "height": 295
    },
    "colab_type": "code",
    "id": "9rcrG7ZGAXUT",
    "outputId": "eb68dc9e-2992-4de9-b821-6f79c0c50d89"
   },
   "outputs": [
    {
     "data": {
      "image/png": "[encoded data removed]",
      "text/plain": [
       "<Figure size 432x288 with 1 Axes>"
      ]
     },
     "metadata": {
      "tags": []
     },
     "output_type": "display_data"
    }
   ],
   "source": [
    "# summarize history for loss\n",
    "plt.plot(history.history['loss'])\n",
    "plt.plot(history.history['val_loss'])\n",
    "plt.title('Model loss')\n",
    "plt.ylabel('loss')\n",
    "plt.xlabel('epoch')\n",
    "plt.legend(['train', 'test'], loc='upper left')\n",
    "plt.show()"
   ]
  },
  {
   "cell_type": "code",
   "execution_count": 0,
   "metadata": {
    "colab": {},
    "colab_type": "code",
    "id": "A1Lntds5HCi1"
   },
   "outputs": [],
   "source": [
    "model.save(\"english_to_spanish_nmt.h5\")"
   ]
  },
  {
   "cell_type": "code",
   "execution_count": 46,
   "metadata": {
    "colab": {
     "base_uri": "https://localhost:8080/",
     "height": 71
    },
    "colab_type": "code",
    "id": "NGvPQXgBHCFr",
    "outputId": "13681c09-c2c0-43a2-e075-231d9e1ecf6f"
   },
   "outputs": [
    {
     "name": "stdout",
     "output_type": "stream",
     "text": [
      "WARNING:tensorflow:Layer lstm will not use cuDNN kernel since it doesn't meet the cuDNN kernel criteria. It will use generic GPU kernel as fallback when running on GPU\n",
      "WARNING:tensorflow:Layer lstm_1 will not use cuDNN kernel since it doesn't meet the cuDNN kernel criteria. It will use generic GPU kernel as fallback when running on GPU\n"
     ]
    }
   ],
   "source": [
    "model = load_model(\"english_to_spanish_nmt.h5\")"
   ]
  },
  {
   "cell_type": "code",
   "execution_count": 0,
   "metadata": {
    "colab": {},
    "colab_type": "code",
    "id": "ttEc1psYNNEz"
   },
   "outputs": [],
   "source": [
    "files.download(\"english_to_spanish_nmt.h5\")"
   ]
  },
  {
   "cell_type": "code",
   "execution_count": 0,
   "metadata": {
    "colab": {},
    "colab_type": "code",
    "id": "W2GELAPN5MXq"
   },
   "outputs": [],
   "source": [
    "files.download(\"training.log\")"
   ]
  },
  {
   "cell_type": "code",
   "execution_count": 0,
   "metadata": {
    "colab": {},
    "colab_type": "code",
    "id": "RcqcwuhONNAV"
   },
   "outputs": [],
   "source": []
  },
  {
   "cell_type": "markdown",
   "metadata": {
    "colab_type": "text",
    "id": "tYpN2UfRZ4xy"
   },
   "source": [
    "## Inference"
   ]
  },
  {
   "cell_type": "markdown",
   "metadata": {
    "colab_type": "text",
    "id": "H-KbL4IpU8_L"
   },
   "source": [
    "***Encoder Setup***\n",
    "\n",
    "Encode the input sequence to get the encoder_states - `state_h & state_c`"
   ]
  },
  {
   "cell_type": "code",
   "execution_count": 0,
   "metadata": {
    "colab": {},
    "colab_type": "code",
    "id": "sD31MEkFHCCf"
   },
   "outputs": [],
   "source": [
    "encoder_model = Model(encoder_inputs, encoder_states)"
   ]
  },
  {
   "cell_type": "markdown",
   "metadata": {
    "colab_type": "text",
    "id": "bE5Re-6lWLok"
   },
   "source": [
    "***Decoder setup***\n",
    "\n",
    "Below tensors will hold the states of the previous time step. In case of the first sequence, assume - \n",
    ">1. decoder_state_input_c - state_c\n",
    ">2. decoder_state_input_h - state_h\n"
   ]
  },
  {
   "cell_type": "code",
   "execution_count": 0,
   "metadata": {
    "colab": {},
    "colab_type": "code",
    "id": "vTaISdS1Vx0N"
   },
   "outputs": [],
   "source": [
    "decoder_state_input_h = Input(shape=(latent_dim,))\n",
    "decoder_state_input_c = Input(shape=(latent_dim,))\n",
    "decoder_states_inputs = [decoder_state_input_h, decoder_state_input_c]"
   ]
  },
  {
   "cell_type": "markdown",
   "metadata": {
    "colab_type": "text",
    "id": "NYoKMT87Xh1a"
   },
   "source": [
    "Get the embedding of decoder output sequences. For the first sequence, it will return the embedded vector for `START_` - [1., 0., 0., 0., 0.]. If the next predicted word is Juan, it will then return the embedded vector for `Juan` - [0., 0., 0., 1., 0.]"
   ]
  },
  {
   "cell_type": "code",
   "execution_count": 0,
   "metadata": {
    "colab": {},
    "colab_type": "code",
    "id": "QAEQIT7zXO5o"
   },
   "outputs": [],
   "source": [
    "dec_emb2 = dec_emb_layer(decoder_inputs) "
   ]
  },
  {
   "cell_type": "markdown",
   "metadata": {
    "colab_type": "text",
    "id": "CpCoU9ReZE8P"
   },
   "source": [
    "To predict the next word in the sequence, set the initial states to the states from the previous time step\n"
   ]
  },
  {
   "cell_type": "code",
   "execution_count": 0,
   "metadata": {
    "colab": {},
    "colab_type": "code",
    "id": "Z-S7sgotYSA8"
   },
   "outputs": [],
   "source": [
    "decoder_outputs2, state_h2, state_c2 = decoder_lstm(dec_emb2, initial_state=decoder_states_inputs)"
   ]
  },
  {
   "cell_type": "markdown",
   "metadata": {
    "colab_type": "text",
    "id": "URZ73j0xZTnJ"
   },
   "source": [
    "Predict the next word in the sequence using the dense layer and choose the most probable word by selecting the word with most probability from the softmax probability distribution."
   ]
  },
  {
   "cell_type": "code",
   "execution_count": 0,
   "metadata": {
    "colab": {},
    "colab_type": "code",
    "id": "Z042N2B7ZQ1E"
   },
   "outputs": [],
   "source": [
    "decoder_outputs2 = decoder_dense(decoder_outputs2) "
   ]
  },
  {
   "cell_type": "markdown",
   "metadata": {
    "colab_type": "text",
    "id": "hhiHQ4WSdAA5"
   },
   "source": [
    "***Final Decoder Model***\n",
    "\n",
    "Inputs -\n",
    ">1. decoder_inputs - List of word\n",
    ">2. decoder_states_inputs - previous timestep's hidden state & cell state\n",
    "\n",
    "Outputs - \n",
    ">1. decoder_outputs2 - one-hot vector represeting the predicted word \n",
    ">2. decoder_states2 - current timestep's hidden state & cell state"
   ]
  },
  {
   "cell_type": "code",
   "execution_count": 0,
   "metadata": {
    "colab": {},
    "colab_type": "code",
    "id": "q3LaD1ovc9tr"
   },
   "outputs": [],
   "source": [
    "decoder_states2 = [state_h2, state_c2]\n",
    "decoder_model = Model(\n",
    "    [decoder_inputs] + decoder_states_inputs,\n",
    "    [decoder_outputs2] + decoder_states2)"
   ]
  },
  {
   "cell_type": "code",
   "execution_count": 0,
   "metadata": {
    "colab": {},
    "colab_type": "code",
    "id": "BjLIBhifeKZC"
   },
   "outputs": [],
   "source": []
  },
  {
   "cell_type": "markdown",
   "metadata": {
    "colab_type": "text",
    "id": "84O7HfC8eK7V"
   },
   "source": [
    "## Decode Sequence"
   ]
  },
  {
   "cell_type": "code",
   "execution_count": 0,
   "metadata": {
    "colab": {},
    "colab_type": "code",
    "id": "ETA6jUB_R1se"
   },
   "outputs": [],
   "source": [
    "# https://github.com/numpy/numpy/issues/15201#issue-543733072\n",
    "\n",
    "def categorical(p):\n",
    "    return (p.cumsum(-1) >= np.random.uniform(size=p.shape[:-1])[..., None]).argmax(-1)"
   ]
  },
  {
   "cell_type": "code",
   "execution_count": 0,
   "metadata": {
    "colab": {},
    "colab_type": "code",
    "id": "PlR1ANdcHB-b"
   },
   "outputs": [],
   "source": [
    "def decode_sequence(input_seq):\n",
    "    # Encode the input as state vectors.\n",
    "    states_value = encoder_model.predict(input_seq)\n",
    "    # Generate empty target sequence of length 1.\n",
    "    target_seq = np.zeros((1,1))\n",
    "    # Populate the first character of target sequence with the start character.\n",
    "    target_seq[0, 0] = target_token_index['START_']\n",
    "\n",
    "    # Sampling loop for a batch of sequences\n",
    "    # (to simplify, here we assume a batch of size 1).\n",
    "    stop_condition = False\n",
    "    decoded_sentence = ''\n",
    "    while not stop_condition:\n",
    "        output_tokens, h, c = decoder_model.predict([target_seq] + states_value)\n",
    "\n",
    "        # Sampling a token with max probability\n",
    "        sampled_token_index = np.argmax(output_tokens[0, -1, :])\n",
    "\n",
    "        # Sample from a categorical distribution\n",
    "        # logits = output_tokens[0, -1, :]\n",
    "        # sampled_token_index = categorical(np.reshape(logits, [-1, len(logits)]))[0]\n",
    "         \n",
    "        sampled_char = reverse_target_char_index[sampled_token_index]\n",
    "        decoded_sentence += ' '+sampled_char\n",
    "\n",
    "        # Exit condition: either hit max length\n",
    "        # or find stop character.\n",
    "        if (sampled_char == '_END' or\n",
    "           len(decoded_sentence) > max_length_tar):\n",
    "            stop_condition = True\n",
    "\n",
    "        # Update the target sequence (of length 1).\n",
    "        target_seq = np.zeros((1,1))\n",
    "        target_seq[0, 0] = sampled_token_index\n",
    "\n",
    "        # Update states\n",
    "        states_value = [h, c]\n",
    "\n",
    "    return decoded_sentence"
   ]
  },
  {
   "cell_type": "markdown",
   "metadata": {},
   "source": [
    "### Beam Search Decoding\n",
    "\n",
    "Core idea is to keep track of the ***$k$ most probable*** partial translations. $k$ is the beam width (usually 5-10).\n",
    "\n",
    "A hypothesis $y_{1}, y_{2}, y_{3}, ..., y_{t}$ has a *score* which is it's log probability:\n",
    "\n",
    "$$score(y_{1}, y_{2}, y_{3}, ..., y_{t})=\\log P(y_{1}, y_{2}, y_{3}, ..., y_{t}|x)=\\sum_{i=1}^{t}\\log P(y_{i}|y_{1}, y_{2}, y_{3}, ..., y_{i-1}|x)$$\n",
    "\n",
    "* Scores are all negative, as we are taking log of probabilities (0-1)\n",
    "* We search for high scoring hypothesis, ***keeping track of top k only*** at each step\n",
    "\n",
    "\n",
    "**STOPPING CRITERIA**\n",
    "Since, different hypothesis may produce *<END>* token at different timesteps. Therefore,\n",
    " \n",
    "1. Once a hypothesis produces *<END>* token, we regard it complete.\n",
    "2. We then discard it & continue exploring other hypothesis.\n",
    "\n",
    "We usually stop when, \n",
    "\n",
    "1. We have say *n* words or sequence is say of length 50 or 100, etc.\n",
    "2. We have certain number of completed hypothesis.\n",
    "    \n",
    "    \n"
   ]
  },
  {
   "cell_type": "code",
   "execution_count": 0,
   "metadata": {
    "colab": {},
    "colab_type": "code",
    "id": "yGG-_B9U3jwH"
   },
   "outputs": [],
   "source": [
    "def beam_search_decoder(predictions, top_k = 3):\n",
    "    #start with an empty sequence with zero score\n",
    "    output_sequences = [([], 0)]\n",
    "    \n",
    "    #looping through all the predictions\n",
    "    for token_probs in predictions:\n",
    "        new_sequences = []\n",
    "        \n",
    "        #append new tokens to old sequences and re-score\n",
    "        for old_seq, old_score in output_sequences:\n",
    "            for char_index in range(len(token_probs)):\n",
    "                new_seq = old_seq + [char_index]\n",
    "                #considering log-likelihood for scoring\n",
    "                new_score = old_score + math.log(token_probs[char_index])\n",
    "                new_sequences.append((new_seq, new_score))\n",
    "                \n",
    "        # sort all new sequences in the de-creasing order of their score\n",
    "        output_sequences = sorted(new_sequences, key = lambda val: val[1], reverse = True)\n",
    "        \n",
    "        #select top-k based on score \n",
    "        # *Note- best sequence is with the highest score\n",
    "        output_sequences = output_sequences[:top_k]\n",
    "        \n",
    "    return output_sequences"
   ]
  },
  {
   "cell_type": "code",
   "execution_count": 0,
   "metadata": {
    "colab": {},
    "colab_type": "code",
    "id": "ufLP_9oW3EMo"
   },
   "outputs": [],
   "source": [
    "def decode_sequence_beam_search(input_seq):\n",
    "    probabilities = []\n",
    "    # Encode the input as state vectors.\n",
    "    states_value = encoder_model.predict(input_seq)\n",
    "    # Generate empty target sequence of length 1.\n",
    "    target_seq = np.zeros((1,1))\n",
    "    # Populate the first character of target sequence with the start character.\n",
    "    target_seq[0, 0] = target_token_index['START_']\n",
    "\n",
    "    # Sampling loop for a batch of sequences\n",
    "    # (to simplify, here we assume a batch of size 1).\n",
    "    stop_condition = False\n",
    "    decoded_sentence = ''\n",
    "    while not stop_condition:\n",
    "        output_tokens, h, c = decoder_model.predict([target_seq] + states_value)\n",
    "\n",
    "        # Sampling a token with max probability\n",
    "        sampled_token_index = np.argmax(output_tokens[0, -1, :])\n",
    "        probabilities.append(output_tokens[0, -1, :])\n",
    "         \n",
    "        sampled_char = reverse_target_char_index[sampled_token_index]\n",
    "        decoded_sentence += ' '+sampled_char\n",
    "\n",
    "        # Exit condition: either hit max length\n",
    "        # or find stop character.\n",
    "        if (sampled_char == '_END' or\n",
    "           len(decoded_sentence) > max_length_tar):\n",
    "            stop_condition = True\n",
    "\n",
    "        # Update the target sequence (of length 1).\n",
    "        target_seq = np.zeros((1,1))\n",
    "        target_seq[0, 0] = sampled_token_index\n",
    "\n",
    "        # Update states\n",
    "        states_value = [h, c]\n",
    "\n",
    "    # storing multiple results\n",
    "    outputs = []\n",
    "    beam_search_preds = beam_search_decoder(probabilities, top_k = 10)\n",
    "    for prob_indexes, score in beam_search_preds:\n",
    "        decoded_sentence = ''\n",
    "        for index in prob_indexes:\n",
    "            sampled_char = reverse_target_char_index[index]\n",
    "            decoded_sentence += ' '+sampled_char\n",
    "            if (sampled_char == '_END' or len(decoded_sentence) > max_length_tar):\n",
    "                break\n",
    "        outputs.append(decoded_sentence)\n",
    "\n",
    "    return outputs"
   ]
  },
  {
   "cell_type": "code",
   "execution_count": 0,
   "metadata": {
    "colab": {},
    "colab_type": "code",
    "id": "3D2LuizE3Mjj"
   },
   "outputs": [],
   "source": []
  },
  {
   "cell_type": "markdown",
   "metadata": {
    "colab_type": "text",
    "id": "POra4f4p22Cd"
   },
   "source": [
    "### Utility Function\n",
    "\n",
    "Function that makes a request at [My Memory Translated](https://mymemory.translated.net/) to get back the English translation of predicted Spanish sentence."
   ]
  },
  {
   "cell_type": "code",
   "execution_count": 0,
   "metadata": {
    "colab": {},
    "colab_type": "code",
    "id": "sOoLPFHl2cQ8"
   },
   "outputs": [],
   "source": [
    "url = \"https://api.mymemory.translated.net/get\"\n",
    "\n",
    "def get_translation(seq):\n",
    "    data = {}\n",
    "    data[\"q\"] = seq\n",
    "    data[\"langpair\"] = \"es|en\"\n",
    "    response = requests.post(url, data=data)\n",
    "    translated_text = response.json()[\"responseData\"][\"translatedText\"]\n",
    "    return translated_text"
   ]
  },
  {
   "cell_type": "code",
   "execution_count": 0,
   "metadata": {
    "colab": {},
    "colab_type": "code",
    "id": "XDtGwIk521ew"
   },
   "outputs": [],
   "source": []
  },
  {
   "cell_type": "markdown",
   "metadata": {
    "colab_type": "text",
    "id": "BTPGE2Bj2qeW"
   },
   "source": [
    "### White Distance\n",
    "\n",
    "Metric to find similarity between two sentences"
   ]
  },
  {
   "cell_type": "code",
   "execution_count": 0,
   "metadata": {
    "colab": {},
    "colab_type": "code",
    "id": "gC8hRHhZwN7T"
   },
   "outputs": [],
   "source": [
    "def upper_case(s):\n",
    "    return s.upper()\n",
    "\n",
    "def get_pairs(s):\n",
    "    pairs = []\n",
    "    words = s.strip().split(' ')\n",
    "    for word in words:\n",
    "        for idx in range(len(word)-1):\n",
    "            pairs.append(word[idx:idx+2])\n",
    "    return pairs\n",
    "\n",
    "def get_similarity(s1, s2):\n",
    "    s1 = upper_case(s1)\n",
    "    s2 = upper_case(s2)\n",
    "    p1 = get_pairs(s1)\n",
    "    p2 = get_pairs(s2)\n",
    "    nr = 2*len(list((Counter(p1) & Counter(p2)).elements()))\n",
    "    dr = len(p1)+len(p2)\n",
    "    return nr/dr"
   ]
  },
  {
   "cell_type": "code",
   "execution_count": 0,
   "metadata": {
    "colab": {},
    "colab_type": "code",
    "id": "3jTeVysT20Zr"
   },
   "outputs": [],
   "source": []
  },
  {
   "cell_type": "markdown",
   "metadata": {
    "colab_type": "text",
    "id": "fThNq6hfiLcc"
   },
   "source": [
    "### Training Data"
   ]
  },
  {
   "cell_type": "code",
   "execution_count": 0,
   "metadata": {
    "colab": {},
    "colab_type": "code",
    "id": "4ua4IUSkhvQc"
   },
   "outputs": [],
   "source": [
    "train_gen = generate_batch(X_train, y_train, batch_size = 1)\n",
    "k=-1"
   ]
  },
  {
   "cell_type": "code",
   "execution_count": 62,
   "metadata": {
    "colab": {
     "base_uri": "https://localhost:8080/",
     "height": 1000
    },
    "colab_type": "code",
    "id": "lYrRbZRMhvMm",
    "outputId": "d2518c18-2816-4c49-9842-d17eacaf2d70"
   },
   "outputs": [
    {
     "name": "stdout",
     "output_type": "stream",
     "text": [
      "Input Sentence: do you know how to drive\n",
      "Actual Translation:  ¿sabes conducir \n",
      "Predicted Translation (Spanish):  ¿sabes cómo se levante \n",
      "Predicted Translation (English): Do you know how to get up\n",
      "============================================================\n",
      "\n",
      "Input Sentence: it never happened\n",
      "Actual Translation:  nunca pasó \n",
      "Predicted Translation (Spanish):  nunca sucedió \n",
      "Predicted Translation (English): It never happened.\n",
      "============================================================\n",
      "\n",
      "Input Sentence: i havent slept in days\n",
      "Actual Translation:  no he dormido en días \n",
      "Predicted Translation (Spanish):  no dormí en dos años \n",
      "Predicted Translation (English): I did not sleep in two years\n",
      "============================================================\n",
      "\n",
      "Input Sentence: i hope you enjoy your flight\n",
      "Actual Translation:  espero que disfrute del vuelo \n",
      "Predicted Translation (Spanish):  espero que te vayas a la leche \n",
      "Predicted Translation (English): I hope you go to milk\n",
      "============================================================\n",
      "\n",
      "Input Sentence: the doctor advised him to give up smoking\n",
      "Actual Translation:  el médico le aconsejó que dejara de fumar \n",
      "Predicted Translation (Spanish):  el médico le aconsejó que dejara de fumar \n",
      "Predicted Translation (English): The doctor advised him to give up smoking.\n",
      "============================================================\n",
      "\n",
      "Input Sentence: tom sees things\n",
      "Actual Translation:  tom ve cosas \n",
      "Predicted Translation (Spanish):  tom ve cosas \n",
      "Predicted Translation (English): Tom sees things.\n",
      "============================================================\n",
      "\n",
      "Input Sentence: do we have enough flour\n",
      "Actual Translation:  ¿tenemos suficiente harina \n",
      "Predicted Translation (Spanish):  ¿tenemos suficiente para beber \n",
      "Predicted Translation (English): Do we have enough to drink\n",
      "============================================================\n",
      "\n",
      "Input Sentence: tom crawled into bed just before midnight\n",
      "Actual Translation:  tom se arrastró a la cama justo antes de medianoche \n",
      "Predicted Translation (Spanish):  tom me quité la casa por un paseo \n",
      "Predicted Translation (English): tom i took off the house for a walk\n",
      "============================================================\n",
      "\n",
      "Input Sentence: im already sick\n",
      "Actual Translation:  ya estoy enferma \n",
      "Predicted Translation (Spanish):  ya estoy enfermo \n",
      "Predicted Translation (English): I am sick\n",
      "============================================================\n",
      "\n",
      "Input Sentence: what will you do when you grow up\n",
      "Actual Translation:  ¿qué harás cuando seas mayor \n",
      "Predicted Translation (Spanish):  ¿qué vas a poner en cuando crezcas \n",
      "Predicted Translation (English): What are you going to put in when you grow up\n",
      "============================================================\n",
      "\n",
      "Input Sentence: could you send me a brochure\n",
      "Actual Translation:  ¿podrías enviarme un folleto \n",
      "Predicted Translation (Spanish):  ¿podrías enviarme un catálogo \n",
      "Predicted Translation (English): Could you send me a catalog\n",
      "============================================================\n",
      "\n",
      "Input Sentence: i assure you that an error like this will never happen again\n",
      "Actual Translation:  te aseguro que un error así no sucederá nunca más \n",
      "Predicted Translation (Spanish):  te aseguro que no he leído ni un error por favor \n",
      "Predicted Translation (English): I assure you that I have not read a mistake please\n",
      "============================================================\n",
      "\n",
      "Input Sentence: tom shut himself up in his bedroom\n",
      "Actual Translation:  tom se encerró en su cuarto \n",
      "Predicted Translation (Spanish):  tom se encerró en su habitación \n",
      "Predicted Translation (English): He locked himself up in his room.\n",
      "============================================================\n",
      "\n",
      "Input Sentence: get out\n",
      "Actual Translation:  bájate \n",
      "Predicted Translation (Spanish):  salid \n",
      "Predicted Translation (English): come out\n",
      "============================================================\n",
      "\n",
      "Input Sentence: tom had a hunch that mary was seeing someone else\n",
      "Actual Translation:  tom tuvo un presentimiento de que mary estaba viendo a alguien más \n",
      "Predicted Translation (Spanish):  tom tuvo una foto de que mary vino a verlo \n",
      "Predicted Translation (English): tom had a picture of mary coming to see him\n",
      "============================================================\n",
      "\n",
      "Input Sentence: tom unlocked his briefcase\n",
      "Actual Translation:  tom abrió los cerrojos de su maletín \n",
      "Predicted Translation (Spanish):  tom abrió la foto \n",
      "Predicted Translation (English): tom opened the photo\n",
      "============================================================\n",
      "\n",
      "Input Sentence: how does the film end\n",
      "Actual Translation:  ¿cómo termina la película \n",
      "Predicted Translation (Spanish):  ¿cómo se llama esa película \n",
      "Predicted Translation (English): What&#39;s that movie called\n",
      "============================================================\n",
      "\n",
      "Input Sentence: a high school student made this robot\n",
      "Actual Translation:  un estudiante de enseñanza media hizo este robot \n",
      "Predicted Translation (Spanish):  un estudiante de la lluvia es muy grande \n",
      "Predicted Translation (English): a rain student is very big\n",
      "============================================================\n",
      "\n",
      "Input Sentence: he is a good violinist\n",
      "Actual Translation:  él es un buen violinista \n",
      "Predicted Translation (Spanish):  él es un buen nadador \n",
      "Predicted Translation (English): he is a good swimmer\n",
      "============================================================\n",
      "\n",
      "Input Sentence: what time do you get up on schooldays\n",
      "Actual Translation:  ¿a qué hora te levantas en días de clase \n",
      "Predicted Translation (Spanish):  ¿a qué hora te levantas en australia \n",
      "Predicted Translation (English): What time do you get up in australia\n",
      "============================================================\n",
      "\n"
     ]
    }
   ],
   "source": [
    "for _ in range(20):\n",
    "    k+=1\n",
    "    (input_seq, actual_output), _ = next(train_gen)\n",
    "    decoded_sentence = decode_sequence(input_seq)\n",
    "    print('Input Sentence:', X_train[k:k+1].values[0])\n",
    "    print('Actual Translation:', y_train[k:k+1].values[0][6:-4])\n",
    "    print('Predicted Translation (Spanish):', decoded_sentence[:-4])\n",
    "    # predicted spanish sequence back to english\n",
    "    print('Predicted Translation (English):', get_translation(decoded_sentence[:-4]))\n",
    "    print(\"=\"*60, end=\"\\n\\n\")"
   ]
  },
  {
   "cell_type": "code",
   "execution_count": 92,
   "metadata": {
    "colab": {
     "base_uri": "https://localhost:8080/",
     "height": 1000
    },
    "colab_type": "code",
    "id": "m3jAtOUk4vNj",
    "outputId": "428d50ff-058e-40ac-a092-153b5e91fa00"
   },
   "outputs": [
    {
     "name": "stdout",
     "output_type": "stream",
     "text": [
      "Input Sentence: do you know how to drive\n",
      "Actual Translation:  ¿sabes conducir \n",
      "Closest Predicted Sentence (Spanish):  ¿sabes conducir se levante \n",
      "Closest Predicted Sentence (English): Do you know drive up get up\n",
      "\n",
      "Predicted Translation 0:  ¿sabes cómo se ponga \n",
      "Predicted Translation 1:  ¿sabes cómo se muevan \n",
      "Predicted Translation 2:  ¿sabes cómo se levante \n",
      "Predicted Translation 3:  ¿sabes cómo manejar levante \n",
      "Predicted Translation 4:  ¿sabes cómo conducir ponga \n",
      "==============================\n",
      "\n",
      "Input Sentence: it never happened\n",
      "Actual Translation:  nunca pasó \n",
      "Closest Predicted Sentence (Spanish):  nunca pasó \n",
      "Closest Predicted Sentence (English): It never happened.\n",
      "\n",
      "Predicted Translation 0:  nunca se \n",
      "Predicted Translation 1:  nunca pasó \n",
      "Predicted Translation 2:  nunca ocurrió \n",
      "Predicted Translation 3:  nunca hizo \n",
      "Predicted Translation 4:  nunca fue \n",
      "==============================\n",
      "\n",
      "Input Sentence: i havent slept in days\n",
      "Actual Translation:  no he dormido en días \n",
      "Closest Predicted Sentence (Spanish):  no dormí en dos días \n",
      "Closest Predicted Sentence (English): I did not sleep in two days\n",
      "\n",
      "Predicted Translation 0:  no me nada dos años \n",
      "Predicted Translation 1:  no me en dos años \n",
      "Predicted Translation 2:  no he nada dos años \n",
      "Predicted Translation 3:  no he en dos años \n",
      "Predicted Translation 4:  no duermo nada dos años \n",
      "==============================\n",
      "\n",
      "Input Sentence: i hope you enjoy your flight\n",
      "Actual Translation:  espero que disfrute del vuelo \n",
      "Closest Predicted Sentence (Spanish):  espero que disfrute vayas a la leche \n",
      "Closest Predicted Sentence (English): I hope you enjoy going to milk\n",
      "\n",
      "Predicted Translation 0:  espero que usted vayas a la leche \n",
      "Predicted Translation 1:  espero que te vayas a la clase \n",
      "Predicted Translation 2:  espero que te pongas a la clase \n",
      "Predicted Translation 3:  espero que te la a la clase \n",
      "Predicted Translation 4:  espero que disfrute vayas a la clase \n",
      "==============================\n",
      "\n",
      "Input Sentence: the doctor advised him to give up smoking\n",
      "Actual Translation:  el médico le aconsejó que dejara de fumar \n",
      "Closest Predicted Sentence (Spanish):  el médico le aconsejó que dejara de fumar \n",
      "Closest Predicted Sentence (English): The doctor advised him to give up smoking.\n",
      "\n",
      "Predicted Translation 0:  el médico le dijo que dejara de fumar \n",
      "Predicted Translation 1:  el médico le aconsejó que dejara la fumar \n",
      "Predicted Translation 2:  el médico le aconsejó que dejara de fumar \n",
      "Predicted Translation 3:  el médico le aconsejó que dejara a fumar \n",
      "Predicted Translation 4:  el doctor le aconsejó que dejara lo fumar \n",
      "==============================\n",
      "\n",
      "Input Sentence: tom sees things\n",
      "Actual Translation:  tom ve cosas \n",
      "Closest Predicted Sentence (Spanish):  tom ve cosas \n",
      "Closest Predicted Sentence (English): Tom sees things.\n",
      "\n",
      "Predicted Translation 0:  ¡tom ve cosas \n",
      "Predicted Translation 1:  tomás ve cosas \n",
      "Predicted Translation 2:  tom ve las \n",
      "Predicted Translation 3:  tom ve cosas \n",
      "Predicted Translation 4:  tom ve aquí \n",
      "==============================\n",
      "\n",
      "Input Sentence: do we have enough flour\n",
      "Actual Translation:  ¿tenemos suficiente harina \n",
      "Closest Predicted Sentence (Spanish):  ¿tenemos suficiente harina beber \n",
      "Closest Predicted Sentence (English): Do we have enough flour to drink\n",
      "\n",
      "Predicted Translation 0:  ¿tenemos suficiente para un \n",
      "Predicted Translation 1:  ¿tenemos suficiente para principiantes \n",
      "Predicted Translation 2:  ¿tenemos suficiente para otra \n",
      "Predicted Translation 3:  ¿tenemos suficiente para escribir \n",
      "Predicted Translation 4:  ¿tenemos suficiente para beber \n",
      "==============================\n",
      "\n",
      "Input Sentence: tom crawled into bed just before midnight\n",
      "Actual Translation:  tom se arrastró a la cama justo antes de medianoche \n",
      "Closest Predicted Sentence (Spanish):  tom me quité la casa por un rato \n",
      "Closest Predicted Sentence (English): tom i took off the house for a while\n",
      "\n",
      "Predicted Translation 0:  tom me quité la casa por un rato \n",
      "Predicted Translation 1:  tom me quité la casa por un paso \n",
      "Predicted Translation 2:  tom me quité la casa por un paseo \n",
      "Predicted Translation 3:  tom me quité la casa por paso paso \n",
      "Predicted Translation 4:  tom me quité la casa por paso paseo \n",
      "==============================\n",
      "\n",
      "Input Sentence: im already sick\n",
      "Actual Translation:  ya estoy enferma \n",
      "Closest Predicted Sentence (Spanish):  ya estoy enferma \n",
      "Closest Predicted Sentence (English): I am sick.\n",
      "\n",
      "Predicted Translation 0:  ¡estoy estoy enfermo \n",
      "Predicted Translation 1:  yo estoy enfermo \n",
      "Predicted Translation 2:  yo estoy enferma \n",
      "Predicted Translation 3:  ya me enferma \n",
      "Predicted Translation 4:  ya estoy enferma \n",
      "==============================\n",
      "\n",
      "Input Sentence: what will you do when you grow up\n",
      "Actual Translation:  ¿qué harás cuando seas mayor \n",
      "Closest Predicted Sentence (Spanish):  ¿qué vas a quedar en cuando \n",
      "Closest Predicted Sentence (English): What are you going to stay on when\n",
      "\n",
      "Predicted Translation 0:  ¿qué vas a quedar en cuando crezcas \n",
      "Predicted Translation 1:  ¿qué vas a quedar en cuando \n",
      "Predicted Translation 2:  ¿qué vas a poner en las crezcas \n",
      "Predicted Translation 3:  ¿qué vas a poner en cuando \n",
      "Predicted Translation 4:  ¿qué vas a estas en cuando crezcas \n",
      "==============================\n",
      "\n",
      "Input Sentence: could you send me a brochure\n",
      "Actual Translation:  ¿podrías enviarme un folleto \n",
      "Closest Predicted Sentence (Spanish):  ¿podrías enviarme un folleto \n",
      "Closest Predicted Sentence (English): Could you send me a brochure?\n",
      "\n",
      "Predicted Translation 0:  ¿puedes enviarme un folleto \n",
      "Predicted Translation 1:  ¿puedes enviarme un catálogo \n",
      "Predicted Translation 2:  ¿podrías un un catálogo \n",
      "Predicted Translation 3:  ¿podrías traerme un catálogo \n",
      "Predicted Translation 4:  ¿podrías enviarme un folleto \n",
      "==============================\n",
      "\n",
      "Input Sentence: i assure you that an error like this will never happen again\n",
      "Actual Translation:  te aseguro que un error así no sucederá nunca más \n",
      "Closest Predicted Sentence (Spanish):  te aseguro que no hace leído un un error de favor \n",
      "Closest Predicted Sentence (English): I assure you that you do not read an error in favor\n",
      "\n",
      "Predicted Translation 0:  te aseguro que no lo leído ni un error por favor \n",
      "Predicted Translation 1:  te aseguro que no he leído un un error por favor \n",
      "Predicted Translation 2:  te aseguro que no he leído un un error de favor \n",
      "Predicted Translation 3:  te aseguro que no he leído ni un periódico por f\n",
      "Predicted Translation 4:  te aseguro que no he leído ni un error de favor \n",
      "==============================\n",
      "\n",
      "Input Sentence: tom shut himself up in his bedroom\n",
      "Actual Translation:  tom se encerró en su cuarto \n",
      "Closest Predicted Sentence (Spanish):  tom se encerró en su cuarto \n",
      "Closest Predicted Sentence (English): Tom locked himself in his room.\n",
      "\n",
      "Predicted Translation 0:  tom se quedó en su habitación \n",
      "Predicted Translation 1:  tom se ocultó en su habitación \n",
      "Predicted Translation 2:  tom se escondió en su habitación \n",
      "Predicted Translation 3:  tom se enjuagó en su habitación \n",
      "Predicted Translation 4:  tom se encerró en su pieza \n",
      "==============================\n",
      "\n",
      "Input Sentence: get out\n",
      "Actual Translation:  bájate \n",
      "Closest Predicted Sentence (Spanish):  bájate \n",
      "Closest Predicted Sentence (English): Get down.\n",
      "\n",
      "Predicted Translation 0:  ¡vete \n",
      "Predicted Translation 1:  ¡quédate \n",
      "Predicted Translation 2:  ¡despierta \n",
      "Predicted Translation 3:  mantente \n",
      "Predicted Translation 4:  bájate \n",
      "==============================\n",
      "\n",
      "Input Sentence: tom had a hunch that mary was seeing someone else\n",
      "Actual Translation:  tom tuvo un presentimiento de que mary estaba viendo a alguien más \n",
      "Closest Predicted Sentence (Spanish):  tom tuvo una foto de que mary estaba a verlo \n",
      "Closest Predicted Sentence (English): Tom had a picture that Mary was seeing him\n",
      "\n",
      "Predicted Translation 0:  tom tuvo una reunión de que mary vino a verlo \n",
      "Predicted Translation 1:  tom tuvo una reunión de mary mary vino a verlo \n",
      "Predicted Translation 2:  tom tuvo una foto de que mary vino a verlo \n",
      "Predicted Translation 3:  tom tuvo una foto de que mary vino a la \n",
      "Predicted Translation 4:  tom tuvo una foto de que mary lo a verlo \n",
      "==============================\n",
      "\n",
      "Input Sentence: tom unlocked his briefcase\n",
      "Actual Translation:  tom abrió los cerrojos de su maletín \n",
      "Closest Predicted Sentence (Spanish):  tom abrió la imagen \n",
      "Closest Predicted Sentence (English): tom opened the image\n",
      "\n",
      "Predicted Translation 0:  tom abrió la primera \n",
      "Predicted Translation 1:  tom abrió la oportunidad \n",
      "Predicted Translation 2:  tom abrió la llave \n",
      "Predicted Translation 3:  tom abrió la imagen \n",
      "Predicted Translation 4:  tom abrió la fotografía \n",
      "==============================\n",
      "\n",
      "Input Sentence: how does the film end\n",
      "Actual Translation:  ¿cómo termina la película \n",
      "Closest Predicted Sentence (Spanish):  ¿cómo se llama esa película \n",
      "Closest Predicted Sentence (English): What&#39;s that movie called\n",
      "\n",
      "Predicted Translation 0:  ¿cómo se ve esa película \n",
      "Predicted Translation 1:  ¿cómo se va esta película \n",
      "Predicted Translation 2:  ¿cómo se utiliza esa película \n",
      "Predicted Translation 3:  ¿cómo se recoge esa película \n",
      "Predicted Translation 4:  ¿cómo se llamaba esa película \n",
      "==============================\n",
      "\n",
      "Input Sentence: a high school student made this robot\n",
      "Actual Translation:  un estudiante de enseñanza media hizo este robot \n",
      "Closest Predicted Sentence (Spanish):  un estudiante de la lluvia está muy grande \n",
      "Closest Predicted Sentence (English): a rain student is very big\n",
      "\n",
      "Predicted Translation 0:  un estudiante de la lluvia no muy grande \n",
      "Predicted Translation 1:  un estudiante de la lluvia está muy grande \n",
      "Predicted Translation 2:  un estudiante de la lluvia es muy grande \n",
      "Predicted Translation 3:  un estudiante de la lluvia es muy de \n",
      "Predicted Translation 4:  un estudiante de la lluvia es muy bueno \n",
      "==============================\n",
      "\n",
      "Input Sentence: he is a good violinist\n",
      "Actual Translation:  él es un buen violinista \n",
      "Closest Predicted Sentence (Spanish):  él es un buen violinista \n",
      "Closest Predicted Sentence (English): He is a good violinist.\n",
      "\n",
      "Predicted Translation 0:  él es un buen violinista \n",
      "Predicted Translation 1:  él es un buen vecino \n",
      "Predicted Translation 2:  él es un buen pianista \n",
      "Predicted Translation 3:  él es un buen nadador \n",
      "Predicted Translation 4:  él es un buen escritor \n",
      "==============================\n",
      "\n",
      "Input Sentence: what time do you get up on schooldays\n",
      "Actual Translation:  ¿a qué hora te levantas en días de clase \n",
      "Closest Predicted Sentence (Spanish):  ¿a qué hora te levantas en las \n",
      "Closest Predicted Sentence (English): What time do you get up\n",
      "\n",
      "Predicted Translation 0:  ¿a qué hora te levantas por el \n",
      "Predicted Translation 1:  ¿a qué hora te levantas por australia \n",
      "Predicted Translation 2:  ¿a qué hora te levantas en unos \n",
      "Predicted Translation 3:  ¿a qué hora te levantas en las \n",
      "Predicted Translation 4:  ¿a qué hora te levantas en el \n",
      "==============================\n",
      "\n"
     ]
    }
   ],
   "source": [
    "train_gen = generate_batch(X_train, y_train, batch_size = 1)\n",
    "k=-1\n",
    "for _ in range(20):\n",
    "    k+=1\n",
    "    similarity_scores = []\n",
    "    (input_seq, actual_output), _ = next(train_gen)\n",
    "    decoded_sentences = decode_sequence_beam_search(input_seq)\n",
    "    acutal_sentence = y_train[k:k+1].values[0][6:-4]\n",
    "    print('Input Sentence:', X_train[k:k+1].values[0])\n",
    "    print('Actual Translation:', acutal_sentence)\n",
    "    for idx, pred in enumerate(decoded_sentences):\n",
    "        similarity_scores.append(get_similarity(pred, acutal_sentence))\n",
    "    dictionary = dict(zip(similarity_scores, decoded_sentences))\n",
    "    dictionary = {k: v for k, v in sorted(dictionary.items(), \n",
    "                                          key=lambda item: item[1], \n",
    "                                          reverse=True)}\n",
    "    closest_sentence = decoded_sentences[np.argmax(similarity_scores)]\n",
    "    print(f\"Closest Predicted Sentence (Spanish): {closest_sentence[:-4]}\")\n",
    "    print(f\"Closest Predicted Sentence (English): {get_translation(closest_sentence[:-4])}\", end=\"\\n\\n\")\n",
    "    decoded_sentences.remove(closest_sentence)\n",
    "    for idx, pred in enumerate(list(dictionary.values())[:5]):\n",
    "        print(f'Predicted Translation {idx}: {pred[:-4]}')\n",
    "    print(\"=\"*30, end=\"\\n\\n\")"
   ]
  },
  {
   "cell_type": "markdown",
   "metadata": {
    "colab_type": "text",
    "id": "hONMRqaIJmko"
   },
   "source": [
    "The combination of `White Distance` and `Beam search` with width 10 definitely. For exmaple - compare the result of greedy search (previous cell) vs the above combination (this cell) for some of the sentences. You would notice, that we get more and more closer to the acutal translation. \n",
    "\n",
    "Example 1 \n",
    "```python\n",
    "# greedy \n",
    "Input Sentence: what time do you get up on schooldays\n",
    "Actual Translation:  ¿a qué hora te levantas en días de clase \n",
    "Predicted Translation (Spanish):  ¿a qué hora te levantas en australia \n",
    "Predicted Translation (English): What time do you get up in australia\n",
    "```\n",
    "```python\n",
    "# beam search + white distance\n",
    "Input Sentence: what time do you get up on schooldays\n",
    "Actual Translation:  ¿a qué hora te levantas en días de clase \n",
    "Closest Predicted Sentence (Spanish):  ¿a qué hora te levantas en las \n",
    "Closest Predicted Sentence (English): What time do you get up\n",
    "```\n",
    "\n",
    "Example 2 \n",
    "```python\n",
    "# greedy\n",
    "Input Sentence: he is a good violinist\n",
    "Actual Translation:  él es un buen violinista \n",
    "Predicted Translation (Spanish):  él es un buen nadador \n",
    "Predicted Translation (English): he is a good swimmer\n",
    "```\n",
    "```python\n",
    "# beam search + white distance\n",
    "Input Sentence: he is a good violinist\n",
    "Actual Translation:  él es un buen violinista \n",
    "Closest Predicted Sentence (Spanish):  él es un buen violinista \n",
    "Closest Predicted Sentence (English): He is a good violinist.\n",
    "```\n",
    "\n",
    "Example 3\n",
    "```python\n",
    "# greedy\n",
    "Input Sentence: i havent slept in days\n",
    "Actual Translation:  no he dormido en días \n",
    "Predicted Translation (Spanish):  no dormí en dos años \n",
    "Predicted Translation (English): I did not sleep in two years\n",
    "```\n",
    "```python\n",
    "# beam search + white distance\n",
    "Input Sentence: i havent slept in days\n",
    "Actual Translation:  no he dormido en días \n",
    "Closest Predicted Sentence (Spanish):  no dormí en dos días \n",
    "Closest Predicted Sentence (English): I did not sleep in two days\n",
    "```\n",
    "Here, *days* seems to be correct instead of *years*\n",
    "\n",
    "Example 4\n",
    "```python\n",
    "# greedy\n",
    "Input Sentence: could you send me a brochure\n",
    "Actual Translation:  ¿podrías enviarme un folleto \n",
    "Predicted Translation (Spanish):  ¿podrías enviarme un catálogo \n",
    "Predicted Translation (English): Could you send me a catalog\n",
    "```\n",
    "```python\n",
    "# beam search + white distance\n",
    "Input Sentence: could you send me a brochure\n",
    "Actual Translation:  ¿podrías enviarme un folleto \n",
    "Closest Predicted Sentence (Spanish):  ¿podrías enviarme un folleto \n",
    "Closest Predicted Sentence (English): Could you send me a brochure?\n",
    "```\n",
    "\n"
   ]
  },
  {
   "cell_type": "code",
   "execution_count": 0,
   "metadata": {
    "colab": {},
    "colab_type": "code",
    "id": "qytlFdnrhvG5"
   },
   "outputs": [],
   "source": []
  },
  {
   "cell_type": "markdown",
   "metadata": {
    "colab_type": "text",
    "id": "128CBoYriOuU"
   },
   "source": [
    "### Testing Data"
   ]
  },
  {
   "cell_type": "code",
   "execution_count": 0,
   "metadata": {
    "colab": {},
    "colab_type": "code",
    "id": "QdkmKx2HhvCk"
   },
   "outputs": [],
   "source": [
    "val_gen = generate_batch(X_test, y_test, batch_size = 1)\n",
    "k=-1"
   ]
  },
  {
   "cell_type": "code",
   "execution_count": 65,
   "metadata": {
    "colab": {
     "base_uri": "https://localhost:8080/",
     "height": 1000
    },
    "colab_type": "code",
    "id": "mTd6pAdqiQuQ",
    "outputId": "48d516ad-40d4-43b0-f015-eee6b33fbb6b"
   },
   "outputs": [
    {
     "name": "stdout",
     "output_type": "stream",
     "text": [
      "Input Sentence: we work every day but sunday\n",
      "Actual Translation:  trabajamos todos los días excepto el domingo \n",
      "Predicted Translation (Spanish):  trabajamos todos los días excepto los domingos \n",
      "Predicted Translation (English): We work every day but Sunday.\n",
      "============================================================\n",
      "\n",
      "Input Sentence: does tom want a car\n",
      "Actual Translation:  ¿tomás quiere un auto \n",
      "Predicted Translation (Spanish):  ¿tom quiere un coche \n",
      "Predicted Translation (English): Does tom want a car\n",
      "============================================================\n",
      "\n",
      "Input Sentence: i was surprised that tom spoke french so well\n",
      "Actual Translation:  me sorprendió que tomás hablase francés tan bien \n",
      "Predicted Translation (Spanish):  me sorprendió que tom estaba y yo nunca más \n",
      "Predicted Translation (English): I was surprised that Tom was and I was never again\n",
      "============================================================\n",
      "\n",
      "Input Sentence: tom asked mary for help\n",
      "Actual Translation:  tom le pidió ayuda a mary \n",
      "Predicted Translation (Spanish):  tom le pidió ayuda a mary \n",
      "Predicted Translation (English): Tom asked Mary for help.\n",
      "============================================================\n",
      "\n",
      "Input Sentence: say cheese\n",
      "Actual Translation:  di patata \n",
      "Predicted Translation (Spanish):  decid patata \n",
      "Predicted Translation (English): Say cheese.\n",
      "============================================================\n",
      "\n",
      "Input Sentence: some of these young people have legs twice as long as mine\n",
      "Actual Translation:  algunos de estos jóvenes tienen las piernas el doble de largas que las mías \n",
      "Predicted Translation (Spanish):  algunas personas murieron mucho de veces más tarde\n",
      "Predicted Translation (English): some people died a lot of times later\n",
      "============================================================\n",
      "\n",
      "Input Sentence: i dont care what she eats\n",
      "Actual Translation:  no me interesa lo que ella coma \n",
      "Predicted Translation (Spanish):  no me importa lo que tú \n",
      "Predicted Translation (English): Would it move you enough\n",
      "============================================================\n",
      "\n",
      "Input Sentence: i will have to tell him the truth tomorrow\n",
      "Actual Translation:  tendré que decirle la verdad mañana \n",
      "Predicted Translation (Spanish):  me encargaré de que quieras \n",
      "Predicted Translation (English): I&#39;ll take care of what you want\n",
      "============================================================\n",
      "\n",
      "Input Sentence: weve never lived here\n",
      "Actual Translation:  nunca hemos vivido aquí \n",
      "Predicted Translation (Spanish):  ya no hemos vivido aquí \n",
      "Predicted Translation (English): we have not lived here anymore\n",
      "============================================================\n",
      "\n",
      "Input Sentence: tom and mary couldnt move the heavy trunk\n",
      "Actual Translation:  tom y mary no podían mover el pesado tronco \n",
      "Predicted Translation (Spanish):  tom y mary no pudieron defenderse por la salud \n",
      "Predicted Translation (English): tom and mary couldn&#39;t defend themselves for health\n",
      "============================================================\n",
      "\n",
      "Input Sentence: what subject do you like best\n",
      "Actual Translation:  ¿cuál es la asignatura que más te gusta \n",
      "Predicted Translation (Spanish):  ¿qué es tu cosa que te gusta \n",
      "Predicted Translation (English): What is your thing that you like\n",
      "============================================================\n",
      "\n",
      "Input Sentence: he repeated his question\n",
      "Actual Translation:  él repitió su pregunta \n",
      "Predicted Translation (Spanish):  él pagó su pregunta \n",
      "Predicted Translation (English): he paid his question\n",
      "============================================================\n",
      "\n",
      "Input Sentence: my brother bought a used car so it wasnt very expensive\n",
      "Actual Translation:  mi hermano compró un auto usado así que no era muy caro \n",
      "Predicted Translation (Spanish):  mi hermano menor compró un vestido muy inteligente\n",
      "Predicted Translation (English): my younger brother bought a very smart dress\n",
      "============================================================\n",
      "\n",
      "Input Sentence: croatia is a country located in the southeastern part of europe\n",
      "Actual Translation:  croacia es un país situado en el sudeste de europa \n",
      "Predicted Translation (Spanish):  croacia es un país en el país por favor \n",
      "Predicted Translation (English): croatia is a country in the country please\n",
      "============================================================\n",
      "\n",
      "Input Sentence: he will come if you call him\n",
      "Actual Translation:  él vendrá si tú le llamas \n",
      "Predicted Translation (Spanish):  él vendrá si te va a la mano \n",
      "Predicted Translation (English): he will come if it goes to your hand\n",
      "============================================================\n",
      "\n",
      "Input Sentence: of course you can take it if you want\n",
      "Actual Translation:  por supuesto que puedes tomarlo sí quieres \n",
      "Predicted Translation (Spanish):  por lo puedes hacer por favor llámeme \n",
      "Predicted Translation (English): so can you please call me\n",
      "============================================================\n",
      "\n",
      "Input Sentence: tom shouldnt have made mary angry\n",
      "Actual Translation:  tom no debió haber hecho enfadar a mary \n",
      "Predicted Translation (Spanish):  tom no debería haber estado haciendo hasta mary \n",
      "Predicted Translation (English): tom shouldn&#39;t have been doing until mary\n",
      "============================================================\n",
      "\n",
      "Input Sentence: you look stupid\n",
      "Actual Translation:  pareces estúpido \n",
      "Predicted Translation (Spanish):  pareces un tonto \n",
      "Predicted Translation (English): you look like a fool\n",
      "============================================================\n",
      "\n",
      "Input Sentence: mary was a tomboy\n",
      "Actual Translation:  mary era un chicazo \n",
      "Predicted Translation (Spanish):  mary es un chicazo \n",
      "Predicted Translation (English): Mary is a guy\n",
      "============================================================\n",
      "\n",
      "Input Sentence: i think youre the only one who cares\n",
      "Actual Translation:  yo creo que usted es el único al que le importa \n",
      "Predicted Translation (Spanish):  creo que eres la única a la decisión \n",
      "Predicted Translation (English): I think you are the only one to decide\n",
      "============================================================\n",
      "\n"
     ]
    }
   ],
   "source": [
    "for _ in range(20):\n",
    "    k+=1\n",
    "    (input_seq, actual_output), _ = next(val_gen)\n",
    "    decoded_sentence = decode_sequence(input_seq)\n",
    "    print('Input Sentence:', X_test[k:k+1].values[0])\n",
    "    print('Actual Translation:', y_test[k:k+1].values[0][6:-4])\n",
    "    print('Predicted Translation (Spanish):', decoded_sentence[:-4])\n",
    "    # predicted spanish sequence back to english\n",
    "    print('Predicted Translation (English):', get_translation(decoded_sentence[:-4]))\n",
    "    print(\"=\"*60, end=\"\\n\\n\")"
   ]
  },
  {
   "cell_type": "code",
   "execution_count": 0,
   "metadata": {
    "colab": {},
    "colab_type": "code",
    "id": "o6ePOWT0FnAs"
   },
   "outputs": [],
   "source": []
  }
 ],
 "metadata": {
  "accelerator": "GPU",
  "colab": {
   "authorship_tag": "ABX9TyOeUicmJTcm6kVEcRLfSasS",
   "collapsed_sections": [],
   "include_colab_link": true,
   "machine_shape": "hm",
   "name": "spanish-english-seq2seq",
   "provenance": [],
   "toc_visible": true
  },
  "kernelspec": {
   "display_name": "Python 3",
   "language": "python",
   "name": "python3"
  },
  "language_info": {
   "codemirror_mode": {
    "name": "ipython",
    "version": 3
   },
   "file_extension": ".py",
   "mimetype": "text/x-python",
   "name": "python",
   "nbconvert_exporter": "python",
   "pygments_lexer": "ipython3",
   "version": "3.8.2"
  },
  "toc": {
   "base_numbering": 1,
   "nav_menu": {},
   "number_sections": true,
   "sideBar": true,
   "skip_h1_title": false,
   "title_cell": "Table of Contents",
   "title_sidebar": "Contents",
   "toc_cell": false,
   "toc_position": {},
   "toc_section_display": true,
   "toc_window_display": false
  }
 },
 "nbformat": 4,
 "nbformat_minor": 1
}
