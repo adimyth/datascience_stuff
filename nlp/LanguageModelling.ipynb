{
 "cells": [
  {
   "cell_type": "markdown",
   "metadata": {},
   "source": [
    "# Language Modelling\n",
    "\n",
    "Language modelling is the task of predicting the next word. Given a sequence of words $x^{(1)}, x^{(2)}, x^{(3)}...x^{(t)}$, compute the probability distribution of the next word $x^{(t+1)}$:\n",
    "\n",
    "$$P(x^{(t+1)} | x^{(t)}, ... ,x^{(1)})$$, where x^{(t+1)} can be any word in the vocabulary $V$\n",
    "\n",
    "Alternatively, the probability of observing a piece of text $x^{(1)}, ... ,x^{(T)}$ is -\n",
    "\n",
    "$$P(x^{(1)}, ..., x^{(T)}) = P(x^{(1)}) \\ast  P(x^{(2)} | x^{(1)}) \\ast  .... \\ast  P(x^{(T)} | x^{(T-1)}, ..., x^{(1)})$$"
   ]
  },
  {
   "cell_type": "markdown",
   "metadata": {},
   "source": [
    "## N-Gram Language Model\n",
    "\n",
    "Collect statistics about how frequent different *n-grams* are, and use this to predict the next word\n",
    ">Assumption: $x^{t+1}$ depends only on the preceding (n-1)words\n",
    "\n",
    "Probability of a word $x$ can be approximated just by counting them in some text corpus.\n",
    "\n",
    "### Problems\n",
    "1. Considering only $(n-1)$ words & discarding everything before it, where less likely scenarios might get very low or zero probability. Eg. *the students opened their exam papers* might get zero probability if it never occured in the training data\n",
    "2. Sparsity Problem: If a situation is never seen in the training data i.e. the sequence of $(n-1)$ words is never observed, then the technique absolutely fails"
   ]
  },
  {
   "cell_type": "markdown",
   "metadata": {},
   "source": [
    "## RNN Language Model\n"
   ]
  },
  {
   "cell_type": "markdown",
   "metadata": {},
   "source": [
    "## Evaluation Metric\n",
    "### Perplexity\n",
    "\n",
    "Thus, perplexity metric in NLP is a way to capture the degree of 'uncertainty' a model has in predicting (assigning probabilities to) some text. Perplexity is related to *Shannon Entropy*. Perplexity is just the exponentiation of entropy. Lower the perplexity, better the model performs. \n",
    "\n",
    "$$\\boxed{\\textrm{PP}=\\prod_{t=1}^T\\left(\\frac{1}{\\sum_{j=1}^{|V|}y_j^{(t)}\\cdot \\widehat{y}_j^{(t)}}\\right)^{\\frac{1}{T}}}$$\n",
    "\n",
    "\n",
    "Unlike metrics such as accuracy where it is a certainty that 90% accuracy is superior to 60% accuracy on the same test set regardless of how the two models were trained, *arguing that a model’s perplexity is smaller than that of another does not signify a great deal unless we know how the text is pre-processed, the vocabulary size, the context length, etc.* For instance, while perplexity for a language model at character-level can be much smaller than perplexity of another model at word-level, it does not mean the character-level language model is better than that of the word-level. \n",
    "\n",
    "Mathematically, perplexity can be defined as - \n",
    "$$\\boxed{\\textrm{PPL}(P, Q) = 2^{\\textrm{H}(P, Q)}}$$"
   ]
  },
  {
   "cell_type": "markdown",
   "metadata": {},
   "source": [
    "### Entropy\n",
    "Entropy in the context of language is related to, but not the same as, entropy in the context of thermodynamics."
   ]
  },
  {
   "cell_type": "code",
   "execution_count": null,
   "metadata": {},
   "outputs": [],
   "source": []
  },
  {
   "cell_type": "code",
   "execution_count": null,
   "metadata": {},
   "outputs": [],
   "source": []
  },
  {
   "cell_type": "code",
   "execution_count": null,
   "metadata": {},
   "outputs": [],
   "source": []
  },
  {
   "cell_type": "code",
   "execution_count": null,
   "metadata": {},
   "outputs": [],
   "source": []
  }
 ],
 "metadata": {
  "kernelspec": {
   "display_name": "Python 3",
   "language": "python",
   "name": "python3"
  },
  "language_info": {
   "codemirror_mode": {
    "name": "ipython",
    "version": 3
   },
   "file_extension": ".py",
   "mimetype": "text/x-python",
   "name": "python",
   "nbconvert_exporter": "python",
   "pygments_lexer": "ipython3",
   "version": "3.7.3"
  }
 },
 "nbformat": 4,
 "nbformat_minor": 2
}
