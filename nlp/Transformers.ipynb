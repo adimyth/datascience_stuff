{
 "cells": [
  {
   "cell_type": "markdown",
   "metadata": {},
   "source": [
    "# Transformers\n",
    "\n",
    "### Resources\n",
    "[Peter Bloem's Blog](http://www.peterbloem.nl/blog/transformers)\n",
    "\n",
    "[Jay Alammar's Blog](https://jalammar.github.io/illustrated-transformer/)\n",
    "\n",
    "[TensorFlow Blog](https://www.tensorflow.org/tutorials/text/transformer)\n",
    "\n",
    "[Harvard NLP](http://nlp.seas.harvard.edu/2018/04/01/attention.html)\n",
    "\n",
    "![transformer](https://i.imgur.com/FNMad1g.png)"
   ]
  },
  {
   "cell_type": "code",
   "execution_count": null,
   "metadata": {},
   "outputs": [],
   "source": []
  },
  {
   "cell_type": "markdown",
   "metadata": {},
   "source": [
    "## Self-Attention\n",
    "\n",
    "Self-attention is a sequence-to-sequence operation: a sequence of vectors goes in, and a sequence of vectors comes out. \n",
    "\n",
    "Let's call the input vectors $x_1, x_2, \\ldots x_t$ and the corresponding output vectors $y_1, y_2, \\ldots y_t$. The vectors all have dimension k. Output vector $y_i$ is simply a weighted average of all the input vectors.\n",
    "\n",
    "***Note:-*** Easier to understand if you assume a single sentence of length $t$ and each word a $k-dim$ vector\n",
    "\n",
    "$$y_{i} = \\sum_{{j}} w_{{i}{j}} x_{j}$$\n",
    "\n",
    "$w_{{i}{j}}$ provides the relationsip between $x_{i}, x_{j}$\n",
    "\n",
    "$$w'_{{i}{j}} = {x_{i}}^Tx_{j}$$ The simplest thing that could be done is take a dot product between the two vectors as a measure of similarity.\n",
    "\n",
    "$$w_{{i}{j}} = \\frac{\\text{exp } w'_{{i}{j}}}{\\sum_{j} \\text{exp }w'_{{i}{j}}}$$\n",
    "\n",
    "![basic-self-attention](http://www.peterbloem.nl/files/transformers/self-attention.svg)\n",
    "\n",
    "In the example above to find the output vector $y_{2}$, we take a dot product between every vector $x_{i}$ and $x_{2}$, which gives us a weight vector $w_{2i}$. Multiply the weight vector $w_{2i}$ with corresponding input vector $x_{i}$ and sum them up to get the output vector $y_{2}$"
   ]
  },
  {
   "cell_type": "markdown",
   "metadata": {},
   "source": [
    "```python\n",
    "import numpy as np\n",
    "\n",
    "# x1, x2, ..., x10 with each vector of dimension 5\n",
    "# x --> (10, 5)\n",
    "x = np.random.random(size=(10, 5))\n",
    "# weights --> (10, 10)\n",
    "weights = np.dot(x, x.T)\n",
    "\n",
    "# weights[i, j] represent weight of xj for xi\n",
    "for idx, w in enumerate(weights):\n",
    "    weights[idx] = np.exp(w)/sum(np.exp(w))\n",
    "\n",
    "# y1, y2, ..., y10 => output vector\n",
    "# y --> (10, 5)\n",
    "y = np.matmul(weights, x)\n",
    "```"
   ]
  },
  {
   "cell_type": "code",
   "execution_count": 1,
   "metadata": {},
   "outputs": [],
   "source": [
    "import numpy as np\n",
    "\n",
    "# x1, x2, ..., x10 with each vector of dimension 5\n",
    "# x --> (10, 5)\n",
    "x = np.random.random(size=(10, 5))\n",
    "# weights --> (10, 10)\n",
    "weights = np.dot(x, x.T)\n",
    "\n",
    "weights = np.exp(weights)/np.sum(np.exp(weights), axis=0)\n",
    "# y1, y2, ..., y10 => output vector\n",
    "# y --> (10, 5)\n",
    "y = np.matmul(weights, x)"
   ]
  },
  {
   "cell_type": "code",
   "execution_count": null,
   "metadata": {},
   "outputs": [],
   "source": []
  },
  {
   "cell_type": "markdown",
   "metadata": {},
   "source": [
    "### Query, Key and Value\n",
    "Every input vector $𝐱_{i}$ is used in three different ways in the self attention operation:\n",
    "\n",
    "* It is compared to every other vector to establish the weights for its own output $𝐲_{i}$\n",
    "* It is compared to every other vector to establish the weights for the output of the j-th vector $𝐲_{j}$\n",
    "* It is used as part of the weighted sum to compute each output vector once the weights have been established\n",
    "\n",
    "They are `query`, `key` and `value` respectively. We add three **$k×k$** weight matrices $𝐖_{q}$, $𝐖_{k}$, $𝐖_{v}$ and compute three linear transformations of each $x_{i}$, for the three different parts of the self attention\n",
    "![img](https://i.imgur.com/OhTQX01.png)\n",
    "\n",
    "**Shapes**\n",
    "* $W_{q}, W_{k}, W_{v} - kxk$ matrix\n",
    "* $q_{i}, k_{i}, v_{i} - k$ dimensional vector\n",
    "* $w'_{{i}{j}}$ - scalar value\n",
    "* $w_{{i}{j}}$ - scalar value\n",
    "* $y_{i} - k$ dimensional vector"
   ]
  },
  {
   "cell_type": "markdown",
   "metadata": {},
   "source": [
    "### Scaling Dot Product\n",
    "\n",
    "As the number of dimensions **$k$** increases, the dot-product $w'_{{i}{j}}$ grows too. Softmax is sensitive to large values, as the value increases the curve tends to flatten & hence resulting in smaller gradients. This in turn slows down learning. Hence, we scale down the value $w'_{{i}{j}}$ by dividing it by $\\sqrt{k}$. \n",
    "\n",
    "Why $\\sqrt{k}$? Imagine a vector in $ℝ^{k}$ with values all c. Its Euclidean length is $k\\sqrt{c}$.\n",
    "\n",
    "```python\n",
    "len1 = 256\n",
    "x = np.array([10]*len1)\n",
    "z1 = np.dot(x, x.T)\n",
    "print(z1, z1/np.sqrt(len1)) # 25600 1600.0\n",
    "\n",
    "len2 = 512\n",
    "y = np.array([10]*len2)\n",
    "z2 = np.dot(y, y.T)\n",
    "print(z2, z2/np.sqrt(l2)) # 51200 2262.74\n",
    "```\n",
    "Even though the number of dimensions increased by a factor of $2$, the relative increase in value was low"
   ]
  },
  {
   "cell_type": "markdown",
   "metadata": {},
   "source": [
    "### Implementation\n",
    "\n",
    "```python\n",
    "def SingleHeadAttention(query, key, value):\n",
    "    \"\"\"\n",
    "    query - (batch_size, query_len, embedding_size)\n",
    "    key - (batch_size, value_len, embedding_size)\n",
    "    value - (batch_size, value_len, embedding_size)\n",
    "    \"\"\"\n",
    "    \n",
    "    # Step 1 - Matrix multiplication between query and key\n",
    "    # weights --> (batch_size, query_len, value_len)\n",
    "    weights = tf.matmul(query, key.T)\n",
    "\n",
    "    # Step 2 - Weights Normalization\n",
    "    # weights --> (batch_size, query_len, value_len)\n",
    "    dim = key.shape[-1]\n",
    "    weights = weights/np.sqrt(dim)\n",
    "    \n",
    "    # Step 3 - Softmax scores\n",
    "    # weights --> (batch_size, query_len, value_len)\n",
    "    weights = tf.nn.softmax(weights, axis=-1)\n",
    "    \n",
    "    # Step 4 - Context Vector\n",
    "    # context --> (batch_size, query_len, embedding_size)\n",
    "    context = tf.matmul(weights, value)\n",
    "    \n",
    "    return context\n",
    "```"
   ]
  },
  {
   "cell_type": "code",
   "execution_count": null,
   "metadata": {},
   "outputs": [],
   "source": []
  },
  {
   "cell_type": "code",
   "execution_count": 2,
   "metadata": {},
   "outputs": [],
   "source": [
    "import warnings\n",
    "warnings.filterwarnings(\"ignore\")"
   ]
  },
  {
   "cell_type": "code",
   "execution_count": 3,
   "metadata": {},
   "outputs": [],
   "source": [
    "import matplotlib.pyplot as plt\n",
    "import matplotlib.style as style\n",
    "import numpy as np\n",
    "from pprint import pprint\n",
    "import seaborn as sns\n",
    "import tensorflow as tf\n",
    "from utils import get_sequences, get_sequences_generator"
   ]
  },
  {
   "cell_type": "code",
   "execution_count": 4,
   "metadata": {},
   "outputs": [],
   "source": [
    "%matplotlib inline"
   ]
  },
  {
   "cell_type": "code",
   "execution_count": 5,
   "metadata": {},
   "outputs": [],
   "source": [
    "style.use('seaborn-poster')"
   ]
  },
  {
   "cell_type": "code",
   "execution_count": 6,
   "metadata": {},
   "outputs": [],
   "source": [
    "def SingleHeadAttention(query, key, value, mask=None):\n",
    "    \"\"\"\n",
    "    query - (batch_size, query_len, embedding_size)\n",
    "    key - (batch_size, value_len, embedding_size)\n",
    "    value - (batch_size, value_len, embedding_size)\n",
    "    \"\"\"\n",
    "    \n",
    "    # Step 1 - Matrix multiplication between query and key\n",
    "    # weights --> (batch_size, query_len, value_len)\n",
    "    weights = tf.matmul(query, key, transpose_b=True)\n",
    "\n",
    "    # Step 2 - Weights Normalization\n",
    "    # weights --> (batch_size, query_len, value_len)\n",
    "    dim = key.shape[-1]\n",
    "    weights = weights/np.sqrt(dim)\n",
    "    \n",
    "    if mask is not None:\n",
    "        weights += (mask * -1e9) \n",
    "\n",
    "    # Step 3 - Softmax scores\n",
    "    # weights --> (batch_size, query_len, value_len)\n",
    "    weights = tf.nn.softmax(weights, axis=-1)\n",
    "    \n",
    "    # Step 4 - Context Vector\n",
    "    # context --> (batch_size, query_len, embedding_size)\n",
    "    context = tf.matmul(weights, value)\n",
    "    \n",
    "    return weights, context"
   ]
  },
  {
   "cell_type": "code",
   "execution_count": 7,
   "metadata": {},
   "outputs": [],
   "source": [
    "with open(\"text\", \"r\") as file:\n",
    "    sentences = file.readlines()"
   ]
  },
  {
   "cell_type": "code",
   "execution_count": 8,
   "metadata": {},
   "outputs": [
    {
     "name": "stdout",
     "output_type": "stream",
     "text": [
      "Take whichever you want.\n",
      "\n",
      "He is too short.\n",
      "\n",
      "They have their own trouble.\n",
      "\n",
      "You have four choices.\n",
      "\n",
      "Can I make a telephone call please?\n",
      "\n",
      "He's very talented.\n",
      "\n",
      "His family is in Boston.\n",
      "\n",
      "This might be interesting.\n",
      "\n",
      "The ship crashed on the rocks.\n",
      "\n",
      "I need a table for three people.\n",
      "\n",
      "I like your article.\n",
      "\n",
      "Tom gave me a ride home.\n",
      "\n",
      "I always keep my word.\n",
      "\n",
      "That isn't cheap.\n",
      "\n",
      "Thanks for sharing that.\n",
      "\n",
      "How many days are there in a week?\n",
      "\n"
     ]
    }
   ],
   "source": [
    "for x in sentences:\n",
    "    print(x)"
   ]
  },
  {
   "cell_type": "code",
   "execution_count": null,
   "metadata": {},
   "outputs": [],
   "source": []
  },
  {
   "cell_type": "markdown",
   "metadata": {},
   "source": [
    "Below I've written a utility function *(get_sequences in utils.py)* that takes in a bunch of sentences & returns a 3D matrix of shape `(num_sentences, max_length, vocab_size)`.\n",
    "* num_sentences - Number of sentences\n",
    "* max_length - Length of the largest sentence\n",
    "* vocab_size - Vocabulary size\n",
    "\n",
    "Each word in a sequence is one-hot vector encoded"
   ]
  },
  {
   "cell_type": "code",
   "execution_count": 9,
   "metadata": {},
   "outputs": [
    {
     "name": "stdout",
     "output_type": "stream",
     "text": [
      "# Sentences: 16\n",
      "Vocabulary Size: 66\n",
      "Max Length Sentence: 8\n",
      "# Sentences: 16\n",
      "Vocabulary Size: 66\n",
      "Max Length Sentence: 8\n",
      "# Sentences: 16\n",
      "Vocabulary Size: 66\n",
      "Max Length Sentence: 8\n"
     ]
    }
   ],
   "source": [
    "_, key = get_sequences(sentences, len(sentences))\n",
    "_, value = get_sequences(sentences, len(sentences))                       \n",
    "sentences, query = get_sequences(sentences, len(sentences))"
   ]
  },
  {
   "cell_type": "code",
   "execution_count": 10,
   "metadata": {},
   "outputs": [
    {
     "data": {
      "text/plain": [
       "((16, 8, 67), (16, 8, 67), (16, 8, 67))"
      ]
     },
     "execution_count": 10,
     "metadata": {},
     "output_type": "execute_result"
    }
   ],
   "source": [
    "key.shape, value.shape, query.shape"
   ]
  },
  {
   "cell_type": "code",
   "execution_count": 11,
   "metadata": {},
   "outputs": [],
   "source": [
    "weights, out = SingleHeadAttention(query, key, value)"
   ]
  },
  {
   "cell_type": "code",
   "execution_count": 12,
   "metadata": {},
   "outputs": [
    {
     "data": {
      "text/plain": [
       "(TensorShape([16, 8, 8]), TensorShape([16, 8, 67]))"
      ]
     },
     "execution_count": 12,
     "metadata": {},
     "output_type": "execute_result"
    }
   ],
   "source": [
    "weights.shape, out.shape "
   ]
  },
  {
   "cell_type": "code",
   "execution_count": 13,
   "metadata": {},
   "outputs": [],
   "source": [
    "h, w = 3, 3"
   ]
  },
  {
   "cell_type": "code",
   "execution_count": 14,
   "metadata": {},
   "outputs": [],
   "source": [
    "def visualize_weights(weights):\n",
    "    f = plt.figure(figsize=(12, 12))\n",
    "    gs = f.add_gridspec(h, w)\n",
    "\n",
    "    f.suptitle('Attention weights visualization', fontsize=20)\n",
    "\n",
    "    for i in range(h):\n",
    "        for j in range(w):\n",
    "            ax = f.add_subplot(gs[i, j])\n",
    "            g = sns.heatmap(weights[i*h+j], cbar=False, cmap=\"binary\")\n",
    "            words = sentences[i*h+j].split()\n",
    "            temp = 8 - len(words)\n",
    "            extras = [\"_\"]*temp\n",
    "            words += extras\n",
    "            plt.xticks(np.arange(8), words, rotation='vertical')\n",
    "            plt.yticks(np.arange(8), words, rotation='horizontal')\n",
    "            ax.xaxis.set_tick_params(labelsize=12)\n",
    "            ax.yaxis.set_tick_params(labelsize=12)\n",
    "    f.tight_layout(rect=[0, 0.03, 1, 0.9])"
   ]
  },
  {
   "cell_type": "code",
   "execution_count": 15,
   "metadata": {},
   "outputs": [
    {
     "data": {
      "image/png": "[encoded data removed]",
      "text/plain": [
       "<Figure size 864x864 with 9 Axes>"
      ]
     },
     "metadata": {
      "needs_background": "light"
     },
     "output_type": "display_data"
    }
   ],
   "source": [
    "visualize_weights(weights)"
   ]
  },
  {
   "cell_type": "markdown",
   "metadata": {},
   "source": [
    "**Since the dot product of one-hot encoded vectors will be maximum with itself, weights are maximum along the diagonals.**"
   ]
  },
  {
   "cell_type": "code",
   "execution_count": null,
   "metadata": {},
   "outputs": [],
   "source": []
  },
  {
   "cell_type": "markdown",
   "metadata": {},
   "source": [
    "## MultiHead Attention\n",
    "\n",
    "Each word may have different meaning depending on the context. Mutlihead attention gives the attention layer multiple “representation subspaces”.\n",
    "\n",
    "We can give the self attention greater power of discrimination, by combining several self attention mechanisms (which we'll index with r), each with different matrices $W_q^{r}, W_k^{r}, W_v^{r}$. These are called attention heads.\n",
    "\n",
    "For input $x_{i}$ each attention head produces a different output vector $y_{i}^{r}$. We concatenate these, and pass them through a linear transformation to reduce the dimension back to k.\n",
    "\n",
    "![mutlihead](https://jalammar.github.io/images/t/transformer_multi-headed_self-attention-recap.png)\n",
    "\n",
    "### Narrow and Wide Self-Attention\n",
    "There are two ways to apply self-attention -\n",
    "1. Cut the embedding vectors into chunk. Suppose, the embedding vector has *256* dimensions and we have *8* dimensions, we can cut it into *8* chunks each of size *32*. This means that the matrices $W_q^{r}, W_k^{r}, W_v^{r}$ are all *32x32*\n",
    "2. Make each of the matrices of size *256x256* and apply each head to the whole vector of size *256*\n",
    "\n",
    "The first option is faster & memory effecient whereas the latter one gives better performance."
   ]
  },
  {
   "cell_type": "markdown",
   "metadata": {},
   "source": [
    "### Implementation\n",
    "\n",
    "1. We think of the $h$ attention heads as $h$ separate sets of three matrices $W_q^{r}, W_k^{r}, W_v^{r}$, but it's actually more efficient to combine these heads into three single $k×hk$ matrices, so that we can compute all the concatenated queries, keys and values in a single matrix multiplication.\n",
    "2. The output of each linear module has size `(batch_size, seq_len, num_heads*embedding_size)`, which we simply reshape to `(batch_size, seq_len, num_heads, embedding_size)` give each head its own dimension.\n",
    "3. Get context vector by applying `SingleHeadAttention` for each of the heads.\n",
    "4. The attention output for each head is then concatenated and put through a final Dense layer."
   ]
  },
  {
   "cell_type": "markdown",
   "metadata": {},
   "source": [
    "```python\n",
    "from tensorflow.keras.layers import Dense\n",
    "\n",
    "def MultiHeadAttention(num_heads, d_model, query, key, value):\n",
    "    '''\n",
    "    Arguments\n",
    "    ---------\n",
    "    num_heads - int\n",
    "        Specifies the number of heads in multihead attention network\n",
    "        \n",
    "    d_model - int\n",
    "        Input dimension for the multihead net. A token is embedded as a vector of size `embedding_size`, which is  then linearly transformed into a vector of size `d_model`\n",
    "          \n",
    "    query - Query 3D matrix of shape (batch_size, query_len, embedding_size)\n",
    "    \n",
    "    key - Key 3D matrix of shape (batch_size, value_len, embedding_size)\n",
    "   \n",
    "    value - Value 3D matrix of shape (batch_size, value_len, embedding_size)   \n",
    "    '''\n",
    "    \n",
    "    # Step 1 - Create 4 matrix Wq, Wk, Wv\n",
    "    # creates a kernel of size [embedding_size, d_model]\n",
    "    Wq = Dense(d_model)\n",
    "    Wk = Dense(d_model)\n",
    "    Wv = Dense(d_model)\n",
    "    Wo = Dense(d_model)\n",
    "    \n",
    "    # Step 2 - Perform linear transformation\n",
    "    # query --> (batch_size, query_len, d_model)\n",
    "    query = Wq(query)\n",
    "    # key --> (batch_size, value_len, d_model)\n",
    "    key = Wk(key)\n",
    "    # value --> (batch_size, value_len, d_model)\n",
    "    value = Wv(value)\n",
    "    \n",
    "    # Step 3 - Reshape query,key and value. Transform 3D matrix to 4D matrix by breaking along the last axis & then transpose.\n",
    "    assert d_model % num_heads == 0\n",
    "    depth = d_model/num_heads\n",
    "    \n",
    "    # query --> (batch_size, query_len, num_heads, depth)\n",
    "    query = np.reshape(query, (query.shape[0], query.shape[1], num_heads, depth))\n",
    "    # query --> (batch_size, num_heads, query_len, depth)\n",
    "    query = np.transpose(query, (0, 2, 1, 3))\n",
    "\n",
    "    # key --> (batch_size, value_len, num_heads, depth)    \n",
    "    key = np.reshape(key, (key.shape[0], key.shape[1], num_heads, depth))\n",
    "    # key --> (batch_size, num_heads, query_len, depth)\n",
    "    key = np.transpose(key, (0, 2, 1, 3))\n",
    "\n",
    "    # value --> (batch_size, value_len, num_heads, depth)\n",
    "    value = np.reshape(value, (value.shape[0], value.shape[1], depth))\n",
    "    # value --> (batch_size, num_heads, query_len, depth)\n",
    "    value = np.transpose(value, (0, 2, 1, 3))\n",
    "    \n",
    "    # Step 4 - Apply ScaledDotProduct (SingleHeadAttention) on each of the heads\n",
    "    attention_weights, context_vector = SingleHeadAttention(query, key, value)\n",
    "    # context_vector --> (batch_size, query_len, num_heads, depth)\n",
    "    context_vector = np.transpose(scaled_vector, (0, 2, 1, 3))\n",
    "    \n",
    "    # Step 5 - Concatenate along the `num_heads` axis\n",
    "    # context_vector --> (batch_size, query_len, d_model)    \n",
    "    context_vector = np.reshape(context_vector, \n",
    "                                (context_vector.shape[0], context_vector.shape[1], d_model))\n",
    "    \n",
    "    # Step 6 - Apply linear transformation by multiplication with Wo\n",
    "    context_vector = Wo(context_vector)\n",
    "    return attention_weights, context_vector\n",
    "\n",
    "```"
   ]
  },
  {
   "cell_type": "code",
   "execution_count": 16,
   "metadata": {},
   "outputs": [],
   "source": [
    "from tensorflow.keras.layers import Dense"
   ]
  },
  {
   "cell_type": "code",
   "execution_count": 17,
   "metadata": {},
   "outputs": [],
   "source": [
    "def MultiHeadAttention(num_heads, d_model, query, key, value, mask):\n",
    "    # Step 1 - Create 4 matrix Wq, Wk, Wv\n",
    "    # creates a kernel of size [embedding_size, d_model]\n",
    "    Wq = Dense(d_model)\n",
    "    Wk = Dense(d_model)\n",
    "    Wv = Dense(d_model)\n",
    "    Wo = Dense(d_model)\n",
    "    \n",
    "    # Step 2 - Perform linear transformation\n",
    "    # query --> (batch_size, query_len, d_model)\n",
    "    query = Wq(query)\n",
    "    # key --> (batch_size, value_len, d_model)\n",
    "    key = Wk(key)\n",
    "    # value --> (batch_size, value_len, d_model)\n",
    "    value = Wv(value)\n",
    "    \n",
    "    # Step 3 - Reshape query,key and value. Transform 3D matrix to 4D matrix by breaking along the last axis & then transpose.\n",
    "    assert d_model % num_heads == 0\n",
    "    depth = d_model//num_heads\n",
    "    # query --> (batch_size, query_len, num_heads, depth)\n",
    "    query = tf.reshape(query, (query.shape[0], query.shape[1], num_heads, depth))\n",
    "    # query --> (batch_size, num_heads, query_len, depth)\n",
    "    query = tf.transpose(query, (0, 2, 1, 3))\n",
    "\n",
    "    # key --> (batch_size, value_len, num_heads, depth)    \n",
    "    key = tf.reshape(key, (key.shape[0], key.shape[1], num_heads, depth))\n",
    "    # key --> (batch_size, num_heads, query_len, depth)\n",
    "    key = tf.transpose(key, (0, 2, 1, 3))\n",
    "\n",
    "    # value --> (batch_size, value_len, num_heads, depth)\n",
    "    value = tf.reshape(value, (value.shape[0], value.shape[1], num_heads, depth))\n",
    "    # value --> (batch_size, num_heads, query_len, depth)\n",
    "    value = tf.transpose(value, (0, 2, 1, 3))\n",
    "    \n",
    "    # Step 4 - Apply ScaledDotProduct (SingleHeadAttention) on each of the heads\n",
    "    attention_weights, context_vector = SingleHeadAttention(query, key, value, mask)\n",
    "    # context_vector --> (batch_size, query_len, num_heads, depth)\n",
    "    context_vector = tf.transpose(context_vector, (0, 2, 1, 3))\n",
    "    \n",
    "    # Step 5 - Concatenate along the `num_heads` axis\n",
    "    # context_vector --> (batch_size, query_len, d_model)    \n",
    "    context_vector = tf.reshape(context_vector, \n",
    "                                (context_vector.shape[0], context_vector.shape[1], d_model))\n",
    "    \n",
    "    # Step 6 - Apply linear transformation by multiplication with Wo\n",
    "    context_vector = Wo(context_vector)\n",
    "    return attention_weights, context_vector\n"
   ]
  },
  {
   "cell_type": "code",
   "execution_count": 18,
   "metadata": {},
   "outputs": [],
   "source": [
    "num_heads = 4\n",
    "d_model = 512"
   ]
  },
  {
   "cell_type": "code",
   "execution_count": 19,
   "metadata": {},
   "outputs": [],
   "source": [
    "weights, out = MultiHeadAttention(num_heads, d_model, query, key, value, None)"
   ]
  },
  {
   "cell_type": "code",
   "execution_count": 20,
   "metadata": {},
   "outputs": [
    {
     "data": {
      "text/plain": [
       "TensorShape([16, 8, 512])"
      ]
     },
     "execution_count": 20,
     "metadata": {},
     "output_type": "execute_result"
    }
   ],
   "source": [
    "out.shape"
   ]
  },
  {
   "cell_type": "code",
   "execution_count": 21,
   "metadata": {},
   "outputs": [
    {
     "data": {
      "text/plain": [
       "TensorShape([16, 4, 8, 8])"
      ]
     },
     "execution_count": 21,
     "metadata": {},
     "output_type": "execute_result"
    }
   ],
   "source": [
    "weights.shape"
   ]
  },
  {
   "cell_type": "code",
   "execution_count": 22,
   "metadata": {},
   "outputs": [],
   "source": [
    "def visualize_weights_individual_head(index):\n",
    "    h, w = 3, 3\n",
    "\n",
    "    f = plt.figure(figsize=(12, 12))\n",
    "    gs = f.add_gridspec(h, w)\n",
    "\n",
    "    f.suptitle(f'Attention weights visualization (Head {index})', fontsize=20)\n",
    "\n",
    "    for i in range(h):\n",
    "        for j in range(w):\n",
    "            ax = f.add_subplot(gs[i, j])\n",
    "            g = sns.heatmap(weights[i*h+j][index], cbar=False, cmap=\"binary\")\n",
    "            words = sentences[i*h+j].split()\n",
    "            temp = 8 - len(words)\n",
    "            extras = [\"_\"]*temp\n",
    "            words += extras\n",
    "            plt.xticks(np.arange(8), words, rotation='vertical')\n",
    "            plt.yticks(np.arange(8), words, rotation='horizontal')\n",
    "            ax.xaxis.set_tick_params(labelsize=12)\n",
    "            ax.yaxis.set_tick_params(labelsize=12)\n",
    "    f.tight_layout(rect=[0, 0.03, 1, 0.9])"
   ]
  },
  {
   "cell_type": "code",
   "execution_count": 23,
   "metadata": {
    "scrolled": false
   },
   "outputs": [
    {
     "data": {
      "image/png": "[encoded data removed]",
      "text/plain": [
       "<Figure size 864x864 with 9 Axes>"
      ]
     },
     "metadata": {
      "needs_background": "light"
     },
     "output_type": "display_data"
    }
   ],
   "source": [
    "visualize_weights_individual_head(0)"
   ]
  },
  {
   "cell_type": "code",
   "execution_count": 24,
   "metadata": {},
   "outputs": [
    {
     "data": {
      "image/png": "[encoded data removed]",
      "text/plain": [
       "<Figure size 864x864 with 9 Axes>"
      ]
     },
     "metadata": {
      "needs_background": "light"
     },
     "output_type": "display_data"
    }
   ],
   "source": [
    "visualize_weights_individual_head(1)"
   ]
  },
  {
   "cell_type": "markdown",
   "metadata": {},
   "source": [
    "**Notice that a word doesn't align maximum weight to itself. This is because we multiply the query, key and value vectors with weight matrices $W_q^{r}, W_k^{r}, W_v^{r}$ respectively.**"
   ]
  },
  {
   "cell_type": "code",
   "execution_count": null,
   "metadata": {},
   "outputs": [],
   "source": []
  },
  {
   "cell_type": "markdown",
   "metadata": {},
   "source": [
    "### Concatenating the Heads\n",
    "\n",
    "Concatenating the attention weights obtained from each individual heads and visualizing it."
   ]
  },
  {
   "cell_type": "code",
   "execution_count": 25,
   "metadata": {},
   "outputs": [],
   "source": [
    "concatenated_weights = tf.reduce_sum(weights, axis=1)"
   ]
  },
  {
   "cell_type": "code",
   "execution_count": 26,
   "metadata": {},
   "outputs": [
    {
     "data": {
      "text/plain": [
       "TensorShape([16, 8, 8])"
      ]
     },
     "execution_count": 26,
     "metadata": {},
     "output_type": "execute_result"
    }
   ],
   "source": [
    "concatenated_weights.shape"
   ]
  },
  {
   "cell_type": "code",
   "execution_count": 27,
   "metadata": {},
   "outputs": [
    {
     "data": {
      "image/png": "[encoded data removed]",
      "text/plain": [
       "<Figure size 864x864 with 9 Axes>"
      ]
     },
     "metadata": {
      "needs_background": "light"
     },
     "output_type": "display_data"
    }
   ],
   "source": [
    "visualize_weights(concatenated_weights)"
   ]
  },
  {
   "cell_type": "code",
   "execution_count": null,
   "metadata": {},
   "outputs": [],
   "source": []
  },
  {
   "cell_type": "markdown",
   "metadata": {},
   "source": [
    "## Masking\n",
    "\n",
    "Mask all the padding tokens. The output embeddings are offset by one position, so masking ensures that the predictions for position $i$ can only depend on the outputs at position lesser than $i$. In other words, the mask indicates which entries should not be used. The mask indicates where pad value 0 is present: it outputs a 1 at those locations, and a 0 otherwise."
   ]
  },
  {
   "cell_type": "code",
   "execution_count": 28,
   "metadata": {},
   "outputs": [],
   "source": [
    "import numpy as np\n",
    "import matplotlib.pyplot as plt"
   ]
  },
  {
   "cell_type": "code",
   "execution_count": 29,
   "metadata": {},
   "outputs": [],
   "source": [
    "def get_masked_padding(x):\n",
    "    x = x==0\n",
    "    x = x[:, np.newaxis, np.newaxis, :].astype(float)\n",
    "    return x"
   ]
  },
  {
   "cell_type": "code",
   "execution_count": 30,
   "metadata": {},
   "outputs": [],
   "source": [
    "def get_lookahead_mask(size):\n",
    "    attn_shape = (1, size, size)\n",
    "    subsequent_mask = np.triu(np.ones(attn_shape), k=1).astype('uint8')\n",
    "    return subsequent_mask == 0"
   ]
  },
  {
   "cell_type": "code",
   "execution_count": 31,
   "metadata": {},
   "outputs": [
    {
     "data": {
      "text/plain": [
       "<matplotlib.image.AxesImage at 0x7fe2c8672880>"
      ]
     },
     "execution_count": 31,
     "metadata": {},
     "output_type": "execute_result"
    },
    {
     "data": {
      "image/png": "[encoded data removed]",
      "text/plain": [
       "<Figure size 288x288 with 1 Axes>"
      ]
     },
     "metadata": {
      "needs_background": "light"
     },
     "output_type": "display_data"
    }
   ],
   "source": [
    "plt.figure(figsize=(4,4))\n",
    "plt.imshow(get_lookahead_mask(15)[0])"
   ]
  },
  {
   "cell_type": "code",
   "execution_count": null,
   "metadata": {},
   "outputs": [],
   "source": []
  },
  {
   "cell_type": "markdown",
   "metadata": {},
   "source": [
    "## Positional Encoding\n",
    "\n",
    "Embeddings represent a token in a $k-dimensional$ space where tokens with similar meaning will be closer to each other. But the embeddings do not encode the relative position of words in a sentence.\n",
    "\n",
    "Since we have **no recurrent networks that can remember how sequences are fed into a model, we need to somehow give every word/part in our sequence a relative position** since a sequence depends on the order of its elements. These positions are added to the embedded representation of each word.\n",
    "\n",
    "So after adding the positional encoding, **words will be closer to each other based on the similarity of their meaning and their position in the sentence**, in the $k-dimensional$ space.\n",
    "\n",
    "![positional-encoding](https://i.imgur.com/Kc78rpW.png)"
   ]
  },
  {
   "cell_type": "code",
   "execution_count": 32,
   "metadata": {},
   "outputs": [],
   "source": [
    "def positional_encoding(max_len, d_model):\n",
    "    pos_enc = np.zeros((max_len, d_model))\n",
    "\n",
    "    for pos in range(max_len):\n",
    "        for i in range(0, d_model, 2):\n",
    "            angle = pos / (np.power(10000, i/d_model))\n",
    "            pos_enc[pos][i] = np.sin(angle)\n",
    "            pos_enc[pos][i+1] = np.cos(angle)\n",
    "    return pos_enc"
   ]
  },
  {
   "cell_type": "code",
   "execution_count": 33,
   "metadata": {
    "scrolled": true
   },
   "outputs": [],
   "source": [
    "pos_enc = positional_encoding(50, d_model)"
   ]
  },
  {
   "cell_type": "code",
   "execution_count": 34,
   "metadata": {},
   "outputs": [
    {
     "data": {
      "text/plain": [
       "(50, 512)"
      ]
     },
     "execution_count": 34,
     "metadata": {},
     "output_type": "execute_result"
    }
   ],
   "source": [
    "pos_enc.shape"
   ]
  },
  {
   "cell_type": "code",
   "execution_count": 35,
   "metadata": {},
   "outputs": [
    {
     "data": {
      "image/png": "[encoded data removed]",
      "text/plain": [
       "<Figure size 921.6x633.6 with 2 Axes>"
      ]
     },
     "metadata": {
      "needs_background": "light"
     },
     "output_type": "display_data"
    }
   ],
   "source": [
    "plt.pcolormesh(pos_enc, cmap='RdBu')\n",
    "plt.xlabel('Depth')\n",
    "plt.xlim((0, d_model))\n",
    "plt.ylabel('Position')\n",
    "plt.colorbar()\n",
    "plt.show()"
   ]
  },
  {
   "cell_type": "code",
   "execution_count": null,
   "metadata": {},
   "outputs": [],
   "source": []
  },
  {
   "cell_type": "markdown",
   "metadata": {},
   "source": [
    "## Feed Forward Network\n",
    "\n",
    "Each of the layers in our encoder and decoder contains a fully connected feed-forward network, which is applied to each position separately and identically. This consists of two linear transformations with a ReLU activation in between.\n",
    "\n",
    "$$\\mathrm{FFN}(x)=\\max(0, xW_1 + b_1) W_2 + b_2$$\n",
    "\n",
    "```python\n",
    "def point_wise_feed_forward_network(d_model, dff, x):\n",
    "    dense1 = Dense(dff, activation='relu')\n",
    "    dense2 = Dense(d_model)\n",
    "    \n",
    "    out = dense1(x)\n",
    "    out = dense2(out)\n",
    "    return out\n",
    "```"
   ]
  },
  {
   "cell_type": "code",
   "execution_count": 36,
   "metadata": {},
   "outputs": [],
   "source": [
    "def point_wise_feed_forward_network(d_model, dff, x):\n",
    "    dense1 = Dense(dff, activation='relu')\n",
    "    dense2 = Dense(d_model)\n",
    "    \n",
    "    out = dense1(x)\n",
    "    out = dense2(out)\n",
    "    return out"
   ]
  },
  {
   "cell_type": "code",
   "execution_count": 37,
   "metadata": {},
   "outputs": [],
   "source": [
    "ffn_out = point_wise_feed_forward_network(512, 1024, out)"
   ]
  },
  {
   "cell_type": "code",
   "execution_count": 38,
   "metadata": {},
   "outputs": [
    {
     "data": {
      "text/plain": [
       "(TensorShape([16, 8, 512]), TensorShape([16, 8, 512]))"
      ]
     },
     "execution_count": 38,
     "metadata": {},
     "output_type": "execute_result"
    }
   ],
   "source": [
    "out.shape, ffn_out.shape"
   ]
  },
  {
   "cell_type": "code",
   "execution_count": null,
   "metadata": {},
   "outputs": [],
   "source": []
  },
  {
   "cell_type": "markdown",
   "metadata": {},
   "source": [
    "## LayerNormalization\n",
    "\n",
    "Normalization and residual connections are standard tricks used to help deep neural networks train faster and more accurately. The layer normalization is applied over the embedding dimension only.\n",
    "\n",
    "For more information, refer to my [notebook](../machine-learning/LayerNormalization.ipynb)\n",
    "\n",
    "In it's simplest form, ***LayerNormalization*** can be implemented as follows.\n",
    "```python\n",
    "def layer_norm(x):\n",
    "    size = x.shape[-1]\n",
    "    a = np.ones(size)\n",
    "    b = np.zeros(size)\n",
    "    \n",
    "    mean = np.mean(x, axis=-1, keepdims=True)\n",
    "    std = np.std(x, axis=-1, keepdims=True)\n",
    "    \n",
    "    x_hat = (x-mean)/(std+1e-6)\n",
    "    \n",
    "    return a*x_hat+b\n",
    "```\n",
    "\n",
    "We can otherwise, use `tf.keras.layers.LayerNormalization`,\n",
    "\n",
    "I am not sure, if it involves any learning parameter. But I have suspicions that similar to ***BatchNormalization***, it too involves learning the parameters $\\gamma$ and $\\beta$. This is so because the [keras implementation](https://github.com/tensorflow/tensorflow/blob/v2.1.0/tensorflow/python/keras/layers/normalization.py) of *LayerNormalization* calls `tf.nn.batch_normalization` on line **1083**. Contrarily, the official documentation doesn't say if `tf.nn.batch_normalization` call involves any learnable parameters. Hence, yet to confirm the theory."
   ]
  },
  {
   "cell_type": "code",
   "execution_count": 39,
   "metadata": {},
   "outputs": [],
   "source": [
    "def layer_norm(x):\n",
    "    size = x.shape[-1]\n",
    "    a = np.ones(size)\n",
    "    b = np.zeros(size)\n",
    "    \n",
    "    mean = np.mean(x, axis=-1, keepdims=True)\n",
    "    std = np.std(x, axis=-1, keepdims=True)\n",
    "    \n",
    "    x_hat = (x-mean)/(std+1e-6)\n",
    "    \n",
    "    return a*x_hat+b"
   ]
  },
  {
   "cell_type": "code",
   "execution_count": 40,
   "metadata": {},
   "outputs": [],
   "source": [
    "normalized_out = layer_norm(out)"
   ]
  },
  {
   "cell_type": "code",
   "execution_count": 41,
   "metadata": {},
   "outputs": [
    {
     "data": {
      "text/plain": [
       "(TensorShape([16, 8, 512]), TensorShape([16, 8, 512]))"
      ]
     },
     "execution_count": 41,
     "metadata": {},
     "output_type": "execute_result"
    }
   ],
   "source": [
    "out.shape, normalized_out.shape"
   ]
  },
  {
   "cell_type": "code",
   "execution_count": null,
   "metadata": {},
   "outputs": [],
   "source": []
  },
  {
   "cell_type": "markdown",
   "metadata": {},
   "source": [
    "# Encoder\n",
    "\n",
    "The encoder layer consists of-\n",
    "1. MultiHead Attention\n",
    "2. Normalization & Residual Connecttion\n",
    "3. Point-wise feed forward networks\n",
    "\n",
    "Below is the implementation of a single encoder block. The *transfomer* paper had $N=6$ blocks"
   ]
  },
  {
   "cell_type": "code",
   "execution_count": 42,
   "metadata": {},
   "outputs": [],
   "source": [
    "from tensorflow.keras.layers import Dropout, LayerNormalization, Dense"
   ]
  },
  {
   "cell_type": "code",
   "execution_count": 43,
   "metadata": {},
   "outputs": [],
   "source": [
    "def single_encoder(num_heads, d_model, dff, query, key, value, mask):\n",
    "    # Step 1 - MultiHeadAttention\n",
    "    weights, context_vector = MultiHeadAttention(num_heads, d_model, \n",
    "                                                 query, key, value, mask)\n",
    "    \n",
    "    # Dropout\n",
    "    dropout1 = Dropout(0.1)\n",
    "    context_vector = dropout1(context_vector)\n",
    "    \n",
    "    # Step 2 - Normalize (x+attention(x))\n",
    "    layer_norm1 = LayerNormalization()\n",
    "    context_vector = layer_norm1(query+context_vector)\n",
    "    \n",
    "    # Step 3 - Pointwise FeedForward Network\n",
    "    ffn_out = point_wise_feed_forward_network(d_model, dff, context_vector)\n",
    "    \n",
    "    # Dropout\n",
    "    dropout2 = Dropout(0.1)\n",
    "    ffn_out = dropout2(ffn_out)\n",
    "    \n",
    "    # Step 4 - Normalization again\n",
    "    layer_norm2 = LayerNormalization()\n",
    "    encoder_out = layer_norm1(context_vector+ffn_out)\n",
    "    \n",
    "    return encoder_out\n"
   ]
  },
  {
   "cell_type": "code",
   "execution_count": 44,
   "metadata": {},
   "outputs": [],
   "source": [
    "x = tf.random.uniform((64, 48, 512))"
   ]
  },
  {
   "cell_type": "code",
   "execution_count": 45,
   "metadata": {},
   "outputs": [],
   "source": [
    "num_heads = 8\n",
    "d_model = 512\n",
    "dff = 1024"
   ]
  },
  {
   "cell_type": "code",
   "execution_count": 46,
   "metadata": {},
   "outputs": [],
   "source": [
    "encoder_out = single_encoder(num_heads, d_model, dff, x, x, x, None)"
   ]
  },
  {
   "cell_type": "code",
   "execution_count": 47,
   "metadata": {},
   "outputs": [
    {
     "data": {
      "text/plain": [
       "TensorShape([64, 48, 512])"
      ]
     },
     "execution_count": 47,
     "metadata": {},
     "output_type": "execute_result"
    }
   ],
   "source": [
    "encoder_out.shape"
   ]
  },
  {
   "cell_type": "code",
   "execution_count": null,
   "metadata": {},
   "outputs": [],
   "source": []
  },
  {
   "cell_type": "markdown",
   "metadata": {},
   "source": [
    "**Repeating it multiple times**"
   ]
  },
  {
   "cell_type": "code",
   "execution_count": 50,
   "metadata": {},
   "outputs": [],
   "source": [
    "for i in range(6):\n",
    "    encoder_out = single_encoder(num_heads, d_model, dff, encoder_out, encoder_out, encoder_out, None)"
   ]
  },
  {
   "cell_type": "code",
   "execution_count": 51,
   "metadata": {},
   "outputs": [
    {
     "data": {
      "text/plain": [
       "TensorShape([64, 48, 512])"
      ]
     },
     "execution_count": 51,
     "metadata": {},
     "output_type": "execute_result"
    }
   ],
   "source": [
    "encoder_out.shape"
   ]
  },
  {
   "cell_type": "code",
   "execution_count": null,
   "metadata": {},
   "outputs": [],
   "source": []
  },
  {
   "cell_type": "markdown",
   "metadata": {},
   "source": [
    "## Decoder\n",
    "\n",
    "Always there are equal number of *Encoder & Decoder layers*, since they form a pair. As there were $N=6$ *Encoder layers*, there were 6 *Decoder layers* as well.\n",
    "\n",
    "The Decoder has almost the same components as in an Encoder layer. In addition to the two sub-layers in each encoder layer, the decoder inserts a third sub-layer, which performs multi-head attention over the output of the encoder stack. Similar to the encoder, we employ residual connections around each of the sub-layers, followed by layer normalization.\n",
    "\n",
    "Below is the implementation of a single decoder block"
   ]
  },
  {
   "cell_type": "code",
   "execution_count": 69,
   "metadata": {},
   "outputs": [],
   "source": [
    "def single_decoder(num_heads, d_model, dff, query, key, value, \n",
    "            encoder_out, look_ahead_mask, padding_mask):\n",
    "    # Step 1 - MultiHeadAttention\n",
    "    weights1, context_vector1 = MultiHeadAttention(num_heads, d_model, \n",
    "                                                 query, key, value, \n",
    "                                                 look_ahead_mask)\n",
    "    \n",
    "    # First Dropout\n",
    "    dropout1 = Dropout(0.1)\n",
    "    context_vector1 = dropout1(context_vector1)\n",
    "    \n",
    "    # Step 2 - Normalize (x+attention(x))\n",
    "    layer_norm1 = LayerNormalization()\n",
    "    context_vector1 = layer_norm1(query+context_vector1)\n",
    "\n",
    "    # Step 3 - MultiHeadAttention. Here, the encoder_output is the Key & Value, \n",
    "    # while the ContextVector from previous MultiHeadAttention is Query\n",
    "    weights2, context_vector2 = MultiHeadAttention(num_heads, d_model, \n",
    "                                                 context_vector1, encoder_out, encoder_out, \n",
    "                                                 padding_mask)\n",
    "    \n",
    "    # Second Dropout\n",
    "    dropout2 = Dropout(0.1)\n",
    "    context_vector2 = dropout2(context_vector2)\n",
    "    \n",
    "    # Step 4 - Normalize (x+attention(x))\n",
    "    layer_norm2 = LayerNormalization()\n",
    "    context_vector2 = layer_norm2(context_vector1+context_vector2)\n",
    "\n",
    "    # Step 5 - Pointwise FeedForward Network\n",
    "    ffn_out = point_wise_feed_forward_network(d_model, dff, context_vector2)\n",
    "    \n",
    "    # Third Dropout\n",
    "    dropout3 = Dropout(0.1)\n",
    "    ffn_out = dropout3(ffn_out)\n",
    "    \n",
    "    # Step 4 - Normalization again\n",
    "    layer_norm3 = LayerNormalization()\n",
    "    decoder_out = layer_norm3(context_vector2+ffn_out)\n",
    "    \n",
    "    return decoder_out\n"
   ]
  },
  {
   "cell_type": "code",
   "execution_count": 70,
   "metadata": {},
   "outputs": [],
   "source": [
    "x = tf.random.uniform((64, 48, 512))"
   ]
  },
  {
   "cell_type": "code",
   "execution_count": 71,
   "metadata": {},
   "outputs": [],
   "source": [
    "decoder_out = single_decoder(num_heads, d_model, dff, x, x, x, encoder_out, None, None)"
   ]
  },
  {
   "cell_type": "code",
   "execution_count": 72,
   "metadata": {},
   "outputs": [
    {
     "data": {
      "text/plain": [
       "TensorShape([64, 48, 512])"
      ]
     },
     "execution_count": 72,
     "metadata": {},
     "output_type": "execute_result"
    }
   ],
   "source": [
    "decoder_out.shape"
   ]
  },
  {
   "cell_type": "code",
   "execution_count": null,
   "metadata": {},
   "outputs": [],
   "source": []
  },
  {
   "cell_type": "markdown",
   "metadata": {},
   "source": [
    "# Encoder\n",
    "\n",
    "The Encoder consists of:\n",
    "* Input Embedding\n",
    "* Positional Encoding\n",
    "* $N$ encoder layers\n",
    "\n",
    "The input is put through an embedding which is summed with the positional encoding. The output of this summation is the input to the encoder layers. The output of the encoder is the input to the decoder."
   ]
  },
  {
   "cell_type": "markdown",
   "metadata": {},
   "source": [
    "**Here, the source sentence is English & I have picked up around 16 random sentences**\n",
    "\n",
    "**Below is another function that returns a 2D matrix of shape `(batch_size, max_len_sentence)`. Index $[i,j]$ returns the word index for $j^{th}$ word in $i^{th}$ sentence**."
   ]
  },
  {
   "cell_type": "code",
   "execution_count": 73,
   "metadata": {},
   "outputs": [],
   "source": [
    "with open(\"text\", \"r\") as file:\n",
    "    sentences = file.readlines()"
   ]
  },
  {
   "cell_type": "code",
   "execution_count": 74,
   "metadata": {},
   "outputs": [
    {
     "name": "stdout",
     "output_type": "stream",
     "text": [
      "# Sentences: 16\n",
      "Vocabulary Size: 66\n",
      "Max Length Sentence: 8\n"
     ]
    }
   ],
   "source": [
    "x = get_sequences_generator(sentences, len(sentences))"
   ]
  },
  {
   "cell_type": "code",
   "execution_count": 75,
   "metadata": {},
   "outputs": [
    {
     "name": "stdout",
     "output_type": "stream",
     "text": [
      "Take whichever you want.\n",
      "[46. 63. 65. 61.  0.  0.  0.  0.]\n",
      "\n",
      "He is too short.\n",
      "[18. 26. 58. 44.  0.  0.  0.  0.]\n",
      "\n",
      "They have their own trouble.\n",
      "[54. 17. 52. 37. 59.  0.  0.  0.]\n",
      "\n",
      "You have four choices.\n",
      "[65. 17. 15. 10.  0.  0.  0.  0.]\n",
      "\n",
      "Can I make a telephone call please?\n",
      "[ 8. 23. 30.  1. 48.  7. 39.  0.]\n",
      "\n",
      "He's very talented.\n",
      "[19. 60. 47.  0.  0.  0.  0.  0.]\n",
      "\n",
      "His family is in Boston.\n",
      "[20. 13. 26. 24.  6.  0.  0.  0.]\n",
      "\n",
      "This might be interesting.\n",
      "[55. 33.  5. 25.  0.  0.  0.  0.]\n",
      "\n",
      "The ship crashed on the rocks.\n",
      "[51. 43. 11. 36. 51. 41.  0.  0.]\n",
      "\n",
      "I need a table for three people.\n",
      "[23. 35.  1. 45. 14. 56. 38.  0.]\n",
      "\n",
      "I like your article.\n",
      "[23. 29. 66.  4.  0.  0.  0.  0.]\n",
      "\n",
      "Tom gave me a ride home.\n",
      "[57. 16. 32.  1. 40. 21.  0.  0.]\n",
      "\n",
      "I always keep my word.\n",
      "[23.  2. 28. 34. 64.  0.  0.  0.]\n",
      "\n",
      "That isn't cheap.\n",
      "[50. 27.  9.  0.  0.  0.  0.  0.]\n",
      "\n",
      "Thanks for sharing that.\n",
      "[49. 14. 42. 50.  0.  0.  0.  0.]\n",
      "\n",
      "How many days are there in a week?\n",
      "[22. 31. 12.  3. 53. 24.  1. 62.]\n",
      "\n"
     ]
    }
   ],
   "source": [
    "for idx in range(len(sentences)):\n",
    "    print(sentences[idx], end=\"\")\n",
    "    print(x[idx], end=\"\\n\\n\")"
   ]
  },
  {
   "cell_type": "code",
   "execution_count": 76,
   "metadata": {},
   "outputs": [],
   "source": [
    "class Encoder(tf.keras.layers.Layer):\n",
    "    def __init__(self, num_layers, d_model, num_heads, dff, input_vocab_size,\n",
    "               max_len, rate=0.1):\n",
    "        super(Encoder, self).__init__()\n",
    "        \n",
    "        self.num_heads = num_heads\n",
    "        self.d_model = d_model\n",
    "        self.dff = dff\n",
    "        self.num_layers = num_layers\n",
    "        self.embedding = tf.keras.layers.Embedding(input_vocab_size, d_model)\n",
    "        self.pos_encoding = positional_encoding(max_len, self.d_model)\n",
    "        self.pos_encoding = self.pos_encoding[np.newaxis, ...]\n",
    "        self.dropout = tf.keras.layers.Dropout(rate)\n",
    "\n",
    "    def call(self, x, training, mask):\n",
    "\n",
    "        seq_len = x.shape[1]\n",
    "\n",
    "        # adding embedding and position encoding.\n",
    "        x = self.embedding(x)  # (batch_size, input_seq_len, d_model)\n",
    "        x *= np.sqrt(self.d_model)\n",
    "        x += self.pos_encoding[:, :seq_len, :]\n",
    "\n",
    "        x = self.dropout(x)\n",
    "\n",
    "        for i in range(self.num_layers):\n",
    "            x = single_encoder(self.num_heads, self.d_model, self.dff, x, x, x, mask)\n",
    "\n",
    "        return x"
   ]
  },
  {
   "cell_type": "code",
   "execution_count": 77,
   "metadata": {},
   "outputs": [],
   "source": [
    "sample_encoder = Encoder(num_layers=2, d_model=512, num_heads=8, \n",
    "                         dff=2048, input_vocab_size=67,\n",
    "                         max_len=8)"
   ]
  },
  {
   "cell_type": "code",
   "execution_count": 78,
   "metadata": {},
   "outputs": [],
   "source": [
    "sample_encoder_output = sample_encoder(x, training=False, mask=None)"
   ]
  },
  {
   "cell_type": "code",
   "execution_count": 79,
   "metadata": {},
   "outputs": [
    {
     "name": "stdout",
     "output_type": "stream",
     "text": [
      "Input Shape: (16, 8)\n",
      "Encoder Output Shape: (16, 8, 512)\n"
     ]
    }
   ],
   "source": [
    "print(f\"Input Shape: {x.shape}\")\n",
    "print(f\"Encoder Output Shape: {sample_encoder_output.shape}\")"
   ]
  },
  {
   "cell_type": "code",
   "execution_count": null,
   "metadata": {},
   "outputs": [],
   "source": []
  },
  {
   "cell_type": "markdown",
   "metadata": {},
   "source": [
    "# Decoder\n",
    "\n",
    "The Decoder consists of:\n",
    "\n",
    "* Output Embedding\n",
    "* Positional Encoding\n",
    "* $N$ decoder layers\n",
    "\n",
    "The target is put through an embedding which is summed with the positional encoding. The output of this summation is the input to the decoder layers. The output of the decoder is the input to the final linear layer."
   ]
  },
  {
   "cell_type": "markdown",
   "metadata": {},
   "source": [
    "**The target sentence is Spanish & they are the spanish translation of the english sentences chosen above**\n",
    "\n",
    "**Below is another function that returns a 2D matrix of shape `(batch_size, max_len_sentence)`. Index $[i,j]$ returns the word index for $j^{th}$ word in $i^{th}$ sentence**."
   ]
  },
  {
   "cell_type": "code",
   "execution_count": 80,
   "metadata": {},
   "outputs": [],
   "source": [
    "with open(\"spanish_text\", \"r\") as file:\n",
    "    spanish_sentences = file.readlines()"
   ]
  },
  {
   "cell_type": "code",
   "execution_count": 81,
   "metadata": {},
   "outputs": [
    {
     "name": "stdout",
     "output_type": "stream",
     "text": [
      "# Sentences: 16\n",
      "Vocabulary Size: 66\n",
      "Max Length Sentence: 7\n"
     ]
    }
   ],
   "source": [
    "x = get_sequences_generator(spanish_sentences, len(spanish_sentences))"
   ]
  },
  {
   "cell_type": "markdown",
   "metadata": {},
   "source": [
    "*Notice the difference in vocabulary size and max length sentence*"
   ]
  },
  {
   "cell_type": "code",
   "execution_count": 82,
   "metadata": {},
   "outputs": [
    {
     "name": "stdout",
     "output_type": "stream",
     "text": [
      "Toma lo que quieras.\n",
      "[61. 32. 47. 48.  0.  0.  0.]\n",
      "\n",
      "Es demasiado bajo.\n",
      "[17. 12.  3.  0.  0.  0.  0.]\n",
      "\n",
      "Ellos tienen sus propios problemas.\n",
      "[15. 58. 55. 45. 44.  0.  0.]\n",
      "\n",
      "Tienes cuatro opciones.\n",
      "[59. 10. 39.  0.  0.  0.  0.]\n",
      "\n",
      "¿Puedo hacer una llamada telefónica por favor?\n",
      "[66. 26. 64. 30. 57. 43. 23.]\n",
      "\n",
      "El es muy talentoso.\n",
      "[14. 17. 36. 56.  0.  0.  0.]\n",
      "\n",
      "Su familia esta en Boston.\n",
      "[54. 22. 19. 16.  6.  0.  0.]\n",
      "\n",
      "Esto puede ser interesante.\n",
      "[20. 46. 52. 28.  0.  0.  0.]\n",
      "\n",
      "El barco se estrelló contra las rocas.\n",
      "[14.  5. 50. 21.  9. 29. 49.]\n",
      "\n",
      "Necesito una mesa para tres personas.\n",
      "[37. 64. 34. 41. 62. 42.  0.]\n",
      "\n",
      "Me gusta tu articulo.\n",
      "[33. 25. 63.  2.  0.  0.  0.]\n",
      "\n",
      "Tom me llevó a casa.\n",
      "[60. 33. 31.  1.  7.  0.  0.]\n",
      "\n",
      "Siempre cumplo mi palabra.\n",
      "[53. 11. 35. 40.  0.  0.  0.]\n",
      "\n",
      "Eso no es barato.\n",
      "[18. 38. 17.  4.  0.  0.  0.]\n",
      "\n",
      "Gracias por compartir eso.\n",
      "[24. 43.  8. 18.  0.  0.  0.]\n",
      "\n",
      "¿Cuantos días hay en una semana?\n",
      "[65. 13. 27. 16. 64. 51.  0.]\n",
      "\n"
     ]
    }
   ],
   "source": [
    "for idx in range(len(spanish_sentences)):\n",
    "    print(spanish_sentences[idx], end=\"\")\n",
    "    print(x[idx], end=\"\\n\\n\")"
   ]
  },
  {
   "cell_type": "code",
   "execution_count": 83,
   "metadata": {},
   "outputs": [],
   "source": [
    "class Decoder(tf.keras.layers.Layer):\n",
    "    def __init__(self, num_layers, d_model, num_heads, dff, target_vocab_size,\n",
    "               max_len, rate=0.1):\n",
    "        super(Decoder, self).__init__()\n",
    "\n",
    "        self.num_layers = num_layers\n",
    "        self.d_model = d_model\n",
    "        self.num_heads = num_heads\n",
    "        self.dff = dff\n",
    "        self.embedding = tf.keras.layers.Embedding(target_vocab_size, d_model)\n",
    "        self.pos_encoding = positional_encoding(max_len, self.d_model)\n",
    "        self.pos_encoding = self.pos_encoding[np.newaxis, ...]\n",
    "        self.dropout = tf.keras.layers.Dropout(rate)\n",
    "\n",
    "        \n",
    "    def call(self, x, enc_output, training, look_ahead_mask, padding_mask):\n",
    "\n",
    "        seq_len = x.shape[1]\n",
    "\n",
    "        x = self.embedding(x)  # (batch_size, target_seq_len, d_model)\n",
    "        x *= np.sqrt(self.d_model)\n",
    "        x += self.pos_encoding[:, :seq_len, :]\n",
    "        print(x.shape, self.pos_encoding.shape)\n",
    "        x = self.dropout(x, training=training)\n",
    "\n",
    "        for i in range(self.num_layers):\n",
    "            print(x.shape, enc_output.shape)\n",
    "            x = single_decoder(self.num_heads, self.d_model, self.dff, x, x, x, \n",
    "                               enc_output, look_ahead_mask, padding_mask)\n",
    "           \n",
    "        return x\n"
   ]
  },
  {
   "cell_type": "code",
   "execution_count": 84,
   "metadata": {},
   "outputs": [],
   "source": [
    "sample_decoder = Decoder(num_layers=2, d_model=512, num_heads=8, \n",
    "                         dff=2048, target_vocab_size=67,\n",
    "                         max_len=8)"
   ]
  },
  {
   "cell_type": "code",
   "execution_count": 85,
   "metadata": {},
   "outputs": [
    {
     "name": "stdout",
     "output_type": "stream",
     "text": [
      "(16, 7, 512) (1, 8, 512)\n",
      "(16, 7, 512) (16, 8, 512)\n",
      "(16, 7, 512) (16, 8, 512)\n"
     ]
    }
   ],
   "source": [
    "sample_decoder_output = sample_decoder(x, enc_output=sample_encoder_output, \n",
    "                                       training=False, look_ahead_mask=None, padding_mask=None)"
   ]
  },
  {
   "cell_type": "code",
   "execution_count": 86,
   "metadata": {},
   "outputs": [
    {
     "name": "stdout",
     "output_type": "stream",
     "text": [
      "Input Shape: (16, 7)\n",
      "Decoder Output Shape: (16, 7, 512)\n"
     ]
    }
   ],
   "source": [
    "print(f\"Input Shape: {x.shape}\")\n",
    "print(f\"Decoder Output Shape: {sample_decoder_output.shape}\")"
   ]
  },
  {
   "cell_type": "code",
   "execution_count": null,
   "metadata": {},
   "outputs": [],
   "source": []
  },
  {
   "cell_type": "code",
   "execution_count": null,
   "metadata": {},
   "outputs": [],
   "source": []
  }
 ],
 "metadata": {
  "kernelspec": {
   "display_name": "Python 3",
   "language": "python",
   "name": "python3"
  },
  "language_info": {
   "codemirror_mode": {
    "name": "ipython",
    "version": 3
   },
   "file_extension": ".py",
   "mimetype": "text/x-python",
   "name": "python",
   "nbconvert_exporter": "python",
   "pygments_lexer": "ipython3",
   "version": "3.8.2"
  }
 },
 "nbformat": 4,
 "nbformat_minor": 2
}
