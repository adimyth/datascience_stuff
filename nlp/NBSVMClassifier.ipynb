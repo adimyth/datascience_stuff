{
  "nbformat": 4,
  "nbformat_minor": 0,
  "metadata": {
    "colab": {
      "name": "NBSVMClassifier",
      "provenance": [],
      "collapsed_sections": [],
      "toc_visible": true,
      "authorship_tag": "ABX9TyP9kFzVn5N9VWNSB/b51YbA",
      "include_colab_link": true
    },
    "kernelspec": {
      "name": "python3",
      "display_name": "Python 3"
    }
  },
  "cells": [
    {
      "cell_type": "markdown",
      "metadata": {
        "id": "view-in-github",
        "colab_type": "text"
      },
      "source": [
        "<a href=\"https://colab.research.google.com/github/adimyth/datascience_stuff/blob/master/nlp/NBSVMClassifier.ipynb\" target=\"_parent\"><img src=\"https://colab.research.google.com/assets/colab-badge.svg\" alt=\"Open In Colab\"/></a>"
      ]
    },
    {
      "cell_type": "markdown",
      "metadata": {
        "id": "tKtoEmeCXVgd",
        "colab_type": "text"
      },
      "source": [
        "# NBSVM Classifier\n",
        "\n",
        "[Jeremy Howard's Kernel | Kaggle](https://www.kaggle.com/jhoward/nb-svm-strong-linear-baseline/comments?select=submission.csv)\n",
        "\n",
        "[Sijun's Blog](https://sijunhe.github.io/blog/2018/04/03/nb-svm/)"
      ]
    },
    {
      "cell_type": "markdown",
      "metadata": {
        "id": "duWWoWWw_VxG",
        "colab_type": "text"
      },
      "source": [
        "NB-SVM was introduced by Sida Wang & Chris Manning in 2012. Bag-of-words model that trains with a fraction of resource (time & compute) but performs reasonably well.\n",
        "\n",
        "* *Naive Bayes (NB)* and *Support Vector Machine (SVM)* are widely used as baselines in text-related tasks but their performance varies significantly across variants, features and datasets.\n",
        "* *NB* does better than *SVM* for short snippet sentiment tasks, while *SVM* outperforms NB for longer documents\n",
        "* A SVM variant using *NB* $log-count ratios$ as feature values consistently performs well across tasks and datasets"
      ]
    },
    {
      "cell_type": "code",
      "metadata": {
        "id": "iOQk9ECfXRc1",
        "colab_type": "code",
        "colab": {}
      },
      "source": [
        "import pandas as pd, numpy as np\n",
        "from sklearn.linear_model import LogisticRegression\n",
        "from sklearn.feature_extraction.text import CountVectorizer, TfidfVectorizer\n",
        "from sklearn.metrics import accuracy_score, roc_auc_score\n",
        "import tensorflow_datasets as tfds "
      ],
      "execution_count": 80,
      "outputs": []
    },
    {
      "cell_type": "markdown",
      "metadata": {
        "id": "pUIyCkTGZq4m",
        "colab_type": "text"
      },
      "source": [
        "## Loading Dataset"
      ]
    },
    {
      "cell_type": "code",
      "metadata": {
        "id": "npjHGnXjXYSm",
        "colab_type": "code",
        "colab": {}
      },
      "source": [
        "train = tfds.load('imdb_reviews', split='train')"
      ],
      "execution_count": null,
      "outputs": []
    },
    {
      "cell_type": "code",
      "metadata": {
        "id": "CEAGhWBFXYwP",
        "colab_type": "code",
        "colab": {}
      },
      "source": [
        "test = tfds.load('imdb_reviews', split='test')"
      ],
      "execution_count": 3,
      "outputs": []
    },
    {
      "cell_type": "code",
      "metadata": {
        "id": "SSigkfSDYUOI",
        "colab_type": "code",
        "colab": {}
      },
      "source": [
        "X_train, y_train, X_test, y_test = [], [], [], []"
      ],
      "execution_count": 4,
      "outputs": []
    },
    {
      "cell_type": "code",
      "metadata": {
        "id": "6AislFmaX1ot",
        "colab_type": "code",
        "colab": {}
      },
      "source": [
        "train = train.batch(25000)\n",
        "for features in train.take(1):\n",
        "    X_train.append(features['text'].numpy())\n",
        "    y_train.append(features['label'].numpy())"
      ],
      "execution_count": 5,
      "outputs": []
    },
    {
      "cell_type": "code",
      "metadata": {
        "id": "xk_nadi8ZfQy",
        "colab_type": "code",
        "colab": {}
      },
      "source": [
        "X_train = X_train[0]\n",
        "y_train = y_train[0]"
      ],
      "execution_count": 6,
      "outputs": []
    },
    {
      "cell_type": "code",
      "metadata": {
        "id": "TTZGc9N_Y53i",
        "colab_type": "code",
        "colab": {
          "base_uri": "https://localhost:8080/",
          "height": 34
        },
        "outputId": "79bc0b02-ca9b-4526-da8f-0e8afd90dcc0"
      },
      "source": [
        "len(X_train), len(y_train)"
      ],
      "execution_count": 7,
      "outputs": [
        {
          "output_type": "execute_result",
          "data": {
            "text/plain": [
              "(25000, 25000)"
            ]
          },
          "metadata": {
            "tags": []
          },
          "execution_count": 7
        }
      ]
    },
    {
      "cell_type": "code",
      "metadata": {
        "id": "wu2gurCMZoQU",
        "colab_type": "code",
        "colab": {}
      },
      "source": [
        ""
      ],
      "execution_count": 7,
      "outputs": []
    },
    {
      "cell_type": "code",
      "metadata": {
        "colab_type": "code",
        "id": "_HbZLQpKZnMk",
        "colab": {}
      },
      "source": [
        "test = test.batch(25000)\n",
        "for features in test.take(1):\n",
        "    X_test.append(features['text'].numpy())\n",
        "    y_test.append(features['label'].numpy())"
      ],
      "execution_count": 8,
      "outputs": []
    },
    {
      "cell_type": "code",
      "metadata": {
        "colab_type": "code",
        "id": "Fig_vaxKZnMy",
        "colab": {}
      },
      "source": [
        "X_test = X_test[0]\n",
        "y_test = y_test[0]"
      ],
      "execution_count": 9,
      "outputs": []
    },
    {
      "cell_type": "code",
      "metadata": {
        "colab_type": "code",
        "id": "aXq7RHWrZnM4",
        "colab": {
          "base_uri": "https://localhost:8080/",
          "height": 34
        },
        "outputId": "de46748c-c083-4ba8-8164-3e039cb614f4"
      },
      "source": [
        "len(X_test), len(y_test)"
      ],
      "execution_count": 10,
      "outputs": [
        {
          "output_type": "execute_result",
          "data": {
            "text/plain": [
              "(25000, 25000)"
            ]
          },
          "metadata": {
            "tags": []
          },
          "execution_count": 10
        }
      ]
    },
    {
      "cell_type": "code",
      "metadata": {
        "id": "s4y7Z0HgaPQl",
        "colab_type": "code",
        "colab": {}
      },
      "source": [
        ""
      ],
      "execution_count": 10,
      "outputs": []
    },
    {
      "cell_type": "markdown",
      "metadata": {
        "id": "cQXczaa1Z8Vb",
        "colab_type": "text"
      },
      "source": [
        "## TF-IDF Vectorizer\n",
        "\n",
        "Term Document Matrix which as a Bag of Words representation"
      ]
    },
    {
      "cell_type": "code",
      "metadata": {
        "id": "sVkIbjD6XY5L",
        "colab_type": "code",
        "colab": {}
      },
      "source": [
        "vectorizer = TfidfVectorizer(ngram_range=(1,2),\n",
        "                             min_df=3, max_df=0.9, strip_accents='unicode', use_idf=1,\n",
        "                             smooth_idf=1, sublinear_tf=1 )"
      ],
      "execution_count": 11,
      "outputs": []
    },
    {
      "cell_type": "code",
      "metadata": {
        "id": "j6ywTlwbXZNo",
        "colab_type": "code",
        "colab": {}
      },
      "source": [
        "vectorizer.fit(X_train)"
      ],
      "execution_count": null,
      "outputs": []
    },
    {
      "cell_type": "code",
      "metadata": {
        "id": "j_0PtIclaRfH",
        "colab_type": "code",
        "colab": {}
      },
      "source": [
        "train_trm_doc = vectorizer.transform(X_train)"
      ],
      "execution_count": 13,
      "outputs": []
    },
    {
      "cell_type": "code",
      "metadata": {
        "id": "Q88MfDhEbj3m",
        "colab_type": "code",
        "colab": {}
      },
      "source": [
        "test_trm_doc = vectorizer.transform(X_test)"
      ],
      "execution_count": 14,
      "outputs": []
    },
    {
      "cell_type": "code",
      "metadata": {
        "id": "1JD6HukgaRmY",
        "colab_type": "code",
        "colab": {
          "base_uri": "https://localhost:8080/",
          "height": 34
        },
        "outputId": "41ea1370-2c1e-494d-f5ac-46cbb0698a9f"
      },
      "source": [
        "train_trm_doc.shape, test_trm_doc.shape"
      ],
      "execution_count": 15,
      "outputs": [
        {
          "output_type": "execute_result",
          "data": {
            "text/plain": [
              "((25000, 267897), (25000, 267897))"
            ]
          },
          "metadata": {
            "tags": []
          },
          "execution_count": 15
        }
      ]
    },
    {
      "cell_type": "markdown",
      "metadata": {
        "id": "jb2KT_mJCKo-",
        "colab_type": "text"
      },
      "source": [
        "Returns sparse matrix stored in compressed sparse row(csr) format"
      ]
    },
    {
      "cell_type": "code",
      "metadata": {
        "id": "Yx1wZwkRaRxt",
        "colab_type": "code",
        "colab": {
          "base_uri": "https://localhost:8080/",
          "height": 51
        },
        "outputId": "73f851a2-036f-4b7b-e558-e1c4ced458c2"
      },
      "source": [
        "train_trm_doc[1]"
      ],
      "execution_count": 16,
      "outputs": [
        {
          "output_type": "execute_result",
          "data": {
            "text/plain": [
              "<1x267897 sparse matrix of type '<class 'numpy.float64'>'\n",
              "\twith 148 stored elements in Compressed Sparse Row format>"
            ]
          },
          "metadata": {
            "tags": []
          },
          "execution_count": 16
        }
      ]
    },
    {
      "cell_type": "code",
      "metadata": {
        "id": "CMf7OR30apbL",
        "colab_type": "code",
        "colab": {
          "base_uri": "https://localhost:8080/",
          "height": 34
        },
        "outputId": "0abb5f6f-1a46-4351-e8ee-063cdbc27e98"
      },
      "source": [
        "len(X_train[1].decode(\"utf-8\").split(\" \"))"
      ],
      "execution_count": 17,
      "outputs": [
        {
          "output_type": "execute_result",
          "data": {
            "text/plain": [
              "112"
            ]
          },
          "metadata": {
            "tags": []
          },
          "execution_count": 17
        }
      ]
    },
    {
      "cell_type": "code",
      "metadata": {
        "id": "RKrkydf6dA0M",
        "colab_type": "code",
        "colab": {}
      },
      "source": [
        ""
      ],
      "execution_count": 17,
      "outputs": []
    },
    {
      "cell_type": "markdown",
      "metadata": {
        "id": "c9_JpH5X3Fzn",
        "colab_type": "text"
      },
      "source": [
        "## Feature Probability"
      ]
    },
    {
      "cell_type": "code",
      "metadata": {
        "id": "6JwV5Yh3dBEt",
        "colab_type": "code",
        "colab": {}
      },
      "source": [
        "def pr(x, y_i, y):\n",
        "    p = x[y==y_i].sum(0)\n",
        "    return (p+1) / ((y==y_i).sum()+1)"
      ],
      "execution_count": 18,
      "outputs": []
    },
    {
      "cell_type": "code",
      "metadata": {
        "id": "clnvxx9bdBMw",
        "colab_type": "code",
        "colab": {}
      },
      "source": [
        "out = pr(train_trm_doc, 1, y_train)"
      ],
      "execution_count": 19,
      "outputs": []
    },
    {
      "cell_type": "code",
      "metadata": {
        "id": "NAuQoQbcdBJ8",
        "colab_type": "code",
        "colab": {
          "base_uri": "https://localhost:8080/",
          "height": 34
        },
        "outputId": "1b219b49-d337-4546-8f63-f02161061aac"
      },
      "source": [
        "out.shape"
      ],
      "execution_count": 20,
      "outputs": [
        {
          "output_type": "execute_result",
          "data": {
            "text/plain": [
              "(1, 267897)"
            ]
          },
          "metadata": {
            "tags": []
          },
          "execution_count": 20
        }
      ]
    },
    {
      "cell_type": "code",
      "metadata": {
        "id": "Az95hqbMapiD",
        "colab_type": "code",
        "colab": {}
      },
      "source": [
        ""
      ],
      "execution_count": 20,
      "outputs": []
    },
    {
      "cell_type": "markdown",
      "metadata": {
        "id": "RxJ-DedX3Ncm",
        "colab_type": "text"
      },
      "source": [
        "#### What is the above function doing?"
      ]
    },
    {
      "cell_type": "code",
      "metadata": {
        "id": "vsEOarrjapw1",
        "colab_type": "code",
        "colab": {}
      },
      "source": [
        "X = [\"This movie is good\",\n",
        "     \"The movie is good\",\n",
        "     \"This movie is bad\",\n",
        "     \"The movie is bad\"]\n",
        "y = np.array([1., 1., 0., 0.])"
      ],
      "execution_count": 21,
      "outputs": []
    },
    {
      "cell_type": "code",
      "metadata": {
        "id": "ktgwAifQcXgh",
        "colab_type": "code",
        "colab": {}
      },
      "source": [
        "vec = CountVectorizer()"
      ],
      "execution_count": 22,
      "outputs": []
    },
    {
      "cell_type": "code",
      "metadata": {
        "id": "9s_jW_7WcYZ9",
        "colab_type": "code",
        "colab": {}
      },
      "source": [
        "X_doc = vec.fit_transform(X)"
      ],
      "execution_count": 23,
      "outputs": []
    },
    {
      "cell_type": "code",
      "metadata": {
        "id": "qxQ3rGaSvERH",
        "colab_type": "code",
        "colab": {}
      },
      "source": [
        "reverse = {k:v for v, k in vec.vocabulary_.items()}"
      ],
      "execution_count": 24,
      "outputs": []
    },
    {
      "cell_type": "code",
      "metadata": {
        "id": "52yQQGrhwTrO",
        "colab_type": "code",
        "colab": {
          "base_uri": "https://localhost:8080/",
          "height": 34
        },
        "outputId": "344e54b8-5af2-438c-ba3a-722deae3ad1c"
      },
      "source": [
        "X_doc.toarray().T[0]"
      ],
      "execution_count": 25,
      "outputs": [
        {
          "output_type": "execute_result",
          "data": {
            "text/plain": [
              "array([0, 0, 1, 1])"
            ]
          },
          "metadata": {
            "tags": []
          },
          "execution_count": 25
        }
      ]
    },
    {
      "cell_type": "code",
      "metadata": {
        "id": "aRbYgsHut5c5",
        "colab_type": "code",
        "colab": {}
      },
      "source": [
        "columns = []\n",
        "values = []\n",
        "for idx in range(6):\n",
        "    columns.append(reverse[idx])\n",
        "    values.append(X_doc.toarray().T[idx])\n",
        "df = pd.DataFrame.from_dict(dict(zip(columns, values)))\n",
        "df.index = X"
      ],
      "execution_count": 26,
      "outputs": []
    },
    {
      "cell_type": "code",
      "metadata": {
        "id": "A6PCnaN0xFM7",
        "colab_type": "code",
        "colab": {
          "base_uri": "https://localhost:8080/",
          "height": 173
        },
        "outputId": "efe4270b-47c4-411c-bff2-9273ec8a1960"
      },
      "source": [
        "df"
      ],
      "execution_count": 27,
      "outputs": [
        {
          "output_type": "execute_result",
          "data": {
            "text/html": [
              "<div>\n",
              "<style scoped>\n",
              "    .dataframe tbody tr th:only-of-type {\n",
              "        vertical-align: middle;\n",
              "    }\n",
              "\n",
              "    .dataframe tbody tr th {\n",
              "        vertical-align: top;\n",
              "    }\n",
              "\n",
              "    .dataframe thead th {\n",
              "        text-align: right;\n",
              "    }\n",
              "</style>\n",
              "<table border=\"1\" class=\"dataframe\">\n",
              "  <thead>\n",
              "    <tr style=\"text-align: right;\">\n",
              "      <th></th>\n",
              "      <th>bad</th>\n",
              "      <th>good</th>\n",
              "      <th>is</th>\n",
              "      <th>movie</th>\n",
              "      <th>the</th>\n",
              "      <th>this</th>\n",
              "    </tr>\n",
              "  </thead>\n",
              "  <tbody>\n",
              "    <tr>\n",
              "      <th>This movie is good</th>\n",
              "      <td>0</td>\n",
              "      <td>1</td>\n",
              "      <td>1</td>\n",
              "      <td>1</td>\n",
              "      <td>0</td>\n",
              "      <td>1</td>\n",
              "    </tr>\n",
              "    <tr>\n",
              "      <th>The movie is good</th>\n",
              "      <td>0</td>\n",
              "      <td>1</td>\n",
              "      <td>1</td>\n",
              "      <td>1</td>\n",
              "      <td>1</td>\n",
              "      <td>0</td>\n",
              "    </tr>\n",
              "    <tr>\n",
              "      <th>This movie is bad</th>\n",
              "      <td>1</td>\n",
              "      <td>0</td>\n",
              "      <td>1</td>\n",
              "      <td>1</td>\n",
              "      <td>0</td>\n",
              "      <td>1</td>\n",
              "    </tr>\n",
              "    <tr>\n",
              "      <th>The movie is bad</th>\n",
              "      <td>1</td>\n",
              "      <td>0</td>\n",
              "      <td>1</td>\n",
              "      <td>1</td>\n",
              "      <td>1</td>\n",
              "      <td>0</td>\n",
              "    </tr>\n",
              "  </tbody>\n",
              "</table>\n",
              "</div>"
            ],
            "text/plain": [
              "                    bad  good  is  movie  the  this\n",
              "This movie is good    0     1   1      1    0     1\n",
              "The movie is good     0     1   1      1    1     0\n",
              "This movie is bad     1     0   1      1    0     1\n",
              "The movie is bad      1     0   1      1    1     0"
            ]
          },
          "metadata": {
            "tags": []
          },
          "execution_count": 27
        }
      ]
    },
    {
      "cell_type": "code",
      "metadata": {
        "id": "gG9mk6UPcYeT",
        "colab_type": "code",
        "colab": {
          "base_uri": "https://localhost:8080/",
          "height": 34
        },
        "outputId": "eb7e1d34-6d7d-43b0-b4ea-6081c5ffd2dd"
      },
      "source": [
        "print(f\"p(f|y=1): {pr(X_doc, 0., y)}\")"
      ],
      "execution_count": 28,
      "outputs": [
        {
          "output_type": "stream",
          "text": [
            "p(f|y=1): [[1.         0.33333333 1.         1.         0.66666667 0.66666667]]\n"
          ],
          "name": "stdout"
        }
      ]
    },
    {
      "cell_type": "code",
      "metadata": {
        "id": "pssN7Wg1ifmL",
        "colab_type": "code",
        "colab": {
          "base_uri": "https://localhost:8080/",
          "height": 34
        },
        "outputId": "6395989d-a741-4b40-e176-aefa375c61b8"
      },
      "source": [
        "print(f\"p(f|y=1): {pr(X_doc, 1., y)}\")"
      ],
      "execution_count": 29,
      "outputs": [
        {
          "output_type": "stream",
          "text": [
            "p(f|y=1): [[0.33333333 1.         1.         1.         0.66666667 0.66666667]]\n"
          ],
          "name": "stdout"
        }
      ]
    },
    {
      "cell_type": "markdown",
      "metadata": {
        "id": "gscqYdlSDFrU",
        "colab_type": "text"
      },
      "source": [
        "\\begin{array}{ | l | l | l | l | l | l | l | l | l | }\n",
        "\\hline\n",
        "\tFEATURES (f) &  & \\  & \\  & \\  & \\  & \\  & \\  & \\  \\\\ \\hline\n",
        "\tTEXT & LABEL &  & bad & good & is & movie & the  & this \\\\ \\hline\n",
        "\tThis movie is good & 1.0 &  & 0.0 & 1.0 & 1.0 & 1.0 & 0.0 & 1.0 \\\\ \\hline\n",
        "\tThe movie is good & 1.0 &  & 0.0 & 1.0 & 1.0 & 1.0 & 1.0 & 0.0 \\\\ \\hline\n",
        "\tThis movie is bad & 0.0 &  & 1.0 & 0.0 & 1.0 & 1.0 & 0.0 & 1.0 \\\\ \\hline\n",
        "\tThe movie is bad & 0.0 &  & 1.0 & 0.0 & 1.0 & 1.0 & 1.0 & 0.0 \\\\ \\hline\n",
        "\t &  &  &  & \\  & \\  & \\  & \\  & \\  \\\\ \\hline\n",
        "\t & Ones (smoothing) & 1.0 & 1.0 & 1.0 & 1.0 & 1.0 & 1.0 & \\  \\\\ \\hline\n",
        "\t &  & sum(label=1) & 0.0 & 2.0 & 2.0 & 2.0 & 1.0 & 1.0 \\\\ \\hline\n",
        "\t &  & p(f | 1) & 0.333 & 1.0 & 1.0 & 1.0 & 0.667 & 0.667 \\\\ \\hline\n",
        "\t &  &  &  &  &  &  &  &  \\\\ \\hline\n",
        "\t &  & sum(label=0) & 2.0 & 0.0 & 2.0 & 2.0 & 1.0 & 1.0 \\\\ \\hline\n",
        "\t &  & p(f | 0) & 1.0 & 0.333 & 1.0 & 1.0 & 0.667 & 0.667 \\\\ \\hline\n",
        "\t &  &  &  &  &  & \\  & \\  & \\  \\\\ \\hline\n",
        "\\end{array}\n"
      ]
    },
    {
      "cell_type": "code",
      "metadata": {
        "id": "36MErZX6ifjx",
        "colab_type": "code",
        "colab": {}
      },
      "source": [
        ""
      ],
      "execution_count": 29,
      "outputs": []
    },
    {
      "cell_type": "markdown",
      "metadata": {
        "id": "Urxyy5JcC4iZ",
        "colab_type": "text"
      },
      "source": [
        "## Model\n",
        "\n",
        "A logistic regression classifier using `log-count ratios` from Naive Bayes"
      ]
    },
    {
      "cell_type": "code",
      "metadata": {
        "id": "obK0hpxUifdx",
        "colab_type": "code",
        "colab": {}
      },
      "source": [
        "def get_mdl(X, y):\n",
        "    r = np.log(pr(X, 1,y) / pr(X, 0,y))\n",
        "    m = LogisticRegression(C=4, dual=True, solver='liblinear')\n",
        "    X_nb = X.multiply(r)\n",
        "    return m.fit(X_nb, y), r"
      ],
      "execution_count": 37,
      "outputs": []
    },
    {
      "cell_type": "markdown",
      "metadata": {
        "id": "CLwrELNr4RUX",
        "colab_type": "text"
      },
      "source": [
        "* `dual=True` - Useful when *n_features* `>` *n_samples*"
      ]
    },
    {
      "cell_type": "code",
      "metadata": {
        "id": "MnGEaazxifa5",
        "colab_type": "code",
        "colab": {}
      },
      "source": [
        "model, ratio = get_mdl(train_trm_doc, y_train)"
      ],
      "execution_count": 38,
      "outputs": []
    },
    {
      "cell_type": "code",
      "metadata": {
        "id": "iypk_Ype5r5R",
        "colab_type": "code",
        "colab": {
          "base_uri": "https://localhost:8080/",
          "height": 34
        },
        "outputId": "dd601b41-7aed-413e-86da-dccd0312600d"
      },
      "source": [
        "ratio.shape"
      ],
      "execution_count": 41,
      "outputs": [
        {
          "output_type": "execute_result",
          "data": {
            "text/plain": [
              "(1, 267897)"
            ]
          },
          "metadata": {
            "tags": []
          },
          "execution_count": 41
        }
      ]
    },
    {
      "cell_type": "code",
      "metadata": {
        "id": "VN4MMcjt5r2X",
        "colab_type": "code",
        "colab": {}
      },
      "source": [
        "y_pred = model.predict_proba(test_trm_doc.multiply(ratio))"
      ],
      "execution_count": 58,
      "outputs": []
    },
    {
      "cell_type": "code",
      "metadata": {
        "id": "Pmg8jtOb59tl",
        "colab_type": "code",
        "colab": {}
      },
      "source": [
        "y_pred = np.argmax(y_pred, axis=1)"
      ],
      "execution_count": 60,
      "outputs": []
    },
    {
      "cell_type": "code",
      "metadata": {
        "id": "2frZAlbg59xx",
        "colab_type": "code",
        "colab": {
          "base_uri": "https://localhost:8080/",
          "height": 34
        },
        "outputId": "47b07f56-05d1-4809-e017-e9ec54e9f924"
      },
      "source": [
        "y_test[:5], y_pred[:5]"
      ],
      "execution_count": 62,
      "outputs": [
        {
          "output_type": "execute_result",
          "data": {
            "text/plain": [
              "(array([1, 1, 0, 0, 1]), array([1, 1, 0, 0, 1]))"
            ]
          },
          "metadata": {
            "tags": []
          },
          "execution_count": 62
        }
      ]
    },
    {
      "cell_type": "code",
      "metadata": {
        "id": "63Y_MSIf6IZK",
        "colab_type": "code",
        "colab": {
          "base_uri": "https://localhost:8080/",
          "height": 34
        },
        "outputId": "017b6655-2410-42ad-a216-ee7bc7815ba3"
      },
      "source": [
        "print(f\"Accuracy: {accuracy_score(y_test, y_pred)}\")"
      ],
      "execution_count": 78,
      "outputs": [
        {
          "output_type": "stream",
          "text": [
            "Accuracy: 0.90112\n"
          ],
          "name": "stdout"
        }
      ]
    },
    {
      "cell_type": "code",
      "metadata": {
        "id": "Jlx-ytnj6qDV",
        "colab_type": "code",
        "colab": {
          "base_uri": "https://localhost:8080/",
          "height": 34
        },
        "outputId": "5ab41fe8-c410-48ac-c657-07aada1860ff"
      },
      "source": [
        "print(f\"ROC AUC Score: {roc_auc_score(y_test, y_pred)}\")"
      ],
      "execution_count": 81,
      "outputs": [
        {
          "output_type": "stream",
          "text": [
            "ROC AUC Score: 0.90112\n"
          ],
          "name": "stdout"
        }
      ]
    },
    {
      "cell_type": "code",
      "metadata": {
        "id": "_ZluUfy77IFs",
        "colab_type": "code",
        "colab": {}
      },
      "source": [
        ""
      ],
      "execution_count": null,
      "outputs": []
    },
    {
      "cell_type": "markdown",
      "metadata": {
        "id": "e22PAwpy96kw",
        "colab_type": "text"
      },
      "source": [
        "## Sklearn Estimator"
      ]
    },
    {
      "cell_type": "code",
      "metadata": {
        "id": "RYmcRDh57IDr",
        "colab_type": "code",
        "colab": {}
      },
      "source": [
        "from sklearn.base import BaseEstimator, ClassifierMixin\n",
        "from sklearn.utils.validation import check_X_y, check_is_fitted\n",
        "from sklearn.linear_model import LogisticRegression\n",
        "from scipy import sparse\n",
        "class NbSvmClassifier(BaseEstimator, ClassifierMixin):\n",
        "    def __init__(self, C=1.0, dual=False, n_jobs=1):\n",
        "        self.C = C\n",
        "        self.dual = dual\n",
        "        self.n_jobs = n_jobs\n",
        "\n",
        "    def predict(self, x):\n",
        "        # Verify that model has been fit\n",
        "        check_is_fitted(self, ['_r', '_clf'])\n",
        "        return self._clf.predict(x.multiply(self._r))\n",
        "\n",
        "    def predict_proba(self, x):\n",
        "        # Verify that model has been fit\n",
        "        check_is_fitted(self, ['_r', '_clf'])\n",
        "        return self._clf.predict_proba(x.multiply(self._r))\n",
        "\n",
        "    def fit(self, x, y):\n",
        "        # Check that X and y have correct shape\n",
        "        x, y = check_X_y(x, y, accept_sparse=True)\n",
        "\n",
        "        def pr(x, y_i, y):\n",
        "            p = x[y==y_i].sum(0)\n",
        "            return (p+1) / ((y==y_i).sum()+1)\n",
        "\n",
        "        self._r = sparse.csr_matrix(np.log(pr(x,1,y) / pr(x,0,y)))\n",
        "        x_nb = x.multiply(self._r)\n",
        "        self._clf = LogisticRegression(C=self.C,\n",
        "                                       solver='liblinear', \n",
        "                                       dual=self.dual, \n",
        "                                       n_jobs=self.n_jobs).fit(x_nb, y)\n",
        "        return self"
      ],
      "execution_count": 71,
      "outputs": []
    },
    {
      "cell_type": "code",
      "metadata": {
        "id": "kWL6wdcm7IA0",
        "colab_type": "code",
        "colab": {}
      },
      "source": [
        "model = NbSvmClassifier(C=4, dual=True, n_jobs=-1).fit(train_trm_doc, y_train)"
      ],
      "execution_count": null,
      "outputs": []
    },
    {
      "cell_type": "code",
      "metadata": {
        "id": "Z6FEyJKd7H-o",
        "colab_type": "code",
        "colab": {}
      },
      "source": [
        "y_preds = model.predict_proba(test_trm_doc)"
      ],
      "execution_count": 73,
      "outputs": []
    },
    {
      "cell_type": "code",
      "metadata": {
        "id": "lZx7NKga7jGn",
        "colab_type": "code",
        "colab": {}
      },
      "source": [
        "y_preds = np.argmax(y_preds, axis=1)"
      ],
      "execution_count": 74,
      "outputs": []
    },
    {
      "cell_type": "code",
      "metadata": {
        "id": "TfI4TbSz7jl7",
        "colab_type": "code",
        "colab": {
          "base_uri": "https://localhost:8080/",
          "height": 34
        },
        "outputId": "5ed282b1-cde0-4e8b-cfa6-542dafe51aea"
      },
      "source": [
        "print(f\"Accuracy: {accuracy_score(y_test, y_pred)}\")"
      ],
      "execution_count": 82,
      "outputs": [
        {
          "output_type": "stream",
          "text": [
            "Accuracy: 0.90112\n"
          ],
          "name": "stdout"
        }
      ]
    },
    {
      "cell_type": "code",
      "metadata": {
        "id": "Yr-rKVHH7jua",
        "colab_type": "code",
        "colab": {
          "base_uri": "https://localhost:8080/",
          "height": 34
        },
        "outputId": "f8293674-5c5f-4819-850c-744db5244268"
      },
      "source": [
        "print(f\"ROC AUC Score: {roc_auc_score(y_test, y_pred)}\")"
      ],
      "execution_count": 83,
      "outputs": [
        {
          "output_type": "stream",
          "text": [
            "ROC AUC Score: 0.90112\n"
          ],
          "name": "stdout"
        }
      ]
    },
    {
      "cell_type": "code",
      "metadata": {
        "id": "60tzJOOpDqoc",
        "colab_type": "code",
        "colab": {}
      },
      "source": [
        ""
      ],
      "execution_count": null,
      "outputs": []
    }
  ]
}