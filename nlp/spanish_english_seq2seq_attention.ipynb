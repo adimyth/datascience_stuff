{
  "nbformat": 4,
  "nbformat_minor": 0,
  "metadata": {
    "colab": {
      "name": "spanish-english-seq2seq-attention",
      "provenance": [],
      "collapsed_sections": [],
      "toc_visible": true,
      "machine_shape": "hm",
      "authorship_tag": "ABX9TyPjcLSK/vgDarTqHF7MA+TD",
      "include_colab_link": true
    },
    "kernelspec": {
      "name": "python3",
      "display_name": "Python 3"
    },
    "accelerator": "GPU"
  },
  "cells": [
    {
      "cell_type": "markdown",
      "metadata": {
        "id": "view-in-github",
        "colab_type": "text"
      },
      "source": [
        "<a href=\"https://colab.research.google.com/github/adimyth/interesting_stuff/blob/master/nlp/spanish_english_seq2seq_attention.ipynb\" target=\"_parent\"><img src=\"https://colab.research.google.com/assets/colab-badge.svg\" alt=\"Open In Colab\"/></a>"
      ]
    },
    {
      "cell_type": "markdown",
      "metadata": {
        "id": "Xdii1pjciLmU",
        "colab_type": "text"
      },
      "source": [
        "# Attention is all you need\n",
        "\n",
        "**Resources**\n",
        "\n",
        "* [Lilian Weng's Blog](https://lilianweng.github.io/lil-log/2018/06/24/attention-attention.html)\n",
        "* [Guillaume Genthial blog](https://guillaumegenthial.github.io/sequence-to-sequence.html)\n",
        "* [Machine Learning Mastery](https://machinelearningmastery.com/teacher-forcing-for-recurrent-neural-networks/) \n",
        "\n",
        "Attention Mechanisms in Neural Networks are (very) loosely based on the visual attention mechanism found in humans\n",
        "\n",
        "**Issues with Seq2Seq Models**\n",
        "\n",
        "![seq-2-seq](https://lilianweng.github.io/lil-log/assets/images/encoder-decoder-example.png)\n",
        "\n",
        "* Unable to capture long term dependencies. Long-range dependencies still tricky despite of gating models like LSTMs and GRUs.\n",
        "* Handle input sequence word by word.\n",
        "* In translation systems, only the last hidden state is passed to the decoder, but it is not good enough to capture all the information pertaining to translation.\n",
        "\n",
        "> You can’t cram the meaning of a whole %&! # sentence into a single &!#* vector!\n",
        "\n",
        "In an attention mechanism, we do not encode the entire sequence into a single vector, rather allow decoder to attend to different parts of the source sentence at each step of the output generation. \n",
        "\n",
        "Each decoder output word depends on a weighted combination of all the input states, not just the last state. Attention allows us to interpret and visualise what the model is doing as heatmaps. \n",
        "\n",
        "## DECODER\n",
        "\n",
        "Rather than building a single context vector out of the encoder’s last hidden state, attention adds shortcuts between the context vector and the entire source input. The weights of these shortcut connections are customizable for each output element. \n",
        "\n",
        "Consider, source sequence `x` of length `n` and target sequence `y` of length `m` \n",
        "\n",
        "\\begin{aligned}\n",
        "\\mathbf{x} &= [x_1, x_2, \\dots, x_n] \\\\\n",
        "\\mathbf{y} &= [y_1, y_2, \\dots, y_m]\n",
        "\\end{aligned}\n",
        "\n",
        "Encoder produces hiddent state $h_{i}$ for each input timestep. The decoder has hidden state, \n",
        "$s_{t}=f(s_{t-1}, y_{t-1}, c_{t})$ for $t=1, ..., m$, where\n",
        "\n",
        "\\begin{aligned}\n",
        "\\mathbf{c}_t &= \\sum_{i=1}^n \\alpha_{t,i} \\boldsymbol{h}_i & \\small{\\text{; Context vector for output }y_t}\\\\\n",
        "\\alpha_{t,i} &= \\text{align}(y_t, x_i) & \\small{\\text{; How well two words }y_t\\text{ and }x_i\\text{ are aligned.}}\\\\\n",
        "&= \\frac{\\exp(\\text{score}(\\boldsymbol{s}_{t-1}, \\boldsymbol{h}_i))}{\\sum_{i'=1}^n \\exp(\\text{score}(\\boldsymbol{s}_{t-1}, \\boldsymbol{h}_{i'}))} & \\small{\\text{; Softmax of some predefined alignment score.}}.\n",
        "\\end{aligned}\n",
        "\n",
        "\n",
        "$\\alpha_{t,i}$ is the score for the input at position $i$ and output at position $t$ i.e for the pair $(y_{t}, x_{i})$\n",
        "\n",
        "In the diagram below - \n",
        "* f - score function\n",
        "* g - dense layer\n",
        "\n",
        "![Attention](https://guillaumegenthial.github.io/assets/img2latex/seq2seq_attention_mechanism_new.svg)\n",
        "\n",
        "### Bahdanau\n",
        "\n",
        "$$score(s_t, h_i) = {v}_a^\\top \\tanh({W}_a[s_t;h_i])$$\n",
        "where both $v_a$ and $W_a$ are weight matrices to be learned in the alignment model.\n",
        "\n",
        "**Pseudo Code**\n",
        "```python\n",
        "1. score = dense[tanh(dense(encoder_output) + dense(decoder_hidden_state))]\n",
        "2. attention_weights = softmax(score, axis=1)\n",
        "3. context_vector = sum(attention_weights*encoder_output, axis=1)\n",
        "4. dec_embedding = embedding(decoder_input)\n",
        "5. merged_vector = concat(dec_embedding, context_vector)\n",
        "6. decoder_output, decoder_hidden_states = LSTM(merged_vector)\n",
        "```\n",
        "\n",
        "### Luong\n",
        "\n",
        "$$score(s_t, h_i) = s_t^\\top\\mathbf{W}_a{h}_i$$\n",
        "where $W_a$ is a trainable weight matrix in the attention layer.\n",
        "\n",
        "Decoder RNN gives only the hidden state vector, which is used to calculate the *output vector*, as well as combined with the context vector to pass as input to the next decoder unit. \n",
        "\n",
        "##  TEACHER FORCING\n",
        "\n",
        "There are sequence prediction models that use the output from the last time step `y(t-1)` as input for the model at the current time step `X(t)`. They can suffer from the following problem - \n",
        "* Slow convergence.\n",
        "* Model instability.\n",
        "* Poor skill\n",
        "\n",
        "Teacher forcing is a method for quickly and efficiently training recurrent neural network models that use the ground truth from a prior time step as input. It works by using the actual or expected output from the training dataset at the current time step `y(t)` as input in the next time step `X(t+1)`, rather than the output generated by the network.\n",
        "\n",
        "![img](https://guillaumegenthial.github.io/assets/img2latex/img2latex_training.svg)"
      ]
    },
    {
      "cell_type": "markdown",
      "metadata": {
        "id": "mm8EvwjwggXH",
        "colab_type": "text"
      },
      "source": [
        "## Dataset\n",
        "English to Spanish Conversion - http://www.manythings.org/anki/spa-eng.zip"
      ]
    },
    {
      "cell_type": "code",
      "metadata": {
        "id": "aZW-uEgIf7Yy",
        "colab_type": "code",
        "outputId": "9fc035f3-4e2c-4622-93ba-37e0deaa6fc6",
        "colab": {
          "base_uri": "https://localhost:8080/",
          "height": 204
        }
      },
      "source": [
        "!wget http://www.manythings.org/anki/spa-eng.zip"
      ],
      "execution_count": 0,
      "outputs": [
        {
          "output_type": "stream",
          "text": [
            "--2020-04-20 15:03:23--  http://www.manythings.org/anki/spa-eng.zip\n",
            "Resolving www.manythings.org (www.manythings.org)... 104.24.109.196, 104.24.108.196, 2606:4700:3037::6818:6cc4, ...\n",
            "Connecting to www.manythings.org (www.manythings.org)|104.24.109.196|:80... connected.\n",
            "HTTP request sent, awaiting response... 200 OK\n",
            "Length: 4781548 (4.6M) [application/zip]\n",
            "Saving to: ‘spa-eng.zip’\n",
            "\n",
            "\rspa-eng.zip           0%[                    ]       0  --.-KB/s               \rspa-eng.zip          18%[==>                 ] 863.10K  3.87MB/s               \rspa-eng.zip         100%[===================>]   4.56M  15.8MB/s    in 0.3s    \n",
            "\n",
            "2020-04-20 15:03:24 (15.8 MB/s) - ‘spa-eng.zip’ saved [4781548/4781548]\n",
            "\n"
          ],
          "name": "stdout"
        }
      ]
    },
    {
      "cell_type": "code",
      "metadata": {
        "id": "m_CfMoXrhPJ6",
        "colab_type": "code",
        "outputId": "d9c8505a-182b-43ff-a487-2b445b45225e",
        "colab": {
          "base_uri": "https://localhost:8080/",
          "height": 187
        }
      },
      "source": [
        "!unzip -l spa-eng.zip\n",
        "!unzip spa-eng.zip"
      ],
      "execution_count": 0,
      "outputs": [
        {
          "output_type": "stream",
          "text": [
            "Archive:  spa-eng.zip\n",
            "  Length      Date    Time    Name\n",
            "---------  ---------- -----   ----\n",
            "     1441  2020-03-15 02:17   _about.txt\n",
            " 18493172  2020-03-15 02:17   spa.txt\n",
            "---------                     -------\n",
            " 18494613                     2 files\n",
            "Archive:  spa-eng.zip\n",
            "  inflating: _about.txt              \n",
            "  inflating: spa.txt                 \n"
          ],
          "name": "stdout"
        }
      ]
    },
    {
      "cell_type": "code",
      "metadata": {
        "id": "LrLwTegngpaq",
        "colab_type": "code",
        "colab": {}
      },
      "source": [
        "from collections import Counter\n",
        "from google.colab import files\n",
        "import matplotlib.pyplot as plt\n",
        "from itertools import islice\n",
        "import math\n",
        "import numpy as np\n",
        "import pandas as pd\n",
        "import random\n",
        "import re\n",
        "import requests\n",
        "import seaborn as sns\n",
        "import string\n",
        "from string import digits\n",
        "from sklearn.utils import shuffle\n",
        "from sklearn.model_selection import train_test_split\n",
        "import tensorflow as tf\n",
        "from tensorflow.keras.callbacks import CSVLogger, EarlyStopping\n",
        "from tensorflow.keras.layers import Input, LSTM, Embedding, Dense\n",
        "from tensorflow.keras.models import Model, load_model\n",
        "from tensorflow.keras.utils import plot_model"
      ],
      "execution_count": 0,
      "outputs": []
    },
    {
      "cell_type": "code",
      "metadata": {
        "id": "QXwoZpIXWvrb",
        "colab_type": "code",
        "colab": {}
      },
      "source": [
        "from tensorflow.python.framework.ops import disable_eager_execution, enable_eager_execution\n",
        "disable_eager_execution()"
      ],
      "execution_count": 0,
      "outputs": []
    },
    {
      "cell_type": "markdown",
      "metadata": {
        "id": "_cE9QLnWWwkQ",
        "colab_type": "text"
      },
      "source": [
        "Disabling eager execution because all zeros mask raises some CuDNN kernel level issue. Refere [here](https://github.com/tensorflow/tensorflow/issues/33148)"
      ]
    },
    {
      "cell_type": "code",
      "metadata": {
        "id": "V_QqGC99gz1Q",
        "colab_type": "code",
        "colab": {}
      },
      "source": [
        "%matplotlib inline\n",
        "sns.set_style(\"whitegrid\")"
      ],
      "execution_count": 0,
      "outputs": []
    },
    {
      "cell_type": "code",
      "metadata": {
        "id": "Ps65fz_BhFDN",
        "colab_type": "code",
        "colab": {}
      },
      "source": [
        "lines = pd.read_table('spa.txt', names=['english', 'spanish', 'attributes'])\n",
        "# lines = pd.DataFrame({\"english\": [\"Juan eats apples\"], \"spanish\": [\"Juan come manzanas\"], \"attributes\": \"\"})"
      ],
      "execution_count": 0,
      "outputs": []
    },
    {
      "cell_type": "code",
      "metadata": {
        "id": "x8uNdjbIh9pS",
        "colab_type": "code",
        "outputId": "b5c0abc9-58a5-45a4-871f-23049908f778",
        "colab": {
          "base_uri": "https://localhost:8080/",
          "height": 34
        }
      },
      "source": [
        "lines.shape"
      ],
      "execution_count": 0,
      "outputs": [
        {
          "output_type": "execute_result",
          "data": {
            "text/plain": [
              "(123770, 3)"
            ]
          },
          "metadata": {
            "tags": []
          },
          "execution_count": 7
        }
      ]
    },
    {
      "cell_type": "code",
      "metadata": {
        "id": "xHAiIbv6kEpz",
        "colab_type": "code",
        "colab": {}
      },
      "source": [
        "lines = lines.drop(columns=['attributes'])"
      ],
      "execution_count": 0,
      "outputs": []
    },
    {
      "cell_type": "code",
      "metadata": {
        "id": "YyK4Ck3kiG_Q",
        "colab_type": "code",
        "colab": {}
      },
      "source": [
        "for col in lines.columns:\n",
        "    # lowercase\n",
        "    lines[col] = lines[col].apply(lambda x: x.lower())\n",
        "    # remove quotes\n",
        "    lines[col] = lines[col].apply(lambda x: re.sub(\"'\", \"\", x))\n",
        "    # remove punctuations\n",
        "    lines[col] = lines[col].apply(lambda x: ''.join(ch for ch in x if ch not in set(string.punctuation)))\n",
        "    # remove numbers\n",
        "    remove_digits = str.maketrans('', '', digits)\n",
        "    lines[col] = lines[col].apply(lambda x: x.translate(remove_digits))\n",
        "    # remove unnecessary spaces\n",
        "    lines[col] = lines[col].apply(lambda x: x.strip())\n",
        "    lines[col] = lines[col].apply(lambda x: re.sub(\" +\", \" \", x))"
      ],
      "execution_count": 0,
      "outputs": []
    },
    {
      "cell_type": "code",
      "metadata": {
        "id": "j5XEID_D09DX",
        "colab_type": "code",
        "colab": {}
      },
      "source": [
        "# Add start and end tokens to target sequences\n",
        "lines['spanish'] = lines['spanish'].apply(lambda x : 'START_ '+ x + ' _END')"
      ],
      "execution_count": 0,
      "outputs": []
    },
    {
      "cell_type": "code",
      "metadata": {
        "id": "Bx2190qtjvfQ",
        "colab_type": "code",
        "colab": {}
      },
      "source": [
        "pd.set_option('display.max_colwidth', 100)"
      ],
      "execution_count": 0,
      "outputs": []
    },
    {
      "cell_type": "code",
      "metadata": {
        "id": "5yRVgA1miHJR",
        "colab_type": "code",
        "outputId": "f732bf30-2923-4182-f2dc-ba80c6a96485",
        "colab": {
          "base_uri": "https://localhost:8080/",
          "height": 359
        }
      },
      "source": [
        "lines.head(10)"
      ],
      "execution_count": 0,
      "outputs": [
        {
          "output_type": "execute_result",
          "data": {
            "text/html": [
              "<div>\n",
              "<style scoped>\n",
              "    .dataframe tbody tr th:only-of-type {\n",
              "        vertical-align: middle;\n",
              "    }\n",
              "\n",
              "    .dataframe tbody tr th {\n",
              "        vertical-align: top;\n",
              "    }\n",
              "\n",
              "    .dataframe thead th {\n",
              "        text-align: right;\n",
              "    }\n",
              "</style>\n",
              "<table border=\"1\" class=\"dataframe\">\n",
              "  <thead>\n",
              "    <tr style=\"text-align: right;\">\n",
              "      <th></th>\n",
              "      <th>english</th>\n",
              "      <th>spanish</th>\n",
              "    </tr>\n",
              "  </thead>\n",
              "  <tbody>\n",
              "    <tr>\n",
              "      <th>0</th>\n",
              "      <td>go</td>\n",
              "      <td>START_ ve _END</td>\n",
              "    </tr>\n",
              "    <tr>\n",
              "      <th>1</th>\n",
              "      <td>go</td>\n",
              "      <td>START_ vete _END</td>\n",
              "    </tr>\n",
              "    <tr>\n",
              "      <th>2</th>\n",
              "      <td>go</td>\n",
              "      <td>START_ vaya _END</td>\n",
              "    </tr>\n",
              "    <tr>\n",
              "      <th>3</th>\n",
              "      <td>go</td>\n",
              "      <td>START_ váyase _END</td>\n",
              "    </tr>\n",
              "    <tr>\n",
              "      <th>4</th>\n",
              "      <td>hi</td>\n",
              "      <td>START_ hola _END</td>\n",
              "    </tr>\n",
              "    <tr>\n",
              "      <th>5</th>\n",
              "      <td>run</td>\n",
              "      <td>START_ ¡corre _END</td>\n",
              "    </tr>\n",
              "    <tr>\n",
              "      <th>6</th>\n",
              "      <td>run</td>\n",
              "      <td>START_ ¡corran _END</td>\n",
              "    </tr>\n",
              "    <tr>\n",
              "      <th>7</th>\n",
              "      <td>run</td>\n",
              "      <td>START_ ¡corra _END</td>\n",
              "    </tr>\n",
              "    <tr>\n",
              "      <th>8</th>\n",
              "      <td>run</td>\n",
              "      <td>START_ ¡corred _END</td>\n",
              "    </tr>\n",
              "    <tr>\n",
              "      <th>9</th>\n",
              "      <td>run</td>\n",
              "      <td>START_ corred _END</td>\n",
              "    </tr>\n",
              "  </tbody>\n",
              "</table>\n",
              "</div>"
            ],
            "text/plain": [
              "  english              spanish\n",
              "0      go       START_ ve _END\n",
              "1      go     START_ vete _END\n",
              "2      go     START_ vaya _END\n",
              "3      go   START_ váyase _END\n",
              "4      hi     START_ hola _END\n",
              "5     run   START_ ¡corre _END\n",
              "6     run  START_ ¡corran _END\n",
              "7     run   START_ ¡corra _END\n",
              "8     run  START_ ¡corred _END\n",
              "9     run   START_ corred _END"
            ]
          },
          "metadata": {
            "tags": []
          },
          "execution_count": 12
        }
      ]
    },
    {
      "cell_type": "code",
      "metadata": {
        "id": "jvEJ-V-qFUtT",
        "colab_type": "code",
        "colab": {}
      },
      "source": [
        ""
      ],
      "execution_count": 0,
      "outputs": []
    },
    {
      "cell_type": "markdown",
      "metadata": {
        "id": "m70v150OlcO2",
        "colab_type": "text"
      },
      "source": [
        "## Creating Vocabulary\n",
        "Create vocabulary of english and spanish words"
      ]
    },
    {
      "cell_type": "code",
      "metadata": {
        "id": "MLQcyB9PiHRQ",
        "colab_type": "code",
        "outputId": "82abcc7b-6104-4103-dc81-0a7c86547b84",
        "colab": {
          "base_uri": "https://localhost:8080/",
          "height": 34
        }
      },
      "source": [
        "# English Vocab\n",
        "all_eng_words = set()\n",
        "for eng in lines['english']:\n",
        "    for word in eng.split():\n",
        "        if word not in all_eng_words:\n",
        "            all_eng_words.add(word)\n",
        "print(f\"English Vocab: {len(all_eng_words)}\")"
      ],
      "execution_count": 0,
      "outputs": [
        {
          "output_type": "stream",
          "text": [
            "English Vocab: 13475\n"
          ],
          "name": "stdout"
        }
      ]
    },
    {
      "cell_type": "code",
      "metadata": {
        "id": "xcSjwUliiHGz",
        "colab_type": "code",
        "outputId": "4893bd00-258a-4715-ff45-6a388b3e0e96",
        "colab": {
          "base_uri": "https://localhost:8080/",
          "height": 34
        }
      },
      "source": [
        "# Spanish Vocab\n",
        "all_spa_words = set()\n",
        "for spa in lines['spanish']:\n",
        "    for word in spa.split():\n",
        "        if word not in all_spa_words:\n",
        "            all_spa_words.add(word)\n",
        "print(f\"Spanish Vocab: {len(all_spa_words)}\")"
      ],
      "execution_count": 0,
      "outputs": [
        {
          "output_type": "stream",
          "text": [
            "Spanish Vocab: 27264\n"
          ],
          "name": "stdout"
        }
      ]
    },
    {
      "cell_type": "code",
      "metadata": {
        "id": "C2OhsOMTiHEO",
        "colab_type": "code",
        "outputId": "73ba5873-3773-4b7d-c16e-15b1b4d89c47",
        "colab": {
          "base_uri": "https://localhost:8080/",
          "height": 34
        }
      },
      "source": [
        "# Max Length of source sequence\n",
        "lenght_list_eng=[]\n",
        "for l in lines['english']:\n",
        "    lenght_list_eng.append(len(l.split(' ')))\n",
        "max_length_src = np.max(lenght_list_eng)\n",
        "print(f\"Max Length Sentence (English): {max_length_src}\")"
      ],
      "execution_count": 0,
      "outputs": [
        {
          "output_type": "stream",
          "text": [
            "Max Length Sentence (English): 47\n"
          ],
          "name": "stdout"
        }
      ]
    },
    {
      "cell_type": "code",
      "metadata": {
        "id": "GAuhsphZmGMZ",
        "colab_type": "code",
        "outputId": "e5ffc9ca-52a1-41ea-b689-f7cddf7841c9",
        "colab": {
          "base_uri": "https://localhost:8080/",
          "height": 34
        }
      },
      "source": [
        "# Max Length of target sequence\n",
        "lenght_list_spa=[]\n",
        "for l in lines['spanish']:\n",
        "    lenght_list_spa.append(len(l.split(' ')))\n",
        "max_length_tar = np.max(lenght_list_spa)\n",
        "print(f\"Max Length Sentence (Spanish): {max_length_src}\")"
      ],
      "execution_count": 0,
      "outputs": [
        {
          "output_type": "stream",
          "text": [
            "Max Length Sentence (Spanish): 47\n"
          ],
          "name": "stdout"
        }
      ]
    },
    {
      "cell_type": "code",
      "metadata": {
        "id": "EruJWzYonDep",
        "colab_type": "code",
        "outputId": "d681c962-ec90-480a-b66e-2fc9ff53c157",
        "colab": {
          "base_uri": "https://localhost:8080/",
          "height": 34
        }
      },
      "source": [
        "matches = [i for i, j in zip(lenght_list_eng, lenght_list_spa) if i == j]\n",
        "print(f\"Number of matches: {len(matches)} ({(len(matches)*100/lines.shape[0]):.2f})\")"
      ],
      "execution_count": 0,
      "outputs": [
        {
          "output_type": "stream",
          "text": [
            "Number of matches: 13865 (11.20)\n"
          ],
          "name": "stdout"
        }
      ]
    },
    {
      "cell_type": "code",
      "metadata": {
        "id": "GYSA4bPSmGdO",
        "colab_type": "code",
        "outputId": "ea1897bc-f4d9-485d-e35c-ab01845a1039",
        "colab": {
          "base_uri": "https://localhost:8080/",
          "height": 204
        }
      },
      "source": [
        "lines.head()"
      ],
      "execution_count": 0,
      "outputs": [
        {
          "output_type": "execute_result",
          "data": {
            "text/html": [
              "<div>\n",
              "<style scoped>\n",
              "    .dataframe tbody tr th:only-of-type {\n",
              "        vertical-align: middle;\n",
              "    }\n",
              "\n",
              "    .dataframe tbody tr th {\n",
              "        vertical-align: top;\n",
              "    }\n",
              "\n",
              "    .dataframe thead th {\n",
              "        text-align: right;\n",
              "    }\n",
              "</style>\n",
              "<table border=\"1\" class=\"dataframe\">\n",
              "  <thead>\n",
              "    <tr style=\"text-align: right;\">\n",
              "      <th></th>\n",
              "      <th>english</th>\n",
              "      <th>spanish</th>\n",
              "    </tr>\n",
              "  </thead>\n",
              "  <tbody>\n",
              "    <tr>\n",
              "      <th>0</th>\n",
              "      <td>go</td>\n",
              "      <td>START_ ve _END</td>\n",
              "    </tr>\n",
              "    <tr>\n",
              "      <th>1</th>\n",
              "      <td>go</td>\n",
              "      <td>START_ vete _END</td>\n",
              "    </tr>\n",
              "    <tr>\n",
              "      <th>2</th>\n",
              "      <td>go</td>\n",
              "      <td>START_ vaya _END</td>\n",
              "    </tr>\n",
              "    <tr>\n",
              "      <th>3</th>\n",
              "      <td>go</td>\n",
              "      <td>START_ váyase _END</td>\n",
              "    </tr>\n",
              "    <tr>\n",
              "      <th>4</th>\n",
              "      <td>hi</td>\n",
              "      <td>START_ hola _END</td>\n",
              "    </tr>\n",
              "  </tbody>\n",
              "</table>\n",
              "</div>"
            ],
            "text/plain": [
              "  english             spanish\n",
              "0      go      START_ ve _END\n",
              "1      go    START_ vete _END\n",
              "2      go    START_ vaya _END\n",
              "3      go  START_ váyase _END\n",
              "4      hi    START_ hola _END"
            ]
          },
          "metadata": {
            "tags": []
          },
          "execution_count": 18
        }
      ]
    },
    {
      "cell_type": "code",
      "metadata": {
        "id": "CtA8nGIDocJw",
        "colab_type": "code",
        "outputId": "5d30f279-4c49-4cb6-8633-66ffc3a179c9",
        "colab": {
          "base_uri": "https://localhost:8080/",
          "height": 34
        }
      },
      "source": [
        "input_words = sorted(list(all_eng_words))\n",
        "target_words = sorted(list(all_spa_words))\n",
        "num_encoder_tokens = len(all_eng_words)\n",
        "num_decoder_tokens = len(all_spa_words)\n",
        "num_encoder_tokens, num_decoder_tokens"
      ],
      "execution_count": 0,
      "outputs": [
        {
          "output_type": "execute_result",
          "data": {
            "text/plain": [
              "(13475, 27264)"
            ]
          },
          "metadata": {
            "tags": []
          },
          "execution_count": 19
        }
      ]
    },
    {
      "cell_type": "code",
      "metadata": {
        "id": "VPEVqYq8ocg9",
        "colab_type": "code",
        "colab": {}
      },
      "source": [
        "num_encoder_tokens += 1 # For zero padding\n",
        "num_decoder_tokens += 1 # For zero padding"
      ],
      "execution_count": 0,
      "outputs": []
    },
    {
      "cell_type": "code",
      "metadata": {
        "id": "H6ZJ5XICoccy",
        "colab_type": "code",
        "colab": {}
      },
      "source": [
        ""
      ],
      "execution_count": 0,
      "outputs": []
    },
    {
      "cell_type": "markdown",
      "metadata": {
        "id": "xdPfVBDIo8DP",
        "colab_type": "text"
      },
      "source": [
        "## Tokenization"
      ]
    },
    {
      "cell_type": "code",
      "metadata": {
        "id": "QQQJMk1wuJgo",
        "colab_type": "code",
        "colab": {}
      },
      "source": [
        "def take(n, iterable):\n",
        "    \"Return first n items of the iterable as a list\"\n",
        "    return list(islice(iterable, n))"
      ],
      "execution_count": 0,
      "outputs": []
    },
    {
      "cell_type": "code",
      "metadata": {
        "id": "900SDgTwocZl",
        "colab_type": "code",
        "colab": {}
      },
      "source": [
        "input_token_index = dict([(word, i+1) for i, word in enumerate(input_words)])\n",
        "target_token_index = dict([(word, i+1) for i, word in enumerate(target_words)])"
      ],
      "execution_count": 0,
      "outputs": []
    },
    {
      "cell_type": "code",
      "metadata": {
        "id": "btglD6y8uf-X",
        "colab_type": "code",
        "outputId": "767fb9a7-1601-4972-e65a-1a1389d0bcd7",
        "colab": {
          "base_uri": "https://localhost:8080/",
          "height": 187
        }
      },
      "source": [
        "n_items = take(10, input_token_index.items())\n",
        "for k,v in n_items:\n",
        "    print(k, v)"
      ],
      "execution_count": 0,
      "outputs": [
        {
          "output_type": "stream",
          "text": [
            "a 1\n",
            "aardvark 2\n",
            "aardvarks 3\n",
            "aaron 4\n",
            "aback 5\n",
            "abandon 6\n",
            "abandoned 7\n",
            "abandoning 8\n",
            "abate 9\n",
            "abated 10\n"
          ],
          "name": "stdout"
        }
      ]
    },
    {
      "cell_type": "code",
      "metadata": {
        "id": "FuB53Tomu-gJ",
        "colab_type": "code",
        "outputId": "ac952d86-ae48-403a-aaa2-2f54a4bc9011",
        "colab": {
          "base_uri": "https://localhost:8080/",
          "height": 187
        }
      },
      "source": [
        "n_items = take(10, target_token_index.items())\n",
        "for k,v in n_items:\n",
        "    print(k, v)"
      ],
      "execution_count": 0,
      "outputs": [
        {
          "output_type": "stream",
          "text": [
            "START_ 1\n",
            "_END 2\n",
            "a 3\n",
            "aabe 4\n",
            "aah 5\n",
            "aaron 6\n",
            "abajo 7\n",
            "abandona 8\n",
            "abandonada 9\n",
            "abandonadas 10\n"
          ],
          "name": "stdout"
        }
      ]
    },
    {
      "cell_type": "code",
      "metadata": {
        "id": "eUK7OCyjocXh",
        "colab_type": "code",
        "colab": {}
      },
      "source": [
        "reverse_input_char_index = dict((i, word) for word, i in input_token_index.items())\n",
        "reverse_target_char_index = dict((i, word) for word, i in target_token_index.items())"
      ],
      "execution_count": 0,
      "outputs": []
    },
    {
      "cell_type": "code",
      "metadata": {
        "id": "mH4-8lhJocWC",
        "colab_type": "code",
        "outputId": "cf549564-8436-4cd8-f841-3446d2a0c223",
        "colab": {
          "base_uri": "https://localhost:8080/",
          "height": 359
        }
      },
      "source": [
        "lines = shuffle(lines)\n",
        "lines.head(10)"
      ],
      "execution_count": 0,
      "outputs": [
        {
          "output_type": "execute_result",
          "data": {
            "text/html": [
              "<div>\n",
              "<style scoped>\n",
              "    .dataframe tbody tr th:only-of-type {\n",
              "        vertical-align: middle;\n",
              "    }\n",
              "\n",
              "    .dataframe tbody tr th {\n",
              "        vertical-align: top;\n",
              "    }\n",
              "\n",
              "    .dataframe thead th {\n",
              "        text-align: right;\n",
              "    }\n",
              "</style>\n",
              "<table border=\"1\" class=\"dataframe\">\n",
              "  <thead>\n",
              "    <tr style=\"text-align: right;\">\n",
              "      <th></th>\n",
              "      <th>english</th>\n",
              "      <th>spanish</th>\n",
              "    </tr>\n",
              "  </thead>\n",
              "  <tbody>\n",
              "    <tr>\n",
              "      <th>103365</th>\n",
              "      <td>in those days he lived in the house alone</td>\n",
              "      <td>START_ por aquel entonces vivía solo en la casa _END</td>\n",
              "    </tr>\n",
              "    <tr>\n",
              "      <th>120306</th>\n",
              "      <td>he doesnt like to wait until the last moment to do something</td>\n",
              "      <td>START_ a él no le gusta esperar hasta el último momento para hacer algo _END</td>\n",
              "    </tr>\n",
              "    <tr>\n",
              "      <th>59768</th>\n",
              "      <td>i thought i was going to die</td>\n",
              "      <td>START_ pensé que iba a morir _END</td>\n",
              "    </tr>\n",
              "    <tr>\n",
              "      <th>36329</th>\n",
              "      <td>you need to talk to me</td>\n",
              "      <td>START_ necesitas que hablemos de tú a tú _END</td>\n",
              "    </tr>\n",
              "    <tr>\n",
              "      <th>109374</th>\n",
              "      <td>have you ever heard someone speaking in french</td>\n",
              "      <td>START_ ¿alguna vez escuchaste a alguien hablando francés _END</td>\n",
              "    </tr>\n",
              "    <tr>\n",
              "      <th>116537</th>\n",
              "      <td>im afraid that we wont be able to help you tomorrow</td>\n",
              "      <td>START_ me temo que no podremos ayudarte mañana _END</td>\n",
              "    </tr>\n",
              "    <tr>\n",
              "      <th>41279</th>\n",
              "      <td>he acts like a tough guy</td>\n",
              "      <td>START_ se las da de guapo _END</td>\n",
              "    </tr>\n",
              "    <tr>\n",
              "      <th>5961</th>\n",
              "      <td>do you want it</td>\n",
              "      <td>START_ ¿lo quieres _END</td>\n",
              "    </tr>\n",
              "    <tr>\n",
              "      <th>31701</th>\n",
              "      <td>you cant run my life</td>\n",
              "      <td>START_ no puedes gobernar mi vida _END</td>\n",
              "    </tr>\n",
              "    <tr>\n",
              "      <th>1267</th>\n",
              "      <td>ill do it</td>\n",
              "      <td>START_ lo haré _END</td>\n",
              "    </tr>\n",
              "  </tbody>\n",
              "</table>\n",
              "</div>"
            ],
            "text/plain": [
              "                                                             english                                                                       spanish\n",
              "103365                     in those days he lived in the house alone                          START_ por aquel entonces vivía solo en la casa _END\n",
              "120306  he doesnt like to wait until the last moment to do something  START_ a él no le gusta esperar hasta el último momento para hacer algo _END\n",
              "59768                                   i thought i was going to die                                             START_ pensé que iba a morir _END\n",
              "36329                                         you need to talk to me                                 START_ necesitas que hablemos de tú a tú _END\n",
              "109374                have you ever heard someone speaking in french                 START_ ¿alguna vez escuchaste a alguien hablando francés _END\n",
              "116537           im afraid that we wont be able to help you tomorrow                           START_ me temo que no podremos ayudarte mañana _END\n",
              "41279                                       he acts like a tough guy                                                START_ se las da de guapo _END\n",
              "5961                                                  do you want it                                                       START_ ¿lo quieres _END\n",
              "31701                                           you cant run my life                                        START_ no puedes gobernar mi vida _END\n",
              "1267                                                       ill do it                                                           START_ lo haré _END"
            ]
          },
          "metadata": {
            "tags": []
          },
          "execution_count": 26
        }
      ]
    },
    {
      "cell_type": "code",
      "metadata": {
        "id": "Nj3YDPqvFWuy",
        "colab_type": "code",
        "colab": {}
      },
      "source": [
        ""
      ],
      "execution_count": 0,
      "outputs": []
    },
    {
      "cell_type": "markdown",
      "metadata": {
        "id": "a7HSfC7gperL",
        "colab_type": "text"
      },
      "source": [
        "## Train-Test Split"
      ]
    },
    {
      "cell_type": "code",
      "metadata": {
        "id": "6dEl7zSyocTe",
        "colab_type": "code",
        "colab": {}
      },
      "source": [
        "X, y = lines[\"english\"], lines[\"spanish\"]"
      ],
      "execution_count": 0,
      "outputs": []
    },
    {
      "cell_type": "code",
      "metadata": {
        "id": "X_qTGlDdocQk",
        "colab_type": "code",
        "colab": {}
      },
      "source": [
        "X_train, X_test, y_train, y_test = train_test_split(X, y, test_size=0.2, random_state=42)"
      ],
      "execution_count": 0,
      "outputs": []
    },
    {
      "cell_type": "code",
      "metadata": {
        "id": "PqYa-lDxocH5",
        "colab_type": "code",
        "outputId": "441d76f5-fe9c-46fd-a830-e85048ac5b02",
        "colab": {
          "base_uri": "https://localhost:8080/",
          "height": 34
        }
      },
      "source": [
        "X_train.shape, y_train.shape"
      ],
      "execution_count": 0,
      "outputs": [
        {
          "output_type": "execute_result",
          "data": {
            "text/plain": [
              "((99016,), (99016,))"
            ]
          },
          "metadata": {
            "tags": []
          },
          "execution_count": 29
        }
      ]
    },
    {
      "cell_type": "code",
      "metadata": {
        "id": "duiwDIjmpvkm",
        "colab_type": "code",
        "outputId": "99d5b6c4-af7b-440f-cade-768b01829573",
        "colab": {
          "base_uri": "https://localhost:8080/",
          "height": 34
        }
      },
      "source": [
        "X_test.shape, y_test.shape"
      ],
      "execution_count": 0,
      "outputs": [
        {
          "output_type": "execute_result",
          "data": {
            "text/plain": [
              "((24754,), (24754,))"
            ]
          },
          "metadata": {
            "tags": []
          },
          "execution_count": 30
        }
      ]
    },
    {
      "cell_type": "code",
      "metadata": {
        "id": "6lnJew4GFXh1",
        "colab_type": "code",
        "colab": {}
      },
      "source": [
        ""
      ],
      "execution_count": 0,
      "outputs": []
    },
    {
      "cell_type": "markdown",
      "metadata": {
        "id": "DzG-EgsEFB_C",
        "colab_type": "text"
      },
      "source": [
        "## Generator"
      ]
    },
    {
      "cell_type": "code",
      "metadata": {
        "id": "EnS0Yh-dpv7q",
        "colab_type": "code",
        "colab": {}
      },
      "source": [
        "def generate_batch(X=X_train, y=y_train, batch_size=128):\n",
        "    ''' Generate a batch of data '''\n",
        "    while True:\n",
        "        for j in range(0, len(X), batch_size):\n",
        "            encoder_input_data = np.zeros((batch_size, max_length_src), dtype='float32')\n",
        "            decoder_input_data = np.zeros((batch_size, max_length_tar), dtype='float32')\n",
        "            decoder_target_data = np.zeros((batch_size, max_length_tar, num_decoder_tokens), dtype='float32')\n",
        "            for i, (input_text, target_text) in enumerate(zip(X[j:j+batch_size], y[j:j+batch_size])):\n",
        "                for t, word in enumerate(input_text.split()):\n",
        "                    encoder_input_data[i, t] = input_token_index[word] # encoder input seq\n",
        "                for t, word in enumerate(target_text.split()):\n",
        "                    if t < len(target_text.split())-1:\n",
        "                        decoder_input_data[i, t] = target_token_index[word] # decoder input seq\n",
        "                    if t>0:\n",
        "                        # decoder target sequence (one hot encoded)\n",
        "                        # does not include the START_ token\n",
        "                        # Offset by one timestep\n",
        "                        decoder_target_data[i, t - 1, target_token_index[word]] = 1.\n",
        "            yield([encoder_input_data, decoder_input_data], decoder_target_data)"
      ],
      "execution_count": 0,
      "outputs": []
    },
    {
      "cell_type": "code",
      "metadata": {
        "id": "s7aKV3tJFQ4s",
        "colab_type": "code",
        "colab": {}
      },
      "source": [
        ""
      ],
      "execution_count": 0,
      "outputs": []
    },
    {
      "cell_type": "markdown",
      "metadata": {
        "id": "g_e-bwvt_7Jp",
        "colab_type": "text"
      },
      "source": [
        "## Teacher Forcing\n",
        "Teacher forcing works by using the actual or expected output from the training dataset at the current time step `y(t)` as input in the next time step `X(t+1)`, rather than the output generated by the network.\n",
        "\n",
        "Decoder is trained to turn the target sequences into the same sequences but offset by one timestep in the future, a training process called \"teacher forcing\" in this context. Effectively, the decoder learns to generate targets `[t+1...]` given targets `[...t]`, conditioned on the input sequence.\n",
        "\n",
        "\n",
        "### Example - \n",
        "Suppose, we had only 1 sentence -\n",
        "* `English` - Juan eats apples\n",
        "* `Spanish` - Juan come manzanas\n",
        "\n",
        "Hence, we had just 3 words in our English & 5 in Spanish vocabulary. \n",
        "```\n",
        "English Vocabulary\n",
        "{'apples': 1, 'eats': 2, 'juan': 3}\n",
        "\n",
        "Spanish Vocabulary\n",
        "{'START_': 1, '_END': 2, 'come': 3, 'juan': 4, 'manzanas': 5}\n",
        "```\n",
        "\n",
        "So our encoded input & decoder input would look like - \n",
        "```\n",
        "Encoder Input Data: [[3. 2. 1.]]\n",
        "\n",
        "Decoder Input Data: [[1. 4. 3. 5. 0.]]\n",
        "```\n",
        "\n",
        "As the target sentence has 5 words, at timestep `t` during training, we set the previous timestep's `t-1` actual output to 1. So essentially, we will have 5 target sentence.\n",
        "\n",
        "```\n",
        "Decoder Target Data: \n",
        "[0. 0. 0. 0. 1. 0.] # juan\n",
        "[0. 0. 0. 1. 0. 0.] # come\n",
        "[0. 0. 0. 0. 0. 1.] # manzanas\n",
        "[0. 0. 1. 0. 0. 0.] # _END\n",
        "[0. 0. 0. 0. 0. 0.]\n",
        "```\n",
        "\n",
        "### Summary\n",
        "TS1 -\n",
        "```\n",
        "Encoder Input Data - [3. 2. 1.]\n",
        "Decoder Input Data: [1. 4. 3. 5. 0.]\n",
        "Decoder Target Data: [0. 0. 0. 0. 1. 0.] # juan\n",
        "```\n",
        "\n",
        "TS2 -\n",
        "```\n",
        "Encoder Input Data - [3. 2. 1.]\n",
        "Decoder Input Data: [1. 4. 3. 5. 0.]\n",
        "Decoder Target Data: [0. 0. 0. 1. 0. 0.] # juan come\n",
        "```\n",
        "\n",
        "TS3 -\n",
        "```\n",
        "Encoder Input Data - [3. 2. 1.]\n",
        "Decoder Input Data: [1. 4. 3. 5. 0.]\n",
        "Decoder Target Data: [0. 0. 0. 0. 0. 1.] # juan come manzanas\n",
        "```\n",
        "\n",
        "TS4 -\n",
        "```\n",
        "Encoder Input Data - [3. 2. 1.]\n",
        "Decoder Input Data: [1. 4. 3. 5. 0.]\n",
        "Decoder Target Data: [0. 1. 0. 0. 0. 0.] # juan come manzanas _END\n",
        "```\n"
      ]
    },
    {
      "cell_type": "code",
      "metadata": {
        "id": "y4l0T2uL3vb8",
        "colab_type": "code",
        "colab": {}
      },
      "source": [
        ""
      ],
      "execution_count": 0,
      "outputs": []
    },
    {
      "cell_type": "markdown",
      "metadata": {
        "id": "eM7vo1W2jMQ1",
        "colab_type": "text"
      },
      "source": [
        "## Bahdanau Attention\n",
        "\n",
        "For a single sequence - \n",
        "* `query` - Current target hidden state. Size - `(hidden_size)`\n",
        "* `values` - All the encoder hidden states. Size -  `(max_len, hidden size)`\n",
        "* `attention_weights` - A single vector with weights for each hidden state. As there are `max_len` units in the encoder LSTM, it's size will be `(max_len)` \n",
        "* `context_vector` - Weighted sum of encoder hidden states. Size - `(hidden_size)`"
      ]
    },
    {
      "cell_type": "code",
      "metadata": {
        "id": "aebLP0oijPF3",
        "colab_type": "code",
        "colab": {}
      },
      "source": [
        "class BahdanauAttention(tf.keras.layers.Layer):\n",
        "  def __init__(self, units):\n",
        "    super(BahdanauAttention, self).__init__()\n",
        "    self.W1 = tf.keras.layers.Dense(units)\n",
        "    self.W2 = tf.keras.layers.Dense(units)\n",
        "    self.V = tf.keras.layers.Dense(1)\n",
        "\n",
        "  def call(self, query, values):\n",
        "    # query (decoder hidden state) ==> (batch_size, hidden size)\n",
        "    # query_with_time_axis ==> (batch_size, 1, hidden size)\n",
        "    # values (encoder outputs) ==> (batch_size, max_len, hidden size)\n",
        "    # we are doing this to broadcast addition along the time axis to calculate the score\n",
        "    query_with_time_axis = tf.expand_dims(query, 1)\n",
        "\n",
        "    # score ==> (batch_size, max_length, 1)\n",
        "    # we get 1 at the last axis because we are applying score to self.V\n",
        "    # the shape of the tensor before applying self.V is (batch_size, max_length, units)\n",
        "    score = self.V(tf.nn.tanh(\n",
        "        self.W1(query_with_time_axis) + self.W2(values)))\n",
        "\n",
        "    # attention_weights ==> (batch_size, max_length, 1)\n",
        "    attention_weights = tf.nn.softmax(score, axis=1)\n",
        "\n",
        "    # context_vector ==> (batch_size, max_length, hidden_size)\n",
        "    context_vector = attention_weights * values\n",
        "    # context_vector ==> (batch_size, hidden_size)\n",
        "    context_vector = tf.reduce_sum(context_vector, axis=1)\n",
        "\n",
        "    return context_vector, attention_weights"
      ],
      "execution_count": 0,
      "outputs": []
    },
    {
      "cell_type": "markdown",
      "metadata": {
        "id": "HukwM-n-FO4W",
        "colab_type": "text"
      },
      "source": [
        "## Model"
      ]
    },
    {
      "cell_type": "code",
      "metadata": {
        "id": "FBwRt6qy1Ubi",
        "colab_type": "code",
        "colab": {}
      },
      "source": [
        "latent_dim = 100"
      ],
      "execution_count": 0,
      "outputs": []
    },
    {
      "cell_type": "code",
      "metadata": {
        "id": "KLzd7__61UYN",
        "colab_type": "code",
        "colab": {}
      },
      "source": [
        "# ENCODER\n",
        "encoder_inputs = Input(shape=(None,))\n",
        "enc_emb = Embedding(num_encoder_tokens, latent_dim, mask_zero=True)(encoder_inputs)\n",
        "encoder_lstm = LSTM(latent_dim, return_state=True)\n",
        "encoder_outputs, state_h, state_c = encoder_lstm(enc_emb)\n",
        "encoder_states = [state_h, state_c]"
      ],
      "execution_count": 0,
      "outputs": []
    },
    {
      "cell_type": "markdown",
      "metadata": {
        "id": "Lej19r1o_f6v",
        "colab_type": "text"
      },
      "source": [
        "`mask_zero=True` - It treats '0' as a padding value. Notice that we haven't explicitly padded sequneces to lenght `max_len`. As per the docs, \n",
        ">\"If mask_zero is set to True, as a consequence, index 0 cannot be used in the vocabulary (input_dim should equal size of vocabulary + 1)\". \n",
        "\n",
        "Which is why increased `num_encoder_tokens` & `num_decoder_tokens` in cell 20 "
      ]
    },
    {
      "cell_type": "code",
      "metadata": {
        "id": "iwfPnYTmocEx",
        "colab_type": "code",
        "colab": {}
      },
      "source": [
        "# DECODER\n",
        "decoder_inputs = Input(shape=(None,))\n",
        "\n",
        "dec_emb_layer = Embedding(num_decoder_tokens, latent_dim, mask_zero=True)\n",
        "dec_emb = dec_emb_layer(decoder_inputs)\n",
        "\n",
        "attention_layer = BahdanauAttention(latent_dim)\n",
        "context_vector, attention_weights = attention_layer(encoder_outputs, state_h)\n",
        "merged_vector = tf.concat([tf.expand_dims(context_vector, 1), dec_emb], axis=-1)\n",
        "\n",
        "decoder_lstm = LSTM(latent_dim, return_sequences=True, return_state=True)\n",
        "\n",
        "# set up the decoder, using `encoder_states` as initial state\n",
        "decoder_outputs, dec_state_h, dec_state_c = decoder_lstm(dec_emb, \n",
        "                                                         initial_state=encoder_states)"
      ],
      "execution_count": 0,
      "outputs": []
    },
    {
      "cell_type": "code",
      "metadata": {
        "id": "PAJOyB6CBTOK",
        "colab_type": "code",
        "colab": {}
      },
      "source": [
        "decoder_dense = Dense(num_decoder_tokens, activation='softmax')\n",
        "decoder_outputs = decoder_dense(decoder_outputs)"
      ],
      "execution_count": 0,
      "outputs": []
    },
    {
      "cell_type": "markdown",
      "metadata": {
        "id": "jk2ofoapBQqe",
        "colab_type": "text"
      },
      "source": [
        "Here, we add a Dense Layer that uses softmax activation on top of decoder. Notice, how for the sample sentence - `Juan eats apples`, the output target at each timestep looks like - \n",
        "```\n",
        "[0. 0. 0. 0. 1. 0.] # juan\n",
        "[0. 0. 0. 1. 0. 0.] # juan come\n",
        "[0. 0. 0. 0. 0. 1.] # juan come manzanas\n",
        "[0. 1. 0. 0. 0. 0.] # juan come manzanas _end\n",
        "```\n",
        "It is the job of the dense layer to predict this next word from the *decoder_outputs*"
      ]
    },
    {
      "cell_type": "markdown",
      "metadata": {
        "id": "U0vJvMwwGl9H",
        "colab_type": "text"
      },
      "source": [
        "Model will take encoder inputs & decoder inputs and return decoder outputs"
      ]
    },
    {
      "cell_type": "code",
      "metadata": {
        "id": "Z2yqflOrGlVl",
        "colab_type": "code",
        "colab": {}
      },
      "source": [
        "model = Model([encoder_inputs, decoder_inputs], decoder_outputs)\n",
        "model.compile(optimizer='adam', loss='categorical_crossentropy', metrics=['acc'])"
      ],
      "execution_count": 0,
      "outputs": []
    },
    {
      "cell_type": "code",
      "metadata": {
        "id": "1zv43I1PFnF6",
        "colab_type": "code",
        "outputId": "ef08aa79-4773-4ccf-e80b-3bb4226379e6",
        "colab": {
          "base_uri": "https://localhost:8080/",
          "height": 533
        }
      },
      "source": [
        "plot_model(model, show_shapes=True)"
      ],
      "execution_count": 0,
      "outputs": [
        {
          "output_type": "execute_result",
          "data": {
            "image/png": "[encoded data removed]",
            "text/plain": [
              "<IPython.core.display.Image object>"
            ]
          },
          "metadata": {
            "tags": []
          },
          "execution_count": 38
        }
      ]
    },
    {
      "cell_type": "markdown",
      "metadata": {
        "id": "4KrlW5gsHPdK",
        "colab_type": "text"
      },
      "source": [
        "## Training"
      ]
    },
    {
      "cell_type": "code",
      "metadata": {
        "id": "B94g49KTFnDc",
        "colab_type": "code",
        "colab": {}
      },
      "source": [
        "train_samples = len(X_train)\n",
        "val_samples = len(X_test)\n",
        "batch_size = 128\n",
        "epochs = 20"
      ],
      "execution_count": 0,
      "outputs": []
    },
    {
      "cell_type": "code",
      "metadata": {
        "id": "b_56uHihMuPW",
        "colab_type": "code",
        "colab": {}
      },
      "source": [
        "csvlogger = CSVLogger(\"training.log\")\n",
        "earlystopping = tf.keras.callbacks.EarlyStopping(monitor='val_loss', patience=3)\n",
        "callbacks = [csvlogger, earlystopping]"
      ],
      "execution_count": 0,
      "outputs": []
    },
    {
      "cell_type": "code",
      "metadata": {
        "id": "19fTUdLXHCJD",
        "colab_type": "code",
        "outputId": "365e2318-849c-461a-b209-4a7464844d80",
        "colab": {
          "base_uri": "https://localhost:8080/",
          "height": 768
        }
      },
      "source": [
        "history = model.fit_generator(generator = generate_batch(X_train, y_train, batch_size = batch_size),\n",
        "                    steps_per_epoch = train_samples//batch_size,\n",
        "                    epochs=epochs,\n",
        "                    validation_data = generate_batch(X_test, y_test, batch_size = batch_size),\n",
        "                    validation_steps = val_samples//batch_size,\n",
        "                    callbacks=callbacks\n",
        "                    )"
      ],
      "execution_count": 41,
      "outputs": [
        {
          "output_type": "stream",
          "text": [
            "WARNING:tensorflow:From <ipython-input-41-c7455d30101d>:6: Model.fit_generator (from tensorflow.python.keras.engine.training_v1) is deprecated and will be removed in a future version.\n",
            "Instructions for updating:\n",
            "Please use Model.fit, which supports generators.\n",
            "Epoch 1/20\n",
            "773/773 [==============================] - 738s 955ms/step - loss: 0.8475 - acc: 0.1650 - val_loss: 0.7579 - val_acc: 0.2016\n",
            "Epoch 2/20\n",
            "773/773 [==============================] - 739s 955ms/step - loss: 0.6987 - acc: 0.2436 - val_loss: 0.6576 - val_acc: 0.2795\n",
            "Epoch 3/20\n",
            "773/773 [==============================] - 741s 959ms/step - loss: 0.6151 - acc: 0.3054 - val_loss: 0.5989 - val_acc: 0.3265\n",
            "Epoch 4/20\n",
            "773/773 [==============================] - 740s 957ms/step - loss: 0.5546 - acc: 0.3542 - val_loss: 0.5537 - val_acc: 0.3654\n",
            "Epoch 5/20\n",
            "773/773 [==============================] - 736s 952ms/step - loss: 0.5064 - acc: 0.3933 - val_loss: 0.5187 - val_acc: 0.3942\n",
            "Epoch 6/20\n",
            "773/773 [==============================] - 740s 957ms/step - loss: 0.4666 - acc: 0.4249 - val_loss: 0.4919 - val_acc: 0.4177\n",
            "Epoch 7/20\n",
            "773/773 [==============================] - 746s 965ms/step - loss: 0.4327 - acc: 0.4528 - val_loss: 0.4703 - val_acc: 0.4373\n",
            "Epoch 8/20\n",
            "773/773 [==============================] - 741s 959ms/step - loss: 0.4032 - acc: 0.4783 - val_loss: 0.4526 - val_acc: 0.4536\n",
            "Epoch 9/20\n",
            "773/773 [==============================] - 743s 961ms/step - loss: 0.3768 - acc: 0.5011 - val_loss: 0.4372 - val_acc: 0.4678\n",
            "Epoch 10/20\n",
            "773/773 [==============================] - 748s 968ms/step - loss: 0.3530 - acc: 0.5228 - val_loss: 0.4255 - val_acc: 0.4786\n",
            "Epoch 11/20\n",
            "773/773 [==============================] - 752s 973ms/step - loss: 0.3315 - acc: 0.5424 - val_loss: 0.4152 - val_acc: 0.4892\n",
            "Epoch 12/20\n",
            "773/773 [==============================] - 745s 964ms/step - loss: 0.3121 - acc: 0.5606 - val_loss: 0.4066 - val_acc: 0.4978\n",
            "Epoch 13/20\n",
            "773/773 [==============================] - 742s 960ms/step - loss: 0.2944 - acc: 0.5774 - val_loss: 0.3987 - val_acc: 0.5060\n",
            "Epoch 14/20\n",
            "773/773 [==============================] - 741s 959ms/step - loss: 0.2785 - acc: 0.5936 - val_loss: 0.3934 - val_acc: 0.5115\n",
            "Epoch 15/20\n",
            "773/773 [==============================] - 745s 964ms/step - loss: 0.2637 - acc: 0.6087 - val_loss: 0.3883 - val_acc: 0.5182\n",
            "Epoch 16/20\n",
            "773/773 [==============================] - 749s 969ms/step - loss: 0.2504 - acc: 0.6236 - val_loss: 0.3833 - val_acc: 0.5244\n",
            "Epoch 17/20\n",
            "773/773 [==============================] - 743s 962ms/step - loss: 0.2381 - acc: 0.6374 - val_loss: 0.3804 - val_acc: 0.5281\n",
            "Epoch 18/20\n",
            "773/773 [==============================] - 741s 958ms/step - loss: 0.2270 - acc: 0.6511 - val_loss: 0.3784 - val_acc: 0.5305\n",
            "Epoch 19/20\n",
            "773/773 [==============================] - 730s 944ms/step - loss: 0.2166 - acc: 0.6639 - val_loss: 0.3758 - val_acc: 0.5361\n",
            "Epoch 20/20\n",
            "773/773 [==============================] - 734s 949ms/step - loss: 0.2068 - acc: 0.6769 - val_loss: 0.3749 - val_acc: 0.5379\n"
          ],
          "name": "stdout"
        }
      ]
    },
    {
      "cell_type": "code",
      "metadata": {
        "id": "_UfoF3F3_dEa",
        "colab_type": "code",
        "outputId": "e826297b-3c71-45ec-8ad6-e9c6c9dabb26",
        "colab": {
          "base_uri": "https://localhost:8080/",
          "height": 295
        }
      },
      "source": [
        "# summarize history for accuracy\n",
        "plt.plot(history.history['acc'])\n",
        "plt.plot(history.history['val_acc'])\n",
        "plt.title('Model Accuracy')\n",
        "plt.ylabel('Accuracy')\n",
        "plt.xlabel('Epoch')\n",
        "plt.legend(['Train', 'Validation'], loc='upper left')\n",
        "plt.show()"
      ],
      "execution_count": 42,
      "outputs": [
        {
          "output_type": "display_data",
          "data": {
            "image/png": "[encoded data removed]",
            "text/plain": [
              "<Figure size 432x288 with 1 Axes>"
            ]
          },
          "metadata": {
            "tags": []
          }
        }
      ]
    },
    {
      "cell_type": "code",
      "metadata": {
        "id": "9rcrG7ZGAXUT",
        "colab_type": "code",
        "outputId": "b39345e5-e588-4abb-d417-56f6c75c83c9",
        "colab": {
          "base_uri": "https://localhost:8080/",
          "height": 295
        }
      },
      "source": [
        "# summarize history for loss\n",
        "plt.plot(history.history['loss'])\n",
        "plt.plot(history.history['val_loss'])\n",
        "plt.title('Model loss')\n",
        "plt.ylabel('loss')\n",
        "plt.xlabel('epoch')\n",
        "plt.legend(['train', 'test'], loc='upper left')\n",
        "plt.show()"
      ],
      "execution_count": 43,
      "outputs": [
        {
          "output_type": "display_data",
          "data": {
            "image/png": "[encoded data removed]",
            "text/plain": [
              "<Figure size 432x288 with 1 Axes>"
            ]
          },
          "metadata": {
            "tags": []
          }
        }
      ]
    },
    {
      "cell_type": "code",
      "metadata": {
        "id": "A1Lntds5HCi1",
        "colab_type": "code",
        "colab": {}
      },
      "source": [
        "model.save(\"english_to_spanish_attention_nmt.h5\")"
      ],
      "execution_count": 0,
      "outputs": []
    },
    {
      "cell_type": "code",
      "metadata": {
        "id": "NGvPQXgBHCFr",
        "colab_type": "code",
        "colab": {}
      },
      "source": [
        "model = load_model(\"english_to_spanish_attention_nmt.h5\")"
      ],
      "execution_count": 0,
      "outputs": []
    },
    {
      "cell_type": "code",
      "metadata": {
        "id": "ttEc1psYNNEz",
        "colab_type": "code",
        "colab": {}
      },
      "source": [
        "files.download(\"english_to_spanish_attention_nmt.h5\")"
      ],
      "execution_count": 0,
      "outputs": []
    },
    {
      "cell_type": "code",
      "metadata": {
        "id": "RcqcwuhONNAV",
        "colab_type": "code",
        "colab": {}
      },
      "source": [
        ""
      ],
      "execution_count": 0,
      "outputs": []
    },
    {
      "cell_type": "markdown",
      "metadata": {
        "id": "tYpN2UfRZ4xy",
        "colab_type": "text"
      },
      "source": [
        "## Inference"
      ]
    },
    {
      "cell_type": "markdown",
      "metadata": {
        "id": "H-KbL4IpU8_L",
        "colab_type": "text"
      },
      "source": [
        "***Encoder Setup***\n",
        "\n",
        "Encode the input sequence to get the encoder_states - `state_h & state_c`"
      ]
    },
    {
      "cell_type": "code",
      "metadata": {
        "id": "sD31MEkFHCCf",
        "colab_type": "code",
        "colab": {}
      },
      "source": [
        "encoder_model = Model(encoder_inputs, encoder_states)"
      ],
      "execution_count": 0,
      "outputs": []
    },
    {
      "cell_type": "markdown",
      "metadata": {
        "id": "bE5Re-6lWLok",
        "colab_type": "text"
      },
      "source": [
        "***Decoder setup***\n",
        "\n",
        "Below tensors will hold the states of the previous time step. In case of the first sequence, assume - \n",
        ">1. decoder_state_input_c - state_c\n",
        ">2. decoder_state_input_h - state_h\n"
      ]
    },
    {
      "cell_type": "code",
      "metadata": {
        "id": "vTaISdS1Vx0N",
        "colab_type": "code",
        "colab": {}
      },
      "source": [
        "decoder_state_input_h = Input(shape=(latent_dim,))\n",
        "decoder_state_input_c = Input(shape=(latent_dim,))\n",
        "decoder_states_inputs = [decoder_state_input_h, decoder_state_input_c]"
      ],
      "execution_count": 0,
      "outputs": []
    },
    {
      "cell_type": "markdown",
      "metadata": {
        "id": "NYoKMT87Xh1a",
        "colab_type": "text"
      },
      "source": [
        "Get the embedding of decoder output sequences. For the first sequence, it will return the embedded vector for `START_` - [1., 0., 0., 0., 0.]. If the next predicted word is Juan, it will then return the embedded vector for `Juan` - [0., 0., 0., 1., 0.]"
      ]
    },
    {
      "cell_type": "code",
      "metadata": {
        "id": "QAEQIT7zXO5o",
        "colab_type": "code",
        "colab": {}
      },
      "source": [
        "dec_emb2 = dec_emb_layer(decoder_inputs)\n",
        "\n",
        "context_vector, attention_weights = attention_layer(encoder_outputs, \n",
        "                                                    decoder_state_input_h)\n",
        "merged_vector = tf.concat([tf.expand_dims(context_vector, 1), dec_emb2], \n",
        "                          axis=-1)"
      ],
      "execution_count": 0,
      "outputs": []
    },
    {
      "cell_type": "markdown",
      "metadata": {
        "id": "CpCoU9ReZE8P",
        "colab_type": "text"
      },
      "source": [
        "To predict the next word in the sequence, set the initial states to the states from the previous time step\n"
      ]
    },
    {
      "cell_type": "code",
      "metadata": {
        "id": "Z-S7sgotYSA8",
        "colab_type": "code",
        "colab": {}
      },
      "source": [
        "decoder_outputs2, state_h2, state_c2 = decoder_lstm(dec_emb2, \n",
        "                                                    initial_state=decoder_states_inputs)"
      ],
      "execution_count": 0,
      "outputs": []
    },
    {
      "cell_type": "markdown",
      "metadata": {
        "id": "URZ73j0xZTnJ",
        "colab_type": "text"
      },
      "source": [
        "Predict the next word in the sequence using the dense layer and choose the most probable word by selecting the word with most probability from the softmax probability distribution."
      ]
    },
    {
      "cell_type": "code",
      "metadata": {
        "id": "Z042N2B7ZQ1E",
        "colab_type": "code",
        "colab": {}
      },
      "source": [
        "decoder_outputs2 = decoder_dense(decoder_outputs2) "
      ],
      "execution_count": 0,
      "outputs": []
    },
    {
      "cell_type": "markdown",
      "metadata": {
        "id": "hhiHQ4WSdAA5",
        "colab_type": "text"
      },
      "source": [
        "***Final Decoder Model***\n",
        "\n",
        "Inputs -\n",
        ">1. decoder_inputs - List of word\n",
        ">2. decoder_states_inputs - previous timestep's hidden state & cell state\n",
        "\n",
        "Outputs - \n",
        ">1. decoder_outputs2 - one-hot vector represeting the predicted word \n",
        ">2. decoder_states2 - current timestep's hidden state & cell state"
      ]
    },
    {
      "cell_type": "code",
      "metadata": {
        "id": "q3LaD1ovc9tr",
        "colab_type": "code",
        "colab": {}
      },
      "source": [
        "decoder_states2 = [state_h2, state_c2]\n",
        "decoder_model = Model(\n",
        "    [decoder_inputs] + decoder_states_inputs,\n",
        "    [decoder_outputs2] + decoder_states2)"
      ],
      "execution_count": 0,
      "outputs": []
    },
    {
      "cell_type": "code",
      "metadata": {
        "id": "BjLIBhifeKZC",
        "colab_type": "code",
        "colab": {}
      },
      "source": [
        ""
      ],
      "execution_count": 0,
      "outputs": []
    },
    {
      "cell_type": "markdown",
      "metadata": {
        "id": "84O7HfC8eK7V",
        "colab_type": "text"
      },
      "source": [
        "## Decode Sequence"
      ]
    },
    {
      "cell_type": "code",
      "metadata": {
        "id": "ETA6jUB_R1se",
        "colab_type": "code",
        "colab": {}
      },
      "source": [
        "# https://github.com/numpy/numpy/issues/15201#issue-543733072\n",
        "\n",
        "def categorical(p):\n",
        "    return (p.cumsum(-1) >= np.random.uniform(size=p.shape[:-1])[..., None]).argmax(-1)"
      ],
      "execution_count": 0,
      "outputs": []
    },
    {
      "cell_type": "code",
      "metadata": {
        "id": "PlR1ANdcHB-b",
        "colab_type": "code",
        "colab": {}
      },
      "source": [
        "def decode_sequence(input_seq):\n",
        "    # Encode the input as state vectors.\n",
        "    states_value = encoder_model.predict(input_seq)\n",
        "    # Generate empty target sequence of length 1.\n",
        "    target_seq = np.zeros((1,1))\n",
        "    # Populate the first character of target sequence with the start character.\n",
        "    target_seq[0, 0] = target_token_index['START_']\n",
        "\n",
        "    # Sampling loop for a batch of sequences\n",
        "    # (to simplify, here we assume a batch of size 1).\n",
        "    stop_condition = False\n",
        "    decoded_sentence = ''\n",
        "    while not stop_condition:\n",
        "        output_tokens, h, c = decoder_model.predict([target_seq] + states_value)\n",
        "\n",
        "        # Sampling a token with max probability\n",
        "        sampled_token_index = np.argmax(output_tokens[0, -1, :])\n",
        "\n",
        "        # Sample from a categorical distribution\n",
        "        # logits = output_tokens[0, -1, :]\n",
        "        # sampled_token_index = categorical(np.reshape(logits, [-1, len(logits)]))[0]\n",
        "         \n",
        "        sampled_char = reverse_target_char_index[sampled_token_index]\n",
        "        decoded_sentence += ' '+sampled_char\n",
        "\n",
        "        # Exit condition: either hit max length\n",
        "        # or find stop character.\n",
        "        if (sampled_char == '_END' or\n",
        "           len(decoded_sentence) > max_length_tar):\n",
        "            stop_condition = True\n",
        "\n",
        "        # Update the target sequence (of length 1).\n",
        "        target_seq = np.zeros((1,1))\n",
        "        target_seq[0, 0] = sampled_token_index\n",
        "\n",
        "        # Update states\n",
        "        states_value = [h, c]\n",
        "\n",
        "    return decoded_sentence"
      ],
      "execution_count": 0,
      "outputs": []
    },
    {
      "cell_type": "markdown",
      "metadata": {
        "id": "21rFGMBx3FOU",
        "colab_type": "text"
      },
      "source": [
        "My attempt at using ***Beam Search Decoding*** using probabilites"
      ]
    },
    {
      "cell_type": "code",
      "metadata": {
        "id": "yGG-_B9U3jwH",
        "colab_type": "code",
        "colab": {}
      },
      "source": [
        "def beam_search_decoder(predictions, top_k = 3):\n",
        "    #start with an empty sequence with zero score\n",
        "    output_sequences = [([], 0)]\n",
        "    \n",
        "    #looping through all the predictions\n",
        "    for token_probs in predictions:\n",
        "        new_sequences = []\n",
        "        \n",
        "        #append new tokens to old sequences and re-score\n",
        "        for old_seq, old_score in output_sequences:\n",
        "            for char_index in range(len(token_probs)):\n",
        "                new_seq = old_seq + [char_index]\n",
        "                #considering log-likelihood for scoring\n",
        "                new_score = old_score + math.log(token_probs[char_index])\n",
        "                new_sequences.append((new_seq, new_score))\n",
        "                \n",
        "        # sort all new sequences in the de-creasing order of their score\n",
        "        output_sequences = sorted(new_sequences, key = lambda val: val[1], reverse = True)\n",
        "        \n",
        "        #select top-k based on score \n",
        "        # *Note- best sequence is with the highest score\n",
        "        output_sequences = output_sequences[:top_k]\n",
        "        \n",
        "    return output_sequences"
      ],
      "execution_count": 0,
      "outputs": []
    },
    {
      "cell_type": "code",
      "metadata": {
        "id": "ufLP_9oW3EMo",
        "colab_type": "code",
        "colab": {}
      },
      "source": [
        "def decode_sequence_beam_search(input_seq):\n",
        "    probabilities = []\n",
        "    # Encode the input as state vectors.\n",
        "    states_value = encoder_model.predict(input_seq)\n",
        "    # Generate empty target sequence of length 1.\n",
        "    target_seq = np.zeros((1,1))\n",
        "    # Populate the first character of target sequence with the start character.\n",
        "    target_seq[0, 0] = target_token_index['START_']\n",
        "\n",
        "    # Sampling loop for a batch of sequences\n",
        "    # (to simplify, here we assume a batch of size 1).\n",
        "    stop_condition = False\n",
        "    decoded_sentence = ''\n",
        "    while not stop_condition:\n",
        "        output_tokens, h, c = decoder_model.predict([target_seq] + states_value)\n",
        "\n",
        "        # Sampling a token with max probability\n",
        "        sampled_token_index = np.argmax(output_tokens[0, -1, :])\n",
        "        probabilities.append(output_tokens[0, -1, :])\n",
        "         \n",
        "        sampled_char = reverse_target_char_index[sampled_token_index]\n",
        "        decoded_sentence += ' '+sampled_char\n",
        "\n",
        "        # Exit condition: either hit max length\n",
        "        # or find stop character.\n",
        "        if (sampled_char == '_END' or\n",
        "           len(decoded_sentence) > max_length_tar):\n",
        "            stop_condition = True\n",
        "\n",
        "        # Update the target sequence (of length 1).\n",
        "        target_seq = np.zeros((1,1))\n",
        "        target_seq[0, 0] = sampled_token_index\n",
        "\n",
        "        # Update states\n",
        "        states_value = [h, c]\n",
        "\n",
        "    # storing multiple results\n",
        "    outputs = []\n",
        "    beam_search_preds = beam_search_decoder(probabilities, top_k = 10)\n",
        "    for prob_indexes, score in beam_search_preds:\n",
        "        decoded_sentence = ''\n",
        "        for index in prob_indexes:\n",
        "            sampled_char = reverse_target_char_index[index]\n",
        "            decoded_sentence += ' '+sampled_char\n",
        "            if (sampled_char == '_END' or len(decoded_sentence) > max_length_tar):\n",
        "                break\n",
        "        outputs.append(decoded_sentence)\n",
        "\n",
        "    return outputs"
      ],
      "execution_count": 0,
      "outputs": []
    },
    {
      "cell_type": "code",
      "metadata": {
        "id": "3D2LuizE3Mjj",
        "colab_type": "code",
        "colab": {}
      },
      "source": [
        ""
      ],
      "execution_count": 0,
      "outputs": []
    },
    {
      "cell_type": "markdown",
      "metadata": {
        "id": "POra4f4p22Cd",
        "colab_type": "text"
      },
      "source": [
        "### Utility Function\n",
        "\n",
        "Function that makes a request at [My Memory Translated](https://mymemory.translated.net/) to get back the English translation of predicted Spanish sentence."
      ]
    },
    {
      "cell_type": "code",
      "metadata": {
        "id": "sOoLPFHl2cQ8",
        "colab_type": "code",
        "colab": {}
      },
      "source": [
        "url = \"https://api.mymemory.translated.net/get\"\n",
        "\n",
        "def get_translation(seq):\n",
        "    data = {}\n",
        "    data[\"q\"] = seq\n",
        "    data[\"langpair\"] = \"es|en\"\n",
        "    response = requests.post(url, data=data)\n",
        "    translated_text = response.json()[\"responseData\"][\"translatedText\"]\n",
        "    return translated_text"
      ],
      "execution_count": 0,
      "outputs": []
    },
    {
      "cell_type": "code",
      "metadata": {
        "id": "XDtGwIk521ew",
        "colab_type": "code",
        "colab": {}
      },
      "source": [
        ""
      ],
      "execution_count": 0,
      "outputs": []
    },
    {
      "cell_type": "markdown",
      "metadata": {
        "id": "BTPGE2Bj2qeW",
        "colab_type": "text"
      },
      "source": [
        "### White Distance\n",
        "\n",
        "Metric to find similarity between two sentences"
      ]
    },
    {
      "cell_type": "code",
      "metadata": {
        "id": "gC8hRHhZwN7T",
        "colab_type": "code",
        "colab": {}
      },
      "source": [
        "def upper_case(s):\n",
        "    return s.upper()\n",
        "\n",
        "def get_pairs(s):\n",
        "    pairs = []\n",
        "    words = s.strip().split(' ')\n",
        "    for word in words:\n",
        "        for idx in range(len(word)-1):\n",
        "            pairs.append(word[idx:idx+2])\n",
        "    return pairs\n",
        "\n",
        "def get_similarity(s1, s2):\n",
        "    s1 = upper_case(s1)\n",
        "    s2 = upper_case(s2)\n",
        "    p1 = get_pairs(s1)\n",
        "    p2 = get_pairs(s2)\n",
        "    nr = 2*len(list((Counter(p1) & Counter(p2)).elements()))\n",
        "    dr = len(p1)+len(p2)\n",
        "    return nr/dr"
      ],
      "execution_count": 0,
      "outputs": []
    },
    {
      "cell_type": "code",
      "metadata": {
        "id": "3jTeVysT20Zr",
        "colab_type": "code",
        "colab": {}
      },
      "source": [
        ""
      ],
      "execution_count": 0,
      "outputs": []
    },
    {
      "cell_type": "markdown",
      "metadata": {
        "id": "fThNq6hfiLcc",
        "colab_type": "text"
      },
      "source": [
        "### Training Data"
      ]
    },
    {
      "cell_type": "code",
      "metadata": {
        "id": "lYrRbZRMhvMm",
        "colab_type": "code",
        "outputId": "61a6f210-7b14-49f8-961c-01d71e65a21d",
        "colab": {
          "base_uri": "https://localhost:8080/",
          "height": 1000
        }
      },
      "source": [
        "train_gen = generate_batch(X_train, y_train, batch_size = 1)\n",
        "k=-1\n",
        "for _ in range(30):\n",
        "    k+=1\n",
        "    (input_seq, actual_output), _ = next(train_gen)\n",
        "    decoded_sentence = decode_sequence(input_seq)\n",
        "    print('Input Sentence:', X_train[k:k+1].values[0])\n",
        "    print('Actual Translation:', y_train[k:k+1].values[0][6:-4])\n",
        "    print('Predicted Translation (Spanish):', decoded_sentence[:-4])\n",
        "    # predicted spanish sequence back to english\n",
        "    print('Predicted Translation (English):', get_translation(decoded_sentence[:-4]))\n",
        "    print(\"=\"*60, end=\"\\n\\n\")"
      ],
      "execution_count": 60,
      "outputs": [
        {
          "output_type": "stream",
          "text": [
            "Input Sentence: tom is still baffled\n",
            "Actual Translation:  tom está todavía confuso \n",
            "Predicted Translation (Spanish):  tom todavía está borracho \n",
            "Predicted Translation (English): tom is still drunk\n",
            "============================================================\n",
            "\n",
            "Input Sentence: i think you were better looking with long hair\n",
            "Actual Translation:  creo que estabas más guapo con el pelo largo \n",
            "Predicted Translation (Spanish):  creo que te ves con el gerente de estado muy ocup\n",
            "Predicted Translation (English): I think you see the state manager very busy\n",
            "============================================================\n",
            "\n",
            "Input Sentence: wont you speak to tom about it\n",
            "Actual Translation:  ¿no hablaráis con tom al respecto \n",
            "Predicted Translation (Spanish):  ¿no te sientes a tom con algo de eso \n",
            "Predicted Translation (English): Don&#39;t you sit down tom with some of that\n",
            "============================================================\n",
            "\n",
            "Input Sentence: tom is taller than i am\n",
            "Actual Translation:  tom es más alto que yo \n",
            "Predicted Translation (Spanish):  tom es más alto que yo \n",
            "Predicted Translation (English): Tom is taller than I am.\n",
            "============================================================\n",
            "\n",
            "Input Sentence: how long are you planning to stay here\n",
            "Actual Translation:  ¿cuánto tiempo estás planeando estar aquí \n",
            "Predicted Translation (Spanish):  ¿cuánto tiempo tienes que hacer aquí \n",
            "Predicted Translation (English): How much time do you have to do here\n",
            "============================================================\n",
            "\n",
            "Input Sentence: tom is lying in bed\n",
            "Actual Translation:  tom está echado en la cama \n",
            "Predicted Translation (Spanish):  tom está mintiendo en la cama \n",
            "Predicted Translation (English): tom is lying in bed\n",
            "============================================================\n",
            "\n",
            "Input Sentence: what an idiot\n",
            "Actual Translation:  ¡qué idiota \n",
            "Predicted Translation (Spanish):  ¡qué idiota \n",
            "Predicted Translation (English): What an idiot.\n",
            "============================================================\n",
            "\n",
            "Input Sentence: i think you ought to postpone the meeting\n",
            "Actual Translation:  creo que deberías posponer la reunión \n",
            "Predicted Translation (Spanish):  creo que deberías haber visto antes \n",
            "Predicted Translation (English): i think you should have seen before\n",
            "============================================================\n",
            "\n",
            "Input Sentence: it is very short\n",
            "Actual Translation:  es muy corto \n",
            "Predicted Translation (Spanish):  es muy hambriento \n",
            "Predicted Translation (English): he is very hungry\n",
            "============================================================\n",
            "\n",
            "Input Sentence: he is overweight\n",
            "Actual Translation:  tiene sobrepeso \n",
            "Predicted Translation (Spanish):  tiene sobrepeso \n",
            "Predicted Translation (English): Are overweight\n",
            "============================================================\n",
            "\n",
            "Input Sentence: why are you so interested in that\n",
            "Actual Translation:  ¿por qué te interesa tanto eso \n",
            "Predicted Translation (Spanish):  ¿por qué estás tan interesado en eso \n",
            "Predicted Translation (English): Why are you so interested in that\n",
            "============================================================\n",
            "\n",
            "Input Sentence: would you like to go abroad\n",
            "Actual Translation:  ¿te gustaría ir al extranjero \n",
            "Predicted Translation (Spanish):  ¿te gustaría ir al extranjero \n",
            "Predicted Translation (English): Would you like to go abroad?\n",
            "============================================================\n",
            "\n",
            "Input Sentence: youre the only one who volunteered to help\n",
            "Actual Translation:  usted es la única que se presentó voluntaria para ayudar \n",
            "Predicted Translation (Spanish):  eres el único que se puede ayudar a la gente \n",
            "Predicted Translation (English): you&#39;re the only one who can help people\n",
            "============================================================\n",
            "\n",
            "Input Sentence: he never returned from that expedition\n",
            "Actual Translation:  él nunca volvió de aquella expedición \n",
            "Predicted Translation (Spanish):  él nunca volvió a la pared \n",
            "Predicted Translation (English): he never came back to the wall\n",
            "============================================================\n",
            "\n",
            "Input Sentence: i waited for ten minutes\n",
            "Actual Translation:  esperé por diez minutos \n",
            "Predicted Translation (Spanish):  esperé diez minutos \n",
            "Predicted Translation (English): I waited for ten minutes.\n",
            "============================================================\n",
            "\n",
            "Input Sentence: tom looks happy today\n",
            "Actual Translation:  hoy tom parece feliz \n",
            "Predicted Translation (Spanish):  tom parece que hoy \n",
            "Predicted Translation (English): Tom looks like today\n",
            "============================================================\n",
            "\n",
            "Input Sentence: i wasnt prepared for that\n",
            "Actual Translation:  no estaba listo para ello \n",
            "Predicted Translation (Spanish):  no estaba preparado para ello \n",
            "Predicted Translation (English): I was not ready for it\n",
            "============================================================\n",
            "\n",
            "Input Sentence: where would you like to go first\n",
            "Actual Translation:  ¿adónde te gustaría ir primero \n",
            "Predicted Translation (Spanish):  ¿adónde te gustaría ir al concierto \n",
            "Predicted Translation (English): Where would you like to go to the concert\n",
            "============================================================\n",
            "\n",
            "Input Sentence: she sent him a postcard\n",
            "Actual Translation:  le envió una postal \n",
            "Predicted Translation (Spanish):  le envió una bendición \n",
            "Predicted Translation (English): sent him a blessing\n",
            "============================================================\n",
            "\n",
            "Input Sentence: filiberto just lost his job\n",
            "Actual Translation:  filiberto acaba de perder su empleo \n",
            "Predicted Translation (Spanish):  filiberto acaba de hablar de él \n",
            "Predicted Translation (English): filiberto just talked about him\n",
            "============================================================\n",
            "\n",
            "Input Sentence: tom doesnt like the color of the walls in his bedroom\n",
            "Actual Translation:  a tom no le gusta el color de las paredes de su habitación \n",
            "Predicted Translation (Spanish):  a tom no le gusta la llave de la escuela en el qu\n",
            "Predicted Translation (English): Tom doesn&#39;t like the school key in which\n",
            "============================================================\n",
            "\n",
            "Input Sentence: thats a good response\n",
            "Actual Translation:  es una buena respuesta \n",
            "Predicted Translation (Spanish):  es una buena idea \n",
            "Predicted Translation (English): It is a good idea.\n",
            "============================================================\n",
            "\n",
            "Input Sentence: the two girls wore the same dress to the dance\n",
            "Actual Translation:  las dos chicas vistieron el mismo vestido para el baile \n",
            "Predicted Translation (Spanish):  los dos chicas se llenaron de su lado izquierdo \n",
            "Predicted Translation (English): the two girls filled up on his left side\n",
            "============================================================\n",
            "\n",
            "Input Sentence: tom doesnt want to learn french\n",
            "Actual Translation:  tom no quiere aprender francés \n",
            "Predicted Translation (Spanish):  tom no quiere aprender francés \n",
            "Predicted Translation (English): Tom wants to learn French.\n",
            "============================================================\n",
            "\n",
            "Input Sentence: it just doesnt work that way\n",
            "Actual Translation:  sencillamente no funciona así \n",
            "Predicted Translation (Spanish):  sencillamente no funciona así \n",
            "Predicted Translation (English): It just doesn't work that way.\n",
            "============================================================\n",
            "\n",
            "Input Sentence: it is difficult for me to pronounce the word\n",
            "Actual Translation:  me cuesta pronunciar la palabra \n",
            "Predicted Translation (Spanish):  es difícil de lo que me está pasando el brazo \n",
            "Predicted Translation (English): it&#39;s hard what&#39;s happening to my arm\n",
            "============================================================\n",
            "\n",
            "Input Sentence: tom doesnt have anything\n",
            "Actual Translation:  tom no tiene nada \n",
            "Predicted Translation (Spanish):  tom no tiene nada \n",
            "Predicted Translation (English): I don’t want anything.\n",
            "============================================================\n",
            "\n",
            "Input Sentence: the students are happy but the teachers are not\n",
            "Actual Translation:  los estudiantes son felices pero los profesores no lo son \n",
            "Predicted Translation (Spanish):  los estudiantes están al profesor de los amigos\n",
            "Predicted Translation (English): students are friends teacher\n",
            "============================================================\n",
            "\n",
            "Input Sentence: let me rephrase it\n",
            "Actual Translation:  lo preguntaré de otro modo \n",
            "Predicted Translation (Spanish):  déjame haber hecho eso \n",
            "Predicted Translation (English): let me have done that\n",
            "============================================================\n",
            "\n",
            "Input Sentence: is there anything i should know\n",
            "Actual Translation:  ¿hay algo que debería saber \n",
            "Predicted Translation (Spanish):  ¿hay algo que hacer lo que se necesita \n",
            "Predicted Translation (English): Is there anything to do what it takes\n",
            "============================================================\n",
            "\n"
          ],
          "name": "stdout"
        }
      ]
    },
    {
      "cell_type": "code",
      "metadata": {
        "id": "m3jAtOUk4vNj",
        "colab_type": "code",
        "outputId": "045526b8-eeff-43b6-8eca-3fcc719dc86a",
        "colab": {
          "base_uri": "https://localhost:8080/",
          "height": 1000
        }
      },
      "source": [
        "train_gen = generate_batch(X_train, y_train, batch_size = 1)\n",
        "k=-1\n",
        "for _ in range(20):\n",
        "    k+=1\n",
        "    similarity_scores = []\n",
        "    (input_seq, actual_output), _ = next(train_gen)\n",
        "    decoded_sentences = decode_sequence_beam_search(input_seq)\n",
        "    acutal_sentence = y_train[k:k+1].values[0][6:-4]\n",
        "    print('Input Sentence:', X_train[k:k+1].values[0])\n",
        "    print('Actual Translation:', acutal_sentence)\n",
        "    for idx, pred in enumerate(decoded_sentences):\n",
        "        similarity_scores.append(get_similarity(pred, acutal_sentence))\n",
        "    dictionary = dict(zip(similarity_scores, decoded_sentences))\n",
        "    dictionary = {k: v for k, v in sorted(dictionary.items(), \n",
        "                                          key=lambda item: item[1], \n",
        "                                          reverse=True)}\n",
        "    closest_sentence = decoded_sentences[np.argmax(similarity_scores)]\n",
        "    print(f\"Closest Predicted Sentence (Spanish): {closest_sentence[:-4]}\")\n",
        "    print(f\"Closest Predicted Sentence (English): {get_translation(closest_sentence[:-4])}\", end=\"\\n\\n\")\n",
        "    decoded_sentences.remove(closest_sentence)\n",
        "    for idx, pred in enumerate(list(dictionary.values())[:5]):\n",
        "        print(f'Predicted Translation {idx}: {pred[:-4]}')\n",
        "    print(\"=\"*30, end=\"\\n\\n\")"
      ],
      "execution_count": 61,
      "outputs": [
        {
          "output_type": "stream",
          "text": [
            "Input Sentence: tom is still baffled\n",
            "Actual Translation:  tom está todavía confuso \n",
            "Closest Predicted Sentence (Spanish):  tom todavía está confuso \n",
            "Closest Predicted Sentence (English): tom is still confused\n",
            "\n",
            "Predicted Translation 0:  tom todavía está todavía \n",
            "Predicted Translation 1:  tom todavía está nervioso \n",
            "Predicted Translation 2:  tom todavía está durmiendo \n",
            "Predicted Translation 3:  tom todavía está desorientado \n",
            "Predicted Translation 4:  tom todavía está desconcertado \n",
            "==============================\n",
            "\n",
            "Input Sentence: i think you were better looking with long hair\n",
            "Actual Translation:  creo que estabas más guapo con el pelo largo \n",
            "Closest Predicted Sentence (Spanish):  creo que te ves con el sonido de estado muy fel\n",
            "Closest Predicted Sentence (English): I think you see yourself with the very happy status sound\n",
            "\n",
            "Predicted Translation 0:  creo que ves ves con el sonido de estado muy ocup\n",
            "Predicted Translation 1:  creo que ves ves con el sonido de estado muy fel\n",
            "Predicted Translation 2:  creo que ves ves con el gerente de estado muy ocup\n",
            "Predicted Translation 3:  creo que ves ves con el gerente de estado muy fel\n",
            "Predicted Translation 4:  creo que ves ves con el gerente de estado muy \n",
            "==============================\n",
            "\n",
            "Input Sentence: wont you speak to tom about it\n",
            "Actual Translation:  ¿no hablaráis con tom al respecto \n",
            "Closest Predicted Sentence (Spanish):  ¿no te hables a tom con algo \n",
            "Input Sentence: tom is lying in bed\n",
            "Actual Translation:  tom está echado en la cama \n",
            "Closest Predicted Sentence (Spanish):  tom está tirado en la cama \n",
            "Closest Predicted Sentence (English): tom is lying on the bed\n",
            "\n",
            "Predicted Translation 0:  tomás está tumbado en la cama \n",
            "Predicted Translation 1:  tomás está mintiendo en la cama \n",
            "Predicted Translation 2:  tomás está en en la cama \n",
            "Predicted Translation 3:  tom está tumbado en la cama \n",
            "Predicted Translation 4:  tom está tomando en la cama \n",
            "==============================\n",
            "\n",
            "Input Sentence: what an idiot\n",
            "Actual Translation:  ¡qué idiota \n",
            "Closest Predicted Sentence (Spanish):  ¡qué idiota \n",
            "Closest Predicted Sentence (English): What an idiot.\n",
            "\n",
            "Predicted Translation 0:  ¡qué imbécil \n",
            "Predicted Translation 1:  ¡qué idiota id\n",
            "Predicted Translation 2:  ¡qué idiota \n",
            "Predicted Translation 3:  ¡qué ganado \n",
            "Predicted Translation 4:  ¡qué error \n",
            "==============================\n",
            "\n",
            "Input Sentence: i think you ought to postpone the meeting\n",
            "Actual Translation:  creo que deberías posponer la reunión \n",
            "Closest Predicted Sentence (Spanish):  creo que deberías haber visto \n",
            "Closest Predicted Sentence (English): I think you should have seen\n",
            "\n",
            "Predicted Translation 0:  creo que deberías haber visto antes \n",
            "Predicted Translation 1:  creo que deberías haber visto \n",
            "Predicted Translation 2:  creo que deberías haber visto a \n",
            "Predicted Translation 3:  creo que deberías haber perdido antes \n",
            "Predicted Translation 4:  creo que deberías haber ido antes \n",
            "==============================\n",
            "\n",
            "Input Sentence: it is very short\n",
            "Actual Translation:  es muy corto \n",
            "Closest Predicted Sentence (Spanish):  es muy corto \n",
            "Closest Predicted Sentence (English): Is too short\n",
            "\n",
            "Predicted Translation 0:  es muy seco \n",
            "Predicted Translation 1:  es muy sabroso \n",
            "Predicted Translation 2:  es muy hambriento \n",
            "Predicted Translation 3:  es muy doloroso \n",
            "Predicted Translation 4:  es muy divertido \n",
            "==============================\n",
            "\n",
            "Input Sentence: he is overweight\n",
            "Actual Translation:  tiene sobrepeso \n",
            "Closest Predicted Sentence (Spanish):  tiene sobrepeso \n",
            "Closest Predicted Sentence (English): Are overweight\n",
            "\n",
            "Predicted Translation 0:  él sobrepeso \n",
            "Predicted Translation 1:  él que \n",
            "Predicted Translation 2:  tiene sobrepeso \n",
            "Predicted Translation 3:  tiene los \n",
            "Predicted Translation 4:  tiene la \n",
            "==============================\n",
            "\n",
            "Input Sentence: why are you so interested in that\n",
            "Actual Translation:  ¿por qué te interesa tanto eso \n",
            "Closest Predicted Sentence (Spanish):  ¿por qué está tan interesado en eso \n",
            "Closest Predicted Sentence (English): Why are you so interested in that\n",
            "\n",
            "Predicted Translation 0:  ¿por qué estás tan interesado en mí \n",
            "Predicted Translation 1:  ¿por qué estás tan interesado en ello \n",
            "Predicted Translation 2:  ¿por qué estás tan interesado en absoluto \n",
            "Predicted Translation 3:  ¿por qué estás tan interesado \n",
            "Predicted Translation 4:  ¿por qué estás tan feliz en eso \n",
            "==============================\n",
            "\n",
            "Input Sentence: would you like to go abroad\n",
            "Actual Translation:  ¿te gustaría ir al extranjero \n",
            "Closest Predicted Sentence (Spanish):  ¿te gustaría ir al extranjero \n",
            "Closest Predicted Sentence (English): Would you like to go abroad?\n",
            "\n",
            "Predicted Translation 0:  ¿te gustaría salir al extranjero \n",
            "Predicted Translation 1:  ¿te gustaría salir a extranjero \n",
            "Predicted Translation 2:  ¿te gustaría ir del extranjero \n",
            "Predicted Translation 3:  ¿te gustaría ir al extranjero \n",
            "Predicted Translation 4:  ¿te gustaría ir a extranjero \n",
            "==============================\n",
            "\n",
            "Input Sentence: youre the only one who volunteered to help\n",
            "Actual Translation:  usted es la única que se presentó voluntaria para ayudar \n",
            "Closest Predicted Sentence (Spanish):  eres el único que se puede ayudar a la gente \n",
            "Closest Predicted Sentence (English): you&#39;re the only one who can help people\n",
            "\n",
            "Predicted Translation 0:  eres el único que se puede permitirse a las gente \n",
            "Predicted Translation 1:  eres el único que se puede permitirse a la muerte \n",
            "Predicted Translation 2:  eres el único que se puede permitirse a la gente \n",
            "Predicted Translation 3:  eres el único que se puede llamar a la gente \n",
            "Predicted Translation 4:  eres el único que se puede evitar a las gente \n",
            "==============================\n",
            "\n",
            "Input Sentence: he never returned from that expedition\n",
            "Actual Translation:  él nunca volvió de aquella expedición \n",
            "Closest Predicted Sentence (Spanish):  él nunca volvió a la botella \n",
            "Closest Predicted Sentence (English): he never went back to the bottle\n",
            "\n",
            "Predicted Translation 0:  él nunca volvió a la pared \n",
            "Predicted Translation 1:  él nunca volvió a la isla \n",
            "Predicted Translation 2:  él nunca volvió a la heladera \n",
            "Predicted Translation 3:  él nunca volvió a la botella \n",
            "Predicted Translation 4:  él nunca miró a la pared \n",
            "==============================\n",
            "\n",
            "Input Sentence: i waited for ten minutes\n",
            "Actual Translation:  esperé por diez minutos \n",
            "Closest Predicted Sentence (Spanish):  esperé diez minutos \n",
            "Closest Predicted Sentence (English): I waited for ten minutes.\n",
            "\n",
            "Predicted Translation 0:  yo diez minutos \n",
            "Predicted Translation 1:  lo por minutos \n",
            "Predicted Translation 2:  esperé por minutos \n",
            "Predicted Translation 3:  esperé hasta minutos \n",
            "Predicted Translation 4:  esperé en minutos \n",
            "==============================\n",
            "\n",
            "Input Sentence: tom looks happy today\n",
            "Actual Translation:  hoy tom parece feliz \n",
            "Closest Predicted Sentence (Spanish):  tom parece que ho\n",
            "Closest Predicted Sentence (English): tom it seems that ho\n",
            "\n",
            "Predicted Translation 0:  tom se que se \n",
            "Predicted Translation 1:  tom se que hoy \n",
            "Predicted Translation 2:  tom se estar hoy \n",
            "Predicted Translation 3:  tom parece que se \n",
            "Predicted Translation 4:  tom parece que ho\n",
            "==============================\n",
            "\n",
            "Input Sentence: i wasnt prepared for that\n",
            "Actual Translation:  no estaba listo para ello \n",
            "Closest Predicted Sentence (Spanish):  no estaba preparado por ello \n",
            "Closest Predicted Sentence (English): I was not prepared for it\n",
            "\n",
            "Predicted Translation 0:  no estaba preparado por ello \n",
            "Predicted Translation 1:  no estaba preparado para mí \n",
            "Predicted Translation 2:  no estaba preparado para eso \n",
            "Predicted Translation 3:  no estaba preparado para ello \n",
            "Predicted Translation 4:  no estaba preparado \n",
            "==============================\n",
            "\n",
            "Input Sentence: where would you like to go first\n",
            "Actual Translation:  ¿adónde te gustaría ir primero \n",
            "Closest Predicted Sentence (Spanish):  ¿adónde te gustaría ir primero concierto \n",
            "Closest Predicted Sentence (English): Where would you like to go first?\n",
            "\n",
            "Predicted Translation 0:  ¿dónde te gustaría ir primero concierto \n",
            "Predicted Translation 1:  ¿dónde te gustaría ir al concierto \n",
            "Predicted Translation 2:  ¿con te gustaría ir al concierto \n",
            "Predicted Translation 3:  ¿adónde te gustaría ir primero concierto \n",
            "Predicted Translation 4:  ¿adónde te gustaría ir al principio \n",
            "==============================\n",
            "\n",
            "Input Sentence: she sent him a postcard\n",
            "Actual Translation:  le envió una postal \n",
            "Closest Predicted Sentence (Spanish):  le envió una postal \n",
            "Closest Predicted Sentence (English): She sent him a postcard.\n",
            "\n",
            "Predicted Translation 0:  le envió una tarjeta \n",
            "Predicted Translation 1:  le envió una postal \n",
            "Predicted Translation 2:  le envió una fortuna \n",
            "Predicted Translation 3:  le envió una eternidad \n",
            "Predicted Translation 4:  le envió una carta \n",
            "==============================\n",
            "\n",
            "Input Sentence: filiberto just lost his job\n",
            "Actual Translation:  filiberto acaba de perder su empleo \n",
            "Closest Predicted Sentence (Spanish):  filiberto acaba de perder de él \n",
            "Closest Predicted Sentence (English): filiberto just lost from him\n",
            "\n",
            "Predicted Translation 0:  filiberto y de hablar de él \n",
            "Predicted Translation 1:  filiberto de de hablar de él \n",
            "Predicted Translation 2:  filiberto acaba de perder de él \n",
            "Predicted Translation 3:  filiberto acaba de hablar de él \n",
            "Predicted Translation 4:  filiberto acaba de hablar de sus \n",
            "==============================\n",
            "\n"
          ],
          "name": "stdout"
        }
      ]
    },
    {
      "cell_type": "markdown",
      "metadata": {
        "id": "hONMRqaIJmko",
        "colab_type": "text"
      },
      "source": [
        "The combination of `White Distance` and `Beam search` with width 10 definitely. For exmaple - compare the result of greedy search (previous cell) vs the above combination (this cell) for some of the sentences. You would notice, that we get more and more closer to the acutal translation. \n",
        "\n",
        "Example 1 \n",
        "```python\n",
        "# greedy \n",
        "Input Sentence: tom is still baffled\n",
        "Actual Translation:  tom está todavía confuso \n",
        "Predicted Translation (Spanish):  tom todavía está borracho \n",
        "Predicted Translation (English): tom is still drunk\n",
        "```\n",
        "```python\n",
        "# beam search + white distance\n",
        "Input Sentence: tom is still baffled\n",
        "Actual Translation:  tom está todavía confuso \n",
        "Closest Predicted Sentence (Spanish):  tom todavía está confuso \n",
        "Closest Predicted Sentence (English): tom is still confused\n",
        "```\n",
        "\n",
        "Example 2 \n",
        "```python\n",
        "# greedy\n",
        "Input Sentence: where would you like to go first\n",
        "Actual Translation:  ¿adónde te gustaría ir primero \n",
        "Predicted Translation (Spanish):  ¿adónde te gustaría ir al concierto \n",
        "Predicted Translation (English): Where would you like to go to the concert\n",
        "```\n",
        "```python\n",
        "# beam search + white distance\n",
        "Input Sentence: where would you like to go first\n",
        "Actual Translation:  ¿adónde te gustaría ir primero \n",
        "Closest Predicted Sentence (Spanish):  ¿adónde te gustaría ir primero concierto \n",
        "Closest Predicted Sentence (English): Where would you like to go first?\n",
        "```\n",
        "\n",
        "Example 3\n",
        "```python\n",
        "# greedy\n",
        "Input Sentence: she sent him a postcard\n",
        "Actual Translation:  le envió una postal \n",
        "Predicted Translation (Spanish):  le envió una bendición \n",
        "Predicted Translation (English): sent him a blessing\n",
        "```\n",
        "```python\n",
        "# beam search + white distance\n",
        "Input Sentence: she sent him a postcard\n",
        "Actual Translation:  le envió una postal \n",
        "Closest Predicted Sentence (Spanish):  le envió una postal \n",
        "Closest Predicted Sentence (English): She sent him a postcard.\n",
        "```\n",
        "\n"
      ]
    },
    {
      "cell_type": "code",
      "metadata": {
        "id": "qytlFdnrhvG5",
        "colab_type": "code",
        "colab": {}
      },
      "source": [
        ""
      ],
      "execution_count": 0,
      "outputs": []
    },
    {
      "cell_type": "markdown",
      "metadata": {
        "id": "128CBoYriOuU",
        "colab_type": "text"
      },
      "source": [
        "### Testing Data"
      ]
    },
    {
      "cell_type": "code",
      "metadata": {
        "id": "QdkmKx2HhvCk",
        "colab_type": "code",
        "colab": {}
      },
      "source": [
        "val_gen = generate_batch(X_test, y_test, batch_size = 1)\n",
        "k=-1"
      ],
      "execution_count": 0,
      "outputs": []
    },
    {
      "cell_type": "code",
      "metadata": {
        "id": "mTd6pAdqiQuQ",
        "colab_type": "code",
        "outputId": "75756f66-5c11-49ac-a4bc-587238e1d33b",
        "colab": {
          "base_uri": "https://localhost:8080/",
          "height": 1000
        }
      },
      "source": [
        "for _ in range(20):\n",
        "    k+=1\n",
        "    (input_seq, actual_output), _ = next(val_gen)\n",
        "    decoded_sentence = decode_sequence(input_seq)\n",
        "    print('Input Sentence:', X_test[k:k+1].values[0])\n",
        "    print('Actual Translation:', y_test[k:k+1].values[0][6:-4])\n",
        "    print('Predicted Translation (Spanish):', decoded_sentence[:-4])\n",
        "    # predicted spanish sequence back to english\n",
        "    print('Predicted Translation (English):', get_translation(decoded_sentence[:-4]))\n",
        "    print(\"=\"*60, end=\"\\n\\n\")"
      ],
      "execution_count": 64,
      "outputs": [
        {
          "output_type": "stream",
          "text": [
            "Input Sentence: have you worked out the answer yet\n",
            "Actual Translation:  ¿has encontrado la respuesta \n",
            "Predicted Translation (Spanish):  ¿has decidido todavía no tiene la respuesta \n",
            "Predicted Translation (English): Have you decided you still don&#39;t have the answer\n",
            "============================================================\n",
            "\n",
            "Input Sentence: you should go and see for yourselves\n",
            "Actual Translation:  deberían ir a verlo ustedes mismas \n",
            "Predicted Translation (Spanish):  deberías ir a verlo \n",
            "Predicted Translation (English): you should go see it\n",
            "============================================================\n",
            "\n",
            "Input Sentence: once a month she has lunch with her father\n",
            "Actual Translation:  ella almuerza con su padre una vez al mes \n",
            "Predicted Translation (Spanish):  un padre en inglés es una mala noche \n",
            "Predicted Translation (English): a father in english is a bad night\n",
            "============================================================\n",
            "\n",
            "Input Sentence: i didnt drink that milk\n",
            "Actual Translation:  yo no tomé esa leche \n",
            "Predicted Translation (Spanish):  no bebo queso \n",
            "Predicted Translation (English): I don&#39;t drink cheese\n",
            "============================================================\n",
            "\n",
            "Input Sentence: this handbag is mine\n",
            "Actual Translation:  este bolso es mío \n",
            "Predicted Translation (Spanish):  este ordenador es nuevo \n",
            "Predicted Translation (English): this computer is new\n",
            "============================================================\n",
            "\n",
            "Input Sentence: you dont even know me\n",
            "Actual Translation:  ni siquiera me conoces \n",
            "Predicted Translation (Spanish):  ni siquiera me conocés \n",
            "Predicted Translation (English): you do not even know me\n",
            "============================================================\n",
            "\n",
            "Input Sentence: the truth can be more painful than a lie\n",
            "Actual Translation:  la verdad puede ser más dolorosa que la mentira \n",
            "Predicted Translation (Spanish):  la verdad es más fácil de lo que se lo un niño \n",
            "Predicted Translation (English): the truth is easier than a child\n",
            "============================================================\n",
            "\n",
            "Input Sentence: she took care of the child\n",
            "Actual Translation:  ella cuidó del niño \n",
            "Predicted Translation (Spanish):  ella se sentó al menos de sus \n",
            "Predicted Translation (English): she sat at least from her\n",
            "============================================================\n",
            "\n",
            "Input Sentence: im still alive\n",
            "Actual Translation:  sigo vivo \n",
            "Predicted Translation (Spanish):  todavía estoy vivo \n",
            "Predicted Translation (English): I'm still alive.\n",
            "============================================================\n",
            "\n",
            "Input Sentence: lets try something\n",
            "Actual Translation:  permíteme hacer algo \n",
            "Predicted Translation (Spanish):  hagamos algo \n",
            "Predicted Translation (English): Let us see some action.\n",
            "============================================================\n",
            "\n",
            "Input Sentence: get yourself a decent suit\n",
            "Actual Translation:  consíguete un traje decente \n",
            "Predicted Translation (Spanish):  hazlo un asunto en su traje \n",
            "Predicted Translation (English): make it a matter in his suit\n",
            "============================================================\n",
            "\n",
            "Input Sentence: try this on its your size\n",
            "Actual Translation:  pruébate esto es de tu talla \n",
            "Predicted Translation (Spanish):  pruébese esta persona a dar el favor \n",
            "Predicted Translation (English): try this person to give the favor\n",
            "============================================================\n",
            "\n",
            "Input Sentence: i dont have anything else to add\n",
            "Actual Translation:  no tengo nada más que añadir \n",
            "Predicted Translation (Spanish):  no tengo nada más que hacer \n",
            "Predicted Translation (English): I've got no more to do.\n",
            "============================================================\n",
            "\n",
            "Input Sentence: tom lived in a trailer\n",
            "Actual Translation:  tom vivía en una caravana \n",
            "Predicted Translation (Spanish):  tom gastó en un balde \n",
            "Predicted Translation (English): tom spent in a bucket\n",
            "============================================================\n",
            "\n",
            "Input Sentence: the reason is that i want to be an english teacher\n",
            "Actual Translation:  la razón es que quiero ser un profesor de inglés \n",
            "Predicted Translation (Spanish):  la única vez es que quiero ser dinero para ese \n",
            "Predicted Translation (English): the only time is i want to be money for that\n",
            "============================================================\n",
            "\n",
            "Input Sentence: ill go take a shower now\n",
            "Actual Translation:  ahora me voy a dar una ducha \n",
            "Predicted Translation (Spanish):  iré a salir de mi asiento \n",
            "Predicted Translation (English): I will go out of my seat\n",
            "============================================================\n",
            "\n",
            "Input Sentence: tom has lost his focus\n",
            "Actual Translation:  tomás perdió la concentración \n",
            "Predicted Translation (Spanish):  tom perdió el alquiler \n",
            "Predicted Translation (English): tom lost the rent\n",
            "============================================================\n",
            "\n",
            "Input Sentence: what if you gave a speech and nobody came\n",
            "Actual Translation:  ¿y si dieras un discurso y nadie viniera \n",
            "Predicted Translation (Spanish):  ¿qué edad te dio un discurso de despedida \n",
            "Predicted Translation (English): How old gave you a farewell speech\n",
            "============================================================\n",
            "\n",
            "Input Sentence: california was the st state admitted to the united states\n",
            "Actual Translation:  california fue el trigésimo primer estado admitido en los estados unidos \n",
            "Predicted Translation (Spanish):  américa se fue arrestado en el que se puso en oct\n",
            "Predicted Translation (English): america went arrested where he got in oct\n",
            "============================================================\n",
            "\n",
            "Input Sentence: tom is brain damaged\n",
            "Actual Translation:  tom sufre de daño cerebral \n",
            "Predicted Translation (Spanish):  tom está durmiendo \n",
            "Predicted Translation (English): Is sleeping\n",
            "============================================================\n",
            "\n"
          ],
          "name": "stdout"
        }
      ]
    },
    {
      "cell_type": "code",
      "metadata": {
        "id": "o6ePOWT0FnAs",
        "colab_type": "code",
        "colab": {
          "base_uri": "https://localhost:8080/",
          "height": 1000
        },
        "outputId": "d30d22b2-4499-40b7-b255-cd780c0f4188"
      },
      "source": [
        "val_gen = generate_batch(X_test[20:40], y_test[20:40], batch_size = 1)\n",
        "k=19\n",
        "for _ in range(20):\n",
        "    k+=1\n",
        "    similarity_scores = []\n",
        "    (input_seq, actual_output), _ = next(val_gen)\n",
        "    decoded_sentences = decode_sequence_beam_search(input_seq)\n",
        "    acutal_sentence = y_test[k:k+1].values[0][6:-4]\n",
        "    print('Input Sentence:', X_test[k:k+1].values[0])\n",
        "    print('Actual Translation:', acutal_sentence)\n",
        "    for idx, pred in enumerate(decoded_sentences):\n",
        "        similarity_scores.append(get_similarity(pred, acutal_sentence))\n",
        "    dictionary = dict(zip(similarity_scores, decoded_sentences))\n",
        "    dictionary = {k: v for k, v in sorted(dictionary.items(), \n",
        "                                          key=lambda item: item[1], \n",
        "                                          reverse=True)}\n",
        "    closest_sentence = decoded_sentences[np.argmax(similarity_scores)]\n",
        "    print(f\"Closest Predicted Sentence (Spanish): {closest_sentence[:-4]}\")\n",
        "    print(f\"Closest Predicted Sentence (English): {get_translation(closest_sentence[:-4])}\", end=\"\\n\\n\")\n",
        "    decoded_sentences.remove(closest_sentence)\n",
        "    for idx, pred in enumerate(list(dictionary.values())[:5]):\n",
        "        print(f'Predicted Translation {idx}: {pred[:-4]}')\n",
        "    print(\"=\"*30, end=\"\\n\\n\")"
      ],
      "execution_count": 67,
      "outputs": [
        {
          "output_type": "stream",
          "text": [
            "Input Sentence: have you worked out the answer yet\n",
            "Actual Translation:  ¿has encontrado la respuesta \n",
            "Closest Predicted Sentence (Spanish):  ¿has tomado todavía no eres la respuesta \n",
            "Closest Predicted Sentence (English): Have you taken yet you&#39;re not the answer\n",
            "\n",
            "Predicted Translation 0:  ¿ya decidido todavía no tiene la respuesta \n",
            "Predicted Translation 1:  ¿has tomado todavía no tienes la respuesta \n",
            "Predicted Translation 2:  ¿has tomado todavía no estás la respuesta \n",
            "Predicted Translation 3:  ¿has tomado todavía no eres la respuesta \n",
            "Predicted Translation 4:  ¿has hecho todavía no tiene la respuesta \n",
            "==============================\n",
            "\n",
            "Input Sentence: you should go and see for yourselves\n",
            "Actual Translation:  deberían ir a verlo ustedes mismas \n",
            "Closest Predicted Sentence (Spanish):  deberías ir a verlo \n",
            "Closest Predicted Sentence (English): you should go see it\n",
            "\n",
            "Predicted Translation 0:  deberías ver a verlo \n",
            "Predicted Translation 1:  deberías ver a ver \n",
            "Predicted Translation 2:  deberías llamar a verlo \n",
            "Predicted Translation 3:  deberías ir a verlo \n",
            "Predicted Translation 4:  deberías ir a ver \n",
            "==============================\n",
            "\n",
            "Input Sentence: once a month she has lunch with her father\n",
            "Actual Translation:  ella almuerza con su padre una vez al mes \n",
            "Closest Predicted Sentence (Spanish):  un padre en inglés es una mala noche \n",
            "Closest Predicted Sentence (English): a father in english is a bad night\n",
            "\n",
            "Predicted Translation 0:  una padre en inglés es una mala noche \n",
            "Predicted Translation 1:  una padre en inglés es una mala educación \n",
            "Predicted Translation 2:  una padre en inglés es de mala educación \n",
            "Predicted Translation 3:  un padre en inglés es en mala noche \n",
            "Predicted Translation 4:  un padre en inglés es de mala educación \n",
            "==============================\n",
            "\n",
            "Input Sentence: i didnt drink that milk\n",
            "Actual Translation:  yo no tomé esa leche \n",
            "Closest Predicted Sentence (Spanish):  no bebo leche \n",
            "Closest Predicted Sentence (English): - I don't drink milk.\n",
            "\n",
            "Predicted Translation 0:  yo bebo queso \n",
            "Predicted Translation 1:  yo bebo ni \n",
            "Predicted Translation 2:  yo bebo leche \n",
            "Predicted Translation 3:  yo bebo almuerzo \n",
            "Predicted Translation 4:  no bebo ningún \n",
            "==============================\n",
            "\n",
            "Input Sentence: this handbag is mine\n",
            "Actual Translation:  este bolso es mío \n",
            "Closest Predicted Sentence (Spanish):  este bolso es nuevo \n",
            "Closest Predicted Sentence (English): this bag is new\n",
            "\n",
            "Predicted Translation 0:  este té es nuevo \n",
            "Predicted Translation 1:  este reloj es nuevo \n",
            "Predicted Translation 2:  este ordenador es té \n",
            "Predicted Translation 3:  este ordenador es nuevo \n",
            "Predicted Translation 4:  este ordenador es helado \n",
            "==============================\n",
            "\n",
            "Input Sentence: you dont even know me\n",
            "Actual Translation:  ni siquiera me conoces \n",
            "Closest Predicted Sentence (Spanish):  ni siquiera me conoces \n",
            "Closest Predicted Sentence (English): You don't even know me, Ben.\n",
            "\n",
            "Predicted Translation 0:  no siquiera sabes conocés \n",
            "Predicted Translation 1:  ni siquiera te conocés \n",
            "Predicted Translation 2:  ni siquiera te conoces \n",
            "Predicted Translation 3:  ni siquiera sabes conocés \n",
            "Predicted Translation 4:  ni siquiera me sientes \n",
            "==============================\n",
            "\n",
            "Input Sentence: the truth can be more painful than a lie\n",
            "Actual Translation:  la verdad puede ser más dolorosa que la mentira \n",
            "Closest Predicted Sentence (Spanish):  la verdad es más fácil de lo que se lo un niño \n",
            "Closest Predicted Sentence (English): the truth is easier than a child\n",
            "\n",
            "Predicted Translation 0:  la verdad es más fácil que lo que se lo un niño \n",
            "Predicted Translation 1:  la verdad es más fácil que lo que se lo necesite \n",
            "Predicted Translation 2:  la verdad es más fácil de lo que se lo sentía niño \n",
            "Predicted Translation 3:  la verdad es más fácil de lo que se lo reembolsen \n",
            "Predicted Translation 4:  la verdad es más fácil de lo que se lo podría niño \n",
            "==============================\n",
            "\n",
            "Input Sentence: she took care of the child\n",
            "Actual Translation:  ella cuidó del niño \n",
            "Closest Predicted Sentence (Spanish):  ella cuidó sentó al menos de sus \n",
            "Closest Predicted Sentence (English): she cared sat at least her\n",
            "\n",
            "Predicted Translation 0:  ella se sentó el menos de sus am\n",
            "Predicted Translation 1:  ella se sentó el menos de sus \n",
            "Predicted Translation 2:  ella se sentó al punto de sus \n",
            "Predicted Translation 3:  ella se sentó al perro de sus am\n",
            "Predicted Translation 4:  ella cuidó sentó al perro de sus \n",
            "==============================\n",
            "\n",
            "Input Sentence: im still alive\n",
            "Actual Translation:  sigo vivo \n",
            "Closest Predicted Sentence (Spanish):  sigo vivo vivo \n",
            "Closest Predicted Sentence (English): I&#39;m still alive\n",
            "\n",
            "Predicted Translation 0:  vivo estoy vivo \n",
            "Predicted Translation 1:  todavía vivo vivo \n",
            "Predicted Translation 2:  todavía estoy vivo \n",
            "Predicted Translation 3:  todavía estoy viviendo \n",
            "Predicted Translation 4:  todavía estoy en \n",
            "==============================\n",
            "\n",
            "Input Sentence: lets try something\n",
            "Actual Translation:  permíteme hacer algo \n",
            "Closest Predicted Sentence (Spanish):  terminemos algo \n",
            "Closest Predicted Sentence (English): let&#39;s finish something\n",
            "\n",
            "Predicted Translation 0:  ¡intentemos algo \n",
            "Predicted Translation 1:  vamos algo \n",
            "Predicted Translation 2:  terminemos algo \n",
            "Predicted Translation 3:  probemos alg\n",
            "Predicted Translation 4:  probemos algo \n",
            "==============================\n",
            "\n",
            "Input Sentence: get yourself a decent suit\n",
            "Actual Translation:  consíguete un traje decente \n",
            "Closest Predicted Sentence (Spanish):  hazlo con asunto en su traje \n",
            "Closest Predicted Sentence (English): do it with matter in your suit\n",
            "\n",
            "Predicted Translation 0:  hazlo un secreto en su traje \n",
            "Predicted Translation 1:  hazlo un secreto en su ordenador \n",
            "Predicted Translation 2:  hazlo un problema en su traje \n",
            "Predicted Translation 3:  hazlo un problema en su ordenador \n",
            "Predicted Translation 4:  hazlo un asunto en usted traje \n",
            "==============================\n",
            "\n",
            "Input Sentence: try this on its your size\n",
            "Actual Translation:  pruébate esto es de tu talla \n",
            "Closest Predicted Sentence (Spanish):  pruébese esta clase a dar el favor \n",
            "Closest Predicted Sentence (English): try this class to give the favor\n",
            "\n",
            "Predicted Translation 0:  trata esta persona a dar el favor \n",
            "Predicted Translation 1:  pruébese este persona a decir el favor \n",
            "Predicted Translation 2:  pruébese este persona a dar el favor \n",
            "Predicted Translation 3:  pruébese este historia a dar el favor \n",
            "Predicted Translation 4:  pruébese este clase a dar el favor \n",
            "==============================\n",
            "\n",
            "Input Sentence: i dont have anything else to add\n",
            "Actual Translation:  no tengo nada más que añadir \n",
            "Closest Predicted Sentence (Spanish):  no tengo nada más que lo \n",
            "Closest Predicted Sentence (English): I have nothing but what\n",
            "\n",
            "Predicted Translation 0:  no tengo nada que que hacer \n",
            "Predicted Translation 1:  no tengo nada más que lo \n",
            "Predicted Translation 2:  no tengo nada más que esconder \n",
            "Predicted Translation 3:  no tengo nada más que encontrar \n",
            "Predicted Translation 4:  no tengo nada más que beber \n",
            "==============================\n",
            "\n",
            "Input Sentence: tom lived in a trailer\n",
            "Actual Translation:  tom vivía en una caravana \n",
            "Closest Predicted Sentence (Spanish):  tom vivía en un restaurante \n",
            "Closest Predicted Sentence (English): tom lived in a restaurant\n",
            "\n",
            "Predicted Translation 0:  tom vivía en un restaurante \n",
            "Predicted Translation 1:  tom vivía en un montón \n",
            "Predicted Translation 2:  tom vivía en un balde \n",
            "Predicted Translation 3:  tom vivió en un balde \n",
            "Predicted Translation 4:  tom solía en un montón \n",
            "==============================\n",
            "\n",
            "Input Sentence: the reason is that i want to be an english teacher\n",
            "Actual Translation:  la razón es que quiero ser un profesor de inglés \n",
            "Closest Predicted Sentence (Spanish):  la única vez es que quiero ser dinero para ese pr\n",
            "Closest Predicted Sentence (English): the only time is i want to be money for that pr\n",
            "\n",
            "Predicted Translation 0:  la única vez que que quiero ser dinero para ese \n",
            "Predicted Translation 1:  la única vez es que quiero ser dinero para ese prob\n",
            "Predicted Translation 2:  la única vez es que quiero ser dinero para ese pr\n",
            "Predicted Translation 3:  la única vez es que quiero ser dinero para ese \n",
            "Predicted Translation 4:  la única vez es que quiero ser dinero para el \n",
            "==============================\n",
            "\n",
            "Input Sentence: ill go take a shower now\n",
            "Actual Translation:  ahora me voy a dar una ducha \n",
            "Closest Predicted Sentence (Spanish):  iré a estar de una asiento \n",
            "Closest Predicted Sentence (English): I will go to be in a seat\n",
            "\n",
            "Predicted Translation 0:  iré a salir de una biblioteca \n",
            "Predicted Translation 1:  iré a salir de mi biblioteca \n",
            "Predicted Translation 2:  iré a quedarme de mi biblioteca \n",
            "Predicted Translation 3:  iré a quedarme de mi asiento \n",
            "Predicted Translation 4:  iré a quedar de mi asiento \n",
            "==============================\n",
            "\n",
            "Input Sentence: tom has lost his focus\n",
            "Actual Translation:  tomás perdió la concentración \n",
            "Closest Predicted Sentence (Spanish):  tom perdió la control \n",
            "Closest Predicted Sentence (English): tom lost control\n",
            "\n",
            "Predicted Translation 0:  tom perdió la control \n",
            "Predicted Translation 1:  tom perdió la alquiler \n",
            "Predicted Translation 2:  tom perdió el sabor \n",
            "Predicted Translation 3:  tom perdió el corazón \n",
            "Predicted Translation 4:  tom perdió el control \n",
            "==============================\n",
            "\n",
            "Input Sentence: what if you gave a speech and nobody came\n",
            "Actual Translation:  ¿y si dieras un discurso y nadie viniera \n",
            "Closest Predicted Sentence (Spanish):  ¿qué edad te dio un discurso de despedi\n",
            "Closest Predicted Sentence (English): How old gave you a goodbye speech\n",
            "\n",
            "Predicted Translation 0:  ¿qué te le dio un discurso de despedida \n",
            "Predicted Translation 1:  ¿qué edad le dio un discurso de despedi\n",
            "Predicted Translation 2:  ¿qué edad le dio un discurso de despedida \n",
            "Predicted Translation 3:  ¿qué edad le dio un discurso cuando despedi\n",
            "Predicted Translation 4:  ¿qué edad le dio un discurso cuando despedida \n",
            "==============================\n",
            "\n",
            "Input Sentence: california was the st state admitted to the united states\n",
            "Actual Translation:  california fue el trigésimo primer estado admitido en los estados unidos \n",
            "Closest Predicted Sentence (Spanish):  américa se fue arrestado en el mundo se puso en oct\n",
            "Closest Predicted Sentence (English): america went arrested the world got in oct\n",
            "\n",
            "Predicted Translation 0:  américa se puso arrestado en el que se puso en oct\n",
            "Predicted Translation 1:  américa se fue detenido en el que se puso en oct\n",
            "Predicted Translation 2:  américa se fue arrestado por el que él puso en oct\n",
            "Predicted Translation 3:  américa se fue arrestado en el que él puso en oct\n",
            "Predicted Translation 4:  américa se fue arrestado en el mundo él puso en oct\n",
            "==============================\n",
            "\n",
            "Input Sentence: tom is brain damaged\n",
            "Actual Translation:  tom sufre de daño cerebral \n",
            "Closest Predicted Sentence (Spanish):  tom está exagerando \n",
            "Closest Predicted Sentence (English): tom is exaggerating\n",
            "\n",
            "Predicted Translation 0:  tom está sordo \n",
            "Predicted Translation 1:  tom está levantando \n",
            "Predicted Translation 2:  tom está inconsciente \n",
            "Predicted Translation 3:  tom está grogui \n",
            "Predicted Translation 4:  tom está exagerando \n",
            "==============================\n",
            "\n"
          ],
          "name": "stdout"
        }
      ]
    },
    {
      "cell_type": "code",
      "metadata": {
        "id": "HMy6QTtgED1_",
        "colab_type": "code",
        "colab": {}
      },
      "source": [
        ""
      ],
      "execution_count": 0,
      "outputs": []
    }
  ]
}