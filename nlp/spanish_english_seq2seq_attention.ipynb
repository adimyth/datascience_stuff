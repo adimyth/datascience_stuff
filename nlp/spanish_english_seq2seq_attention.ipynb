{
  "nbformat": 4,
  "nbformat_minor": 0,
  "metadata": {
    "colab": {
      "name": "spanish-english-seq2seq-attention",
      "provenance": [],
      "collapsed_sections": [],
      "toc_visible": true,
      "machine_shape": "hm",
      "authorship_tag": "ABX9TyNiY+ZN4qJBipxI61hNq1Ei",
      "include_colab_link": true
    },
    "kernelspec": {
      "name": "python3",
      "display_name": "Python 3"
    },
    "accelerator": "GPU"
  },
  "cells": [
    {
      "cell_type": "markdown",
      "metadata": {
        "id": "view-in-github",
        "colab_type": "text"
      },
      "source": [
        "<a href=\"https://colab.research.google.com/github/adimyth/interesting_stuff/blob/master/nlp/spanish_english_seq2seq_attention.ipynb\" target=\"_parent\"><img src=\"https://colab.research.google.com/assets/colab-badge.svg\" alt=\"Open In Colab\"/></a>"
      ]
    },
    {
      "cell_type": "markdown",
      "metadata": {
        "id": "Xdii1pjciLmU",
        "colab_type": "text"
      },
      "source": [
        "# Attention is all you need\n",
        "\n",
        "**Resources**\n",
        "\n",
        "* [Lilian Weng's Blog](https://lilianweng.github.io/lil-log/2018/06/24/attention-attention.html)\n",
        "* [Guillaume Genthial blog](https://guillaumegenthial.github.io/sequence-to-sequence.html)\n",
        "* [Machine Learning Mastery](https://machinelearningmastery.com/teacher-forcing-for-recurrent-neural-networks/) \n",
        "\n",
        "Attention Mechanisms in Neural Networks are (very) loosely based on the visual attention mechanism found in humans\n",
        "\n",
        "**Issues with Seq2Seq Models**\n",
        "\n",
        "![seq-2-seq](https://lilianweng.github.io/lil-log/assets/images/encoder-decoder-example.png)\n",
        "\n",
        "* Unable to capture long term dependencies. Long-range dependencies still tricky despite of gating models like LSTMs and GRUs.\n",
        "* Handle input sequence word by word.\n",
        "* In translation systems, only the last hidden state is passed to the decoder, but it is not good enough to capture all the information pertaining to translation.\n",
        "\n",
        "> You can’t cram the meaning of a whole %&! # sentence into a single &!#* vector!\n",
        "\n",
        "In an attention mechanism, we do not encode the entire sequence into a single vector, rather allow decoder to attend to different parts of the source sentence at each step of the output generation. \n",
        "\n",
        "Each decoder output word depends on a weighted combination of all the input states, not just the last state. Attention allows us to interpret and visualise what the model is doing as heatmaps. \n",
        "\n",
        "## DECODER\n",
        "\n",
        "Rather than building a single context vector out of the encoder’s last hidden state, attention adds shortcuts between the context vector and the entire source input. The weights of these shortcut connections are customizable for each output element. \n",
        "\n",
        "Consider, source sequence `x` of length `n` and target sequence `y` of length `m` \n",
        "\n",
        "\\begin{aligned}\n",
        "\\mathbf{x} &= [x_1, x_2, \\dots, x_n] \\\\\n",
        "\\mathbf{y} &= [y_1, y_2, \\dots, y_m]\n",
        "\\end{aligned}\n",
        "\n",
        "Encoder produces hiddent state $h_{i}$ for each input timestep. The decoder has hidden state, \n",
        "$s_{t}=f(s_{t-1}, y_{t-1}, c_{t})$ for $t=1, ..., m$, where\n",
        "\n",
        "\\begin{aligned}\n",
        "\\mathbf{c}_t &= \\sum_{i=1}^n \\alpha_{t,i} \\boldsymbol{h}_i & \\small{\\text{; Context vector for output }y_t}\\\\\n",
        "\\alpha_{t,i} &= \\text{align}(y_t, x_i) & \\small{\\text{; How well two words }y_t\\text{ and }x_i\\text{ are aligned.}}\\\\\n",
        "&= \\frac{\\exp(\\text{score}(\\boldsymbol{s}_{t-1}, \\boldsymbol{h}_i))}{\\sum_{i'=1}^n \\exp(\\text{score}(\\boldsymbol{s}_{t-1}, \\boldsymbol{h}_{i'}))} & \\small{\\text{; Softmax of some predefined alignment score.}}.\n",
        "\\end{aligned}\n",
        "\n",
        "\n",
        "$\\alpha_{t,i}$ is the score for the input at position $i$ and output at position $t$ i.e for the pair $(y_{t}, x_{i})$\n",
        "\n",
        "In the diagram below - \n",
        "* f - score function\n",
        "* g - dense layer\n",
        "\n",
        "![Attention](https://guillaumegenthial.github.io/assets/img2latex/seq2seq_attention_mechanism_new.svg)\n",
        "\n",
        "### Bahdanau\n",
        "\n",
        "$$score(s_t, h_i) = {v}_a^\\top \\tanh({W}_a[s_t;h_i])$$\n",
        "where both $v_a$ and $W_a$ are weight matrices to be learned in the alignment model.\n",
        "\n",
        "**Pseudo Code**\n",
        "```python\n",
        "1. score = dense[tanh(dense(encoder_output) + dense(decoder_hidden_state))]\n",
        "2. attention_weights = softmax(score, axis=1)\n",
        "3. context_vector = sum(attention_weights*encoder_output, axis=1)\n",
        "4. dec_embedding = embedding(decoder_input)\n",
        "5. merged_vector = concat(dec_embedding, context_vector)\n",
        "6. decoder_output, decoder_hidden_states = LSTM(merged_vector)\n",
        "```\n",
        "\n",
        "### Luong\n",
        "\n",
        "$$score(s_t, h_i) = s_t^\\top\\mathbf{W}_a{h}_i$$\n",
        "where $W_a$ is a trainable weight matrix in the attention layer.\n",
        "\n",
        "Decoder RNN gives only the hidden state vector, which is used to calculate the *output vector*, as well as combined with the context vector to pass as input to the next decoder unit. \n",
        "\n",
        "##  TEACHER FORCING\n",
        "\n",
        "There are sequence prediction models that use the output from the last time step `y(t-1)` as input for the model at the current time step `X(t)`. They can suffer from the following problem - \n",
        "* Slow convergence.\n",
        "* Model instability.\n",
        "* Poor skill\n",
        "\n",
        "Teacher forcing is a method for quickly and efficiently training recurrent neural network models that use the ground truth from a prior time step as input. It works by using the actual or expected output from the training dataset at the current time step `y(t)` as input in the next time step `X(t+1)`, rather than the output generated by the network.\n",
        "\n",
        "![img](https://guillaumegenthial.github.io/assets/img2latex/img2latex_training.svg)"
      ]
    },
    {
      "cell_type": "markdown",
      "metadata": {
        "id": "mm8EvwjwggXH",
        "colab_type": "text"
      },
      "source": [
        "## Dataset\n",
        "English to Spanish Conversion - http://www.manythings.org/anki/spa-eng.zip"
      ]
    },
    {
      "cell_type": "code",
      "metadata": {
        "id": "aZW-uEgIf7Yy",
        "colab_type": "code",
        "outputId": "9fc035f3-4e2c-4622-93ba-37e0deaa6fc6",
        "colab": {
          "base_uri": "https://localhost:8080/",
          "height": 204
        }
      },
      "source": [
        "!wget http://www.manythings.org/anki/spa-eng.zip"
      ],
      "execution_count": 0,
      "outputs": [
        {
          "output_type": "stream",
          "text": [
            "--2020-04-20 15:03:23--  http://www.manythings.org/anki/spa-eng.zip\n",
            "Resolving www.manythings.org (www.manythings.org)... 104.24.109.196, 104.24.108.196, 2606:4700:3037::6818:6cc4, ...\n",
            "Connecting to www.manythings.org (www.manythings.org)|104.24.109.196|:80... connected.\n",
            "HTTP request sent, awaiting response... 200 OK\n",
            "Length: 4781548 (4.6M) [application/zip]\n",
            "Saving to: ‘spa-eng.zip’\n",
            "\n",
            "\rspa-eng.zip           0%[                    ]       0  --.-KB/s               \rspa-eng.zip          18%[==>                 ] 863.10K  3.87MB/s               \rspa-eng.zip         100%[===================>]   4.56M  15.8MB/s    in 0.3s    \n",
            "\n",
            "2020-04-20 15:03:24 (15.8 MB/s) - ‘spa-eng.zip’ saved [4781548/4781548]\n",
            "\n"
          ],
          "name": "stdout"
        }
      ]
    },
    {
      "cell_type": "code",
      "metadata": {
        "id": "m_CfMoXrhPJ6",
        "colab_type": "code",
        "outputId": "d9c8505a-182b-43ff-a487-2b445b45225e",
        "colab": {
          "base_uri": "https://localhost:8080/",
          "height": 187
        }
      },
      "source": [
        "!unzip -l spa-eng.zip\n",
        "!unzip spa-eng.zip"
      ],
      "execution_count": 0,
      "outputs": [
        {
          "output_type": "stream",
          "text": [
            "Archive:  spa-eng.zip\n",
            "  Length      Date    Time    Name\n",
            "---------  ---------- -----   ----\n",
            "     1441  2020-03-15 02:17   _about.txt\n",
            " 18493172  2020-03-15 02:17   spa.txt\n",
            "---------                     -------\n",
            " 18494613                     2 files\n",
            "Archive:  spa-eng.zip\n",
            "  inflating: _about.txt              \n",
            "  inflating: spa.txt                 \n"
          ],
          "name": "stdout"
        }
      ]
    },
    {
      "cell_type": "code",
      "metadata": {
        "id": "LrLwTegngpaq",
        "colab_type": "code",
        "colab": {}
      },
      "source": [
        "from collections import Counter\n",
        "from google.colab import files\n",
        "import matplotlib.pyplot as plt\n",
        "from itertools import islice\n",
        "import math\n",
        "import numpy as np\n",
        "import pandas as pd\n",
        "import random\n",
        "import re\n",
        "import requests\n",
        "import seaborn as sns\n",
        "import string\n",
        "from string import digits\n",
        "from sklearn.utils import shuffle\n",
        "from sklearn.model_selection import train_test_split\n",
        "import tensorflow as tf\n",
        "from tensorflow.keras.callbacks import CSVLogger, EarlyStopping\n",
        "from tensorflow.keras.layers import Input, LSTM, Embedding, Dense\n",
        "from tensorflow.keras.models import Model, load_model\n",
        "from tensorflow.keras.utils import plot_model"
      ],
      "execution_count": 0,
      "outputs": []
    },
    {
      "cell_type": "code",
      "metadata": {
        "id": "QXwoZpIXWvrb",
        "colab_type": "code",
        "colab": {}
      },
      "source": [
        "from tensorflow.python.framework.ops import disable_eager_execution, enable_eager_execution\n",
        "disable_eager_execution()"
      ],
      "execution_count": 0,
      "outputs": []
    },
    {
      "cell_type": "markdown",
      "metadata": {
        "id": "_cE9QLnWWwkQ",
        "colab_type": "text"
      },
      "source": [
        "Disabling eager execution because all zeros mask raises some CuDNN kernel level issue. Refere [here](https://github.com/tensorflow/tensorflow/issues/33148)"
      ]
    },
    {
      "cell_type": "code",
      "metadata": {
        "id": "V_QqGC99gz1Q",
        "colab_type": "code",
        "colab": {}
      },
      "source": [
        "%matplotlib inline\n",
        "sns.set_style(\"whitegrid\")"
      ],
      "execution_count": 0,
      "outputs": []
    },
    {
      "cell_type": "code",
      "metadata": {
        "id": "Ps65fz_BhFDN",
        "colab_type": "code",
        "colab": {}
      },
      "source": [
        "lines = pd.read_table('spa.txt', names=['english', 'spanish', 'attributes'])\n",
        "# lines = pd.DataFrame({\"english\": [\"Juan eats apples\"], \"spanish\": [\"Juan come manzanas\"], \"attributes\": \"\"})"
      ],
      "execution_count": 0,
      "outputs": []
    },
    {
      "cell_type": "code",
      "metadata": {
        "id": "x8uNdjbIh9pS",
        "colab_type": "code",
        "outputId": "b5c0abc9-58a5-45a4-871f-23049908f778",
        "colab": {
          "base_uri": "https://localhost:8080/",
          "height": 34
        }
      },
      "source": [
        "lines.shape"
      ],
      "execution_count": 0,
      "outputs": [
        {
          "output_type": "execute_result",
          "data": {
            "text/plain": [
              "(123770, 3)"
            ]
          },
          "metadata": {
            "tags": []
          },
          "execution_count": 7
        }
      ]
    },
    {
      "cell_type": "code",
      "metadata": {
        "id": "xHAiIbv6kEpz",
        "colab_type": "code",
        "colab": {}
      },
      "source": [
        "lines = lines.drop(columns=['attributes'])"
      ],
      "execution_count": 0,
      "outputs": []
    },
    {
      "cell_type": "code",
      "metadata": {
        "id": "YyK4Ck3kiG_Q",
        "colab_type": "code",
        "colab": {}
      },
      "source": [
        "for col in lines.columns:\n",
        "    # lowercase\n",
        "    lines[col] = lines[col].apply(lambda x: x.lower())\n",
        "    # remove quotes\n",
        "    lines[col] = lines[col].apply(lambda x: re.sub(\"'\", \"\", x))\n",
        "    # remove punctuations\n",
        "    lines[col] = lines[col].apply(lambda x: ''.join(ch for ch in x if ch not in set(string.punctuation)))\n",
        "    # remove numbers\n",
        "    remove_digits = str.maketrans('', '', digits)\n",
        "    lines[col] = lines[col].apply(lambda x: x.translate(remove_digits))\n",
        "    # remove unnecessary spaces\n",
        "    lines[col] = lines[col].apply(lambda x: x.strip())\n",
        "    lines[col] = lines[col].apply(lambda x: re.sub(\" +\", \" \", x))"
      ],
      "execution_count": 0,
      "outputs": []
    },
    {
      "cell_type": "code",
      "metadata": {
        "id": "j5XEID_D09DX",
        "colab_type": "code",
        "colab": {}
      },
      "source": [
        "# Add start and end tokens to target sequences\n",
        "lines['spanish'] = lines['spanish'].apply(lambda x : 'START_ '+ x + ' _END')"
      ],
      "execution_count": 0,
      "outputs": []
    },
    {
      "cell_type": "code",
      "metadata": {
        "id": "Bx2190qtjvfQ",
        "colab_type": "code",
        "colab": {}
      },
      "source": [
        "pd.set_option('display.max_colwidth', 100)"
      ],
      "execution_count": 0,
      "outputs": []
    },
    {
      "cell_type": "code",
      "metadata": {
        "id": "5yRVgA1miHJR",
        "colab_type": "code",
        "outputId": "f732bf30-2923-4182-f2dc-ba80c6a96485",
        "colab": {
          "base_uri": "https://localhost:8080/",
          "height": 359
        }
      },
      "source": [
        "lines.head(10)"
      ],
      "execution_count": 0,
      "outputs": [
        {
          "output_type": "execute_result",
          "data": {
            "text/html": [
              "<div>\n",
              "<style scoped>\n",
              "    .dataframe tbody tr th:only-of-type {\n",
              "        vertical-align: middle;\n",
              "    }\n",
              "\n",
              "    .dataframe tbody tr th {\n",
              "        vertical-align: top;\n",
              "    }\n",
              "\n",
              "    .dataframe thead th {\n",
              "        text-align: right;\n",
              "    }\n",
              "</style>\n",
              "<table border=\"1\" class=\"dataframe\">\n",
              "  <thead>\n",
              "    <tr style=\"text-align: right;\">\n",
              "      <th></th>\n",
              "      <th>english</th>\n",
              "      <th>spanish</th>\n",
              "    </tr>\n",
              "  </thead>\n",
              "  <tbody>\n",
              "    <tr>\n",
              "      <th>0</th>\n",
              "      <td>go</td>\n",
              "      <td>START_ ve _END</td>\n",
              "    </tr>\n",
              "    <tr>\n",
              "      <th>1</th>\n",
              "      <td>go</td>\n",
              "      <td>START_ vete _END</td>\n",
              "    </tr>\n",
              "    <tr>\n",
              "      <th>2</th>\n",
              "      <td>go</td>\n",
              "      <td>START_ vaya _END</td>\n",
              "    </tr>\n",
              "    <tr>\n",
              "      <th>3</th>\n",
              "      <td>go</td>\n",
              "      <td>START_ váyase _END</td>\n",
              "    </tr>\n",
              "    <tr>\n",
              "      <th>4</th>\n",
              "      <td>hi</td>\n",
              "      <td>START_ hola _END</td>\n",
              "    </tr>\n",
              "    <tr>\n",
              "      <th>5</th>\n",
              "      <td>run</td>\n",
              "      <td>START_ ¡corre _END</td>\n",
              "    </tr>\n",
              "    <tr>\n",
              "      <th>6</th>\n",
              "      <td>run</td>\n",
              "      <td>START_ ¡corran _END</td>\n",
              "    </tr>\n",
              "    <tr>\n",
              "      <th>7</th>\n",
              "      <td>run</td>\n",
              "      <td>START_ ¡corra _END</td>\n",
              "    </tr>\n",
              "    <tr>\n",
              "      <th>8</th>\n",
              "      <td>run</td>\n",
              "      <td>START_ ¡corred _END</td>\n",
              "    </tr>\n",
              "    <tr>\n",
              "      <th>9</th>\n",
              "      <td>run</td>\n",
              "      <td>START_ corred _END</td>\n",
              "    </tr>\n",
              "  </tbody>\n",
              "</table>\n",
              "</div>"
            ],
            "text/plain": [
              "  english              spanish\n",
              "0      go       START_ ve _END\n",
              "1      go     START_ vete _END\n",
              "2      go     START_ vaya _END\n",
              "3      go   START_ váyase _END\n",
              "4      hi     START_ hola _END\n",
              "5     run   START_ ¡corre _END\n",
              "6     run  START_ ¡corran _END\n",
              "7     run   START_ ¡corra _END\n",
              "8     run  START_ ¡corred _END\n",
              "9     run   START_ corred _END"
            ]
          },
          "metadata": {
            "tags": []
          },
          "execution_count": 12
        }
      ]
    },
    {
      "cell_type": "code",
      "metadata": {
        "id": "jvEJ-V-qFUtT",
        "colab_type": "code",
        "colab": {}
      },
      "source": [
        ""
      ],
      "execution_count": 0,
      "outputs": []
    },
    {
      "cell_type": "markdown",
      "metadata": {
        "id": "m70v150OlcO2",
        "colab_type": "text"
      },
      "source": [
        "## Creating Vocabulary\n",
        "Create vocabulary of english and spanish words"
      ]
    },
    {
      "cell_type": "code",
      "metadata": {
        "id": "MLQcyB9PiHRQ",
        "colab_type": "code",
        "outputId": "82abcc7b-6104-4103-dc81-0a7c86547b84",
        "colab": {
          "base_uri": "https://localhost:8080/",
          "height": 34
        }
      },
      "source": [
        "# English Vocab\n",
        "all_eng_words = set()\n",
        "for eng in lines['english']:\n",
        "    for word in eng.split():\n",
        "        if word not in all_eng_words:\n",
        "            all_eng_words.add(word)\n",
        "print(f\"English Vocab: {len(all_eng_words)}\")"
      ],
      "execution_count": 0,
      "outputs": [
        {
          "output_type": "stream",
          "text": [
            "English Vocab: 13475\n"
          ],
          "name": "stdout"
        }
      ]
    },
    {
      "cell_type": "code",
      "metadata": {
        "id": "xcSjwUliiHGz",
        "colab_type": "code",
        "outputId": "4893bd00-258a-4715-ff45-6a388b3e0e96",
        "colab": {
          "base_uri": "https://localhost:8080/",
          "height": 34
        }
      },
      "source": [
        "# Spanish Vocab\n",
        "all_spa_words = set()\n",
        "for spa in lines['spanish']:\n",
        "    for word in spa.split():\n",
        "        if word not in all_spa_words:\n",
        "            all_spa_words.add(word)\n",
        "print(f\"Spanish Vocab: {len(all_spa_words)}\")"
      ],
      "execution_count": 0,
      "outputs": [
        {
          "output_type": "stream",
          "text": [
            "Spanish Vocab: 27264\n"
          ],
          "name": "stdout"
        }
      ]
    },
    {
      "cell_type": "code",
      "metadata": {
        "id": "C2OhsOMTiHEO",
        "colab_type": "code",
        "outputId": "73ba5873-3773-4b7d-c16e-15b1b4d89c47",
        "colab": {
          "base_uri": "https://localhost:8080/",
          "height": 34
        }
      },
      "source": [
        "# Max Length of source sequence\n",
        "lenght_list_eng=[]\n",
        "for l in lines['english']:\n",
        "    lenght_list_eng.append(len(l.split(' ')))\n",
        "max_length_src = np.max(lenght_list_eng)\n",
        "print(f\"Max Length Sentence (English): {max_length_src}\")"
      ],
      "execution_count": 0,
      "outputs": [
        {
          "output_type": "stream",
          "text": [
            "Max Length Sentence (English): 47\n"
          ],
          "name": "stdout"
        }
      ]
    },
    {
      "cell_type": "code",
      "metadata": {
        "id": "GAuhsphZmGMZ",
        "colab_type": "code",
        "outputId": "e5ffc9ca-52a1-41ea-b689-f7cddf7841c9",
        "colab": {
          "base_uri": "https://localhost:8080/",
          "height": 34
        }
      },
      "source": [
        "# Max Length of target sequence\n",
        "lenght_list_spa=[]\n",
        "for l in lines['spanish']:\n",
        "    lenght_list_spa.append(len(l.split(' ')))\n",
        "max_length_tar = np.max(lenght_list_spa)\n",
        "print(f\"Max Length Sentence (Spanish): {max_length_src}\")"
      ],
      "execution_count": 0,
      "outputs": [
        {
          "output_type": "stream",
          "text": [
            "Max Length Sentence (Spanish): 47\n"
          ],
          "name": "stdout"
        }
      ]
    },
    {
      "cell_type": "code",
      "metadata": {
        "id": "EruJWzYonDep",
        "colab_type": "code",
        "outputId": "d681c962-ec90-480a-b66e-2fc9ff53c157",
        "colab": {
          "base_uri": "https://localhost:8080/",
          "height": 34
        }
      },
      "source": [
        "matches = [i for i, j in zip(lenght_list_eng, lenght_list_spa) if i == j]\n",
        "print(f\"Number of matches: {len(matches)} ({(len(matches)*100/lines.shape[0]):.2f})\")"
      ],
      "execution_count": 0,
      "outputs": [
        {
          "output_type": "stream",
          "text": [
            "Number of matches: 13865 (11.20)\n"
          ],
          "name": "stdout"
        }
      ]
    },
    {
      "cell_type": "code",
      "metadata": {
        "id": "GYSA4bPSmGdO",
        "colab_type": "code",
        "outputId": "ea1897bc-f4d9-485d-e35c-ab01845a1039",
        "colab": {
          "base_uri": "https://localhost:8080/",
          "height": 204
        }
      },
      "source": [
        "lines.head()"
      ],
      "execution_count": 0,
      "outputs": [
        {
          "output_type": "execute_result",
          "data": {
            "text/html": [
              "<div>\n",
              "<style scoped>\n",
              "    .dataframe tbody tr th:only-of-type {\n",
              "        vertical-align: middle;\n",
              "    }\n",
              "\n",
              "    .dataframe tbody tr th {\n",
              "        vertical-align: top;\n",
              "    }\n",
              "\n",
              "    .dataframe thead th {\n",
              "        text-align: right;\n",
              "    }\n",
              "</style>\n",
              "<table border=\"1\" class=\"dataframe\">\n",
              "  <thead>\n",
              "    <tr style=\"text-align: right;\">\n",
              "      <th></th>\n",
              "      <th>english</th>\n",
              "      <th>spanish</th>\n",
              "    </tr>\n",
              "  </thead>\n",
              "  <tbody>\n",
              "    <tr>\n",
              "      <th>0</th>\n",
              "      <td>go</td>\n",
              "      <td>START_ ve _END</td>\n",
              "    </tr>\n",
              "    <tr>\n",
              "      <th>1</th>\n",
              "      <td>go</td>\n",
              "      <td>START_ vete _END</td>\n",
              "    </tr>\n",
              "    <tr>\n",
              "      <th>2</th>\n",
              "      <td>go</td>\n",
              "      <td>START_ vaya _END</td>\n",
              "    </tr>\n",
              "    <tr>\n",
              "      <th>3</th>\n",
              "      <td>go</td>\n",
              "      <td>START_ váyase _END</td>\n",
              "    </tr>\n",
              "    <tr>\n",
              "      <th>4</th>\n",
              "      <td>hi</td>\n",
              "      <td>START_ hola _END</td>\n",
              "    </tr>\n",
              "  </tbody>\n",
              "</table>\n",
              "</div>"
            ],
            "text/plain": [
              "  english             spanish\n",
              "0      go      START_ ve _END\n",
              "1      go    START_ vete _END\n",
              "2      go    START_ vaya _END\n",
              "3      go  START_ váyase _END\n",
              "4      hi    START_ hola _END"
            ]
          },
          "metadata": {
            "tags": []
          },
          "execution_count": 18
        }
      ]
    },
    {
      "cell_type": "code",
      "metadata": {
        "id": "CtA8nGIDocJw",
        "colab_type": "code",
        "outputId": "5d30f279-4c49-4cb6-8633-66ffc3a179c9",
        "colab": {
          "base_uri": "https://localhost:8080/",
          "height": 34
        }
      },
      "source": [
        "input_words = sorted(list(all_eng_words))\n",
        "target_words = sorted(list(all_spa_words))\n",
        "num_encoder_tokens = len(all_eng_words)\n",
        "num_decoder_tokens = len(all_spa_words)\n",
        "num_encoder_tokens, num_decoder_tokens"
      ],
      "execution_count": 0,
      "outputs": [
        {
          "output_type": "execute_result",
          "data": {
            "text/plain": [
              "(13475, 27264)"
            ]
          },
          "metadata": {
            "tags": []
          },
          "execution_count": 19
        }
      ]
    },
    {
      "cell_type": "code",
      "metadata": {
        "id": "VPEVqYq8ocg9",
        "colab_type": "code",
        "colab": {}
      },
      "source": [
        "num_encoder_tokens += 1 # For zero padding\n",
        "num_decoder_tokens += 1 # For zero padding"
      ],
      "execution_count": 0,
      "outputs": []
    },
    {
      "cell_type": "code",
      "metadata": {
        "id": "H6ZJ5XICoccy",
        "colab_type": "code",
        "colab": {}
      },
      "source": [
        ""
      ],
      "execution_count": 0,
      "outputs": []
    },
    {
      "cell_type": "markdown",
      "metadata": {
        "id": "xdPfVBDIo8DP",
        "colab_type": "text"
      },
      "source": [
        "## Tokenization"
      ]
    },
    {
      "cell_type": "code",
      "metadata": {
        "id": "QQQJMk1wuJgo",
        "colab_type": "code",
        "colab": {}
      },
      "source": [
        "def take(n, iterable):\n",
        "    \"Return first n items of the iterable as a list\"\n",
        "    return list(islice(iterable, n))"
      ],
      "execution_count": 0,
      "outputs": []
    },
    {
      "cell_type": "code",
      "metadata": {
        "id": "900SDgTwocZl",
        "colab_type": "code",
        "colab": {}
      },
      "source": [
        "input_token_index = dict([(word, i+1) for i, word in enumerate(input_words)])\n",
        "target_token_index = dict([(word, i+1) for i, word in enumerate(target_words)])"
      ],
      "execution_count": 0,
      "outputs": []
    },
    {
      "cell_type": "code",
      "metadata": {
        "id": "btglD6y8uf-X",
        "colab_type": "code",
        "outputId": "767fb9a7-1601-4972-e65a-1a1389d0bcd7",
        "colab": {
          "base_uri": "https://localhost:8080/",
          "height": 187
        }
      },
      "source": [
        "n_items = take(10, input_token_index.items())\n",
        "for k,v in n_items:\n",
        "    print(k, v)"
      ],
      "execution_count": 0,
      "outputs": [
        {
          "output_type": "stream",
          "text": [
            "a 1\n",
            "aardvark 2\n",
            "aardvarks 3\n",
            "aaron 4\n",
            "aback 5\n",
            "abandon 6\n",
            "abandoned 7\n",
            "abandoning 8\n",
            "abate 9\n",
            "abated 10\n"
          ],
          "name": "stdout"
        }
      ]
    },
    {
      "cell_type": "code",
      "metadata": {
        "id": "FuB53Tomu-gJ",
        "colab_type": "code",
        "outputId": "ac952d86-ae48-403a-aaa2-2f54a4bc9011",
        "colab": {
          "base_uri": "https://localhost:8080/",
          "height": 187
        }
      },
      "source": [
        "n_items = take(10, target_token_index.items())\n",
        "for k,v in n_items:\n",
        "    print(k, v)"
      ],
      "execution_count": 0,
      "outputs": [
        {
          "output_type": "stream",
          "text": [
            "START_ 1\n",
            "_END 2\n",
            "a 3\n",
            "aabe 4\n",
            "aah 5\n",
            "aaron 6\n",
            "abajo 7\n",
            "abandona 8\n",
            "abandonada 9\n",
            "abandonadas 10\n"
          ],
          "name": "stdout"
        }
      ]
    },
    {
      "cell_type": "code",
      "metadata": {
        "id": "eUK7OCyjocXh",
        "colab_type": "code",
        "colab": {}
      },
      "source": [
        "reverse_input_char_index = dict((i, word) for word, i in input_token_index.items())\n",
        "reverse_target_char_index = dict((i, word) for word, i in target_token_index.items())"
      ],
      "execution_count": 0,
      "outputs": []
    },
    {
      "cell_type": "code",
      "metadata": {
        "id": "mH4-8lhJocWC",
        "colab_type": "code",
        "outputId": "cf549564-8436-4cd8-f841-3446d2a0c223",
        "colab": {
          "base_uri": "https://localhost:8080/",
          "height": 359
        }
      },
      "source": [
        "lines = shuffle(lines)\n",
        "lines.head(10)"
      ],
      "execution_count": 0,
      "outputs": [
        {
          "output_type": "execute_result",
          "data": {
            "text/html": [
              "<div>\n",
              "<style scoped>\n",
              "    .dataframe tbody tr th:only-of-type {\n",
              "        vertical-align: middle;\n",
              "    }\n",
              "\n",
              "    .dataframe tbody tr th {\n",
              "        vertical-align: top;\n",
              "    }\n",
              "\n",
              "    .dataframe thead th {\n",
              "        text-align: right;\n",
              "    }\n",
              "</style>\n",
              "<table border=\"1\" class=\"dataframe\">\n",
              "  <thead>\n",
              "    <tr style=\"text-align: right;\">\n",
              "      <th></th>\n",
              "      <th>english</th>\n",
              "      <th>spanish</th>\n",
              "    </tr>\n",
              "  </thead>\n",
              "  <tbody>\n",
              "    <tr>\n",
              "      <th>103365</th>\n",
              "      <td>in those days he lived in the house alone</td>\n",
              "      <td>START_ por aquel entonces vivía solo en la casa _END</td>\n",
              "    </tr>\n",
              "    <tr>\n",
              "      <th>120306</th>\n",
              "      <td>he doesnt like to wait until the last moment to do something</td>\n",
              "      <td>START_ a él no le gusta esperar hasta el último momento para hacer algo _END</td>\n",
              "    </tr>\n",
              "    <tr>\n",
              "      <th>59768</th>\n",
              "      <td>i thought i was going to die</td>\n",
              "      <td>START_ pensé que iba a morir _END</td>\n",
              "    </tr>\n",
              "    <tr>\n",
              "      <th>36329</th>\n",
              "      <td>you need to talk to me</td>\n",
              "      <td>START_ necesitas que hablemos de tú a tú _END</td>\n",
              "    </tr>\n",
              "    <tr>\n",
              "      <th>109374</th>\n",
              "      <td>have you ever heard someone speaking in french</td>\n",
              "      <td>START_ ¿alguna vez escuchaste a alguien hablando francés _END</td>\n",
              "    </tr>\n",
              "    <tr>\n",
              "      <th>116537</th>\n",
              "      <td>im afraid that we wont be able to help you tomorrow</td>\n",
              "      <td>START_ me temo que no podremos ayudarte mañana _END</td>\n",
              "    </tr>\n",
              "    <tr>\n",
              "      <th>41279</th>\n",
              "      <td>he acts like a tough guy</td>\n",
              "      <td>START_ se las da de guapo _END</td>\n",
              "    </tr>\n",
              "    <tr>\n",
              "      <th>5961</th>\n",
              "      <td>do you want it</td>\n",
              "      <td>START_ ¿lo quieres _END</td>\n",
              "    </tr>\n",
              "    <tr>\n",
              "      <th>31701</th>\n",
              "      <td>you cant run my life</td>\n",
              "      <td>START_ no puedes gobernar mi vida _END</td>\n",
              "    </tr>\n",
              "    <tr>\n",
              "      <th>1267</th>\n",
              "      <td>ill do it</td>\n",
              "      <td>START_ lo haré _END</td>\n",
              "    </tr>\n",
              "  </tbody>\n",
              "</table>\n",
              "</div>"
            ],
            "text/plain": [
              "                                                             english                                                                       spanish\n",
              "103365                     in those days he lived in the house alone                          START_ por aquel entonces vivía solo en la casa _END\n",
              "120306  he doesnt like to wait until the last moment to do something  START_ a él no le gusta esperar hasta el último momento para hacer algo _END\n",
              "59768                                   i thought i was going to die                                             START_ pensé que iba a morir _END\n",
              "36329                                         you need to talk to me                                 START_ necesitas que hablemos de tú a tú _END\n",
              "109374                have you ever heard someone speaking in french                 START_ ¿alguna vez escuchaste a alguien hablando francés _END\n",
              "116537           im afraid that we wont be able to help you tomorrow                           START_ me temo que no podremos ayudarte mañana _END\n",
              "41279                                       he acts like a tough guy                                                START_ se las da de guapo _END\n",
              "5961                                                  do you want it                                                       START_ ¿lo quieres _END\n",
              "31701                                           you cant run my life                                        START_ no puedes gobernar mi vida _END\n",
              "1267                                                       ill do it                                                           START_ lo haré _END"
            ]
          },
          "metadata": {
            "tags": []
          },
          "execution_count": 26
        }
      ]
    },
    {
      "cell_type": "code",
      "metadata": {
        "id": "Nj3YDPqvFWuy",
        "colab_type": "code",
        "colab": {}
      },
      "source": [
        ""
      ],
      "execution_count": 0,
      "outputs": []
    },
    {
      "cell_type": "markdown",
      "metadata": {
        "id": "a7HSfC7gperL",
        "colab_type": "text"
      },
      "source": [
        "## Train-Test Split"
      ]
    },
    {
      "cell_type": "code",
      "metadata": {
        "id": "6dEl7zSyocTe",
        "colab_type": "code",
        "colab": {}
      },
      "source": [
        "X, y = lines[\"english\"], lines[\"spanish\"]"
      ],
      "execution_count": 0,
      "outputs": []
    },
    {
      "cell_type": "code",
      "metadata": {
        "id": "X_qTGlDdocQk",
        "colab_type": "code",
        "colab": {}
      },
      "source": [
        "X_train, X_test, y_train, y_test = train_test_split(X, y, test_size=0.2, random_state=42)"
      ],
      "execution_count": 0,
      "outputs": []
    },
    {
      "cell_type": "code",
      "metadata": {
        "id": "PqYa-lDxocH5",
        "colab_type": "code",
        "outputId": "441d76f5-fe9c-46fd-a830-e85048ac5b02",
        "colab": {
          "base_uri": "https://localhost:8080/",
          "height": 34
        }
      },
      "source": [
        "X_train.shape, y_train.shape"
      ],
      "execution_count": 0,
      "outputs": [
        {
          "output_type": "execute_result",
          "data": {
            "text/plain": [
              "((99016,), (99016,))"
            ]
          },
          "metadata": {
            "tags": []
          },
          "execution_count": 29
        }
      ]
    },
    {
      "cell_type": "code",
      "metadata": {
        "id": "duiwDIjmpvkm",
        "colab_type": "code",
        "outputId": "99d5b6c4-af7b-440f-cade-768b01829573",
        "colab": {
          "base_uri": "https://localhost:8080/",
          "height": 34
        }
      },
      "source": [
        "X_test.shape, y_test.shape"
      ],
      "execution_count": 0,
      "outputs": [
        {
          "output_type": "execute_result",
          "data": {
            "text/plain": [
              "((24754,), (24754,))"
            ]
          },
          "metadata": {
            "tags": []
          },
          "execution_count": 30
        }
      ]
    },
    {
      "cell_type": "code",
      "metadata": {
        "id": "6lnJew4GFXh1",
        "colab_type": "code",
        "colab": {}
      },
      "source": [
        ""
      ],
      "execution_count": 0,
      "outputs": []
    },
    {
      "cell_type": "markdown",
      "metadata": {
        "id": "DzG-EgsEFB_C",
        "colab_type": "text"
      },
      "source": [
        "## Generator"
      ]
    },
    {
      "cell_type": "code",
      "metadata": {
        "id": "EnS0Yh-dpv7q",
        "colab_type": "code",
        "colab": {}
      },
      "source": [
        "def generate_batch(X=X_train, y=y_train, batch_size=128):\n",
        "    ''' Generate a batch of data '''\n",
        "    while True:\n",
        "        for j in range(0, len(X), batch_size):\n",
        "            encoder_input_data = np.zeros((batch_size, max_length_src), dtype='float32')\n",
        "            decoder_input_data = np.zeros((batch_size, max_length_tar), dtype='float32')\n",
        "            decoder_target_data = np.zeros((batch_size, max_length_tar, num_decoder_tokens), dtype='float32')\n",
        "            for i, (input_text, target_text) in enumerate(zip(X[j:j+batch_size], y[j:j+batch_size])):\n",
        "                for t, word in enumerate(input_text.split()):\n",
        "                    encoder_input_data[i, t] = input_token_index[word] # encoder input seq\n",
        "                for t, word in enumerate(target_text.split()):\n",
        "                    if t < len(target_text.split())-1:\n",
        "                        decoder_input_data[i, t] = target_token_index[word] # decoder input seq\n",
        "                    if t>0:\n",
        "                        # decoder target sequence (one hot encoded)\n",
        "                        # does not include the START_ token\n",
        "                        # Offset by one timestep\n",
        "                        decoder_target_data[i, t - 1, target_token_index[word]] = 1.\n",
        "            yield([encoder_input_data, decoder_input_data], decoder_target_data)"
      ],
      "execution_count": 0,
      "outputs": []
    },
    {
      "cell_type": "code",
      "metadata": {
        "id": "s7aKV3tJFQ4s",
        "colab_type": "code",
        "colab": {}
      },
      "source": [
        ""
      ],
      "execution_count": 0,
      "outputs": []
    },
    {
      "cell_type": "markdown",
      "metadata": {
        "id": "g_e-bwvt_7Jp",
        "colab_type": "text"
      },
      "source": [
        "## Teacher Forcing\n",
        "Teacher forcing works by using the actual or expected output from the training dataset at the current time step `y(t)` as input in the next time step `X(t+1)`, rather than the output generated by the network.\n",
        "\n",
        "Decoder is trained to turn the target sequences into the same sequences but offset by one timestep in the future, a training process called \"teacher forcing\" in this context. Effectively, the decoder learns to generate targets `[t+1...]` given targets `[...t]`, conditioned on the input sequence.\n",
        "\n",
        "\n",
        "### Example - \n",
        "Suppose, we had only 1 sentence -\n",
        "* `English` - Juan eats apples\n",
        "* `Spanish` - Juan come manzanas\n",
        "\n",
        "Hence, we had just 3 words in our English & 5 in Spanish vocabulary. \n",
        "```\n",
        "English Vocabulary\n",
        "{'apples': 1, 'eats': 2, 'juan': 3}\n",
        "\n",
        "Spanish Vocabulary\n",
        "{'START_': 1, '_END': 2, 'come': 3, 'juan': 4, 'manzanas': 5}\n",
        "```\n",
        "\n",
        "So our encoded input & decoder input would look like - \n",
        "```\n",
        "Encoder Input Data: [[3. 2. 1.]]\n",
        "\n",
        "Decoder Input Data: [[1. 4. 3. 5. 0.]]\n",
        "```\n",
        "\n",
        "As the target sentence has 5 words, at timestep `t` during training, we set the previous timestep's `t-1` actual output to 1. So essentially, we will have 5 target sentence.\n",
        "\n",
        "```\n",
        "Decoder Target Data: \n",
        "[0. 0. 0. 0. 1. 0.] # juan\n",
        "[0. 0. 0. 1. 0. 0.] # come\n",
        "[0. 0. 0. 0. 0. 1.] # manzanas\n",
        "[0. 0. 1. 0. 0. 0.] # _END\n",
        "[0. 0. 0. 0. 0. 0.]\n",
        "```\n",
        "\n",
        "### Summary\n",
        "TS1 -\n",
        "```\n",
        "Encoder Input Data - [3. 2. 1.]\n",
        "Decoder Input Data: [1. 4. 3. 5. 0.]\n",
        "Decoder Target Data: [0. 0. 0. 0. 1. 0.] # juan\n",
        "```\n",
        "\n",
        "TS2 -\n",
        "```\n",
        "Encoder Input Data - [3. 2. 1.]\n",
        "Decoder Input Data: [1. 4. 3. 5. 0.]\n",
        "Decoder Target Data: [0. 0. 0. 1. 0. 0.] # juan come\n",
        "```\n",
        "\n",
        "TS3 -\n",
        "```\n",
        "Encoder Input Data - [3. 2. 1.]\n",
        "Decoder Input Data: [1. 4. 3. 5. 0.]\n",
        "Decoder Target Data: [0. 0. 0. 0. 0. 1.] # juan come manzanas\n",
        "```\n",
        "\n",
        "TS4 -\n",
        "```\n",
        "Encoder Input Data - [3. 2. 1.]\n",
        "Decoder Input Data: [1. 4. 3. 5. 0.]\n",
        "Decoder Target Data: [0. 1. 0. 0. 0. 0.] # juan come manzanas _END\n",
        "```\n"
      ]
    },
    {
      "cell_type": "code",
      "metadata": {
        "id": "y4l0T2uL3vb8",
        "colab_type": "code",
        "colab": {}
      },
      "source": [
        ""
      ],
      "execution_count": 0,
      "outputs": []
    },
    {
      "cell_type": "markdown",
      "metadata": {
        "id": "eM7vo1W2jMQ1",
        "colab_type": "text"
      },
      "source": [
        "## Bahdanau Attention\n",
        "\n",
        "For a single sequence - \n",
        "* `query` - Current target hidden state. Size - `(hidden_size)`\n",
        "* `values` - All the encoder hidden states. Size -  `(max_len, hidden size)`\n",
        "* `attention_weights` - A single vector with weights for each hidden state. As there are `max_len` units in the encoder LSTM, it's size will be `(max_len)` \n",
        "* `context_vector` - Weighted sum of encoder hidden states. Size - `(hidden_size)`"
      ]
    },
    {
      "cell_type": "code",
      "metadata": {
        "id": "aebLP0oijPF3",
        "colab_type": "code",
        "colab": {}
      },
      "source": [
        "class BahdanauAttention(tf.keras.layers.Layer):\n",
        "  def __init__(self, units):\n",
        "    super(BahdanauAttention, self).__init__()\n",
        "    self.W1 = tf.keras.layers.Dense(units)\n",
        "    self.W2 = tf.keras.layers.Dense(units)\n",
        "    self.V = tf.keras.layers.Dense(1)\n",
        "\n",
        "  def call(self, query, values):\n",
        "    # query (decoder hidden state) ==> (batch_size, hidden size)\n",
        "    # query_with_time_axis ==> (batch_size, 1, hidden size)\n",
        "    # values (encoder outputs) ==> (batch_size, max_len, hidden size)\n",
        "    # we are doing this to broadcast addition along the time axis to calculate the score\n",
        "    query_with_time_axis = tf.expand_dims(query, 1)\n",
        "\n",
        "    # score ==> (batch_size, max_length, 1)\n",
        "    # we get 1 at the last axis because we are applying score to self.V\n",
        "    # the shape of the tensor before applying self.V is (batch_size, max_length, units)\n",
        "    score = self.V(tf.nn.tanh(\n",
        "        self.W1(query_with_time_axis) + self.W2(values)))\n",
        "\n",
        "    # attention_weights ==> (batch_size, max_length, 1)\n",
        "    attention_weights = tf.nn.softmax(score, axis=1)\n",
        "\n",
        "    # context_vector ==> (batch_size, max_length, hidden_size)\n",
        "    context_vector = attention_weights * values\n",
        "    # context_vector ==> (batch_size, hidden_size)\n",
        "    context_vector = tf.reduce_sum(context_vector, axis=1)\n",
        "\n",
        "    return context_vector, attention_weights"
      ],
      "execution_count": 0,
      "outputs": []
    },
    {
      "cell_type": "markdown",
      "metadata": {
        "id": "HukwM-n-FO4W",
        "colab_type": "text"
      },
      "source": [
        "## Model"
      ]
    },
    {
      "cell_type": "code",
      "metadata": {
        "id": "FBwRt6qy1Ubi",
        "colab_type": "code",
        "colab": {}
      },
      "source": [
        "latent_dim = 100"
      ],
      "execution_count": 0,
      "outputs": []
    },
    {
      "cell_type": "code",
      "metadata": {
        "id": "KLzd7__61UYN",
        "colab_type": "code",
        "colab": {}
      },
      "source": [
        "# ENCODER\n",
        "encoder_inputs = Input(shape=(None,))\n",
        "enc_emb = Embedding(num_encoder_tokens, latent_dim, mask_zero=True)(encoder_inputs)\n",
        "encoder_lstm = LSTM(latent_dim, return_state=True)\n",
        "encoder_outputs, state_h, state_c = encoder_lstm(enc_emb)\n",
        "encoder_states = [state_h, state_c]"
      ],
      "execution_count": 0,
      "outputs": []
    },
    {
      "cell_type": "markdown",
      "metadata": {
        "id": "Lej19r1o_f6v",
        "colab_type": "text"
      },
      "source": [
        "`mask_zero=True` - It treats '0' as a padding value. Notice that we haven't explicitly padded sequneces to lenght `max_len`. As per the docs, \n",
        ">\"If mask_zero is set to True, as a consequence, index 0 cannot be used in the vocabulary (input_dim should equal size of vocabulary + 1)\". \n",
        "\n",
        "Which is why increased `num_encoder_tokens` & `num_decoder_tokens` in cell 20 "
      ]
    },
    {
      "cell_type": "code",
      "metadata": {
        "id": "iwfPnYTmocEx",
        "colab_type": "code",
        "colab": {}
      },
      "source": [
        "# DECODER\n",
        "decoder_inputs = Input(shape=(None,))\n",
        "\n",
        "dec_emb_layer = Embedding(num_decoder_tokens, latent_dim, mask_zero=True)\n",
        "dec_emb = dec_emb_layer(decoder_inputs)\n",
        "\n",
        "attention_layer = BahdanauAttention(latent_dim)\n",
        "context_vector, attention_weights = attention_layer(encoder_outputs, state_h)\n",
        "merged_vector = tf.concat([tf.expand_dims(context_vector, 1), dec_emb], axis=-1)\n",
        "\n",
        "decoder_lstm = LSTM(latent_dim, return_sequences=True, return_state=True)\n",
        "\n",
        "# set up the decoder, using `encoder_states` as initial state\n",
        "decoder_outputs, dec_state_h, dec_state_c = decoder_lstm(dec_emb, \n",
        "                                                         initial_state=encoder_states)"
      ],
      "execution_count": 0,
      "outputs": []
    },
    {
      "cell_type": "code",
      "metadata": {
        "id": "PAJOyB6CBTOK",
        "colab_type": "code",
        "colab": {}
      },
      "source": [
        "decoder_dense = Dense(num_decoder_tokens, activation='softmax')\n",
        "decoder_outputs = decoder_dense(decoder_outputs)"
      ],
      "execution_count": 0,
      "outputs": []
    },
    {
      "cell_type": "markdown",
      "metadata": {
        "id": "jk2ofoapBQqe",
        "colab_type": "text"
      },
      "source": [
        "Here, we add a Dense Layer that uses softmax activation on top of decoder. Notice, how for the sample sentence - `Juan eats apples`, the output target at each timestep looks like - \n",
        "```\n",
        "[0. 0. 0. 0. 1. 0.] # juan\n",
        "[0. 0. 0. 1. 0. 0.] # juan come\n",
        "[0. 0. 0. 0. 0. 1.] # juan come manzanas\n",
        "[0. 1. 0. 0. 0. 0.] # juan come manzanas _end\n",
        "```\n",
        "It is the job of the dense layer to predict this next word from the *decoder_outputs*"
      ]
    },
    {
      "cell_type": "markdown",
      "metadata": {
        "id": "U0vJvMwwGl9H",
        "colab_type": "text"
      },
      "source": [
        "Model will take encoder inputs & decoder inputs and return decoder outputs"
      ]
    },
    {
      "cell_type": "code",
      "metadata": {
        "id": "Z2yqflOrGlVl",
        "colab_type": "code",
        "colab": {}
      },
      "source": [
        "model = Model([encoder_inputs, decoder_inputs], decoder_outputs)\n",
        "model.compile(optimizer='adam', loss='categorical_crossentropy', metrics=['acc'])"
      ],
      "execution_count": 0,
      "outputs": []
    },
    {
      "cell_type": "code",
      "metadata": {
        "id": "1zv43I1PFnF6",
        "colab_type": "code",
        "outputId": "ef08aa79-4773-4ccf-e80b-3bb4226379e6",
        "colab": {
          "base_uri": "https://localhost:8080/",
          "height": 533
        }
      },
      "source": [
        "plot_model(model, show_shapes=True)"
      ],
      "execution_count": 0,
      "outputs": [
        {
          "output_type": "execute_result",
          "data": {
            "image/png": "[encoded data removed]",
            "text/plain": [
              "<IPython.core.display.Image object>"
            ]
          },
          "metadata": {
            "tags": []
          },
          "execution_count": 38
        }
      ]
    },
    {
      "cell_type": "markdown",
      "metadata": {
        "id": "4KrlW5gsHPdK",
        "colab_type": "text"
      },
      "source": [
        "## Training"
      ]
    },
    {
      "cell_type": "code",
      "metadata": {
        "id": "B94g49KTFnDc",
        "colab_type": "code",
        "colab": {}
      },
      "source": [
        "train_samples = len(X_train)\n",
        "val_samples = len(X_test)\n",
        "batch_size = 128\n",
        "epochs = 20"
      ],
      "execution_count": 0,
      "outputs": []
    },
    {
      "cell_type": "code",
      "metadata": {
        "id": "b_56uHihMuPW",
        "colab_type": "code",
        "colab": {}
      },
      "source": [
        "csvlogger = CSVLogger(\"training.log\")\n",
        "earlystopping = tf.keras.callbacks.EarlyStopping(monitor='val_loss', patience=3)\n",
        "callbacks = [csvlogger, earlystopping]"
      ],
      "execution_count": 0,
      "outputs": []
    },
    {
      "cell_type": "code",
      "metadata": {
        "id": "19fTUdLXHCJD",
        "colab_type": "code",
        "outputId": "365e2318-849c-461a-b209-4a7464844d80",
        "colab": {
          "base_uri": "https://localhost:8080/",
          "height": 666
        }
      },
      "source": [
        "history = model.fit_generator(generator = generate_batch(X_train, y_train, batch_size = batch_size),\n",
        "                    steps_per_epoch = train_samples//batch_size,\n",
        "                    epochs=epochs,\n",
        "                    validation_data = generate_batch(X_test, y_test, batch_size = batch_size),\n",
        "                    validation_steps = val_samples//batch_size,\n",
        "                    callbacks=callbacks\n",
        "                    )"
      ],
      "execution_count": 0,
      "outputs": [
        {
          "output_type": "stream",
          "text": [
            "WARNING:tensorflow:From <ipython-input-41-c7455d30101d>:6: Model.fit_generator (from tensorflow.python.keras.engine.training_v1) is deprecated and will be removed in a future version.\n",
            "Instructions for updating:\n",
            "Please use Model.fit, which supports generators.\n",
            "Epoch 1/20\n",
            "773/773 [==============================] - 738s 955ms/step - loss: 0.8475 - acc: 0.1650 - val_loss: 0.7579 - val_acc: 0.2016\n",
            "Epoch 2/20\n",
            "773/773 [==============================] - 739s 955ms/step - loss: 0.6987 - acc: 0.2436 - val_loss: 0.6576 - val_acc: 0.2795\n",
            "Epoch 3/20\n",
            "773/773 [==============================] - 741s 959ms/step - loss: 0.6151 - acc: 0.3054 - val_loss: 0.5989 - val_acc: 0.3265\n",
            "Epoch 4/20\n",
            "773/773 [==============================] - 740s 957ms/step - loss: 0.5546 - acc: 0.3542 - val_loss: 0.5537 - val_acc: 0.3654\n",
            "Epoch 5/20\n",
            "773/773 [==============================] - 736s 952ms/step - loss: 0.5064 - acc: 0.3933 - val_loss: 0.5187 - val_acc: 0.3942\n",
            "Epoch 6/20\n",
            "773/773 [==============================] - 740s 957ms/step - loss: 0.4666 - acc: 0.4249 - val_loss: 0.4919 - val_acc: 0.4177\n",
            "Epoch 7/20\n",
            "773/773 [==============================] - 746s 965ms/step - loss: 0.4327 - acc: 0.4528 - val_loss: 0.4703 - val_acc: 0.4373\n",
            "Epoch 8/20\n",
            "773/773 [==============================] - 741s 959ms/step - loss: 0.4032 - acc: 0.4783 - val_loss: 0.4526 - val_acc: 0.4536\n",
            "Epoch 9/20\n",
            "773/773 [==============================] - 743s 961ms/step - loss: 0.3768 - acc: 0.5011 - val_loss: 0.4372 - val_acc: 0.4678\n",
            "Epoch 10/20\n",
            "773/773 [==============================] - 748s 968ms/step - loss: 0.3530 - acc: 0.5228 - val_loss: 0.4255 - val_acc: 0.4786\n",
            "Epoch 11/20\n",
            "773/773 [==============================] - 752s 973ms/step - loss: 0.3315 - acc: 0.5424 - val_loss: 0.4152 - val_acc: 0.4892\n",
            "Epoch 12/20\n",
            "773/773 [==============================] - 745s 964ms/step - loss: 0.3121 - acc: 0.5606 - val_loss: 0.4066 - val_acc: 0.4978\n",
            "Epoch 13/20\n",
            "773/773 [==============================] - 742s 960ms/step - loss: 0.2944 - acc: 0.5774 - val_loss: 0.3987 - val_acc: 0.5060\n",
            "Epoch 14/20\n",
            "773/773 [==============================] - 741s 959ms/step - loss: 0.2785 - acc: 0.5936 - val_loss: 0.3934 - val_acc: 0.5115\n",
            "Epoch 15/20\n",
            "773/773 [==============================] - 745s 964ms/step - loss: 0.2637 - acc: 0.6087 - val_loss: 0.3883 - val_acc: 0.5182\n",
            "Epoch 16/20\n",
            "773/773 [==============================] - 749s 969ms/step - loss: 0.2504 - acc: 0.6236 - val_loss: 0.3833 - val_acc: 0.5244\n",
            "Epoch 17/20\n",
            "773/773 [==============================] - ETA: 0s - loss: 0.2381 - acc: 0.6374"
          ],
          "name": "stdout"
        }
      ]
    },
    {
      "cell_type": "markdown",
      "metadata": {
        "id": "G7UyMN2-yRh7",
        "colab_type": "text"
      },
      "source": [
        "**EarlyStopping callback clicked into gear at the end of epoch 26, as the validation loss only kept on increasing from 0.3753(epoch 23) to 0.3758(epoch 24), 0.3782(epoch 25) & 0.3779(epoch 26)**"
      ]
    },
    {
      "cell_type": "code",
      "metadata": {
        "id": "_UfoF3F3_dEa",
        "colab_type": "code",
        "outputId": "463c6277-bb7c-4381-df6a-cefa4c247d2c",
        "colab": {
          "base_uri": "https://localhost:8080/",
          "height": 295
        }
      },
      "source": [
        "# summarize history for accuracy\n",
        "plt.plot(history.history['acc'])\n",
        "plt.plot(history.history['val_acc'])\n",
        "plt.title('Model Accuracy')\n",
        "plt.ylabel('Accuracy')\n",
        "plt.xlabel('Epoch')\n",
        "plt.legend(['Train', 'Validation'], loc='upper left')\n",
        "plt.show()"
      ],
      "execution_count": 0,
      "outputs": [
        {
          "output_type": "display_data",
          "data": {
            "image/png": "[encoded data removed]",
            "text/plain": [
              "<Figure size 432x288 with 1 Axes>"
            ]
          },
          "metadata": {
            "tags": []
          }
        }
      ]
    },
    {
      "cell_type": "code",
      "metadata": {
        "id": "9rcrG7ZGAXUT",
        "colab_type": "code",
        "outputId": "eb68dc9e-2992-4de9-b821-6f79c0c50d89",
        "colab": {
          "base_uri": "https://localhost:8080/",
          "height": 295
        }
      },
      "source": [
        "# summarize history for loss\n",
        "plt.plot(history.history['loss'])\n",
        "plt.plot(history.history['val_loss'])\n",
        "plt.title('Model loss')\n",
        "plt.ylabel('loss')\n",
        "plt.xlabel('epoch')\n",
        "plt.legend(['train', 'test'], loc='upper left')\n",
        "plt.show()"
      ],
      "execution_count": 0,
      "outputs": [
        {
          "output_type": "display_data",
          "data": {
            "image/png": "[encoded data removed]",
            "text/plain": [
              "<Figure size 432x288 with 1 Axes>"
            ]
          },
          "metadata": {
            "tags": []
          }
        }
      ]
    },
    {
      "cell_type": "code",
      "metadata": {
        "id": "A1Lntds5HCi1",
        "colab_type": "code",
        "colab": {}
      },
      "source": [
        "model.save(\"english_to_spanish_nmt.h5\")"
      ],
      "execution_count": 0,
      "outputs": []
    },
    {
      "cell_type": "code",
      "metadata": {
        "id": "NGvPQXgBHCFr",
        "colab_type": "code",
        "outputId": "13681c09-c2c0-43a2-e075-231d9e1ecf6f",
        "colab": {
          "base_uri": "https://localhost:8080/",
          "height": 71
        }
      },
      "source": [
        "model = load_model(\"english_to_spanish_nmt.h5\")"
      ],
      "execution_count": 0,
      "outputs": [
        {
          "output_type": "stream",
          "text": [
            "WARNING:tensorflow:Layer lstm will not use cuDNN kernel since it doesn't meet the cuDNN kernel criteria. It will use generic GPU kernel as fallback when running on GPU\n",
            "WARNING:tensorflow:Layer lstm_1 will not use cuDNN kernel since it doesn't meet the cuDNN kernel criteria. It will use generic GPU kernel as fallback when running on GPU\n"
          ],
          "name": "stdout"
        }
      ]
    },
    {
      "cell_type": "code",
      "metadata": {
        "id": "ttEc1psYNNEz",
        "colab_type": "code",
        "colab": {}
      },
      "source": [
        "files.download(\"english_to_spanish_nmt.h5\")"
      ],
      "execution_count": 0,
      "outputs": []
    },
    {
      "cell_type": "code",
      "metadata": {
        "id": "W2GELAPN5MXq",
        "colab_type": "code",
        "colab": {}
      },
      "source": [
        "files.download(\"training.log\")"
      ],
      "execution_count": 0,
      "outputs": []
    },
    {
      "cell_type": "code",
      "metadata": {
        "id": "RcqcwuhONNAV",
        "colab_type": "code",
        "colab": {}
      },
      "source": [
        ""
      ],
      "execution_count": 0,
      "outputs": []
    },
    {
      "cell_type": "markdown",
      "metadata": {
        "id": "tYpN2UfRZ4xy",
        "colab_type": "text"
      },
      "source": [
        "## Inference"
      ]
    },
    {
      "cell_type": "markdown",
      "metadata": {
        "id": "H-KbL4IpU8_L",
        "colab_type": "text"
      },
      "source": [
        "***Encoder Setup***\n",
        "\n",
        "Encode the input sequence to get the encoder_states - `state_h & state_c`"
      ]
    },
    {
      "cell_type": "code",
      "metadata": {
        "id": "sD31MEkFHCCf",
        "colab_type": "code",
        "colab": {}
      },
      "source": [
        "encoder_model = Model(encoder_inputs, encoder_states)"
      ],
      "execution_count": 0,
      "outputs": []
    },
    {
      "cell_type": "markdown",
      "metadata": {
        "id": "bE5Re-6lWLok",
        "colab_type": "text"
      },
      "source": [
        "***Decoder setup***\n",
        "\n",
        "Below tensors will hold the states of the previous time step. In case of the first sequence, assume - \n",
        ">1. decoder_state_input_c - state_c\n",
        ">2. decoder_state_input_h - state_h\n"
      ]
    },
    {
      "cell_type": "code",
      "metadata": {
        "id": "vTaISdS1Vx0N",
        "colab_type": "code",
        "colab": {}
      },
      "source": [
        "decoder_state_input_h = Input(shape=(latent_dim,))\n",
        "decoder_state_input_c = Input(shape=(latent_dim,))\n",
        "decoder_states_inputs = [decoder_state_input_h, decoder_state_input_c]"
      ],
      "execution_count": 0,
      "outputs": []
    },
    {
      "cell_type": "markdown",
      "metadata": {
        "id": "NYoKMT87Xh1a",
        "colab_type": "text"
      },
      "source": [
        "Get the embedding of decoder output sequences. For the first sequence, it will return the embedded vector for `START_` - [1., 0., 0., 0., 0.]. If the next predicted word is Juan, it will then return the embedded vector for `Juan` - [0., 0., 0., 1., 0.]"
      ]
    },
    {
      "cell_type": "code",
      "metadata": {
        "id": "QAEQIT7zXO5o",
        "colab_type": "code",
        "colab": {}
      },
      "source": [
        "dec_emb2 = dec_emb_layer(decoder_inputs) "
      ],
      "execution_count": 0,
      "outputs": []
    },
    {
      "cell_type": "markdown",
      "metadata": {
        "id": "CpCoU9ReZE8P",
        "colab_type": "text"
      },
      "source": [
        "To predict the next word in the sequence, set the initial states to the states from the previous time step\n"
      ]
    },
    {
      "cell_type": "code",
      "metadata": {
        "id": "Z-S7sgotYSA8",
        "colab_type": "code",
        "colab": {}
      },
      "source": [
        "decoder_outputs2, state_h2, state_c2 = decoder_lstm(dec_emb2, initial_state=decoder_states_inputs)"
      ],
      "execution_count": 0,
      "outputs": []
    },
    {
      "cell_type": "markdown",
      "metadata": {
        "id": "URZ73j0xZTnJ",
        "colab_type": "text"
      },
      "source": [
        "Predict the next word in the sequence using the dense layer and choose the most probable word by selecting the word with most probability from the softmax probability distribution."
      ]
    },
    {
      "cell_type": "code",
      "metadata": {
        "id": "Z042N2B7ZQ1E",
        "colab_type": "code",
        "colab": {}
      },
      "source": [
        "decoder_outputs2 = decoder_dense(decoder_outputs2) "
      ],
      "execution_count": 0,
      "outputs": []
    },
    {
      "cell_type": "markdown",
      "metadata": {
        "id": "hhiHQ4WSdAA5",
        "colab_type": "text"
      },
      "source": [
        "***Final Decoder Model***\n",
        "\n",
        "Inputs -\n",
        ">1. decoder_inputs - List of word\n",
        ">2. decoder_states_inputs - previous timestep's hidden state & cell state\n",
        "\n",
        "Outputs - \n",
        ">1. decoder_outputs2 - one-hot vector represeting the predicted word \n",
        ">2. decoder_states2 - current timestep's hidden state & cell state"
      ]
    },
    {
      "cell_type": "code",
      "metadata": {
        "id": "q3LaD1ovc9tr",
        "colab_type": "code",
        "colab": {}
      },
      "source": [
        "decoder_states2 = [state_h2, state_c2]\n",
        "decoder_model = Model(\n",
        "    [decoder_inputs] + decoder_states_inputs,\n",
        "    [decoder_outputs2] + decoder_states2)"
      ],
      "execution_count": 0,
      "outputs": []
    },
    {
      "cell_type": "code",
      "metadata": {
        "id": "BjLIBhifeKZC",
        "colab_type": "code",
        "colab": {}
      },
      "source": [
        ""
      ],
      "execution_count": 0,
      "outputs": []
    },
    {
      "cell_type": "markdown",
      "metadata": {
        "id": "84O7HfC8eK7V",
        "colab_type": "text"
      },
      "source": [
        "## Decode Sequence"
      ]
    },
    {
      "cell_type": "code",
      "metadata": {
        "id": "ETA6jUB_R1se",
        "colab_type": "code",
        "colab": {}
      },
      "source": [
        "# https://github.com/numpy/numpy/issues/15201#issue-543733072\n",
        "\n",
        "def categorical(p):\n",
        "    return (p.cumsum(-1) >= np.random.uniform(size=p.shape[:-1])[..., None]).argmax(-1)"
      ],
      "execution_count": 0,
      "outputs": []
    },
    {
      "cell_type": "code",
      "metadata": {
        "id": "PlR1ANdcHB-b",
        "colab_type": "code",
        "colab": {}
      },
      "source": [
        "def decode_sequence(input_seq):\n",
        "    # Encode the input as state vectors.\n",
        "    states_value = encoder_model.predict(input_seq)\n",
        "    # Generate empty target sequence of length 1.\n",
        "    target_seq = np.zeros((1,1))\n",
        "    # Populate the first character of target sequence with the start character.\n",
        "    target_seq[0, 0] = target_token_index['START_']\n",
        "\n",
        "    # Sampling loop for a batch of sequences\n",
        "    # (to simplify, here we assume a batch of size 1).\n",
        "    stop_condition = False\n",
        "    decoded_sentence = ''\n",
        "    while not stop_condition:\n",
        "        output_tokens, h, c = decoder_model.predict([target_seq] + states_value)\n",
        "\n",
        "        # Sampling a token with max probability\n",
        "        sampled_token_index = np.argmax(output_tokens[0, -1, :])\n",
        "\n",
        "        # Sample from a categorical distribution\n",
        "        # logits = output_tokens[0, -1, :]\n",
        "        # sampled_token_index = categorical(np.reshape(logits, [-1, len(logits)]))[0]\n",
        "         \n",
        "        sampled_char = reverse_target_char_index[sampled_token_index]\n",
        "        decoded_sentence += ' '+sampled_char\n",
        "\n",
        "        # Exit condition: either hit max length\n",
        "        # or find stop character.\n",
        "        if (sampled_char == '_END' or\n",
        "           len(decoded_sentence) > max_length_tar):\n",
        "            stop_condition = True\n",
        "\n",
        "        # Update the target sequence (of length 1).\n",
        "        target_seq = np.zeros((1,1))\n",
        "        target_seq[0, 0] = sampled_token_index\n",
        "\n",
        "        # Update states\n",
        "        states_value = [h, c]\n",
        "\n",
        "    return decoded_sentence"
      ],
      "execution_count": 0,
      "outputs": []
    },
    {
      "cell_type": "markdown",
      "metadata": {
        "id": "21rFGMBx3FOU",
        "colab_type": "text"
      },
      "source": [
        "My attempt at using ***Beam Search Decoding*** using probabilites"
      ]
    },
    {
      "cell_type": "code",
      "metadata": {
        "id": "yGG-_B9U3jwH",
        "colab_type": "code",
        "colab": {}
      },
      "source": [
        "def beam_search_decoder(predictions, top_k = 3):\n",
        "    #start with an empty sequence with zero score\n",
        "    output_sequences = [([], 0)]\n",
        "    \n",
        "    #looping through all the predictions\n",
        "    for token_probs in predictions:\n",
        "        new_sequences = []\n",
        "        \n",
        "        #append new tokens to old sequences and re-score\n",
        "        for old_seq, old_score in output_sequences:\n",
        "            for char_index in range(len(token_probs)):\n",
        "                new_seq = old_seq + [char_index]\n",
        "                #considering log-likelihood for scoring\n",
        "                new_score = old_score + math.log(token_probs[char_index])\n",
        "                new_sequences.append((new_seq, new_score))\n",
        "                \n",
        "        # sort all new sequences in the de-creasing order of their score\n",
        "        output_sequences = sorted(new_sequences, key = lambda val: val[1], reverse = True)\n",
        "        \n",
        "        #select top-k based on score \n",
        "        # *Note- best sequence is with the highest score\n",
        "        output_sequences = output_sequences[:top_k]\n",
        "        \n",
        "    return output_sequences"
      ],
      "execution_count": 0,
      "outputs": []
    },
    {
      "cell_type": "code",
      "metadata": {
        "id": "ufLP_9oW3EMo",
        "colab_type": "code",
        "colab": {}
      },
      "source": [
        "def decode_sequence_beam_search(input_seq):\n",
        "    probabilities = []\n",
        "    # Encode the input as state vectors.\n",
        "    states_value = encoder_model.predict(input_seq)\n",
        "    # Generate empty target sequence of length 1.\n",
        "    target_seq = np.zeros((1,1))\n",
        "    # Populate the first character of target sequence with the start character.\n",
        "    target_seq[0, 0] = target_token_index['START_']\n",
        "\n",
        "    # Sampling loop for a batch of sequences\n",
        "    # (to simplify, here we assume a batch of size 1).\n",
        "    stop_condition = False\n",
        "    decoded_sentence = ''\n",
        "    while not stop_condition:\n",
        "        output_tokens, h, c = decoder_model.predict([target_seq] + states_value)\n",
        "\n",
        "        # Sampling a token with max probability\n",
        "        sampled_token_index = np.argmax(output_tokens[0, -1, :])\n",
        "        probabilities.append(output_tokens[0, -1, :])\n",
        "         \n",
        "        sampled_char = reverse_target_char_index[sampled_token_index]\n",
        "        decoded_sentence += ' '+sampled_char\n",
        "\n",
        "        # Exit condition: either hit max length\n",
        "        # or find stop character.\n",
        "        if (sampled_char == '_END' or\n",
        "           len(decoded_sentence) > max_length_tar):\n",
        "            stop_condition = True\n",
        "\n",
        "        # Update the target sequence (of length 1).\n",
        "        target_seq = np.zeros((1,1))\n",
        "        target_seq[0, 0] = sampled_token_index\n",
        "\n",
        "        # Update states\n",
        "        states_value = [h, c]\n",
        "\n",
        "    # storing multiple results\n",
        "    outputs = []\n",
        "    beam_search_preds = beam_search_decoder(probabilities, top_k = 10)\n",
        "    for prob_indexes, score in beam_search_preds:\n",
        "        decoded_sentence = ''\n",
        "        for index in prob_indexes:\n",
        "            sampled_char = reverse_target_char_index[index]\n",
        "            decoded_sentence += ' '+sampled_char\n",
        "            if (sampled_char == '_END' or len(decoded_sentence) > max_length_tar):\n",
        "                break\n",
        "        outputs.append(decoded_sentence)\n",
        "\n",
        "    return outputs"
      ],
      "execution_count": 0,
      "outputs": []
    },
    {
      "cell_type": "code",
      "metadata": {
        "id": "3D2LuizE3Mjj",
        "colab_type": "code",
        "colab": {}
      },
      "source": [
        ""
      ],
      "execution_count": 0,
      "outputs": []
    },
    {
      "cell_type": "markdown",
      "metadata": {
        "id": "POra4f4p22Cd",
        "colab_type": "text"
      },
      "source": [
        "### Utility Function\n",
        "\n",
        "Function that makes a request at [My Memory Translated](https://mymemory.translated.net/) to get back the English translation of predicted Spanish sentence."
      ]
    },
    {
      "cell_type": "code",
      "metadata": {
        "id": "sOoLPFHl2cQ8",
        "colab_type": "code",
        "colab": {}
      },
      "source": [
        "url = \"https://api.mymemory.translated.net/get\"\n",
        "\n",
        "def get_translation(seq):\n",
        "    data = {}\n",
        "    data[\"q\"] = seq\n",
        "    data[\"langpair\"] = \"es|en\"\n",
        "    response = requests.post(url, data=data)\n",
        "    translated_text = response.json()[\"responseData\"][\"translatedText\"]\n",
        "    return translated_text"
      ],
      "execution_count": 0,
      "outputs": []
    },
    {
      "cell_type": "code",
      "metadata": {
        "id": "XDtGwIk521ew",
        "colab_type": "code",
        "colab": {}
      },
      "source": [
        ""
      ],
      "execution_count": 0,
      "outputs": []
    },
    {
      "cell_type": "markdown",
      "metadata": {
        "id": "BTPGE2Bj2qeW",
        "colab_type": "text"
      },
      "source": [
        "### White Distance\n",
        "\n",
        "Metric to find similarity between two sentences"
      ]
    },
    {
      "cell_type": "code",
      "metadata": {
        "id": "gC8hRHhZwN7T",
        "colab_type": "code",
        "colab": {}
      },
      "source": [
        "def upper_case(s):\n",
        "    return s.upper()\n",
        "\n",
        "def get_pairs(s):\n",
        "    pairs = []\n",
        "    words = s.strip().split(' ')\n",
        "    for word in words:\n",
        "        for idx in range(len(word)-1):\n",
        "            pairs.append(word[idx:idx+2])\n",
        "    return pairs\n",
        "\n",
        "def get_similarity(s1, s2):\n",
        "    s1 = upper_case(s1)\n",
        "    s2 = upper_case(s2)\n",
        "    p1 = get_pairs(s1)\n",
        "    p2 = get_pairs(s2)\n",
        "    nr = 2*len(list((Counter(p1) & Counter(p2)).elements()))\n",
        "    dr = len(p1)+len(p2)\n",
        "    return nr/dr"
      ],
      "execution_count": 0,
      "outputs": []
    },
    {
      "cell_type": "code",
      "metadata": {
        "id": "3jTeVysT20Zr",
        "colab_type": "code",
        "colab": {}
      },
      "source": [
        ""
      ],
      "execution_count": 0,
      "outputs": []
    },
    {
      "cell_type": "markdown",
      "metadata": {
        "id": "fThNq6hfiLcc",
        "colab_type": "text"
      },
      "source": [
        "### Training Data"
      ]
    },
    {
      "cell_type": "code",
      "metadata": {
        "id": "4ua4IUSkhvQc",
        "colab_type": "code",
        "colab": {}
      },
      "source": [
        "train_gen = generate_batch(X_train, y_train, batch_size = 1)\n",
        "k=-1"
      ],
      "execution_count": 0,
      "outputs": []
    },
    {
      "cell_type": "code",
      "metadata": {
        "id": "lYrRbZRMhvMm",
        "colab_type": "code",
        "outputId": "d2518c18-2816-4c49-9842-d17eacaf2d70",
        "colab": {
          "base_uri": "https://localhost:8080/",
          "height": 1000
        }
      },
      "source": [
        "for _ in range(20):\n",
        "    k+=1\n",
        "    (input_seq, actual_output), _ = next(train_gen)\n",
        "    decoded_sentence = decode_sequence(input_seq)\n",
        "    print('Input Sentence:', X_train[k:k+1].values[0])\n",
        "    print('Actual Translation:', y_train[k:k+1].values[0][6:-4])\n",
        "    print('Predicted Translation (Spanish):', decoded_sentence[:-4])\n",
        "    # predicted spanish sequence back to english\n",
        "    print('Predicted Translation (English):', get_translation(decoded_sentence[:-4]))\n",
        "    print(\"=\"*60, end=\"\\n\\n\")"
      ],
      "execution_count": 0,
      "outputs": [
        {
          "output_type": "stream",
          "text": [
            "Input Sentence: do you know how to drive\n",
            "Actual Translation:  ¿sabes conducir \n",
            "Predicted Translation (Spanish):  ¿sabes cómo se levante \n",
            "Predicted Translation (English): Do you know how to get up\n",
            "============================================================\n",
            "\n",
            "Input Sentence: it never happened\n",
            "Actual Translation:  nunca pasó \n",
            "Predicted Translation (Spanish):  nunca sucedió \n",
            "Predicted Translation (English): It never happened.\n",
            "============================================================\n",
            "\n",
            "Input Sentence: i havent slept in days\n",
            "Actual Translation:  no he dormido en días \n",
            "Predicted Translation (Spanish):  no dormí en dos años \n",
            "Predicted Translation (English): I did not sleep in two years\n",
            "============================================================\n",
            "\n",
            "Input Sentence: i hope you enjoy your flight\n",
            "Actual Translation:  espero que disfrute del vuelo \n",
            "Predicted Translation (Spanish):  espero que te vayas a la leche \n",
            "Predicted Translation (English): I hope you go to milk\n",
            "============================================================\n",
            "\n",
            "Input Sentence: the doctor advised him to give up smoking\n",
            "Actual Translation:  el médico le aconsejó que dejara de fumar \n",
            "Predicted Translation (Spanish):  el médico le aconsejó que dejara de fumar \n",
            "Predicted Translation (English): The doctor advised him to give up smoking.\n",
            "============================================================\n",
            "\n",
            "Input Sentence: tom sees things\n",
            "Actual Translation:  tom ve cosas \n",
            "Predicted Translation (Spanish):  tom ve cosas \n",
            "Predicted Translation (English): Tom sees things.\n",
            "============================================================\n",
            "\n",
            "Input Sentence: do we have enough flour\n",
            "Actual Translation:  ¿tenemos suficiente harina \n",
            "Predicted Translation (Spanish):  ¿tenemos suficiente para beber \n",
            "Predicted Translation (English): Do we have enough to drink\n",
            "============================================================\n",
            "\n",
            "Input Sentence: tom crawled into bed just before midnight\n",
            "Actual Translation:  tom se arrastró a la cama justo antes de medianoche \n",
            "Predicted Translation (Spanish):  tom me quité la casa por un paseo \n",
            "Predicted Translation (English): tom i took off the house for a walk\n",
            "============================================================\n",
            "\n",
            "Input Sentence: im already sick\n",
            "Actual Translation:  ya estoy enferma \n",
            "Predicted Translation (Spanish):  ya estoy enfermo \n",
            "Predicted Translation (English): I am sick\n",
            "============================================================\n",
            "\n",
            "Input Sentence: what will you do when you grow up\n",
            "Actual Translation:  ¿qué harás cuando seas mayor \n",
            "Predicted Translation (Spanish):  ¿qué vas a poner en cuando crezcas \n",
            "Predicted Translation (English): What are you going to put in when you grow up\n",
            "============================================================\n",
            "\n",
            "Input Sentence: could you send me a brochure\n",
            "Actual Translation:  ¿podrías enviarme un folleto \n",
            "Predicted Translation (Spanish):  ¿podrías enviarme un catálogo \n",
            "Predicted Translation (English): Could you send me a catalog\n",
            "============================================================\n",
            "\n",
            "Input Sentence: i assure you that an error like this will never happen again\n",
            "Actual Translation:  te aseguro que un error así no sucederá nunca más \n",
            "Predicted Translation (Spanish):  te aseguro que no he leído ni un error por favor \n",
            "Predicted Translation (English): I assure you that I have not read a mistake please\n",
            "============================================================\n",
            "\n",
            "Input Sentence: tom shut himself up in his bedroom\n",
            "Actual Translation:  tom se encerró en su cuarto \n",
            "Predicted Translation (Spanish):  tom se encerró en su habitación \n",
            "Predicted Translation (English): He locked himself up in his room.\n",
            "============================================================\n",
            "\n",
            "Input Sentence: get out\n",
            "Actual Translation:  bájate \n",
            "Predicted Translation (Spanish):  salid \n",
            "Predicted Translation (English): come out\n",
            "============================================================\n",
            "\n",
            "Input Sentence: tom had a hunch that mary was seeing someone else\n",
            "Actual Translation:  tom tuvo un presentimiento de que mary estaba viendo a alguien más \n",
            "Predicted Translation (Spanish):  tom tuvo una foto de que mary vino a verlo \n",
            "Predicted Translation (English): tom had a picture of mary coming to see him\n",
            "============================================================\n",
            "\n",
            "Input Sentence: tom unlocked his briefcase\n",
            "Actual Translation:  tom abrió los cerrojos de su maletín \n",
            "Predicted Translation (Spanish):  tom abrió la foto \n",
            "Predicted Translation (English): tom opened the photo\n",
            "============================================================\n",
            "\n",
            "Input Sentence: how does the film end\n",
            "Actual Translation:  ¿cómo termina la película \n",
            "Predicted Translation (Spanish):  ¿cómo se llama esa película \n",
            "Predicted Translation (English): What&#39;s that movie called\n",
            "============================================================\n",
            "\n",
            "Input Sentence: a high school student made this robot\n",
            "Actual Translation:  un estudiante de enseñanza media hizo este robot \n",
            "Predicted Translation (Spanish):  un estudiante de la lluvia es muy grande \n",
            "Predicted Translation (English): a rain student is very big\n",
            "============================================================\n",
            "\n",
            "Input Sentence: he is a good violinist\n",
            "Actual Translation:  él es un buen violinista \n",
            "Predicted Translation (Spanish):  él es un buen nadador \n",
            "Predicted Translation (English): he is a good swimmer\n",
            "============================================================\n",
            "\n",
            "Input Sentence: what time do you get up on schooldays\n",
            "Actual Translation:  ¿a qué hora te levantas en días de clase \n",
            "Predicted Translation (Spanish):  ¿a qué hora te levantas en australia \n",
            "Predicted Translation (English): What time do you get up in australia\n",
            "============================================================\n",
            "\n"
          ],
          "name": "stdout"
        }
      ]
    },
    {
      "cell_type": "code",
      "metadata": {
        "id": "m3jAtOUk4vNj",
        "colab_type": "code",
        "outputId": "428d50ff-058e-40ac-a092-153b5e91fa00",
        "colab": {
          "base_uri": "https://localhost:8080/",
          "height": 1000
        }
      },
      "source": [
        "train_gen = generate_batch(X_train, y_train, batch_size = 1)\n",
        "k=-1\n",
        "for _ in range(20):\n",
        "    k+=1\n",
        "    similarity_scores = []\n",
        "    (input_seq, actual_output), _ = next(train_gen)\n",
        "    decoded_sentences = decode_sequence_beam_search(input_seq)\n",
        "    acutal_sentence = y_train[k:k+1].values[0][6:-4]\n",
        "    print('Input Sentence:', X_train[k:k+1].values[0])\n",
        "    print('Actual Translation:', acutal_sentence)\n",
        "    for idx, pred in enumerate(decoded_sentences):\n",
        "        similarity_scores.append(get_similarity(pred, acutal_sentence))\n",
        "    dictionary = dict(zip(similarity_scores, decoded_sentences))\n",
        "    dictionary = {k: v for k, v in sorted(dictionary.items(), \n",
        "                                          key=lambda item: item[1], \n",
        "                                          reverse=True)}\n",
        "    closest_sentence = decoded_sentences[np.argmax(similarity_scores)]\n",
        "    print(f\"Closest Predicted Sentence (Spanish): {closest_sentence[:-4]}\")\n",
        "    print(f\"Closest Predicted Sentence (English): {get_translation(closest_sentence[:-4])}\", end=\"\\n\\n\")\n",
        "    decoded_sentences.remove(closest_sentence)\n",
        "    for idx, pred in enumerate(list(dictionary.values())[:5]):\n",
        "        print(f'Predicted Translation {idx}: {pred[:-4]}')\n",
        "    print(\"=\"*30, end=\"\\n\\n\")"
      ],
      "execution_count": 0,
      "outputs": [
        {
          "output_type": "stream",
          "text": [
            "Input Sentence: do you know how to drive\n",
            "Actual Translation:  ¿sabes conducir \n",
            "Closest Predicted Sentence (Spanish):  ¿sabes conducir se levante \n",
            "Closest Predicted Sentence (English): Do you know drive up get up\n",
            "\n",
            "Predicted Translation 0:  ¿sabes cómo se ponga \n",
            "Predicted Translation 1:  ¿sabes cómo se muevan \n",
            "Predicted Translation 2:  ¿sabes cómo se levante \n",
            "Predicted Translation 3:  ¿sabes cómo manejar levante \n",
            "Predicted Translation 4:  ¿sabes cómo conducir ponga \n",
            "==============================\n",
            "\n",
            "Input Sentence: it never happened\n",
            "Actual Translation:  nunca pasó \n",
            "Closest Predicted Sentence (Spanish):  nunca pasó \n",
            "Closest Predicted Sentence (English): It never happened.\n",
            "\n",
            "Predicted Translation 0:  nunca se \n",
            "Predicted Translation 1:  nunca pasó \n",
            "Predicted Translation 2:  nunca ocurrió \n",
            "Predicted Translation 3:  nunca hizo \n",
            "Predicted Translation 4:  nunca fue \n",
            "==============================\n",
            "\n",
            "Input Sentence: i havent slept in days\n",
            "Actual Translation:  no he dormido en días \n",
            "Closest Predicted Sentence (Spanish):  no dormí en dos días \n",
            "Closest Predicted Sentence (English): I did not sleep in two days\n",
            "\n",
            "Predicted Translation 0:  no me nada dos años \n",
            "Predicted Translation 1:  no me en dos años \n",
            "Predicted Translation 2:  no he nada dos años \n",
            "Predicted Translation 3:  no he en dos años \n",
            "Predicted Translation 4:  no duermo nada dos años \n",
            "==============================\n",
            "\n",
            "Input Sentence: i hope you enjoy your flight\n",
            "Actual Translation:  espero que disfrute del vuelo \n",
            "Closest Predicted Sentence (Spanish):  espero que disfrute vayas a la leche \n",
            "Closest Predicted Sentence (English): I hope you enjoy going to milk\n",
            "\n",
            "Predicted Translation 0:  espero que usted vayas a la leche \n",
            "Predicted Translation 1:  espero que te vayas a la clase \n",
            "Predicted Translation 2:  espero que te pongas a la clase \n",
            "Predicted Translation 3:  espero que te la a la clase \n",
            "Predicted Translation 4:  espero que disfrute vayas a la clase \n",
            "==============================\n",
            "\n",
            "Input Sentence: the doctor advised him to give up smoking\n",
            "Actual Translation:  el médico le aconsejó que dejara de fumar \n",
            "Closest Predicted Sentence (Spanish):  el médico le aconsejó que dejara de fumar \n",
            "Closest Predicted Sentence (English): The doctor advised him to give up smoking.\n",
            "\n",
            "Predicted Translation 0:  el médico le dijo que dejara de fumar \n",
            "Predicted Translation 1:  el médico le aconsejó que dejara la fumar \n",
            "Predicted Translation 2:  el médico le aconsejó que dejara de fumar \n",
            "Predicted Translation 3:  el médico le aconsejó que dejara a fumar \n",
            "Predicted Translation 4:  el doctor le aconsejó que dejara lo fumar \n",
            "==============================\n",
            "\n",
            "Input Sentence: tom sees things\n",
            "Actual Translation:  tom ve cosas \n",
            "Closest Predicted Sentence (Spanish):  tom ve cosas \n",
            "Closest Predicted Sentence (English): Tom sees things.\n",
            "\n",
            "Predicted Translation 0:  ¡tom ve cosas \n",
            "Predicted Translation 1:  tomás ve cosas \n",
            "Predicted Translation 2:  tom ve las \n",
            "Predicted Translation 3:  tom ve cosas \n",
            "Predicted Translation 4:  tom ve aquí \n",
            "==============================\n",
            "\n",
            "Input Sentence: do we have enough flour\n",
            "Actual Translation:  ¿tenemos suficiente harina \n",
            "Closest Predicted Sentence (Spanish):  ¿tenemos suficiente harina beber \n",
            "Closest Predicted Sentence (English): Do we have enough flour to drink\n",
            "\n",
            "Predicted Translation 0:  ¿tenemos suficiente para un \n",
            "Predicted Translation 1:  ¿tenemos suficiente para principiantes \n",
            "Predicted Translation 2:  ¿tenemos suficiente para otra \n",
            "Predicted Translation 3:  ¿tenemos suficiente para escribir \n",
            "Predicted Translation 4:  ¿tenemos suficiente para beber \n",
            "==============================\n",
            "\n",
            "Input Sentence: tom crawled into bed just before midnight\n",
            "Actual Translation:  tom se arrastró a la cama justo antes de medianoche \n",
            "Closest Predicted Sentence (Spanish):  tom me quité la casa por un rato \n",
            "Closest Predicted Sentence (English): tom i took off the house for a while\n",
            "\n",
            "Predicted Translation 0:  tom me quité la casa por un rato \n",
            "Predicted Translation 1:  tom me quité la casa por un paso \n",
            "Predicted Translation 2:  tom me quité la casa por un paseo \n",
            "Predicted Translation 3:  tom me quité la casa por paso paso \n",
            "Predicted Translation 4:  tom me quité la casa por paso paseo \n",
            "==============================\n",
            "\n",
            "Input Sentence: im already sick\n",
            "Actual Translation:  ya estoy enferma \n",
            "Closest Predicted Sentence (Spanish):  ya estoy enferma \n",
            "Closest Predicted Sentence (English): I am sick.\n",
            "\n",
            "Predicted Translation 0:  ¡estoy estoy enfermo \n",
            "Predicted Translation 1:  yo estoy enfermo \n",
            "Predicted Translation 2:  yo estoy enferma \n",
            "Predicted Translation 3:  ya me enferma \n",
            "Predicted Translation 4:  ya estoy enferma \n",
            "==============================\n",
            "\n",
            "Input Sentence: what will you do when you grow up\n",
            "Actual Translation:  ¿qué harás cuando seas mayor \n",
            "Closest Predicted Sentence (Spanish):  ¿qué vas a quedar en cuando \n",
            "Closest Predicted Sentence (English): What are you going to stay on when\n",
            "\n",
            "Predicted Translation 0:  ¿qué vas a quedar en cuando crezcas \n",
            "Predicted Translation 1:  ¿qué vas a quedar en cuando \n",
            "Predicted Translation 2:  ¿qué vas a poner en las crezcas \n",
            "Predicted Translation 3:  ¿qué vas a poner en cuando \n",
            "Predicted Translation 4:  ¿qué vas a estas en cuando crezcas \n",
            "==============================\n",
            "\n",
            "Input Sentence: could you send me a brochure\n",
            "Actual Translation:  ¿podrías enviarme un folleto \n",
            "Closest Predicted Sentence (Spanish):  ¿podrías enviarme un folleto \n",
            "Closest Predicted Sentence (English): Could you send me a brochure?\n",
            "\n",
            "Predicted Translation 0:  ¿puedes enviarme un folleto \n",
            "Predicted Translation 1:  ¿puedes enviarme un catálogo \n",
            "Predicted Translation 2:  ¿podrías un un catálogo \n",
            "Predicted Translation 3:  ¿podrías traerme un catálogo \n",
            "Predicted Translation 4:  ¿podrías enviarme un folleto \n",
            "==============================\n",
            "\n",
            "Input Sentence: i assure you that an error like this will never happen again\n",
            "Actual Translation:  te aseguro que un error así no sucederá nunca más \n",
            "Closest Predicted Sentence (Spanish):  te aseguro que no hace leído un un error de favor \n",
            "Closest Predicted Sentence (English): I assure you that you do not read an error in favor\n",
            "\n",
            "Predicted Translation 0:  te aseguro que no lo leído ni un error por favor \n",
            "Predicted Translation 1:  te aseguro que no he leído un un error por favor \n",
            "Predicted Translation 2:  te aseguro que no he leído un un error de favor \n",
            "Predicted Translation 3:  te aseguro que no he leído ni un periódico por f\n",
            "Predicted Translation 4:  te aseguro que no he leído ni un error de favor \n",
            "==============================\n",
            "\n",
            "Input Sentence: tom shut himself up in his bedroom\n",
            "Actual Translation:  tom se encerró en su cuarto \n",
            "Closest Predicted Sentence (Spanish):  tom se encerró en su cuarto \n",
            "Closest Predicted Sentence (English): Tom locked himself in his room.\n",
            "\n",
            "Predicted Translation 0:  tom se quedó en su habitación \n",
            "Predicted Translation 1:  tom se ocultó en su habitación \n",
            "Predicted Translation 2:  tom se escondió en su habitación \n",
            "Predicted Translation 3:  tom se enjuagó en su habitación \n",
            "Predicted Translation 4:  tom se encerró en su pieza \n",
            "==============================\n",
            "\n",
            "Input Sentence: get out\n",
            "Actual Translation:  bájate \n",
            "Closest Predicted Sentence (Spanish):  bájate \n",
            "Closest Predicted Sentence (English): Get down.\n",
            "\n",
            "Predicted Translation 0:  ¡vete \n",
            "Predicted Translation 1:  ¡quédate \n",
            "Predicted Translation 2:  ¡despierta \n",
            "Predicted Translation 3:  mantente \n",
            "Predicted Translation 4:  bájate \n",
            "==============================\n",
            "\n",
            "Input Sentence: tom had a hunch that mary was seeing someone else\n",
            "Actual Translation:  tom tuvo un presentimiento de que mary estaba viendo a alguien más \n",
            "Closest Predicted Sentence (Spanish):  tom tuvo una foto de que mary estaba a verlo \n",
            "Closest Predicted Sentence (English): Tom had a picture that Mary was seeing him\n",
            "\n",
            "Predicted Translation 0:  tom tuvo una reunión de que mary vino a verlo \n",
            "Predicted Translation 1:  tom tuvo una reunión de mary mary vino a verlo \n",
            "Predicted Translation 2:  tom tuvo una foto de que mary vino a verlo \n",
            "Predicted Translation 3:  tom tuvo una foto de que mary vino a la \n",
            "Predicted Translation 4:  tom tuvo una foto de que mary lo a verlo \n",
            "==============================\n",
            "\n",
            "Input Sentence: tom unlocked his briefcase\n",
            "Actual Translation:  tom abrió los cerrojos de su maletín \n",
            "Closest Predicted Sentence (Spanish):  tom abrió la imagen \n",
            "Closest Predicted Sentence (English): tom opened the image\n",
            "\n",
            "Predicted Translation 0:  tom abrió la primera \n",
            "Predicted Translation 1:  tom abrió la oportunidad \n",
            "Predicted Translation 2:  tom abrió la llave \n",
            "Predicted Translation 3:  tom abrió la imagen \n",
            "Predicted Translation 4:  tom abrió la fotografía \n",
            "==============================\n",
            "\n",
            "Input Sentence: how does the film end\n",
            "Actual Translation:  ¿cómo termina la película \n",
            "Closest Predicted Sentence (Spanish):  ¿cómo se llama esa película \n",
            "Closest Predicted Sentence (English): What&#39;s that movie called\n",
            "\n",
            "Predicted Translation 0:  ¿cómo se ve esa película \n",
            "Predicted Translation 1:  ¿cómo se va esta película \n",
            "Predicted Translation 2:  ¿cómo se utiliza esa película \n",
            "Predicted Translation 3:  ¿cómo se recoge esa película \n",
            "Predicted Translation 4:  ¿cómo se llamaba esa película \n",
            "==============================\n",
            "\n",
            "Input Sentence: a high school student made this robot\n",
            "Actual Translation:  un estudiante de enseñanza media hizo este robot \n",
            "Closest Predicted Sentence (Spanish):  un estudiante de la lluvia está muy grande \n",
            "Closest Predicted Sentence (English): a rain student is very big\n",
            "\n",
            "Predicted Translation 0:  un estudiante de la lluvia no muy grande \n",
            "Predicted Translation 1:  un estudiante de la lluvia está muy grande \n",
            "Predicted Translation 2:  un estudiante de la lluvia es muy grande \n",
            "Predicted Translation 3:  un estudiante de la lluvia es muy de \n",
            "Predicted Translation 4:  un estudiante de la lluvia es muy bueno \n",
            "==============================\n",
            "\n",
            "Input Sentence: he is a good violinist\n",
            "Actual Translation:  él es un buen violinista \n",
            "Closest Predicted Sentence (Spanish):  él es un buen violinista \n",
            "Closest Predicted Sentence (English): He is a good violinist.\n",
            "\n",
            "Predicted Translation 0:  él es un buen violinista \n",
            "Predicted Translation 1:  él es un buen vecino \n",
            "Predicted Translation 2:  él es un buen pianista \n",
            "Predicted Translation 3:  él es un buen nadador \n",
            "Predicted Translation 4:  él es un buen escritor \n",
            "==============================\n",
            "\n",
            "Input Sentence: what time do you get up on schooldays\n",
            "Actual Translation:  ¿a qué hora te levantas en días de clase \n",
            "Closest Predicted Sentence (Spanish):  ¿a qué hora te levantas en las \n",
            "Closest Predicted Sentence (English): What time do you get up\n",
            "\n",
            "Predicted Translation 0:  ¿a qué hora te levantas por el \n",
            "Predicted Translation 1:  ¿a qué hora te levantas por australia \n",
            "Predicted Translation 2:  ¿a qué hora te levantas en unos \n",
            "Predicted Translation 3:  ¿a qué hora te levantas en las \n",
            "Predicted Translation 4:  ¿a qué hora te levantas en el \n",
            "==============================\n",
            "\n"
          ],
          "name": "stdout"
        }
      ]
    },
    {
      "cell_type": "markdown",
      "metadata": {
        "id": "hONMRqaIJmko",
        "colab_type": "text"
      },
      "source": [
        "The combination of `White Distance` and `Beam search` with width 10 definitely. For exmaple - compare the result of greedy search (previous cell) vs the above combination (this cell) for some of the sentences. You would notice, that we get more and more closer to the acutal translation. \n",
        "\n",
        "Example 1 \n",
        "```python\n",
        "# greedy \n",
        "Input Sentence: what time do you get up on schooldays\n",
        "Actual Translation:  ¿a qué hora te levantas en días de clase \n",
        "Predicted Translation (Spanish):  ¿a qué hora te levantas en australia \n",
        "Predicted Translation (English): What time do you get up in australia\n",
        "```\n",
        "```python\n",
        "# beam search + white distance\n",
        "Input Sentence: what time do you get up on schooldays\n",
        "Actual Translation:  ¿a qué hora te levantas en días de clase \n",
        "Closest Predicted Sentence (Spanish):  ¿a qué hora te levantas en las \n",
        "Closest Predicted Sentence (English): What time do you get up\n",
        "```\n",
        "\n",
        "Example 2 \n",
        "```python\n",
        "# greedy\n",
        "Input Sentence: he is a good violinist\n",
        "Actual Translation:  él es un buen violinista \n",
        "Predicted Translation (Spanish):  él es un buen nadador \n",
        "Predicted Translation (English): he is a good swimmer\n",
        "```\n",
        "```python\n",
        "# beam search + white distance\n",
        "Input Sentence: he is a good violinist\n",
        "Actual Translation:  él es un buen violinista \n",
        "Closest Predicted Sentence (Spanish):  él es un buen violinista \n",
        "Closest Predicted Sentence (English): He is a good violinist.\n",
        "```\n",
        "\n",
        "Example 3\n",
        "```python\n",
        "# greedy\n",
        "Input Sentence: i havent slept in days\n",
        "Actual Translation:  no he dormido en días \n",
        "Predicted Translation (Spanish):  no dormí en dos años \n",
        "Predicted Translation (English): I did not sleep in two years\n",
        "```\n",
        "```python\n",
        "# beam search + white distance\n",
        "Input Sentence: i havent slept in days\n",
        "Actual Translation:  no he dormido en días \n",
        "Closest Predicted Sentence (Spanish):  no dormí en dos días \n",
        "Closest Predicted Sentence (English): I did not sleep in two days\n",
        "```\n",
        "Here, *days* seems to be correct instead of *years*\n",
        "\n",
        "Example 4\n",
        "```python\n",
        "# greedy\n",
        "Input Sentence: could you send me a brochure\n",
        "Actual Translation:  ¿podrías enviarme un folleto \n",
        "Predicted Translation (Spanish):  ¿podrías enviarme un catálogo \n",
        "Predicted Translation (English): Could you send me a catalog\n",
        "```\n",
        "```python\n",
        "# beam search + white distance\n",
        "Input Sentence: could you send me a brochure\n",
        "Actual Translation:  ¿podrías enviarme un folleto \n",
        "Closest Predicted Sentence (Spanish):  ¿podrías enviarme un folleto \n",
        "Closest Predicted Sentence (English): Could you send me a brochure?\n",
        "```\n",
        "\n"
      ]
    },
    {
      "cell_type": "code",
      "metadata": {
        "id": "qytlFdnrhvG5",
        "colab_type": "code",
        "colab": {}
      },
      "source": [
        ""
      ],
      "execution_count": 0,
      "outputs": []
    },
    {
      "cell_type": "markdown",
      "metadata": {
        "id": "128CBoYriOuU",
        "colab_type": "text"
      },
      "source": [
        "### Testing Data"
      ]
    },
    {
      "cell_type": "code",
      "metadata": {
        "id": "QdkmKx2HhvCk",
        "colab_type": "code",
        "colab": {}
      },
      "source": [
        "val_gen = generate_batch(X_test, y_test, batch_size = 1)\n",
        "k=-1"
      ],
      "execution_count": 0,
      "outputs": []
    },
    {
      "cell_type": "code",
      "metadata": {
        "id": "mTd6pAdqiQuQ",
        "colab_type": "code",
        "outputId": "48d516ad-40d4-43b0-f015-eee6b33fbb6b",
        "colab": {
          "base_uri": "https://localhost:8080/",
          "height": 1000
        }
      },
      "source": [
        "for _ in range(20):\n",
        "    k+=1\n",
        "    (input_seq, actual_output), _ = next(val_gen)\n",
        "    decoded_sentence = decode_sequence(input_seq)\n",
        "    print('Input Sentence:', X_test[k:k+1].values[0])\n",
        "    print('Actual Translation:', y_test[k:k+1].values[0][6:-4])\n",
        "    print('Predicted Translation (Spanish):', decoded_sentence[:-4])\n",
        "    # predicted spanish sequence back to english\n",
        "    print('Predicted Translation (English):', get_translation(decoded_sentence[:-4]))\n",
        "    print(\"=\"*60, end=\"\\n\\n\")"
      ],
      "execution_count": 0,
      "outputs": [
        {
          "output_type": "stream",
          "text": [
            "Input Sentence: we work every day but sunday\n",
            "Actual Translation:  trabajamos todos los días excepto el domingo \n",
            "Predicted Translation (Spanish):  trabajamos todos los días excepto los domingos \n",
            "Predicted Translation (English): We work every day but Sunday.\n",
            "============================================================\n",
            "\n",
            "Input Sentence: does tom want a car\n",
            "Actual Translation:  ¿tomás quiere un auto \n",
            "Predicted Translation (Spanish):  ¿tom quiere un coche \n",
            "Predicted Translation (English): Does tom want a car\n",
            "============================================================\n",
            "\n",
            "Input Sentence: i was surprised that tom spoke french so well\n",
            "Actual Translation:  me sorprendió que tomás hablase francés tan bien \n",
            "Predicted Translation (Spanish):  me sorprendió que tom estaba y yo nunca más \n",
            "Predicted Translation (English): I was surprised that Tom was and I was never again\n",
            "============================================================\n",
            "\n",
            "Input Sentence: tom asked mary for help\n",
            "Actual Translation:  tom le pidió ayuda a mary \n",
            "Predicted Translation (Spanish):  tom le pidió ayuda a mary \n",
            "Predicted Translation (English): Tom asked Mary for help.\n",
            "============================================================\n",
            "\n",
            "Input Sentence: say cheese\n",
            "Actual Translation:  di patata \n",
            "Predicted Translation (Spanish):  decid patata \n",
            "Predicted Translation (English): Say cheese.\n",
            "============================================================\n",
            "\n",
            "Input Sentence: some of these young people have legs twice as long as mine\n",
            "Actual Translation:  algunos de estos jóvenes tienen las piernas el doble de largas que las mías \n",
            "Predicted Translation (Spanish):  algunas personas murieron mucho de veces más tarde\n",
            "Predicted Translation (English): some people died a lot of times later\n",
            "============================================================\n",
            "\n",
            "Input Sentence: i dont care what she eats\n",
            "Actual Translation:  no me interesa lo que ella coma \n",
            "Predicted Translation (Spanish):  no me importa lo que tú \n",
            "Predicted Translation (English): Would it move you enough\n",
            "============================================================\n",
            "\n",
            "Input Sentence: i will have to tell him the truth tomorrow\n",
            "Actual Translation:  tendré que decirle la verdad mañana \n",
            "Predicted Translation (Spanish):  me encargaré de que quieras \n",
            "Predicted Translation (English): I&#39;ll take care of what you want\n",
            "============================================================\n",
            "\n",
            "Input Sentence: weve never lived here\n",
            "Actual Translation:  nunca hemos vivido aquí \n",
            "Predicted Translation (Spanish):  ya no hemos vivido aquí \n",
            "Predicted Translation (English): we have not lived here anymore\n",
            "============================================================\n",
            "\n",
            "Input Sentence: tom and mary couldnt move the heavy trunk\n",
            "Actual Translation:  tom y mary no podían mover el pesado tronco \n",
            "Predicted Translation (Spanish):  tom y mary no pudieron defenderse por la salud \n",
            "Predicted Translation (English): tom and mary couldn&#39;t defend themselves for health\n",
            "============================================================\n",
            "\n",
            "Input Sentence: what subject do you like best\n",
            "Actual Translation:  ¿cuál es la asignatura que más te gusta \n",
            "Predicted Translation (Spanish):  ¿qué es tu cosa que te gusta \n",
            "Predicted Translation (English): What is your thing that you like\n",
            "============================================================\n",
            "\n",
            "Input Sentence: he repeated his question\n",
            "Actual Translation:  él repitió su pregunta \n",
            "Predicted Translation (Spanish):  él pagó su pregunta \n",
            "Predicted Translation (English): he paid his question\n",
            "============================================================\n",
            "\n",
            "Input Sentence: my brother bought a used car so it wasnt very expensive\n",
            "Actual Translation:  mi hermano compró un auto usado así que no era muy caro \n",
            "Predicted Translation (Spanish):  mi hermano menor compró un vestido muy inteligente\n",
            "Predicted Translation (English): my younger brother bought a very smart dress\n",
            "============================================================\n",
            "\n",
            "Input Sentence: croatia is a country located in the southeastern part of europe\n",
            "Actual Translation:  croacia es un país situado en el sudeste de europa \n",
            "Predicted Translation (Spanish):  croacia es un país en el país por favor \n",
            "Predicted Translation (English): croatia is a country in the country please\n",
            "============================================================\n",
            "\n",
            "Input Sentence: he will come if you call him\n",
            "Actual Translation:  él vendrá si tú le llamas \n",
            "Predicted Translation (Spanish):  él vendrá si te va a la mano \n",
            "Predicted Translation (English): he will come if it goes to your hand\n",
            "============================================================\n",
            "\n",
            "Input Sentence: of course you can take it if you want\n",
            "Actual Translation:  por supuesto que puedes tomarlo sí quieres \n",
            "Predicted Translation (Spanish):  por lo puedes hacer por favor llámeme \n",
            "Predicted Translation (English): so can you please call me\n",
            "============================================================\n",
            "\n",
            "Input Sentence: tom shouldnt have made mary angry\n",
            "Actual Translation:  tom no debió haber hecho enfadar a mary \n",
            "Predicted Translation (Spanish):  tom no debería haber estado haciendo hasta mary \n",
            "Predicted Translation (English): tom shouldn&#39;t have been doing until mary\n",
            "============================================================\n",
            "\n",
            "Input Sentence: you look stupid\n",
            "Actual Translation:  pareces estúpido \n",
            "Predicted Translation (Spanish):  pareces un tonto \n",
            "Predicted Translation (English): you look like a fool\n",
            "============================================================\n",
            "\n",
            "Input Sentence: mary was a tomboy\n",
            "Actual Translation:  mary era un chicazo \n",
            "Predicted Translation (Spanish):  mary es un chicazo \n",
            "Predicted Translation (English): Mary is a guy\n",
            "============================================================\n",
            "\n",
            "Input Sentence: i think youre the only one who cares\n",
            "Actual Translation:  yo creo que usted es el único al que le importa \n",
            "Predicted Translation (Spanish):  creo que eres la única a la decisión \n",
            "Predicted Translation (English): I think you are the only one to decide\n",
            "============================================================\n",
            "\n"
          ],
          "name": "stdout"
        }
      ]
    },
    {
      "cell_type": "code",
      "metadata": {
        "id": "o6ePOWT0FnAs",
        "colab_type": "code",
        "colab": {}
      },
      "source": [
        ""
      ],
      "execution_count": 0,
      "outputs": []
    }
  ]
}