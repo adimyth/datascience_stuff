{
  "nbformat": 4,
  "nbformat_minor": 0,
  "metadata": {
    "colab": {
      "name": "cam.ipynb",
      "provenance": [],
      "authorship_tag": "ABX9TyNAWy/HxMs23JJed3aoBU0v",
      "include_colab_link": true
    },
    "kernelspec": {
      "name": "python3",
      "display_name": "Python 3"
    },
    "accelerator": "GPU"
  },
  "cells": [
    {
      "cell_type": "markdown",
      "metadata": {
        "id": "view-in-github",
        "colab_type": "text"
      },
      "source": [
        "<a href=\"https://colab.research.google.com/github/adimyth/interesting_stuff/blob/master/model_interpretation/cam.ipynb\" target=\"_parent\"><img src=\"https://colab.research.google.com/assets/colab-badge.svg\" alt=\"Open In Colab\"/></a>"
      ]
    },
    {
      "cell_type": "code",
      "metadata": {
        "id": "yh2x2jnCtRk3",
        "colab_type": "code",
        "colab": {}
      },
      "source": [
        "!pip install tensorflow==2.0"
      ],
      "execution_count": 0,
      "outputs": []
    },
    {
      "cell_type": "markdown",
      "metadata": {
        "id": "x2hsfpo-LAvG",
        "colab_type": "text"
      },
      "source": [
        "# Class Activation Maps"
      ]
    },
    {
      "cell_type": "markdown",
      "metadata": {
        "id": "AMdvcBmuK99l",
        "colab_type": "text"
      },
      "source": [
        "CAMs are a simple & effective way of visualizing the CNN networks. It allows us to visualize which part of the image get's most activated for a particular class.\n",
        "\n",
        "There's a Global Average Pooling layer after the last convolution block followed by a dense layer.\n",
        "\n",
        "![CAM](https://cdn-images-1.medium.com/fit/t/1600/480/1*hXdqemUHnAlwKUIcl-4PDA.jpeg)\n",
        "\n",
        "Suppose after the last conv block, the output is of size *8x8x256* i.e. 256 filters of size 8x8. After GAP, the output will be a 256 sized vector, which is then passed to a dense layer with *n* (10 for MNIST) units. Thus each edge from the 256 units to a particular class C represents the weight of that corresponding filter for class C.\n",
        "\n",
        "Let us assume that the CNN output of size 8x8x256 is represented by the matrix A and the weight matrix from the 256 units (flattened layer) to 24 classes is W. Thus W is of size 256x24. If we multiply A with W then we will obtain a matrix B of size 8x8x24.\n",
        "\n",
        ">B = A.W\n",
        "\n",
        "\n",
        "If the actual class label for an example is C, then taking the value of *B[:,:,C]* will return a 8x8 matrix which is nothing but a color-map (or heat-map) for class label C. Thus *B[:,:,C]* represents the weighted sum of all 256 filters of size 8x8 for class label C."
      ]
    },
    {
      "cell_type": "markdown",
      "metadata": {
        "id": "yS8-r1uPtbJ_",
        "colab_type": "text"
      },
      "source": [
        "## Importing Libraries"
      ]
    },
    {
      "cell_type": "code",
      "metadata": {
        "id": "GcrX9KtitYCR",
        "colab_type": "code",
        "colab": {}
      },
      "source": [
        "import numpy as np\n",
        "import matplotlib.pyplot as plt\n",
        "import scipy\n",
        "from vis.utils import utils\n",
        "\n",
        "import tensorflow as tf\n",
        "from tensorflow.keras.datasets import mnist\n",
        "from tensorflow.keras.models import Sequential, Model\n",
        "from tensorflow.keras.layers import Dense, Conv2D, Flatten, MaxPooling2D, GlobalAveragePooling2D\n",
        "from tensorflow.keras.utils import plot_model"
      ],
      "execution_count": 0,
      "outputs": []
    },
    {
      "cell_type": "code",
      "metadata": {
        "id": "FngqZA7Ct0bh",
        "colab_type": "code",
        "colab": {
          "base_uri": "https://localhost:8080/",
          "height": 34
        },
        "outputId": "2e7abf67-1f12-41d1-da9b-4e97b3437d3a"
      },
      "source": [
        "tf.__version__"
      ],
      "execution_count": 114,
      "outputs": [
        {
          "output_type": "execute_result",
          "data": {
            "text/plain": [
              "'2.0.0'"
            ]
          },
          "metadata": {
            "tags": []
          },
          "execution_count": 114
        }
      ]
    },
    {
      "cell_type": "code",
      "metadata": {
        "id": "hQIca4qLt1s9",
        "colab_type": "code",
        "colab": {
          "base_uri": "https://localhost:8080/",
          "height": 51
        },
        "outputId": "274f3749-37bf-4b76-9b2c-f62da566b0bb"
      },
      "source": [
        "(X_train, y_train), (X_test, y_test) = mnist.load_data()"
      ],
      "execution_count": 5,
      "outputs": [
        {
          "output_type": "stream",
          "text": [
            "Downloading data from https://storage.googleapis.com/tensorflow/tf-keras-datasets/mnist.npz\n",
            "11493376/11490434 [==============================] - 0s 0us/step\n"
          ],
          "name": "stdout"
        }
      ]
    },
    {
      "cell_type": "code",
      "metadata": {
        "id": "m8kg1atJuBKU",
        "colab_type": "code",
        "colab": {
          "base_uri": "https://localhost:8080/",
          "height": 34
        },
        "outputId": "0e8e4c41-cbfe-4a49-9e6d-605a3d6a2610"
      },
      "source": [
        "print(X_train.shape, X_test.shape)"
      ],
      "execution_count": 6,
      "outputs": [
        {
          "output_type": "stream",
          "text": [
            "(60000, 28, 28) (10000, 28, 28)\n"
          ],
          "name": "stdout"
        }
      ]
    },
    {
      "cell_type": "code",
      "metadata": {
        "id": "D-5GWB2WwFkE",
        "colab_type": "code",
        "colab": {
          "base_uri": "https://localhost:8080/",
          "height": 34
        },
        "outputId": "0f534748-bdac-4370-a50e-1a93677328c9"
      },
      "source": [
        "print(y_train.shape, y_test.shape)"
      ],
      "execution_count": 7,
      "outputs": [
        {
          "output_type": "stream",
          "text": [
            "(60000,) (10000,)\n"
          ],
          "name": "stdout"
        }
      ]
    },
    {
      "cell_type": "code",
      "metadata": {
        "id": "ZM_jpM-ZwNEK",
        "colab_type": "code",
        "colab": {
          "base_uri": "https://localhost:8080/",
          "height": 34
        },
        "outputId": "7afa26c2-e883-46c7-9c0e-7dfe84228ce7"
      },
      "source": [
        "y_train[0]"
      ],
      "execution_count": 8,
      "outputs": [
        {
          "output_type": "execute_result",
          "data": {
            "text/plain": [
              "5"
            ]
          },
          "metadata": {
            "tags": []
          },
          "execution_count": 8
        }
      ]
    },
    {
      "cell_type": "code",
      "metadata": {
        "id": "GpoSbVwnuHz0",
        "colab_type": "code",
        "colab": {
          "base_uri": "https://localhost:8080/",
          "height": 51
        },
        "outputId": "781c96ec-caf9-4d21-87cb-995d65e0f072"
      },
      "source": [
        "X_train = X_train.reshape((X_train.shape[0],X_train.shape[1],X_train.shape[2],1))\n",
        "print(X_train.shape)\n",
        "X_test = X_test.reshape((X_test.shape[0],X_test.shape[1],X_test.shape[2],1))\n",
        "print(X_test.shape)\n",
        "X_train = X_train/255\n",
        "X_test  = X_test/255\n",
        "X_train = X_train.astype('float')\n",
        "X_test  = X_test.astype('float')"
      ],
      "execution_count": 9,
      "outputs": [
        {
          "output_type": "stream",
          "text": [
            "(60000, 28, 28, 1)\n",
            "(10000, 28, 28, 1)\n"
          ],
          "name": "stdout"
        }
      ]
    },
    {
      "cell_type": "code",
      "metadata": {
        "id": "KtV8DOKQuSFo",
        "colab_type": "code",
        "colab": {
          "base_uri": "https://localhost:8080/",
          "height": 34
        },
        "outputId": "7fa76f82-4bfd-4e49-e476-adb1f32416a1"
      },
      "source": [
        "X_train[0].shape"
      ],
      "execution_count": 10,
      "outputs": [
        {
          "output_type": "execute_result",
          "data": {
            "text/plain": [
              "(28, 28, 1)"
            ]
          },
          "metadata": {
            "tags": []
          },
          "execution_count": 10
        }
      ]
    },
    {
      "cell_type": "code",
      "metadata": {
        "id": "2XZkYA-6uSeK",
        "colab_type": "code",
        "colab": {
          "base_uri": "https://localhost:8080/",
          "height": 282
        },
        "outputId": "ae2324f1-a111-43ec-c6bb-19bcfe80a630"
      },
      "source": [
        "img = X_train[0]\n",
        "img = img.reshape((28, 28))\n",
        "plt.imshow(img, cmap=\"gray\")"
      ],
      "execution_count": 11,
      "outputs": [
        {
          "output_type": "execute_result",
          "data": {
            "text/plain": [
              "<matplotlib.image.AxesImage at 0x7f2fe5ce7c50>"
            ]
          },
          "metadata": {
            "tags": []
          },
          "execution_count": 11
        },
        {
          "output_type": "display_data",
          "data": {
            "image/png": "[encoded data removed]",
            "text/plain": [
              "<Figure size 432x288 with 1 Axes>"
            ]
          },
          "metadata": {
            "tags": []
          }
        }
      ]
    },
    {
      "cell_type": "code",
      "metadata": {
        "id": "2XFziEzKum4Z",
        "colab_type": "code",
        "colab": {}
      },
      "source": [
        "np.random.seed(42)"
      ],
      "execution_count": 0,
      "outputs": []
    },
    {
      "cell_type": "markdown",
      "metadata": {
        "id": "qHFtDMFvvcUG",
        "colab_type": "text"
      },
      "source": [
        "## Modelling (with maxpooling)"
      ]
    },
    {
      "cell_type": "markdown",
      "metadata": {
        "id": "t48xzAWdKh6e",
        "colab_type": "text"
      },
      "source": [
        "The models need to be tweaked so that, there's always a Global Average Pooling(GAP) layer after the last convolution block, followed by a Dense layer with softmax activation."
      ]
    },
    {
      "cell_type": "code",
      "metadata": {
        "id": "QYJ2BTgvvYko",
        "colab_type": "code",
        "colab": {}
      },
      "source": [
        "model = Sequential()\n",
        "model.add(Conv2D(16, input_shape=(28,28,1), kernel_size=(3,3), activation='relu', padding='same'))\n",
        "model.add(MaxPooling2D(2,2))\n",
        "\n",
        "model.add(Conv2D(32, kernel_size=(3,3), activation='relu', padding='same'))\n",
        "model.add(MaxPooling2D(2,2))\n",
        "\n",
        "model.add(Conv2D(64, kernel_size=(3,3), activation='relu', padding='same'))\n",
        "model.add(MaxPooling2D(2,2))\n",
        "\n",
        "model.add(Conv2D(128,kernel_size=(3,3), activation='relu', padding='same'))\n",
        "model.add(GlobalAveragePooling2D())\n",
        "model.add(Dense(10,activation='softmax'))"
      ],
      "execution_count": 0,
      "outputs": []
    },
    {
      "cell_type": "code",
      "metadata": {
        "id": "6MlMQUGqvkMe",
        "colab_type": "code",
        "colab": {
          "base_uri": "https://localhost:8080/",
          "height": 459
        },
        "outputId": "93bdf7ce-adce-4f1c-abe7-7e6932dcc3c4"
      },
      "source": [
        "model.summary()"
      ],
      "execution_count": 20,
      "outputs": [
        {
          "output_type": "stream",
          "text": [
            "Model: \"sequential_1\"\n",
            "_________________________________________________________________\n",
            "Layer (type)                 Output Shape              Param #   \n",
            "=================================================================\n",
            "conv2d_4 (Conv2D)            (None, 28, 28, 16)        160       \n",
            "_________________________________________________________________\n",
            "max_pooling2d (MaxPooling2D) (None, 14, 14, 16)        0         \n",
            "_________________________________________________________________\n",
            "conv2d_5 (Conv2D)            (None, 14, 14, 32)        4640      \n",
            "_________________________________________________________________\n",
            "max_pooling2d_1 (MaxPooling2 (None, 7, 7, 32)          0         \n",
            "_________________________________________________________________\n",
            "conv2d_6 (Conv2D)            (None, 7, 7, 64)          18496     \n",
            "_________________________________________________________________\n",
            "max_pooling2d_2 (MaxPooling2 (None, 3, 3, 64)          0         \n",
            "_________________________________________________________________\n",
            "conv2d_7 (Conv2D)            (None, 3, 3, 128)         73856     \n",
            "_________________________________________________________________\n",
            "global_average_pooling2d_1 ( (None, 128)               0         \n",
            "_________________________________________________________________\n",
            "dense_1 (Dense)              (None, 10)                1290      \n",
            "=================================================================\n",
            "Total params: 98,442\n",
            "Trainable params: 98,442\n",
            "Non-trainable params: 0\n",
            "_________________________________________________________________\n"
          ],
          "name": "stdout"
        }
      ]
    },
    {
      "cell_type": "code",
      "metadata": {
        "id": "92Z5bog9vl9N",
        "colab_type": "code",
        "colab": {
          "base_uri": "https://localhost:8080/",
          "height": 34
        },
        "outputId": "5ec06704-2ecf-47a2-cc90-4e99c74fe768"
      },
      "source": [
        "model.input"
      ],
      "execution_count": 21,
      "outputs": [
        {
          "output_type": "execute_result",
          "data": {
            "text/plain": [
              "<tf.Tensor 'conv2d_4_input:0' shape=(None, 28, 28, 1) dtype=float32>"
            ]
          },
          "metadata": {
            "tags": []
          },
          "execution_count": 21
        }
      ]
    },
    {
      "cell_type": "code",
      "metadata": {
        "id": "_9CMXUb4v0_g",
        "colab_type": "code",
        "colab": {
          "base_uri": "https://localhost:8080/",
          "height": 953
        },
        "outputId": "97435dd5-27ba-43c8-bc4c-f04fe051e6b2"
      },
      "source": [
        "plot_model(model)"
      ],
      "execution_count": 22,
      "outputs": [
        {
          "output_type": "execute_result",
          "data": {
            "image/png": "[encoded data removed]",
            "text/plain": [
              "<IPython.core.display.Image object>"
            ]
          },
          "metadata": {
            "tags": []
          },
          "execution_count": 22
        }
      ]
    },
    {
      "cell_type": "code",
      "metadata": {
        "id": "TZdtpIcfwWAl",
        "colab_type": "code",
        "colab": {}
      },
      "source": [
        "model.compile(loss=\"sparse_categorical_crossentropy\", metrics=[\"accuracy\"], optimizer=\"adam\")"
      ],
      "execution_count": 0,
      "outputs": []
    },
    {
      "cell_type": "code",
      "metadata": {
        "id": "kTOyidBjwXZ0",
        "colab_type": "code",
        "colab": {
          "base_uri": "https://localhost:8080/",
          "height": 221
        },
        "outputId": "1ef7babe-3a0a-4212-ed0c-29bfb5a3008e"
      },
      "source": [
        "model.fit(X_train, y_train, epochs=5, batch_size=64)"
      ],
      "execution_count": 24,
      "outputs": [
        {
          "output_type": "stream",
          "text": [
            "Train on 60000 samples\n",
            "Epoch 1/5\n",
            "60000/60000 [==============================] - 50s 827us/sample - loss: 0.3095 - accuracy: 0.9021\n",
            "Epoch 2/5\n",
            "60000/60000 [==============================] - 49s 815us/sample - loss: 0.0911 - accuracy: 0.9711\n",
            "Epoch 3/5\n",
            "60000/60000 [==============================] - 48s 801us/sample - loss: 0.0657 - accuracy: 0.9787\n",
            "Epoch 4/5\n",
            "60000/60000 [==============================] - 48s 805us/sample - loss: 0.0488 - accuracy: 0.9847\n",
            "Epoch 5/5\n",
            "60000/60000 [==============================] - 48s 800us/sample - loss: 0.0401 - accuracy: 0.9875\n"
          ],
          "name": "stdout"
        },
        {
          "output_type": "execute_result",
          "data": {
            "text/plain": [
              "<tensorflow.python.keras.callbacks.History at 0x7f2fdd6b4da0>"
            ]
          },
          "metadata": {
            "tags": []
          },
          "execution_count": 24
        }
      ]
    },
    {
      "cell_type": "code",
      "metadata": {
        "id": "AxoHADJtwXXj",
        "colab_type": "code",
        "colab": {}
      },
      "source": [
        "model.save('trained_model.h5')"
      ],
      "execution_count": 0,
      "outputs": []
    },
    {
      "cell_type": "code",
      "metadata": {
        "id": "t34nrpB1wXU1",
        "colab_type": "code",
        "colab": {}
      },
      "source": [
        ""
      ],
      "execution_count": 0,
      "outputs": []
    },
    {
      "cell_type": "markdown",
      "metadata": {
        "id": "3MnUo2jwSFO5",
        "colab_type": "text"
      },
      "source": [
        "## CAM Prediction\n",
        "\n",
        "Model to get the output of the last convolution block and classification prediction"
      ]
    },
    {
      "cell_type": "code",
      "metadata": {
        "id": "Q1QNmRnKSVoT",
        "colab_type": "code",
        "colab": {}
      },
      "source": [
        "# 1. conv_feat: model.layers[-3].output would give us the output of the last convolution block\n",
        "# 2. class_res: model.layers[-1].output would give us classification output\n",
        "cam_model  = Model(inputs=model.input, \n",
        "                   outputs=(model.layers[-3].output, model.layers[-1].output))\n"
      ],
      "execution_count": 0,
      "outputs": []
    },
    {
      "cell_type": "code",
      "metadata": {
        "id": "u5uNd4RgSm5Y",
        "colab_type": "code",
        "colab": {
          "base_uri": "https://localhost:8080/",
          "height": 493
        },
        "outputId": "87548c45-bde5-4fc2-e0e6-9e4b9e6481da"
      },
      "source": [
        "cam_model.summary()"
      ],
      "execution_count": 27,
      "outputs": [
        {
          "output_type": "stream",
          "text": [
            "Model: \"model\"\n",
            "_________________________________________________________________\n",
            "Layer (type)                 Output Shape              Param #   \n",
            "=================================================================\n",
            "conv2d_4_input (InputLayer)  [(None, 28, 28, 1)]       0         \n",
            "_________________________________________________________________\n",
            "conv2d_4 (Conv2D)            (None, 28, 28, 16)        160       \n",
            "_________________________________________________________________\n",
            "max_pooling2d (MaxPooling2D) (None, 14, 14, 16)        0         \n",
            "_________________________________________________________________\n",
            "conv2d_5 (Conv2D)            (None, 14, 14, 32)        4640      \n",
            "_________________________________________________________________\n",
            "max_pooling2d_1 (MaxPooling2 (None, 7, 7, 32)          0         \n",
            "_________________________________________________________________\n",
            "conv2d_6 (Conv2D)            (None, 7, 7, 64)          18496     \n",
            "_________________________________________________________________\n",
            "max_pooling2d_2 (MaxPooling2 (None, 3, 3, 64)          0         \n",
            "_________________________________________________________________\n",
            "conv2d_7 (Conv2D)            (None, 3, 3, 128)         73856     \n",
            "_________________________________________________________________\n",
            "global_average_pooling2d_1 ( (None, 128)               0         \n",
            "_________________________________________________________________\n",
            "dense_1 (Dense)              (None, 10)                1290      \n",
            "=================================================================\n",
            "Total params: 98,442\n",
            "Trainable params: 98,442\n",
            "Non-trainable params: 0\n",
            "_________________________________________________________________\n"
          ],
          "name": "stdout"
        }
      ]
    },
    {
      "cell_type": "code",
      "metadata": {
        "id": "OGwMq0RHd1FA",
        "colab_type": "code",
        "colab": {
          "base_uri": "https://localhost:8080/",
          "height": 34
        },
        "outputId": "68bb8add-59d0-4fe1-8c91-d728e15f13ff"
      },
      "source": [
        "print(X_test.shape, X_test[0].shape)"
      ],
      "execution_count": 28,
      "outputs": [
        {
          "output_type": "stream",
          "text": [
            "(10000, 28, 28, 1) (28, 28, 1)\n"
          ],
          "name": "stdout"
        }
      ]
    },
    {
      "cell_type": "code",
      "metadata": {
        "id": "5osP2cpbd82b",
        "colab_type": "code",
        "colab": {}
      },
      "source": [
        "test_img = np.expand_dims(X_test[0], axis=0)"
      ],
      "execution_count": 0,
      "outputs": []
    },
    {
      "cell_type": "code",
      "metadata": {
        "id": "6s2yd7hPeEYT",
        "colab_type": "code",
        "colab": {
          "base_uri": "https://localhost:8080/",
          "height": 34
        },
        "outputId": "ef09095e-ccf2-40ed-cc4a-700ce0153a63"
      },
      "source": [
        "test_img.shape"
      ],
      "execution_count": 32,
      "outputs": [
        {
          "output_type": "execute_result",
          "data": {
            "text/plain": [
              "(1, 28, 28, 1)"
            ]
          },
          "metadata": {
            "tags": []
          },
          "execution_count": 32
        }
      ]
    },
    {
      "cell_type": "code",
      "metadata": {
        "id": "tcGD0L2hSm8k",
        "colab_type": "code",
        "colab": {}
      },
      "source": [
        "conv_feat, class_res = cam_model.predict(test_img)"
      ],
      "execution_count": 0,
      "outputs": []
    },
    {
      "cell_type": "code",
      "metadata": {
        "id": "exHB-ZS8TnfE",
        "colab_type": "code",
        "colab": {
          "base_uri": "https://localhost:8080/",
          "height": 34
        },
        "outputId": "e46becce-53e6-4ca9-b9a2-46f3969a5ea2"
      },
      "source": [
        "print(conv_feat.shape, class_res.shape)"
      ],
      "execution_count": 36,
      "outputs": [
        {
          "output_type": "stream",
          "text": [
            "(1, 3, 3, 128) (1, 10)\n"
          ],
          "name": "stdout"
        }
      ]
    },
    {
      "cell_type": "markdown",
      "metadata": {
        "id": "bUxlMEixevvW",
        "colab_type": "text"
      },
      "source": [
        "### Classification"
      ]
    },
    {
      "cell_type": "code",
      "metadata": {
        "id": "RGx97owFeMZ5",
        "colab_type": "code",
        "colab": {
          "base_uri": "https://localhost:8080/",
          "height": 68
        },
        "outputId": "c3bedc22-e31e-4700-fc41-f2750ac459d2"
      },
      "source": [
        "class_res"
      ],
      "execution_count": 37,
      "outputs": [
        {
          "output_type": "execute_result",
          "data": {
            "text/plain": [
              "array([[2.4327006e-11, 7.5945055e-09, 2.0224364e-09, 1.6624096e-08,\n",
              "        1.3987581e-11, 4.3548545e-10, 7.7247957e-19, 1.0000000e+00,\n",
              "        4.2868216e-11, 5.6191734e-08]], dtype=float32)"
            ]
          },
          "metadata": {
            "tags": []
          },
          "execution_count": 37
        }
      ]
    },
    {
      "cell_type": "code",
      "metadata": {
        "id": "g3cwv9aCeVQK",
        "colab_type": "code",
        "colab": {
          "base_uri": "https://localhost:8080/",
          "height": 282
        },
        "outputId": "0de0b5d8-11ce-496d-df6c-3d4fd8efd4fc"
      },
      "source": [
        "plt.imshow(X_test[0][:,:,0], cmap=\"gray\")"
      ],
      "execution_count": 42,
      "outputs": [
        {
          "output_type": "execute_result",
          "data": {
            "text/plain": [
              "<matplotlib.image.AxesImage at 0x7f2fd88f5b70>"
            ]
          },
          "metadata": {
            "tags": []
          },
          "execution_count": 42
        },
        {
          "output_type": "display_data",
          "data": {
            "image/png": "[encoded data removed]",
            "text/plain": [
              "<Figure size 432x288 with 1 Axes>"
            ]
          },
          "metadata": {
            "tags": []
          }
        }
      ]
    },
    {
      "cell_type": "code",
      "metadata": {
        "id": "Stbuf2J7eMfD",
        "colab_type": "code",
        "colab": {
          "base_uri": "https://localhost:8080/",
          "height": 34
        },
        "outputId": "dfe009ef-2af2-4fc7-f822-98e205c13275"
      },
      "source": [
        "pred_class = np.argmax(class_res)\n",
        "pred_class"
      ],
      "execution_count": 39,
      "outputs": [
        {
          "output_type": "execute_result",
          "data": {
            "text/plain": [
              "7"
            ]
          },
          "metadata": {
            "tags": []
          },
          "execution_count": 39
        }
      ]
    },
    {
      "cell_type": "markdown",
      "metadata": {
        "id": "kXYKDhsSezYL",
        "colab_type": "text"
      },
      "source": [
        "### Convolution Feature"
      ]
    },
    {
      "cell_type": "code",
      "metadata": {
        "id": "evvZHtgneyul",
        "colab_type": "code",
        "colab": {
          "base_uri": "https://localhost:8080/",
          "height": 34
        },
        "outputId": "3e92aae1-c125-4dd7-9271-46be1fe56d26"
      },
      "source": [
        "conv_feat.shape"
      ],
      "execution_count": 43,
      "outputs": [
        {
          "output_type": "execute_result",
          "data": {
            "text/plain": [
              "(1, 3, 3, 128)"
            ]
          },
          "metadata": {
            "tags": []
          },
          "execution_count": 43
        }
      ]
    },
    {
      "cell_type": "code",
      "metadata": {
        "id": "-Tt6YdrieuXb",
        "colab_type": "code",
        "colab": {
          "base_uri": "https://localhost:8080/",
          "height": 357
        },
        "outputId": "ddfacfa6-1c92-4db3-f99b-8aed7f4889f1"
      },
      "source": [
        "conv_feat[0]"
      ],
      "execution_count": 44,
      "outputs": [
        {
          "output_type": "execute_result",
          "data": {
            "text/plain": [
              "array([[[ 1.3976736 ,  0.        ,  0.        , ...,  1.4314015 ,\n",
              "          0.        ,  0.8809805 ],\n",
              "        [ 0.        ,  0.        ,  0.        , ...,  1.0234108 ,\n",
              "          0.        ,  0.        ],\n",
              "        [ 0.        ,  0.        ,  0.        , ...,  3.3145494 ,\n",
              "          0.        ,  0.        ]],\n",
              "\n",
              "       [[ 0.        ,  0.        ,  0.        , ...,  0.        ,\n",
              "          3.6205187 ,  0.        ],\n",
              "        [ 2.9651701 ,  0.        ,  0.        , ...,  0.        ,\n",
              "          5.413895  ,  0.        ],\n",
              "        [ 9.76308   ,  0.        ,  0.        , ...,  0.        ,\n",
              "          5.01201   , 10.676265  ]],\n",
              "\n",
              "       [[ 0.        ,  0.        ,  4.151062  , ...,  0.        ,\n",
              "          7.612549  , 10.032908  ],\n",
              "        [11.579339  ,  0.        ,  0.6804625 , ...,  0.        ,\n",
              "          7.249631  , 14.146056  ],\n",
              "        [ 8.438627  ,  0.77505976,  0.5874276 , ...,  0.        ,\n",
              "          8.616303  ,  9.321023  ]]], dtype=float32)"
            ]
          },
          "metadata": {
            "tags": []
          },
          "execution_count": 44
        }
      ]
    },
    {
      "cell_type": "markdown",
      "metadata": {
        "id": "cr3I-O1YmcQB",
        "colab_type": "text"
      },
      "source": [
        "Since, the convolution feature map of the input of size *28x28* is *3x3*, we resize the output feature map to the original image size, so as easy to visualize."
      ]
    },
    {
      "cell_type": "code",
      "metadata": {
        "id": "QIHlsc0oe5sh",
        "colab_type": "code",
        "colab": {}
      },
      "source": [
        "height_roomout = X_train.shape[1]/conv_feat.shape[1]\n",
        "width_roomout  = X_train.shape[2]/conv_feat.shape[2]\n",
        " \n",
        "cam_features = scipy.ndimage.zoom(conv_feat[0], (height_roomout, width_roomout, 1), order=2)"
      ],
      "execution_count": 0,
      "outputs": []
    },
    {
      "cell_type": "code",
      "metadata": {
        "id": "xI4W37seko2S",
        "colab_type": "code",
        "colab": {
          "base_uri": "https://localhost:8080/",
          "height": 34
        },
        "outputId": "8ef21ae7-0723-44c5-a242-4c0c15ce8055"
      },
      "source": [
        "cam_features.shape"
      ],
      "execution_count": 73,
      "outputs": [
        {
          "output_type": "execute_result",
          "data": {
            "text/plain": [
              "(28, 28, 128)"
            ]
          },
          "metadata": {
            "tags": []
          },
          "execution_count": 73
        }
      ]
    },
    {
      "cell_type": "code",
      "metadata": {
        "id": "fgiVfzK5kozx",
        "colab_type": "code",
        "colab": {
          "base_uri": "https://localhost:8080/",
          "height": 34
        },
        "outputId": "cd8bd69b-478d-4304-b26f-f958e47f1416"
      },
      "source": [
        "print(height_roomout, width_roomout)"
      ],
      "execution_count": 86,
      "outputs": [
        {
          "output_type": "stream",
          "text": [
            "9.333333333333334 9.333333333333334\n"
          ],
          "name": "stdout"
        }
      ]
    },
    {
      "cell_type": "code",
      "metadata": {
        "id": "KOVx_NKKkoxS",
        "colab_type": "code",
        "colab": {}
      },
      "source": [
        ""
      ],
      "execution_count": 0,
      "outputs": []
    },
    {
      "cell_type": "markdown",
      "metadata": {
        "id": "6sSwwbxZTt7f",
        "colab_type": "text"
      },
      "source": [
        "### GAP Layer\n",
        "Getting GAP layer weights"
      ]
    },
    {
      "cell_type": "code",
      "metadata": {
        "id": "m0wfcJB3TnoB",
        "colab_type": "code",
        "colab": {}
      },
      "source": [
        "gap_weights = model.layers[-1].get_weights()[0]"
      ],
      "execution_count": 0,
      "outputs": []
    },
    {
      "cell_type": "code",
      "metadata": {
        "id": "GOdMjs_xTni5",
        "colab_type": "code",
        "colab": {
          "base_uri": "https://localhost:8080/",
          "height": 34
        },
        "outputId": "198ac220-b69d-4658-fe16-f8cf2e7c4ff5"
      },
      "source": [
        "gap_weights.shape"
      ],
      "execution_count": 75,
      "outputs": [
        {
          "output_type": "execute_result",
          "data": {
            "text/plain": [
              "(128, 10)"
            ]
          },
          "metadata": {
            "tags": []
          },
          "execution_count": 75
        }
      ]
    },
    {
      "cell_type": "code",
      "metadata": {
        "id": "O3B9Hr9TUBDh",
        "colab_type": "code",
        "colab": {}
      },
      "source": [
        "cam_output = np.dot(cam_features, gap_weights)"
      ],
      "execution_count": 0,
      "outputs": []
    },
    {
      "cell_type": "code",
      "metadata": {
        "id": "wIDiWEmKfgPY",
        "colab_type": "code",
        "colab": {
          "base_uri": "https://localhost:8080/",
          "height": 34
        },
        "outputId": "83b1b848-cbd9-4bf0-e25e-d9b6159c55ad"
      },
      "source": [
        "cam_output.shape"
      ],
      "execution_count": 79,
      "outputs": [
        {
          "output_type": "execute_result",
          "data": {
            "text/plain": [
              "(28, 28, 10)"
            ]
          },
          "metadata": {
            "tags": []
          },
          "execution_count": 79
        }
      ]
    },
    {
      "cell_type": "markdown",
      "metadata": {
        "id": "S0NOXUJFfiUj",
        "colab_type": "text"
      },
      "source": [
        "Visualizing the feature map for 7th class"
      ]
    },
    {
      "cell_type": "code",
      "metadata": {
        "id": "xNsCPZW6ULHJ",
        "colab_type": "code",
        "colab": {
          "base_uri": "https://localhost:8080/",
          "height": 265
        },
        "outputId": "872db106-7b1f-422f-9d0a-b82eed326aa1"
      },
      "source": [
        "plt.imshow(X_test[0][:,:,0], alpha=0.5)\n",
        "plt.imshow(cam_output[:, :, 7], cmap=\"jet\", alpha=0.5)\n",
        "plt.show()"
      ],
      "execution_count": 85,
      "outputs": [
        {
          "output_type": "display_data",
          "data": {
            "image/png": "[encoded data removed]",
            "text/plain": [
              "<Figure size 432x288 with 1 Axes>"
            ]
          },
          "metadata": {
            "tags": []
          }
        }
      ]
    },
    {
      "cell_type": "markdown",
      "metadata": {
        "id": "xfAV381SmsGz",
        "colab_type": "text"
      },
      "source": [
        "Here, the visualization is not very \"correct\", as it focuses most on the centre part of the image. \n",
        "<br><br><br>\n",
        "Maybe it would help if we don't use maxpool as then the output feature map would be of the same size as that of the input image(28x28), however that would greatly increase the training size & is not feasible for larger dimension images."
      ]
    },
    {
      "cell_type": "code",
      "metadata": {
        "id": "02v7bQXKk65l",
        "colab_type": "code",
        "colab": {}
      },
      "source": [
        ""
      ],
      "execution_count": 0,
      "outputs": []
    },
    {
      "cell_type": "markdown",
      "metadata": {
        "id": "l9VFu_c_nr5L",
        "colab_type": "text"
      },
      "source": [
        ""
      ]
    },
    {
      "cell_type": "markdown",
      "metadata": {
        "colab_type": "text",
        "id": "akzQkpLxntH-"
      },
      "source": [
        "## Modelling (without maxpool)"
      ]
    },
    {
      "cell_type": "code",
      "metadata": {
        "colab_type": "code",
        "id": "Y3EJAZV4ntIC",
        "colab": {}
      },
      "source": [
        "model = Sequential()\n",
        "model.add(Conv2D(16, input_shape=(28,28,1), kernel_size=(3,3), activation='relu', padding='same'))\n",
        "model.add(Conv2D(32, kernel_size=(3,3), activation='relu', padding='same'))\n",
        "model.add(Conv2D(64, kernel_size=(3,3), activation='relu', padding='same'))\n",
        "model.add(Conv2D(128,kernel_size=(3,3), activation='relu', padding='same'))\n",
        "model.add(GlobalAveragePooling2D())\n",
        "model.add(Dense(10,activation='softmax'))"
      ],
      "execution_count": 0,
      "outputs": []
    },
    {
      "cell_type": "code",
      "metadata": {
        "colab_type": "code",
        "outputId": "71870d1d-b458-42fa-b526-c7e643dd5138",
        "id": "WjYjFVrEntIE",
        "colab": {
          "base_uri": "https://localhost:8080/",
          "height": 357
        }
      },
      "source": [
        "model.summary()"
      ],
      "execution_count": 88,
      "outputs": [
        {
          "output_type": "stream",
          "text": [
            "Model: \"sequential_2\"\n",
            "_________________________________________________________________\n",
            "Layer (type)                 Output Shape              Param #   \n",
            "=================================================================\n",
            "conv2d_8 (Conv2D)            (None, 28, 28, 16)        160       \n",
            "_________________________________________________________________\n",
            "conv2d_9 (Conv2D)            (None, 28, 28, 32)        4640      \n",
            "_________________________________________________________________\n",
            "conv2d_10 (Conv2D)           (None, 28, 28, 64)        18496     \n",
            "_________________________________________________________________\n",
            "conv2d_11 (Conv2D)           (None, 28, 28, 128)       73856     \n",
            "_________________________________________________________________\n",
            "global_average_pooling2d_2 ( (None, 128)               0         \n",
            "_________________________________________________________________\n",
            "dense_2 (Dense)              (None, 10)                1290      \n",
            "=================================================================\n",
            "Total params: 98,442\n",
            "Trainable params: 98,442\n",
            "Non-trainable params: 0\n",
            "_________________________________________________________________\n"
          ],
          "name": "stdout"
        }
      ]
    },
    {
      "cell_type": "markdown",
      "metadata": {
        "id": "QNlx6jf4oSoQ",
        "colab_type": "text"
      },
      "source": [
        "**Notice that the output of the last convolutional feature map is same as the input image**"
      ]
    },
    {
      "cell_type": "code",
      "metadata": {
        "colab_type": "code",
        "outputId": "ae026226-5aff-41bf-c1a1-5305a819e60d",
        "id": "65h7SHBlntIJ",
        "colab": {
          "base_uri": "https://localhost:8080/",
          "height": 661
        }
      },
      "source": [
        "plot_model(model)"
      ],
      "execution_count": 90,
      "outputs": [
        {
          "output_type": "execute_result",
          "data": {
            "image/png": "[encoded data removed]",
            "text/plain": [
              "<IPython.core.display.Image object>"
            ]
          },
          "metadata": {
            "tags": []
          },
          "execution_count": 90
        }
      ]
    },
    {
      "cell_type": "code",
      "metadata": {
        "colab_type": "code",
        "id": "vMduXqL6ntIL",
        "colab": {}
      },
      "source": [
        "model.compile(loss=\"sparse_categorical_crossentropy\", metrics=[\"accuracy\"], optimizer=\"adam\")"
      ],
      "execution_count": 0,
      "outputs": []
    },
    {
      "cell_type": "code",
      "metadata": {
        "colab_type": "code",
        "outputId": "a8d532ea-6a87-49e0-81b7-8754c1b01ddc",
        "id": "KHgIjD7kntIM",
        "colab": {
          "base_uri": "https://localhost:8080/",
          "height": 153
        }
      },
      "source": [
        "model.fit(X_train, y_train, epochs=3, batch_size=64)"
      ],
      "execution_count": 92,
      "outputs": [
        {
          "output_type": "stream",
          "text": [
            "Train on 60000 samples\n",
            "Epoch 1/3\n",
            "60000/60000 [==============================] - 596s 10ms/sample - loss: 0.9976 - accuracy: 0.6652\n",
            "Epoch 2/3\n",
            "60000/60000 [==============================] - 574s 10ms/sample - loss: 0.4005 - accuracy: 0.8815\n",
            "Epoch 3/3\n",
            "60000/60000 [==============================] - 552s 9ms/sample - loss: 0.2773 - accuracy: 0.9187\n"
          ],
          "name": "stdout"
        },
        {
          "output_type": "execute_result",
          "data": {
            "text/plain": [
              "<tensorflow.python.keras.callbacks.History at 0x7f2fdf2898d0>"
            ]
          },
          "metadata": {
            "tags": []
          },
          "execution_count": 92
        }
      ]
    },
    {
      "cell_type": "code",
      "metadata": {
        "colab_type": "code",
        "id": "3HWCTcVsntIO",
        "colab": {}
      },
      "source": [
        "model.save('trained_model_without_maxpool.h5')"
      ],
      "execution_count": 0,
      "outputs": []
    },
    {
      "cell_type": "code",
      "metadata": {
        "colab_type": "code",
        "id": "DuZZabncntIS",
        "colab": {}
      },
      "source": [
        ""
      ],
      "execution_count": 0,
      "outputs": []
    },
    {
      "cell_type": "markdown",
      "metadata": {
        "colab_type": "text",
        "id": "S8lywfz7oJeB"
      },
      "source": [
        "## CAM Prediction\n",
        "\n",
        "Model to get the output of the last convolution block and classification prediction"
      ]
    },
    {
      "cell_type": "code",
      "metadata": {
        "colab_type": "code",
        "id": "tS9KX-JBoJeC",
        "colab": {}
      },
      "source": [
        "# 1. conv_feat: model.layers[-3].output would give us the output of the last convolution block\n",
        "# 2. class_res: model.layers[-1].output would give us classification output\n",
        "cam_model  = Model(inputs=model.input, \n",
        "                   outputs=(model.layers[-3].output, model.layers[-1].output))\n"
      ],
      "execution_count": 0,
      "outputs": []
    },
    {
      "cell_type": "code",
      "metadata": {
        "colab_type": "code",
        "outputId": "22d5549a-b691-4245-ecd6-9b03001d27de",
        "id": "Cn0vKuPcoJeE",
        "colab": {
          "base_uri": "https://localhost:8080/",
          "height": 391
        }
      },
      "source": [
        "cam_model.summary()"
      ],
      "execution_count": 95,
      "outputs": [
        {
          "output_type": "stream",
          "text": [
            "Model: \"model_1\"\n",
            "_________________________________________________________________\n",
            "Layer (type)                 Output Shape              Param #   \n",
            "=================================================================\n",
            "conv2d_8_input (InputLayer)  [(None, 28, 28, 1)]       0         \n",
            "_________________________________________________________________\n",
            "conv2d_8 (Conv2D)            (None, 28, 28, 16)        160       \n",
            "_________________________________________________________________\n",
            "conv2d_9 (Conv2D)            (None, 28, 28, 32)        4640      \n",
            "_________________________________________________________________\n",
            "conv2d_10 (Conv2D)           (None, 28, 28, 64)        18496     \n",
            "_________________________________________________________________\n",
            "conv2d_11 (Conv2D)           (None, 28, 28, 128)       73856     \n",
            "_________________________________________________________________\n",
            "global_average_pooling2d_2 ( (None, 128)               0         \n",
            "_________________________________________________________________\n",
            "dense_2 (Dense)              (None, 10)                1290      \n",
            "=================================================================\n",
            "Total params: 98,442\n",
            "Trainable params: 98,442\n",
            "Non-trainable params: 0\n",
            "_________________________________________________________________\n"
          ],
          "name": "stdout"
        }
      ]
    },
    {
      "cell_type": "code",
      "metadata": {
        "colab_type": "code",
        "id": "jioo4Zk_oJeK",
        "colab": {}
      },
      "source": [
        "test_img = np.expand_dims(X_test[0], axis=0)"
      ],
      "execution_count": 0,
      "outputs": []
    },
    {
      "cell_type": "code",
      "metadata": {
        "colab_type": "code",
        "id": "P0m1C5xfoJeO",
        "colab": {}
      },
      "source": [
        "conv_feat, class_res = cam_model.predict(test_img)"
      ],
      "execution_count": 0,
      "outputs": []
    },
    {
      "cell_type": "code",
      "metadata": {
        "colab_type": "code",
        "outputId": "384d71e8-2913-4004-a243-2471eb89cc11",
        "id": "lHkMdvQ3oJeP",
        "colab": {
          "base_uri": "https://localhost:8080/",
          "height": 34
        }
      },
      "source": [
        "print(conv_feat.shape, class_res.shape)"
      ],
      "execution_count": 98,
      "outputs": [
        {
          "output_type": "stream",
          "text": [
            "(1, 28, 28, 128) (1, 10)\n"
          ],
          "name": "stdout"
        }
      ]
    },
    {
      "cell_type": "markdown",
      "metadata": {
        "colab_type": "text",
        "id": "whpedqJ_oJeR"
      },
      "source": [
        "### Classification"
      ]
    },
    {
      "cell_type": "code",
      "metadata": {
        "colab_type": "code",
        "outputId": "a79cee18-a19f-49d2-92e6-60ac4fbfbfae",
        "id": "zbPlePcMoJeU",
        "colab": {
          "base_uri": "https://localhost:8080/",
          "height": 68
        }
      },
      "source": [
        "class_res"
      ],
      "execution_count": 99,
      "outputs": [
        {
          "output_type": "execute_result",
          "data": {
            "text/plain": [
              "array([[6.5375747e-07, 5.3884941e-07, 5.2906962e-05, 4.5078045e-06,\n",
              "        5.1624347e-08, 2.3197019e-06, 2.9841245e-09, 9.9953818e-01,\n",
              "        3.6860424e-08, 4.0081909e-04]], dtype=float32)"
            ]
          },
          "metadata": {
            "tags": []
          },
          "execution_count": 99
        }
      ]
    },
    {
      "cell_type": "code",
      "metadata": {
        "colab_type": "code",
        "outputId": "c483fff6-159c-4fb2-fe93-3a5801e811a0",
        "id": "72sDTUvjoJeW",
        "colab": {
          "base_uri": "https://localhost:8080/",
          "height": 282
        }
      },
      "source": [
        "plt.imshow(X_test[0][:,:,0], cmap=\"gray\")"
      ],
      "execution_count": 100,
      "outputs": [
        {
          "output_type": "execute_result",
          "data": {
            "text/plain": [
              "<matplotlib.image.AxesImage at 0x7f2fd83bf320>"
            ]
          },
          "metadata": {
            "tags": []
          },
          "execution_count": 100
        },
        {
          "output_type": "display_data",
          "data": {
            "image/png": "[encoded data removed]",
            "text/plain": [
              "<Figure size 432x288 with 1 Axes>"
            ]
          },
          "metadata": {
            "tags": []
          }
        }
      ]
    },
    {
      "cell_type": "code",
      "metadata": {
        "colab_type": "code",
        "outputId": "35bb2557-b1c5-4970-9317-68350e5d67a6",
        "id": "OCCcgmsxoJeZ",
        "colab": {
          "base_uri": "https://localhost:8080/",
          "height": 34
        }
      },
      "source": [
        "pred_class = np.argmax(class_res)\n",
        "pred_class"
      ],
      "execution_count": 101,
      "outputs": [
        {
          "output_type": "execute_result",
          "data": {
            "text/plain": [
              "7"
            ]
          },
          "metadata": {
            "tags": []
          },
          "execution_count": 101
        }
      ]
    },
    {
      "cell_type": "markdown",
      "metadata": {
        "colab_type": "text",
        "id": "uaXQcftUoJef"
      },
      "source": [
        "### Convolution Feature"
      ]
    },
    {
      "cell_type": "code",
      "metadata": {
        "colab_type": "code",
        "outputId": "be3c4121-5ac7-42e1-9a4d-b54835a7338a",
        "id": "TVM1zT_yoJeg",
        "colab": {
          "base_uri": "https://localhost:8080/",
          "height": 34
        }
      },
      "source": [
        "conv_feat.shape"
      ],
      "execution_count": 102,
      "outputs": [
        {
          "output_type": "execute_result",
          "data": {
            "text/plain": [
              "(1, 28, 28, 128)"
            ]
          },
          "metadata": {
            "tags": []
          },
          "execution_count": 102
        }
      ]
    },
    {
      "cell_type": "markdown",
      "metadata": {
        "colab_type": "text",
        "id": "_MHkCXo9oJel"
      },
      "source": [
        "Since, the convolution feature map of the input of size *28x28* is *3x3*, we resize the output feature map to the original image size, so as easy to visualize."
      ]
    },
    {
      "cell_type": "code",
      "metadata": {
        "colab_type": "code",
        "id": "OhX5vZR2oJeq",
        "colab": {}
      },
      "source": [
        ""
      ],
      "execution_count": 0,
      "outputs": []
    },
    {
      "cell_type": "markdown",
      "metadata": {
        "colab_type": "text",
        "id": "b6pV-32zoJer"
      },
      "source": [
        "### GAP Layer\n",
        "Getting GAP layer weights"
      ]
    },
    {
      "cell_type": "code",
      "metadata": {
        "colab_type": "code",
        "id": "y9oqLlsBoJew",
        "colab": {}
      },
      "source": [
        "gap_weights = model.layers[-1].get_weights()[0]"
      ],
      "execution_count": 0,
      "outputs": []
    },
    {
      "cell_type": "code",
      "metadata": {
        "colab_type": "code",
        "outputId": "590e3af9-9a59-447c-f342-ba54fca4ad71",
        "id": "q0y7wmhzoJez",
        "colab": {
          "base_uri": "https://localhost:8080/",
          "height": 34
        }
      },
      "source": [
        "gap_weights.shape"
      ],
      "execution_count": 104,
      "outputs": [
        {
          "output_type": "execute_result",
          "data": {
            "text/plain": [
              "(128, 10)"
            ]
          },
          "metadata": {
            "tags": []
          },
          "execution_count": 104
        }
      ]
    },
    {
      "cell_type": "code",
      "metadata": {
        "colab_type": "code",
        "id": "O9FzIEzhoJe0",
        "colab": {}
      },
      "source": [
        "cam_output = np.dot(conv_feat[0], gap_weights)"
      ],
      "execution_count": 0,
      "outputs": []
    },
    {
      "cell_type": "code",
      "metadata": {
        "colab_type": "code",
        "outputId": "cf2fd5c2-b4c0-4356-91d6-0323d9181b0d",
        "id": "HH1ZHqAgoJe2",
        "colab": {
          "base_uri": "https://localhost:8080/",
          "height": 34
        }
      },
      "source": [
        "cam_output.shape"
      ],
      "execution_count": 106,
      "outputs": [
        {
          "output_type": "execute_result",
          "data": {
            "text/plain": [
              "(28, 28, 10)"
            ]
          },
          "metadata": {
            "tags": []
          },
          "execution_count": 106
        }
      ]
    },
    {
      "cell_type": "markdown",
      "metadata": {
        "colab_type": "text",
        "id": "H3ODS1tGoJe4"
      },
      "source": [
        "Visualizing the feature map for 7th class"
      ]
    },
    {
      "cell_type": "code",
      "metadata": {
        "colab_type": "code",
        "outputId": "66e56f1d-ac03-41e5-cb47-0aab46d84607",
        "id": "8sFIGH5aoJe5",
        "colab": {
          "base_uri": "https://localhost:8080/",
          "height": 265
        }
      },
      "source": [
        "plt.imshow(X_test[0][:,:,0], alpha=0.5)\n",
        "plt.imshow(cam_output[:, :, 7], cmap=\"jet\", alpha=0.5)\n",
        "plt.show()"
      ],
      "execution_count": 107,
      "outputs": [
        {
          "output_type": "display_data",
          "data": {
            "image/png": "[encoded data removed]",
            "text/plain": [
              "<Figure size 432x288 with 1 Axes>"
            ]
          },
          "metadata": {
            "tags": []
          }
        }
      ]
    },
    {
      "cell_type": "markdown",
      "metadata": {
        "id": "xSRsFZ59zezD",
        "colab_type": "text"
      },
      "source": [
        "This looks lot better, as it gives a clear indication where the network is looking & is able to map the conv feature map without the input image properly"
      ]
    },
    {
      "cell_type": "markdown",
      "metadata": {
        "colab_type": "text",
        "id": "c9WKwwiIoJe-"
      },
      "source": [
        "## Using the `keras-vis` library"
      ]
    },
    {
      "cell_type": "code",
      "metadata": {
        "id": "HG2yDBiwuIWU",
        "colab_type": "code",
        "colab": {}
      },
      "source": [
        "!pip install keras-vis"
      ],
      "execution_count": 0,
      "outputs": []
    },
    {
      "cell_type": "code",
      "metadata": {
        "id": "3uTIAtsWviJO",
        "colab_type": "code",
        "colab": {}
      },
      "source": [
        "import os\n",
        "import tempfile\n",
        "import keras\n",
        "from vis.visualization import visualize_cam\n",
        "from tensorflow.keras.initializers import glorot_uniform"
      ],
      "execution_count": 0,
      "outputs": []
    },
    {
      "cell_type": "code",
      "metadata": {
        "id": "RpnDbsc4uIRa",
        "colab_type": "code",
        "colab": {}
      },
      "source": [
        "# selecting the last layer\n",
        "layer_idx = -1"
      ],
      "execution_count": 0,
      "outputs": []
    },
    {
      "cell_type": "code",
      "metadata": {
        "id": "xUi9mRAUwBAl",
        "colab_type": "code",
        "colab": {}
      },
      "source": [
        "model = tf.keras.models.load_model(\"trained_model_without_maxpool.h5\")"
      ],
      "execution_count": 0,
      "outputs": []
    },
    {
      "cell_type": "code",
      "metadata": {
        "id": "TNwB7zQpu-3n",
        "colab_type": "code",
        "colab": {}
      },
      "source": [
        "# swap softmax with linear\n",
        "model.layers[layer_idx].activation = keras.activations.linear"
      ],
      "execution_count": 0,
      "outputs": []
    },
    {
      "cell_type": "code",
      "metadata": {
        "id": "sQayxGXYxF0C",
        "colab_type": "code",
        "colab": {}
      },
      "source": [
        "model_path = os.path.join(tempfile.gettempdir(), next(tempfile._get_candidate_names()) + '.h5')\n",
        "try:\n",
        "  model.save(model_path)\n",
        "  model = tf.keras.models.load_model(model_path, custom_objects={'GlorotUniform': glorot_uniform()})\n",
        "finally:\n",
        "        os.remove(model_path)"
      ],
      "execution_count": 0,
      "outputs": []
    },
    {
      "cell_type": "code",
      "metadata": {
        "id": "HZ_QhmEFw0Zy",
        "colab_type": "code",
        "colab": {
          "base_uri": "https://localhost:8080/",
          "height": 357
        },
        "outputId": "f39e339e-5084-4543-e446-16cce71a23cb"
      },
      "source": [
        "model.summary()"
      ],
      "execution_count": 139,
      "outputs": [
        {
          "output_type": "stream",
          "text": [
            "Model: \"sequential_2\"\n",
            "_________________________________________________________________\n",
            "Layer (type)                 Output Shape              Param #   \n",
            "=================================================================\n",
            "conv2d_8 (Conv2D)            (None, 28, 28, 16)        160       \n",
            "_________________________________________________________________\n",
            "conv2d_9 (Conv2D)            (None, 28, 28, 32)        4640      \n",
            "_________________________________________________________________\n",
            "conv2d_10 (Conv2D)           (None, 28, 28, 64)        18496     \n",
            "_________________________________________________________________\n",
            "conv2d_11 (Conv2D)           (None, 28, 28, 128)       73856     \n",
            "_________________________________________________________________\n",
            "global_average_pooling2d_2 ( (None, 128)               0         \n",
            "_________________________________________________________________\n",
            "dense_2 (Dense)              (None, 10)                1290      \n",
            "=================================================================\n",
            "Total params: 98,442\n",
            "Trainable params: 98,442\n",
            "Non-trainable params: 0\n",
            "_________________________________________________________________\n"
          ],
          "name": "stdout"
        }
      ]
    },
    {
      "cell_type": "code",
      "metadata": {
        "id": "jpxVLrLGxvP_",
        "colab_type": "code",
        "colab": {}
      },
      "source": [
        "penultimate_layer_idx = -3\n",
        "class_idx  = 7"
      ],
      "execution_count": 0,
      "outputs": []
    },
    {
      "cell_type": "code",
      "metadata": {
        "id": "sBCIBkPexzSk",
        "colab_type": "code",
        "colab": {
          "base_uri": "https://localhost:8080/",
          "height": 215
        },
        "outputId": "b310d54e-fcf2-42d9-f227-9239e004e7a2"
      },
      "source": [
        "grad_top1  = visualize_cam(model, layer_idx, class_idx, test_img, \n",
        "                           penultimate_layer_idx = penultimate_layer_idx,\n",
        "                           backprop_modifier=None,\n",
        "                           grad_modifier=None)"
      ],
      "execution_count": 142,
      "outputs": [
        {
          "output_type": "error",
          "ename": "NameError",
          "evalue": "ignored",
          "traceback": [
            "\u001b[0;31m---------------------------------------------------------------------------\u001b[0m",
            "\u001b[0;31mNameError\u001b[0m                                 Traceback (most recent call last)",
            "\u001b[0;32m<ipython-input-142-72c288ee9cb1>\u001b[0m in \u001b[0;36m<module>\u001b[0;34m()\u001b[0m\n\u001b[0;32m----> 1\u001b[0;31m grad_top1  = visualize_cam(model, layer_idx, class_idx, test_img, \n\u001b[0m\u001b[1;32m      2\u001b[0m                            \u001b[0mpenultimate_layer_idx\u001b[0m \u001b[0;34m=\u001b[0m \u001b[0mpenultimate_layer_idx\u001b[0m\u001b[0;34m,\u001b[0m\u001b[0;34m\u001b[0m\u001b[0;34m\u001b[0m\u001b[0m\n\u001b[1;32m      3\u001b[0m                            \u001b[0mbackprop_modifier\u001b[0m\u001b[0;34m=\u001b[0m\u001b[0;32mNone\u001b[0m\u001b[0;34m,\u001b[0m\u001b[0;34m\u001b[0m\u001b[0;34m\u001b[0m\u001b[0m\n\u001b[1;32m      4\u001b[0m                            grad_modifier=None)\n",
            "\u001b[0;31mNameError\u001b[0m: name 'visualize_cam' is not defined"
          ]
        }
      ]
    },
    {
      "cell_type": "markdown",
      "metadata": {
        "id": "rfV8cqj9zG1n",
        "colab_type": "text"
      },
      "source": [
        "Looks like the support for CAM visualization has been removed from the `vis` library as I could not find the code for it in the [official repository](https://github.com/raghakot/keras-vis)"
      ]
    },
    {
      "cell_type": "code",
      "metadata": {
        "id": "GQoLuS-exzMs",
        "colab_type": "code",
        "colab": {}
      },
      "source": [
        ""
      ],
      "execution_count": 0,
      "outputs": []
    }
  ]
}